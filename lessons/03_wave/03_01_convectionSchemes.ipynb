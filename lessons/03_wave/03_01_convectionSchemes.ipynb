{
 "metadata": {
  "name": "",
  "signature": "sha256:a491267f6dbea253736c5041dbd91f7202a690d9405e90a0473192cbf602fad9"
 },
 "nbformat": 3,
 "nbformat_minor": 0,
 "worksheets": [
  {
   "cells": [
    {
     "cell_type": "heading",
     "level": 6,
     "metadata": {},
     "source": [
      "Content under Creative Commons Attribution license CC-BY 4.0, code under MIT license (c)2014 L.A. Barba, G.F. Forsyth, C.D. Cooper. Based on [CFD Python](https://github.com/barbagroup/CFDPython), (c)2013 L.A. Barba (CC-BY), and uses material from [HyperPython](https://github.com/ketch/HyperPython), (c)2014 D.I. Ketcheson (CC-BY)."
     ]
    },
    {
     "cell_type": "heading",
     "level": 1,
     "metadata": {},
     "source": [
      "Riding the wave"
     ]
    },
    {
     "cell_type": "heading",
     "level": 2,
     "metadata": {},
     "source": [
      "Convection problems"
     ]
    },
    {
     "cell_type": "markdown",
     "metadata": {},
     "source": [
      "Welcome to *Riding the wave: convection problems*, the third module of  [\"Practical Numerical Methods with Python\"](http://openedx.seas.gwu.edu/courses/GW/MAE6286/2014_fall/about). \n",
      "\n",
      "In the [first module](https://github.com/numerical-mooc/numerical-mooc/tree/master/lessons/01_phugoid), we learned about numerical integration methods for the solution of ordinary differential equations (ODEs). Then, the [second module](https://github.com/numerical-mooc/numerical-mooc/tree/master/lessons/02_spacetime) introduced the numerical solution of partial differential equations (PDEs) with the finite difference method, where our solver stepped in both *space* and *time*.\n",
      "\n",
      "This module goes deeper in the convection equation, which you might remember from [Lesson 1 of Module 2](http://nbviewer.ipython.org/github/numerical-mooc/numerical-mooc/blob/master/lessons/02_spacetime/02_01_1DConvection.ipynb). This hyperbolic equation is very interesting because the solution can develop *shocks*, or regions with very high gradient, which are difficult to resolve well with numerical methods. We will start by introducing conservation laws and how they are related to the convection equation, to then discuss different numerical schemes using the traffic flow model from Module 2's graded assessment as a motivation. The second notebook will test those schemes on Euler equations, a non-linear hyperbolic set of equations that models the behavior of inviscid, compressible flows, like air. Then, we will explore higher order methods, to finish with some more advanced techniques that help resolve shocks better."
     ]
    },
    {
     "cell_type": "heading",
     "level": 2,
     "metadata": {},
     "source": [
      "Non-linear convection as a conservation law"
     ]
    },
    {
     "cell_type": "markdown",
     "metadata": {},
     "source": [
      "Let's say we have a fluid of density $\\rho(x,t)$ flowing inside a tube. Assuming that $\\rho$ is constant within the cross-section area of the tube ($A$), the total amount of of fluid between the points $x_1$ and $x_2$ is\n",
      "\n",
      "\\begin{equation}A \\int_{x_1}^{x_2} \\rho(x,t) dx\\end{equation}\n",
      "\n",
      "If there is a change in the total amount of fluid, fluid must be coming in or out through points $x_1$ or $x_2$. Let's define a *flux* of mass $F(\\rho(x,t))$, as the rate of flow passing through a point $x$, per unit area. Then, the net rate of flow in or out of our volume of interest is\n",
      "\n",
      "\\begin{equation} A (F(\\rho(x_1,t)) - F(\\rho(x_2,t))) \\end{equation}\n",
      "\n",
      "which can be written in integral form as\n",
      "\n",
      "\\begin{equation}A (F(\\rho(x_1,t)) - F(\\rho(x_2,t))) = -A \\int_{x_1}^{x_2} \\frac{\\partial}{\\partial x} F(\\rho(x,t)) dx\\end{equation}\n",
      "\n",
      "and must match the change of the amount of fluid in time:\n",
      "\n",
      "\\begin{equation}\\frac{d}{d t} \\int_{x_1}^{x_2} \\rho{x,t} dx = -\\int_{x_1}^{x_2} \\frac{\\partial}{\\partial x} F(\\rho(x,t)) dx.\\end{equation}\n",
      "\n",
      "We can rewrite this last equation as\n",
      "\n",
      "\\begin{equation}\\int_{x_1}^{x_2} \\left( \\frac{\\partial}{\\partial t} \\rho(x,t) + \\frac{\\partial}{\\partial x} F(\\rho(x,t)) \\right) dx = 0,\\end{equation}\n",
      "\n",
      "This equation is valid regardless the choice of $x_1$ and $x_2$, which means that what's inside the integral must be zero everywhere:\n",
      "\n",
      "\\begin{equation}\\frac{\\partial}{\\partial t} \\rho(x,t) + \\frac{\\partial}{\\partial x} F(\\rho(x,t)) = 0\\end{equation}\n",
      "\n",
      "This last equation represents a *conservation law* in differential form. Think about it: we got to this equation by enforcing that any change in the amount of fluid in a volume must be coming in or out from the edges. This intuitive physical concept says that no fluid is magically created or distroyed, in other words, the amount of fluid is *conserved*.\n",
      "\n",
      "In fluid mechanics, the flux per unit area is just the velocity times density $F=u\\rho$, and if we consider that the velocity is constant in $x$, we get\n",
      "\n",
      "\\begin{equation}\\frac{\\partial}{\\partial t} \\rho + u \\frac{\\partial \\rho}{\\partial x} = 0\\end{equation}\n",
      "\n",
      "\n",
      "Does that equation look familiar? It looks a lot like the linear convection equation in [Lesson 1 of Module 2](http://nbviewer.ipython.org/github/numerical-mooc/numerical-mooc/blob/master/lessons/02_spacetime/02_01_1DConvection.ipynb)!\n",
      "\n",
      "But what about the non-linear convection equation from [Lesson 1 of Module 2](http://nbviewer.ipython.org/github/numerical-mooc/numerical-mooc/blob/master/lessons/02_spacetime/02_01_1DConvection.ipynb)? It was:\n",
      "\n",
      "\\begin{equation}\\frac{\\partial u}{\\partial t} + u \\frac{\\partial u}{\\partial x} = 0\\end{equation}\n",
      "\n",
      "If we look closer to the spatial derivation, we can rewrite this equation as:\n",
      "\n",
      "\\begin{equation}\\frac{\\partial u}{\\partial t} + \\frac{\\partial}{\\partial x} \\left(\\frac{u^2}{2} \\right) = 0\\end{equation}\n",
      "\n",
      "Which is the *conservation form* of the non-linear convection equation, with flux $F=\\frac{u^2}{2}$"
     ]
    },
    {
     "cell_type": "heading",
     "level": 2,
     "metadata": {},
     "source": [
      "Traffic flow model"
     ]
    },
    {
     "cell_type": "markdown",
     "metadata": {},
     "source": [
      "Let's review the [Lighthill-Whitham-Richards](http://en.wikipedia.org/wiki/Macroscopic_traffic_flow_model) traffic model that you solved for the graded assessment in Module 2. This model considers cars with a continuous *car density* (average number of cars per unit length of road) rather than keeping track of them individually. Then, $\\rho(x)=0$ means that there are no cars at that point $x$ of the road, and $\\rho(x) = \\rho_{\\rm max}$ when no more cars fit at point x.\n",
      "\n",
      "If the number of cars in the road changes, it means that they are entering or leaving the road somehow. Then, the density of cars must obey a conservation law! where the flux, or number of cars leaving the road per unit time, is given by $F=u\\rho$. One easy approximation would be to assume cars will go at a constant speed, but that is far for true. The next easiest approximation is to model the drivers behavior as a linear function:\n",
      "\n",
      "\\begin{equation}u(\\rho) = u_{\\rm max} \\left(1-\\frac{\\rho}{\\rho_{\\rm max}}\\right).\\end{equation}\n",
      "\n",
      "This linear model of the drivers' behavior hopes that they all respect the speed limit $u_{\\rm max}$, and says that cars will travel at this speed if there is light traffic, and tend to slow down (and even stop!) as the traffic gets heavy. That is pretty much what happens in reality! Finally, the density of cars is given by:\n",
      "\n",
      "\\begin{equation} \\frac{\\partial \\rho}{\\partial t} + \\frac{\\partial F}{\\partial x} = 0 \\end{equation}\n",
      "\n",
      "where\n",
      "\n",
      "\\begin{equation} F = \\rho u_{\\rm max} \\left(1-\\frac{\\rho}{\\rho_{\\rm max}}\\right). \\end{equation}"
     ]
    },
    {
     "cell_type": "heading",
     "level": 2,
     "metadata": {},
     "source": [
      "Problem statement"
     ]
    },
    {
     "cell_type": "markdown",
     "metadata": {},
     "source": [
      "In the context of the traffic flow model, a shock, or sudden drop in the car density at point $x$, is sign of a traffic jam, for example, due to a red light at $x$. \n",
      "\n",
      "Let's say that we are examining a road of length $4$ where the speed limit is $u_{\\rm max}=1$, that fits only 1 car per unit length $(\\rho_{\\rm max}=1)$. Now, imagine we have a long red light at $x=2$, long enough that the road behind the stop light is filled with cars, and the road in front is clear. Mathematically, this translates to the following initial conditions:\n",
      "\n",
      "\\begin{equation}u(x,0) = \\left\\{ \\begin{array}{cc}\n",
      "1 & 0 \\leq x < 2  \\\\\n",
      "0 & 2 \\leq x \\leq 4 \\\\ \\end{array} \\right.\\end{equation}\n",
      "\n",
      "How does this initial condition look?"
     ]
    },
    {
     "cell_type": "code",
     "collapsed": false,
     "input": [
      "%matplotlib inline\n",
      "import numpy \n",
      "import matplotlib.pyplot as plt\n",
      "\n",
      "\n",
      "#Define a quick function to set up the initial square wave condition\n",
      "def rho_ic(nx, rho_max):\n",
      "    \"\"\"Computes initial condition with shock\n",
      "\n",
      "    Parameters\n",
      "    ----------\n",
      "    nx     : int\n",
      "        Number of grid points in x\n",
      "    rho_max: float\n",
      "        Maximum allowed car density\n",
      "        \n",
      "    Returns\n",
      "    -------\n",
      "    rho: array of floats\n",
      "        Array with initial values of density\n",
      "    \"\"\"\n",
      "    rho = numpy.ones(nx)\n",
      "    rho[(nx-1)/2:]=0\n",
      "    return rho\n",
      "\n",
      "#Basic initial condition parameters\n",
      "#defining grid size, time steps, CFL condition, etc...\n",
      "nx = 81\n",
      "nt = 30\n",
      "dx = 4.0/nx\n",
      "\n",
      "\n",
      "x = numpy.linspace(0,4,nx)\n",
      "\n",
      "rho_max = 1.\n",
      "V_max = 1.\n",
      "\n",
      "rho = rho_ic(nx, rho_max)\n",
      "plt.plot(x, rho, color='#003366', ls='-', lw=3)\n",
      "plt.ylim(-0.5,1.5);"
     ],
     "language": "python",
     "metadata": {},
     "outputs": []
    },
    {
     "cell_type": "markdown",
     "metadata": {},
     "source": [
      "**How does the traffic behave once the light turns green?** The cars in the front see an empty road, so we would expect them to move at $u=u_{\\rm max}$ and then the rest to move along behind. Then, the leading edge of the shock should move forward at the speed limit. Can a numerical method reporduce this?\n",
      "\n",
      "Next, we will solve this problem using different numerical schemes, to see how they perform under different CFL numbers. These schemes are:\n",
      "\n",
      "   * Lax-Friedrichs\n",
      "   * Lax-Wendroff\n",
      "   * MacCormack\n",
      "   * Beam & Warming\n",
      "   \n",
      "Before we start, let's define a few of useful functions"
     ]
    },
    {
     "cell_type": "code",
     "collapsed": false,
     "input": [
      "def computeF(V_max, rho_max, rho):\n",
      "    \"\"\"Computes flux F=V*rho\n",
      "\n",
      "    Parameters\n",
      "    ----------\n",
      "    V_max  : float\n",
      "        Maximum allowed velocity\n",
      "    rho    : array of floats\n",
      "        Array with density of cars at every point x\n",
      "    rho_max: float\n",
      "        Maximum allowed car density\n",
      "        \n",
      "    Returns\n",
      "    -------\n",
      "    F : array\n",
      "        Array with flux at every point x\n",
      "    \"\"\"\n",
      "    return V_max*rho*(1-rho/rho_max)\n",
      "\n",
      "def V(V_max, rho_max, rho):\n",
      "    \"\"\"Computes velocity from flux as V = F/rho\n",
      "\n",
      "    Parameters\n",
      "    ----------\n",
      "    V_max  : float\n",
      "        Maximum allowed velocity\n",
      "    rho    : array of floats\n",
      "        Array with density of cars at every point x\n",
      "    rho_max: float\n",
      "        Maximum allowed car density\n",
      "        \n",
      "    Returns\n",
      "    -------\n",
      "    V : array\n",
      "        Array with velocity at every point x\n",
      "    \"\"\"\n",
      "    F = computeF(V_max, rho, rho_max)\n",
      "    return F/rho\n",
      "\n"
     ],
     "language": "python",
     "metadata": {},
     "outputs": []
    },
    {
     "cell_type": "heading",
     "level": 2,
     "metadata": {},
     "source": [
      "Lax Friedrichs"
     ]
    },
    {
     "cell_type": "markdown",
     "metadata": {},
     "source": [
      "Lax-Friedrichs is an explicit, 1st order scheme, using forward-difference in time and central-difference in space.  However, notice that the $\\rho^n_i$ value is calculated as the average of its adjacent cells.  \n",
      "\n",
      "\\begin{equation}\\frac{\\rho_i^{n+1}-\\frac{1}{2}(\\rho^n_{i+1}+\\rho^n_{i-1})}{\\Delta t} = -\\frac{F^n_{i+1}-F^n_{i-1}}{2 \\Delta x}\\end{equation}\n",
      "\n",
      "Transposing this to solve for $\\rho^{n+1}_i$ yields:\n",
      "\n",
      "\\begin{equation}\\rho_i^{n+1} = \\frac{1}{2}(\\rho^n_{i+1}+\\rho^n_{i-1}) - \\frac{\\Delta t}{2 \\Delta x}(F^n_{i+1}-F^n_{i-1})\\end{equation}\n",
      "\n",
      "This scheme is implemented in the function below.  All the schemes in this notebook are wrapped in their own functions to help with displaying animations of the results.  This is also good coding practice!\n",
      "\n",
      "In order to display our animations, we're going to hold the results of each timestep in `u` in a 2D array.  So our array `rho_n` will have `nt` rows and `nx` columns."
     ]
    },
    {
     "cell_type": "code",
     "collapsed": false,
     "input": [
      "def laxfriedrichs(rho, nt, dt, dx, rho_max, V_max):\n",
      "    \"\"\" Computes the solution with Lax-Friedrichs scheme\n",
      "    \n",
      "    Parameters\n",
      "    ----------\n",
      "    rho    : array of floats\n",
      "            Density at current time-step\n",
      "    nt     : int\n",
      "            Number of time steps\n",
      "    dt     : float\n",
      "            Time-step size\n",
      "    dx     : float\n",
      "            Mesh spacing\n",
      "    rho_max: float\n",
      "            Maximum allowed car density\n",
      "    V_max  : float\n",
      "            Speed limit\n",
      "    \n",
      "    Returns\n",
      "    -------\n",
      "    rho_n : array of floats\n",
      "            Density after nt time steps at every point x\n",
      "    \"\"\"\n",
      "    \n",
      "    #initialize our results array with dimensions nt by nx\n",
      "    rho_n = np.zeros((nt,len(rho)))      \n",
      "    #copy the initial u array into each row of our new array\n",
      "    rho_n[:,:] = rho.copy()              \n",
      "    \n",
      "    '''\n",
      "    Now, for each timestep, we're going to calculate rho^n+1, \n",
      "    then set the value of rho equal to rho^n+1 so we can calculate \n",
      "    the next iteration.  For every timestep, the entire vector\n",
      "    rho^n is saved in a single row of our results array rho_n.\n",
      "    '''\n",
      "    for t in range(1,nt):\n",
      "        F = computeF(V_max, rho_max, rho)\n",
      "        rho_n[t,1:-1] = .5*(rho[2:]+rho[:-2]) - dt/(2*dx)*(F[2:]-F[:-2])\n",
      "        rho_n[t,0] = rho_max\n",
      "        rho = rho_n[t].copy()\n",
      "        \n",
      "    return rho_n"
     ],
     "language": "python",
     "metadata": {},
     "outputs": []
    },
    {
     "cell_type": "heading",
     "level": 3,
     "metadata": {},
     "source": [
      "Lax-Friedrichs with CFL=1"
     ]
    },
    {
     "cell_type": "markdown",
     "metadata": {},
     "source": [
      "We are now all set to run! First, let's try with CFL=1"
     ]
    },
    {
     "cell_type": "code",
     "collapsed": false,
     "input": [
      "sigma = 1.0\n",
      "dt = sigma*dx\n",
      "\n",
      "rho = rho_ic(nx, rho_max)      #make sure that u is set to our expected initial conditions\n",
      "rho_n = laxfriedrichs(rho, nt, dt, dx, rho_max, V_max)"
     ],
     "language": "python",
     "metadata": {},
     "outputs": []
    },
    {
     "cell_type": "markdown",
     "metadata": {},
     "source": [
      "We can ask NumPy to tell us the shape of our new array `un` and see if we have the dimensions we're expecting.  We should have `nt` rows and `nx` columns.  "
     ]
    },
    {
     "cell_type": "code",
     "collapsed": false,
     "input": [
      "rho_n.shape"
     ],
     "language": "python",
     "metadata": {},
     "outputs": []
    },
    {
     "cell_type": "markdown",
     "metadata": {},
     "source": [
      "Looks good!  Now in order to view the results in an animation, we'll import a few extra libraries.  The `JSAnimation` library is not part of the standard IPython install (yet!) but hopefully you installed it for [Lesson 3 of Module 2](http://nbviewer.ipython.org/github/numerical-mooc/numerical-mooc/blob/master/lessons/02_spacetime/02_03_1DDiffusion.ipynb). Either way, if you need to install it, [follow these instructions](https://github.com/numerical-mooc/numerical-mooc/wiki/HOWTO:-Install-JSAnimation-for-IPython-Notebook)."
     ]
    },
    {
     "cell_type": "code",
     "collapsed": false,
     "input": [
      "from matplotlib import animation\n",
      "from JSAnimation.IPython_display import display_animation"
     ],
     "language": "python",
     "metadata": {},
     "outputs": []
    },
    {
     "cell_type": "code",
     "collapsed": false,
     "input": [
      "fig = plt.figure();\n",
      "ax = plt.axes(xlim=(0,4),ylim=(-.5,2));\n",
      "line, = ax.plot([],[],lw=2);\n",
      "\n",
      "def animate(data):\n",
      "    x = np.linspace(0,4,nx)\n",
      "    y = data\n",
      "    line.set_data(x,y)\n",
      "    return line,\n",
      "\n",
      "anim = animation.FuncAnimation(fig, animate, frames=rho_n, interval=50)\n",
      "display_animation(anim, default_mode='loop')"
     ],
     "language": "python",
     "metadata": {},
     "outputs": []
    },
    {
     "cell_type": "markdown",
     "metadata": {},
     "source": [
      "That doesn't look very good. Perhaps if we make the step size smaller, the result improves?"
     ]
    },
    {
     "cell_type": "heading",
     "level": 3,
     "metadata": {},
     "source": [
      "Lax-Friedrichs with CFL=0.5"
     ]
    },
    {
     "cell_type": "markdown",
     "metadata": {},
     "source": [
      "Let's follow our gut and see what happens if we take smaller times steps"
     ]
    },
    {
     "cell_type": "code",
     "collapsed": false,
     "input": [
      "sigma = 0.5\n",
      "dt = sigma*dx\n",
      "\n",
      "rho = rho_ic(nx, rho_max)      #make sure that u is set to our expected initial conditions\n",
      "rho_n = laxfriedrichs(rho, nt, dt, dx, rho_max, V_max)"
     ],
     "language": "python",
     "metadata": {},
     "outputs": []
    },
    {
     "cell_type": "markdown",
     "metadata": {},
     "source": [
      "Now that we have our new data set, we can set up our next animation.  We'll use all the same code from above, except now our `animate` function is already defined, so we can just set up a figure as before, then call `FuncAnimation`"
     ]
    },
    {
     "cell_type": "code",
     "collapsed": false,
     "input": [
      "fig = plt.figure();\n",
      "ax = plt.axes(xlim=(0,4),ylim=(-.5,2));\n",
      "line, = ax.plot([],[],lw=2);\n",
      "\n",
      "anim = animation.FuncAnimation(fig, animate, frames=rho_n, interval=50)\n",
      "display_animation(anim, default_mode='once')"
     ],
     "language": "python",
     "metadata": {},
     "outputs": []
    },
    {
     "cell_type": "markdown",
     "metadata": {},
     "source": [
      "Smaller time steps fon't make things a lot better!\n",
      "\n",
      "Notice the strange \"step\" behavior on the leading edge of the wave?  Check out a separate notebook [here](http://nbviewer.ipython.org/github/barbagroup/CFDPython/blob/master/lessons/19_Odd_Even_Decoupling.ipynb?create=1) to learn about \"Odd-Even Decoupling.\"\n",
      "\n",
      "Also take a look at how the change in CFL number affected the wave."
     ]
    },
    {
     "cell_type": "heading",
     "level": 2,
     "metadata": {},
     "source": [
      "Lax-Wendroff scheme"
     ]
    },
    {
     "cell_type": "markdown",
     "metadata": {},
     "source": [
      "The Lax-Wendroff scheme starts with taking the Taylor series expansion about $\\rho^{n+1}$:\n",
      "\n",
      "\\begin{equation}\\rho^{n+1} = \\rho^n + \\rho_t \\Delta t + \\frac{(\\Delta t)^2}{2}\\rho_{tt} + ...\\end{equation}\n",
      "\n",
      "Now substitute spatial derivatives for the time derivatives\n",
      "\n",
      "\\begin{equation}F_t = -JF_x\\end{equation} \n",
      "\n",
      "\\begin{equation}\\rho_t = -F_x\\end{equation}\n",
      "\n",
      "where \n",
      "\n",
      "\\begin{equation}J = \\frac{\\partial F}{\\partial \\rho} = V_{\\rm max} \\left(1-2\\frac{\\rho}{\\rho_{\\rm max}} \\right)\\end{equation} \n",
      "\n",
      "is the Jacobian for the traffic model.\n",
      "\n",
      "This, when plugged into the full traffic model equation, yields\n",
      "\n",
      "\\begin{equation}\\frac{\\rho_i^{n+1} - \\rho_i^n}{\\Delta t} = \\frac{-F^n_{i+1}-F^n_{i-1}}{2 \\Delta x} + \\frac{\\Delta t}{2} \\left(\\frac{(J \\frac{\\partial F}{\\partial x})^n_{i+\\frac{1}{2}}-(J \\frac{\\partial F}{\\partial x})^n_{i-\\frac{1}{2}}}{\\Delta x}\\right)\\end{equation}"
     ]
    },
    {
     "cell_type": "markdown",
     "metadata": {},
     "source": [
      "Approximate the last term in the above equation as:\n",
      "$$\\left(\\frac{(A \\frac{\\partial E}{\\partial x})^n_{i+\\frac{1}{2}}-(A \\frac{\\partial E}{\\partial x})^n_{i-\\frac{1}{2}}}{\\Delta x}\\right) \\approx \\frac{A^n_{i+\\frac{1}{2}}\\left(\\frac{E^n_{i+1}-E^n_{i}}{\\Delta x}\\right)-A^n_{i-\\frac{1}{2}}\\left(\\frac{E^n_i-E^n_{i-1}}{\\Delta x}\\right)}{\\Delta x}$$"
     ]
    },
    {
     "cell_type": "markdown",
     "metadata": {},
     "source": [
      "And evaluate the Jacobian at the midpoints:\n",
      "\n",
      "$$\\frac{\\frac{1}{2 \\Delta x}(A^n_{i+1}+A^n_i)(E^n_{i+1}-E^n_i)-\\frac{1}{2 \\Delta x}(A^n_i+A^n_{i-1})(E^n_i-E^n_{i-1})}{\\Delta x}$$\n",
      "\n",
      "So our equation now reads:\n",
      "\n",
      "$$\\frac{u_i^{n+1} - u_i^n}{\\Delta t} = \\frac{\\frac{1}{2 \\Delta x}(A^n_{i+1}+A^n_i)(E^n_{i+1}-E^n_i)-\\frac{1}{2 \\Delta x}(A^n_i+A^n_{i-1})(E^n_i-E^n_{i-1})}{\\Delta x}$$"
     ]
    },
    {
     "cell_type": "markdown",
     "metadata": {},
     "source": [
      "We substitute $A = u$ and then solve for $u^{n+1}_i$, the Lax-Wendroff Scheme results:\n",
      "\n",
      "\n",
      "$$u^{n+1}_i = u^n_i - \\frac{\\Delta t}{2 \\Delta x}(E^n_{i+1}-E^n_{i-1})+$$\n",
      "$$\\frac{\\Delta t^2}{4 \\Delta x^2}[(u^n_{i+1}+u^n_i)(E^n_{i+1}-E^n_i)-(u^n_i+u^n_{i-1})(E^n_i-E^n_{i-1})]$$\n",
      "\n",
      "\n",
      "Lax-Wendroff is a little bit long.  Remember that you can use \\ slashes to split up a statement across several lines.  This can help make code easier to parse (and also easier to debug!). "
     ]
    },
    {
     "cell_type": "code",
     "collapsed": false,
     "input": [
      "def laxwendroff(u, nt, dt, dx):\n",
      "    un = np.zeros((nt,len(u)))\n",
      "    un[:] = u.copy()\n",
      "    \n",
      "    for i in range(1,nt):\n",
      "        E = utoE(u)        \n",
      "        un[i,1:-1] = u[1:-1] - dt/(2*dx) * (E[2:]-E[:-2]) + dt**2/(4*dx**2) *\\\n",
      "        ((u[2:]+u[1:-1])*(E[2:]-E[1:-1]) -\\\n",
      "        (u[1:-1]+u[:-2])*(E[1:-1]-E[:-2]))\n",
      "        un[i,0]=1\n",
      "        \n",
      "        u = un[i].copy()  \n",
      "        \n",
      "    return un"
     ],
     "language": "python",
     "metadata": {},
     "outputs": []
    },
    {
     "cell_type": "markdown",
     "metadata": {},
     "source": [
      "Now that's we've defined a function for the Lax Wendroff scheme, we can use the seem procedure as above to animate and view our results.  \n",
      "\n",
      "###With CFL = 1"
     ]
    },
    {
     "cell_type": "code",
     "collapsed": false,
     "input": [
      "u = u_ic()\n",
      "sigma = 1\n",
      "dt = sigma*dx\n",
      "un = laxwendroff(u,nt,dt,dx)"
     ],
     "language": "python",
     "metadata": {},
     "outputs": []
    },
    {
     "cell_type": "code",
     "collapsed": false,
     "input": [
      "fig = plt.figure();\n",
      "ax = plt.axes(xlim=(0,4),ylim=(-.5,2));\n",
      "line, = ax.plot([],[],lw=2);\n",
      "\n",
      "anim = animation.FuncAnimation(fig, animate, frames=un, interval=50)\n",
      "display_animation(anim, default_mode='once')"
     ],
     "language": "python",
     "metadata": {},
     "outputs": []
    },
    {
     "cell_type": "markdown",
     "metadata": {},
     "source": [
      "### With CFL = 0.5"
     ]
    },
    {
     "cell_type": "code",
     "collapsed": false,
     "input": [
      "u = u_ic()\n",
      "sigma = .5\n",
      "dt = sigma*dx\n",
      "un = laxwendroff(u,nt,dt,dx)\n",
      "\n",
      "fig = plt.figure();\n",
      "ax = plt.axes(xlim=(0,4),ylim=(-.5,2));\n",
      "line, = ax.plot([],[],lw=2);\n",
      "\n",
      "anim = animation.FuncAnimation(fig, animate, frames=un, interval=50)\n",
      "display_animation(anim, default_mode='once')"
     ],
     "language": "python",
     "metadata": {},
     "outputs": []
    },
    {
     "cell_type": "markdown",
     "metadata": {},
     "source": [
      "How do the oscillations at the shock front vary with changes to the CFL condition?"
     ]
    },
    {
     "cell_type": "markdown",
     "metadata": {},
     "source": [
      "##MacCormack Scheme\n",
      "\n",
      "\\begin{equation}\\rho^*_i = \\rho^n_i - \\frac{\\Delta t}{\\Delta x} (F^n_{i+1}-F^n_{i}) \\ \\ \\ \\ \\ \\ (predictor)\\end{equation}\n",
      "\n",
      "\\begin{equation}\\rho^{n+1}_i = \\frac{1}{2} (\\rho^n_i + \\rho^*_i - \\frac{\\Delta t}{\\Delta x} (F^*_i - F^{*}_{i-1})) \\ \\ \\ \\ \\ \\ (corrector)\\end{equation}"
     ]
    },
    {
     "cell_type": "markdown",
     "metadata": {},
     "source": [
      "The MacCormack scheme is a 'predictor-corrector' method.  It first calculates a rough estimate of the next timestep and then smooths the predicted value in the second step.  "
     ]
    },
    {
     "cell_type": "code",
     "collapsed": false,
     "input": [
      "def maccormack(rho, nt, dt, dx, V_max, rho_max):\n",
      "    \"\"\" Computes the solution with MacCormack scheme\n",
      "    \n",
      "    Parameters\n",
      "    ----------\n",
      "    rho    : array of floats\n",
      "            Density at current time-step\n",
      "    nt     : int\n",
      "            Number of time steps\n",
      "    dt     : float\n",
      "            Time-step size\n",
      "    dx     : float\n",
      "            Mesh spacing\n",
      "    rho_max: float\n",
      "            Maximum allowed car density\n",
      "    V_max  : float\n",
      "            Speed limit\n",
      "    \n",
      "    Returns\n",
      "    -------\n",
      "    rho_n : array of floats\n",
      "            Density after nt time steps at every point x\n",
      "    \"\"\"\n",
      "    \n",
      "    rho_n = numpy.zeros((nt,len(rho)))\n",
      "    rho_star = numpy.empty_like(rho)\n",
      "    rho_n[:,:] = rho.copy()\n",
      "    rho_star = rho.copy()\n",
      "    \n",
      "    for t in range(1,nt):\n",
      "        F = computeF(V_max, rho_max, rho)\n",
      "        rho_star[:-1] = rho[:-1] - dt/dx * (F[1:]-F[:-1])\n",
      "        Fstar = computeF(V_max, rho_max, rho_star)\n",
      "        rho_n[t,1:] = .5 * (rho[1:]+rho_star[1:] - dt/dx * (Fstar[1:] - Fstar[:-1]))\n",
      "        rho = rho_n[t].copy()\n",
      "        \n",
      "    return rho_n"
     ],
     "language": "python",
     "metadata": {},
     "outputs": []
    },
    {
     "cell_type": "heading",
     "level": 3,
     "metadata": {},
     "source": [
      "CFL = 1"
     ]
    },
    {
     "cell_type": "code",
     "collapsed": false,
     "input": [
      "rho = rho_ic(nx, rho_max)\n",
      "sigma = 1.0\n",
      "dt = sigma*dx\n",
      "\n",
      "rho_n = maccormack(rho,nt,dt,dx,V_max,rho_max)\n",
      "\n",
      "print nt\n",
      "print rho_n[-1,:]\n",
      "\n",
      "fig = plt.figure();\n",
      "ax = plt.axes(xlim=(0,4),ylim=(-.5,2));\n",
      "line, = ax.plot([],[],lw=2);\n",
      "\n",
      "#anim = animation.FuncAnimation(fig, animate, frames=rho_n, interval=50)\n",
      "#display_animation(anim, default_mode='once')"
     ],
     "language": "python",
     "metadata": {},
     "outputs": []
    },
    {
     "cell_type": "heading",
     "level": 3,
     "metadata": {},
     "source": [
      "CFL = 0.5"
     ]
    },
    {
     "cell_type": "code",
     "collapsed": false,
     "input": [
      "u = u_ic()\n",
      "sigma = 0.5\n",
      "dt = sigma*dx\n",
      "\n",
      "un = maccormack(u,nt,dt,dx)\n",
      "\n",
      "fig = plt.figure();\n",
      "ax = plt.axes(xlim=(0,4),ylim=(-.5,2));\n",
      "line, = ax.plot([],[],lw=2);\n",
      "\n",
      "anim = animation.FuncAnimation(fig, animate, frames=un, interval=50)\n",
      "display_animation(anim, default_mode='once')"
     ],
     "language": "python",
     "metadata": {},
     "outputs": []
    },
    {
     "cell_type": "markdown",
     "metadata": {},
     "source": [
      "##Beam & Warming Implicit\n",
      "\n",
      "This is our first look at an implicit scheme.  In the previous schemes used, it is possible to cleanly factor out some $u^{n+1}_i$ and solve for that in terms of $u^n_i$.  When each term used is from the previous time step, that is an explicit method.  \n",
      "\n",
      "The Beam & Warming scheme does not cleanly separate out all of the $u^{n+1}$ terms and it is computed in a different way from the other examples.  \n",
      "\n",
      "Taking a Taylor series expansion of $u^{n+1}_i$:\n",
      "\n",
      "\n",
      "$$u^{n+1}_i = u^n_i + \\frac{1}{2} \\left[\\left. \\frac{\\partial u}{\\partial t} \\right|^{n}_i + \\left. \\frac{\\partial u}{\\partial t} \\right|^{n+1}_i \\right] \\Delta t + O(\\Delta t^3)$$\n",
      "\n",
      "For Burgers, $\\frac{\\partial u}{\\partial t} = -\\frac{ \\partial E}{\\partial x}$ , so:\n",
      "\n",
      "$$\\frac{u^{n+1}_i - u^n_i}{\\Delta t} = - \\frac{1}{2} \\left[ \\left.\\frac{\\partial E}{\\partial x} \\right|^n_i + \\left. \\frac{\\partial E}{\\partial x}\\right|^{n+1}_i \\right] + O(\\Delta t^2)$$\n",
      "\n",
      "$$\\therefore \\frac{u^{n+1}_i - u^n_i}{\\Delta t} = -\\frac{1}{2} \\left( \\left.\\frac{\\partial E}{\\partial x}\\right|^n_i + \\left.\\frac{\\partial E}{\\partial x}\\right|^n_i + \\frac{\\partial}{\\partial x} \\left[ A(u^{n+1}_i - u^n_i)\\right] \\right)$$\n"
     ]
    },
    {
     "cell_type": "markdown",
     "metadata": {},
     "source": [
      "Using 2nd order central difference for the Jacobian A yields:\n",
      "\n",
      "$$\\frac{\\partial}{\\partial x} \\left[A(u^{n+1}_i-u^n_i)\\right] = $$\n",
      "\n",
      "$$\\frac{1}{2 \\Delta x} \\left(A^n_{i+1} u^{n+1}_{i+1} - A^n_{i-1} u^{n+1}_{i-1} \\right) - \\frac{1}{2 \\Delta x} \\left(A^n_{i+1}u^n_{i+1} - A^n_{i-1}u^n_{i-1} \\right)$$"
     ]
    },
    {
     "cell_type": "markdown",
     "metadata": {},
     "source": [
      "which results in a tri-diagonal system:\n",
      "\n",
      "$$- \\frac{\\Delta t}{4 \\Delta x} \\left( A^n_{i-1} u^{n+1}_{i-1}\\right) + u^{n+1}_i + \\frac{\\Delta t}{4 \\Delta x} \\left( A^n_{i+1} u^{n+1}_{i+1} \\right) = $$\n",
      "\n",
      "$$ = u^n_i - \\frac{1}{2} \\frac{\\Delta t}{\\Delta x} \\left( E^n_{i+1} - E^n_{i-1} \\right) + \\frac{\\Delta t}{4 \\Delta x} \\left( A^n_{i+1} u^n_{i+1} - A^n_{i-1} u^n_{i-1} \\right) $$\n",
      "\n",
      "If you are unfamiliar with tri-diagonal systems, check out the [Wikipedia page](http://en.wikipedia.org/wiki/Tridiagonal_matrix_algorithm) for a brief explanation.  "
     ]
    },
    {
     "cell_type": "code",
     "collapsed": false,
     "input": [
      "from scipy import linalg\n",
      "\n",
      "def beamwarming(u, nt, dt, dx):\n",
      "    ##Tridiagonal setup##\n",
      "    a = np.zeros_like(u)\n",
      "    b = np.ones_like(u)\n",
      "    c = np.zeros_like(u)\n",
      "    d = np.zeros_like(u)\n",
      "    \n",
      "    un = np.zeros((nt,len(u)))\n",
      "    un[:]=u.copy()\n",
      "    \n",
      "    for n in range(1,nt): \n",
      "        u[0] = 1\n",
      "        E = utoE(u)\n",
      "        au = utoA(u)\n",
      "    \n",
      "        a[0] = -dt/(4*dx)*u[0]\n",
      "        a[1:] = -dt/(4*dx)*u[0:-1]\n",
      "        a[-1] = -dt/(4*dx)*u[-1]\n",
      "                \n",
      "        #b is all ones\n",
      "        \n",
      "        c[:-1] = dt/(4*dx)*u[1:]\n",
      "        \n",
      "        d[1:-1] = u[1:-1]-.5*dt/dx*(E[2:]-E[0:-2])+dt/(4*dx)*(au[2:]-au[:-2])\n",
      "                \n",
      "        ###subtract a[0]*LHS B.C to 'fix' thomas algorithm\n",
      "        d[0] = u[0] - .5*dt/dx*(E[1]-E[0])+dt/(4*dx)*(au[1]-au[0]) - a[0]  \n",
      "        \n",
      "        ab = np.matrix([c,b,a])\n",
      "        u = linalg.solve_banded((1,1), ab, d)\n",
      "        u[0]=1\n",
      "        un[n] = u.copy()        \n",
      "    return un"
     ],
     "language": "python",
     "metadata": {},
     "outputs": []
    },
    {
     "cell_type": "markdown",
     "metadata": {},
     "source": [
      "###Why does the Thomas algorithm need to be 'fixed'?\n",
      "\n",
      "If you examine the [Wikipedia page](http://en.wikipedia.org/wiki/Tridiagonal_matrix_algorithm), it explains that tridiagonal systems of equations have the form\n",
      "\n",
      "$$a_i x_{i-1} + b_i x_i + c_i x_{i+1} = d_i$$\n",
      "\n",
      "where $a_1 = 0$ and $c_n = 0$ so that the system of equations can be written out as follows\n",
      "\n",
      "$$\\begin{bmatrix}\n",
      "b_1 & c_1 & & & 0\\\\\n",
      "a_2 & b_2 & c_2 & & \\\\\n",
      " & a_3 & b_3 & \\ddots & \\\\\n",
      " & & \\ddots & \\ddots & c_{n-1} \\\\\n",
      "0 & & & a_n & b_n  \n",
      "\\end{bmatrix}\n",
      "\\begin{bmatrix}\n",
      "x_1 \\\\\n",
      "x_2 \\\\\n",
      "x_3 \\\\\n",
      "\\vdots \\\\\n",
      "x_n\n",
      "\\end{bmatrix}\n",
      "=\n",
      "\\begin{bmatrix}\n",
      "d_1 \\\\\n",
      "d_2 \\\\\n",
      "d_3 \\\\\n",
      "\\vdots \\\\\n",
      "d_n\n",
      "\\end{bmatrix}\n",
      "$$\n",
      "\n",
      "** But ** what if $a_1 \\neq 0$?  And what about boundary conditions?"
     ]
    },
    {
     "cell_type": "markdown",
     "metadata": {},
     "source": [
      "###Modified Thomas Algorithm Matrix\n",
      "\n",
      "To make use of the Thomas Algorithm, we want to apply the algorithm only to the internal elements of our problem and not to the boundary elements.  Take the answer to be a vector spanning from $u_0$ to $u_{n+1}$\n",
      "\n",
      "$$u_0\\ \\ \\ u_1\\ \\ \\ u_2\\ \\ \\ \\dots \\ \\ \\    u_n \\ \\ \\    u_{n+1}$$\n",
      "\n",
      "where $u_0 = B_0$ and $u_{n+1} = B_{n+1}$ and where $B_0$ and $B_{n+1}$ are general boundary conditions.  Then $[u_1 \\ \\ \\dots\\ \\  u_n]$ correspond to $[x_1 \\ \\ \\dots \\ \\ x_n]$\n",
      "\n",
      "Now we can write down a modified tri-diagonal system which accounts for $a_1 \\neq 0$ and boundary conditions\n",
      "\n",
      "$$\\begin{bmatrix}\n",
      "1 & 0 & 0 & \\dots & &0 \\\\\n",
      "a_1 & b_1 & c_1 & & & \\vdots\\\\\n",
      "0 & a_2 & b_2 & c_2 & & \\\\\n",
      "\\vdots& & a_3 & b_3 & \\ddots & \\\\\n",
      "& & & \\ddots & \\ddots &  c_n\\\\\n",
      "0 & &\\dots & &0 & 1\n",
      "\\end{bmatrix}\n",
      "\\begin{bmatrix}\n",
      "u_0 \\\\\n",
      "u_1 \\\\\n",
      "u_2 \\\\\n",
      "u_3 \\\\\n",
      "\\vdots \\\\\n",
      "u_n \\\\\n",
      "u_{n+1}\n",
      "\\end{bmatrix}\n",
      "=\n",
      "\\begin{bmatrix}\n",
      "B_0 \\\\\n",
      "d_1 \\\\\n",
      "d_2 \\\\\n",
      "d_3 \\\\\n",
      "\\vdots \\\\\n",
      "d_n \\\\\n",
      "B_{n+1}\n",
      "\\end{bmatrix}\n",
      "$$"
     ]
    },
    {
     "cell_type": "markdown",
     "metadata": {},
     "source": [
      "Examining this system, you should note that the boundary conditions are properly observed, as $u_0 = B_0$ and $u_{n+1} = B_{n+1}$.  \n",
      "All of the internal equations in the system are the same as the Wikipedia example, except the first and last equations.  If we take $a_1 \\neq 0$ and $c_n \\neq 0$ then the corresponding equations are\n",
      "\n",
      "$$a_1 u_0 + b_1 u_1 + c_1 u_2 = d_1$$\n",
      "$$a_n u_{n-1} + b_n u_n + c_n u_{n+1} = d_n $$\n",
      "\n",
      "Taking the $a_1$ and $c_n$ terms to the right hand sides of their respective equations yields a slightly modified tridiagonal matrix that can be solved using existing tridiagonal solvers.\n",
      "\n",
      "$$\\begin{bmatrix}\n",
      "b_1 & c_1 & & & 0\\\\\n",
      "a_2 & b_2 & c_2 & & \\\\\n",
      " & a_3 & b_3 & \\ddots & \\\\\n",
      " & & \\ddots & \\ddots & c_{n-1} \\\\\n",
      "0 & & & a_n & b_n  \n",
      "\\end{bmatrix}\n",
      "\\begin{bmatrix}\n",
      "x_1 \\\\\n",
      "x_2 \\\\\n",
      "x_3 \\\\\n",
      "\\vdots \\\\\n",
      "x_n\n",
      "\\end{bmatrix}\n",
      "=\n",
      "\\begin{bmatrix}\n",
      "d_1 - a_1 u_0\\\\\n",
      "d_2 \\\\\n",
      "d_3 \\\\\n",
      "\\vdots \\\\\n",
      "d_n - c_n u_{n+1}\n",
      "\\end{bmatrix}\n",
      "$$\n",
      "\n",
      "$u_0$ and $u_{n+1}$ are just the boundary conditions specified.  For the Burger's problem, $u_0 = B_0 = 1$ and $u_{n+1} = B_{n+1} = 0$ so the final matrix is \n",
      "\n",
      "$$\\begin{bmatrix}\n",
      "b_1 & c_1 & & & 0\\\\\n",
      "a_2 & b_2 & c_2 & & \\\\\n",
      " & a_3 & b_3 & \\ddots & \\\\\n",
      " & & \\ddots & \\ddots & c_{n-1} \\\\\n",
      "0 & & & a_n & b_n  \n",
      "\\end{bmatrix}\n",
      "\\begin{bmatrix}\n",
      "x_1 \\\\\n",
      "x_2 \\\\\n",
      "x_3 \\\\\n",
      "\\vdots \\\\\n",
      "x_n\n",
      "\\end{bmatrix}\n",
      "=\n",
      "\\begin{bmatrix}\n",
      "d_1 -a_1\\\\\n",
      "d_2 \\\\\n",
      "d_3 \\\\\n",
      "\\vdots \\\\\n",
      "d_n\n",
      "\\end{bmatrix}\n",
      "$$\n",
      "\n",
      "So for the problem at hand, we have to make a change to the first element of the `d` vector to correct for the usual assumptions made when using the Thomas algorithm.  \n",
      "\n",
      "In the function above, this is accomplished with the line\n",
      "\n",
      "    d[0] = u[0] - .5*dt/dx*(E[1]-E[0])+dt/(4*dx)*(au[1]-au[0]) - a[0]"
     ]
    },
    {
     "cell_type": "code",
     "collapsed": false,
     "input": [
      "u = u_ic()\n",
      "sigma = .5\n",
      "dt = sigma*dx\n",
      "nt=60\n",
      "\n",
      "un = beamwarming(u,nt,dt,dx)"
     ],
     "language": "python",
     "metadata": {},
     "outputs": []
    },
    {
     "cell_type": "code",
     "collapsed": false,
     "input": [
      "fig = plt.figure();\n",
      "ax = plt.axes(xlim=(0,4),ylim=(-.5,2));\n",
      "line, = ax.plot([],[],lw=2);\n",
      "\n",
      "anim = animation.FuncAnimation(fig, animate, frames=un, interval=50)\n",
      "display_animation(anim, default_mode='once')"
     ],
     "language": "python",
     "metadata": {},
     "outputs": []
    },
    {
     "cell_type": "markdown",
     "metadata": {},
     "source": [
      "###Yikes.\n",
      "\n",
      "You may have noticed that we've made `nt` smaller than it has been for the other schemes.  \n",
      "With our CFL number equal to 0.5, this implicit method can handle about 60 iterations before it blows up to numbers that Python can't handle (which then get replaced with `Inf`, which then breaks the banded matrix solver).\n",
      "\n",
      "So we need to calm things down a little bit and prevent it from going nuclear so quickly.\n",
      "\n",
      "##Beam-Warming with damping"
     ]
    },
    {
     "cell_type": "markdown",
     "metadata": {},
     "source": [
      "Implicit methods can work well in many situations, but this isn't one of them.  As you can see above, the undamped Beam-Warming quickly turns into nonsense.  We can add damping to help keep things under control.  "
     ]
    },
    {
     "cell_type": "markdown",
     "metadata": {},
     "source": [
      "Add a damping term 'D' where:\n",
      "\n",
      "$$D = -\\epsilon_e (u^n_{i+2} - 4u^n_{i+1} + 6u^n_i - 4^n_{i-1} + u^n_{i-2})$$\n",
      "\n",
      "Note below that while we can easily include the damping term for most values of the `d` vector, `d[0]` and `d[1]` require a little extra attention.  There are no periodic boundary conditions being used, so any value of $u_i$ where $i < 0$ is set equal to 1."
     ]
    },
    {
     "cell_type": "code",
     "collapsed": false,
     "input": [
      "def dampit(u,eps,dt,dx):\n",
      "\td = u[2]-.5*dt/dx*(u[3]**2/2-u[1]**2/2)+dt/(4*dx)*(u[3]**2-u[1]**2)\\\n",
      "\t\t-eps*(u[4]-4*u[3]+6*u[2]-4*u[1]+u[0])\n",
      "\treturn d\n",
      "\n",
      "def beamwarming_damp(u, nt, dt, dx):\n",
      "    ##Tridiagonal setup##\n",
      "    a = np.zeros_like(u)\n",
      "    b = np.ones_like(u)\n",
      "    c = np.zeros_like(u)\n",
      "    d = np.zeros_like(u)\n",
      "    \n",
      "    un = np.zeros((nt,len(u)))\n",
      "    un[:] = u.copy()\n",
      "    \n",
      "    eps = .125\n",
      "\n",
      "    for n in range(1,nt): \n",
      "        u[0] = 1\n",
      "        E = utoE(u)\n",
      "        au = utoA(u)\n",
      "    \n",
      "        a[0] = -dt/(4*dx)*u[0]\n",
      "        a[1:] = -dt/(4*dx)*u[0:-1]\n",
      "        a[-1] = -dt/(4*dx)*u[-1]\n",
      "                \n",
      "        #b is all ones\n",
      "        \n",
      "        c[:-1] = dt/(4*dx)*u[1:]\n",
      "        \n",
      "        ###Calculate the damping factor for MOST of our u_vector\n",
      "        d[2:-2] = u[2:-2]-.5*dt/dx*(E[3:-1]-E[1:-3])+dt/(4*dx)\\\n",
      "                            *(au[3:-1]-au[1:-3])\\\n",
      "                    -eps*(u[4:]-4*u[3:-1]+6*u[2:-2]-4*u[1:-3]+u[:-4])\n",
      "        \n",
      "\n",
      "        ###Calculate the damping factor for d[0] and d[1]\n",
      "        damp = np.concatenate((np.ones(2), u[:3]))\t\n",
      "        d[0] = dampit(damp,eps,dt,dx)\n",
      "        damp = np.concatenate((np.ones(1), u[:4]))\n",
      "        d[1] = dampit(damp,eps,dt,dx)\n",
      "        \n",
      "        ###subtract a[0]*LHS B.C to 'fix' thomas algorithm\n",
      "        d[0] = d[0] - u[0] * a[0]        \n",
      "        \n",
      "        ab = np.matrix([c,b,a])\n",
      "        u = linalg.solve_banded((1,1), ab, d)\n",
      "        u[0]=1\n",
      "        un[n] = u.copy()\n",
      "    return un"
     ],
     "language": "python",
     "metadata": {},
     "outputs": []
    },
    {
     "cell_type": "code",
     "collapsed": false,
     "input": [
      "u = u_ic()\n",
      "sigma = 0.5\n",
      "dt = sigma*dx\n",
      "nt = 120\n",
      "un = beamwarming_damp(u,nt,dt,dx)\n",
      "\n",
      "fig = plt.figure();\n",
      "ax = plt.axes(xlim=(0,4),ylim=(-.5,2));\n",
      "line, = ax.plot([],[],lw=2);\n",
      "\n",
      "anim = animation.FuncAnimation(fig, animate, frames=un, interval=50)\n",
      "display_animation(anim, default_mode='once')"
     ],
     "language": "python",
     "metadata": {},
     "outputs": []
    },
    {
     "cell_type": "markdown",
     "metadata": {},
     "source": [
      "That's certainly more stable than what we had before.  It certainly doesn't behave as nicely as some of our other schemes, but it is remaining finite, at least.  This animation has a damping factor $\\epsilon = .125$.  Try playing around with different values for the damping factor and see what happens."
     ]
    },
    {
     "cell_type": "markdown",
     "metadata": {},
     "source": [
      "---\n",
      "\n",
      "######The cell below loads the style of the notebook."
     ]
    },
    {
     "cell_type": "code",
     "collapsed": false,
     "input": [
      "from IPython.core.display import HTML\n",
      "css_file = '../../styles/numericalmoocstyle.css'\n",
      "HTML(open(css_file, \"r\").read())"
     ],
     "language": "python",
     "metadata": {},
     "outputs": []
    },
    {
     "cell_type": "code",
     "collapsed": false,
     "input": [],
     "language": "python",
     "metadata": {},
     "outputs": []
    }
   ],
   "metadata": {}
  }
 ]
}