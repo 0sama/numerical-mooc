{
 "metadata": {
  "name": "",
  "signature": "sha256:a491267f6dbea253736c5041dbd91f7202a690d9405e90a0473192cbf602fad9"
 },
 "nbformat": 3,
 "nbformat_minor": 0,
 "worksheets": [
  {
   "cells": [
    {
     "cell_type": "heading",
     "level": 6,
     "metadata": {},
     "source": [
      "Content under Creative Commons Attribution license CC-BY 4.0, code under MIT license (c)2014 L.A. Barba, G.F. Forsyth, C.D. Cooper. Based on [CFD Python](https://github.com/barbagroup/CFDPython), (c)2013 L.A. Barba (CC-BY), and uses material from [HyperPython](https://github.com/ketch/HyperPython), (c)2014 D.I. Ketcheson (CC-BY)."
     ]
    },
    {
     "cell_type": "heading",
     "level": 1,
     "metadata": {},
     "source": [
      "Riding the wave"
     ]
    },
    {
     "cell_type": "heading",
     "level": 2,
     "metadata": {},
     "source": [
      "Convection problems"
     ]
    },
    {
     "cell_type": "markdown",
     "metadata": {},
     "source": [
      "Welcome to *Riding the wave: convection problems*, the third module of  [\"Practical Numerical Methods with Python\"](http://openedx.seas.gwu.edu/courses/GW/MAE6286/2014_fall/about). \n",
      "\n",
      "In the [first module](https://github.com/numerical-mooc/numerical-mooc/tree/master/lessons/01_phugoid), we learned about numerical integration methods for the solution of ordinary differential equations (ODEs). Then, the [second module](https://github.com/numerical-mooc/numerical-mooc/tree/master/lessons/02_spacetime) introduced the numerical solution of partial differential equations (PDEs) with the finite difference method, where our solver stepped in both *space* and *time*.\n",
      "\n",
      "This module goes deeper in the convection equation, which you might remember from [Lesson 1 of Module 2](http://nbviewer.ipython.org/github/numerical-mooc/numerical-mooc/blob/master/lessons/02_spacetime/02_01_1DConvection.ipynb). This hyperbolic equation is very interesting because the solution can develop *shocks*, or regions with very high gradient, which are difficult to resolve well with numerical methods. We will start by introducing conservation laws and how they are related to the convection equation, to then discuss different numerical schemes using the traffic flow model from Module 2's graded assessment as a motivation. The second notebook will test those schemes on Euler equations, a non-linear hyperbolic set of equations that models the behavior of inviscid, compressible flows, like air. Then, we will explore high resolution methods, to finish with some more advanced techniques that help resolve shocks better."
     ]
    },
    {
     "cell_type": "heading",
     "level": 2,
     "metadata": {},
     "source": [
      "Non-linear convection as a conservation law"
     ]
    },
    {
     "cell_type": "markdown",
     "metadata": {},
     "source": [
      "Let's say we have a fluid of density $\\rho(x,t)$ flowing inside a tube. Assuming that $\\rho$ is constant within the cross-section area of the tube ($A$), the total amount of of fluid between the points $x_1$ and $x_2$ is\n",
      "\n",
      "\\begin{equation}A \\int_{x_1}^{x_2} \\rho(x,t) dx\\end{equation}\n",
      "\n",
      "If there is a change in the total amount of fluid, fluid must be coming in or out through points $x_1$ or $x_2$. Let's define a *flux* of mass $F(\\rho(x,t))$, as the rate of flow passing through a point $x$, per unit area. Then, the net rate of flow in or out of our volume of interest is\n",
      "\n",
      "\\begin{equation} A (F(\\rho(x_1,t)) - F(\\rho(x_2,t))) \\end{equation}\n",
      "\n",
      "which can be written in integral form as\n",
      "\n",
      "\\begin{equation}A (F(\\rho(x_1,t)) - F(\\rho(x_2,t))) = -A \\int_{x_1}^{x_2} \\frac{\\partial}{\\partial x} F(\\rho(x,t)) dx\\end{equation}\n",
      "\n",
      "and must match the change of the amount of fluid in time:\n",
      "\n",
      "\\begin{equation}\\frac{d}{d t} \\int_{x_1}^{x_2} \\rho{x,t} dx = -\\int_{x_1}^{x_2} \\frac{\\partial}{\\partial x} F(\\rho(x,t)) dx.\\end{equation}\n",
      "\n",
      "We can rewrite this last equation as\n",
      "\n",
      "\\begin{equation}\\int_{x_1}^{x_2} \\left( \\frac{\\partial}{\\partial t} \\rho(x,t) + \\frac{\\partial}{\\partial x} F(\\rho(x,t)) \\right) dx = 0,\\end{equation}\n",
      "\n",
      "This equation is valid regardless the choice of $x_1$ and $x_2$, which means that what's inside the integral must be zero everywhere:\n",
      "\n",
      "\\begin{equation}\\frac{\\partial}{\\partial t} \\rho(x,t) + \\frac{\\partial}{\\partial x} F(\\rho(x,t)) = 0\\end{equation}\n",
      "\n",
      "This last equation represents a *conservation law* in differential form. Think about it: we got to this equation by enforcing that any change in the amount of fluid in a volume must be coming in or out from the edges. This intuitive physical concept says that no fluid is magically created or distroyed, in other words, the amount of fluid is *conserved*.\n",
      "\n",
      "In fluid mechanics, the flux per unit area is just the velocity times density $F=u\\rho$, and if we consider that the velocity is constant in $x$, we get\n",
      "\n",
      "\\begin{equation}\\frac{\\partial}{\\partial t} \\rho + u \\frac{\\partial \\rho}{\\partial x} = 0\\end{equation}\n",
      "\n",
      "\n",
      "Does that equation look familiar? It looks a lot like the linear convection equation in [Lesson 1 of Module 2](http://nbviewer.ipython.org/github/numerical-mooc/numerical-mooc/blob/master/lessons/02_spacetime/02_01_1DConvection.ipynb)!\n",
      "\n",
      "But what about the non-linear convection equation from [Lesson 1 of Module 2](http://nbviewer.ipython.org/github/numerical-mooc/numerical-mooc/blob/master/lessons/02_spacetime/02_01_1DConvection.ipynb)? It was:\n",
      "\n",
      "\\begin{equation}\\frac{\\partial u}{\\partial t} + u \\frac{\\partial u}{\\partial x} = 0\\end{equation}\n",
      "\n",
      "If we look closer to the spatial derivative, we can rewrite this equation as:\n",
      "\n",
      "\\begin{equation}\\frac{\\partial u}{\\partial t} + \\frac{\\partial}{\\partial x} \\left(\\frac{u^2}{2} \\right) = 0\\end{equation}\n",
      "\n",
      "Which is the *conservation form* of the non-linear convection equation, with flux $F=\\frac{u^2}{2}$"
     ]
    },
    {
     "cell_type": "heading",
     "level": 2,
     "metadata": {},
     "source": [
      "Traffic flow model"
     ]
    },
    {
     "cell_type": "markdown",
     "metadata": {},
     "source": [
      "Let's review the [Lighthill-Whitham-Richards](http://en.wikipedia.org/wiki/Macroscopic_traffic_flow_model) traffic model that you solved for the graded assessment in Module 2. This model considers cars with a continuous *car density* (average number of cars per unit length of road) rather than keeping track of them individually. Then, $\\rho(x)=0$ means that there are no cars at that point $x$ of the road, and $\\rho(x) = \\rho_{\\rm max}$ when no more cars fit at point x.\n",
      "\n",
      "If the number of cars in the road changes, it means that they are entering or leaving the road somehow. Then, the density of cars must obey a conservation law! where the flux, or number of cars leaving the road per unit time, is given by $F=u\\rho$. One easy approximation would be to assume cars will go at a constant speed, but that is far for true. The next easiest approximation is to model the drivers behavior as a linear function:\n",
      "\n",
      "\\begin{equation}u(\\rho) = u_{\\rm max} \\left(1-\\frac{\\rho}{\\rho_{\\rm max}}\\right).\\end{equation}\n",
      "\n",
      "This linear model of the drivers' behavior hopes that they all respect the speed limit $u_{\\rm max}$, and says that cars will travel at this speed if there is light traffic, and tend to slow down (and even stop!) as the traffic gets heavy. That is pretty much what happens in reality! Finally, the density of cars is given by:\n",
      "\n",
      "\\begin{equation} \\frac{\\partial \\rho}{\\partial t} + \\frac{\\partial F}{\\partial x} = 0 \\end{equation}\n",
      "\n",
      "where\n",
      "\n",
      "\\begin{equation} F = \\rho u_{\\rm max} \\left(1-\\frac{\\rho}{\\rho_{\\rm max}}\\right). \\end{equation}"
     ]
    },
    {
     "cell_type": "heading",
     "level": 2,
     "metadata": {},
     "source": [
      "Green light!"
     ]
    },
    {
     "cell_type": "markdown",
     "metadata": {},
     "source": [
      "In the context of the traffic flow model, a shock, or sudden drop in the car density at point $x$, is sign of a traffic jam, for example, due to a red light at $x$. \n",
      "\n",
      "Let's say that we are examining a road of length $4$ where the speed limit is $u_{\\rm max}=1$, that fits 10 car per unit length $(\\rho_{\\rm max}=10)$. Now, imagine we have a red light at $x=2$: the road ahead is clear, at the stop light traffic is at 80% of the maximum capacity, and the density of cars decreases linearly to zero as we approach the beginning of our road. \n",
      "\n",
      "Mathematically, this translates to the following initial condition:\n",
      "\n",
      "\\begin{equation}u(x,0) = \\left\\{ \\begin{array}{cc}\n",
      "0.8\\rho_{\\rm max}\\frac{x}{2} & 0 \\leq x < 2  \\\\\n",
      "0 & 2 \\leq x \\leq 4 \\\\ \\end{array} \\right.\\end{equation}\n",
      "\n",
      "How does this initial condition look?"
     ]
    },
    {
     "cell_type": "code",
     "collapsed": false,
     "input": [
      "%matplotlib inline\n",
      "import numpy \n",
      "import matplotlib.pyplot as plt\n",
      "\n",
      "def rho_green_light(nx, rho_max, rho_light):\n",
      "    \"\"\"Computes \"green light\" initial condition with shock, and linear distribution behind\n",
      "\n",
      "    Parameters\n",
      "    ----------\n",
      "    nx        : int\n",
      "        Number of grid points in x\n",
      "    rho_max   : float\n",
      "        Maximum allowed car density\n",
      "    rho_light : float\n",
      "        Density of cars at stoplight\n",
      "\n",
      "    Returns\n",
      "    -------\n",
      "    rho: array of floats\n",
      "        Array with initial values of density\n",
      "    \"\"\"\n",
      "    ratio = rho_light/rho_max\n",
      "    rho = rho_max*numpy.arange(nx)*2/nx*ratio\n",
      "    rho[(nx-1)/2:] = 0\n",
      "    return rho\n",
      "\n",
      "#Basic initial condition parameters\n",
      "#defining grid size, time steps, CFL condition, etc...\n",
      "nx = 81\n",
      "nt = 30\n",
      "dx = 4.0/nx\n",
      "\n",
      "\n",
      "x = numpy.linspace(0,4,nx)\n",
      "\n",
      "rho_max = 10.\n",
      "V_max = 1.\n",
      "rho_light = 8.\n",
      "\n",
      "rho = rho_green_light(nx, rho_max, rho_light)\n",
      "plt.plot(x, rho, color='#003366', ls='-', lw=3)\n",
      "plt.ylim(-0.5,11.);"
     ],
     "language": "python",
     "metadata": {},
     "outputs": []
    },
    {
     "cell_type": "markdown",
     "metadata": {},
     "source": [
      "**How does the traffic behave once the light turns green?** Cars should slowly start moving forward: the density in front of the shock will slowly increase. Let's see if the numerical solution agrees with that!\n",
      "\n",
      "Before we start, let's define a useful function:"
     ]
    },
    {
     "cell_type": "code",
     "collapsed": false,
     "input": [
      "def computeF(V_max, rho_max, rho):\n",
      "    \"\"\"Computes flux F=V*rho\n",
      "\n",
      "    Parameters\n",
      "    ----------\n",
      "    V_max  : float\n",
      "        Maximum allowed velocity\n",
      "    rho    : array of floats\n",
      "        Array with density of cars at every point x\n",
      "    rho_max: float\n",
      "        Maximum allowed car density\n",
      "        \n",
      "    Returns\n",
      "    -------\n",
      "    F : array\n",
      "        Array with flux at every point x\n",
      "    \"\"\"\n",
      "    return V_max*rho*(1-rho/rho_max)"
     ],
     "language": "python",
     "metadata": {},
     "outputs": []
    },
    {
     "cell_type": "heading",
     "level": 3,
     "metadata": {},
     "source": [
      "Forward in time, backward in space"
     ]
    },
    {
     "cell_type": "markdown",
     "metadata": {},
     "source": [
      "Let's start by using a forward in time, backward in space scheme, like you did for the graded assessment of Module 2"
     ]
    },
    {
     "cell_type": "code",
     "collapsed": false,
     "input": [
      "def ftbs(rho, nt, dt, dx, rho_max, V_max):\n",
      "    \"\"\" Computes the solution with forward in time, backward in space\n",
      "    \n",
      "    Parameters\n",
      "    ----------\n",
      "    rho    : array of floats\n",
      "            Density at current time-step\n",
      "    nt     : int\n",
      "            Number of time steps\n",
      "    dt     : float\n",
      "            Time-step size\n",
      "    dx     : float\n",
      "            Mesh spacing\n",
      "    rho_max: float\n",
      "            Maximum allowed car density\n",
      "    V_max  : float\n",
      "            Speed limit\n",
      "    \n",
      "    Returns\n",
      "    -------\n",
      "    rho_n : array of floats\n",
      "            Density after nt time steps at every point x\n",
      "    \"\"\"\n",
      "    \n",
      "    #initialize our results array with dimensions nt by nx\n",
      "    rho_n = numpy.zeros((nt,len(rho)))      \n",
      "    #copy the initial u array into each row of our new array\n",
      "    rho_n[0,:] = rho.copy()              \n",
      "    \n",
      "    for t in range(1,nt):\n",
      "        F = computeF(V_max, rho_max, rho)\n",
      "        rho_n[t,1:] = rho[1:] - dt/dx*(F[1:]-F[:-1])\n",
      "        rho_n[t,0] = rho[0]\n",
      "        rho_n[t,-1] = rho[-1]\n",
      "        rho = rho_n[t].copy()\n",
      "\n",
      "    return rho_n"
     ],
     "language": "python",
     "metadata": {},
     "outputs": []
    },
    {
     "cell_type": "markdown",
     "metadata": {},
     "source": [
      "We're all good to go! "
     ]
    },
    {
     "cell_type": "code",
     "collapsed": false,
     "input": [
      "sigma = 1.\n",
      "dt = sigma*dx\n",
      "\n",
      "rho_n = ftbs(rho, nt, dt, dx, rho_max, V_max)"
     ],
     "language": "python",
     "metadata": {},
     "outputs": []
    },
    {
     "cell_type": "markdown",
     "metadata": {},
     "source": [
      "Let's see how that looks. Now in order to view the results in an animation, we'll import a few extra libraries.  The `JSAnimation` library is not part of the standard IPython install (yet!) but hopefully you installed it for [Lesson 3 of Module 2](http://nbviewer.ipython.org/github/numerical-mooc/numerical-mooc/blob/master/lessons/02_spacetime/02_03_1DDiffusion.ipynb). Either way, if you need to install it, [follow these instructions](https://github.com/numerical-mooc/numerical-mooc/wiki/HOWTO:-Install-JSAnimation-for-IPython-Notebook)."
     ]
    },
    {
     "cell_type": "code",
     "collapsed": false,
     "input": [
      "from matplotlib import animation\n",
      "from JSAnimation.IPython_display import display_animation"
     ],
     "language": "python",
     "metadata": {},
     "outputs": []
    },
    {
     "cell_type": "code",
     "collapsed": false,
     "input": [
      "fig = plt.figure();\n",
      "ax = plt.axes(xlim=(0,4),ylim=(-.5,11.5));\n",
      "line, = ax.plot([],[],lw=2);\n",
      "\n",
      "def animate(data):\n",
      "    x = numpy.linspace(0,4,nx)\n",
      "    y = data\n",
      "    line.set_data(x,y)\n",
      "    return line,\n",
      "\n",
      "anim = animation.FuncAnimation(fig, animate, frames=rho_n, interval=50)\n",
      "display_animation(anim, default_mode='once')"
     ],
     "language": "python",
     "metadata": {},
     "outputs": []
    },
    {
     "cell_type": "markdown",
     "metadata": {},
     "source": [
      "The solution is blowing up! This didn't happen for Module 2's graded assessment! What is going on? Is there a bug in the code?\n",
      "\n",
      "No need to panic. Let's take a closer look at the equation we are solving:\n",
      "\n",
      "\\begin{equation}\\frac{\\partial \\rho}{\\partial t} + \\frac{\\partial F}{\\partial x} = 0\\end{equation}\n",
      "\n",
      "Let's rewrite that as\n",
      "\n",
      "\\begin{equation} \\frac{\\partial \\rho}{\\partial t} + \\frac{\\partial F}{\\partial \\rho} \\frac{\\partial \\rho}{\\partial x} = 0\\end{equation}\n",
      "\n",
      "This form of the equation looks like the nonlinear convection equation from [Lesson 1 of Module 2](http://nbviewer.ipython.org/github/numerical-mooc/numerical-mooc/blob/master/lessons/02_spacetime/02_01_1DConvection.ipynb), right? This is a wave equation where the wave speed is $u_{\\rm wave} = \\frac{\\partial F}{\\partial\\rho}$. Let's take a closer look at that term:\n",
      "\n",
      "\\begin{equation}u_{\\rm wave} = \\frac{\\partial F}{\\partial \\rho} = u_{\\rm max} \\left( 1-2\\frac{\\rho}{\\rho_{\\rm max}} \\right).\\end{equation}\n",
      "\n",
      "See how the wave speed changes sign at $\\rho = \\rho_{\\rm max}/2$? That means that for the initial conditions given for the green light problem, the part of the wave under $\\rho = \\rho_{\\rm max}/2$ will want to move right, whereas the part of the wave over this mark, will move left! \n",
      "\n",
      "There is no real problem with that in terms of the model, it's just that a scheme that is backward in space is *unstable* for negative values of the wave speed. Just for sanity check, let's try the forward in time, backward in space scheme with the initial conditions\n",
      "\n",
      "\\begin{equation}u(x,0) = \\left\\{ \\begin{array}{cc}\n",
      "0.4 \\rho_{\\rm max}\\frac{x}{2} & 0 \\leq x < 2  \\\\\n",
      "0 & 2 \\leq x \\leq 4 \\\\ \\end{array} \\right.\\end{equation}\n",
      "\n",
      "All values of $\\rho$ are under $\\rho = \\rho_{\\rm max}/2$, then $\\frac{\\partial F}{\\partial \\rho}$ is positive everywhere. Forward in time, backward in space shouldn't be a problem, as all wave speeds are positive."
     ]
    },
    {
     "cell_type": "code",
     "collapsed": false,
     "input": [
      "rho_light = 4.\n",
      "rho = rho_green_light(nx, rho_max, rho_light)\n",
      "rho_n = ftbs(rho, nt, dt, dx, rho_max, V_max)\n",
      "\n",
      "anim = animation.FuncAnimation(fig, animate, frames=rho_n, interval=50)\n",
      "display_animation(anim, default_mode='once')"
     ],
     "language": "python",
     "metadata": {},
     "outputs": []
    },
    {
     "cell_type": "markdown",
     "metadata": {},
     "source": [
      "Works fine! Try this out yourself with different initial conditions. \n",
      "\n",
      "Also, you can easily modify the function `ftbs` to do a forward in time, forward in space scheme, which is stable for negative wave speed. Unfortunately, forward in space is unstable for positive wave speeds, then if you don't want it blowing up, make sure the wave speed is negative everywhere: $u_{\\rm wave} = \\frac{\\partial F}{\\partial \\rho} < 0 \\ \\forall \\ x$."
     ]
    },
    {
     "cell_type": "heading",
     "level": 3,
     "metadata": {},
     "source": [
      "Upwind"
     ]
    },
    {
     "cell_type": "markdown",
     "metadata": {},
     "source": [
      "Is there any way out of this one? We have a wave with both positive and negative wave speeds! One easy alternative is to use an *upwind* scheme, which consists of using forward difference when the wave speed is negative and backward difference when it is positive, as:\n",
      "\n",
      "\\begin{align} \\rho_i^{n+1} &= \\rho_i^n - \\frac{\\Delta t}{\\Delta x} \\left( F_i^n - F_{i-1}^n \\right) \\quad {\\rm if} \\ u_{\\rm wave}>0 \\\\ \\rho_i^{n+1} &= \\rho_i^n - \\frac{\\Delta t}{\\Delta x} \\left( F_{i+1}^n - F_{i}^n \\right) \\quad {\\rm if} \\ u_{\\rm wave}<0 \\end{align}\n",
      "\n",
      "Upwind is then first order in space and time. This scheme is implemented next in the function `upwind`:"
     ]
    },
    {
     "cell_type": "code",
     "collapsed": false,
     "input": [
      "def upwind(rho, nt, dt, dx, rho_max, V_max):\n",
      "    \"\"\" Computes the solution with upwind\n",
      "    \n",
      "    Parameters\n",
      "    ----------\n",
      "    rho    : array of floats\n",
      "            Density at current time-step\n",
      "    nt     : int\n",
      "            Number of time steps\n",
      "    dt     : float\n",
      "            Time-step size\n",
      "    dx     : float\n",
      "            Mesh spacing\n",
      "    rho_max: float\n",
      "            Maximum allowed car density\n",
      "    V_max  : float\n",
      "            Speed limit\n",
      "    \n",
      "    Returns\n",
      "    -------\n",
      "    rho_n : array of floats\n",
      "            Density after nt time steps at every point x\n",
      "    \"\"\"\n",
      "    \n",
      "    #initialize our results array with dimensions nt by nx\n",
      "    rho_n = numpy.zeros((nt,len(rho)))      \n",
      "    #copy the initial u array into each row of our new array\n",
      "    rho_n[0,:] = rho.copy()              \n",
      "    \n",
      "    rho_f = rho.copy()\n",
      "    rho_b = rho.copy()\n",
      "    for t in range(1,nt):\n",
      "        F = computeF(V_max, rho_max, rho)\n",
      "        \n",
      "        rho_b[1:] = rho[1:] - dt/dx*(F[1:]-F[:-1])    # Backward in space\n",
      "        rho_f[:-1] = rho[:-1] - dt/dx*(F[1:]-F[:-1])  # Forward in space\n",
      "        \n",
      "        u_wave = V_max*(1-2*rho/rho_max)              # Compute wave speed\n",
      "        \n",
      "        index_b = numpy.where(u_wave>=0)[0]           # Points where wave speed is positive\n",
      "        index_f = numpy.where(u_wave<0)[0]            # Points where wave speed is negative\n",
      "\n",
      "        rho_n[t,index_b] = rho_b[index_b]             # If positive, use backward in space        \n",
      "        rho_n[t,index_f] = rho_f[index_f]             # If negative, use forward in space\n",
      "        \n",
      "        rho_n[t,0] = rho[0]\n",
      "        rho_n[t,-1] = rho[-1]\n",
      "        rho = rho_n[t].copy()\n",
      "     \n",
      "    return rho_n"
     ],
     "language": "python",
     "metadata": {},
     "outputs": []
    },
    {
     "cell_type": "markdown",
     "metadata": {},
     "source": [
      "Let's try the upwind scheme with the initial conditions that were blowing up for forward in time, backward in space."
     ]
    },
    {
     "cell_type": "code",
     "collapsed": false,
     "input": [
      "rho_light = 8.\n",
      "rho = rho_green_light(nx, rho_max, rho_light)   # Initial condition\n",
      "rho_n = upwind(rho, nt, dt, dx, rho_max, V_max)\n",
      "\n",
      "anim = animation.FuncAnimation(fig, animate, frames=rho_n, interval=50)\n",
      "display_animation(anim, default_mode='once')"
     ],
     "language": "python",
     "metadata": {},
     "outputs": []
    },
    {
     "cell_type": "markdown",
     "metadata": {},
     "source": [
      "Good news, it's not blowing up!"
     ]
    },
    {
     "cell_type": "heading",
     "level": 2,
     "metadata": {},
     "source": [
      "Beware the CFL!"
     ]
    },
    {
     "cell_type": "markdown",
     "metadata": {},
     "source": [
      "[Lesson 2 of Module 2](http://nbviewer.ipython.org/github/numerical-mooc/numerical-mooc/blob/wave_dev/lessons/02_spacetime/02_02_CFLCondition.ipynb) discusses the CFL condition for the linear convection equation. To refresh your memory, for a constant wave speed $u_{\\rm wave} = c$:\n",
      "\n",
      "\\begin{equation} \\sigma = c\\frac{\\Delta t}{\\Delta x} < 1.\\end{equation}\n",
      "\n",
      "What happens for non-linear equations? The wave speed is space and time dependent $(u_{\\rm wave} = u_{\\rm wave}(x,t))$, hence, the CFL condition needs to apply for every point in space, at every instant of time. We just need $\\sigma>1$ in one spot, for the whole solution to blow up! \n",
      "\n",
      "Let's generalize the CFL condition to\n",
      "\n",
      "\\begin{equation} \\sigma = \\max\\left[ \\left| u_{\\rm wave} \\right| \\frac{\\Delta t}{\\Delta x} \\right] < 1.\\end{equation}\n",
      "\n",
      "which in our case is\n",
      "\n",
      "\\begin{equation} \\sigma = \\max\\left[ u_{\\rm max} \\left| 1-\\frac{\\rho}{\\rho_{\\rm max}} \\right|  \\frac{\\Delta t}{\\Delta x} \\right] < 1.\\end{equation}\n",
      "\n",
      "Here, the closer $\\rho$ is to zero, the most likely it is to be unstable."
     ]
    },
    {
     "cell_type": "heading",
     "level": 3,
     "metadata": {},
     "source": [
      "Green light and CFL"
     ]
    },
    {
     "cell_type": "markdown",
     "metadata": {},
     "source": [
      "\n",
      "We know that the green light problem with density at the stop light $\\rho = \\rho_{\\rm light} = 4$ is stable using a forward in time, backward in space scheme. In this problem, we used $u_{\\rm max} = 1$, and $\\Delta t/\\Delta x=1$, which gives a CFL = 1, when $\\rho = 0$. \n",
      "\n",
      "What if we change the conditions slightly, say $u_{\\rm max} = 1.1$? "
     ]
    },
    {
     "cell_type": "code",
     "collapsed": false,
     "input": [
      "rho_light = 4.\n",
      "V_max = 1.1\n",
      "nt = 40\n",
      "rho = rho_green_light(nx, rho_max, rho_light)\n",
      "rho_n = ftbs(rho, nt, dt, dx, rho_max, V_max)\n",
      "\n",
      "anim = animation.FuncAnimation(fig, animate, frames=rho_n, interval=50)\n",
      "display_animation(anim, default_mode='once')"
     ],
     "language": "python",
     "metadata": {},
     "outputs": []
    },
    {
     "cell_type": "markdown",
     "metadata": {},
     "source": [
      "That failed miserably! Only by changing $u_{\\rm max}$ to 1.1, even an algorithm that we know is stable for this problem, fails. Since we kept $\\Delta t/\\Delta x=1$, the CFL number for $\\rho=0$ is 1.1. See where the instability begins? Beware the CFL!"
     ]
    },
    {
     "cell_type": "heading",
     "level": 2,
     "metadata": {},
     "source": [
      "Red light!"
     ]
    },
    {
     "cell_type": "markdown",
     "metadata": {},
     "source": [
      "Let's explore the behavior of upwind and other numerical schemes in a moving shock wave. In the context of the traffic flow model, imagine a very busy road and a red light in $x=4$. Cars accumulate quickly in the front, where we have the maximum allowed density of cars between $x=3$ and $x=4$, and there is an incoming traffic of 60% the maximum allowed density $(\\rho = 0.6\\rho_{\\rm max})$. \n",
      "\n",
      "This initial condition looks like:\n",
      "\n",
      "\\begin{equation}u(x,0) = \\left\\{ \\begin{array}{cc}\n",
      "0.6 \\rho_{\\rm max} & 0 \\leq x < 3  \\\\\n",
      "\\rho_{\\rm max} & 3 \\leq x \\leq 4 \\\\ \\end{array} \\right.\\end{equation}\n",
      "\n",
      "This initial condition looks like:"
     ]
    },
    {
     "cell_type": "code",
     "collapsed": false,
     "input": [
      "def rho_red_light(nx, rho_max, rho_in):\n",
      "    \"\"\"Computes \"red light\" initial condition with shock\n",
      "\n",
      "    Parameters\n",
      "    ----------\n",
      "    nx        : int\n",
      "        Number of grid points in x\n",
      "    rho_max   : float\n",
      "        Maximum allowed car density\n",
      "    rho_in    : float\n",
      "        Density of incoming cars \n",
      "\n",
      "    Returns\n",
      "    -------\n",
      "    rho: array of floats\n",
      "        Array with initial values of density\n",
      "    \"\"\"\n",
      "    rho = rho_max*numpy.ones(nx)\n",
      "    rho[:(nx-1)*3./4.] = rho_in\n",
      "    return rho\n",
      "\n",
      "rho_in = 6.\n",
      "\n",
      "rho = rho_red_light(nx, rho_max, rho_in)\n",
      "plt.plot(x, rho, color='#003366', ls='-', lw=3)\n",
      "plt.ylim(-0.5,11.);"
     ],
     "language": "python",
     "metadata": {},
     "outputs": []
    },
    {
     "cell_type": "markdown",
     "metadata": {},
     "source": [
      "**How will cars accumulate in the red light?** Next, we will solve this problem using different numerical schemes, to see how they perform. These schemes are:\n",
      "\n",
      "   * Upwind\n",
      "   * Lax-Friedrichs\n",
      "   * Lax-Wendroff\n",
      "   * MacCormack"
     ]
    },
    {
     "cell_type": "markdown",
     "metadata": {},
     "source": [
      "Before we solve this, let's think about the equation a little bit. The wave speed $u_{\\rm wave}$ is -1 for $\\rho = \\rho_{\\rm max}$ and $\\rho > \\rho_{\\rm max}/2$. Then, we should see a solution moving left, maintaining the shock geometry."
     ]
    },
    {
     "cell_type": "heading",
     "level": 3,
     "metadata": {},
     "source": [
      "Upwind"
     ]
    },
    {
     "cell_type": "markdown",
     "metadata": {},
     "source": [
      "We'll start with a known scheme: upwind. Since all wave speeds are negative, upwind will use a forward in time, forward in space scheme."
     ]
    },
    {
     "cell_type": "code",
     "collapsed": false,
     "input": [
      "rho_n = upwind(rho, nt, dt, dx, rho_max, V_max)\n",
      "\n",
      "anim = animation.FuncAnimation(fig, animate, frames=rho_n, interval=50)\n",
      "display_animation(anim, default_mode='once')"
     ],
     "language": "python",
     "metadata": {},
     "outputs": []
    },
    {
     "cell_type": "heading",
     "level": 2,
     "metadata": {},
     "source": [
      "Lax Friedrichs"
     ]
    },
    {
     "cell_type": "markdown",
     "metadata": {},
     "source": [
      "Lax-Friedrichs is an explicit, 1st order scheme, using forward-difference in time and central-difference in space.  However, notice that the $\\rho^n_i$ value is calculated as the average of its adjacent cells.  \n",
      "\n",
      "\\begin{equation}\\frac{\\rho_i^{n+1}-\\frac{1}{2}(\\rho^n_{i+1}+\\rho^n_{i-1})}{\\Delta t} = -\\frac{F^n_{i+1}-F^n_{i-1}}{2 \\Delta x}\\end{equation}\n",
      "\n",
      "Transposing this to solve for $\\rho^{n+1}_i$ yields:\n",
      "\n",
      "\\begin{equation}\\rho_i^{n+1} = \\frac{1}{2}(\\rho^n_{i+1}+\\rho^n_{i-1}) - \\frac{\\Delta t}{2 \\Delta x}(F^n_{i+1}-F^n_{i-1})\\end{equation}\n",
      "\n",
      "This scheme is implemented in the function below.  All the schemes in this notebook are wrapped in their own functions to help with displaying animations of the results.  This is also good coding practice!\n",
      "\n",
      "In order to display our animations, we're going to hold the results of each timestep in `u` in a 2D array.  So our array `rho_n` will have `nt` rows and `nx` columns."
     ]
    },
    {
     "cell_type": "code",
     "collapsed": false,
     "input": [
      "def laxfriedrichs(rho, nt, dt, dx, rho_max, V_max):\n",
      "    \"\"\" Computes the solution with Lax-Friedrichs scheme\n",
      "    \n",
      "    Parameters\n",
      "    ----------\n",
      "    rho    : array of floats\n",
      "            Density at current time-step\n",
      "    nt     : int\n",
      "            Number of time steps\n",
      "    dt     : float\n",
      "            Time-step size\n",
      "    dx     : float\n",
      "            Mesh spacing\n",
      "    rho_max: float\n",
      "            Maximum allowed car density\n",
      "    V_max  : float\n",
      "            Speed limit\n",
      "    \n",
      "    Returns\n",
      "    -------\n",
      "    rho_n : array of floats\n",
      "            Density after nt time steps at every point x\n",
      "    \"\"\"\n",
      "    \n",
      "    #initialize our results array with dimensions nt by nx\n",
      "    rho_n = numpy.zeros((nt,len(rho)))      \n",
      "    #copy the initial u array into each row of our new array\n",
      "    rho_n[:,:] = rho.copy()              \n",
      "    \n",
      "    '''\n",
      "    Now, for each timestep, we're going to calculate rho^n+1, \n",
      "    then set the value of rho equal to rho^n+1 so we can calculate \n",
      "    the next iteration.  For every timestep, the entire vector\n",
      "    rho^n is saved in a single row of our results array rho_n.\n",
      "    '''\n",
      "    for t in range(1,nt):\n",
      "        F = computeF(V_max, rho_max, rho)\n",
      "        rho_n[t,1:-1] = .5*(rho[2:]+rho[:-2]) - dt/(2*dx)*(F[2:]-F[:-2])\n",
      "        rho_n[t,0] = rho[0]\n",
      "        rho = rho_n[t].copy()\n",
      "        \n",
      "    return rho_n"
     ],
     "language": "python",
     "metadata": {},
     "outputs": []
    },
    {
     "cell_type": "heading",
     "level": 3,
     "metadata": {},
     "source": [
      "Lax-Friedrichs with CFL=1"
     ]
    },
    {
     "cell_type": "markdown",
     "metadata": {},
     "source": [
      "We are now all set to run! First, let's try with CFL=1"
     ]
    },
    {
     "cell_type": "code",
     "collapsed": false,
     "input": [
      "sigma = 1.0\n",
      "dt = sigma*dx\n",
      "\n",
      "rho = rho_ic(nx, rho_max)      #make sure that u is set to our expected initial conditions\n",
      "rho_n = laxfriedrichs(rho, nt, dt, dx, rho_max, V_max)"
     ],
     "language": "python",
     "metadata": {},
     "outputs": []
    },
    {
     "cell_type": "markdown",
     "metadata": {},
     "source": [
      "We can ask NumPy to tell us the shape of our new array `un` and see if we have the dimensions we're expecting.  We should have `nt` rows and `nx` columns.  "
     ]
    },
    {
     "cell_type": "code",
     "collapsed": false,
     "input": [
      "rho_n.shape"
     ],
     "language": "python",
     "metadata": {},
     "outputs": []
    },
    {
     "cell_type": "markdown",
     "metadata": {},
     "source": [
      "Looks good!  Now in order to view the results in an animation, we'll import a few extra libraries.  The `JSAnimation` library is not part of the standard IPython install (yet!) but hopefully you installed it for [Lesson 3 of Module 2](http://nbviewer.ipython.org/github/numerical-mooc/numerical-mooc/blob/master/lessons/02_spacetime/02_03_1DDiffusion.ipynb). Either way, if you need to install it, [follow these instructions](https://github.com/numerical-mooc/numerical-mooc/wiki/HOWTO:-Install-JSAnimation-for-IPython-Notebook)."
     ]
    },
    {
     "cell_type": "code",
     "collapsed": false,
     "input": [
      "fig = plt.figure();\n",
      "ax = plt.axes(xlim=(0,4),ylim=(-.5,11));\n",
      "line, = ax.plot([],[],lw=2);\n",
      "\n",
      "def animate(data):\n",
      "    x = numpy.linspace(0,4,nx)\n",
      "    y = data\n",
      "    line.set_data(x,y)\n",
      "    return line,\n",
      "\n",
      "anim = animation.FuncAnimation(fig, animate, frames=rho_n, interval=50)\n",
      "display_animation(anim, default_mode='loop')"
     ],
     "language": "python",
     "metadata": {},
     "outputs": []
    },
    {
     "cell_type": "markdown",
     "metadata": {},
     "source": [
      "That doesn't look very good. Perhaps if we make the step size smaller, the result improves?"
     ]
    },
    {
     "cell_type": "heading",
     "level": 3,
     "metadata": {},
     "source": [
      "Lax-Friedrichs with CFL=0.5"
     ]
    },
    {
     "cell_type": "markdown",
     "metadata": {},
     "source": [
      "Let's follow our gut and see what happens if we take smaller times steps"
     ]
    },
    {
     "cell_type": "code",
     "collapsed": false,
     "input": [
      "sigma = 0.5\n",
      "dt = sigma*dx\n",
      "\n",
      "rho = rho_ic(nx, rho_max)      #make sure that u is set to our expected initial conditions\n",
      "rho_n = laxfriedrichs(rho, nt, dt, dx, rho_max, V_max)"
     ],
     "language": "python",
     "metadata": {},
     "outputs": []
    },
    {
     "cell_type": "markdown",
     "metadata": {},
     "source": [
      "Now that we have our new data set, we can set up our next animation.  We'll use all the same code from above, except now our `animate` function is already defined, so we can just set up a figure as before, then call `FuncAnimation`"
     ]
    },
    {
     "cell_type": "code",
     "collapsed": false,
     "input": [
      "fig = plt.figure();\n",
      "ax = plt.axes(xlim=(0,4),ylim=(-.5,2));\n",
      "line, = ax.plot([],[],lw=2);\n",
      "\n",
      "anim = animation.FuncAnimation(fig, animate, frames=rho_n, interval=50)\n",
      "display_animation(anim, default_mode='once')"
     ],
     "language": "python",
     "metadata": {},
     "outputs": []
    },
    {
     "cell_type": "markdown",
     "metadata": {},
     "source": [
      "Smaller time steps fon't make things a lot better!\n",
      "\n",
      "Notice the strange \"step\" behavior on the leading edge of the wave?  Check out a separate notebook [here](http://nbviewer.ipython.org/github/barbagroup/CFDPython/blob/master/lessons/19_Odd_Even_Decoupling.ipynb?create=1) to learn about \"Odd-Even Decoupling.\"\n",
      "\n",
      "Also take a look at how the change in CFL number affected the wave."
     ]
    },
    {
     "cell_type": "heading",
     "level": 2,
     "metadata": {},
     "source": [
      "Lax-Wendroff scheme"
     ]
    },
    {
     "cell_type": "markdown",
     "metadata": {},
     "source": [
      "The Lax-Wendroff scheme starts with taking the Taylor series expansion about $\\rho^{n+1}$:\n",
      "\n",
      "\\begin{equation}\\rho^{n+1} = \\rho^n + \\rho_t \\Delta t + \\frac{(\\Delta t)^2}{2}\\rho_{tt} + ...\\end{equation}\n",
      "\n",
      "Now substitute spatial derivatives for the time derivatives\n",
      "\n",
      "\\begin{equation}F_t = -JF_x\\end{equation} \n",
      "\n",
      "\\begin{equation}\\rho_t = -F_x\\end{equation}\n",
      "\n",
      "where \n",
      "\n",
      "\\begin{equation}J = \\frac{\\partial F}{\\partial \\rho} = V_{\\rm max} \\left(1-2\\frac{\\rho}{\\rho_{\\rm max}} \\right)\\end{equation} \n",
      "\n",
      "is the Jacobian for the traffic model.\n",
      "\n",
      "This, when plugged into the full traffic model equation, yields\n",
      "\n",
      "\\begin{equation}\\frac{\\rho_i^{n+1} - \\rho_i^n}{\\Delta t} = \\frac{-F^n_{i+1}-F^n_{i-1}}{2 \\Delta x} + \\frac{\\Delta t}{2} \\left(\\frac{(J \\frac{\\partial F}{\\partial x})^n_{i+\\frac{1}{2}}-(J \\frac{\\partial F}{\\partial x})^n_{i-\\frac{1}{2}}}{\\Delta x}\\right)\\end{equation}"
     ]
    },
    {
     "cell_type": "markdown",
     "metadata": {},
     "source": [
      "Approximate the last term in the above equation as:\n",
      "$$\\left(\\frac{(A \\frac{\\partial E}{\\partial x})^n_{i+\\frac{1}{2}}-(A \\frac{\\partial E}{\\partial x})^n_{i-\\frac{1}{2}}}{\\Delta x}\\right) \\approx \\frac{A^n_{i+\\frac{1}{2}}\\left(\\frac{E^n_{i+1}-E^n_{i}}{\\Delta x}\\right)-A^n_{i-\\frac{1}{2}}\\left(\\frac{E^n_i-E^n_{i-1}}{\\Delta x}\\right)}{\\Delta x}$$"
     ]
    },
    {
     "cell_type": "markdown",
     "metadata": {},
     "source": [
      "And evaluate the Jacobian at the midpoints:\n",
      "\n",
      "$$\\frac{\\frac{1}{2 \\Delta x}(A^n_{i+1}+A^n_i)(E^n_{i+1}-E^n_i)-\\frac{1}{2 \\Delta x}(A^n_i+A^n_{i-1})(E^n_i-E^n_{i-1})}{\\Delta x}$$\n",
      "\n",
      "So our equation now reads:\n",
      "\n",
      "$$\\frac{u_i^{n+1} - u_i^n}{\\Delta t} = \\frac{\\frac{1}{2 \\Delta x}(A^n_{i+1}+A^n_i)(E^n_{i+1}-E^n_i)-\\frac{1}{2 \\Delta x}(A^n_i+A^n_{i-1})(E^n_i-E^n_{i-1})}{\\Delta x}$$"
     ]
    },
    {
     "cell_type": "markdown",
     "metadata": {},
     "source": [
      "We substitute $A = u$ and then solve for $u^{n+1}_i$, the Lax-Wendroff Scheme results:\n",
      "\n",
      "\n",
      "$$u^{n+1}_i = u^n_i - \\frac{\\Delta t}{2 \\Delta x}(E^n_{i+1}-E^n_{i-1})+$$\n",
      "$$\\frac{\\Delta t^2}{4 \\Delta x^2}[(u^n_{i+1}+u^n_i)(E^n_{i+1}-E^n_i)-(u^n_i+u^n_{i-1})(E^n_i-E^n_{i-1})]$$\n",
      "\n",
      "\n",
      "Lax-Wendroff is a little bit long.  Remember that you can use \\ slashes to split up a statement across several lines.  This can help make code easier to parse (and also easier to debug!). "
     ]
    },
    {
     "cell_type": "code",
     "collapsed": false,
     "input": [
      "def laxwendroff(u, nt, dt, dx):\n",
      "    un = np.zeros((nt,len(u)))\n",
      "    un[:] = u.copy()\n",
      "    \n",
      "    for i in range(1,nt):\n",
      "        E = utoE(u)        \n",
      "        un[i,1:-1] = u[1:-1] - dt/(2*dx) * (E[2:]-E[:-2]) + dt**2/(4*dx**2) *\\\n",
      "        ((u[2:]+u[1:-1])*(E[2:]-E[1:-1]) -\\\n",
      "        (u[1:-1]+u[:-2])*(E[1:-1]-E[:-2]))\n",
      "        un[i,0]=1\n",
      "        \n",
      "        u = un[i].copy()  \n",
      "        \n",
      "    return un"
     ],
     "language": "python",
     "metadata": {},
     "outputs": []
    },
    {
     "cell_type": "markdown",
     "metadata": {},
     "source": [
      "Now that's we've defined a function for the Lax Wendroff scheme, we can use the seem procedure as above to animate and view our results.  \n",
      "\n",
      "###With CFL = 1"
     ]
    },
    {
     "cell_type": "code",
     "collapsed": false,
     "input": [
      "u = u_ic()\n",
      "sigma = 1\n",
      "dt = sigma*dx\n",
      "un = laxwendroff(u,nt,dt,dx)"
     ],
     "language": "python",
     "metadata": {},
     "outputs": []
    },
    {
     "cell_type": "code",
     "collapsed": false,
     "input": [
      "fig = plt.figure();\n",
      "ax = plt.axes(xlim=(0,4),ylim=(-.5,2));\n",
      "line, = ax.plot([],[],lw=2);\n",
      "\n",
      "anim = animation.FuncAnimation(fig, animate, frames=un, interval=50)\n",
      "display_animation(anim, default_mode='once')"
     ],
     "language": "python",
     "metadata": {},
     "outputs": []
    },
    {
     "cell_type": "markdown",
     "metadata": {},
     "source": [
      "### With CFL = 0.5"
     ]
    },
    {
     "cell_type": "code",
     "collapsed": false,
     "input": [
      "u = u_ic()\n",
      "sigma = .5\n",
      "dt = sigma*dx\n",
      "un = laxwendroff(u,nt,dt,dx)\n",
      "\n",
      "fig = plt.figure();\n",
      "ax = plt.axes(xlim=(0,4),ylim=(-.5,2));\n",
      "line, = ax.plot([],[],lw=2);\n",
      "\n",
      "anim = animation.FuncAnimation(fig, animate, frames=un, interval=50)\n",
      "display_animation(anim, default_mode='once')"
     ],
     "language": "python",
     "metadata": {},
     "outputs": []
    },
    {
     "cell_type": "markdown",
     "metadata": {},
     "source": [
      "How do the oscillations at the shock front vary with changes to the CFL condition?"
     ]
    },
    {
     "cell_type": "markdown",
     "metadata": {},
     "source": [
      "##MacCormack Scheme\n",
      "\n",
      "\\begin{equation}\\rho^*_i = \\rho^n_i - \\frac{\\Delta t}{\\Delta x} (F^n_{i+1}-F^n_{i}) \\ \\ \\ \\ \\ \\ (predictor)\\end{equation}\n",
      "\n",
      "\\begin{equation}\\rho^{n+1}_i = \\frac{1}{2} (\\rho^n_i + \\rho^*_i - \\frac{\\Delta t}{\\Delta x} (F^*_i - F^{*}_{i-1})) \\ \\ \\ \\ \\ \\ (corrector)\\end{equation}"
     ]
    },
    {
     "cell_type": "markdown",
     "metadata": {},
     "source": [
      "The MacCormack scheme is a 'predictor-corrector' method.  It first calculates a rough estimate of the next timestep and then smooths the predicted value in the second step.  "
     ]
    },
    {
     "cell_type": "code",
     "collapsed": false,
     "input": [
      "def maccormack(rho, nt, dt, dx, V_max, rho_max):\n",
      "    \"\"\" Computes the solution with MacCormack scheme\n",
      "    \n",
      "    Parameters\n",
      "    ----------\n",
      "    rho    : array of floats\n",
      "            Density at current time-step\n",
      "    nt     : int\n",
      "            Number of time steps\n",
      "    dt     : float\n",
      "            Time-step size\n",
      "    dx     : float\n",
      "            Mesh spacing\n",
      "    rho_max: float\n",
      "            Maximum allowed car density\n",
      "    V_max  : float\n",
      "            Speed limit\n",
      "    \n",
      "    Returns\n",
      "    -------\n",
      "    rho_n : array of floats\n",
      "            Density after nt time steps at every point x\n",
      "    \"\"\"\n",
      "    \n",
      "    rho_n = numpy.zeros((nt,len(rho)))\n",
      "    rho_star = numpy.empty_like(rho)\n",
      "    rho_n[:,:] = rho.copy()\n",
      "    rho_star = rho.copy()\n",
      "    \n",
      "    for t in range(1,nt):\n",
      "        F = computeF(V_max, rho_max, rho)\n",
      "        rho_star[:-1] = rho[:-1] - dt/dx * (F[1:]-F[:-1])\n",
      "        Fstar = computeF(V_max, rho_max, rho_star)\n",
      "        rho_n[t,1:] = .5 * (rho[1:]+rho_star[1:] - dt/dx * (Fstar[1:] - Fstar[:-1]))\n",
      "        rho = rho_n[t].copy()\n",
      "        \n",
      "    return rho_n"
     ],
     "language": "python",
     "metadata": {},
     "outputs": []
    },
    {
     "cell_type": "heading",
     "level": 3,
     "metadata": {},
     "source": [
      "CFL = 1"
     ]
    },
    {
     "cell_type": "code",
     "collapsed": false,
     "input": [
      "rho = rho_ic(nx, rho_max)\n",
      "sigma = 1.0\n",
      "dt = sigma*dx\n",
      "\n",
      "rho_n = maccormack(rho,nt,dt,dx,V_max,rho_max)\n",
      "\n",
      "#print nt\n",
      "#print rho_n[-1,:]\n",
      "\n",
      "fig = plt.figure();\n",
      "ax = plt.axes(xlim=(0,4),ylim=(-.5,11));\n",
      "line, = ax.plot([],[],lw=2);\n",
      "\n",
      "anim = animation.FuncAnimation(fig, animate, frames=rho_n, interval=50)\n",
      "display_animation(anim, default_mode='once')"
     ],
     "language": "python",
     "metadata": {},
     "outputs": []
    },
    {
     "cell_type": "heading",
     "level": 3,
     "metadata": {},
     "source": [
      "CFL = 0.5"
     ]
    },
    {
     "cell_type": "code",
     "collapsed": false,
     "input": [
      "u = u_ic()\n",
      "sigma = 0.5\n",
      "dt = sigma*dx\n",
      "\n",
      "un = maccormack(u,nt,dt,dx)\n",
      "\n",
      "fig = plt.figure();\n",
      "ax = plt.axes(xlim=(0,4),ylim=(-.5,2));\n",
      "line, = ax.plot([],[],lw=2);\n",
      "\n",
      "anim = animation.FuncAnimation(fig, animate, frames=un, interval=50)\n",
      "display_animation(anim, default_mode='once')"
     ],
     "language": "python",
     "metadata": {},
     "outputs": []
    },
    {
     "cell_type": "markdown",
     "metadata": {},
     "source": [
      "---\n",
      "\n",
      "######The cell below loads the style of the notebook."
     ]
    },
    {
     "cell_type": "code",
     "collapsed": false,
     "input": [
      "from IPython.core.display import HTML\n",
      "css_file = '../../styles/numericalmoocstyle.css'\n",
      "HTML(open(css_file, \"r\").read())"
     ],
     "language": "python",
     "metadata": {},
     "outputs": []
    },
    {
     "cell_type": "code",
     "collapsed": false,
     "input": [],
     "language": "python",
     "metadata": {},
     "outputs": []
    }
   ],
   "metadata": {}
  }
 ]
}