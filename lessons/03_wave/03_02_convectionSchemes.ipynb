{
 "metadata": {
  "name": "",
  "signature": "sha256:a491267f6dbea253736c5041dbd91f7202a690d9405e90a0473192cbf602fad9"
 },
 "nbformat": 3,
 "nbformat_minor": 0,
 "worksheets": [
  {
   "cells": [
    {
     "cell_type": "heading",
     "level": 6,
     "metadata": {},
     "source": [
      "Content under Creative Commons Attribution license CC-BY 4.0, code under MIT license (c)2014 L.A. Barba, G.F. Forsyth, C.D. Cooper. Based on [CFD Python](https://github.com/barbagroup/CFDPython), (c)2013 L.A. Barba (CC-BY), and uses material from [HyperPython](https://github.com/ketch/HyperPython), (c)2014 D.I. Ketcheson (CC-BY)."
     ]
    },
    {
     "cell_type": "heading",
     "level": 1,
     "metadata": {},
     "source": [
      "Riding the wave"
     ]
    },
    {
     "cell_type": "heading",
     "level": 2,
     "metadata": {},
     "source": [
      "Numerical schemes for hyperbolic conservation laws"
     ]
    },
    {
     "cell_type": "markdown",
     "metadata": {},
     "source": [
      "Welcome back! This is the second notebook of *Riding the wave: convection problems*, the third module of  [\"Practical Numerical Methods with Python\"](http://openedx.seas.gwu.edu/courses/GW/MAE6286/2014_fall/about). \n",
      "\n",
      "The first notebook of this module is a discussion on conservation laws and the non-linear wave equations. Using the traffic flow problem as a motivation, we learned about the effect of the wave speed on the stability of the numerical method, and on the CFL number. This notebook will introduce some new numerical schemes for conservation laws, again, using the traffic flow problem as a motivation."
     ]
    },
    {
     "cell_type": "heading",
     "level": 2,
     "metadata": {},
     "source": [
      "Red light!"
     ]
    },
    {
     "cell_type": "markdown",
     "metadata": {},
     "source": [
      "Let's explore the behavior of upwind and other numerical schemes for a moving shock wave. In the context of the traffic flow model, imagine a very busy road and a red light in $x=4$. Cars accumulate quickly in the front, where we have the maximum allowed density of cars between $x=3$ and $x=4$, and there is an incoming traffic of 50% the maximum allowed density $(\\rho = 0.5\\rho_{\\rm max})$. \n",
      "\n",
      "This initial condition looks like:\n",
      "\n",
      "\\begin{equation}u(x,0) = \\left\\{ \\begin{array}{cc}\n",
      "0.5 \\rho_{\\rm max} & 0 \\leq x < 3  \\\\\n",
      "\\rho_{\\rm max} & 3 \\leq x \\leq 4 \\\\ \\end{array} \\right.\\end{equation}\n",
      "\n",
      "This initial condition looks like:"
     ]
    },
    {
     "cell_type": "code",
     "collapsed": false,
     "input": [
      "%matplotlib inline\n",
      "import numpy \n",
      "import matplotlib.pyplot as plt\n",
      "\n",
      "\n",
      "def rho_red_light(nx, rho_max, rho_in):\n",
      "    \"\"\"Computes \"red light\" initial condition with shock\n",
      "\n",
      "    Parameters\n",
      "    ----------\n",
      "    nx        : int\n",
      "        Number of grid points in x\n",
      "    rho_max   : float\n",
      "        Maximum allowed car density\n",
      "    rho_in    : float\n",
      "        Density of incoming cars \n",
      "\n",
      "    Returns\n",
      "    -------\n",
      "    rho: array of floats\n",
      "        Array with initial values of density\n",
      "    \"\"\"\n",
      "    rho = rho_max*numpy.ones(nx)\n",
      "    rho[:(nx-1)*3./4.] = rho_in\n",
      "    return rho\n",
      "\n",
      "#Basic initial condition parameters\n",
      "#defining grid size, time steps, CFL condition, etc...\n",
      "nx = 81\n",
      "nt = 30\n",
      "dx = 4.0/nx\n",
      "\n",
      "rho_in = 5.\n",
      "rho_max = 10.\n",
      "\n",
      "V_max = 1.\n",
      "\n",
      "x = numpy.linspace(0,4,nx)\n",
      "\n",
      "\n",
      "rho = rho_red_light(nx, rho_max, rho_in)\n",
      "plt.plot(x, rho, color='#003366', ls='-', lw=3)\n",
      "plt.ylim(-0.5,11.);"
     ],
     "language": "python",
     "metadata": {},
     "outputs": []
    },
    {
     "cell_type": "markdown",
     "metadata": {},
     "source": [
      "**How will cars accumulate in the red light?** Next, we will solve this problem using different numerical schemes, to see how they perform. These schemes are:\n",
      "\n",
      "   * Lax-Friedrichs\n",
      "   * Lax-Wendroff\n",
      "   * MacCormack"
     ]
    },
    {
     "cell_type": "markdown",
     "metadata": {},
     "source": [
      "Before we solve this, let's think about the equation a little bit. The wave speed $u_{\\rm wave}$ is -1 for $\\rho = \\rho_{\\rm max}$ and $\\rho \\leq \\rho_{\\rm max}/2$, making all velocities negative. Then, we should see a solution moving left, maintaining the shock geometry.\n",
      "\n",
      "Also, let's define some useful functions:"
     ]
    },
    {
     "cell_type": "code",
     "collapsed": false,
     "input": [
      "def computeF(V_max, rho_max, rho):\n",
      "    \"\"\"Computes flux F=V*rho\n",
      "\n",
      "    Parameters\n",
      "    ----------\n",
      "    V_max  : float\n",
      "        Maximum allowed velocity\n",
      "    rho    : array of floats\n",
      "        Array with density of cars at every point x\n",
      "    rho_max: float\n",
      "        Maximum allowed car density\n",
      "        \n",
      "    Returns\n",
      "    -------\n",
      "    F : array\n",
      "        Array with flux at every point x\n",
      "    \"\"\"\n",
      "    return V_max*rho*(1-rho/rho_max)\n",
      "\n",
      "from matplotlib import animation\n",
      "from JSAnimation.IPython_display import display_animation\n",
      "\n",
      "\n",
      "def animate(data):\n",
      "    x = numpy.linspace(0,4,nx)\n",
      "    y = data\n",
      "    line.set_data(x,y)\n",
      "    return line,"
     ],
     "language": "python",
     "metadata": {},
     "outputs": []
    },
    {
     "cell_type": "code",
     "collapsed": false,
     "input": [
      "sigma = 1.\n",
      "dt = sigma*dx\n",
      "\n",
      "rho_n = upwind(rho, nt, dt, dx, rho_max, V_max)\n",
      "\n",
      "fig = plt.figure();\n",
      "ax = plt.axes(xlim=(0,4),ylim=(5,11));\n",
      "line, = ax.plot([],[],lw=2);\n",
      "\n",
      "anim = animation.FuncAnimation(fig, animate, frames=rho_n, interval=50)\n",
      "display_animation(anim, default_mode='once')"
     ],
     "language": "python",
     "metadata": {},
     "outputs": []
    },
    {
     "cell_type": "heading",
     "level": 3,
     "metadata": {},
     "source": [
      "Lax Friedrichs"
     ]
    },
    {
     "cell_type": "markdown",
     "metadata": {},
     "source": [
      "Lax-Friedrichs is an explicit, 1st order scheme, using forward-difference in time and central-difference in space.  However, notice that the $\\rho^n_i$ value is calculated as the average of its adjacent cells.  \n",
      "\n",
      "\\begin{equation}\\frac{\\rho_i^{n+1}-\\frac{1}{2}(\\rho^n_{i+1}+\\rho^n_{i-1})}{\\Delta t} = -\\frac{F^n_{i+1}-F^n_{i-1}}{2 \\Delta x}\\end{equation}\n",
      "\n",
      "Transposing this to solve for $\\rho^{n+1}_i$ yields:\n",
      "\n",
      "\\begin{equation}\\rho_i^{n+1} = \\frac{1}{2}(\\rho^n_{i+1}+\\rho^n_{i-1}) - \\frac{\\Delta t}{2 \\Delta x}(F^n_{i+1}-F^n_{i-1})\\end{equation}\n",
      "\n",
      "This scheme is implemented in the function below.  All the schemes in this notebook are wrapped in their own functions to help with displaying animations of the results.  This is also good coding practice!\n",
      "\n",
      "In order to display our animations, we're going to hold the results of each timestep in `u` in a 2D array.  So our array `rho_n` will have `nt` rows and `nx` columns."
     ]
    },
    {
     "cell_type": "code",
     "collapsed": false,
     "input": [
      "def laxfriedrichs(rho, nt, dt, dx, rho_max, V_max):\n",
      "    \"\"\" Computes the solution with Lax-Friedrichs scheme\n",
      "    \n",
      "    Parameters\n",
      "    ----------\n",
      "    rho    : array of floats\n",
      "            Density at current time-step\n",
      "    nt     : int\n",
      "            Number of time steps\n",
      "    dt     : float\n",
      "            Time-step size\n",
      "    dx     : float\n",
      "            Mesh spacing\n",
      "    rho_max: float\n",
      "            Maximum allowed car density\n",
      "    V_max  : float\n",
      "            Speed limit\n",
      "    \n",
      "    Returns\n",
      "    -------\n",
      "    rho_n : array of floats\n",
      "            Density after nt time steps at every point x\n",
      "    \"\"\"\n",
      "    \n",
      "    #initialize our results array with dimensions nt by nx\n",
      "    rho_n = numpy.zeros((nt,len(rho)))      \n",
      "    #copy the initial u array into each row of our new array\n",
      "    rho_n[:,:] = rho.copy()              \n",
      "    \n",
      "    '''\n",
      "    Now, for each timestep, we're going to calculate rho^n+1, \n",
      "    then set the value of rho equal to rho^n+1 so we can calculate \n",
      "    the next iteration.  For every timestep, the entire vector\n",
      "    rho^n is saved in a single row of our results array rho_n.\n",
      "    '''\n",
      "    for t in range(1,nt):\n",
      "        F = computeF(V_max, rho_max, rho)\n",
      "        rho_n[t,1:-1] = .5*(rho[2:]+rho[:-2]) - dt/(2*dx)*(F[2:]-F[:-2])\n",
      "        rho_n[t,0] = rho[0]\n",
      "        rho = rho_n[t].copy()\n",
      "        \n",
      "    return rho_n"
     ],
     "language": "python",
     "metadata": {},
     "outputs": []
    },
    {
     "cell_type": "heading",
     "level": 3,
     "metadata": {},
     "source": [
      "Lax-Friedrichs with CFL=1"
     ]
    },
    {
     "cell_type": "markdown",
     "metadata": {},
     "source": [
      "We are now all set to run! First, let's try with CFL=1"
     ]
    },
    {
     "cell_type": "code",
     "collapsed": false,
     "input": [
      "sigma = 1.0\n",
      "dt = sigma*dx\n",
      "\n",
      "rho = rho_ic(nx, rho_max)      #make sure that u is set to our expected initial conditions\n",
      "rho_n = laxfriedrichs(rho, nt, dt, dx, rho_max, V_max)"
     ],
     "language": "python",
     "metadata": {},
     "outputs": []
    },
    {
     "cell_type": "markdown",
     "metadata": {},
     "source": [
      "We can ask NumPy to tell us the shape of our new array `un` and see if we have the dimensions we're expecting.  We should have `nt` rows and `nx` columns.  "
     ]
    },
    {
     "cell_type": "code",
     "collapsed": false,
     "input": [
      "rho_n.shape"
     ],
     "language": "python",
     "metadata": {},
     "outputs": []
    },
    {
     "cell_type": "markdown",
     "metadata": {},
     "source": [
      "Looks good!  Now in order to view the results in an animation, we'll import a few extra libraries.  The `JSAnimation` library is not part of the standard IPython install (yet!) but hopefully you installed it for [Lesson 3 of Module 2](http://nbviewer.ipython.org/github/numerical-mooc/numerical-mooc/blob/master/lessons/02_spacetime/02_03_1DDiffusion.ipynb). Either way, if you need to install it, [follow these instructions](https://github.com/numerical-mooc/numerical-mooc/wiki/HOWTO:-Install-JSAnimation-for-IPython-Notebook)."
     ]
    },
    {
     "cell_type": "code",
     "collapsed": false,
     "input": [
      "fig = plt.figure();\n",
      "ax = plt.axes(xlim=(0,4),ylim=(-.5,11));\n",
      "line, = ax.plot([],[],lw=2);\n",
      "\n",
      "def animate(data):\n",
      "    x = numpy.linspace(0,4,nx)\n",
      "    y = data\n",
      "    line.set_data(x,y)\n",
      "    return line,\n",
      "\n",
      "anim = animation.FuncAnimation(fig, animate, frames=rho_n, interval=50)\n",
      "display_animation(anim, default_mode='loop')"
     ],
     "language": "python",
     "metadata": {},
     "outputs": []
    },
    {
     "cell_type": "markdown",
     "metadata": {},
     "source": [
      "That doesn't look very good. Perhaps if we make the step size smaller, the result improves?"
     ]
    },
    {
     "cell_type": "heading",
     "level": 3,
     "metadata": {},
     "source": [
      "Lax-Friedrichs with CFL=0.5"
     ]
    },
    {
     "cell_type": "markdown",
     "metadata": {},
     "source": [
      "Let's follow our gut and see what happens if we take smaller times steps"
     ]
    },
    {
     "cell_type": "code",
     "collapsed": false,
     "input": [
      "sigma = 0.5\n",
      "dt = sigma*dx\n",
      "\n",
      "rho = rho_ic(nx, rho_max)      #make sure that u is set to our expected initial conditions\n",
      "rho_n = laxfriedrichs(rho, nt, dt, dx, rho_max, V_max)"
     ],
     "language": "python",
     "metadata": {},
     "outputs": []
    },
    {
     "cell_type": "markdown",
     "metadata": {},
     "source": [
      "Now that we have our new data set, we can set up our next animation.  We'll use all the same code from above, except now our `animate` function is already defined, so we can just set up a figure as before, then call `FuncAnimation`"
     ]
    },
    {
     "cell_type": "code",
     "collapsed": false,
     "input": [
      "fig = plt.figure();\n",
      "ax = plt.axes(xlim=(0,4),ylim=(-.5,2));\n",
      "line, = ax.plot([],[],lw=2);\n",
      "\n",
      "anim = animation.FuncAnimation(fig, animate, frames=rho_n, interval=50)\n",
      "display_animation(anim, default_mode='once')"
     ],
     "language": "python",
     "metadata": {},
     "outputs": []
    },
    {
     "cell_type": "markdown",
     "metadata": {},
     "source": [
      "Smaller time steps fon't make things a lot better!\n",
      "\n",
      "Notice the strange \"step\" behavior on the leading edge of the wave?  Check out a separate notebook [here](http://nbviewer.ipython.org/github/barbagroup/CFDPython/blob/master/lessons/19_Odd_Even_Decoupling.ipynb?create=1) to learn about \"Odd-Even Decoupling.\"\n",
      "\n",
      "Also take a look at how the change in CFL number affected the wave."
     ]
    },
    {
     "cell_type": "heading",
     "level": 2,
     "metadata": {},
     "source": [
      "Lax-Wendroff scheme"
     ]
    },
    {
     "cell_type": "markdown",
     "metadata": {},
     "source": [
      "The Lax-Wendroff scheme starts with taking the Taylor series expansion about $\\rho^{n+1}$:\n",
      "\n",
      "\\begin{equation}\\rho^{n+1} = \\rho^n + \\rho_t \\Delta t + \\frac{(\\Delta t)^2}{2}\\rho_{tt} + ...\\end{equation}\n",
      "\n",
      "Now substitute spatial derivatives for the time derivatives\n",
      "\n",
      "\\begin{equation}F_t = -JF_x\\end{equation} \n",
      "\n",
      "\\begin{equation}\\rho_t = -F_x\\end{equation}\n",
      "\n",
      "where \n",
      "\n",
      "\\begin{equation}J = \\frac{\\partial F}{\\partial \\rho} = V_{\\rm max} \\left(1-2\\frac{\\rho}{\\rho_{\\rm max}} \\right)\\end{equation} \n",
      "\n",
      "is the Jacobian for the traffic model.\n",
      "\n",
      "This, when plugged into the full traffic model equation, yields\n",
      "\n",
      "\\begin{equation}\\frac{\\rho_i^{n+1} - \\rho_i^n}{\\Delta t} = \\frac{-F^n_{i+1}-F^n_{i-1}}{2 \\Delta x} + \\frac{\\Delta t}{2} \\left(\\frac{(J \\frac{\\partial F}{\\partial x})^n_{i+\\frac{1}{2}}-(J \\frac{\\partial F}{\\partial x})^n_{i-\\frac{1}{2}}}{\\Delta x}\\right)\\end{equation}"
     ]
    },
    {
     "cell_type": "markdown",
     "metadata": {},
     "source": [
      "Approximate the last term in the above equation as:\n",
      "$$\\left(\\frac{(A \\frac{\\partial E}{\\partial x})^n_{i+\\frac{1}{2}}-(A \\frac{\\partial E}{\\partial x})^n_{i-\\frac{1}{2}}}{\\Delta x}\\right) \\approx \\frac{A^n_{i+\\frac{1}{2}}\\left(\\frac{E^n_{i+1}-E^n_{i}}{\\Delta x}\\right)-A^n_{i-\\frac{1}{2}}\\left(\\frac{E^n_i-E^n_{i-1}}{\\Delta x}\\right)}{\\Delta x}$$"
     ]
    },
    {
     "cell_type": "markdown",
     "metadata": {},
     "source": [
      "And evaluate the Jacobian at the midpoints:\n",
      "\n",
      "$$\\frac{\\frac{1}{2 \\Delta x}(A^n_{i+1}+A^n_i)(E^n_{i+1}-E^n_i)-\\frac{1}{2 \\Delta x}(A^n_i+A^n_{i-1})(E^n_i-E^n_{i-1})}{\\Delta x}$$\n",
      "\n",
      "So our equation now reads:\n",
      "\n",
      "$$\\frac{u_i^{n+1} - u_i^n}{\\Delta t} = \\frac{\\frac{1}{2 \\Delta x}(A^n_{i+1}+A^n_i)(E^n_{i+1}-E^n_i)-\\frac{1}{2 \\Delta x}(A^n_i+A^n_{i-1})(E^n_i-E^n_{i-1})}{\\Delta x}$$"
     ]
    },
    {
     "cell_type": "markdown",
     "metadata": {},
     "source": [
      "We substitute $A = u$ and then solve for $u^{n+1}_i$, the Lax-Wendroff Scheme results:\n",
      "\n",
      "\n",
      "$$u^{n+1}_i = u^n_i - \\frac{\\Delta t}{2 \\Delta x}(E^n_{i+1}-E^n_{i-1})+$$\n",
      "$$\\frac{\\Delta t^2}{4 \\Delta x^2}[(u^n_{i+1}+u^n_i)(E^n_{i+1}-E^n_i)-(u^n_i+u^n_{i-1})(E^n_i-E^n_{i-1})]$$\n",
      "\n",
      "\n",
      "Lax-Wendroff is a little bit long.  Remember that you can use \\ slashes to split up a statement across several lines.  This can help make code easier to parse (and also easier to debug!). "
     ]
    },
    {
     "cell_type": "code",
     "collapsed": false,
     "input": [
      "def laxwendroff(u, nt, dt, dx):\n",
      "    un = np.zeros((nt,len(u)))\n",
      "    un[:] = u.copy()\n",
      "    \n",
      "    for i in range(1,nt):\n",
      "        E = utoE(u)        \n",
      "        un[i,1:-1] = u[1:-1] - dt/(2*dx) * (E[2:]-E[:-2]) + dt**2/(4*dx**2) *\\\n",
      "        ((u[2:]+u[1:-1])*(E[2:]-E[1:-1]) -\\\n",
      "        (u[1:-1]+u[:-2])*(E[1:-1]-E[:-2]))\n",
      "        un[i,0]=1\n",
      "        \n",
      "        u = un[i].copy()  \n",
      "        \n",
      "    return un"
     ],
     "language": "python",
     "metadata": {},
     "outputs": []
    },
    {
     "cell_type": "markdown",
     "metadata": {},
     "source": [
      "Now that's we've defined a function for the Lax Wendroff scheme, we can use the seem procedure as above to animate and view our results.  \n",
      "\n",
      "###With CFL = 1"
     ]
    },
    {
     "cell_type": "code",
     "collapsed": false,
     "input": [
      "u = u_ic()\n",
      "sigma = 1\n",
      "dt = sigma*dx\n",
      "un = laxwendroff(u,nt,dt,dx)"
     ],
     "language": "python",
     "metadata": {},
     "outputs": []
    },
    {
     "cell_type": "code",
     "collapsed": false,
     "input": [
      "fig = plt.figure();\n",
      "ax = plt.axes(xlim=(0,4),ylim=(-.5,2));\n",
      "line, = ax.plot([],[],lw=2);\n",
      "\n",
      "anim = animation.FuncAnimation(fig, animate, frames=un, interval=50)\n",
      "display_animation(anim, default_mode='once')"
     ],
     "language": "python",
     "metadata": {},
     "outputs": []
    },
    {
     "cell_type": "markdown",
     "metadata": {},
     "source": [
      "### With CFL = 0.5"
     ]
    },
    {
     "cell_type": "code",
     "collapsed": false,
     "input": [
      "u = u_ic()\n",
      "sigma = .5\n",
      "dt = sigma*dx\n",
      "un = laxwendroff(u,nt,dt,dx)\n",
      "\n",
      "fig = plt.figure();\n",
      "ax = plt.axes(xlim=(0,4),ylim=(-.5,2));\n",
      "line, = ax.plot([],[],lw=2);\n",
      "\n",
      "anim = animation.FuncAnimation(fig, animate, frames=un, interval=50)\n",
      "display_animation(anim, default_mode='once')"
     ],
     "language": "python",
     "metadata": {},
     "outputs": []
    },
    {
     "cell_type": "markdown",
     "metadata": {},
     "source": [
      "How do the oscillations at the shock front vary with changes to the CFL condition?"
     ]
    },
    {
     "cell_type": "markdown",
     "metadata": {},
     "source": [
      "##MacCormack Scheme\n",
      "\n",
      "\\begin{equation}\\rho^*_i = \\rho^n_i - \\frac{\\Delta t}{\\Delta x} (F^n_{i+1}-F^n_{i}) \\ \\ \\ \\ \\ \\ (predictor)\\end{equation}\n",
      "\n",
      "\\begin{equation}\\rho^{n+1}_i = \\frac{1}{2} (\\rho^n_i + \\rho^*_i - \\frac{\\Delta t}{\\Delta x} (F^*_i - F^{*}_{i-1})) \\ \\ \\ \\ \\ \\ (corrector)\\end{equation}"
     ]
    },
    {
     "cell_type": "markdown",
     "metadata": {},
     "source": [
      "The MacCormack scheme is a 'predictor-corrector' method.  It first calculates a rough estimate of the next timestep and then smooths the predicted value in the second step.  "
     ]
    },
    {
     "cell_type": "code",
     "collapsed": false,
     "input": [
      "def maccormack(rho, nt, dt, dx, V_max, rho_max):\n",
      "    \"\"\" Computes the solution with MacCormack scheme\n",
      "    \n",
      "    Parameters\n",
      "    ----------\n",
      "    rho    : array of floats\n",
      "            Density at current time-step\n",
      "    nt     : int\n",
      "            Number of time steps\n",
      "    dt     : float\n",
      "            Time-step size\n",
      "    dx     : float\n",
      "            Mesh spacing\n",
      "    rho_max: float\n",
      "            Maximum allowed car density\n",
      "    V_max  : float\n",
      "            Speed limit\n",
      "    \n",
      "    Returns\n",
      "    -------\n",
      "    rho_n : array of floats\n",
      "            Density after nt time steps at every point x\n",
      "    \"\"\"\n",
      "    \n",
      "    rho_n = numpy.zeros((nt,len(rho)))\n",
      "    rho_star = numpy.empty_like(rho)\n",
      "    rho_n[:,:] = rho.copy()\n",
      "    rho_star = rho.copy()\n",
      "    \n",
      "    for t in range(1,nt):\n",
      "        F = computeF(V_max, rho_max, rho)\n",
      "        rho_star[:-1] = rho[:-1] - dt/dx * (F[1:]-F[:-1])\n",
      "        Fstar = computeF(V_max, rho_max, rho_star)\n",
      "        rho_n[t,1:] = .5 * (rho[1:]+rho_star[1:] - dt/dx * (Fstar[1:] - Fstar[:-1]))\n",
      "        rho = rho_n[t].copy()\n",
      "        \n",
      "    return rho_n"
     ],
     "language": "python",
     "metadata": {},
     "outputs": []
    },
    {
     "cell_type": "heading",
     "level": 3,
     "metadata": {},
     "source": [
      "CFL = 1"
     ]
    },
    {
     "cell_type": "code",
     "collapsed": false,
     "input": [
      "rho = rho_green_light(nx, rho_max, rho_light)\n",
      "sigma = 1.0\n",
      "dt = sigma*dx\n",
      "\n",
      "rho_n = maccormack(rho,nt,dt,dx,V_max,rho_max)\n",
      "\n",
      "#print nt\n",
      "#print rho_n[-1,:]\n",
      "\n",
      "fig = plt.figure();\n",
      "ax = plt.axes(xlim=(0,4),ylim=(-.5,11));\n",
      "line, = ax.plot([],[],lw=2);\n",
      "\n",
      "anim = animation.FuncAnimation(fig, animate, frames=rho_n, interval=50)\n",
      "display_animation(anim, default_mode='once')"
     ],
     "language": "python",
     "metadata": {},
     "outputs": []
    },
    {
     "cell_type": "heading",
     "level": 3,
     "metadata": {},
     "source": [
      "CFL = 0.5"
     ]
    },
    {
     "cell_type": "code",
     "collapsed": false,
     "input": [
      "u = u_ic()\n",
      "sigma = 0.5\n",
      "dt = sigma*dx\n",
      "\n",
      "un = maccormack(u,nt,dt,dx)\n",
      "\n",
      "fig = plt.figure();\n",
      "ax = plt.axes(xlim=(0,4),ylim=(-.5,2));\n",
      "line, = ax.plot([],[],lw=2);\n",
      "\n",
      "anim = animation.FuncAnimation(fig, animate, frames=un, interval=50)\n",
      "display_animation(anim, default_mode='once')"
     ],
     "language": "python",
     "metadata": {},
     "outputs": []
    },
    {
     "cell_type": "markdown",
     "metadata": {},
     "source": [
      "---\n",
      "\n",
      "######The cell below loads the style of the notebook."
     ]
    },
    {
     "cell_type": "code",
     "collapsed": false,
     "input": [
      "from IPython.core.display import HTML\n",
      "css_file = '../../styles/numericalmoocstyle.css'\n",
      "HTML(open(css_file, \"r\").read())"
     ],
     "language": "python",
     "metadata": {},
     "outputs": []
    },
    {
     "cell_type": "code",
     "collapsed": false,
     "input": [],
     "language": "python",
     "metadata": {},
     "outputs": []
    }
   ],
   "metadata": {}
  }
 ]
}