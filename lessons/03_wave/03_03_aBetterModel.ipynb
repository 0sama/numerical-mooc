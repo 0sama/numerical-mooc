{
 "metadata": {
  "name": "",
  "signature": "sha256:28b40f2ba9287307a0ad22c86cc0a80e86276c7fffee9bd8768538d49d7d5387"
 },
 "nbformat": 3,
 "nbformat_minor": 0,
 "worksheets": [
  {
   "cells": [
    {
     "cell_type": "heading",
     "level": 6,
     "metadata": {},
     "source": [
      "Content under Creative Commons Attribution license CC-BY 4.0, code under MIT license (c)2014 L.A. Barba, G.F. Forsyth, C.D. Cooper."
     ]
    },
    {
     "cell_type": "heading",
     "level": 1,
     "metadata": {},
     "source": [
      "Riding the wave"
     ]
    },
    {
     "cell_type": "heading",
     "level": 2,
     "metadata": {},
     "source": [
      "A Better Flux Model"
     ]
    },
    {
     "cell_type": "markdown",
     "metadata": {},
     "source": [
      "In the previous two notebooks we've explored the different behaviors that arise depending on the choice of numerical scheme.  An exploration of numerical methods will show that some restrictions come about from the methods themselves, while others still are imposed by the models we use.\n",
      "\n",
      "The model for traffic flux used in the first two notebooks is:\n",
      "\n",
      "\\begin{equation}\n",
      "F(\\rho) = V_{max} \\rho \\left(1 - \\frac{\\rho}{\\rho_{max}} \\right)\n",
      "\\end{equation}\n",
      "\n",
      "This flux equation met the two requirements specified, based on a qualitative view of traffic flow:\n",
      "1.  $V \\rightarrow V_{max}$ as $\\rho \\rightarrow 0$\n",
      "2.  $V \\rightarrow 0$ as $\\rho \\rightarrow \\rho_{max}$\n",
      "\n",
      "The results of our first two notebooks, however, show that this leads to some unrealistic, or at least improbable, results.  According to the model, maximum flux occurs when $\\rho = \\rho_{max}/2$.  Further, it shows that this corresponds to a velocity $V = V_{max}/2$.  \n",
      "\n",
      "A good question to ask here is:  Should the maximum flux on a given stretch of road have a strict relation to the maximum speed that the roadway allows, be it by physical restriction or posted speed limits?  \n",
      "\n",
      "Probably not.  But there *should* be some ideal velocity, which would correspond to an ideal traffic density and in turn to a maximum traffic flux.  To this end, let's define an ideal velocity, $V_{ideal}$, and ideal density, $\\rho_{ideal}$, such that\n",
      "\n",
      "\\begin{equation}F_{max} = \\rho_{ideal}V_{ideal}\\end{equation}\n",
      "\n",
      "Now we can introduce a new flux model, one which is cubic in $\\rho$ instead of quadratic:  "
     ]
    },
    {
     "cell_type": "markdown",
     "metadata": {},
     "source": [
      "\\begin{equation}F(\\rho) = V_{max}\\rho (1 - A\\rho - B \\rho^2)\\end{equation}\n",
      "\n",
      "Note that this new model still meets the first criteria listed above.  To solve for the unknowns $A$ and $B$ we apply the second (that the flux goes to zero when the traffic density reaches the maximum), and similar criteria, based now on our new quantities, $V_{ideal}$ and $\\rho_{ideal}$.  \n",
      "\n",
      "*  When $\\rho = \\rho_{max}$ traffic flux goes to zero\n",
      "\n",
      "\\begin{equation}F(\\rho_{max}) = 0 = V_{max}\\rho_{max}(1 - A \\rho_{max} - B \\rho_{max}^2)\\end{equation}\n",
      "\n",
      "*  Maximum flux occurs when $\\rho = \\rho_{ideal}$, or, equivalently, when $F'(\\rho_{ideal}) = 0$\n",
      "\n",
      "\\begin{equation}F'(\\rho_{ideal}) = 0  = V_{max}(1 - 2A\\rho_{ideal} - 3B\\rho^2_{ideal})\\end{equation}\n",
      "\n",
      "*  $V_{ideal}$ must occur when $\\rho = \\rho_{ideal}$\n",
      "\n",
      "\\begin{equation}V_{ideal} = V_{max}(1 - A \\rho_{ideal} - B\\rho^2_{ideal})\\end{equation}\n"
     ]
    },
    {
     "cell_type": "heading",
     "level": 3,
     "metadata": {},
     "source": [
      "Solving for the new flux equation"
     ]
    },
    {
     "cell_type": "markdown",
     "metadata": {},
     "source": [
      "Equations $(4)$, $(5)$, and $(6)$ might seem relatively straightforward at first glance, but notice that the latter two are quadratic in $\\rho_{ideal}$ and involve unknown coefficients.  $V_{ideal}$ is an observed quantity that we'll enter later.\n",
      "\n",
      "We can use `sympy` to help solve for $A$ and $B$, but we'll have to help it along in order to handle the full system.  \n",
      "\n",
      "We begin by importing `sympy`, initializing $\\LaTeX$ printing and defining a suite of symbolic variables."
     ]
    },
    {
     "cell_type": "code",
     "collapsed": false,
     "input": [
      "import sympy\n",
      "sympy.init_printing()\n",
      "\n",
      "V_m, V_i, rho, rho_i, A, B = sympy.symbols('V_m V_i rho rho_i A B')"
     ],
     "language": "python",
     "metadata": {},
     "outputs": []
    },
    {
     "cell_type": "markdown",
     "metadata": {},
     "source": [
      "Use `sympy.Eq` to define the three equations in terms of symbolic variables."
     ]
    },
    {
     "cell_type": "code",
     "collapsed": false,
     "input": [
      "eq1 = sympy.Eq(0, V_m*rho*(1 - A*rho-B*rho**2))\n",
      "eq2 = sympy.Eq(0, V_m*(1 - 2*A*rho_i-3*B*rho_i**2))\n",
      "eq3 = sympy.Eq(V_i, V_m*(1 - A*rho_i - B*rho_i**2))"
     ],
     "language": "python",
     "metadata": {},
     "outputs": []
    },
    {
     "cell_type": "code",
     "collapsed": false,
     "input": [
      "eq1"
     ],
     "language": "python",
     "metadata": {},
     "outputs": []
    },
    {
     "cell_type": "code",
     "collapsed": false,
     "input": [
      "eq2"
     ],
     "language": "python",
     "metadata": {},
     "outputs": []
    },
    {
     "cell_type": "code",
     "collapsed": false,
     "input": [
      "eq3"
     ],
     "language": "python",
     "metadata": {},
     "outputs": []
    },
    {
     "cell_type": "markdown",
     "metadata": {},
     "source": [
      "We have three equations and three unknowns (assuming we have some observed $V_i$ value) -- there must be a solution!\n",
      "\n",
      "We can put `eq2` in terms of $A$ and $\\rho_i$ by subtracting `3*eq3`.  Unfortunately, `sympy` doesn't parse equation subtraction very well. "
     ]
    },
    {
     "cell_type": "code",
     "collapsed": false,
     "input": [
      "eq2 - 3*eq3"
     ],
     "language": "python",
     "metadata": {},
     "outputs": []
    },
    {
     "cell_type": "markdown",
     "metadata": {},
     "source": [
      "See?  But we can create a new equation and perform the LHS and RHS operations separately and then recombine them into our result."
     ]
    },
    {
     "cell_type": "code",
     "collapsed": false,
     "input": [
      "eq4 = sympy.Eq(eq2.lhs - 3*eq3.lhs, eq2.rhs - 3*eq3.rhs)\n",
      "eq4"
     ],
     "language": "python",
     "metadata": {},
     "outputs": []
    },
    {
     "cell_type": "markdown",
     "metadata": {},
     "source": [
      "You can use `expand()` and `simplify()` to help reduce equations.  Try experimenting with both -- it depends on the equation and on what *you* find most readable."
     ]
    },
    {
     "cell_type": "code",
     "collapsed": false,
     "input": [
      "eq4.expand()"
     ],
     "language": "python",
     "metadata": {},
     "outputs": []
    },
    {
     "cell_type": "markdown",
     "metadata": {},
     "source": [
      "We can use this result to solve for $\\rho_i$ in terms of $A$, and a close look at `eq1` will show you that we can solve for $B$ in terms of $A$, as well.  \n",
      "\n",
      "**Note**: `sympy.solve()` always returns results in a *list*, since you often end up with multiple solutions for a given variable.  These linear equations will only return one solution, so we can skip a step and ask for the `[0]`th element of the list."
     ]
    },
    {
     "cell_type": "code",
     "collapsed": false,
     "input": [
      "rho_sol = sympy.solve(eq4,rho_i)[0]\n",
      "rho_sol"
     ],
     "language": "python",
     "metadata": {},
     "outputs": []
    },
    {
     "cell_type": "code",
     "collapsed": false,
     "input": [
      "B_sol = sympy.solve(eq1,B)[0]\n",
      "B_sol"
     ],
     "language": "python",
     "metadata": {},
     "outputs": []
    },
    {
     "cell_type": "markdown",
     "metadata": {},
     "source": [
      "Substitute both of our solutions into `eq2` and we get an equation that is quadratic in $A$."
     ]
    },
    {
     "cell_type": "code",
     "collapsed": false,
     "input": [
      "quadA = eq2.subs([(rho_i, rho_sol), (B,B_sol)])\n",
      "quadA.simplify()"
     ],
     "language": "python",
     "metadata": {},
     "outputs": []
    },
    {
     "cell_type": "markdown",
     "metadata": {},
     "source": [
      "It's a little bit ugly, but that is quadratic in $A$, and that means we can solve for the roots of the equation.  "
     ]
    },
    {
     "cell_type": "code",
     "collapsed": false,
     "input": [
      "A_sol = sympy.solve(quadA, A)\n",
      "A_sol"
     ],
     "language": "python",
     "metadata": {},
     "outputs": []
    },
    {
     "cell_type": "heading",
     "level": 2,
     "metadata": {},
     "source": [
      "Evaluating the new flux equation"
     ]
    },
    {
     "cell_type": "markdown",
     "metadata": {},
     "source": [
      "Quadratic equations, of course, have two solutions -- which do we choose?  We've opted to select the positive root for our traffic flux, but in order to determine *which* root is positive, we need to fill in some of our variables with real numbers!"
     ]
    },
    {
     "cell_type": "markdown",
     "metadata": {},
     "source": [
      "We want to be consistent with our values from the previous notebooks, using the same numbers for $\\rho_{max}$ and $V_{max}$, but we also have to supply a $V_{ideal}$.  \n",
      "\n",
      "$V_{ideal}$ should be experimentally observed -- we've chosen our $V_{ideal} = 0.7$.  This corresponds to 84 km/h for a highway with a 120 km/h speed limit."
     ]
    },
    {
     "cell_type": "code",
     "collapsed": false,
     "input": [
      "rho_max = 10.\n",
      "V_max = 1.\n",
      "V_ideal = .7"
     ],
     "language": "python",
     "metadata": {},
     "outputs": []
    },
    {
     "cell_type": "markdown",
     "metadata": {},
     "source": [
      "We can substitute these values in for the symbolic variables using the `subs()` function, and then evaluate the result using `evalf()`.  Let's try the `[0]`th solution for $A$, first:"
     ]
    },
    {
     "cell_type": "code",
     "collapsed": false,
     "input": [
      "aval = A_sol[0].subs([(V_i, V_ideal), (V_m, V_max), (rho, rho_max)]).evalf()\n",
      "aval"
     ],
     "language": "python",
     "metadata": {},
     "outputs": []
    },
    {
     "cell_type": "markdown",
     "metadata": {},
     "source": [
      "That's the negative root.  Let's switch to the positive root:"
     ]
    },
    {
     "cell_type": "code",
     "collapsed": false,
     "input": [
      "aval = A_sol[1].subs([(V_i, V_ideal), (V_m, V_max), (rho, rho_max)]).evalf()\n",
      "aval"
     ],
     "language": "python",
     "metadata": {},
     "outputs": []
    },
    {
     "cell_type": "markdown",
     "metadata": {},
     "source": [
      "Now use `subs()` and `evalf()` once more to solve for $B$:"
     ]
    },
    {
     "cell_type": "code",
     "collapsed": false,
     "input": [
      "bval = B_sol.subs([(rho, rho_max),(A,aval)]).evalf()\n",
      "bval"
     ],
     "language": "python",
     "metadata": {},
     "outputs": []
    },
    {
     "cell_type": "heading",
     "level": 3,
     "metadata": {},
     "source": [
      "Turn off $\\LaTeX$"
     ]
    },
    {
     "cell_type": "markdown",
     "metadata": {},
     "source": [
      "$\\LaTeX$ output is great when we're looking at algebraic expressions, but it's a little too much for simple numeric output.  Let's turn it off for the rest of the exercise:"
     ]
    },
    {
     "cell_type": "code",
     "collapsed": false,
     "input": [
      "sympy.init_printing(use_latex=False)"
     ],
     "language": "python",
     "metadata": {},
     "outputs": []
    },
    {
     "cell_type": "heading",
     "level": 2,
     "metadata": {},
     "source": [
      "Green Light: Take 2"
     ]
    },
    {
     "cell_type": "markdown",
     "metadata": {},
     "source": [
      "Let's re-examine our Green Light problem from Notebook 1 but using our newly computed traffic flux equation.  We shouldn't have to change much -- in fact, we can simply create a new `computeF` function and leave the rest of our code the same."
     ]
    },
    {
     "cell_type": "code",
     "collapsed": false,
     "input": [
      "def computeF(rho):\n",
      "    return V_max*rho*(1 - aval*rho-bval*rho**2)"
     ],
     "language": "python",
     "metadata": {},
     "outputs": []
    },
    {
     "cell_type": "code",
     "collapsed": false,
     "input": [
      "import numpy\n",
      "import matplotlib.pyplot as plt\n",
      "%matplotlib inline\n",
      "from matplotlib import rcParams\n",
      "rcParams['font.family'] = 'serif'\n",
      "rcParams['font.size'] = 16"
     ],
     "language": "python",
     "metadata": {},
     "outputs": []
    },
    {
     "cell_type": "code",
     "collapsed": false,
     "input": [
      "def rho_green_light(nx, rho_max, rho_light):\n",
      "    \"\"\"Computes \"green light\" initial condition with shock, and linear distribution behind\n",
      "\n",
      "    Parameters\n",
      "    ----------\n",
      "    nx        : int\n",
      "        Number of grid points in x\n",
      "    rho_max   : float\n",
      "        Maximum allowed car density\n",
      "    rho_light : float\n",
      "        Density of cars at stoplight\n",
      "\n",
      "    Returns\n",
      "    -------\n",
      "    rho_initial: array of floats\n",
      "        Array with initial values of density\n",
      "    \"\"\"    \n",
      "    rho_initial = numpy.arange(nx)*2./nx*rho_light  # Before stoplight\n",
      "    rho_initial[(nx-1)/2:] = 0\n",
      "    \n",
      "    return rho_initial"
     ],
     "language": "python",
     "metadata": {},
     "outputs": []
    },
    {
     "cell_type": "code",
     "collapsed": false,
     "input": [
      "#Basic initial condition parameters\n",
      "#defining grid size, time steps\n",
      "nx = 81\n",
      "nt = 30\n",
      "dx = 4.0/nx\n",
      "\n",
      "x = numpy.linspace(0,4,nx)\n",
      "\n",
      "rho_light = 5.5"
     ],
     "language": "python",
     "metadata": {},
     "outputs": []
    },
    {
     "cell_type": "code",
     "collapsed": false,
     "input": [
      "rho_initial = rho_green_light(nx, rho_max, rho_light)"
     ],
     "language": "python",
     "metadata": {},
     "outputs": []
    },
    {
     "cell_type": "code",
     "collapsed": false,
     "input": [
      "plt.plot(x, rho_initial, color='#003366', ls='-', lw=3)\n",
      "plt.ylim(-0.5,11.);"
     ],
     "language": "python",
     "metadata": {},
     "outputs": []
    },
    {
     "cell_type": "code",
     "collapsed": false,
     "input": [
      "def ftbs(rho, nt, dt, dx, rho_max, V_max):\n",
      "    \"\"\" Computes the solution with forward in time, backward in space\n",
      "    \n",
      "    Parameters\n",
      "    ----------\n",
      "    rho    : array of floats\n",
      "            Density at current time-step\n",
      "    nt     : int\n",
      "            Number of time steps\n",
      "    dt     : float\n",
      "            Time-step size\n",
      "    dx     : float\n",
      "            Mesh spacing\n",
      "    rho_max: float\n",
      "            Maximum allowed car density\n",
      "    V_max  : float\n",
      "            Speed limit\n",
      "    \n",
      "    Returns\n",
      "    -------\n",
      "    rho_n : array of floats\n",
      "            Density after nt time steps at every point x\n",
      "    \"\"\"\n",
      "    \n",
      "    #initialize our results array with dimensions nt by nx\n",
      "    rho_n = numpy.zeros((nt,len(rho)))      \n",
      "    #copy the initial u array into each row of our new array\n",
      "    rho_n[0,:] = rho.copy()              \n",
      "    \n",
      "    for t in range(1,nt):\n",
      "        F = computeF(rho)\n",
      "        rho_n[t,1:] = rho[1:] - dt/dx*(F[1:]-F[:-1])\n",
      "        rho_n[t,0] = rho[0]\n",
      "        rho_n[t,-1] = rho[-1]\n",
      "        rho = rho_n[t].copy()\n",
      "\n",
      "    return rho_n"
     ],
     "language": "python",
     "metadata": {},
     "outputs": []
    },
    {
     "cell_type": "code",
     "collapsed": false,
     "input": [
      "sigma = 1.\n",
      "dt = sigma*dx\n",
      "\n",
      "rho_n = ftbs(rho_initial, nt, dt, dx, rho_max, V_max)"
     ],
     "language": "python",
     "metadata": {},
     "outputs": []
    },
    {
     "cell_type": "code",
     "collapsed": false,
     "input": [
      "from matplotlib import animation\n",
      "from JSAnimation.IPython_display import display_animation"
     ],
     "language": "python",
     "metadata": {},
     "outputs": []
    },
    {
     "cell_type": "code",
     "collapsed": false,
     "input": [
      "fig = plt.figure();\n",
      "ax = plt.axes(xlim=(0,4),ylim=(-1,8),xlabel=('Distance'),ylabel=('Traffic density'));\n",
      "line, = ax.plot([],[],color='#003366', lw=2);\n",
      "\n",
      "def animate(data):\n",
      "    x = numpy.linspace(0,4,nx)\n",
      "    y = data\n",
      "    line.set_data(x,y)\n",
      "    return line,\n",
      "\n",
      "anim = animation.FuncAnimation(fig, animate, frames=rho_n, interval=50)\n",
      "display_animation(anim, default_mode='once')"
     ],
     "language": "python",
     "metadata": {},
     "outputs": []
    },
    {
     "cell_type": "markdown",
     "metadata": {},
     "source": [
      "That definitely looks different!  Do you think this is more or less accurate than our previous model?"
     ]
    },
    {
     "cell_type": "heading",
     "level": 5,
     "metadata": {},
     "source": [
      "Exercise"
     ]
    },
    {
     "cell_type": "markdown",
     "metadata": {},
     "source": [
      "Our previous traffic flux model had a maximum flux value of $\\rho_{max}/2$.  \n",
      "\n",
      "Compute the maximum flux value for our new cubic flux equation.  "
     ]
    },
    {
     "cell_type": "markdown",
     "metadata": {},
     "source": [
      "---\n",
      "\n",
      "######The cell below loads the style of the notebook."
     ]
    },
    {
     "cell_type": "code",
     "collapsed": false,
     "input": [
      "from IPython.core.display import HTML\n",
      "css_file = '../../styles/numericalmoocstyle.css'\n",
      "HTML(open(css_file, \"r\").read())"
     ],
     "language": "python",
     "metadata": {},
     "outputs": []
    }
   ],
   "metadata": {}
  }
 ]
}