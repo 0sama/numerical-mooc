{
 "metadata": {
  "name": "",
  "signature": "sha256:3b68949c627cfae85d458a4442b6191bdc1872afb497f9f979190799fb8d8861"
 },
 "nbformat": 3,
 "nbformat_minor": 0,
 "worksheets": [
  {
   "cells": [
    {
     "cell_type": "heading",
     "level": 6,
     "metadata": {},
     "source": [
      "Content under Creative Commons Attribution license CC-BY 4.0, code under MIT license (c)2014 L.A. Barba, C.D. Cooper, G.F. Forsyth."
     ]
    },
    {
     "cell_type": "heading",
     "level": 1,
     "metadata": {},
     "source": [
      "Riding the wave"
     ]
    },
    {
     "cell_type": "markdown",
     "metadata": {},
     "source": [
      "We've reached the third lesson of the module _Riding the wave: Convection problems_, where we explore the numerical solution of conservation laws. We learned in the [first lesson](http://nbviewer.ipython.org/github/numerical-mooc/numerical-mooc/blob/master/lessons/03_wave/03_01_conservationLaw.ipynb) how to think about conservation laws, starting with the most intuitive case: that of conservation of mass. But there are many physical quantities that can be conserved: energy, for example. Or cars on a road.\n",
      "\n",
      "Developing a conservation law for traffic in a one-lane roadway is fun, because we can relate to the insights it gives. We've all experienced traffic slowing down to a crawl when the density of cars gets very high, and stepping on the accelerator pedal with glee when there are no cars on the road!\n",
      "\n",
      "In the previous two notebooks, we developed a traffic-flow model and explored the [different choices of numerical scheme](http://nbviewer.ipython.org/github/numerical-mooc/numerical-mooc/blob/master/lessons/03_wave/03_02_convectionSchemes.ipynb).  Not everything worked as you expected, and by now you might be realizing how some restrictions come about from the methods themselves, while others still are imposed by the models we use. This lesson will develop a better traffic model, and also show you some impressive SymPy kung fu."
     ]
    },
    {
     "cell_type": "heading",
     "level": 2,
     "metadata": {},
     "source": [
      "Traffic flow, revisited"
     ]
    },
    {
     "cell_type": "heading",
     "level": 3,
     "metadata": {},
     "source": [
      "A better flux model"
     ]
    },
    {
     "cell_type": "markdown",
     "metadata": {},
     "source": [
      "Like you saw in the first lesson, cars obey a typical conservation law,\n",
      "\n",
      "\\begin{equation}\n",
      " \\frac{\\partial \\rho}{\\partial t} + \\frac{\\partial F}{\\partial x} = 0, \\end{equation}\n",
      "\n",
      "where $F$ is the flux, $F=\\rho u$\u2014flux equals density times velocity. From our experience on the road, we know that the traffic speed is a function of traffic density, and we proposed as a first approximation a linear relation between the two. Thus,\n",
      "\n",
      "\\begin{equation}\n",
      "F(\\rho) = \\rho \\, u_{max}\\left(1 - \\frac{\\rho}{\\rho_{max}} \\right)\n",
      "\\end{equation}\n",
      "\n",
      "This flux model meets the two requirements, based on a qualitative view of traffic flow, that:\n",
      "1.  $u \\rightarrow u_{max}$ and $F\\rightarrow 0$ when $\\rho \\rightarrow 0$.\n",
      "2.  $u \\rightarrow 0$ as $\\rho \\rightarrow \\rho_{max}$\n",
      "\n",
      "However, it leads to some unrealistic or at least improbable results.  Note that if the traffic speed is a linear function of density, the flux function will be quadratic (see Figure 1). In this case, the maximum flux will occur when $\\rho^{\\star} = \\rho_{max}/2$, corresponding to a traffic speed $u_{max}/2$.  "
     ]
    },
    {
     "cell_type": "markdown",
     "metadata": {},
     "source": [
      "![velocity_and_flux](./figures/velocity_and_flux.png)\n",
      "####Figure 1. Traffic speed (left) and flux (right) vs. density."
     ]
    },
    {
     "cell_type": "markdown",
     "metadata": {},
     "source": [
      "A good question to ask here is:  should the maximum flux on a given stretch of road have a strict dependence on the maximum speed that the roadway allows, be it by physical restrictions or posted speed limits?  \n",
      "\n",
      "Probably not.  But there *should* be some ideal traffic speed, $u^{\\star}$, corresponding to an ideal traffic density, $\\rho^{\\star}$, resulting in the maximum traffic flux:\n",
      "\n",
      "\\begin{equation}F_{\\rm max} = \\rho^{\\star}u^{\\star}\\end{equation}\n",
      "\n",
      "Any flux model would still satisfy that the slope of the curve $F(\\rho)$ is equal to zero at $F_{\\rm max}$. One possible flux model that can satisfy all the conditions is cubic in $\\rho$ instead of quadratic: \n",
      "\n",
      "\\begin{equation}F(\\rho) = u_{\\rm max}\\rho (1 - A\\rho - B \\rho^2)\\end{equation}\n",
      "\n",
      "This new model still meets the first criterion listed above: $F\\rightarrow 0$ when $\\rho \\rightarrow 0$.  To find the unknowns $A$ and $B$ we apply the other conditions on the flux, based now on the quantities, $u^{\\star}$ and $\\rho^{\\star}$, as follows:\n",
      "\n",
      "*  When $\\rho = \\rho_{\\rm max}$ traffic flux goes to zero:\n",
      "\n",
      "\\begin{equation}F(\\rho_{\\rm max}) = 0 = u_{\\rm max}\\, \\rho_{\\rm max}(1 - A \\rho_{\\rm max} - B \\rho_{\\rm max}^2)\\end{equation}\n",
      "\n",
      "*  Maximum flux occurs when $\\rho = \\rho^{\\star}$ and $F'(\\rho^{\\star}) = 0$:\n",
      "\n",
      "\\begin{equation}\n",
      "F'(\\rho^{\\star}) = 0  = u_{\\rm max}(1 - 2A\\rho^{\\star} - 3B(\\rho^{\\star})^2)\\end{equation}\n",
      "\n",
      "*  $u^{\\star}$ is obtained when $\\rho = \\rho^{\\star}$:\n",
      "\n",
      "\\begin{equation}\n",
      "u^{\\star} = u_{\\rm max}(1 - A \\rho^{\\star} - B(\\rho^{\\star})^2)\\end{equation}\n"
     ]
    },
    {
     "cell_type": "heading",
     "level": 3,
     "metadata": {},
     "source": [
      "Solving the new flux equation"
     ]
    },
    {
     "cell_type": "markdown",
     "metadata": {},
     "source": [
      "Equations $(4)$, $(5)$, and $(6)$ might seem straightforward at first glance, but notice that the latter two are quadratic in $\\rho^{\\star}$ and involve unknown coefficients.  The quantity $u^{\\star}$ could be obtained for a given road by observations, but we need to find the coefficients $A$ and $B$. For this, we can use [SymPy](http://sympy.org/en/index.html), the symbolic mathematics library of Python.  You used SymPy already in the [Burgers' equation lesson](http://nbviewer.ipython.org/github/numerical-mooc/numerical-mooc/blob/master/lessons/02_spacetime/02_04_1DBurgers.ipynb) of Module 2, _\"Space & Time\"_.\n",
      "\n",
      "We begin by importing SymPy, initializing $\\LaTeX$ printing and defining a set of symbolic variables that we'll use in the calculations. Remember: variables are not defined automatically, you have to tell SymPy that a name will correspond to a symbolic variable by using the keyword `symbols`."
     ]
    },
    {
     "cell_type": "code",
     "collapsed": false,
     "input": [
      "import sympy\n",
      "sympy.init_printing()\n",
      "\n",
      "u_m, u_i, rho, rho_i, A, B = sympy.symbols('u_m u_i rho rho_i A B')"
     ],
     "language": "python",
     "metadata": {},
     "outputs": []
    },
    {
     "cell_type": "markdown",
     "metadata": {},
     "source": [
      "Next, use `sympy.Eq` to define the three equations\u2014corresponding to Equations $(4)$, $(5)$ and $(6)$, above\u2014in terms of symbolic variables. We need to remember that the equal sign in Python is used for variable assignment, and for that reason it cannot be used to build a symbolic equation with SymPy. That is why we need `sympy.Eq` to create symbolic equalities. But the equal sign _is_ used to _assign_ an equation to a name: here, `eq1`, `eq2`, `eq3` are names for the symbolic equations we create with `sympy.Eq`."
     ]
    },
    {
     "cell_type": "code",
     "collapsed": false,
     "input": [
      "eq1 = sympy.Eq( 0, u_m*rho*(1 - A*rho-B*rho**2) )\n",
      "eq2 = sympy.Eq( 0, u_m*(1 - 2*A*rho_i-3*B*rho_i**2) )\n",
      "eq3 = sympy.Eq( u_i, u_m*(1 - A*rho_i - B*rho_i**2) )"
     ],
     "language": "python",
     "metadata": {},
     "outputs": []
    },
    {
     "cell_type": "markdown",
     "metadata": {},
     "source": [
      "Check this out: you can display these equations in pretty typeset mathematics just by executing their name in a code cell:"
     ]
    },
    {
     "cell_type": "code",
     "collapsed": false,
     "input": [
      "eq1"
     ],
     "language": "python",
     "metadata": {},
     "outputs": []
    },
    {
     "cell_type": "code",
     "collapsed": false,
     "input": [
      "eq2"
     ],
     "language": "python",
     "metadata": {},
     "outputs": []
    },
    {
     "cell_type": "code",
     "collapsed": false,
     "input": [
      "eq3"
     ],
     "language": "python",
     "metadata": {},
     "outputs": []
    },
    {
     "cell_type": "markdown",
     "metadata": {},
     "source": [
      "We have three equations with three unknowns (assuming we have some observed $u_i$ value)\u2014there must be a solution!\n",
      "\n",
      "To eliminate the term with $B$ in `eq2`, leaving it only in terms of $A$ and $\\rho_i$, we might subtract `3*eq3`.  This will not work in SymPy if you attempt equation subtraction using the equation names, however. Just like we couldn't use the equal sign (which in Python means assignment) to create a symbolic equality (needing `sympy.Eq` instead), we can't use mathematical operators directly on the SymPy equations, because they are really _equalities_. What does it mean to subtract two _equalities_? It doesn't make sense. Try it ..."
     ]
    },
    {
     "cell_type": "code",
     "collapsed": false,
     "input": [
      "eq2 - 3*eq3"
     ],
     "language": "python",
     "metadata": {},
     "outputs": []
    },
    {
     "cell_type": "markdown",
     "metadata": {},
     "source": [
      "See?  SymPy just printed out what you suggested but it did not manipulate algebraically the left and right sides of `eq2` like we were aiming for. What we _can_ do is create a _new_ equation, perform the LHS and RHS operations separately and then recombine them into our desired result. For this, it is helpful to know that there are built-in properties of a SymPy equality for the left-hand side and the right-hand side of the relation. Check it out:"
     ]
    },
    {
     "cell_type": "code",
     "collapsed": false,
     "input": [
      "eq4 = sympy.Eq(eq2.lhs - 3*eq3.lhs, eq2.rhs - 3*eq3.rhs)\n",
      "eq4"
     ],
     "language": "python",
     "metadata": {},
     "outputs": []
    },
    {
     "cell_type": "markdown",
     "metadata": {},
     "source": [
      "You can use `expand()` and `simplify()` to help reduce equations.  Try experimenting with both\u2014it depends on the equation and on what *you* find most readable."
     ]
    },
    {
     "cell_type": "code",
     "collapsed": false,
     "input": [
      "eq4.expand()"
     ],
     "language": "python",
     "metadata": {},
     "outputs": []
    },
    {
     "cell_type": "markdown",
     "metadata": {},
     "source": [
      "We can use this result to solve for $\\rho_i$ in terms of $A$, and a close look at `eq1` will show you that we can solve for $B$ in terms of $A$, as well.  \n",
      "\n",
      "**Note**: `sympy.solve()` always returns results in a *list*, since you often end up with multiple solutions for a given variable.  These linear equations will only return one solution, so we can skip a step and ask for the `[0]`th element of the list."
     ]
    },
    {
     "cell_type": "code",
     "collapsed": false,
     "input": [
      "rho_sol = sympy.solve(eq4,rho_i)[0]\n",
      "rho_sol"
     ],
     "language": "python",
     "metadata": {},
     "outputs": []
    },
    {
     "cell_type": "code",
     "collapsed": false,
     "input": [
      "B_sol = sympy.solve(eq1,B)[0]\n",
      "B_sol"
     ],
     "language": "python",
     "metadata": {},
     "outputs": []
    },
    {
     "cell_type": "markdown",
     "metadata": {},
     "source": [
      "Substitute both of our solutions into `eq2` and we get an equation that is quadratic in $A$."
     ]
    },
    {
     "cell_type": "code",
     "collapsed": false,
     "input": [
      "quadA = eq2.subs([(rho_i, rho_sol), (B,B_sol)])\n",
      "quadA.simplify()"
     ],
     "language": "python",
     "metadata": {},
     "outputs": []
    },
    {
     "cell_type": "markdown",
     "metadata": {},
     "source": [
      "It's a little bit ugly, but that is quadratic in $A$, and that means we can solve for the roots of the equation.  "
     ]
    },
    {
     "cell_type": "code",
     "collapsed": false,
     "input": [
      "A_sol = sympy.solve(quadA, A)\n",
      "A_sol"
     ],
     "language": "python",
     "metadata": {},
     "outputs": []
    },
    {
     "cell_type": "heading",
     "level": 3,
     "metadata": {},
     "source": [
      "Evaluating the new flux equation"
     ]
    },
    {
     "cell_type": "markdown",
     "metadata": {},
     "source": [
      "Quadratic equations, of course, have two solutions -- which do we choose?  We've opted to select the positive root for our traffic flux, but in order to determine *which* root is positive, we need to fill in some of our variables with real numbers!"
     ]
    },
    {
     "cell_type": "markdown",
     "metadata": {},
     "source": [
      "We want to be consistent with our values from the previous notebooks, using the same numbers for $\\rho_{max}$ and $U_{max}$, but we also have to supply a $U_{ideal}$.  \n",
      "\n",
      "$U_{ideal}$ should be experimentally observed -- we've chosen our $U_{ideal} = 0.7$.  This corresponds to 84 km/h for a highway with a 120 km/h speed limit."
     ]
    },
    {
     "cell_type": "code",
     "collapsed": false,
     "input": [
      "rho_max = 10.\n",
      "u_max = 1.\n",
      "u_ideal = .7"
     ],
     "language": "python",
     "metadata": {},
     "outputs": []
    },
    {
     "cell_type": "markdown",
     "metadata": {},
     "source": [
      "We can substitute these values in for the symbolic variables using the `subs()` function, and then evaluate the result using `evalf()`.  Let's try the `[0]`th solution for $A$, first:"
     ]
    },
    {
     "cell_type": "code",
     "collapsed": false,
     "input": [
      "aval = A_sol[0].subs([(u_i, u_ideal), (u_m, u_max), (rho, rho_max)]).evalf()\n",
      "aval"
     ],
     "language": "python",
     "metadata": {},
     "outputs": []
    },
    {
     "cell_type": "markdown",
     "metadata": {},
     "source": [
      "That's the negative root.  Let's switch to the positive root:"
     ]
    },
    {
     "cell_type": "code",
     "collapsed": false,
     "input": [
      "aval = A_sol[1].subs([(u_i, u_ideal), (u_m, u_max), (rho, rho_max)]).evalf()\n",
      "aval"
     ],
     "language": "python",
     "metadata": {},
     "outputs": []
    },
    {
     "cell_type": "markdown",
     "metadata": {},
     "source": [
      "Now use `subs()` and `evalf()` once more to solve for $B$:"
     ]
    },
    {
     "cell_type": "code",
     "collapsed": false,
     "input": [
      "bval = B_sol.subs([(rho, rho_max),(A,aval)]).evalf()\n",
      "bval"
     ],
     "language": "python",
     "metadata": {},
     "outputs": []
    },
    {
     "cell_type": "heading",
     "level": 3,
     "metadata": {},
     "source": [
      "Turn off $\\LaTeX$"
     ]
    },
    {
     "cell_type": "markdown",
     "metadata": {},
     "source": [
      "$\\LaTeX$ output is great when we're looking at algebraic expressions, but it's a little too much for simple numeric output.  Let's turn it off for the rest of the exercise:"
     ]
    },
    {
     "cell_type": "code",
     "collapsed": false,
     "input": [
      "sympy.init_printing(use_latex=False)"
     ],
     "language": "python",
     "metadata": {},
     "outputs": []
    },
    {
     "cell_type": "heading",
     "level": 2,
     "metadata": {},
     "source": [
      "Green Light: Take 2"
     ]
    },
    {
     "cell_type": "markdown",
     "metadata": {},
     "source": [
      "Let's re-examine our Green Light problem from Notebook 1 but using our newly computed traffic flux equation.  We shouldn't have to change much -- in fact, we can simply create a new `computeF` function and leave the rest of our code the same."
     ]
    },
    {
     "cell_type": "code",
     "collapsed": false,
     "input": [
      "def computeF(rho):\n",
      "    return u_max*rho*(1 - aval*rho-bval*rho**2)"
     ],
     "language": "python",
     "metadata": {},
     "outputs": []
    },
    {
     "cell_type": "code",
     "collapsed": false,
     "input": [
      "import numpy\n",
      "import matplotlib.pyplot as plt\n",
      "%matplotlib inline\n",
      "from matplotlib import rcParams\n",
      "rcParams['font.family'] = 'serif'\n",
      "rcParams['font.size'] = 16"
     ],
     "language": "python",
     "metadata": {},
     "outputs": []
    },
    {
     "cell_type": "code",
     "collapsed": false,
     "input": [
      "def rho_green_light(nx, rho_max, rho_light):\n",
      "    \"\"\"Computes \"green light\" initial condition with shock, and linear distribution behind\n",
      "\n",
      "    Parameters\n",
      "    ----------\n",
      "    nx        : int\n",
      "        Number of grid points in x\n",
      "    rho_max   : float\n",
      "        Maximum allowed car density\n",
      "    rho_light : float\n",
      "        Density of cars at stoplight\n",
      "\n",
      "    Returns\n",
      "    -------\n",
      "    rho_initial: array of floats\n",
      "        Array with initial values of density\n",
      "    \"\"\"    \n",
      "    rho_initial = numpy.arange(nx)*2./nx*rho_light  # Before stoplight\n",
      "    rho_initial[(nx-1)/2:] = 0\n",
      "    \n",
      "    return rho_initial"
     ],
     "language": "python",
     "metadata": {},
     "outputs": []
    },
    {
     "cell_type": "code",
     "collapsed": false,
     "input": [
      "#Basic initial condition parameters\n",
      "#defining grid size, time steps\n",
      "nx = 81\n",
      "nt = 30\n",
      "dx = 4.0/nx\n",
      "\n",
      "x = numpy.linspace(0,4,nx)\n",
      "\n",
      "rho_light = 5.5"
     ],
     "language": "python",
     "metadata": {},
     "outputs": []
    },
    {
     "cell_type": "code",
     "collapsed": false,
     "input": [
      "rho_initial = rho_green_light(nx, rho_max, rho_light)"
     ],
     "language": "python",
     "metadata": {},
     "outputs": []
    },
    {
     "cell_type": "code",
     "collapsed": false,
     "input": [
      "plt.plot(x, rho_initial, color='#003366', ls='-', lw=3)\n",
      "plt.ylim(-0.5,11.);"
     ],
     "language": "python",
     "metadata": {},
     "outputs": []
    },
    {
     "cell_type": "code",
     "collapsed": false,
     "input": [
      "def ftbs(rho, nt, dt, dx, rho_max, U_max):\n",
      "    \"\"\" Computes the solution with forward in time, backward in space\n",
      "    \n",
      "    Parameters\n",
      "    ----------\n",
      "    rho    : array of floats\n",
      "            Density at current time-step\n",
      "    nt     : int\n",
      "            Number of time steps\n",
      "    dt     : float\n",
      "            Time-step size\n",
      "    dx     : float\n",
      "            Mesh spacing\n",
      "    rho_max: float\n",
      "            Maximum allowed car density\n",
      "    U_max  : float\n",
      "            Speed limit\n",
      "    \n",
      "    Returns\n",
      "    -------\n",
      "    rho_n : array of floats\n",
      "            Density after nt time steps at every point x\n",
      "    \"\"\"\n",
      "    \n",
      "    #initialize our results array with dimensions nt by nx\n",
      "    rho_n = numpy.zeros((nt,len(rho)))      \n",
      "    #copy the initial u array into each row of our new array\n",
      "    rho_n[0,:] = rho.copy()              \n",
      "    \n",
      "    for t in range(1,nt):\n",
      "        F = computeF(rho)\n",
      "        rho_n[t,1:] = rho[1:] - dt/dx*(F[1:]-F[:-1])\n",
      "        rho_n[t,0] = rho[0]\n",
      "        rho_n[t,-1] = rho[-1]\n",
      "        rho = rho_n[t].copy()\n",
      "\n",
      "    return rho_n"
     ],
     "language": "python",
     "metadata": {},
     "outputs": []
    },
    {
     "cell_type": "code",
     "collapsed": false,
     "input": [
      "sigma = 1.\n",
      "dt = sigma*dx\n",
      "\n",
      "rho_n = ftbs(rho_initial, nt, dt, dx, rho_max, u_max)"
     ],
     "language": "python",
     "metadata": {},
     "outputs": []
    },
    {
     "cell_type": "code",
     "collapsed": false,
     "input": [
      "from matplotlib import animation\n",
      "from JSAnimation.IPython_display import display_animation"
     ],
     "language": "python",
     "metadata": {},
     "outputs": []
    },
    {
     "cell_type": "code",
     "collapsed": false,
     "input": [
      "fig = plt.figure();\n",
      "ax = plt.axes(xlim=(0,4),ylim=(-1,8),xlabel=('Distance'),ylabel=('Traffic density'));\n",
      "line, = ax.plot([],[],color='#003366', lw=2);\n",
      "\n",
      "def animate(data):\n",
      "    x = numpy.linspace(0,4,nx)\n",
      "    y = data\n",
      "    line.set_data(x,y)\n",
      "    return line,\n",
      "\n",
      "anim = animation.FuncAnimation(fig, animate, frames=rho_n, interval=50)\n",
      "display_animation(anim, default_mode='once')"
     ],
     "language": "python",
     "metadata": {},
     "outputs": []
    },
    {
     "cell_type": "markdown",
     "metadata": {},
     "source": [
      "That definitely looks different!  Do you think this is more or less accurate than our previous model?"
     ]
    },
    {
     "cell_type": "heading",
     "level": 5,
     "metadata": {},
     "source": [
      "Dig Deeper"
     ]
    },
    {
     "cell_type": "markdown",
     "metadata": {},
     "source": [
      "Our new traffic flux equation changes the way our traffic patterns evolve, but we've only experimented with it using our original scheme, forward-time backward-space.  Try to implement our green-light problem using one of the second-order schemes from [Lesson 2](http://nbviewer.ipython.org/github/numerical-mooc/numerical-mooc/blob/master/lessons/03_wave/03_02_convectionSchemes.ipynb)."
     ]
    },
    {
     "cell_type": "markdown",
     "metadata": {},
     "source": [
      "---\n",
      "\n",
      "######The cell below loads the style of the notebook."
     ]
    },
    {
     "cell_type": "code",
     "collapsed": false,
     "input": [
      "from IPython.core.display import HTML\n",
      "css_file = '../../styles/numericalmoocstyle.css'\n",
      "HTML(open(css_file, \"r\").read())"
     ],
     "language": "python",
     "metadata": {},
     "outputs": []
    }
   ],
   "metadata": {}
  }
 ]
}