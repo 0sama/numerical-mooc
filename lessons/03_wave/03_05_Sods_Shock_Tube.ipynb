{
 "metadata": {
  "name": "",
  "signature": "sha256:7525976cba33387a0961753abb1c945b0cd3dcc5c8e05ab16efc9731df3fb992"
 },
 "nbformat": 3,
 "nbformat_minor": 0,
 "worksheets": [
  {
   "cells": [
    {
     "cell_type": "heading",
     "level": 6,
     "metadata": {},
     "source": [
      "Content under Creative Commons Attribution license CC-BY 4.0, code under MIT license (c)2014 L.A. Barba, G.F. Forsyth, C.D. Cooper.  "
     ]
    },
    {
     "cell_type": "heading",
     "level": 6,
     "metadata": {},
     "source": [
      "Sod, Gary A. \"A survey of several finite difference methods for systems of nonlinear hyperbolic conservation laws.\" Journal of computational physics 27.1 (1978): 1-31."
     ]
    },
    {
     "cell_type": "markdown",
     "metadata": {},
     "source": [
      "#Sod's Test Problems\n",
      "\n",
      "The shock tube is a common test for computational solvers and it has an analytical solution for comparison of results.  \n",
      "\n",
      "###What's a shock tube?\n",
      "\n",
      "Picture a tube that's sealed on both ends.  In the middle is an infinitely-thin, rigid membrane that separates the left-hand side from the right-hand side.  \n",
      "\n",
      "The left-hand side and right-hand side are filled with a fluid, but the two sides are held at different pressure and density levels.  \n",
      "\n",
      "At time $t = 0.0 s$, the infinitely-thin membrane is removed instantaneously.  \n",
      "\n",
      "What happens?  \n",
      "\n",
      "You get a shock.  The area of higher-pressure, no longer constrained by the wall, rushes into the lower-pressure area as the tube comes to equilibrium.  \n",
      "\n",
      "The shock tube problem is a *Riemann problem* and has an analytical solution, which makes it very useful for comparing the efficacy of different numerical schemes at resolving shocks.  "
     ]
    },
    {
     "cell_type": "heading",
     "level": 3,
     "metadata": {},
     "source": [
      "The Euler Equations"
     ]
    },
    {
     "cell_type": "markdown",
     "metadata": {},
     "source": [
      "The Euler Equations govern the motion of fluid that is inviscid (zero viscosity). \n",
      "\n",
      "Written in vector form, you can see that the Euler Equations bear a strong resemblence to the traffic density equation that has been the focus of this module:\n",
      "\n",
      "\\begin{equation}\n",
      "\\frac{\\partial }{\\partial t} \\underline{\\mathbf{u}} + \\frac{\\partial }{\\partial x} \\underline{\\mathbf{f}} = 0\n",
      "\\end{equation}\n",
      "\n",
      "The big difference to note here is that the values $\\underline{\\mathbf{u}}$ and $\\underline{\\mathbf{f}}$ are *vectors*.  If you review the [Phugoid Full Model](http://nbviewer.ipython.org/github/numerical-mooc/numerical-mooc/blob/master/lessons/01_phugoid/01_03_PhugoidFullModel.ipynb) lesson, you will recall that we can solve for several values at once using the vector form of an equation.  In the Phugoid Module, it was an ODE -- now we apply the same procedure to a PDE.  \n",
      "\n",
      "Let's take a look at what $\\underline{\\mathbf{u}}$ and $\\underline{\\mathbf{f}}$ consist of.  "
     ]
    },
    {
     "cell_type": "heading",
     "level": 3,
     "metadata": {},
     "source": [
      "The Conservative Euler Equations"
     ]
    },
    {
     "cell_type": "markdown",
     "metadata": {},
     "source": [
      "The conservative formulation of the Euler equations is required when solutions contain shocks.  As you might expect, the Sod's Shock Tube solutions do contain shocks.  \n",
      "\n",
      "The conserved variables $\\underline{\\mathbf{u}}$ are"
     ]
    },
    {
     "cell_type": "markdown",
     "metadata": {},
     "source": [
      "\\begin{equation}\\underline{\\mathbf{u}} = \\left[ \\begin{array}{c}\n",
      "\\rho \\\\\n",
      "\\rho u \\\\\n",
      "\\rho e_T \\\\ \n",
      "\\end{array} \\right]\\end{equation}\n",
      "\n",
      "where $\\rho$ is the density of the fluid, $u$ is the velocity of the fluid and $e_T = e + \\frac{u^2}{2}$ is the specific total energy.\n",
      "\n",
      "\n",
      "\n",
      "$\\underline{\\mathbf{f}}$ is the flux vector:\n",
      "\n",
      "\\begin{equation}\\underline{\\mathbf{f}} = \\left[ \\begin{array}{c}\n",
      "\\rho u \\\\\n",
      "\\rho u^2 + p \\\\\n",
      "(\\rho e_T + p) u \\\\ \\end{array} \\right]\n",
      "\\end{equation}\n",
      "\n",
      "where $p$ is the pressure of the fluid."
     ]
    },
    {
     "cell_type": "heading",
     "level": 3,
     "metadata": {},
     "source": [
      "The three equations"
     ]
    },
    {
     "cell_type": "markdown",
     "metadata": {},
     "source": [
      "If we put together the conserved variables and the flux vector into our PDE, we get the following set of equations:\n",
      "\n",
      "\\begin{equation}\n",
      "\\frac{\\partial}{\\partial t}\n",
      "\\left[ \\begin{array}{c}\n",
      "\\rho \\\\\n",
      "\\rho u \\\\\n",
      "\\rho e_T \\\\ \n",
      "\\end{array} \\right]\n",
      "+ \\frac{\\partial}{\\partial x}\n",
      "\\left[ \\begin{array}{c}\n",
      "\\rho u \\\\\n",
      "\\rho u^2 + p \\\\\n",
      "(\\rho e_T + p) u\\\\ \\end{array}\n",
      "\\right]\n",
      "=0\n",
      "\\end{equation}"
     ]
    },
    {
     "cell_type": "markdown",
     "metadata": {},
     "source": [
      "There's one pretty major problem there.  We have 3 equations and 4 unknowns.  But there is a solution!  We can use an equation of state to calculate the pressure -- in this case, we'll use the ideal gas law."
     ]
    },
    {
     "cell_type": "markdown",
     "metadata": {},
     "source": [
      "###Calculate the pressure\n",
      "\n",
      "For an ideal gas, the equation of state is\n",
      "\n",
      "$$e = e(\\rho, p) = \\frac{p}{(\\gamma -1) \\rho} \\text{ where } \\gamma=1.4$$\n",
      "\n",
      "$$\\therefore p = (\\gamma -1)\\rho e $$ \n",
      "\n",
      "Recall from above that\n",
      "\n",
      "$$e_T = e+\\frac{1}{2} u^2$$\n",
      "\n",
      "$$\\therefore e = e_T - \\frac{1}{2}u^2$$\n",
      "\n",
      "Putting it all together, we arrive at an equation for the pressure\n",
      "\n",
      "$$p = (\\gamma -1)\\left(\\rho e_T - \\frac{\\rho u^2}{2}\\right)$$"
     ]
    },
    {
     "cell_type": "heading",
     "level": 3,
     "metadata": {},
     "source": [
      "Flux in terms of $\\underline{\\mathbf{u}}$"
     ]
    },
    {
     "cell_type": "markdown",
     "metadata": {},
     "source": [
      "With our traffic model, the flux was a function of traffic density.  For the Euler equations, the three equations we have are coupled and the flux *vector* is a function of $\\underline{\\mathbf{u}}$\n",
      "\n",
      "$$\\underline{\\mathbf{f}} = f(\\underline{\\mathbf{u}})$$\n",
      "\n",
      "In order to get everything squared away, we need to represent $\\underline{\\mathbf{f}}$ in terms of $\\underline{\\mathbf{u}}$."
     ]
    },
    {
     "cell_type": "markdown",
     "metadata": {},
     "source": [
      "We can introduce a little shorthand for the $\\underline{\\mathbf{u}}$ and $\\underline{\\mathbf{f}}$ vectors and define:\n",
      "\n",
      "$$\\underline{\\mathbf{f}} = \n",
      "\\left[ \\begin{array}{c}\n",
      "f_1 \\\\\n",
      "f_2 \\\\\n",
      "f_3 \\\\ \\end{array} \\right]$$  \n",
      "\n",
      "$$\\underline{\\mathbf{u}} = \n",
      "\\left[ \\begin{array}{c}\n",
      "u_1 \\\\\n",
      "u_2 \\\\\n",
      "u_3 \\\\ \n",
      "\\end{array} \\right]$$\n",
      "\n",
      "\n",
      "\n",
      "You should notice that $f_1 = \\rho u = u_2$.\n",
      "With a little algebraic trickery, we can represent our pressure vector using quantities from the $\\underline{\\mathbf{u}}$ vector.\n",
      "\n",
      "$$p = (\\gamma -1)\\left(u_3 - \\frac{1}{2} \\frac{u^2_2}{u_1} \\right)$$\n",
      "\n",
      "Now that pressure can be represented in terms of $\\underline{\\mathbf{u}}$, the rest of $\\underline{\\mathbf{f}}$ isn't too difficult to resolve:"
     ]
    },
    {
     "cell_type": "markdown",
     "metadata": {},
     "source": [
      "$$\\underline{\\mathbf{f}} = \\left[ \\begin{array}{c}\n",
      "f_1 \\\\\n",
      "f_2 \\\\\n",
      "f_3 \\\\ \\end{array} \\right] =\n",
      "\\left[ \\begin{array}{c}\n",
      "u_2\\\\\n",
      "\\frac{u^2_2}{u_1} + (\\gamma -1)\\left(u_3 - \\frac{1}{2} \\frac{u^2_2}{u_1} \\right) \\\\\n",
      "\\left(u_3 + (\\gamma -1)\\left(u_3 - \\frac{1}{2} \\frac{u^2_2}{u_1}\\right) \\right) \\frac{u_2}{u_1}\\\\ \\end{array}\n",
      "\\right]$$"
     ]
    },
    {
     "cell_type": "heading",
     "level": 3,
     "metadata": {},
     "source": [
      "Test 1:"
     ]
    },
    {
     "cell_type": "markdown",
     "metadata": {},
     "source": [
      "The first test proposed by Sod in his 1973 paper is as follows.  \n",
      "\n",
      "In a tube spanning from $x = -10 \\text{m}$ to $x = 10 \\text{m}$ with the rigid membrane at $x = 0 \\text{m}$\n",
      "\n",
      "$$\\underline{IC}_L = \\left[ \\begin{array}{c}\n",
      "\\rho_L \\\\ u_L \\\\ p_L \\\\ \\end{array}\\right] = \n",
      "\\left[ \\begin{array}{c}\n",
      "1\\ kg/m^3 \\\\ 0\\ m/s \\\\ 100\\ kN/m^2 \\\\ \\end{array}\\right]$$\n",
      "\n",
      "$$\\underline{IC}_R = \\left[ \\begin{array}{c}\n",
      "\\rho_R \\\\ u_R \\\\ p_R \\\\ \\end{array}\\right] = \n",
      "\\left[ \\begin{array}{c}\n",
      "0.125\\ kg/m^3 \\\\ 0\\ m/s \\\\ 10\\ kN/m^2 \\\\ \\end{array}\\right]$$\n",
      "\n",
      "where $\\underline{IC}_L$ are the initial density, velocity and pressure on the left side of the tube membrane and $\\underline{IC}_R$ are the initial density, velocity and pressure on the right side of the tube membrane.  \n",
      "\n",
      "Find the pressure, velocity, speed of sound, density, entropy and Mach number at t = 0.01 s after the membrane is removed.\n",
      "\n",
      "The analytical solution to Test 1 follows:"
     ]
    },
    {
     "cell_type": "markdown",
     "metadata": {},
     "source": [
      "![shock_analytic](./figures/shock_tube_.01.png)\n"
     ]
    },
    {
     "cell_type": "heading",
     "level": 3,
     "metadata": {},
     "source": [
      "The Richtmyer Method"
     ]
    },
    {
     "cell_type": "markdown",
     "metadata": {},
     "source": [
      "For this assessment, you will be using a new scheme called the Richtmyer Method.  Like the MacCormack method, Richtmyer is a two-step method, given by"
     ]
    },
    {
     "cell_type": "markdown",
     "metadata": {},
     "source": [
      "$$\\underline{\\mathbf{u}}^{n+\\frac{1}{2}}_{i+\\frac{1}{2}} = \\frac{1}{2} \\left( \\underline{\\mathbf{u}}^n_{i+1} + \\underline{\\mathbf{u}}^n_i \\right) - \n",
      "\\frac{\\Delta t}{2 \\Delta x} \\left( \\underline{\\mathbf{f}}^n_{i+1} - \\underline{\\mathbf{f}}^n_i\\right)$$\n",
      "\n",
      "$$\\underline{\\mathbf{u}}^{n+1}_i = \\underline{\\mathbf{u}}^n_i - \\frac{\\Delta t}{\\Delta x} \\left(\\underline{\\mathbf{f}}^{n+\\frac{1}{2}}_{i+\\frac{1}{2}} - \\underline{\\mathbf{f}}^{n+\\frac{1}{2}}_{i-\\frac{1}{2}} \\right)$$"
     ]
    },
    {
     "cell_type": "markdown",
     "metadata": {},
     "source": [
      "###Test 1\n",
      "For Test 1, use a grid of 80 points in [-10m, 10m]\n",
      "\n",
      "$\\Delta t = .0002$s"
     ]
    },
    {
     "cell_type": "code",
     "collapsed": false,
     "input": [
      "nx = 80\n",
      "dt = .0002\n",
      "\n",
      "x = numpy.linspace(-10,10,nx)"
     ],
     "language": "python",
     "metadata": {},
     "outputs": []
    },
    {
     "cell_type": "markdown",
     "metadata": {},
     "source": [
      "---\n",
      "\n",
      "######The cell below loads the style of the notebook."
     ]
    },
    {
     "cell_type": "code",
     "collapsed": false,
     "input": [
      "from IPython.core.display import HTML\n",
      "css_file = '../../styles/numericalmoocstyle.css'\n",
      "HTML(open(css_file, \"r\").read())"
     ],
     "language": "python",
     "metadata": {},
     "outputs": [
      {
       "html": [
        "<link href='http://fonts.googleapis.com/css?family=Alegreya+Sans:100,300,400,500,700,800,900,100italic,300italic,400italic,500italic,700italic,800italic,900italic' rel='stylesheet' type='text/css'>\n",
        "<link href='http://fonts.googleapis.com/css?family=Arvo:400,700,400italic' rel='stylesheet' type='text/css'>\n",
        "<link href='http://fonts.googleapis.com/css?family=PT+Mono' rel='stylesheet' type='text/css'>\n",
        "<link href='http://fonts.googleapis.com/css?family=Shadows+Into+Light' rel='stylesheet' type='text/css'>\n",
        "<link href='http://fonts.googleapis.com/css?family=Nixie+One' rel='stylesheet' type='text/css'>\n",
        "<style>\n",
        "\n",
        "@font-face {\n",
        "    font-family: \"Computer Modern\";\n",
        "    src: url('http://mirrors.ctan.org/fonts/cm-unicode/fonts/otf/cmunss.otf');\n",
        "}\n",
        "\n",
        "#notebook_panel { /* main background */\n",
        "    background: rgb(245,245,245);\n",
        "}\n",
        "\n",
        "div.cell { /* set cell width */\n",
        "    width: 750px;\n",
        "}\n",
        "\n",
        "div #notebook { /* centre the content */\n",
        "    background: #fff; /* white background for content */\n",
        "    width: 1000px;\n",
        "    margin: auto;\n",
        "    padding-left: 0em;\n",
        "}\n",
        "\n",
        "#notebook li { /* More space between bullet points */\n",
        "margin-top:0.8em;\n",
        "}\n",
        "\n",
        "/* draw border around running cells */\n",
        "div.cell.border-box-sizing.code_cell.running { \n",
        "    border: 1px solid #111;\n",
        "}\n",
        "\n",
        "/* Put a solid color box around each cell and its output, visually linking them*/\n",
        "div.cell.code_cell {\n",
        "    background-color: rgb(256,256,256); \n",
        "    border-radius: 0px; \n",
        "    padding: 0.5em;\n",
        "    margin-left:1em;\n",
        "    margin-top: 1em;\n",
        "}\n",
        "\n",
        "div.text_cell_render{\n",
        "    font-family: 'Alegreya Sans' sans-serif;\n",
        "    line-height: 140%;\n",
        "    font-size: 125%;\n",
        "    font-weight: 400;\n",
        "    width:600px;\n",
        "    margin-left:auto;\n",
        "    margin-right:auto;\n",
        "}\n",
        "\n",
        "\n",
        "/* Formatting for header cells */\n",
        ".text_cell_render h1 {\n",
        "    font-family: 'Nixie One', serif;\n",
        "    font-style:regular;\n",
        "    font-weight: 400;    \n",
        "    font-size: 45pt;\n",
        "    line-height: 100%;\n",
        "    color: rgb(0,51,102);\n",
        "    margin-bottom: 0.5em;\n",
        "    margin-top: 0.5em;\n",
        "    display: block;\n",
        "}\t\n",
        ".text_cell_render h2 {\n",
        "    font-family: 'Nixie One', serif;\n",
        "    font-weight: 400;\n",
        "    font-size: 30pt;\n",
        "    line-height: 100%;\n",
        "    color: rgb(0,51,102);\n",
        "    margin-bottom: 0.1em;\n",
        "    margin-top: 0.3em;\n",
        "    display: block;\n",
        "}\t\n",
        "\n",
        ".text_cell_render h3 {\n",
        "    font-family: 'Nixie One', serif;\n",
        "    margin-top:16px;\n",
        "\tfont-size: 22pt;\n",
        "    font-weight: 600;\n",
        "    margin-bottom: 3px;\n",
        "    font-style: regular;\n",
        "    color: rgb(102,102,0);\n",
        "}\n",
        "\n",
        ".text_cell_render h4 {    /*Use this for captions*/\n",
        "    font-family: 'Nixie One', serif;\n",
        "    font-size: 14pt;\n",
        "    text-align: center;\n",
        "    margin-top: 0em;\n",
        "    margin-bottom: 2em;\n",
        "    font-style: regular;\n",
        "}\n",
        "\n",
        ".text_cell_render h5 {  /*Use this for small titles*/\n",
        "    font-family: 'Nixie One', sans-serif;\n",
        "    font-weight: 400;\n",
        "    font-size: 16pt;\n",
        "    color: rgb(163,0,0);\n",
        "    font-style: italic;\n",
        "    margin-bottom: .1em;\n",
        "    margin-top: 0.8em;\n",
        "    display: block;\n",
        "}\n",
        "\n",
        ".text_cell_render h6 { /*use this for copyright note*/\n",
        "    font-family: 'PT Mono', sans-serif;\n",
        "    font-weight: 300;\n",
        "    font-size: 9pt;\n",
        "    line-height: 100%;\n",
        "    color: grey;\n",
        "    margin-bottom: 1px;\n",
        "    margin-top: 1px;\n",
        "}\n",
        "\n",
        ".CodeMirror{\n",
        "        font-family: \"PT Mono\";\n",
        "        font-size: 90%;\n",
        "}\n",
        "\n",
        "</style>\n",
        "<script>\n",
        "    MathJax.Hub.Config({\n",
        "                        TeX: {\n",
        "                           extensions: [\"AMSmath.js\"],\n",
        "                           equationNumbers: { autoNumber: \"AMS\", useLabelIds: true}\n",
        "                           },\n",
        "                tex2jax: {\n",
        "                    inlineMath: [ ['$','$'], [\"\\\\(\",\"\\\\)\"] ],\n",
        "                    displayMath: [ ['$$','$$'], [\"\\\\[\",\"\\\\]\"] ]\n",
        "                },\n",
        "                displayAlign: 'center', // Change this to 'center' to center equations.\n",
        "                \"HTML-CSS\": {\n",
        "                    styles: {'.MathJax_Display': {\"margin\": 4}}\n",
        "                }\n",
        "        });\n",
        "</script>\n"
       ],
       "metadata": {},
       "output_type": "pyout",
       "prompt_number": 1,
       "text": [
        "<IPython.core.display.HTML at 0x7f68a45a6d10>"
       ]
      }
     ],
     "prompt_number": 1
    }
   ],
   "metadata": {}
  }
 ]
}