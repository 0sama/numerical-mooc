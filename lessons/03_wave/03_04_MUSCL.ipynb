{
 "metadata": {
  "name": "",
  "signature": "sha256:4f9a0e663bfde6029aafa4ea626583c2ff5efb7153a76b5d51fedad5d4f453d5"
 },
 "nbformat": 3,
 "nbformat_minor": 0,
 "worksheets": [
  {
   "cells": [
    {
     "cell_type": "heading",
     "level": 6,
     "metadata": {},
     "source": [
      "Content under Creative Commons Attribution license CC-BY 4.0, code under MIT license (c)2014 L.A. Barba, G.F. Forsyth, C.D. Cooper, I. Hawke, D. Ketcheson."
     ]
    },
    {
     "cell_type": "heading",
     "level": 1,
     "metadata": {},
     "source": [
      "Finite Volume and MUSCL methods"
     ]
    },
    {
     "cell_type": "heading",
     "level": 2,
     "metadata": {},
     "source": [
      "Conservation laws"
     ]
    },
    {
     "cell_type": "markdown",
     "metadata": {},
     "source": [
      "Let's go right back to the start, where the conservation laws came from looking at a control volume:"
     ]
    },
    {
     "cell_type": "markdown",
     "metadata": {},
     "source": [
      "![1Dcontrolvolume](./figures/1Dcontrolvolume.png)\n",
      "#### Figure 1. Tiny control volume in the shape of a cylinder."
     ]
    },
    {
     "cell_type": "markdown",
     "metadata": {},
     "source": [
      "The general conservation law for a quantity $e$ is \n",
      "\n",
      "\\begin{equation}\n",
      "\\frac{\\partial}{\\partial t}\\int_{\\text{cv}}e \\, dV + \\oint_{\\text{cs}}\\vec{F}\\cdot d\\vec{A} =0\n",
      "\\end{equation}\n",
      "\n",
      "where $\\vec{F}$ is the flux, and $\\text{cv}$ is the control volume with control surface $\\text{cs}$."
     ]
    },
    {
     "cell_type": "markdown",
     "metadata": {},
     "source": [
      "Why not make the control volume itself our computational cell? When we do this, we immediately know what the update must be. \n",
      "\n",
      "Restrict to one dimension ($x$) for now. Define $e_i$ as the integral average across our control volume - a one dimensional cell with center $x_i$ and width $\\Delta x$. So\n",
      "\n",
      "$$\n",
      "\\begin{equation}\n",
      "  e_i = \\frac{1}{\\Delta x} \\int_{x_i - \\Delta x / 2}^{x_i + \\Delta x / 2} e(x, t) \\, dx.\n",
      "\\end{equation}\n",
      "$$"
     ]
    },
    {
     "cell_type": "markdown",
     "metadata": {},
     "source": [
      "![finite volume](./figures/finite_volume.png)"
     ]
    },
    {
     "cell_type": "heading",
     "level": 4,
     "metadata": {},
     "source": [
      "Caption of Figure"
     ]
    },
    {
     "cell_type": "markdown",
     "metadata": {},
     "source": [
      "Then equation (5), the general conservation law, gives us\n",
      "\n",
      "$$\n",
      "\\begin{equation}\n",
      "  \\frac{\\partial}{\\partial t} e_i + \\frac{1}{\\Delta x} \\left[ F \\left( x_{i+1/2}, t \\right) - F \\left( x_{i - 1 / 2}, t \\right) \\right] = 0.\n",
      "\\end{equation}\n",
      "$$ "
     ]
    },
    {
     "cell_type": "markdown",
     "metadata": {},
     "source": [
      "This is just an *ordinary* differential equation to solve, and is easy *if* we know can find $F$ on the control surface."
     ]
    },
    {
     "cell_type": "heading",
     "level": 3,
     "metadata": {},
     "source": [
      "Godunov's method"
     ]
    },
    {
     "cell_type": "markdown",
     "metadata": {},
     "source": [
      "We've seen with the traffic model that the flux depends on the conserved quantity, $F = F(e)$. So we need to compute, or approximate, the surface flux from the integral averages $e_i$."
     ]
    },
    {
     "cell_type": "markdown",
     "metadata": {},
     "source": [
      "From the integral averages $e_i$, we can *reconstruct* the function $e(x)$ within the control volume cell to get values at the control surface, ie $e^+_{i-1/2}$ and $e^-_{i+1/2}$. The simplest thing to assume is that $e$ is constant within the cell, so that $e^+_{i-1/2} = e_i = e^-_{i+1/2}$. This is the basis of *Godunov's method*."
     ]
    },
    {
     "cell_type": "markdown",
     "metadata": {},
     "source": [
      "![interpolation](./figures/linear_reconstruction.png)"
     ]
    },
    {
     "cell_type": "markdown",
     "metadata": {},
     "source": [
      "This gives *two* approximations to $e$ at each control surface, $e_l = e^-_{i+1/2}$ to the left of the surface, and $e_r = e^+_{i+1/2}$ to the right. This defines a *Riemann problem*, which can be approximately solved using the Lax-Friedrichs flux to get\n",
      "\n",
      "$$\n",
      "\\begin{equation}\n",
      "  F_{i+1/2}^{LF}(e_l, e_r) = \\frac{1}{2} \\left( F \\left( e_l \\right) + F \\left( e_r \\right) +  \\frac{\\Delta x}{\\Delta t} \\left[ e_l - e_r \\right] \\right).\n",
      "\\end{equation}\n",
      "$$"
     ]
    },
    {
     "cell_type": "markdown",
     "metadata": {},
     "source": [
      "Let's apply Godunov's method to the LWR traffic model. Start with our useful functions:"
     ]
    },
    {
     "cell_type": "code",
     "collapsed": false,
     "input": [
      "%matplotlib inline\n",
      "import numpy \n",
      "import matplotlib.pyplot as plt\n",
      "\n",
      "\n",
      "def rho_red_light(nx, rho_max, rho_in):\n",
      "    \"\"\"Computes \"red light\" initial condition with shock\n",
      "\n",
      "    Parameters\n",
      "    ----------\n",
      "    nx        : int\n",
      "        Number of grid points in x\n",
      "    rho_max   : float\n",
      "        Maximum allowed car density\n",
      "    rho_in    : float\n",
      "        Density of incoming cars \n",
      "\n",
      "    Returns\n",
      "    -------\n",
      "    rho: array of floats\n",
      "        Array with initial values of density\n",
      "    \"\"\"\n",
      "    rho = rho_max*numpy.ones(nx)\n",
      "    rho[:(nx-1)*3./4.] = rho_in\n",
      "    return rho\n",
      "\n",
      "#Basic initial condition parameters\n",
      "#defining grid size, time steps, CFL condition, etc...\n",
      "nx = 81\n",
      "nt = 30\n",
      "dx = 4.0/nx\n",
      "\n",
      "rho_in = 5.\n",
      "rho_max = 10.\n",
      "\n",
      "V_max = 1.\n",
      "\n",
      "x = numpy.linspace(0,4,nx)\n",
      "\n",
      "\n",
      "rho = rho_red_light(nx, rho_max, rho_in)"
     ],
     "language": "python",
     "metadata": {},
     "outputs": []
    },
    {
     "cell_type": "code",
     "collapsed": false,
     "input": [
      "def computeF(V_max, rho_max, rho):\n",
      "    \"\"\"Computes flux F=V*rho\n",
      "\n",
      "    Parameters\n",
      "    ----------\n",
      "    V_max  : float\n",
      "        Maximum allowed velocity\n",
      "    rho    : array of floats\n",
      "        Array with density of cars at every point x\n",
      "    rho_max: float\n",
      "        Maximum allowed car density\n",
      "        \n",
      "    Returns\n",
      "    -------\n",
      "    F : array\n",
      "        Array with flux at every point x\n",
      "    \"\"\"\n",
      "    return V_max*rho*(1-rho/rho_max)\n",
      "\n",
      "from matplotlib import animation\n",
      "from JSAnimation.IPython_display import display_animation\n",
      "\n",
      "\n",
      "def animate(data):\n",
      "    x = numpy.linspace(0,4,nx)\n",
      "    y = data\n",
      "    line.set_data(x,y)\n",
      "    return line,"
     ],
     "language": "python",
     "metadata": {},
     "outputs": []
    },
    {
     "cell_type": "code",
     "collapsed": false,
     "input": [
      "def godunov(rho, nt, dt, dx, rho_max, V_max):\n",
      "    \"\"\" Computes the solution with the Godunov scheme using the Lax-Friedrichs flux.\n",
      "    \n",
      "    Parameters\n",
      "    ----------\n",
      "    rho    : array of floats\n",
      "            Density at current time-step\n",
      "    nt     : int\n",
      "            Number of time steps\n",
      "    dt     : float\n",
      "            Time-step size\n",
      "    dx     : float\n",
      "            Mesh spacing\n",
      "    rho_max: float\n",
      "            Maximum allowed car density\n",
      "    V_max  : float\n",
      "            Speed limit\n",
      "    \n",
      "    Returns\n",
      "    -------\n",
      "    rho_n : array of floats\n",
      "            Density after nt time steps at every point x\n",
      "    \"\"\"\n",
      "    \n",
      "    #initialize our results array with dimensions nt by nx\n",
      "    rho_n = numpy.zeros((nt,len(rho)))      \n",
      "    #copy the initial u array into each row of our new array\n",
      "    rho_n[:,:] = rho.copy()              \n",
      "    \n",
      "    #setup some temporary arrays\n",
      "    rho_plus = numpy.zeros((len(rho),))\n",
      "    rho_minus = numpy.zeros((len(rho),))\n",
      "    flux = numpy.zeros((len(rho),))\n",
      "    '''\n",
      "    Now, for each timestep, we're going to calculate rho^n+1, \n",
      "    then set the value of rho equal to rho^n+1 so we can calculate \n",
      "    the next iteration.  For every timestep, the entire vector\n",
      "    rho^n is saved in a single row of our results array rho_n.\n",
      "    '''\n",
      "    for t in range(1,nt):\n",
      "        \n",
      "        rho_plus[:-1] = rho[1:] # Can't do i+1/2 indices, so cell boundary\n",
      "        rho_minus[:] = rho[:] # arrays at index i are at location i+1/2\n",
      "        flux = 0.5 * (computeF(V_max, rho_max, rho_minus) + \n",
      "                      computeF(V_max, rho_max, rho_plus) + \n",
      "                      dx / dt * (rho_minus - rho_plus))\n",
      "        rho_n[t,1:-1] = rho[1:-1] + dt/dx*(flux[:-2]-flux[1:-1])\n",
      "        rho_n[t,0] = rho[0]\n",
      "        rho_n[t,-1] = rho[-1]\n",
      "        rho = rho_n[t].copy()\n",
      "        \n",
      "    return rho_n"
     ],
     "language": "python",
     "metadata": {},
     "outputs": []
    },
    {
     "cell_type": "markdown",
     "metadata": {},
     "source": [
      "Again, let's run using a CFL of $1$."
     ]
    },
    {
     "cell_type": "code",
     "collapsed": false,
     "input": [
      "sigma = 1.0\n",
      "dt = sigma*dx\n",
      "\n",
      "rho = rho_red_light(nx, rho_max, rho_in)      #make sure that u is set to our expected initial conditions\n",
      "rho_n = godunov(rho, nt, dt, dx, rho_max, V_max)"
     ],
     "language": "python",
     "metadata": {},
     "outputs": []
    },
    {
     "cell_type": "code",
     "collapsed": false,
     "input": [
      "fig = plt.figure();\n",
      "ax = plt.axes(xlim=(0,4),ylim=(4.5,11));\n",
      "line, = ax.plot([],[],lw=2);\n",
      "\n",
      "anim = animation.FuncAnimation(fig, animate, frames=rho_n, interval=50)\n",
      "display_animation(anim, default_mode='once')"
     ],
     "language": "python",
     "metadata": {},
     "outputs": []
    },
    {
     "cell_type": "markdown",
     "metadata": {},
     "source": [
      "You'll see that the result is very similar to the original Lax-Friedrichs method, and with good reason: they're essentially the same! But this gives us a base on which to build."
     ]
    },
    {
     "cell_type": "heading",
     "level": 3,
     "metadata": {},
     "source": [
      "MUSCL schemes"
     ]
    },
    {
     "cell_type": "markdown",
     "metadata": {},
     "source": [
      "To do better, we need to improve our approximation in space (we assumed that $e(x)$ was constant within the cell!) and in time."
     ]
    },
    {
     "cell_type": "heading",
     "level": 4,
     "metadata": {},
     "source": [
      "Reconstruction in space"
     ]
    },
    {
     "cell_type": "markdown",
     "metadata": {},
     "source": [
      "The next simplest thing to do is to use piecewise linear reconstruction: the solution inside each cell is a *straight line*\n",
      "\n",
      "$$\n",
      "\\begin{equation}\n",
      "  e(x) = e_i + \\sigma_i (x - x_i).\n",
      "\\end{equation}\n",
      "$$\n",
      "\n",
      "$\\sigma_i$ is the *slope* of the approximation within the cell."
     ]
    },
    {
     "cell_type": "markdown",
     "metadata": {},
     "source": [
      "Standard central differencing would give\n",
      "\n",
      "$$\n",
      "\\begin{equation}\n",
      "  \\sigma_i = \\frac{e_{i+1} - e_{i-1}}{2 \\Delta x}.\n",
      "\\end{equation}\n",
      "$$\n",
      "\n",
      "But we saw with the results [in the second lesson](./03_02_convectionSchemes.ipynb) that this can lead to oscillations near shocks. These [Gibbs oscillations](http://en.wikipedia.org/wiki/Gibbs_phenomenon) will always appear (thanks to [Godunov's theorem](http://en.wikipedia.org/wiki/Godunov's_theorem)) unless we use constant reconstruction. So we have to modify, or *limit* the slope, near shocks.\n",
      "\n",
      "The easiest way to limit is to compute one-sided slopes\n",
      "\n",
      "$$\n",
      "\\begin{equation}\n",
      "  \\Delta e^- = \\frac{e_i - e_{i-1}}{\\Delta x}, \\quad \\Delta e^+ = \\frac{e_{i+1} - e_{i}}{\\Delta x}, \n",
      "\\end{equation}\n",
      "$$\n",
      "\n",
      "and then build the *minmod* slope\n",
      "\n",
      "$$\n",
      "\\begin{align}\n",
      "  \\sigma_i & = \\text{minmod}(\\Delta e^-, \\Delta e^+) \\\\\n",
      "  & = \\begin{cases} \\min(\\Delta e^-, \\Delta e^+) & \\text{ if } \\Delta e^+, \\Delta e^+ > 0 \\\\\n",
      "  \\max(\\Delta e^-, \\Delta e^+) & \\text{ if } \\Delta e^-, \\Delta e^+ < 0 \\\\\n",
      "0 & \\text{ if } \\Delta e^- \\cdot \\Delta e^+ < 0.\n",
      "  \\end{cases}\n",
      "\\end{align}\n",
      "$$\n",
      "\n",
      "That is, it uses the *smallest* one-sided slope in magnitude, unless the slopes have different sign, in which cases it uses the constant reconstruction."
     ]
    },
    {
     "cell_type": "code",
     "collapsed": false,
     "input": [
      "def minmod(e, dx):\n",
      "    \"\"\"\n",
      "    Compute the minmod approximation to the slope\n",
      "    \n",
      "    Parameters\n",
      "    ----------\n",
      "    \n",
      "    e : array of float\n",
      "        input data\n",
      "    dx : float\n",
      "        spacestep\n",
      "    \n",
      "    Returns\n",
      "    -------\n",
      "    \n",
      "    sigma : array of float\n",
      "        minmod slope\n",
      "    \"\"\"\n",
      "    \n",
      "    sigma = np.zeros_like(e)\n",
      "    de_minus[1:] = e[1:] - e[:-1]\n",
      "    de_plus[:-1] = e[:-1] - e[1:]\n",
      "    # The following is inefficient but easy to read\n",
      "    for i in range(1, len(e)-1):\n",
      "        if (de_minus[i] * de_plus[i] < 0.0):\n",
      "            sigma[i] = 0.0\n",
      "        elif (np.abs(de_minus[i]) < np.abs(de_plus[i])):\n",
      "            sigma[i] = de_minus[i]\n",
      "        else:\n",
      "            sigma[i] = de_plus[i]\n",
      "    return sigma"
     ],
     "language": "python",
     "metadata": {},
     "outputs": []
    },
    {
     "cell_type": "heading",
     "level": 4,
     "metadata": {},
     "source": [
      "Evolution in time"
     ]
    },
    {
     "cell_type": "markdown",
     "metadata": {},
     "source": [
      "We can use a simple Runge-Kutta method to evolve the *ordinary* differential equation\n",
      "\n",
      "$$\n",
      "\\begin{equation}\n",
      "  \\frac{\\partial}{\\partial t} e_i + \\frac{1}{\\Delta x} \\left[ F \\left( x_{i+1/2}, t \\right) - F \\left( x_{i - 1 / 2}, t \\right) \\right] = 0\n",
      "\\end{equation}\n",
      "$$ \n",
      "\n",
      "forwards in time. The second order Runge-Kutta method gives the scheme\n",
      "\n",
      "\\begin{align}\n",
      "e^*_i & = e^n_i + \\frac{\\Delta t}{\\Delta x}\\left( F^n_{i-1/2} - F^n_{i+1/2} \\right) \\\\\n",
      "e^{n+1}_i & = \\frac{1}{2} e^n_i + \\frac{1}{2}\\left( e^*_i + \\frac{\\Delta t}{\\Delta x}\\left( F^*_{i-1/2} - F^*_{i+1/2} \\right) \\right).\n",
      "\\end{align}"
     ]
    },
    {
     "cell_type": "code",
     "collapsed": false,
     "input": [
      "def muscl(rho, nt, dt, dx, rho_max, V_max):\n",
      "    \"\"\" Computes the solution with the MUSCL scheme using the Lax-Friedrichs flux,\n",
      "    RK2 in time and minmod slope limiting.\n",
      "    \n",
      "    Parameters\n",
      "    ----------\n",
      "    rho    : array of floats\n",
      "            Density at current time-step\n",
      "    nt     : int\n",
      "            Number of time steps\n",
      "    dt     : float\n",
      "            Time-step size\n",
      "    dx     : float\n",
      "            Mesh spacing\n",
      "    rho_max: float\n",
      "            Maximum allowed car density\n",
      "    V_max  : float\n",
      "            Speed limit\n",
      "    \n",
      "    Returns\n",
      "    -------\n",
      "    rho_n : array of floats\n",
      "            Density after nt time steps at every point x\n",
      "    \"\"\"\n",
      "    \n",
      "    #initialize our results array with dimensions nt by nx\n",
      "    rho_n = numpy.zeros((nt,len(rho)))      \n",
      "    #copy the initial u array into each row of our new array\n",
      "    rho_n[:,:] = rho.copy()              \n",
      "    \n",
      "    #setup some temporary arrays\n",
      "    rho_plus = numpy.zeros((len(rho),))\n",
      "    rho_minus = numpy.zeros((len(rho),))\n",
      "    flux = numpy.zeros((len(rho),))\n",
      "    rho_star = numpy.zeros((len(rho),))\n",
      "    '''\n",
      "    Now, for each timestep, we're going to calculate rho^n+1, \n",
      "    then set the value of rho equal to rho^n+1 so we can calculate \n",
      "    the next iteration.  For every timestep, the entire vector\n",
      "    rho^n is saved in a single row of our results array rho_n.\n",
      "    '''\n",
      "    for t in range(1,nt):\n",
      "        \n",
      "        # Compute the * step\n",
      "        rho_plus[:-1] = rho[1:] # Can't do i+1/2 indices, so cell boundary\n",
      "        rho_minus[:] = rho[:] # arrays at index i are at location i+1/2\n",
      "        flux = 0.5 * (computeF(V_max, rho_max, rho_minus) + \n",
      "                      computeF(V_max, rho_max, rho_plus) + \n",
      "                      dx / dt * (rho_minus - rho_plus))\n",
      "        rho_star[1:-1] = rho[1:-1] + dt/dx*(flux[:-2]-flux[1:-1])\n",
      "        rho_star[0] = rho[0]\n",
      "        rho_star[-1] = rho[-1]\n",
      "        # Compute the n+1 step\n",
      "        rho_plus[:-1] = rho_star[1:] # Can't do i+1/2 indices, so cell boundary\n",
      "        rho_minus[:] = rho_star[:] # arrays at index i are at location i+1/2\n",
      "        flux = 0.5 * (computeF(V_max, rho_max, rho_minus) + \n",
      "                      computeF(V_max, rho_max, rho_plus) + \n",
      "                      dx / dt * (rho_minus - rho_plus))\n",
      "        rho_n[t,1:-1] = 0.5 * (rho[1:-1] + rho_star[1:-1] + \n",
      "                               dt/dx*(flux[:-2]-flux[1:-1]))\n",
      "        rho_n[t,0] = rho[0]\n",
      "        rho_n[t,-1] = rho[-1]\n",
      "        rho = rho_n[t].copy()\n",
      "        \n",
      "    return rho_n"
     ],
     "language": "python",
     "metadata": {},
     "outputs": []
    },
    {
     "cell_type": "markdown",
     "metadata": {},
     "source": [
      "Again, let's run using a CFL of $1$."
     ]
    },
    {
     "cell_type": "code",
     "collapsed": false,
     "input": [
      "sigma = 1.0\n",
      "dt = sigma*dx\n",
      "\n",
      "rho = rho_red_light(nx, rho_max, rho_in)      #make sure that u is set to our expected initial conditions\n",
      "rho_n = muscl(rho, nt, dt, dx, rho_max, V_max)"
     ],
     "language": "python",
     "metadata": {},
     "outputs": []
    },
    {
     "cell_type": "code",
     "collapsed": false,
     "input": [
      "fig = plt.figure();\n",
      "ax = plt.axes(xlim=(0,4),ylim=(4.5,11));\n",
      "line, = ax.plot([],[],lw=2);\n",
      "\n",
      "anim = animation.FuncAnimation(fig, animate, frames=rho_n, interval=50)\n",
      "display_animation(anim, default_mode='once')"
     ],
     "language": "python",
     "metadata": {},
     "outputs": []
    },
    {
     "cell_type": "markdown",
     "metadata": {},
     "source": [
      "The MUSCL scheme does not show any of the oscillations you might see with MacCormack or Lax-Wendroff, but the features are not as sharp."
     ]
    },
    {
     "cell_type": "markdown",
     "metadata": {},
     "source": [
      "---\n",
      "\n",
      "######The cell below loads the style of the notebook."
     ]
    },
    {
     "cell_type": "code",
     "collapsed": false,
     "input": [
      "from IPython.core.display import HTML\n",
      "css_file = '../../styles/numericalmoocstyle.css'\n",
      "HTML(open(css_file, \"r\").read())"
     ],
     "language": "python",
     "metadata": {},
     "outputs": []
    },
    {
     "cell_type": "code",
     "collapsed": false,
     "input": [],
     "language": "python",
     "metadata": {},
     "outputs": []
    }
   ],
   "metadata": {}
  }
 ]
}