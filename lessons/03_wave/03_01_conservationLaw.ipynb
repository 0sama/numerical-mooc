{
 "metadata": {
  "name": "",
  "signature": "sha256:a301d30faa5845036effbefb06537936029579a8c013b7879882fcefcae7b76e"
 },
 "nbformat": 3,
 "nbformat_minor": 0,
 "worksheets": [
  {
   "cells": [
    {
     "cell_type": "heading",
     "level": 6,
     "metadata": {},
     "source": [
      "Content under Creative Commons Attribution license CC-BY 4.0, code under MIT license (c)2014 L.A. Barba, G.F. Forsyth, C.D. Cooper. Based on [CFD Python](https://github.com/barbagroup/CFDPython), (c)2013 L.A. Barba (CC-BY), and uses material from [HyperPython](https://github.com/ketch/HyperPython), (c)2014 D.I. Ketcheson (CC-BY)."
     ]
    },
    {
     "cell_type": "heading",
     "level": 1,
     "metadata": {},
     "source": [
      "Riding the wave"
     ]
    },
    {
     "cell_type": "heading",
     "level": 2,
     "metadata": {},
     "source": [
      "Convection problems"
     ]
    },
    {
     "cell_type": "markdown",
     "metadata": {},
     "source": [
      "Welcome to *Riding the wave: convection problems*, the third module of  [\"Practical Numerical Methods with Python\"](http://openedx.seas.gwu.edu/courses/GW/MAE6286/2014_fall/about). \n",
      "\n",
      "In the [first module](https://github.com/numerical-mooc/numerical-mooc/tree/master/lessons/01_phugoid), we learned about numerical integration methods for the solution of ordinary differential equations (ODEs). Then, the [second module](https://github.com/numerical-mooc/numerical-mooc/tree/master/lessons/02_spacetime) introduced the numerical solution of partial differential equations (PDEs) with the finite difference method, where our solver stepped in both *space* and *time*.\n",
      "\n",
      "This module explores the convection equation in depth.  We already introduced convection in [Lesson 1 of Module 2](http://nbviewer.ipython.org/github/numerical-mooc/numerical-mooc/blob/master/lessons/02_spacetime/02_01_1DConvection.ipynb). This hyperbolic equation is very interesting because the solution can develop *shocks*, or regions with very high gradient, which are difficult to resolve well with numerical methods. \n",
      "\n",
      "We will start by introducing conservation laws and how they relate to the convection equation.  Then we'll explore different numerical schemes and how they perform when shocks are present.  We can use the traffic flow model from Module 2's graded assessment as a motivation. \n",
      "\n",
      "<!---The second notebook will test those schemes on Euler equations, a non-linear hyperbolic set of equations that models the behavior of inviscid, compressible flows, like air. Then, we will explore high resolution methods, to finish with some more advanced techniques that help resolve shocks better.--->"
     ]
    },
    {
     "cell_type": "heading",
     "level": 2,
     "metadata": {},
     "source": [
      "Non-linear convection as a conservation law"
     ]
    },
    {
     "cell_type": "markdown",
     "metadata": {},
     "source": [
      "Let's say we have a fluid of density $\\rho(x,t)$ flowing inside a tube. Assuming that $\\rho$ is constant within the cross-sectional area of the tube ($A$), the total amount of fluid between the points $x_1$ and $x_2$ is\n",
      "\n",
      "\\begin{equation}A \\int_{x_1}^{x_2} \\rho(x,t) \\, dx\\end{equation}\n",
      "\n",
      "![pipeflow](./figures/pipe1.png)\n",
      "\n",
      "If there is a change in the total amount of fluid, fluid must be coming in or out through point $x_1$ or $x_2$. Let's define a *flux* of mass $F(\\rho(x,t))$, as the rate of flow passing through a point $x$, per unit area. Then, the net rate of flow in or out of our volume of interest is\n",
      "\n",
      "\\begin{equation} A \\left(F(\\rho(x_1,t)) - F(\\rho(x_2,t))\\right) \\end{equation}\n",
      "\n",
      "which can be written in integral form as\n",
      "\n",
      "\\begin{equation}A (F(\\rho(x_1,t)) - F(\\rho(x_2,t))) = -A \\int_{x_1}^{x_2} \\frac{\\partial}{\\partial x} F(\\rho(x,t)) \\, dx\\end{equation}\n",
      "\n",
      "and must match the change of the amount of fluid in time:\n",
      "\n",
      "\\begin{equation}\\frac{d}{d t} \\int_{x_1}^{x_2} \\rho(x,t) \\, dx = -\\int_{x_1}^{x_2} \\frac{\\partial}{\\partial x} F(\\rho(x,t)) \\, dx.\\end{equation}\n",
      "\n",
      "We can rewrite this last equation as\n",
      "\n",
      "\\begin{equation}\\int_{x_1}^{x_2} \\left( \\frac{\\partial}{\\partial t} \\rho(x,t) + \\frac{\\partial}{\\partial x} F(\\rho(x,t)) \\right) \\, dx = 0.\\end{equation}\n",
      "\n",
      "This equation is valid for any points $x_1$ and $x_2$, which means that the contents of the integral must be zero everywhere:\n",
      "\n",
      "\\begin{equation}\\frac{\\partial}{\\partial t} \\rho(x,t) + \\frac{\\partial}{\\partial x} F(\\rho(x,t)) = 0.\\end{equation}\n",
      "\n",
      "This last equation represents a *conservation law* in differential form. Think about it: we got to this equation by enforcing a rule that states that any change in the amount of fluid in a volume must be coming in or out from the edges. This intuitive physical concept says that no fluid is magically created or distroyed, in other words, the amount of fluid is *conserved*.\n",
      "\n",
      "In fluid mechanics, the flux per unit area is just velocity times density $F=u\\rho$, and if we consider that the velocity is constant in $x$, we get\n",
      "\n",
      "\\begin{equation}\\frac{\\partial}{\\partial t} \\rho + u \\frac{\\partial \\rho}{\\partial x} = 0. \\end{equation}\n",
      "\n",
      "\n",
      "Does that equation look familiar? It looks a lot like the linear convection equation in [Lesson 1 of Module 2](http://nbviewer.ipython.org/github/numerical-mooc/numerical-mooc/blob/master/lessons/02_spacetime/02_01_1DConvection.ipynb)!\n",
      "\n",
      "But what about the non-linear convection equation from [Lesson 1 of Module 2](http://nbviewer.ipython.org/github/numerical-mooc/numerical-mooc/blob/master/lessons/02_spacetime/02_01_1DConvection.ipynb)? It was:\n",
      "\n",
      "\\begin{equation}\\frac{\\partial u}{\\partial t} + u \\frac{\\partial u}{\\partial x} = 0\\end{equation}\n",
      "\n",
      "If we look closely at the spatial derivative, we can rewrite this equation as\n",
      "\n",
      "\\begin{equation}\\frac{\\partial u}{\\partial t} + \\frac{\\partial}{\\partial x} \\left(\\frac{u^2}{2} \\right) = 0, \\end{equation}\n",
      "\n",
      "which is the *conservation form* of the non-linear convection equation, with flux $F=\\frac{u^2}{2}$."
     ]
    },
    {
     "cell_type": "heading",
     "level": 2,
     "metadata": {},
     "source": [
      "Traffic flow model"
     ]
    },
    {
     "cell_type": "markdown",
     "metadata": {},
     "source": [
      "Let's review the [Lighthill-Whitham-Richards](http://en.wikipedia.org/wiki/Macroscopic_traffic_flow_model) traffic model that you solved for the graded assessment in Module 2. This model considers cars with a continuous *traffic density* (average number of cars per unit length of road) rather than keeping track of them individually. If $\\rho(x)=0$, there are no cars at that point $x$ of the road.  If $\\rho(x) = \\rho_{\\rm max}$, traffic is literally bumper to bumper.\n",
      "\n",
      "If the number of cars on the road changes, it means that they are entering or leaving the road somehow. The traffic density must then obey a conservation law(!) where the flux, or number of cars leaving the road per unit time, is given by $F=u_{\\rm car}\\rho$. One easy approximation would be to assume that all cars move at a constant speed, but that is clearly not true. The next easiest approximation is to model the drivers behavior as a linear function:\n",
      "\n",
      "\\begin{equation}u_{\\rm car}(\\rho) = u_{\\rm max} \\left(1-\\frac{\\rho}{\\rho_{\\rm max}}\\right)\\end{equation}\n",
      "\n",
      "This linear model of the drivers' behavior follows two rules:  \n",
      "1.  All drivers will drive at some maximum velocity $V_{max}$ when the road is empty\n",
      "2.  If the road is completely jampacked ($\\rho \\rightarrow \\rho_{max}$), velocity goes to zero.  \n",
      "\n",
      "That seems like a more reasonable approximation of reality! The traffic density is given by:\n",
      "\n",
      "\\begin{equation} \\frac{\\partial \\rho}{\\partial t} + \\frac{\\partial F}{\\partial x} = 0 \\end{equation}\n",
      "\n",
      "where $F$ is the *traffic flux*, given by $F = \\rho \\times u_{car}(\\rho)$, or\n",
      "\n",
      "\\begin{equation} F = \\rho u_{\\rm max} \\left(1-\\frac{\\rho}{\\rho_{\\rm max}}\\right). \\end{equation}"
     ]
    },
    {
     "cell_type": "heading",
     "level": 2,
     "metadata": {},
     "source": [
      "Green light!"
     ]
    },
    {
     "cell_type": "markdown",
     "metadata": {},
     "source": [
      "Let's say that we are examining a road of length $4$ where the speed limit is $u_{\\rm max}=1$, that fits $10$ car per unit length $(\\rho_{\\rm max}=10)$. Now, imagine we have an intersection with a red light at $x=1$.  At the stoplight traffic is bumper-to-bumper, and the traffic density decreases linearly to zero as we approach the beginning of our road. Ahead of the stoplight, the road is clear.\n",
      "\n",
      "Mathematically, this translates to the following initial condition:\n",
      "\n",
      "\\begin{equation}u(x,0) = \\left\\{ \\begin{array}{cc}\n",
      "\\rho_{\\rm max}\\frac{x}{2} & 0 \\leq x < 2  \\\\\n",
      "0 & 2 \\leq x \\leq 4 \\\\ \\end{array} \\right.\\end{equation}\n",
      "\n",
      "Let's see what a plot of that looks like."
     ]
    },
    {
     "cell_type": "code",
     "collapsed": false,
     "input": [
      "%matplotlib inline\n",
      "import numpy \n",
      "import matplotlib.pyplot as plt\n",
      "\n",
      "def rho_green_light(nx, rho_max, rho_light):\n",
      "    \"\"\"Computes \"green light\" initial condition with shock, and linear distribution behind\n",
      "\n",
      "    Parameters\n",
      "    ----------\n",
      "    nx        : int\n",
      "        Number of grid points in x\n",
      "    rho_max   : float\n",
      "        Maximum allowed car density\n",
      "    rho_light : float\n",
      "        Density of cars at stoplight\n",
      "\n",
      "    Returns\n",
      "    -------\n",
      "    rho: array of floats\n",
      "        Array with initial values of density\n",
      "    \"\"\"    \n",
      "    rho = numpy.arange(nx)*2./nx*rho_light  # Before stoplight\n",
      "    rho[(nx-1)/2:] = 0\n",
      "    \n",
      "    return rho\n",
      "\n",
      "#Basic initial condition parameters\n",
      "#defining grid size, time steps\n",
      "nx = 81\n",
      "nt = 30\n",
      "dx = 4.0/nx\n",
      "\n",
      "\n",
      "x = numpy.linspace(0,4,nx)\n",
      "\n",
      "rho_max = 10.\n",
      "V_max = 1.\n",
      "rho_light = 10.\n",
      "\n",
      "rho = rho_green_light(nx, rho_max, rho_light)\n",
      "plt.plot(x, rho, color='#003366', ls='-', lw=3)\n",
      "plt.ylim(-0.5,11.);"
     ],
     "language": "python",
     "metadata": {},
     "outputs": []
    },
    {
     "cell_type": "markdown",
     "metadata": {},
     "source": [
      "**How does the traffic behave once the light turns green?** Cars should slowly start moving forward: the density profile should move to the right. Let's see if the numerical solution agrees with that!\n",
      "\n",
      "Before we start, let's define a function to calculate the traffic flux:"
     ]
    },
    {
     "cell_type": "code",
     "collapsed": false,
     "input": [
      "def computeF(V_max, rho_max, rho):\n",
      "    \"\"\"Computes flux F=V*rho\n",
      "\n",
      "    Parameters\n",
      "    ----------\n",
      "    V_max  : float\n",
      "        Maximum allowed velocity\n",
      "    rho    : array of floats\n",
      "        Array with density of cars at every point x\n",
      "    rho_max: float\n",
      "        Maximum allowed car density\n",
      "        \n",
      "    Returns\n",
      "    -------\n",
      "    F : array\n",
      "        Array with flux at every point x\n",
      "    \"\"\"\n",
      "    return V_max*rho*(1-rho/rho_max)"
     ],
     "language": "python",
     "metadata": {},
     "outputs": []
    },
    {
     "cell_type": "heading",
     "level": 3,
     "metadata": {},
     "source": [
      "Forward in time, backward in space"
     ]
    },
    {
     "cell_type": "markdown",
     "metadata": {},
     "source": [
      "Let's start by using a forward-time, backward-space scheme, like you did for the graded assessment of Module 2."
     ]
    },
    {
     "cell_type": "code",
     "collapsed": false,
     "input": [
      "def ftbs(rho, nt, dt, dx, rho_max, V_max):\n",
      "    \"\"\" Computes the solution with forward in time, backward in space\n",
      "    \n",
      "    Parameters\n",
      "    ----------\n",
      "    rho    : array of floats\n",
      "            Density at current time-step\n",
      "    nt     : int\n",
      "            Number of time steps\n",
      "    dt     : float\n",
      "            Time-step size\n",
      "    dx     : float\n",
      "            Mesh spacing\n",
      "    rho_max: float\n",
      "            Maximum allowed car density\n",
      "    V_max  : float\n",
      "            Speed limit\n",
      "    \n",
      "    Returns\n",
      "    -------\n",
      "    rho_n : array of floats\n",
      "            Density after nt time steps at every point x\n",
      "    \"\"\"\n",
      "    \n",
      "    #initialize our results array with dimensions nt by nx\n",
      "    rho_n = numpy.zeros((nt,len(rho)))      \n",
      "    #copy the initial u array into each row of our new array\n",
      "    rho_n[0,:] = rho.copy()              \n",
      "    \n",
      "    for t in range(1,nt):\n",
      "        F = computeF(V_max, rho_max, rho)\n",
      "        rho_n[t,1:] = rho[1:] - dt/dx*(F[1:]-F[:-1])\n",
      "        rho_n[t,0] = rho[0]\n",
      "        rho_n[t,-1] = rho[-1]\n",
      "        rho = rho_n[t].copy()\n",
      "\n",
      "    return rho_n"
     ],
     "language": "python",
     "metadata": {},
     "outputs": []
    },
    {
     "cell_type": "markdown",
     "metadata": {},
     "source": [
      "We're all good to go! \n",
      "\n",
      "**Note:** The code above saves the complete traffic density at each time-step -- we'll use that in a second to help animate our results.  "
     ]
    },
    {
     "cell_type": "code",
     "collapsed": false,
     "input": [
      "sigma = 1.\n",
      "dt = sigma*dx\n",
      "\n",
      "rho_n = ftbs(rho, nt, dt, dx, rho_max, V_max)"
     ],
     "language": "python",
     "metadata": {},
     "outputs": []
    },
    {
     "cell_type": "markdown",
     "metadata": {},
     "source": [
      "Let's see how that looks. Now in order to view the results in an animation, we'll import a few extra libraries.  The `JSAnimation` library is not part of the standard IPython install (yet!) but hopefully you installed it for [Lesson 3 of Module 2](http://nbviewer.ipython.org/github/numerical-mooc/numerical-mooc/blob/master/lessons/02_spacetime/02_03_1DDiffusion.ipynb). Either way, if you need to install it, [follow these instructions](https://github.com/numerical-mooc/numerical-mooc/wiki/HOWTO:-Install-JSAnimation-for-IPython-Notebook).\n",
      "\n",
      "You've had some experience already using `JSAnimation` -- in  [Lesson 3 of Module 2](http://nbviewer.ipython.org/github/numerical-mooc/numerical-mooc/blob/master/lessons/02_spacetime/02_03_1DDiffusion.ipynb) we created `animate` functions that performed two roles: they both calculated the results of our computation and also animated them.  \n",
      "\n",
      "Below is another way to use `JSAnimation`.  Instead of computing and animating at the same time, we can pass the results of our calculation, stored in the array `rho_n`, as individual frames.  \n",
      "\n",
      "It doesn't make much of a difference for a computationally light example like this one, but if you want to animate more complicated problems, it's nice to separate the computation from the visualization.  You don't want to re-run your entire simulation just so you can update the line style!"
     ]
    },
    {
     "cell_type": "code",
     "collapsed": false,
     "input": [
      "from matplotlib import animation\n",
      "from JSAnimation.IPython_display import display_animation"
     ],
     "language": "python",
     "metadata": {},
     "outputs": []
    },
    {
     "cell_type": "code",
     "collapsed": false,
     "input": [
      "fig = plt.figure();\n",
      "ax = plt.axes(xlim=(0,4),ylim=(-.5,11.5));\n",
      "line, = ax.plot([],[],lw=2);\n",
      "\n",
      "def animate(data):\n",
      "    x = numpy.linspace(0,4,nx)\n",
      "    y = data\n",
      "    line.set_data(x,y)\n",
      "    return line,\n",
      "\n",
      "anim = animation.FuncAnimation(fig, animate, frames=rho_n, interval=50)\n",
      "display_animation(anim, default_mode='once')"
     ],
     "language": "python",
     "metadata": {},
     "outputs": []
    },
    {
     "cell_type": "markdown",
     "metadata": {},
     "source": [
      "The solution is blowing up! This didn't happen for Module 2's graded assessment! What is going on? Is there a bug in the code?\n",
      "\n",
      "No need to panic. Let's take a closer look at the equation we are solving:\n",
      "\n",
      "\\begin{equation}\\frac{\\partial \\rho}{\\partial t} + \\frac{\\partial F}{\\partial x} = 0\\end{equation}\n",
      "\n",
      "Let's use the chain rule of calculus to rewrite that as\n",
      "\n",
      "\\begin{equation} \\frac{\\partial \\rho}{\\partial t} + \\frac{\\partial F}{\\partial \\rho} \\frac{\\partial \\rho}{\\partial x} = 0\\end{equation}\n",
      "\n",
      "This form of the equation looks like the nonlinear convection equation from [Lesson 1 of Module 2](http://nbviewer.ipython.org/github/numerical-mooc/numerical-mooc/blob/master/lessons/02_spacetime/02_01_1DConvection.ipynb), right? This is a wave equation where the wave speed is $u_{\\rm wave} = \\frac{\\partial F}{\\partial\\rho}$. That term is:\n",
      "\n",
      "\\begin{equation}u_{\\rm wave} = \\frac{\\partial F}{\\partial \\rho} = u_{\\rm max} \\left( 1-2\\frac{\\rho}{\\rho_{\\rm max}} \\right).\\end{equation}\n",
      "\n",
      "See how the wave speed changes sign at $\\rho = \\rho_{\\rm max}/2$? That means that for the initial conditions given for the green light problem, the part of the wave under $\\rho = \\rho_{\\rm max}/2$ will want to move right, whereas the part of the wave over this mark, will move left! \n",
      "\n",
      "There is no real problem with that in terms of the model, but a scheme that is backward in space is *unstable* for negative values of the wave speed. "
     ]
    },
    {
     "cell_type": "markdown",
     "metadata": {},
     "source": [
      "Just for a sanity check, let's try the forward in time, backward in space scheme with the initial conditions\n",
      "\n",
      "\\begin{equation}u(x,0) = \\left\\{ \\begin{array}{cc}\n",
      "2.5 x & 0 \\leq x < 2  \\\\\n",
      "0 & 2 \\leq x \\leq 4 \\\\ \\end{array} \\right.\\end{equation}\n",
      "\n",
      "If all values of $\\rho \\leq \\rho_{\\rm max}/2$, then $\\frac{\\partial F}{\\partial \\rho}$ is positive everywhere. For these conditions, our forward-time, backward-space scheme shouldn't have any trouble, as all wave speeds are positive."
     ]
    },
    {
     "cell_type": "code",
     "collapsed": false,
     "input": [
      "rho_light = 5.\n",
      "nt = 40\n",
      "rho = rho_green_light(nx, rho_max, rho_light)\n",
      "rho_n = ftbs(rho, nt, dt, dx, rho_max, V_max)\n",
      "\n",
      "anim = animation.FuncAnimation(fig, animate, frames=rho_n, interval=50)\n",
      "display_animation(anim, default_mode='once')"
     ],
     "language": "python",
     "metadata": {},
     "outputs": []
    },
    {
     "cell_type": "markdown",
     "metadata": {},
     "source": [
      "Phew!  It works! Try this out yourself with different initial conditions. \n",
      "\n",
      "Also, you can easily create a new function `ftfs` to do a forward in time, forward in space scheme, which is stable for negative wave speeds. Unfortunately, forward in space is unstable for positive wave speeds.  If you don't want it blowing up, make sure the wave speed is negative everywhere: $u_{\\rm wave} = \\frac{\\partial F}{\\partial \\rho} < 0 \\ \\forall \\ x$.\n",
      "\n",
      "Look at that solution again, and you'll see some nice insight of the real physical problem. See how on the trailing edge, a shock is developing? In the context of the traffic flow problem, a shock is a sign of a traffic jam: a region where traffic is heavy and slow next to a region that is free of cars. In the initial condition, the cars in the rear end of the triangle see a mostly empty road (traffic density is low!).  They see an empty road and speed up, accordingly.  The cars in the peak of the triangle are moving pretty slowly because traffic density is higher there.  Eventually the cars that started in the rear will catch up with the rest and form a traffic jam."
     ]
    },
    {
     "cell_type": "heading",
     "level": 2,
     "metadata": {},
     "source": [
      "Beware the CFL!"
     ]
    },
    {
     "cell_type": "markdown",
     "metadata": {},
     "source": [
      "[Lesson 2 of Module 2](http://nbviewer.ipython.org/github/numerical-mooc/numerical-mooc/blob/wave_dev/lessons/02_spacetime/02_02_CFLCondition.ipynb) discusses the CFL condition for the linear convection equation. To refresh your memory, for a constant wave speed $u_{\\rm wave} = c$:\n",
      "\n",
      "\\begin{equation} \\sigma = c\\frac{\\Delta t}{\\Delta x} < 1.\\end{equation}\n",
      "\n",
      "What happens for non-linear equations? The wave speed is space and time dependent $(u_{\\rm wave} = u_{\\rm wave}(x,t))$, hence, the CFL condition needs to apply for every point in space, at every instant of time. We just need $\\sigma>1$ in one spot, for the whole solution to blow up! \n",
      "\n",
      "Let's generalize the CFL condition to\n",
      "\n",
      "\\begin{equation} \\sigma = \\max\\left[ \\left| u_{\\rm wave} \\right| \\frac{\\Delta t}{\\Delta x} \\right] < 1.\\end{equation}\n",
      "\n",
      "which in our case is\n",
      "\n",
      "\\begin{equation} \\sigma = \\max\\left[ u_{\\rm max} \\left| 1-\\frac{\\rho}{\\rho_{\\rm max}} \\right|  \\frac{\\Delta t}{\\Delta x} \\right] < 1.\\end{equation}\n",
      "\n",
      "Here, the closer $\\rho$ is to zero, the more likely it is to be unstable."
     ]
    },
    {
     "cell_type": "heading",
     "level": 3,
     "metadata": {},
     "source": [
      "Green light and CFL"
     ]
    },
    {
     "cell_type": "markdown",
     "metadata": {},
     "source": [
      "\n",
      "We know that the green light problem with density at the stop light $\\rho = \\rho_{\\rm light} = 4$ is stable using a forward in time, backward in space scheme. Earlier, we used $u_{\\rm max} = 1$, and $\\Delta t/\\Delta x=1$, which gives a CFL $= 1$, when $\\rho = 0$. \n",
      "\n",
      "What if we change the conditions slightly, say $u_{\\rm max} = 1.1$? "
     ]
    },
    {
     "cell_type": "code",
     "collapsed": false,
     "input": [
      "rho_light = 4.\n",
      "V_max = 1.1\n",
      "nt = 40\n",
      "rho = rho_green_light(nx, rho_max, rho_light)\n",
      "rho_n = ftbs(rho, nt, dt, dx, rho_max, V_max)\n",
      "\n",
      "anim = animation.FuncAnimation(fig, animate, frames=rho_n, interval=50)\n",
      "display_animation(anim, default_mode='once')"
     ],
     "language": "python",
     "metadata": {},
     "outputs": []
    },
    {
     "cell_type": "markdown",
     "metadata": {},
     "source": [
      "That failed miserably! Only by changing $u_{\\rm max}$ to $1.1$, even an algorithm that we know is stable for this problem, fails. Since we kept $\\Delta t/\\Delta x=1$, the CFL number for $\\rho=0$ is $1.1$. See where the instability begins? Beware the CFL!"
     ]
    },
    {
     "cell_type": "markdown",
     "metadata": {},
     "source": [
      "---\n",
      "\n",
      "######The cell below loads the style of the notebook."
     ]
    },
    {
     "cell_type": "code",
     "collapsed": false,
     "input": [
      "from IPython.core.display import HTML\n",
      "css_file = '../../styles/numericalmoocstyle.css'\n",
      "HTML(open(css_file, \"r\").read())"
     ],
     "language": "python",
     "metadata": {},
     "outputs": []
    }
   ],
   "metadata": {}
  }
 ]
}