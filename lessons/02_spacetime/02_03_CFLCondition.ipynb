{
 "metadata": {
  "name": "",
  "signature": "sha256:ee0b84d927810f85eef9f7a412435fb2adc2a1407870a6305314e1cfb23acae0"
 },
 "nbformat": 3,
 "nbformat_minor": 0,
 "worksheets": [
  {
   "cells": [
    {
     "cell_type": "heading",
     "level": 6,
     "metadata": {},
     "source": [
      "Content under Creative Commons Attribution license CC-BY 4.0, code under MIT license (c)2014 L.A. Barba, G.F. Forsyth, C. Cooper. Based on [CFDPython](https://github.com/barbagroup/CFDPython), (c)2013 L.A. Barba, also under CC-BY license."
     ]
    },
    {
     "cell_type": "heading",
     "level": 1,
     "metadata": {},
     "source": [
      "Space & Time"
     ]
    },
    {
     "cell_type": "heading",
     "level": 2,
     "metadata": {},
     "source": [
      "Convergence and the CFL condition"
     ]
    },
    {
     "cell_type": "markdown",
     "metadata": {},
     "source": [
      "Welcome back! This is the second IPython Notebook of the series *Space and Time \u2014 Introduction to Finite-difference solutions of PDEs*, the second module of [\"Practical Numerical Methods with Python\"](http://openedx.seas.gwu.edu/courses/GW/MAE6286/2014_fall/about).\n",
      "\n",
      "In the first lesson of this series, we studied the numerical solution of the linear and non-linear convection equations, using the finite-difference method. Did you experiment there using different parameter choices? If you did, you probably ran into some unexpected behavior. Did your solution ever blow up (sometimes in a cool way!)? \n",
      "\n",
      "In this IPython Notebook, we will explore why changing the discretization parameters affects your solution in such a drastic way."
     ]
    },
    {
     "cell_type": "markdown",
     "metadata": {},
     "source": [
      "With the solution parameters we initially suggested, the grid has 41 points and the timestep is 0.25.  Now, we're going to experiment with the number of points in the grid.  The code below corresponds to the linear convection case, but wrote it into a function so that we can easily examine what happens as we adjust just one variable: **the grid size**."
     ]
    },
    {
     "cell_type": "code",
     "collapsed": false,
     "input": [
      "import numpy                       \n",
      "import matplotlib.pyplot as plt    \n",
      "%matplotlib inline\n",
      "from matplotlib import rcParams\n",
      "rcParams['font.family'] = 'serif'\n",
      "rcParams['font.size'] = 16"
     ],
     "language": "python",
     "metadata": {},
     "outputs": []
    },
    {
     "cell_type": "code",
     "collapsed": false,
     "input": [
      "def linearconv(nx):\n",
      "    \"\"\"Solve the linear convection equation.\n",
      "    \n",
      "    Solves the equation d_t u + c d_x u = 0 where \n",
      "    * the wavespeed c is set to 1\n",
      "    * the domain is x \\in [0, 2]\n",
      "    * 20 timesteps are taken, with \\Delta t = 0.025\n",
      "    * the initial data is the hat function\n",
      "    \n",
      "    Produces a plot of the results\n",
      "    \n",
      "    Parameters\n",
      "    ----------\n",
      "    \n",
      "    nx : integer\n",
      "        number of internal grid points\n",
      "        \n",
      "    Returns\n",
      "    -------\n",
      "    \n",
      "    None : none\n",
      "    \"\"\"\n",
      "    dx = 2./(nx-1)\n",
      "    nt = 20    \n",
      "    dt = .025  \n",
      "    c = 1\n",
      "\n",
      "    u = numpy.ones(nx)      \n",
      "    u[.5/dx : 1/dx+1]=2  \n",
      "\n",
      "    un = numpy.ones(nx) \n",
      "\n",
      "    for n in range(nt): \n",
      "        un = u.copy() \n",
      "        u[1:] = un[1:] -c*dt/dx*(un[1:] -un[0:-1]) \n",
      "        u[0] = 1.0\n",
      "        \n",
      "\n",
      "    plt.plot(numpy.linspace(0,2,nx), u, color='#003366', ls='--', lw=3)\n",
      "    plt.ylim(0,2.5);  "
     ],
     "language": "python",
     "metadata": {},
     "outputs": []
    },
    {
     "cell_type": "markdown",
     "metadata": {},
     "source": [
      "Now let's examine the results of our linear convection problem with an increasingly fine mesh.  "
     ]
    },
    {
     "cell_type": "code",
     "collapsed": false,
     "input": [
      "linearconv(41) #convection using 41 grid points"
     ],
     "language": "python",
     "metadata": {},
     "outputs": []
    },
    {
     "cell_type": "markdown",
     "metadata": {},
     "source": [
      "This is the same result as our linear convection calculation, reproduced here for reference."
     ]
    },
    {
     "cell_type": "code",
     "collapsed": false,
     "input": [
      "linearconv(61)"
     ],
     "language": "python",
     "metadata": {},
     "outputs": []
    },
    {
     "cell_type": "markdown",
     "metadata": {},
     "source": [
      "Here, there is still numerical diffusion present, but it is less severe.  "
     ]
    },
    {
     "cell_type": "code",
     "collapsed": false,
     "input": [
      "linearconv(71)"
     ],
     "language": "python",
     "metadata": {},
     "outputs": []
    },
    {
     "cell_type": "markdown",
     "metadata": {},
     "source": [
      "Here the same pattern is present -- the wave is more square than in the previous runs."
     ]
    },
    {
     "cell_type": "code",
     "collapsed": false,
     "input": [
      "linearconv(85)"
     ],
     "language": "python",
     "metadata": {},
     "outputs": []
    },
    {
     "cell_type": "markdown",
     "metadata": {},
     "source": [
      "This doesn't look anything like our original hat function. "
     ]
    },
    {
     "cell_type": "heading",
     "level": 3,
     "metadata": {},
     "source": [
      "What happened?"
     ]
    },
    {
     "cell_type": "markdown",
     "metadata": {},
     "source": [
      "To answer that question, we have to think a little bit about what we're actually implementing in code.  \n",
      "\n",
      "In each iteration of our time loop, we use the existing data about our wave to estimate the speed of the wave in the subsequent time step.  Initially, the increase in the number of grid points returned more accurate answers.  There was less numerical diffusion and the square wave looked much more like a square wave than it did in our first example.  \n",
      "\n",
      "Each iteration of our time loop covers a time-step of length $\\Delta t$, which we have been defining as 0.025.\n",
      "\n",
      "During this iteration, we evaluate the speed of the wave at each of the $x$ points we've created.  In the last plot, something has clearly gone wrong.  \n",
      "\n",
      "What has happened is that over the time period $\\Delta t$, the wave is travelling a distance which is greater than `dx`, and we say the solution is *unstable*.  The length `dx` of each grid box is related to the number of total points `nx`, so stability can be enforced if the $\\Delta t$ step size is calculated with respect to the size of `dx`.  \n",
      "\n",
      "\\begin{equation}\\sigma = \\frac{u \\Delta t}{\\Delta x} \\leq \\sigma_{max}\\end{equation}\n",
      "\n",
      "where $u$ is the speed of the wave; $\\sigma$ is called the **Courant number** and the value of $\\sigma_{max}$ that will ensure stability depends on the discretization used. \n",
      "\n",
      "In a new version of our code, we'll use the CFL number to calculate the appropriate time-step `dt` depending on the size of `dx`.  \n",
      "\n"
     ]
    },
    {
     "cell_type": "code",
     "collapsed": false,
     "input": [
      "def linearconv(nx):\n",
      "    \"\"\"Solve the linear convection equation.\n",
      "    \n",
      "    Solves the equation d_t u + c d_x u = 0 where \n",
      "    * the wavespeed c is set to 1\n",
      "    * the domain is x \\in [0, 2]\n",
      "    * 20 timesteps are taken, with \\Delta t computed using the CFL 0.5\n",
      "    * the initial data is the hat function\n",
      "    \n",
      "    Produces a plot of the results\n",
      "    \n",
      "    Parameters\n",
      "    ----------\n",
      "    \n",
      "    nx : integer\n",
      "        number of internal grid points\n",
      "        \n",
      "    Returns\n",
      "    -------\n",
      "    \n",
      "    None : none\n",
      "    \"\"\"\n",
      "    dx = 2./(nx-1)\n",
      "    nt = 20    \n",
      "    c = 1\n",
      "    sigma = .5\n",
      "    \n",
      "    dt = sigma*dx\n",
      "\n",
      "    u = numpy.ones(nx) \n",
      "    u[.5/dx : 1/dx+1]=2\n",
      "\n",
      "    un = numpy.ones(nx)\n",
      "\n",
      "    for n in range(nt):  \n",
      "        un = u.copy() \n",
      "        u[1:] = un[1:] -c*dt/dx*(un[1:] -un[0:-1]) \n",
      "        u[0] = 1.0\n",
      "        \n",
      "    plt.plot(numpy.linspace(0,2,nx),u)"
     ],
     "language": "python",
     "metadata": {},
     "outputs": []
    },
    {
     "cell_type": "code",
     "collapsed": false,
     "input": [
      "linearconv(41)"
     ],
     "language": "python",
     "metadata": {},
     "outputs": []
    },
    {
     "cell_type": "code",
     "collapsed": false,
     "input": [
      "linearconv(61)"
     ],
     "language": "python",
     "metadata": {},
     "outputs": []
    },
    {
     "cell_type": "code",
     "collapsed": false,
     "input": [
      "linearconv(81)"
     ],
     "language": "python",
     "metadata": {},
     "outputs": []
    },
    {
     "cell_type": "code",
     "collapsed": false,
     "input": [
      "linearconv(101)"
     ],
     "language": "python",
     "metadata": {},
     "outputs": []
    },
    {
     "cell_type": "code",
     "collapsed": false,
     "input": [
      "linearconv(121)"
     ],
     "language": "python",
     "metadata": {},
     "outputs": []
    },
    {
     "cell_type": "markdown",
     "metadata": {},
     "source": [
      "Notice that as the number of points `nx` increases, the wave convects a shorter and shorter distance.  The number of time iterations we have advanced the solution at is held constant at `nt = 20`, but depending on the value of `nx` and the corresponding values of `dx` and `dt`, a shorter time window is being examined overall.  "
     ]
    },
    {
     "cell_type": "markdown",
     "metadata": {},
     "source": [
      "---\n",
      "\n",
      "######The cell below loads the style of the notebook."
     ]
    },
    {
     "cell_type": "code",
     "collapsed": false,
     "input": [
      "from IPython.core.display import HTML\n",
      "css_file = '../../styles/numericalmoocstyle.css'\n",
      "HTML(open(css_file, \"r\").read())"
     ],
     "language": "python",
     "metadata": {},
     "outputs": [
      {
       "html": [
        "<link href='http://fonts.googleapis.com/css?family=Alegreya+Sans:100,300,400,500,700,800,900,100italic,300italic,400italic,500italic,700italic,800italic,900italic' rel='stylesheet' type='text/css'>\n",
        "<link href='http://fonts.googleapis.com/css?family=Arvo:400,700,400italic' rel='stylesheet' type='text/css'>\n",
        "<link href='http://fonts.googleapis.com/css?family=PT+Mono' rel='stylesheet' type='text/css'>\n",
        "<link href='http://fonts.googleapis.com/css?family=Shadows+Into+Light' rel='stylesheet' type='text/css'>\n",
        "<link href='http://fonts.googleapis.com/css?family=Nixie+One' rel='stylesheet' type='text/css'>\n",
        "<style>\n",
        "\n",
        "@font-face {\n",
        "    font-family: \"Computer Modern\";\n",
        "    src: url('http://mirrors.ctan.org/fonts/cm-unicode/fonts/otf/cmunss.otf');\n",
        "}\n",
        "\n",
        "#notebook_panel { /* main background */\n",
        "    background: rgb(245,245,245);\n",
        "}\n",
        "\n",
        "div.cell { /* set cell width */\n",
        "    width: 750px;\n",
        "}\n",
        "\n",
        "div #notebook { /* centre the content */\n",
        "    background: #fff; /* white background for content */\n",
        "    width: 1000px;\n",
        "    margin: auto;\n",
        "    padding-left: 0em;\n",
        "}\n",
        "\n",
        "#notebook li { /* More space between bullet points */\n",
        "margin-top:0.8em;\n",
        "}\n",
        "\n",
        "/* draw border around running cells */\n",
        "div.cell.border-box-sizing.code_cell.running { \n",
        "    border: 1px solid #111;\n",
        "}\n",
        "\n",
        "/* Put a solid color box around each cell and its output, visually linking them*/\n",
        "div.cell.code_cell {\n",
        "    background-color: rgb(256,256,256); \n",
        "    border-radius: 0px; \n",
        "    padding: 0.5em;\n",
        "    margin-left:1em;\n",
        "    margin-top: 1em;\n",
        "}\n",
        "\n",
        "div.text_cell_render{\n",
        "    font-family: 'Alegreya Sans' sans-serif;\n",
        "    line-height: 140%;\n",
        "    font-size: 125%;\n",
        "    font-weight: 400;\n",
        "    width:600px;\n",
        "    margin-left:auto;\n",
        "    margin-right:auto;\n",
        "}\n",
        "\n",
        "\n",
        "/* Formatting for header cells */\n",
        ".text_cell_render h1 {\n",
        "    font-family: 'Nixie One', serif;\n",
        "    font-style:regular;\n",
        "    font-weight: 400;    \n",
        "    font-size: 45pt;\n",
        "    line-height: 100%;\n",
        "    color: rgb(0,51,102);\n",
        "    margin-bottom: 0.5em;\n",
        "    margin-top: 0.5em;\n",
        "    display: block;\n",
        "}\t\n",
        ".text_cell_render h2 {\n",
        "    font-family: 'Nixie One', serif;\n",
        "    font-weight: 400;\n",
        "    font-size: 30pt;\n",
        "    line-height: 100%;\n",
        "    color: rgb(0,51,102);\n",
        "    margin-bottom: 0.1em;\n",
        "    margin-top: 0.3em;\n",
        "    display: block;\n",
        "}\t\n",
        "\n",
        ".text_cell_render h3 {\n",
        "    font-family: 'Nixie One', serif;\n",
        "    margin-top:16px;\n",
        "\tfont-size: 22pt;\n",
        "    font-weight: 600;\n",
        "    margin-bottom: 3px;\n",
        "    font-style: regular;\n",
        "    color: rgb(102,102,0);\n",
        "}\n",
        "\n",
        ".text_cell_render h4 {    /*Use this for captions*/\n",
        "    font-family: 'Nixie One', serif;\n",
        "    font-size: 14pt;\n",
        "    text-align: center;\n",
        "    margin-top: 0em;\n",
        "    margin-bottom: 2em;\n",
        "    font-style: regular;\n",
        "}\n",
        "\n",
        ".text_cell_render h5 {  /*Use this for small titles*/\n",
        "    font-family: 'Nixie One', sans-serif;\n",
        "    font-weight: 400;\n",
        "    font-size: 16pt;\n",
        "    color: rgb(163,0,0);\n",
        "    font-style: italic;\n",
        "    margin-bottom: .1em;\n",
        "    margin-top: 0.8em;\n",
        "    display: block;\n",
        "}\n",
        "\n",
        ".text_cell_render h6 { /*use this for copyright note*/\n",
        "    font-family: 'PT Mono', sans-serif;\n",
        "    font-weight: 300;\n",
        "    font-size: 9pt;\n",
        "    line-height: 100%;\n",
        "    color: grey;\n",
        "    margin-bottom: 1px;\n",
        "    margin-top: 1px;\n",
        "}\n",
        "\n",
        ".CodeMirror{\n",
        "        font-family: \"PT Mono\";\n",
        "        font-size: 90%;\n",
        "}\n",
        "\n",
        "</style>\n",
        "<script>\n",
        "    MathJax.Hub.Config({\n",
        "                        TeX: {\n",
        "                           extensions: [\"AMSmath.js\"],\n",
        "                           equationNumbers: { autoNumber: \"AMS\", useLabelIds: true}\n",
        "                           },\n",
        "                tex2jax: {\n",
        "                    inlineMath: [ ['$','$'], [\"\\\\(\",\"\\\\)\"] ],\n",
        "                    displayMath: [ ['$$','$$'], [\"\\\\[\",\"\\\\]\"] ]\n",
        "                },\n",
        "                displayAlign: 'center', // Change this to 'center' to center equations.\n",
        "                \"HTML-CSS\": {\n",
        "                    styles: {'.MathJax_Display': {\"margin\": 4}}\n",
        "                }\n",
        "        });\n",
        "</script>\n"
       ],
       "metadata": {},
       "output_type": "pyout",
       "prompt_number": 1,
       "text": [
        "<IPython.core.display.HTML at 0x1025869d0>"
       ]
      }
     ],
     "prompt_number": 1
    }
   ],
   "metadata": {}
  }
 ]
}