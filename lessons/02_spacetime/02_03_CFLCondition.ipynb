{
 "metadata": {
  "name": "",
  "signature": "sha256:4d1227c365fb75d67335e281921509f79b998d1a962d5554fcb1f662b769d91a"
 },
 "nbformat": 3,
 "nbformat_minor": 0,
 "worksheets": [
  {
   "cells": [
    {
     "cell_type": "heading",
     "level": 6,
     "metadata": {},
     "source": [
      "Content under Creative Commons Attribution license CC-BY 4.0, code under MIT license (c) L.A. Barba, G.F. Forsyth, C. Cooper, 2014. "
     ]
    },
    {
     "cell_type": "code",
     "collapsed": false,
     "input": [
      "from IPython.core.display import HTML\n",
      "css_file = '../../styles/numericalmoocstyle.css'\n",
      "HTML(open(css_file, \"r\").read())"
     ],
     "language": "python",
     "metadata": {},
     "outputs": []
    },
    {
     "cell_type": "heading",
     "level": 1,
     "metadata": {},
     "source": [
      "Convergence and the CFL condition"
     ]
    },
    {
     "cell_type": "markdown",
     "metadata": {},
     "source": [
      "Did you experiment in the preious notebooks using different parameter choices? If you did, you probably ran into some unexpected behavior. Did your solution ever blow up? (In my experience, CFD students *love* to make things blow up.)\n",
      "\n",
      "You are probably wondering why changing the discretization parameters affects your solution in such a drastic way. This notebook complements our [interactive CFD lessons](https://bitbucket.org/cfdpython/cfd-python-class/overview) by discussing the CFL condition. And learn more by watching Prof. Barba's YouTube lectures (links below). "
     ]
    },
    {
     "cell_type": "markdown",
     "metadata": {},
     "source": [
      "For the first few steps, we've been using the same general initial and boundary conditions.  With the parameters we initially suggested, the grid has 41 points and the timestep is 0.25 seconds.  Now, we're going to experiment with increasing the size of our grid.  The code below is identical to the code we used in the linear convection case, but here it has been bundled up in a function so that we can easily examine what happens as we adjust just one variable: **the grid size**."
     ]
    },
    {
     "cell_type": "code",
     "collapsed": false,
     "input": [
      "import numpy                       #numpy is a library for array operations akin to MATLAB\n",
      "import matplotlib.pyplot as plt    #matplotlib is 2D plotting library\n",
      "%matplotlib inline\n",
      "\n",
      "def linearconv(nx):\n",
      "    dx = 2./(nx-1)\n",
      "    nt = 20    #nt is the number of timesteps we want to calculate\n",
      "    dt = .025  #dt is the amount of time each timestep covers (delta t)\n",
      "    c = 1\n",
      "\n",
      "    u = numpy.ones(nx)      #defining a numpy array which is nx elements long with every value equal to 1.\n",
      "    u[.5/dx : 1/dx+1]=2  #setting u = 2 between 0.5 and 1 as per our I.C.s\n",
      "\n",
      "    un = numpy.ones(nx) #initializing our placeholder array, un, to hold the values we calculate for the n+1 timestep\n",
      "\n",
      "    for n in range(nt):  #iterate through time\n",
      "        un = u.copy() ##copy the existing values of u into un\n",
      "        for i in range(1,nx):\n",
      "            u[i] = un[i]-c*dt/dx*(un[i]-un[i-1])\n",
      "        \n",
      "    plt.plot(numpy.linspace(0,2,nx),u)\n",
      "        "
     ],
     "language": "python",
     "metadata": {},
     "outputs": []
    },
    {
     "cell_type": "markdown",
     "metadata": {},
     "source": [
      "Now let's examine the results of our linear convection problem with an increasingly fine mesh.  "
     ]
    },
    {
     "cell_type": "code",
     "collapsed": false,
     "input": [
      "linearconv(41) #convection using 41 grid points"
     ],
     "language": "python",
     "metadata": {},
     "outputs": []
    },
    {
     "cell_type": "markdown",
     "metadata": {},
     "source": [
      "This is the same result as our linear convection calculation, reproduced here for reference."
     ]
    },
    {
     "cell_type": "code",
     "collapsed": false,
     "input": [
      "linearconv(61)"
     ],
     "language": "python",
     "metadata": {},
     "outputs": []
    },
    {
     "cell_type": "markdown",
     "metadata": {},
     "source": [
      "Here, there is still numerical diffusion present, but it is less severe.  "
     ]
    },
    {
     "cell_type": "code",
     "collapsed": false,
     "input": [
      "linearconv(71)"
     ],
     "language": "python",
     "metadata": {},
     "outputs": []
    },
    {
     "cell_type": "markdown",
     "metadata": {},
     "source": [
      "Here the same pattern is present -- the wave is more square than in the previous runs."
     ]
    },
    {
     "cell_type": "code",
     "collapsed": false,
     "input": [
      "linearconv(85)"
     ],
     "language": "python",
     "metadata": {},
     "outputs": []
    },
    {
     "cell_type": "markdown",
     "metadata": {},
     "source": [
      "This doesn't look anything like our original hat function. "
     ]
    },
    {
     "cell_type": "heading",
     "level": 3,
     "metadata": {},
     "source": [
      "What happened?"
     ]
    },
    {
     "cell_type": "markdown",
     "metadata": {},
     "source": [
      "To answer that question, we have to think a little bit about what we're actually implementing in code.  \n",
      "\n",
      "In each iteration of our time loop, we use the existing data about our wave to estimate the speed of the wave in the subsequent time step.  Initially, the increase in the number of grid points returned more accurate answers.  There was less numerical diffusion and the square wave looked much more like a square wave than it did in our first example.  \n",
      "\n",
      "Each iteration of our time loop covers a time-step of length $\\Delta t$, which we have been defining as 0.025.\n",
      "\n",
      "During this iteration, we evaluate the speed of the wave at each of the $x$ points we've created.  In the last plot, something has clearly gone wrong.  \n",
      "\n",
      "What has happened is that over the time period $\\Delta t$, the wave is travelling a distance which is greater than `dx`.  The length `dx` of each grid box is related to the number of total points `nx`, so stability can be enforced if the $\\Delta t$ step size is calculated with respect to the size of `dx`.  \n",
      "\n",
      "\\begin{equation}\\sigma = \\frac{u \\Delta t}{\\Delta x} \\leq \\sigma_{max}\\end{equation}\n",
      "\n",
      "where $u$ is the speed of the wave; $\\sigma$ is called the **Courant number** and the value of $\\sigma_{max}$ that will ensure stability depends on the discretization used. \n",
      "\n",
      "In a new version of our code, we'll use the CFL number to calculate the appropriate time-step `dt` depending on the size of `dx`.  \n",
      "\n"
     ]
    },
    {
     "cell_type": "code",
     "collapsed": false,
     "input": [
      "import numpy as numpy\n",
      "import matplotlib.pyplot as plt\n",
      "\n",
      "def linearconv(nx):\n",
      "    dx = 2./(nx-1)\n",
      "    nt = 20    #nt is the number of timesteps we want to calculate\n",
      "    c = 1\n",
      "    sigma = .5\n",
      "    \n",
      "    dt = sigma*dx\n",
      "\n",
      "    u = numpy.ones(nx) \n",
      "    u[.5/dx : 1/dx+1]=2\n",
      "\n",
      "    un = numpy.ones(nx)\n",
      "\n",
      "    for n in range(nt):  #iterate through time\n",
      "        un = u.copy() ##copy the existing values of u into un\n",
      "        for i in range(1,nx):\n",
      "            u[i] = un[i]-c*dt/dx*(un[i]-un[i-1])\n",
      "        \n",
      "    plt.plot(numpy.linspace(0,2,nx),u)"
     ],
     "language": "python",
     "metadata": {},
     "outputs": []
    },
    {
     "cell_type": "code",
     "collapsed": false,
     "input": [
      "linearconv(41)"
     ],
     "language": "python",
     "metadata": {},
     "outputs": []
    },
    {
     "cell_type": "code",
     "collapsed": false,
     "input": [
      "linearconv(61)"
     ],
     "language": "python",
     "metadata": {},
     "outputs": []
    },
    {
     "cell_type": "code",
     "collapsed": false,
     "input": [
      "linearconv(81)"
     ],
     "language": "python",
     "metadata": {},
     "outputs": []
    },
    {
     "cell_type": "code",
     "collapsed": false,
     "input": [
      "linearconv(101)"
     ],
     "language": "python",
     "metadata": {},
     "outputs": []
    },
    {
     "cell_type": "code",
     "collapsed": false,
     "input": [
      "linearconv(121)"
     ],
     "language": "python",
     "metadata": {},
     "outputs": []
    },
    {
     "cell_type": "markdown",
     "metadata": {},
     "source": [
      "Notice that as the number of points `nx` increases, the wave convects a shorter and shorter distance.  The number of time iterations we have advanced the solution at is held constant at `nt = 20`, but depending on the value of `nx` and the corresponding values of `dx` and `dt`, a shorter time window is being examined overall.  "
     ]
    },
    {
     "cell_type": "markdown",
     "metadata": {},
     "source": [
      "Learn More\n",
      "-----\n",
      "***"
     ]
    },
    {
     "cell_type": "markdown",
     "metadata": {},
     "source": [
      "It's possible to do rigurous analysis of the stability of numerical schemes, in some cases. Watch Prof. Barba's presentation of this topic in **Video Lecture 9** on You Tube."
     ]
    },
    {
     "cell_type": "code",
     "collapsed": false,
     "input": [
      "from IPython.display import YouTubeVideo\n",
      "YouTubeVideo('Yw1YPBupZxU')"
     ],
     "language": "python",
     "metadata": {},
     "outputs": []
    }
   ],
   "metadata": {}
  }
 ]
}
