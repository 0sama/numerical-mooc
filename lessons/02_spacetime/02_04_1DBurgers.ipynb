{
 "metadata": {
  "name": "",
  "signature": "sha256:de64b0c05a579a41cf17aee6f2aedc43f12eae9d5554ef6a1187e7279b63aa85"
 },
 "nbformat": 3,
 "nbformat_minor": 0,
 "worksheets": [
  {
   "cells": [
    {
     "cell_type": "heading",
     "level": 6,
     "metadata": {},
     "source": [
      "Content under Creative Commons Attribution license CC-BY 4.0, code under MIT license (c)2014 L.A. Barba, G.F. Forsyth, C. Cooper. Based on [CFDPython](https://github.com/barbagroup/CFDPython), (c)2013 L.A. Barba, also under CC-BY license."
     ]
    },
    {
     "cell_type": "heading",
     "level": 1,
     "metadata": {},
     "source": [
      "Space & Time"
     ]
    },
    {
     "cell_type": "heading",
     "level": 2,
     "metadata": {},
     "source": [
      "Burgers' Equation"
     ]
    },
    {
     "cell_type": "markdown",
     "metadata": {},
     "source": [
      "Hi there! We have reached the final lesson of the series *Space and Time \u2014 Introduction to Finite-difference solutions of PDEs*, the second module of [\"Practical Numerical Methods with Python\"](http://openedx.seas.gwu.edu/courses/GW/MAE6286/2014_fall/about).\n",
      "\n",
      "We have learned about the finite-difference solution for the linear and non-linear convection equations and the diffusion equation. It's time to combine all these into one: *Burgers' equation*. The wonders of *code reuse*!\n",
      "\n",
      "Before you continue, make sure you have completed the previous lessons of this series, it will make your life easier. You should have written your own versions of the codes in separate, clean IPython Notebooks or Python scripts."
     ]
    },
    {
     "cell_type": "markdown",
     "metadata": {},
     "source": [
      "You can read about Burgers' Equation on its [wikipedia page](http://en.wikipedia.org/wiki/Burgers'_equation).\n",
      "Burgers' equation in one spatial dimension looks like this:\n",
      "\n",
      "\\begin{equation}\\frac{\\partial u}{\\partial t} + u \\frac{\\partial u}{\\partial x} = \\nu \\frac{\\partial ^2u}{\\partial x^2}\\end{equation}\n",
      "\n",
      "As you can see, it is a combination of non-linear convection and diffusion. It is surprising how much you learn from this neat little equation! \n",
      "\n",
      "We can discretize it using the methods we've already detailed in the previous notebooks of this module.  Using forward difference for time, backward difference for space and our 2nd-order method for the second derivatives yields:\n",
      "\n",
      "\\begin{equation}\\frac{u_i^{n+1}-u_i^n}{\\Delta t} + u_i^n \\frac{u_i^n - u_{i-1}^n}{\\Delta x} = \\nu \\frac{u_{i+1}^n - 2u_i^n + u_{i-1}^n}{\\Delta x^2}\\end{equation}\n",
      "\n",
      "As before, once we have an initial condition, the only unknown is $u_i^{n+1}$. We will step in time as follows:\n",
      "\n",
      "\\begin{equation}u_i^{n+1} = u_i^n - u_i^n \\frac{\\Delta t}{\\Delta x} (u_i^n - u_{i-1}^n) + \\nu \\frac{\\Delta t}{\\Delta x^2}(u_{i+1}^n - 2u_i^n + u_{i-1}^n)\\end{equation}"
     ]
    },
    {
     "cell_type": "markdown",
     "metadata": {},
     "source": [
      "###Initial and Boundary Conditions\n",
      "\n",
      "To examine some interesting properties of Burgers' equation, it is helpful to use different initial and boundary conditions than we've been using for previous steps.  \n",
      "\n",
      "Our initial condition for this problem is going to be:\n",
      "\n",
      "\\begin{eqnarray}\n",
      "u &=& -\\frac{2 \\nu}{\\phi} \\frac{\\partial \\phi}{\\partial x} + 4 \\\\\\\n",
      "\\phi(t=0) = \\phi_0 &=& \\exp \\bigg(\\frac{-x^2}{4 \\nu} \\bigg) + \\exp \\bigg(\\frac{-(x-2 \\pi)^2}{4 \\nu} \\bigg)\n",
      "\\end{eqnarray}\n",
      "\n",
      "This has an analytical solution, given by:\n",
      "\n",
      "\\begin{eqnarray}\n",
      "u &=& -\\frac{2 \\nu}{\\phi} \\frac{\\partial \\phi}{\\partial x} + 4 \\\\\\\n",
      "\\phi &=& \\exp \\bigg(\\frac{-(x-4t)^2}{4 \\nu (t+1)} \\bigg) + \\exp \\bigg(\\frac{-(x-4t -2 \\pi)^2}{4 \\nu(t+1)} \\bigg)\n",
      "\\end{eqnarray}\n",
      "\n",
      "Our boundary condition will be:\n",
      "\n",
      "\\begin{equation}u(0) = u(2\\pi)\\end{equation}\n",
      "\n",
      "This is called a *periodic* boundary condition. Pay attention! This will cause you a bit of headache if you don't tread carefully."
     ]
    },
    {
     "cell_type": "markdown",
     "metadata": {},
     "source": [
      "###Saving Time with SymPy\n",
      "\n",
      "\n",
      "The initial condition we're using for Burgers' Equation can be a bit of a pain to evaluate by hand.  The derivative $\\frac{\\partial \\phi}{\\partial x}$ isn't too terribly difficult, but it would be easy to drop a sign or forget a factor of $x$ somewhere, so we're going to use SymPy to help us out.  \n",
      "\n",
      "[SymPy](http://sympy.org/en/) is the symbolic math library for Python.  It has a lot of the same symbolic math functionality as Mathematica with the added benefit that we can easily translate its results back into our Python calculations (it is also free and open source). \n",
      "\n",
      "Start by loading the SymPy library, together with our favorite library, NumPy."
     ]
    },
    {
     "cell_type": "code",
     "collapsed": false,
     "input": [
      "import numpy\n",
      "import sympy\n",
      "%matplotlib inline"
     ],
     "language": "python",
     "metadata": {},
     "outputs": []
    },
    {
     "cell_type": "markdown",
     "metadata": {},
     "source": [
      "We're also going to tell SymPy that we want all of its output to be rendered using $\\LaTeX$. This will make our Notebook beautiful!"
     ]
    },
    {
     "cell_type": "code",
     "collapsed": false,
     "input": [
      "from sympy import init_printing\n",
      "init_printing()"
     ],
     "language": "python",
     "metadata": {},
     "outputs": []
    },
    {
     "cell_type": "markdown",
     "metadata": {},
     "source": [
      "Start by setting up symbolic variables for the three variables in our initial condition.  It's important to recognize that once we've defined these symbolic variables, they function differently than \"regular\" Python variables.  \n",
      "\n",
      "If we type `x` into a code block, we'll get an error:"
     ]
    },
    {
     "cell_type": "code",
     "collapsed": false,
     "input": [
      "x"
     ],
     "language": "python",
     "metadata": {},
     "outputs": []
    },
    {
     "cell_type": "markdown",
     "metadata": {},
     "source": [
      "`x` is not defined, so this shouldn't be a surprise.  Now, let's set up `x` as a *symbolic* variable:"
     ]
    },
    {
     "cell_type": "code",
     "collapsed": false,
     "input": [
      "x = sympy.symbols('x')"
     ],
     "language": "python",
     "metadata": {},
     "outputs": []
    },
    {
     "cell_type": "markdown",
     "metadata": {},
     "source": [
      "Now let's see what happens when we type `x` into a code cell:"
     ]
    },
    {
     "cell_type": "code",
     "collapsed": false,
     "input": [
      "x"
     ],
     "language": "python",
     "metadata": {},
     "outputs": []
    },
    {
     "cell_type": "markdown",
     "metadata": {},
     "source": [
      "The value of `x` is $x$.  Sympy is also referred to as a computer algebra system -- normally the value of `5*x` will return the product of `5` and whatever value `x` is pointing to.  But, if we define `x` as a symbol, then something else happens:"
     ]
    },
    {
     "cell_type": "code",
     "collapsed": false,
     "input": [
      "5*x"
     ],
     "language": "python",
     "metadata": {},
     "outputs": []
    },
    {
     "cell_type": "markdown",
     "metadata": {},
     "source": [
      "This will let us manipulate an equation with unknowns using Python!  Let's start by defining symbols for $x$, $\\nu$ and $t$ and then type out the full equation for $\\phi$.  We should get a nicely rendered version of our $\\phi$ equation."
     ]
    },
    {
     "cell_type": "code",
     "collapsed": false,
     "input": [
      "x, nu, t = sympy.symbols('x nu t')\n",
      "phi = sympy.exp(-(x-4*t)**2/(4*nu*(t+1))) + \\\n",
      "sympy.exp(-(x-4*t-2*numpy.pi)**2/(4*nu*(t+1)))\n",
      "phi"
     ],
     "language": "python",
     "metadata": {},
     "outputs": []
    },
    {
     "cell_type": "markdown",
     "metadata": {},
     "source": [
      "It's maybe a little small, but that looks right.  Now to evaluate our partial derivative $\\frac{\\partial \\phi}{\\partial x}$ is a trivial task.  To take a derivative with respect to $x$, we can just use:"
     ]
    },
    {
     "cell_type": "code",
     "collapsed": false,
     "input": [
      "phiprime = phi.diff(x)\n",
      "phiprime"
     ],
     "language": "python",
     "metadata": {},
     "outputs": []
    },
    {
     "cell_type": "markdown",
     "metadata": {},
     "source": [
      "If you want to see the unrendered version, just use the Python print command."
     ]
    },
    {
     "cell_type": "code",
     "collapsed": false,
     "input": [
      "print(phiprime)"
     ],
     "language": "python",
     "metadata": {},
     "outputs": []
    },
    {
     "cell_type": "markdown",
     "metadata": {},
     "source": [
      "###Now what?\n",
      "\n",
      "\n",
      "Now that we have the Pythonic version of our derivative, we can finish writing out the full initial condition equation and then translate it into a usable Python expression.  For this, we'll use the *lambdify* function, which takes a SymPy symbolic equation and turns it into a callable function.  "
     ]
    },
    {
     "cell_type": "code",
     "collapsed": false,
     "input": [
      "from sympy.utilities.lambdify import lambdify\n",
      "\n",
      "u = -2*nu*(phiprime/phi)+4\n",
      "print(u)"
     ],
     "language": "python",
     "metadata": {},
     "outputs": []
    },
    {
     "cell_type": "markdown",
     "metadata": {},
     "source": [
      "###Lambdify\n",
      "\n",
      "To lambdify this expression into a useable function, we tell lambdify which variables to request and the function we want to plug them in to."
     ]
    },
    {
     "cell_type": "code",
     "collapsed": false,
     "input": [
      "ufunc = lambdify((t, x, nu), u)\n",
      "print(\"The value of u at t=1, x=4, nu=3 is {}.\".format(ufunc(1,4,3)))"
     ],
     "language": "python",
     "metadata": {},
     "outputs": []
    },
    {
     "cell_type": "markdown",
     "metadata": {},
     "source": [
      "###Back to Burgers' Equation\n",
      "\n",
      "Now that we have the initial conditions set up, we can proceed and finish setting up the problem.  We can generate the plot of the initial condition using our lambdify-ed function."
     ]
    },
    {
     "cell_type": "code",
     "collapsed": false,
     "input": [
      "import matplotlib.pyplot as plt\n",
      "\n",
      "###variable declarations\n",
      "nx = 101\n",
      "nt = 100\n",
      "dx = 2*numpy.pi/(nx-1)\n",
      "nu = .07\n",
      "dt = dx*nu\n",
      "\n",
      "x = numpy.linspace(0, 2*numpy.pi, nx)\n",
      "un = numpy.empty(nx)\n",
      "t = 0"
     ],
     "language": "python",
     "metadata": {},
     "outputs": []
    },
    {
     "cell_type": "markdown",
     "metadata": {},
     "source": [
      "We have a function `ufunc` but we need to create an array `u` with our initial conditions.  `ufunc` will return the value for any given time $t$, position $x$ and $nu$.  We can use a `for`-loop to cycle through values of `x` to generate the `u` array.  That code would look something like this:\n",
      "\n",
      "```Python\n",
      "u = numpy.empty(nx)\n",
      "\n",
      "for i, x0 in enumerate(x):\n",
      "    u[i] = ufunc(t, x0, nu)\n",
      "```\n",
      "\n",
      "But there's a cleaner, more beautiful way to do this -- *list comprehension*.  \n",
      "\n",
      "We can create a list of all of the appropriate `u` values by typing\n",
      "\n",
      "```Python\n",
      "[ufunc(t, x0, nu) for x0 in x]\n",
      "```\n",
      "\n",
      "You can see that the syntax is similar to the `for`-loop, but it only takes one line.  Using a list comprehension will create... a list.  This is different from an *array*, but converting a list to an array is trivial using `numpy.asarray()`.  \n",
      "\n",
      "With our list comprehension in place, the three lines of code above become one:\n",
      "\n",
      "```Python\n",
      "u = numpy.asarray([ufunc(t, x0, nu) for x0 in x])\n",
      "```"
     ]
    },
    {
     "cell_type": "code",
     "collapsed": false,
     "input": [
      "u = numpy.asarray([ufunc(t, x0, nu) for x0 in x])\n",
      "u"
     ],
     "language": "python",
     "metadata": {},
     "outputs": []
    },
    {
     "cell_type": "markdown",
     "metadata": {},
     "source": [
      "Now that we have our initial condition set up, we can plot it to see what $\\phi(x,0)$ looks like:"
     ]
    },
    {
     "cell_type": "code",
     "collapsed": false,
     "input": [
      "plt.figure(figsize=(11,7), dpi=100)\n",
      "plt.plot(x,u, marker='o', lw=2)\n",
      "plt.xlim([0,2*numpy.pi])\n",
      "plt.ylim([0,10]);"
     ],
     "language": "python",
     "metadata": {},
     "outputs": []
    },
    {
     "cell_type": "markdown",
     "metadata": {},
     "source": [
      "This is definitely not the hat function we've been dealing with until now. We call it a \"saw-tooth function\".  Let's proceed forward and see what happens.  "
     ]
    },
    {
     "cell_type": "markdown",
     "metadata": {},
     "source": [
      "### Periodic Boundary Conditions\n",
      "\n",
      "We will implement Burgers' equation with *periodic* boundary conditions.  If you experiment with the linear and non-linear convection notebooks and make the simulation run longer (by increasing `nt`) you will notice that the wave will keep moving to the right until it no longer even shows up in the plot.  \n",
      "\n",
      "With periodic boundary conditions, when a point gets to the right-hand side of the frame, it *wraps around* back to the front of the frame.  \n",
      "\n",
      "Recall the discretization that we worked out at the beginning of this notebook:\n",
      "\n",
      "\\begin{equation}u_i^{n+1} = u_i^n - u_i^n \\frac{\\Delta t}{\\Delta x} (u_i^n - u_{i-1}^n) + \\nu \\frac{\\Delta t}{\\Delta x^2}(u_{i+1}^n - 2u_i^n + u_{i-1}^n)\\end{equation}\n",
      "\n",
      "What does $u_{i+1}^n$ *mean* when $i$ is already at the end of the frame?\n",
      "\n",
      "Think about this for a minute before proceeding.  \n",
      "\n"
     ]
    },
    {
     "cell_type": "code",
     "collapsed": false,
     "input": [
      "for n in range(nt):\n",
      "    un = u.copy()\n",
      "    for i in range(nx-1):\n",
      "        u[i] = un[i] - un[i] * dt/dx *(un[i] - un[i-1]) + nu*dt/dx**2*\\\n",
      "                (un[i+1]-2*un[i]+un[i-1])\n",
      "    u[-1] = un[-1] - un[-1] * dt/dx * (un[-1] - un[-2]) + nu*dt/dx**2*\\\n",
      "                (un[0]-2*un[-1]+un[-2])\n",
      "        \n",
      "u_analytical = numpy.asarray([ufunc(nt*dt, xi, nu) for xi in x])"
     ],
     "language": "python",
     "metadata": {},
     "outputs": []
    },
    {
     "cell_type": "code",
     "collapsed": false,
     "input": [
      "plt.figure(figsize=(11,7), dpi=100)\n",
      "plt.plot(x,u, marker='o', lw=2, label='Computational')\n",
      "plt.plot(x, u_analytical, label='Analytical')\n",
      "plt.xlim([0,2*numpy.pi])\n",
      "plt.ylim([0,10])\n",
      "plt.legend();"
     ],
     "language": "python",
     "metadata": {},
     "outputs": []
    },
    {
     "cell_type": "code",
     "collapsed": false,
     "input": [
      "from JSAnimation.IPython_display import display_animation\n",
      "from matplotlib import animation"
     ],
     "language": "python",
     "metadata": {},
     "outputs": []
    },
    {
     "cell_type": "code",
     "collapsed": false,
     "input": [
      "u = numpy.asarray([ufunc(t, x0, nu) for x0 in x])"
     ],
     "language": "python",
     "metadata": {},
     "outputs": []
    },
    {
     "cell_type": "code",
     "collapsed": false,
     "input": [
      "fig = plt.figure(figsize=(11,8))\n",
      "ax = plt.axes(xlim=(0,2*numpy.pi), ylim=(0,10))\n",
      "line = ax.plot([], [], 'k-o')[0]\n",
      "line2 = ax.plot([], [], lw=2)[0]\n",
      "ax.legend(['Computed','Analytical'])\n",
      "\n",
      "def diffusion(n):\n",
      "       \n",
      "    un = u.copy()\n",
      "    for i in range(nx-1):\n",
      "        u[i] = un[i] - un[i] * dt/dx *(un[i] - un[i-1]) + nu*dt/dx**2*\\\n",
      "                (un[i+1]-2*un[i]+un[i-1])\n",
      "        u[-1] = un[-1] - un[-1] * dt/dx * (un[-1] - un[-2]) + nu*dt/dx**2*\\\n",
      "                (un[0]-2*un[-1]+un[-2])\n",
      "        \n",
      "    u_analytical = numpy.asarray([ufunc(n*dt, xi, nu) for xi in x])\n",
      "    line.set_data(x,u)\n",
      "    line2.set_data(x, u_analytical)\n",
      "    \n",
      "\n",
      "animation.FuncAnimation(fig, diffusion,\n",
      "                        frames=nt, interval=100)"
     ],
     "language": "python",
     "metadata": {},
     "outputs": []
    },
    {
     "cell_type": "markdown",
     "metadata": {},
     "source": [
      "---\n",
      "\n",
      "######The cell below loads the style of the notebook."
     ]
    },
    {
     "cell_type": "code",
     "collapsed": false,
     "input": [
      "from IPython.core.display import HTML\n",
      "css_file = '../../styles/numericalmoocstyle.css'\n",
      "HTML(open(css_file, \"r\").read())"
     ],
     "language": "python",
     "metadata": {},
     "outputs": []
    }
   ],
   "metadata": {}
  }
 ]
}