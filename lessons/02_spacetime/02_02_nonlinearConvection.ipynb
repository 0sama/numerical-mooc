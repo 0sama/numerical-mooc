{
 "metadata": {
  "name": "",
  "signature": "sha256:a3d03b3d1f368409c149be8661ae5bc22245f0f5a17dd1d31206d927aa0a63a4"
 },
 "nbformat": 3,
 "nbformat_minor": 0,
 "worksheets": [
  {
   "cells": [
    {
     "cell_type": "heading",
     "level": 6,
     "metadata": {},
     "source": [
      "Content under Creative Commons Attribution license CC-BY 4.0, code under MIT license (c) L.A. Barba, G.F. Forsyth, C. Cooper, 2014. Based on [CFDPython](https://github.com/barbagroup/CFDPython), (c) L. A. Barba, also under CC-BY license."
     ]
    },
    {
     "cell_type": "heading",
     "level": 1,
     "metadata": {},
     "source": [
      "Non-linear Convection"
     ]
    },
    {
     "cell_type": "markdown",
     "metadata": {},
     "source": [
      "We're back! This is the second IPython Notebook of the series *Space and Time \u2014 Introduction to Finite-difference solutions of PDEs*, the second module of [\"Practical Numerical Methods with Python\"](http://openedx.seas.gwu.edu/courses/GW/MAE6286/2014_fall/about).\n",
      "\n",
      "In the previous notebook, *\"1-D Linear Convection\"*, we learned how to solve the linear convection equation using the finite-difference method. Now let's move on to the non-linear convection equation, using the same methods as before. The 1-D convection equation is:\n",
      "\n",
      "\\begin{equation}\\frac{\\partial u}{\\partial t} + u \\frac{\\partial u}{\\partial x} = 0\\end{equation}\n",
      "\n",
      "Instead of a constant factor $c$ multiplying the second term, now we have the solution $u$ multiplying it. Thus, the second term of the equation is now *non-linear*.  We're going to use the same discretization as in linear convection \u2014 forward difference in time and backward difference in space. Here is the discretized equation.\n",
      "\n",
      "\\begin{equation}\\frac{u_i^{n+1}-u_i^n}{\\Delta t} + u_i^n \\frac{u_i^n-u_{i-1}^n}{\\Delta x} = 0\\end{equation}\n",
      "\n",
      "Solving for the only unknown term, $u_i^{n+1}$, yields:\n",
      "\n",
      "\\begin{equation}u_i^{n+1} = u_i^n - u_i^n \\frac{\\Delta t}{\\Delta x} (u_i^n - u_{i-1}^n)\\end{equation}"
     ]
    },
    {
     "cell_type": "markdown",
     "metadata": {},
     "source": [
      "Start by loading the necessary libraries, then declare some variables that determine the discretization in space and time (you should experiment by changing these parameters to see what happens). \n",
      "\n",
      "We use the same initial condition as the previous lesson, (i.e., a hat function).\n",
      "\n",
      "$$u_0(x) = \\left\\lbrace \\begin{matrix}\n",
      "1 \\text{ for} & 0 < x < 0.5 \\\\\n",
      "2 \\text{ for} & \\leq x \\leq 1.0 \\\\\n",
      "1 \\text{ for} & 1 < x < 2.0\n",
      "\\end{matrix} \\right.$$"
     ]
    },
    {
     "cell_type": "code",
     "collapsed": true,
     "input": [
      "##library imports\n",
      "import numpy                       \n",
      "import matplotlib.pyplot as plt    \n",
      "%matplotlib inline\n",
      "\n",
      "##problem parameters\n",
      "nx = 41\n",
      "dx = 2./(nx-1)\n",
      "nt = 20    \n",
      "dt = .025  \n",
      "\n",
      "##initial conditions\n",
      "u = numpy.ones(nx)      \n",
      "u[.5/dx : 1/dx+1]=2  \n",
      "\n",
      "un = numpy.ones(nx)\n",
      "\n",
      "x = numpy.linspace(0,2,nx)"
     ],
     "language": "python",
     "metadata": {},
     "outputs": []
    },
    {
     "cell_type": "markdown",
     "metadata": {},
     "source": [
      "Just as in the linear convection notebook, we have two variables to iterate over.  Here we're also using nested `for` loops.  "
     ]
    },
    {
     "cell_type": "heading",
     "level": 5,
     "metadata": {},
     "source": [
      "Challenge"
     ]
    },
    {
     "cell_type": "markdown",
     "metadata": {},
     "source": [
      "Implement the same code with only one `for` loop.  You will need to use array operations."
     ]
    },
    {
     "cell_type": "code",
     "collapsed": false,
     "input": [
      "for n in range(nt):  \n",
      "    un = u.copy() \n",
      "    for i in range(1,nx): \n",
      "        u[i] = un[i]-un[i]*dt/dx*(un[i]-un[i-1]) \n",
      "\n",
      "        \n",
      "plt.plot(x,u);"
     ],
     "language": "python",
     "metadata": {},
     "outputs": []
    },
    {
     "cell_type": "markdown",
     "metadata": {},
     "source": [
      "What do you observe about the evolution of the hat function under the non-linear convection equation? What happens when you change the numerical parameters and run again?"
     ]
    },
    {
     "cell_type": "markdown",
     "metadata": {},
     "source": [
      "##Example JSAnimation\n",
      "\n",
      "Not sure if we can fit this in, as explaining how to set it up might be a little tricky..."
     ]
    },
    {
     "cell_type": "code",
     "collapsed": false,
     "input": [
      "from JSAnimation.IPython_display import display_animation\n",
      "from matplotlib import animation"
     ],
     "language": "python",
     "metadata": {},
     "outputs": []
    },
    {
     "cell_type": "markdown",
     "metadata": {},
     "source": [
      "Looking at before and after pictures of the wave in motion is helpful, but it's even better if we can see it change as it convects along!  For displaying animated results within the notebook, we can make use of the `JSAnimation` library.  (See here for instructions on installing it).\n",
      "\n",
      "First, we can \"reset\" our problem back to the starting point."
     ]
    },
    {
     "cell_type": "code",
     "collapsed": false,
     "input": [
      "##problem parameters\n",
      "nx = 41\n",
      "dx = 2./(nx-1)\n",
      "nt = 20    \n",
      "dt = .025\n",
      "\n",
      "##initial conditions\n",
      "u = numpy.ones(nx)      \n",
      "u[.5/dx : 1/dx+1]=2  \n",
      "\n",
      "un = numpy.ones(nx)"
     ],
     "language": "python",
     "metadata": {},
     "outputs": []
    },
    {
     "cell_type": "markdown",
     "metadata": {},
     "source": [
      "Now we have to create our animation.  This takes a few small steps, but it's actually pretty straightforward to do!  First, we need to create a `figure` and add an `axes`.  \n",
      "\n",
      "The `figure` defines the plot we want to animate.  The `axes` lets us create elements of the plot that we can alter interactively.  Then we create a \"blank\" line that we will update at each iteration.  \n",
      "\n",
      "```Python\n",
      "fig = plt.figure(figsize=(11,8))\n",
      "ax = plt.axes(xlim=(0,2), ylim=(1,3))\n",
      "line = ax.plot([], [], lw=2)[0]\n",
      "```\n",
      "\n",
      "**Note**: The `[0]` after the `ax.plot()` command is required, since `ax.plot` can (optionally) return several values.  Since we're only creating one line, we ask it for the \"zeroth\" (and only...) line.  \n",
      "\n",
      "Now that our `figure` is set up, we can define a function to convect our line along.  This will be exactly the same as our code above, except that we also want to \"update\" the data of our line at each iteration.  \n",
      "\n",
      "```Python\n",
      "def nonlinear_convection(i):\n",
      "    line.set_data(x,u)\n",
      "    \n",
      "    un = u.copy() \n",
      "    for i in range(1,nx): \n",
      "        u[i] = un[i]-un[i]*\\\n",
      "            dt/dx*(un[i]-un[i-1]) \n",
      "```\n",
      "\n",
      "Finally, we can initialize our animation using `animation.FuncAnimation()`.  We're going to pass the following arguments:\n",
      "\n",
      "*  `fig`: the name of our figure\n",
      "*  `nonlinear_convection`: the name of our solver function\n",
      "*  `frames`: the number of frames to draw (which we set equal to `nt`)\n",
      "*  `interval`: the number of milliseconds each frame appears for\n",
      "\n",
      "Let's put it all together!"
     ]
    },
    {
     "cell_type": "code",
     "collapsed": false,
     "input": [
      "fig = plt.figure(figsize=(11,8))\n",
      "ax = plt.axes(xlim=(0,2), ylim=(1,3))\n",
      "line = ax.plot([], [], lw=2)[0]\n",
      "\n",
      "def nonlinear_convection(i):\n",
      "    line.set_data(x,u)\n",
      "    \n",
      "    un = u.copy() \n",
      "    for i in range(1,nx): \n",
      "        u[i] = un[i]-un[i]*\\\n",
      "            dt/dx*(un[i]-un[i-1]) \n",
      "    \n",
      "\n",
      "animation.FuncAnimation(fig, nonlinear_convection,\n",
      "                        frames=nt, interval=100)"
     ],
     "language": "python",
     "metadata": {},
     "outputs": []
    },
    {
     "cell_type": "code",
     "collapsed": false,
     "input": [
      "from IPython.core.display import HTML\n",
      "css_file = '../../styles/numericalmoocstyle.css'\n",
      "HTML(open(css_file, \"r\").read())"
     ],
     "language": "python",
     "metadata": {},
     "outputs": []
    }
   ],
   "metadata": {}
  }
 ]
}