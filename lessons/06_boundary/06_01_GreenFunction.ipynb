{
 "metadata": {
  "name": "",
  "signature": "sha256:0e06c257bd6c5f1a77fc5210eeb61561d49996308a7835b3344b7f6339703fa4"
 },
 "nbformat": 3,
 "nbformat_minor": 0,
 "worksheets": [
  {
   "cells": [
    {
     "cell_type": "heading",
     "level": 1,
     "metadata": {},
     "source": [
      "Boundaries take over: the boundary element method (BEM)"
     ]
    },
    {
     "cell_type": "heading",
     "level": 2,
     "metadata": {},
     "source": [
      "Boundary integral formulation"
     ]
    }
   ],
   "metadata": {}
  }
 ]
}