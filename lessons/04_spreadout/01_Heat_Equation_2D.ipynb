{
 "metadata": {
  "name": "",
  "signature": "sha256:f1bfe64306dce5c247e3814067c00a976f0a5e4210d1706dcc18acd07e685056"
 },
 "nbformat": 3,
 "nbformat_minor": 0,
 "worksheets": [
  {
   "cells": [
    {
     "cell_type": "markdown",
     "metadata": {},
     "source": [
      "Heat equation in 2D:\n",
      "\n",
      "\\begin{equation}\n",
      "\\rho c_p \\frac{\\partial T}{\\partial t} = \\frac{\\partial}{\\partial x} \\left( \\kappa_x \\frac{\\partial T}{\\partial x} \\right) + \\frac{\\partial}{\\partial y} \\left(\\kappa_y \\frac{\\partial T}{\\partial y} \\right)\n",
      "\\end{equation}"
     ]
    },
    {
     "cell_type": "markdown",
     "metadata": {},
     "source": [
      "Assume thermal conductivity, $k$, is constant throughout, then equation simplifies to\n",
      "\n",
      "\\begin{equation}\n",
      "\\frac{\\partial T}{\\partial t} = \\alpha \\left(\\frac{\\partial^2 T}{\\partial x^2} + \\frac{\\partial^2 T}{\\partial y^2} \\right)\n",
      "\\end{equation}\n",
      "\n",
      "where $\\alpha = \\frac{k}{\\rho C_p}$ is called the thermal diffusivity.  Ability to conduct heat vs store it."
     ]
    },
    {
     "cell_type": "markdown",
     "metadata": {},
     "source": [
      "Wow it looks just like the diffusion equation (because it is).  Also explains why we call $\\alpha$ thermal diffusivity."
     ]
    },
    {
     "cell_type": "heading",
     "level": 2,
     "metadata": {},
     "source": [
      "Discretize it"
     ]
    },
    {
     "cell_type": "markdown",
     "metadata": {},
     "source": [
      "Forward time, central space (2nd order)\n",
      "\n",
      "$$\\frac{T^{n+1}_{i,j} - T^n_{i,j}}{\\Delta t} = \\alpha \\left( \\frac{T^n_{i+1, j} - 2T^n_{i,j} + T^n_{i-1,j}}{\\Delta x^2} + \\frac{T^n_{i, j+1} - 2T^n_{i,j} + T^n_{i,j-1}}{\\Delta y^2}\\right)$$"
     ]
    },
    {
     "cell_type": "markdown",
     "metadata": {},
     "source": [
      "Rearrange to solve for $T^{n+1}_{i,j}$\n",
      "\n",
      "$$T^{n+1}_{i,j}= T^n_{i,j} + \\alpha \\left( \\frac{\\Delta t}{\\Delta x^2} (T^n_{i+1, j} - 2T^n_{i,j} + T^n_{i-1,j}) + \\frac{\\Delta t}{\\Delta y^2} (T^n_{i, j+1} - 2T^n_{i,j} + T^n_{i,j-1})\\right)$$"
     ]
    },
    {
     "cell_type": "code",
     "collapsed": false,
     "input": [
      "import numpy"
     ],
     "language": "python",
     "metadata": {},
     "outputs": [],
     "prompt_number": 14
    },
    {
     "cell_type": "code",
     "collapsed": false,
     "input": [
      "alpha = 1e-2"
     ],
     "language": "python",
     "metadata": {},
     "outputs": [],
     "prompt_number": 15
    },
    {
     "cell_type": "code",
     "collapsed": false,
     "input": [
      "L = 3.\n",
      "H = 3.\n",
      "\n",
      "nx = 51\n",
      "ny = 51\n",
      "nt = 1000\n",
      "\n",
      "dx = L/(nx-1)\n",
      "dy = H/(ny-1)\n",
      "\n",
      "x = numpy.linspace(0,L,nx)\n",
      "y = numpy.linspace(0,H,ny)\n",
      "\n",
      "dt = .25 * min(dx, dy)**2 / alpha"
     ],
     "language": "python",
     "metadata": {},
     "outputs": [],
     "prompt_number": 87
    },
    {
     "cell_type": "code",
     "collapsed": false,
     "input": [
      "T = numpy.zeros((ny, nx))\n",
      "T[0,:]= 100\n",
      "T[:,0] = 100\n",
      "\n",
      "for n in range(nt):\n",
      "    Tn = T.copy()\n",
      "    T[1:-1,1:-1] = Tn[1:-1,1:-1] + alpha *\\\n",
      "        (dt/dy**2 * (Tn[2:,1:-1] - 2*Tn[1:-1,1:-1] + Tn[:-2,1:-1]) +\\\n",
      "         dt/dx**2 * (Tn[1:-1,2:] - 2*Tn[1:-1,1:-1] + Tn[1:-1,:-2]))\n",
      "    \n",
      "    \n",
      "    #T[5:15,5:15] = 0\n",
      "    T[0,:] = 100\n",
      "    T[-1,:] = T[-2,:]\n",
      "    T[:,0] = 100\n",
      "    T[:,-1] = T[:,-2]"
     ],
     "language": "python",
     "metadata": {},
     "outputs": [],
     "prompt_number": 72
    },
    {
     "cell_type": "code",
     "collapsed": false,
     "input": [
      "my, mx = numpy.meshgrid(y,x)"
     ],
     "language": "python",
     "metadata": {},
     "outputs": [],
     "prompt_number": 74
    },
    {
     "cell_type": "code",
     "collapsed": false,
     "input": [
      "import matplotlib.pyplot as plt\n",
      "%matplotlib inline"
     ],
     "language": "python",
     "metadata": {},
     "outputs": [],
     "prompt_number": 75
    },
    {
     "cell_type": "code",
     "collapsed": false,
     "input": [
      "plt.figure(figsize=(11,8))\n",
      "plt.contourf(my,mx,T,20);"
     ],
     "language": "python",
     "metadata": {},
     "outputs": [
      {
       "metadata": {},
       "output_type": "display_data",
       "png": "[encoded data removed]",
       "text": [
        "<matplotlib.figure.Figure at 0x7fe16fe11850>"
       ]
      }
     ],
     "prompt_number": 76
    },
    {
     "cell_type": "code",
     "collapsed": false,
     "input": [
      "T = numpy.zeros((ny, nx))\n",
      "T[0,:]= 100\n",
      "T[:,0] = 100\n",
      "\n",
      "T"
     ],
     "language": "python",
     "metadata": {},
     "outputs": [
      {
       "metadata": {},
       "output_type": "pyout",
       "prompt_number": 88,
       "text": [
        "array([[ 100.,  100.,  100., ...,  100.,  100.,  100.],\n",
        "       [ 100.,    0.,    0., ...,    0.,    0.,    0.],\n",
        "       [ 100.,    0.,    0., ...,    0.,    0.,    0.],\n",
        "       ..., \n",
        "       [ 100.,    0.,    0., ...,    0.,    0.,    0.],\n",
        "       [ 100.,    0.,    0., ...,    0.,    0.,    0.],\n",
        "       [ 100.,    0.,    0., ...,    0.,    0.,    0.]])"
       ]
      }
     ],
     "prompt_number": 88
    },
    {
     "cell_type": "code",
     "collapsed": false,
     "input": [
      "T.flatten().shape"
     ],
     "language": "python",
     "metadata": {},
     "outputs": [
      {
       "metadata": {},
       "output_type": "pyout",
       "prompt_number": 89,
       "text": [
        "(2601,)"
       ]
      }
     ],
     "prompt_number": 89
    },
    {
     "cell_type": "code",
     "collapsed": false,
     "input": [
      "T[1,1]=50"
     ],
     "language": "python",
     "metadata": {},
     "outputs": [],
     "prompt_number": 90
    },
    {
     "cell_type": "code",
     "collapsed": false,
     "input": [
      "Tflat = T.flatten()"
     ],
     "language": "python",
     "metadata": {},
     "outputs": [],
     "prompt_number": 91
    },
    {
     "cell_type": "code",
     "collapsed": false,
     "input": [
      "Tflat"
     ],
     "language": "python",
     "metadata": {},
     "outputs": [
      {
       "metadata": {},
       "output_type": "pyout",
       "prompt_number": 92,
       "text": [
        "array([ 100.,  100.,  100., ...,    0.,    0.,    0.])"
       ]
      }
     ],
     "prompt_number": 92
    },
    {
     "cell_type": "code",
     "collapsed": false,
     "input": [
      "Tflat[51:101]"
     ],
     "language": "python",
     "metadata": {},
     "outputs": [
      {
       "metadata": {},
       "output_type": "pyout",
       "prompt_number": 93,
       "text": [
        "array([ 100.,   50.,    0.,    0.,    0.,    0.,    0.,    0.,    0.,\n",
        "          0.,    0.,    0.,    0.,    0.,    0.,    0.,    0.,    0.,\n",
        "          0.,    0.,    0.,    0.,    0.,    0.,    0.,    0.,    0.,\n",
        "          0.,    0.,    0.,    0.,    0.,    0.,    0.,    0.,    0.,\n",
        "          0.,    0.,    0.,    0.,    0.,    0.,    0.,    0.,    0.,\n",
        "          0.,    0.,    0.,    0.,    0.])"
       ]
      }
     ],
     "prompt_number": 93
    },
    {
     "cell_type": "code",
     "collapsed": false,
     "input": [],
     "language": "python",
     "metadata": {},
     "outputs": []
    }
   ],
   "metadata": {}
  }
 ]
}