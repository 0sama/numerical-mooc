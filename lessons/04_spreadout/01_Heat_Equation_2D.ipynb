{
 "metadata": {
  "name": "",
  "signature": "sha256:e4a44cc5bf1f2f7b94ffe8931373c95ee534b882eba0fe70d5df37260c303d2f"
 },
 "nbformat": 3,
 "nbformat_minor": 0,
 "worksheets": [
  {
   "cells": [
    {
     "cell_type": "heading",
     "level": 6,
     "metadata": {},
     "source": [
      "Content under Creative Commons Attribution license CC-BY 4.0, code under MIT license (c)2014 L.A. Barba, G.F. Forsyth, C.D. Cooper."
     ]
    },
    {
     "cell_type": "heading",
     "level": 1,
     "metadata": {},
     "source": [
      "Spreading out"
     ]
    },
    {
     "cell_type": "heading",
     "level": 2,
     "metadata": {},
     "source": [
      "2D Heat Conduction"
     ]
    },
    {
     "cell_type": "markdown",
     "metadata": {},
     "source": [
      "The heat conduction equation in 2D is given as:\n",
      "\n",
      "\\begin{equation}\n",
      "\\rho c_p \\frac{\\partial T}{\\partial t} = \\frac{\\partial}{\\partial x} \\left( \\kappa_x \\frac{\\partial T}{\\partial x} \\right) + \\frac{\\partial}{\\partial y} \\left(\\kappa_y \\frac{\\partial T}{\\partial y} \\right)\n",
      "\\end{equation}"
     ]
    },
    {
     "cell_type": "markdown",
     "metadata": {},
     "source": [
      "where $\\rho$ is the density, $c_p$ is the heat capacity and $\\kappa$ is the thermal conductivity."
     ]
    },
    {
     "cell_type": "markdown",
     "metadata": {},
     "source": [
      "If we assume that the thermal conductivity, $\\kappa$, is constant then we can take it outside of the partial derivative term and the conduction equation simplifies to\n",
      "\n",
      "\\begin{equation}\n",
      "\\frac{\\partial T}{\\partial t} = \\alpha \\left(\\frac{\\partial^2 T}{\\partial x^2} + \\frac{\\partial^2 T}{\\partial y^2} \\right)\n",
      "\\end{equation}\n",
      "\n",
      "where $\\alpha = \\frac{\\kappa}{\\rho C_p}$ is the thermal diffusivity.  The thermal diffusivity describes the ability of a material to conduct heat vs store it."
     ]
    },
    {
     "cell_type": "markdown",
     "metadata": {},
     "source": [
      "Does that equation have any familiar looking terms in it?  That's because it's the same as the diffusion equation.  There's a reason that $\\alpha$ is called the thermal *diffusivity*.  "
     ]
    },
    {
     "cell_type": "heading",
     "level": 2,
     "metadata": {},
     "source": [
      "Problem statement"
     ]
    },
    {
     "cell_type": "markdown",
     "metadata": {},
     "source": [
      "Removing heat out of micro-chips is a big problem in the computer industry. We are at the point that computers can't run much faster because the chips might start failing due to temperature! Let's study this problem more closely.\n",
      "\n",
      "We want to understand how heat is dissipated from the chip with a very simplified model. Say we consider the chip as a 2D plate $(1cm\\times 1cm)$ made of silicon $(\\kappa = 159W/m ^\\circ C, C_p = 0.712\\cdot 10^3 J/kg^\\circ C, \\rho = 2329kg/m^3)$, with diffusivity $\\alpha \\approx 10^{-4}$. Silicon melts at $1414^\\circ C$, but it is recommended that chips do not operate at more than $\\sim70^\\circ C$ (need to find better source for this number)\n",
      "\n",
      "Say the chip is in a position where on two edges (top and right) it is in contact with insulating material, and on the other two, with other components that have a constant temperature of $T=100^\\circ C$ when the machine is working. Initially, the chip is at room temperature $(20^\\circ C)$. *How long does it take for the center of the chip to reach $70^\\circ C?$*\n",
      "\n",
      "Let's use what we have learned to tackle this problem!"
     ]
    },
    {
     "cell_type": "heading",
     "level": 2,
     "metadata": {},
     "source": [
      "2D Finite-differences"
     ]
    },
    {
     "cell_type": "markdown",
     "metadata": {},
     "source": [
      "Everything you learned about Finite-differences in [Module 2, Notebook 1](http://nbviewer.ipython.org/github/numerical-mooc/numerical-mooc/blob/master/lessons/02_spacetime/02_01_1DConvection.ipynb) still applies, but now there are two spatial dimensions.  \n",
      "\n",
      "Spatial nodes in the $x$ direction are discretized into $i$ points, while spatial nodes in the $y$ direction are discretized into $j$ points.  \n",
      "\n",
      "A given node will now have two spatial coordinates.  The middle point in the figure below we can call $T_{i,j}$."
     ]
    },
    {
     "cell_type": "markdown",
     "metadata": {},
     "source": [
      "<img src=\"./figures/2dgrid.svg\">"
     ]
    },
    {
     "cell_type": "markdown",
     "metadata": {},
     "source": [
      "<img src=\"./figures/2dgrid_indices.svg\">"
     ]
    },
    {
     "cell_type": "heading",
     "level": 3,
     "metadata": {},
     "source": [
      "Explicit scheme in 2D"
     ]
    },
    {
     "cell_type": "markdown",
     "metadata": {},
     "source": [
      "Our first attempt will be with an explicit scheme. The 2D heat conduction equation, discretized forward in time, central in space is \n",
      "\n",
      "\\begin{equation}\n",
      "\\frac{T^{n+1}_{i,j} - T^n_{i,j}}{\\Delta t} = \\alpha \\left( \\frac{T^n_{i+1, j} - 2T^n_{i,j} + T^n_{i-1,j}}{\\Delta x^2} + \\frac{T^n_{i, j+1} - 2T^n_{i,j} + T^n_{i,j-1}}{\\Delta y^2}\\right)\n",
      "\\end{equation}"
     ]
    },
    {
     "cell_type": "markdown",
     "metadata": {},
     "source": [
      "But we are interested in solving for $T^{n+1}_{i,j}$\n",
      "\n",
      "\\begin{equation}\n",
      "T^{n+1}_{i,j}= T^n_{i,j} + \\alpha \\left( \\frac{\\Delta t}{\\Delta x^2} (T^n_{i+1, j} - 2T^n_{i,j} + T^n_{i-1,j}) + \\frac{\\Delta t}{\\Delta y^2} (T^n_{i, j+1} - 2T^n_{i,j} + T^n_{i,j-1})\\right)\n",
      "\\end{equation}\n",
      "\n",
      "In this case, the stencil looks like"
     ]
    },
    {
     "cell_type": "markdown",
     "metadata": {},
     "source": [
      "<img src=\"./figures/2d_stencil.svg\">"
     ]
    },
    {
     "cell_type": "markdown",
     "metadata": {},
     "source": [
      "Like we did in the previous notebook, whenever we reach a point that needs to read a point from the boundary, we use (EXPLAIN BCs FOR EXPLICIT HERE)\n",
      "\n",
      "Add paragraph explaining $T_{i,j}$ stored in `T[j,i]`"
     ]
    },
    {
     "cell_type": "markdown",
     "metadata": {},
     "source": [
      "This little function will do the trick for us"
     ]
    },
    {
     "cell_type": "code",
     "collapsed": false,
     "input": [
      "import numpy"
     ],
     "language": "python",
     "metadata": {},
     "outputs": []
    },
    {
     "cell_type": "code",
     "collapsed": false,
     "input": [
      "def ftcs(T, nt, alpha, dt, dx, dy):\n",
      "\n",
      "    for n in range(nt):\n",
      "        Tn = T.copy()\n",
      "        T[1:-1,1:-1] = Tn[1:-1,1:-1] + alpha *\\\n",
      "            (dt/dy**2 * (Tn[2:,1:-1] - 2*Tn[1:-1,1:-1] + Tn[:-2,1:-1]) +\\\n",
      "             dt/dx**2 * (Tn[1:-1,2:] - 2*Tn[1:-1,1:-1] + Tn[1:-1,:-2]))\n",
      "  \n",
      "    \n",
      "        T[-1,:] = T[-2,:]\n",
      "        T[:,-1] = T[:,-2]\n",
      "        \n",
      "    return T"
     ],
     "language": "python",
     "metadata": {},
     "outputs": []
    },
    {
     "cell_type": "code",
     "collapsed": false,
     "input": [
      "alpha = 1e-4"
     ],
     "language": "python",
     "metadata": {},
     "outputs": []
    },
    {
     "cell_type": "code",
     "collapsed": false,
     "input": [
      "L = 1.0e-2\n",
      "H = 1.0e-2\n",
      "\n",
      "nx = 21\n",
      "ny = 21\n",
      "nt = 100\n",
      "\n",
      "dx = L/(nx-1)\n",
      "dy = H/(ny-1)\n",
      "\n",
      "x = numpy.linspace(0,L,nx)\n",
      "y = numpy.linspace(0,H,ny)\n",
      "\n",
      "\n",
      "Ti = numpy.ones((ny, nx))*20\n",
      "Ti[0,:]= 100\n",
      "Ti[:,0] = 100"
     ],
     "language": "python",
     "metadata": {},
     "outputs": []
    },
    {
     "cell_type": "code",
     "collapsed": false,
     "input": [
      "sigma = 0.25\n",
      "dt = sigma * min(dx, dy)**2 / alpha\n",
      "T=Ti.copy()\n",
      "T = ftcs(T, nt, alpha, dt, dx, dy)"
     ],
     "language": "python",
     "metadata": {},
     "outputs": []
    },
    {
     "cell_type": "code",
     "collapsed": false,
     "input": [
      "my, mx = numpy.meshgrid(y,x)"
     ],
     "language": "python",
     "metadata": {},
     "outputs": []
    },
    {
     "cell_type": "code",
     "collapsed": false,
     "input": [
      "import matplotlib.pyplot as plt\n",
      "%matplotlib inline"
     ],
     "language": "python",
     "metadata": {},
     "outputs": []
    },
    {
     "cell_type": "code",
     "collapsed": false,
     "input": [
      "plt.figure(figsize=(11,8))\n",
      "plt.contourf(my,mx,T,20);"
     ],
     "language": "python",
     "metadata": {},
     "outputs": []
    },
    {
     "cell_type": "code",
     "collapsed": false,
     "input": [
      "T = numpy.zeros((ny, nx))\n",
      "T[0,:]= 100\n",
      "T[:,0] = 100\n",
      "\n",
      "T"
     ],
     "language": "python",
     "metadata": {},
     "outputs": []
    },
    {
     "cell_type": "code",
     "collapsed": false,
     "input": [
      "T.flatten().shape"
     ],
     "language": "python",
     "metadata": {},
     "outputs": []
    },
    {
     "cell_type": "code",
     "collapsed": false,
     "input": [
      "T[1,1]=50"
     ],
     "language": "python",
     "metadata": {},
     "outputs": []
    },
    {
     "cell_type": "code",
     "collapsed": false,
     "input": [
      "Tflat = T.flatten()"
     ],
     "language": "python",
     "metadata": {},
     "outputs": []
    },
    {
     "cell_type": "code",
     "collapsed": false,
     "input": [
      "Tflat"
     ],
     "language": "python",
     "metadata": {},
     "outputs": []
    },
    {
     "cell_type": "code",
     "collapsed": false,
     "input": [
      "Tflat[51:101]"
     ],
     "language": "python",
     "metadata": {},
     "outputs": []
    },
    {
     "cell_type": "heading",
     "level": 3,
     "metadata": {},
     "source": [
      "Implicit schemes in 2-D"
     ]
    },
    {
     "cell_type": "markdown",
     "metadata": {},
     "source": [
      "The 2D heat equation discretized backward in time, central in space is\n",
      "\n",
      "\\begin{equation}\n",
      "\\frac{T^{n+1}_{i,j} - T^n_{i,j}}{\\Delta t} = \\alpha \\left( \\frac{T^{n+1}_{i+1, j} - 2T^{n+1}_{i,j} + T^{n+1}_{i-1,j}}{\\Delta x^2} + \\frac{T^{n+1}_{i, j+1} - 2T^{n+1}_{i,j} + T^{n+1}_{i,j-1}}{\\Delta y^2}\\right)\n",
      "\\end{equation}\n",
      "\n",
      "Putting *unknown* values on the left and *known* values on the right, we get\n",
      "\n",
      "\\begin{equation}\n",
      "-\\frac{\\alpha\\Delta t}{\\Delta x^2} \\left(T^{n+1}_{i-1,j}+T^{n+1}_{i+1,j}\\right) + \\left(1 + 2\\frac{\\alpha\\Delta t}{\\Delta x^2} + 2\\frac{\\alpha\\Delta t}{\\Delta y^2}\\right) T^{n+1}_{i,j} -\\frac{\\alpha\\Delta t}{\\Delta y^2} \\left(T^{n+1}_{i,j-1}+T^{n+1}_{i,j+1}\\right) = T^n_{i,j}\n",
      "\\end{equation}\n",
      "\n",
      "To make this discussion easier, let's assume that the mesh spacing is the same in both directions $\\Delta x=\\Delta y = \\delta$:\n",
      "\n",
      "\\begin{equation}\n",
      "-T^{n+1}_{i-1,j} - T^{n+1}_{i+1,j} + \\left(\\frac{\\delta}{\\alpha \\Delta t} + 4 \\right) T^{n+1}_{i,j} - T^{n+1}_{i,j-1}-T^{n+1}_{i,j+1} = \\frac{\\delta}{\\alpha \\Delta t}T^n_{i,j}\n",
      "\\end{equation}\n",
      "\n",
      "Just like in the one-dimensional case, $T_{i,j}$ appears in the equation for $T_{i-1,j}$, $T_{i+1,j}$, $T_{i,j+1}$ and $T_{i,j-1}$, and we can form a linear system to advance in time! But, how do we construct the matrix this time? Where are the $(i+1,j)$, $(i-1,j)$, $(i,j+1)$, and $(i,j-1)$ positions in the matrix?\n",
      "\n",
      "With explicit schemes we don't need to worry about these things. We can lay the data just like in the physical problem: array `T` is a 2-dimensional matrix. To fetch the temperature in the next node in the $x$ direction $(T_{i+1,j})$ we just do `T[j,i+1]`, and likewise in the $y$ direction $(T_{i,j+1})$ is in `T[j+1,i]`. In implicit schemes, we need to think a bit harder about how the data is mapped to the physical problem.\n",
      "\n",
      "Also, remember in the previous notebook, the linear system had $N-2$ elements? We applied boundary conditions on nodes $i=0$ and $i=N-1$, and they were not modified by the linear system. In 2D, this becomes a bit more complicated.  \n",
      "\n",
      "\n",
      "Let's use this figure to guide the discussion:"
     ]
    },
    {
     "cell_type": "markdown",
     "metadata": {},
     "source": [
      "<img src=\"./figures/2D_discretization.png\">"
     ]
    },
    {
     "cell_type": "markdown",
     "metadata": {},
     "source": [
      "Say we have the 2D domain of size $L_x\\times L_y$ discretized in $n_x$ and $n_y$ points. We can divide nodes in boundary (empty circles) and interior (filled circles) nodes.\n",
      "\n",
      "The boundary nodes, as the name says, are on the boundary. They are the nodes with indices $(i=0,j)$, $(i=n_x-1,j)$, $(i,j=0)$, and $(i,j=n_y-1)$, and boundary conditions are enforced there.\n",
      "\n",
      "The interior nodes are not on the boundary, and the finite-difference equation applies on them. Then, in 2D, the matrix in the linear system will have $(n_x-2)\\cdot(n_y-2)$ elements.\n",
      "\n",
      "To construct the matrix, we will run over the nodes in a x-major order: index $i$ will run faster. The order will be $(i=1,j=1)$, $(i=2,j=1)$, ..., $(i=nx-2,j=1)$, $(i=1,j=2)$, $(i=2,j=2)$, ..., $(i=n_x-2,j=n_y-2)$. That is the ordering represented by the arrow with dotted line. Of course, if you prefer to organize the nodes differently, feel free to do so!\n",
      "\n",
      "Because we chose this ordering, the equation for nodes $(i-1,j)$ and $(i+1,j)$ will be just before and after $(i,j)$, respectively. But what about $(i,j-1)$ and $(i,j+1)$? Even though in the physical problem they are very close, the equations are $n_x-2$ places appart! "
     ]
    },
    {
     "cell_type": "heading",
     "level": 3,
     "metadata": {},
     "source": [
      "Boundary conditions"
     ]
    },
    {
     "cell_type": "markdown",
     "metadata": {},
     "source": [
      "Before we attempt to construct the matrix, we need to think about boundary conditions. There is some bookkeeping to be done here, so bear with us for a moment.\n",
      "\n",
      "Say, for example, that the left and bottom boundaries have Dirichlet boundary conditions, and the top and right boundaries have Neumann boundary conditions. Let's look at each case:\n",
      "\n",
      "**Bottom boundary:**\n",
      "    \n",
      "The equation for $j=1$ uses values from $j=0$, which are known. Let's put that on the right-hand side of the equation:\n",
      "\n",
      "\\begin{equation}\n",
      "-T^{n+1}_{i-1,1} - T^{n+1}_{i+1,1} + \\left(\\frac{\\delta}{\\alpha \\Delta t} + 4 \\right) T^{n+1}_{i,1}-T^{n+1}_{i,j+1} = \\frac{\\delta}{\\alpha \\Delta t}T^n_{i,j} + T^{n+1}_{i,0}\n",
      "\\end{equation}\n",
      "\n",
      "**Left boundary:**\n",
      "\n",
      "Like for the bottom boundary, the equation for $i=1$ uses known values from $i=0$, and we will put that on the right-hand side:\n",
      "\n",
      "\\begin{equation}\n",
      "- T^{n+1}_{2,j} + \\left(\\frac{\\delta}{\\alpha \\Delta t} + 4 \\right) T^{n+1}_{1,j} - T^{n+1}_{1,j-1}-T^{n+1}_{1,j+1} = \\frac{\\delta}{\\alpha \\Delta t}T^n_{1,j} + T^{n+1}_{0,j}\n",
      "\\end{equation}\n",
      "\n",
      "**Right boundary:**\n",
      "\n",
      "Say the boundary condition is $\\left. \\frac{\\partial T}{\\partial x} \\right|_{x=L_x} = q_x$. Its finite difference approximation  is\n",
      "\n",
      "\\begin{equation}\n",
      "\\frac{T^{n+1}_{n_x-1,j} - T^{n+1}_{n_x-2,j}}{\\delta} = q_x\n",
      "\\end{equation}\n",
      "\n",
      "Then, we can write $T^{n+1}_{n_x-1,j} = \\delta q_x + T^{n+1}_{n_x-2,j}$ to get the finite difference equation for $i=n_x-2$:\n",
      "\n",
      "\\begin{equation}\n",
      "-T^{n+1}_{n_x-3,j} + \\left(\\frac{\\delta}{\\alpha \\Delta t} + 3 \\right) T^{n+1}_{n_x-2,j} - T^{n+1}_{n_x-2,j-1}-T^{n+1}_{n_x-2,j+1} = \\frac{\\delta}{\\alpha \\Delta t}T^n_{n_x-2,j} + \\delta q_x\n",
      "\\end{equation}\n",
      "\n",
      "Not sure about this? Grab pen and paper! Please, check this yourself. It will help you understand!\n",
      "\n",
      "**Top boundary:**\n",
      "\n",
      "Neumann boundary conditions specify the derivative normal to the boundary: $\\left. \\frac{\\partial T}{\\partial y} \\right|_{y=L_y} = q_y$. No need to repeat what we did for the right boundary, right? The equation for $j=n_y-2$ is\n",
      "\n",
      "\\begin{equation}\n",
      "-T^{n+1}_{i-1,n_y-2} - T^{n+1}_{i+1,n_y-2} + \\left(\\frac{\\delta}{\\alpha \\Delta t} + 3 \\right) T^{n+1}_{i,n_y-2} - T^{n+1}_{i,n_y-3} = \\frac{\\delta}{\\alpha \\Delta t}T^n_{i,n_y-2} + \\delta q_y\n",
      "\\end{equation}\n",
      "\n",
      "So far, we have then 5 possible cases: bottom, left, right, top, and interior points. Does this cover all? What about corners?\n",
      "\n",
      "**Bottom-left corner**\n",
      "\n",
      "At $T_{1,1}$ there is a Dirichlet boundary condition at $i=0$ and $j=0$. This equation is:\n",
      "\n",
      "\\begin{equation}\n",
      "- T^{n+1}_{2,1} + \\left(\\frac{\\delta}{\\alpha \\Delta t} + 4 \\right) T^{n+1}_{1,1} - T^{n+1}_{1,2} = \\frac{\\delta}{\\alpha \\Delta t}T^n_{1,1} + T^{n+1}_{0,1} + T^{n+1}_{1,0}\n",
      "\\end{equation}\n",
      "\n",
      "**Top-left corner:**\n",
      "\n",
      "At $T_{1,n_y-2}$ there is a Dirichlet boundary condition at $i=0$ and a Neumann boundary condition at $i=n_y-1$. This equation is:\n",
      "\n",
      "\\begin{equation}\n",
      "- T^{n+1}_{2,n_y-2} + \\left(\\frac{\\delta}{\\alpha \\Delta t} + 3 \\right) T^{n+1}_{1,n_y-2} - T^{n+1}_{1,n_y-3} = \\frac{\\delta}{\\alpha \\Delta t}T^n_{1,n_y-2} + T^{n+1}_{0,n_y-2} + \\delta q_y\n",
      "\\end{equation}\n",
      "\n",
      "**Top-right corner**\n",
      "\n",
      "At $T_{n_x-2,n_y-2}$, there are Neumann boundary conditions at both $i=n_x-1$ and $j=n_y-1$. The finite difference equation is then\n",
      "\n",
      "\\begin{equation}\n",
      "-T^{n+1}_{n_x-3,n_y-2} + \\left(\\frac{\\delta}{\\alpha \\Delta t} + 2 \\right) T^{n+1}_{n_x-2,n_y-2} - T^{n+1}_{n_x-2,n_y-3} = \\frac{\\delta}{\\alpha \\Delta t}T^n_{n_x-2,n_y-2} + \\delta(q_x + q_y)\n",
      "\\end{equation}\n",
      "\n",
      "**Bottom-right corner**\n",
      "\n",
      "To calculate $T_{n_x-2,1}$ we need to consider a Dirichlet boundary condition to the bottom and a Neumann boundary condition to the right. We will get a similar equation to the top-left corner!\n",
      "\n",
      "\\begin{equation}\n",
      "-T^{n+1}_{n_x-3,1} + \\left(\\frac{\\delta}{\\alpha \\Delta t} + 3 \\right) T^{n+1}_{n_x-2,1}-T^{n+1}_{n_x-2,2} = \\frac{\\delta}{\\alpha \\Delta t}T^n_{n_x-2,1} + T^{n+1}_{n_x-2,0} + \\delta q_x\n",
      "\\end{equation}\n",
      "\n",
      "Okay, now we are actually ready. We have checked every possible case!"
     ]
    },
    {
     "cell_type": "heading",
     "level": 3,
     "metadata": {},
     "source": [
      "The matrix"
     ]
    },
    {
     "cell_type": "markdown",
     "metadata": {},
     "source": [
      "Like in the previous notebook, we will solve a linear system at every time step:\n",
      "\n",
      "$$[A][x] = [b]+[b]_{b.c.}$$\n",
      "\n",
      "Matrix $A$ is"
     ]
    },
    {
     "cell_type": "markdown",
     "metadata": {},
     "source": [
      "---\n",
      "###### The cell below loads the style of the notebook"
     ]
    },
    {
     "cell_type": "code",
     "collapsed": false,
     "input": [
      "from IPython.core.display import HTML\n",
      "css_file = '../../styles/numericalmoocstyle.css'\n",
      "HTML(open(css_file, \"r\").read())"
     ],
     "language": "python",
     "metadata": {},
     "outputs": []
    },
    {
     "cell_type": "code",
     "collapsed": false,
     "input": [],
     "language": "python",
     "metadata": {},
     "outputs": []
    }
   ],
   "metadata": {}
  }
 ]
}