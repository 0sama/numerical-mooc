{
 "metadata": {
  "name": "",
  "signature": "sha256:f2b4519c8474cfc5e7e713f1364947530f697b8cf989ff9409f768c458d56450"
 },
 "nbformat": 3,
 "nbformat_minor": 0,
 "worksheets": [
  {
   "cells": [
    {
     "cell_type": "heading",
     "level": 2,
     "metadata": {},
     "source": [
      "Crank-Nicolson scheme"
     ]
    },
    {
     "cell_type": "markdown",
     "metadata": {},
     "source": [
      "The [Crank Nicolson scheme](http://en.wikipedia.org/wiki/Crank\u2013Nicolson_method) is a popular second-order, implicit method used with parabolic PDEs in particular. It was developed by John Crank and [Phyllis Nicolson](http://en.wikipedia.org/wiki/Phyllis_Nicolson). The main idea is to take the average between the solutions at $t^n$ and $t^{n+1}$ in the evaluation of the spatial derivative. Applied to the heat equation, this scheme results in the following discretized equation:\n",
      "\n",
      "\\begin{equation}\n",
      "\\frac{u^{n+1}_i - u^n_i}{\\Delta t} = \\alpha * \\frac{1}{2} \\left( \n",
      "\\frac{u^{n+1}_{i+1} - 2^{n+1}_i + u^{n+1}_{i-1}}{\\Delta x^2} + \\frac{u^n_{i+1}-2u^n_i + u^n_{i-1}}{\\Delta x^2}\n",
      "\\right)\n",
      "\\end{equation}\n",
      "\n",
      "\\begin{equation}\n",
      "-ru^{n+1}_{i+1} + (1+2r)u^{n+1}_i - ru^{n+1}_{i-1} = u^n_i + r(u^n_{i+1}-2u^n_i+u^n_{i-1})\n",
      "\\end{equation}\n",
      "\n",
      "Again, we are left with a linear system of equations, where the coefficient matrix is sparse: only the three main diagonals of the matrix contain non-zero elements. This is called a *tri-diagonal* matrix and there are many optimized algorithms that take advantage of this structure.\n",
      "\n",
      "SciPy also provides optimized functions to deal with tri-diagonal matrices. We'll use [`solve_banded`](solve_banded) from the `linalg` module."
     ]
    },
    {
     "cell_type": "markdown",
     "metadata": {},
     "source": [
      "![stencil-cranknicolson](./figures/stencil-cranknicolson.png)\n",
      "\n",
      "#### Figure 2. Stencil of the Crank-Nicolson scheme."
     ]
    },
    {
     "cell_type": "code",
     "collapsed": false,
     "input": [
      "import numpy\n",
      "from scipy.linalg import solve_banded"
     ],
     "language": "python",
     "metadata": {},
     "outputs": []
    },
    {
     "cell_type": "code",
     "collapsed": false,
     "input": [
      "x = 5.\n",
      "nx = 101.\n",
      "alpha = 1e-2\n",
      "\n",
      "dx = x / (nx-1)\n",
      "\n",
      "dt = .5\n",
      "\n",
      "r = alpha*dt/(2*dx**2)\n",
      "T = numpy.zeros(nx)\n",
      "T[0] = 80\n",
      "\n",
      "ud = -r*numpy.ones(nx)\n",
      "ld = -r*numpy.ones(nx)\n",
      "d = numpy.ones(nx)*(1+2*r)\n",
      "\n",
      "#ud[0:2] = 0\n",
      "#ld[-2:] = 0\n",
      "#d[0]=1\n",
      "#d[-1]=1\n",
      "\n",
      "banded = numpy.matrix([ud, d, ld])\n",
      "rhs = T.copy()"
     ],
     "language": "python",
     "metadata": {},
     "outputs": []
    },
    {
     "cell_type": "code",
     "collapsed": false,
     "input": [
      "banded"
     ],
     "language": "python",
     "metadata": {},
     "outputs": []
    },
    {
     "cell_type": "code",
     "collapsed": false,
     "input": [
      "import matplotlib.pyplot as plt\n",
      "%matplotlib inline"
     ],
     "language": "python",
     "metadata": {},
     "outputs": []
    },
    {
     "cell_type": "code",
     "collapsed": false,
     "input": [
      "for i in range(100):\n",
      "    rhs[1:-1] = T[1:-1] + r*(T[2:]-2*T[1:-1]+T[:-2])\n",
      "    T = solve_banded((1, 1), banded, rhs )\n",
      "    plt.plot(numpy.linspace(0,5,nx),T)"
     ],
     "language": "python",
     "metadata": {},
     "outputs": []
    },
    {
     "cell_type": "code",
     "collapsed": false,
     "input": [
      "T2 = T.copy()"
     ],
     "language": "python",
     "metadata": {},
     "outputs": []
    },
    {
     "cell_type": "code",
     "collapsed": false,
     "input": [
      "Thalf = T.copy()"
     ],
     "language": "python",
     "metadata": {},
     "outputs": []
    },
    {
     "cell_type": "code",
     "collapsed": false,
     "input": [
      "plt.figure(figsize=(11,8))\n",
      "plt.plot(T2)\n",
      "plt.plot(Thalf);"
     ],
     "language": "python",
     "metadata": {},
     "outputs": []
    },
    {
     "cell_type": "markdown",
     "metadata": {},
     "source": [
      "---\n",
      "###### The cell below loads the style of the notebook"
     ]
    },
    {
     "cell_type": "code",
     "collapsed": false,
     "input": [
      "from IPython.core.display import HTML\n",
      "css_file = '../../styles/numericalmoocstyle.css'\n",
      "HTML(open(css_file, \"r\").read())"
     ],
     "language": "python",
     "metadata": {},
     "outputs": []
    }
   ],
   "metadata": {}
  }
 ]
}