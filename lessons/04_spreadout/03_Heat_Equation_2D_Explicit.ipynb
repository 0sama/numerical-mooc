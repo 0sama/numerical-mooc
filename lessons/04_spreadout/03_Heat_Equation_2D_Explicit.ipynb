{
 "metadata": {
  "name": "",
  "signature": "sha256:79639330d084e2cff9dad1b6a727b897e95f4e61a08711a9fbbc94a4395448f0"
 },
 "nbformat": 3,
 "nbformat_minor": 0,
 "worksheets": [
  {
   "cells": [
    {
     "cell_type": "heading",
     "level": 6,
     "metadata": {},
     "source": [
      "Content under Creative Commons Attribution license CC-BY 4.0, code under MIT license (c)2014 L.A. Barba, G.F. Forsyth, C.D. Cooper."
     ]
    },
    {
     "cell_type": "heading",
     "level": 1,
     "metadata": {},
     "source": [
      "Spreading out"
     ]
    },
    {
     "cell_type": "heading",
     "level": 2,
     "metadata": {},
     "source": [
      "2D Heat Conduction"
     ]
    },
    {
     "cell_type": "markdown",
     "metadata": {},
     "source": [
      "The heat conduction equation in 2D is given as:\n",
      "\n",
      "\\begin{equation}\n",
      "\\rho c_p \\frac{\\partial T}{\\partial t} = \\frac{\\partial}{\\partial x} \\left( \\kappa_x \\frac{\\partial T}{\\partial x} \\right) + \\frac{\\partial}{\\partial y} \\left(\\kappa_y \\frac{\\partial T}{\\partial y} \\right)\n",
      "\\end{equation}"
     ]
    },
    {
     "cell_type": "markdown",
     "metadata": {},
     "source": [
      "where $\\rho$ is the density, $c_p$ is the heat capacity and $\\kappa$ is the thermal conductivity."
     ]
    },
    {
     "cell_type": "markdown",
     "metadata": {},
     "source": [
      "If we assume that the thermal conductivity, $\\kappa$, is constant then we can take it outside of the partial derivative term and the conduction equation simplifies to\n",
      "\n",
      "\\begin{equation}\n",
      "\\frac{\\partial T}{\\partial t} = \\alpha \\left(\\frac{\\partial^2 T}{\\partial x^2} + \\frac{\\partial^2 T}{\\partial y^2} \\right)\n",
      "\\end{equation}\n",
      "\n",
      "where $\\alpha = \\frac{\\kappa}{\\rho C_p}$ is the thermal diffusivity.  The thermal diffusivity describes the ability of a material to conduct heat vs store it."
     ]
    },
    {
     "cell_type": "markdown",
     "metadata": {},
     "source": [
      "Does that equation have any familiar looking terms in it?  That's because it's the same as the diffusion equation.  There's a reason that $\\alpha$ is called the thermal *diffusivity*.  "
     ]
    },
    {
     "cell_type": "heading",
     "level": 2,
     "metadata": {},
     "source": [
      "Problem statement"
     ]
    },
    {
     "cell_type": "markdown",
     "metadata": {},
     "source": [
      "Removing heat out of micro-chips is a big problem in the computer industry. We are at the point that computers can't run much faster because the chips might start failing due to temperature! Let's study this problem more closely.\n",
      "\n",
      "We want to understand how heat is dissipated from the chip with a very simplified model. Say we consider the chip as a 2D plate $(1cm\\times 1cm)$ made of silicon $(\\kappa = 159W/m ^\\circ C, C_p = 0.712\\cdot 10^3 J/kg^\\circ C, \\rho = 2329kg/m^3)$, with diffusivity $\\alpha \\approx 10^{-4}$. Silicon melts at $1414^\\circ C$, but it is recommended that chips do not operate at more than $\\sim70^\\circ C$ (need to find better source for this number)\n",
      "\n",
      "Say the chip is in a position where on two edges (top and right) it is in contact with insulating material, and on the other two, with other components that have a constant temperature of $T=100^\\circ C$ when the machine is working. Initially, the chip is at room temperature $(20^\\circ C)$. *How long does it take for the center of the chip to reach $70^\\circ C?$*\n",
      "\n",
      "Let's use what we have learned to tackle this problem!"
     ]
    },
    {
     "cell_type": "heading",
     "level": 2,
     "metadata": {},
     "source": [
      "2D Finite-differences"
     ]
    },
    {
     "cell_type": "markdown",
     "metadata": {},
     "source": [
      "Everything you learned about Finite-differences in [Module 2, Notebook 1](http://nbviewer.ipython.org/github/numerical-mooc/numerical-mooc/blob/master/lessons/02_spacetime/02_01_1DConvection.ipynb) still applies, but now there are two spatial dimensions.  \n",
      "\n",
      "Spatial nodes in the $x$ direction are discretized into $i$ points, while spatial nodes in the $y$ direction are discretized into $j$ points.  \n",
      "\n",
      "A given node will now have two spatial coordinates.  The middle point in the figure below we can call $T_{i,j}$."
     ]
    },
    {
     "cell_type": "markdown",
     "metadata": {},
     "source": [
      "<img src=\"./figures/2dgrid.svg\">"
     ]
    },
    {
     "cell_type": "markdown",
     "metadata": {},
     "source": [
      "<img src=\"./figures/2dgrid_indices.svg\">"
     ]
    },
    {
     "cell_type": "heading",
     "level": 3,
     "metadata": {},
     "source": [
      "Explicit scheme in 2D"
     ]
    },
    {
     "cell_type": "markdown",
     "metadata": {},
     "source": [
      "Our first attempt will be with an explicit scheme. The 2D heat conduction equation, discretized forward in time, central in space is \n",
      "\n",
      "\\begin{equation}\n",
      "\\frac{T^{n+1}_{i,j} - T^n_{i,j}}{\\Delta t} = \\alpha \\left( \\frac{T^n_{i+1, j} - 2T^n_{i,j} + T^n_{i-1,j}}{\\Delta x^2} + \\frac{T^n_{i, j+1} - 2T^n_{i,j} + T^n_{i,j-1}}{\\Delta y^2}\\right)\n",
      "\\end{equation}"
     ]
    },
    {
     "cell_type": "markdown",
     "metadata": {},
     "source": [
      "But we are interested in solving for $T^{n+1}_{i,j}$\n",
      "\n",
      "\\begin{equation}\n",
      "T^{n+1}_{i,j}= T^n_{i,j} + \\alpha \\left( \\frac{\\Delta t}{\\Delta x^2} (T^n_{i+1, j} - 2T^n_{i,j} + T^n_{i-1,j}) + \\frac{\\Delta t}{\\Delta y^2} (T^n_{i, j+1} - 2T^n_{i,j} + T^n_{i,j-1})\\right)\n",
      "\\end{equation}\n",
      "\n",
      "In this case, the stencil looks like"
     ]
    },
    {
     "cell_type": "markdown",
     "metadata": {},
     "source": [
      "<img src=\"./figures/2d_stencil.svg\">"
     ]
    },
    {
     "cell_type": "markdown",
     "metadata": {},
     "source": [
      "Like we did in the previous notebook, whenever we reach a point that needs to read a point from the boundary, we use (EXPLAIN BCs FOR EXPLICIT HERE)\n",
      "\n",
      "Add paragraph explaining $T_{i,j}$ stored in `T[j,i]`"
     ]
    },
    {
     "cell_type": "markdown",
     "metadata": {},
     "source": [
      "This little function will do the trick for us"
     ]
    },
    {
     "cell_type": "code",
     "collapsed": false,
     "input": [
      "import numpy"
     ],
     "language": "python",
     "metadata": {},
     "outputs": []
    },
    {
     "cell_type": "code",
     "collapsed": false,
     "input": [
      "def ftcs(T, nt, alpha, dt, dx, dy):\n",
      "\n",
      "    for n in range(nt):\n",
      "        Tn = T.copy()\n",
      "        T[1:-1,1:-1] = Tn[1:-1,1:-1] + alpha *\\\n",
      "            (dt/dy**2 * (Tn[2:,1:-1] - 2*Tn[1:-1,1:-1] + Tn[:-2,1:-1]) +\\\n",
      "             dt/dx**2 * (Tn[1:-1,2:] - 2*Tn[1:-1,1:-1] + Tn[1:-1,:-2]))\n",
      "  \n",
      "    \n",
      "        T[-1,:] = T[-2,:]\n",
      "        T[:,-1] = T[:,-2]\n",
      "        \n",
      "    return T"
     ],
     "language": "python",
     "metadata": {},
     "outputs": []
    },
    {
     "cell_type": "code",
     "collapsed": false,
     "input": [
      "alpha = 1e-4"
     ],
     "language": "python",
     "metadata": {},
     "outputs": []
    },
    {
     "cell_type": "code",
     "collapsed": false,
     "input": [
      "L = 1.0e-2\n",
      "H = 1.0e-2\n",
      "\n",
      "nx = 21\n",
      "ny = 21\n",
      "nt = 100\n",
      "\n",
      "dx = L/(nx-1)\n",
      "dy = H/(ny-1)\n",
      "\n",
      "x = numpy.linspace(0,L,nx)\n",
      "y = numpy.linspace(0,H,ny)\n",
      "\n",
      "\n",
      "Ti = numpy.ones((ny, nx))*20\n",
      "Ti[0,:]= 100\n",
      "Ti[:,0] = 100"
     ],
     "language": "python",
     "metadata": {},
     "outputs": []
    },
    {
     "cell_type": "code",
     "collapsed": false,
     "input": [
      "sigma = 0.25\n",
      "dt = sigma * min(dx, dy)**2 / alpha\n",
      "T=Ti.copy()\n",
      "T = ftcs(T, nt, alpha, dt, dx, dy)"
     ],
     "language": "python",
     "metadata": {},
     "outputs": []
    },
    {
     "cell_type": "code",
     "collapsed": false,
     "input": [
      "my, mx = numpy.meshgrid(y,x)"
     ],
     "language": "python",
     "metadata": {},
     "outputs": []
    },
    {
     "cell_type": "code",
     "collapsed": false,
     "input": [
      "import matplotlib.pyplot as plt\n",
      "%matplotlib inline"
     ],
     "language": "python",
     "metadata": {},
     "outputs": []
    },
    {
     "cell_type": "code",
     "collapsed": false,
     "input": [
      "plt.figure(figsize=(11,8))\n",
      "plt.contourf(my,mx,T,20);"
     ],
     "language": "python",
     "metadata": {},
     "outputs": []
    },
    {
     "cell_type": "code",
     "collapsed": false,
     "input": [
      "T = numpy.zeros((ny, nx))\n",
      "T[0,:]= 100\n",
      "T[:,0] = 100\n",
      "\n",
      "T"
     ],
     "language": "python",
     "metadata": {},
     "outputs": []
    },
    {
     "cell_type": "code",
     "collapsed": false,
     "input": [
      "T.flatten().shape"
     ],
     "language": "python",
     "metadata": {},
     "outputs": []
    },
    {
     "cell_type": "code",
     "collapsed": false,
     "input": [
      "T[1,1]=50"
     ],
     "language": "python",
     "metadata": {},
     "outputs": []
    },
    {
     "cell_type": "code",
     "collapsed": false,
     "input": [
      "Tflat = T.flatten()"
     ],
     "language": "python",
     "metadata": {},
     "outputs": []
    },
    {
     "cell_type": "code",
     "collapsed": false,
     "input": [
      "Tflat"
     ],
     "language": "python",
     "metadata": {},
     "outputs": []
    },
    {
     "cell_type": "code",
     "collapsed": false,
     "input": [
      "Tflat[51:101]"
     ],
     "language": "python",
     "metadata": {},
     "outputs": []
    },
    {
     "cell_type": "markdown",
     "metadata": {},
     "source": [
      "---\n",
      "###### The cell below loads the style of the notebook"
     ]
    },
    {
     "cell_type": "code",
     "collapsed": false,
     "input": [
      "from IPython.core.display import HTML\n",
      "css_file = '../../styles/numericalmoocstyle.css'\n",
      "HTML(open(css_file, \"r\").read())"
     ],
     "language": "python",
     "metadata": {},
     "outputs": []
    },
    {
     "cell_type": "code",
     "collapsed": false,
     "input": [],
     "language": "python",
     "metadata": {},
     "outputs": []
    }
   ],
   "metadata": {}
  }
 ]
}