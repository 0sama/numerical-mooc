{
 "metadata": {
  "name": "",
  "signature": "sha256:a12ef079b8bb00720b31983a349e4e19aa4fb82b47a0985e2cd3b478fba868bc"
 },
 "nbformat": 3,
 "nbformat_minor": 0,
 "worksheets": [
  {
   "cells": [
    {
     "cell_type": "heading",
     "level": 6,
     "metadata": {},
     "source": [
      "Content under Creative Commons Attribution license CC-BY 4.0, code under MIT license (c)2014 L.A. Barba, G.F. Forsyth, C.D. Cooper."
     ]
    },
    {
     "cell_type": "heading",
     "level": 1,
     "metadata": {},
     "source": [
      "Spreading out"
     ]
    },
    {
     "cell_type": "markdown",
     "metadata": {},
     "source": [
      "Welcome! This is the third lesson of the course module: \"_Spreading out: parabolic PDEs.\"_ \n",
      "\n",
      "So far, we've looked at the 1D heat equation, and solved it numerically using [*explicit*](https://github.com/numerical-mooc/numerical-mooc/blob/master/lessons/04_spreadout/01_Heat_Equation_1D_Explicit.ipynb) and [*implicit*](https://github.com/numerical-mooc/numerical-mooc/blob/master/lessons/04_spreadout/02_Heat_Equation_1D_Implicit.ipynb) schemes in the first two notebooks. We learned that implicit schemes are unconditionally stable, and we are free to choose any time step. Any time step? Remember, we still want to capture the physics of the problem accurately. \n",
      "\n",
      "We are ready to move on to 2D! In the remaining notebooks of this module, we will study 2D cases of the heat equation and the reaction-diffusion equation."
     ]
    },
    {
     "cell_type": "heading",
     "level": 2,
     "metadata": {},
     "source": [
      "2D Heat Conduction"
     ]
    },
    {
     "cell_type": "markdown",
     "metadata": {},
     "source": [
      "The heat conduction equation in 2D is given as:\n",
      "\n",
      "\\begin{equation}\n",
      "\\rho c_p \\frac{\\partial T}{\\partial t} = \\frac{\\partial}{\\partial x} \\left( \\kappa_x \\frac{\\partial T}{\\partial x} \\right) + \\frac{\\partial}{\\partial y} \\left(\\kappa_y \\frac{\\partial T}{\\partial y} \\right)\n",
      "\\end{equation}"
     ]
    },
    {
     "cell_type": "markdown",
     "metadata": {},
     "source": [
      "where $\\rho$ is the density, $c_p$ is the heat capacity and $\\kappa$ is the thermal conductivity."
     ]
    },
    {
     "cell_type": "markdown",
     "metadata": {},
     "source": [
      "If we assume that the thermal conductivity, $\\kappa$, is constant then we can take it outside of the partial derivative term and the conduction equation simplifies to\n",
      "\n",
      "\\begin{equation}\n",
      "\\frac{\\partial T}{\\partial t} = \\alpha \\left(\\frac{\\partial^2 T}{\\partial x^2} + \\frac{\\partial^2 T}{\\partial y^2} \\right)\n",
      "\\end{equation}\n",
      "\n",
      "where $\\alpha = \\frac{\\kappa}{\\rho C_p}$ is the thermal diffusivity.  The thermal diffusivity describes the ability of a material to conduct heat vs store it."
     ]
    },
    {
     "cell_type": "markdown",
     "metadata": {},
     "source": [
      "Does that equation have any familiar looking terms in it?  That's because it's the same as the diffusion equation.  There's a reason that $\\alpha$ is called the thermal *diffusivity*.  "
     ]
    },
    {
     "cell_type": "heading",
     "level": 2,
     "metadata": {},
     "source": [
      "Problem statement"
     ]
    },
    {
     "cell_type": "markdown",
     "metadata": {},
     "source": [
      "Removing heat out of micro-chips is a big problem in the computer industry. We are at the point that computers can't run much faster because the chips might start failing due to temperature! Let's study this problem more closely.\n",
      "\n",
      "We want to understand how heat is dissipated from the chip with a very simplified model. Say we consider the chip as a 2D plate $(1cm\\times 1cm)$ made of silicon $(\\kappa = 159W/m ^\\circ C, c_p = 0.712\\cdot 10^3 J/kg^\\circ C, \\rho = 2329kg/m^3)$, with diffusivity $\\alpha \\approx 10^{-4}$. Silicon melts at $1414^\\circ C$, but it is recommended that chips not operate at more than $\\sim70^\\circ C$ (need to find better source for this number)\n",
      "\n",
      "Say the chip is in a position where on two edges (top and right) it is in contact with insulating material.  On the other two edges the chip is touching other components that have a constant temperature of $T=100^\\circ C$ when the machine is operating. Initially, the chip is at room temperature $(20^\\circ C)$. *How long does it take for the center of the chip to reach $70^\\circ C?$*"
     ]
    },
    {
     "cell_type": "markdown",
     "metadata": {},
     "source": [
      "<img src='./figures/2dchip.svg' width='400px'>"
     ]
    },
    {
     "cell_type": "heading",
     "level": 4,
     "metadata": {},
     "source": [
      "Figure 1: Simplified Micro-chip Temperature Schematic"
     ]
    },
    {
     "cell_type": "markdown",
     "metadata": {},
     "source": [
      "Let's use what we have learned to tackle this problem!"
     ]
    },
    {
     "cell_type": "heading",
     "level": 2,
     "metadata": {},
     "source": [
      "2D Finite-differences"
     ]
    },
    {
     "cell_type": "markdown",
     "metadata": {},
     "source": [
      "Everything you learned about Finite-differences in [Module 2, Notebook 1](http://nbviewer.ipython.org/github/numerical-mooc/numerical-mooc/blob/master/lessons/02_spacetime/02_01_1DConvection.ipynb) still applies, but now there are two spatial dimensions.  \n",
      "\n",
      "Spatial nodes in the $x$ direction are discretized into $i$ points, while spatial nodes in the $y$ direction are discretized into $j$ points.  \n",
      "\n",
      "A given node will now have two spatial coordinates.  The middle point in the figure below we can call $T_{i,j}$."
     ]
    },
    {
     "cell_type": "markdown",
     "metadata": {},
     "source": [
      "<img src=\"./figures/2dgrid.svg\">"
     ]
    },
    {
     "cell_type": "heading",
     "level": 4,
     "metadata": {},
     "source": [
      "Figure 2. Nodal coordinates in 2 dimensions"
     ]
    },
    {
     "cell_type": "heading",
     "level": 3,
     "metadata": {},
     "source": [
      "Explicit scheme in 2D"
     ]
    },
    {
     "cell_type": "markdown",
     "metadata": {},
     "source": [
      "Recall from above that the 2D heat equation is \n",
      "\n",
      "$$\\frac{\\partial T}{\\partial t} = \\alpha \\left(\\frac{\\partial^2 T}{\\partial x^2} + \\frac{\\partial^2 T}{\\partial y^2} \\right)$$"
     ]
    },
    {
     "cell_type": "markdown",
     "metadata": {},
     "source": [
      "Let's attempt to write this out using an explicit scheme, discretized using forward time, central space\n",
      "\n",
      "\\begin{equation}\n",
      "\\frac{T^{n+1}_{i,j} - T^n_{i,j}}{\\Delta t} = \\alpha \\left( \\frac{T^n_{i+1, j} - 2T^n_{i,j} + T^n_{i-1,j}}{\\Delta x^2} + \\frac{T^n_{i, j+1} - 2T^n_{i,j} + T^n_{i,j-1}}{\\Delta y^2}\\right)\n",
      "\\end{equation}"
     ]
    },
    {
     "cell_type": "markdown",
     "metadata": {},
     "source": [
      "Rearranging the equation to solve for $T^{n+1}_{i,j}$ yields\n",
      "\n",
      "\\begin{equation}\n",
      "T^{n+1}_{i,j}= T^n_{i,j} + \\alpha \\left( \\frac{\\Delta t}{\\Delta x^2} (T^n_{i+1, j} - 2T^n_{i,j} + T^n_{i-1,j}) + \\frac{\\Delta t}{\\Delta y^2} (T^n_{i, j+1} - 2T^n_{i,j} + T^n_{i,j-1})\\right)\n",
      "\\end{equation}\n",
      "\n",
      "That's a little messier than 1D, but still recognizable.  \n",
      "\n",
      "Up until now, we've used stencils to help visualize how a scheme will advance the solution for one timestep.  Stencils in 2D are a little harder to draw, but hopefully the figure below will guide your understanding of this method."
     ]
    },
    {
     "cell_type": "markdown",
     "metadata": {},
     "source": [
      "<img src=\"./figures/2d_stencil.svg\">"
     ]
    },
    {
     "cell_type": "heading",
     "level": 4,
     "metadata": {},
     "source": [
      "Figure 3: 2D Explicit Stencil"
     ]
    },
    {
     "cell_type": "markdown",
     "metadata": {},
     "source": [
      "Similar to all of the 1D explicit methods we've used, the solution at $T^{n+1}_{i,j}$ is updated using values from the current solution at time $n$."
     ]
    },
    {
     "cell_type": "heading",
     "level": 3,
     "metadata": {},
     "source": [
      "Boundary Conditions"
     ]
    },
    {
     "cell_type": "markdown",
     "metadata": {},
     "source": [
      "Whenever we reach a point that interacts with the boundary, we apply the boundary condition. As in the previous notebook, if the boundary has Dirichlet conditions, we fetch the prescribed temperature at that point. If the boundary conditions has Neumann conditions, we discretize them with a finite-difference approximation.\n",
      "\n",
      "Remember, Neumann boundary conditions prescribe the derivative in the normal direction. For example, in the problem described above, we have $\\frac{\\partial T}{\\partial y} = q_y$ in the top boundary and $\\frac{\\partial T}{\\partial x} = q_x$ in the right boundary, with $q_y = q_x = 0$.\n",
      "\n",
      "Then, at every time step, we need to enforce\n",
      "\n",
      "\\begin{equation}\n",
      "T_{i,j-1} = q_y\\cdot\\Delta y + T_{i,j-2}\n",
      "\\end{equation}\n",
      "\n",
      "and\n",
      "\n",
      "\\begin{equation}\n",
      "T_{i-1,j} = q_x\\cdot\\Delta x + T_{i-2,j}\n",
      "\\end{equation}"
     ]
    },
    {
     "cell_type": "heading",
     "level": 3,
     "metadata": {},
     "source": [
      "Stability"
     ]
    },
    {
     "cell_type": "markdown",
     "metadata": {},
     "source": [
      "Before moving to any coding, let's revisit stability constraints. In 1D, we saw in the first notebook of this series that the explicit discretization of the diffusion equation was stable as long as $\\alpha \\frac{\\Delta t}{(\\Delta x)^2} \\leq \\frac{1}{2}$. In 2D, this constraint is even tighter, as we need to add them in both directions:\n",
      "\n",
      "\\begin{equation}\n",
      "\\alpha \\frac{\\Delta t}{(\\Delta x)^2} + \\alpha \\frac{\\Delta t}{(\\Delta y)^2} < \\frac{1}{2}.\n",
      "\\end{equation}\n",
      "\n",
      "Say that the mesh has the same spacing in $x$ and $y$, $\\Delta x = \\Delta y = \\delta$. The stability condition is\n",
      "\n",
      "\\begin{equation}\n",
      "\\alpha \\frac{\\Delta t}{\\delta^2} < \\frac{1}{4}\n",
      "\\end{equation}"
     ]
    },
    {
     "cell_type": "heading",
     "level": 2,
     "metadata": {},
     "source": [
      "Implementation"
     ]
    },
    {
     "cell_type": "heading",
     "level": 3,
     "metadata": {},
     "source": [
      "Array storage"
     ]
    },
    {
     "cell_type": "markdown",
     "metadata": {},
     "source": [
      "The physical problem has two dimensions and so we also store the temperatures in two dimensions -- in a 2D array. \n",
      "\n",
      "We chose to store it with the $y$ direction varying with the rows of the array and $x$ varying with the columns (this is just a code design decision!). If we are consistent with the stencil formula (with $x$ corresponding to $i$ and $y$ to $j$), then $T_{i,j}$ will be stored in array format as `T[j,i]`.\n",
      "\n",
      "This might be a little confusing as most of us are used to writing coordinates in the format $(x,y)$, but our preference is to have the data stored so that it matches our physical sense of the problem."
     ]
    },
    {
     "cell_type": "markdown",
     "metadata": {},
     "source": [
      "<img src=\"./figures/rowcolumn.svg\" width=\"400px\">"
     ]
    },
    {
     "cell_type": "heading",
     "level": 4,
     "metadata": {},
     "source": [
      "Figure 4: Row-column data storage"
     ]
    },
    {
     "cell_type": "markdown",
     "metadata": {},
     "source": [
      "As you can see in Figure 4 above, if we want to access the value $18$ we might write those coordinates as $(x_2, y_3)$.  You can also see that its location is the 3rd row, 2nd column, so it's array address would be `T[3,2]`.\n",
      "\n",
      "Again, this is a design decision.  However you choose to manipulate and store your data, just remember to be consistent!"
     ]
    },
    {
     "cell_type": "heading",
     "level": 3,
     "metadata": {},
     "source": [
      "Code time!"
     ]
    },
    {
     "cell_type": "markdown",
     "metadata": {},
     "source": [
      "Now, to some coding! This little function will advance the solution in time for us with a forward in time, central in space scheme, and will monitor the center of the plate to tell us when it reaches $70^\\circ C$."
     ]
    },
    {
     "cell_type": "code",
     "collapsed": false,
     "input": [
      "import numpy\n",
      "import matplotlib.pyplot as plt\n",
      "%matplotlib inline\n",
      "from matplotlib import rcParams\n",
      "rcParams['font.family'] = 'serif'\n",
      "rcParams['font.size'] = 16"
     ],
     "language": "python",
     "metadata": {},
     "outputs": []
    },
    {
     "cell_type": "code",
     "collapsed": false,
     "input": [
      "def ftcs(T, nt, alpha, dt, dx, dy):\n",
      "\n",
      "    j_mid = (numpy.shape(T)[0]+1)/2\n",
      "    i_mid = (numpy.shape(T)[1]+1)/2\n",
      "    \n",
      "    for n in range(nt):\n",
      "        Tn = T.copy()\n",
      "        T[1:-1,1:-1] = Tn[1:-1,1:-1] + alpha *\\\n",
      "            (dt/dy**2 * (Tn[2:,1:-1] - 2*Tn[1:-1,1:-1] + Tn[:-2,1:-1]) +\\\n",
      "             dt/dx**2 * (Tn[1:-1,2:] - 2*Tn[1:-1,1:-1] + Tn[1:-1,:-2]))\n",
      "  \n",
      "        # Enforce Neumann BCs\n",
      "        T[-1,:] = T[-2,:]\n",
      "        T[:,-1] = T[:,-2]\n",
      "        \n",
      "        # Check if we reached T=70C\n",
      "        if T[j_mid, i_mid] >= 70:\n",
      "            print (\"Center of plate reached 70C at time {0:.2f}s.\".format(dt*n))\n",
      "            break\n",
      "        \n",
      "    if T[j_mid, i_mid]<70:\n",
      "        print (\"Center has not reached 70C yet, it is only {0:.2f}C.\".format(T[j_mid, i_mid]))\n",
      "        \n",
      "    return T"
     ],
     "language": "python",
     "metadata": {},
     "outputs": []
    },
    {
     "cell_type": "markdown",
     "metadata": {},
     "source": [
      "See the [`break`](https://docs.python.org/2/tutorial/controlflow.html) statement? It exits the closest `for` loop when the plate reaches $70^\\circ C$."
     ]
    },
    {
     "cell_type": "markdown",
     "metadata": {},
     "source": [
      "And here we define our initial conditions"
     ]
    },
    {
     "cell_type": "code",
     "collapsed": false,
     "input": [
      "L = 1.0e-2\n",
      "H = 1.0e-2\n",
      "\n",
      "nx = 21\n",
      "ny = 21\n",
      "nt = 500\n",
      "\n",
      "dx = L/(nx-1)\n",
      "dy = H/(ny-1)\n",
      "\n",
      "x = numpy.linspace(0,L,nx)\n",
      "y = numpy.linspace(0,H,ny)\n",
      "\n",
      "alpha = 1e-4\n",
      "\n",
      "Ti = numpy.ones((ny, nx))*20\n",
      "Ti[0,:]= 100\n",
      "Ti[:,0] = 100"
     ],
     "language": "python",
     "metadata": {},
     "outputs": []
    },
    {
     "cell_type": "markdown",
     "metadata": {},
     "source": [
      "We are good to go! We don't want our solution blowing up, so let's try $\\frac{\\alpha \\Delta t}{\\Delta x^2} = \\frac{\\alpha \\Delta t}{\\Delta y^2} = \\frac{1}{4}$:"
     ]
    },
    {
     "cell_type": "code",
     "collapsed": false,
     "input": [
      "sigma = 0.25\n",
      "dt = sigma * min(dx, dy)**2 / alpha\n",
      "T=Ti.copy()\n",
      "T = ftcs(T, nt, alpha, dt, dx, dy)"
     ],
     "language": "python",
     "metadata": {},
     "outputs": []
    },
    {
     "cell_type": "heading",
     "level": 3,
     "metadata": {},
     "source": [
      "Visualize the results"
     ]
    },
    {
     "cell_type": "markdown",
     "metadata": {},
     "source": [
      "By now you're no doubt *very* familiar with the `plt.plot` command.  It's great for line plots, scatter plots, etc. but what about when we have two spatial dimensions and another value (temperature) to display?  \n",
      "\n",
      "Are you thinking contour plot?  We're thinking contour plot.  Check out the documentation on [plt.contourf](http://matplotlib.org/api/pyplot_api.html#matplotlib.pyplot.contour) (the 'f' denotes \"filled\" contours).\n",
      "\n",
      "First, though, we need to create a `meshgrid`.  [numpy.meshgrid](http://docs.scipy.org/doc/numpy/reference/generated/numpy.meshgrid.html) takes two vectors (`x` and `y`, say) and returns two 2D arrays of $x$ and $y$ coordinates we can use to create the contour plot.  "
     ]
    },
    {
     "cell_type": "code",
     "collapsed": false,
     "input": [
      "#my, mx = numpy.meshgrid(y,x)\n",
      "mx, my = numpy.meshgrid(x,y)"
     ],
     "language": "python",
     "metadata": {},
     "outputs": []
    },
    {
     "cell_type": "code",
     "collapsed": false,
     "input": [
      "plt.figure(figsize=(8,5))\n",
      "plt.contourf(my,mx,T,20)\n",
      "plt.xlabel('$x$')\n",
      "plt.ylabel('$y$')\n",
      "plt.colorbar();"
     ],
     "language": "python",
     "metadata": {},
     "outputs": []
    },
    {
     "cell_type": "markdown",
     "metadata": {},
     "source": [
      "That looks pretty cool!  Note that in the call to `plt.contourf` you can specify the number of contour levels to display (we chose 20).  "
     ]
    },
    {
     "cell_type": "heading",
     "level": 2,
     "metadata": {},
     "source": [
      "Reaction-Diffusion"
     ]
    },
    {
     "cell_type": "heading",
     "level": 3,
     "metadata": {},
     "source": [
      "Gray-Scott Model"
     ]
    },
    {
     "cell_type": "markdown",
     "metadata": {},
     "source": [
      "\\begin{align}\n",
      "\\frac{\\partial u}{\\partial t} &= D_u \\nabla ^2 u - uv^2 + F(1-u)\\\\\n",
      "\\frac{\\partial v}{\\partial t} &= D_v \\nabla ^2 v + uv^2 - (F + k)v\n",
      "\\end{align}"
     ]
    },
    {
     "cell_type": "markdown",
     "metadata": {},
     "source": [
      "$D_u$ and $D_v$ are the respective rates of diffusion for particle fields $u$ and $v$.\n",
      "\n",
      "Gray Scott says that\n",
      "\n",
      "$$U + 2V \\rightarrow 3V$$\n",
      "\n",
      "$$V \\rightarrow P$$\n",
      "\n",
      "where $P$ is inert\n",
      "\n",
      "$uv^2$ is the probability that 1 particle of $u$ and 2 particles of $v$ are in the same vicinity.  \n",
      "\n",
      "$F$ is the feed-rate of new $u$ into the system, scaled so that it doesn't exceed 1.\n",
      "\n",
      "$F+k$ is the kill rate"
     ]
    },
    {
     "cell_type": "markdown",
     "metadata": {},
     "source": [
      "where $D_u$, $D_v$, $F$, and $k$ are assumed to be constants and $\\nabla ^2$ is the Laplacian where\n",
      "\n",
      "\\begin{equation}\n",
      "\\nabla ^2 u = \\frac{\\partial ^2 u}{\\partial x^2} + \\frac{\\partial ^2 u}{\\partial y^2}\n",
      "\\end{equation}"
     ]
    },
    {
     "cell_type": "markdown",
     "metadata": {},
     "source": [
      "\\begin{align}\n",
      "\\frac{\\partial u}{\\partial t} &= D_u \\nabla ^2 u + f(u,v)\\\\\n",
      "\\frac{\\partial v}{\\partial t} &= D_v \\nabla ^2 v + g(u,v)\n",
      "\\end{align}\n",
      "\n",
      "with\n",
      "\n",
      "\\begin{align}\n",
      "f(u,v) &= -uv^2 + F(1-u)\\\\\n",
      "g(u,v) &= uv^2 - (F + k)v\n",
      "\\end{align}"
     ]
    },
    {
     "cell_type": "code",
     "collapsed": false,
     "input": [
      "from matplotlib import animation\n",
      "from JSAnimation.IPython_display import display_animation\n",
      "import matplotlib.cm as cm"
     ],
     "language": "python",
     "metadata": {},
     "outputs": []
    },
    {
     "cell_type": "code",
     "collapsed": false,
     "input": [
      "def f(u,v,F):\n",
      "    return -u*v**2 + F*(1-u)\n",
      "\n",
      "def g(u,v,F,k):\n",
      "    return u*v**2 - (F + k)*v"
     ],
     "language": "python",
     "metadata": {},
     "outputs": []
    },
    {
     "cell_type": "markdown",
     "metadata": {},
     "source": [
      "\\begin{equation}\n",
      "u^{n+1}_{i,j}= u^n_{i,j} + D_u \\left( \\frac{\\Delta t}{\\Delta x^2} (u^n_{i+1, j} - 2u^n_{i,j} + u^n_{i-1,j}) + \\frac{\\Delta t}{\\Delta y^2} (u^n_{i, j+1} - 2u^n_{i,j} + u^n_{i,j-1})\\right) + f(u,v)\n",
      "\\end{equation}"
     ]
    },
    {
     "cell_type": "markdown",
     "metadata": {},
     "source": [
      "Assume $\\Delta x = \\Delta y = \\Delta h$\n",
      "\n",
      "\\begin{equation}\n",
      "u^{n+1}_{i,j}= u^n_{i,j} + D_u \\left( \\frac{\\Delta t}{\\Delta h^2} (u^n_{i+1, j} + u^n_{i, j+1} - 4u^n_{i,j} + u^n_{i-1,j} + u^n_{i,j-1})\\right) + f(u,v)\n",
      "\\end{equation}"
     ]
    },
    {
     "cell_type": "markdown",
     "metadata": {},
     "source": [
      "save all of u iterations for animation, but only save temp V for memory"
     ]
    },
    {
     "cell_type": "code",
     "collapsed": false,
     "input": [
      "def reaction_diffusion(U, V, dh, dt, nt, Du, Dv, F, k):\n",
      "    \n",
      "    framerate = 100\n",
      "    u_all = numpy.zeros((nt/framerate+1, U.shape[0], U.shape[1]))\n",
      "    frame = 1\n",
      "    #v_all = u_all.copy()\n",
      "    \n",
      "    \n",
      "    u_all[:,:,:] = U.copy()\n",
      "    #v_all[:,:,:] = V.copy()\n",
      "    \n",
      "    Lu = numpy.ones_like(U)\n",
      "    Lv = numpy.zeros_like(U)\n",
      "    \n",
      "    for n in xrange(1,nt):\n",
      "        Lu[1:-1,1:-1] = dt/dh**2*(U[0:-2,1:-1] + U[1:-1,0:-2] - \\\n",
      "                  4*U[1:-1,1:-1] + U[1:-1,2:] + U[2:,1:-1] )\n",
      "        Lv[1:-1,1:-1] = dt/dh**2*(V[0:-2,1:-1] + V[1:-1,0:-2] - \\\n",
      "                    4*V[1:-1,1:-1] + V[1:-1,2:] + V[2:,1:-1] )\n",
      "        \n",
      "        #u_all[n,:,:] = u_all[n-1,:,:] + Du*Lu + f(U,V,F)#*dt\n",
      "        #v_all[n,:,:] = v_all[n-1,:,:] + Dv*Lv + g(U,V,F,k)#*dt\n",
      "        \n",
      "        U += Du*Lu + f(U,V,F)*dt\n",
      "        V += Dv*Lv + g(U,V,F,k)*dt\n",
      "        \n",
      "        #u_all[n,:,0] = u_all[n,:,-2]\n",
      "        #u_all[n,:,-1] = u_all[n,:,1]\n",
      "        #u_all[n,0,:] = u_all[n,-2,:]\n",
      "        #u_all[n,-1,:] = u_all[n,1,:]\n",
      "        \n",
      "        #U = u_all[n,:,:].copy()\n",
      "        #V = v_all[n,:,:].copy()\n",
      "        \n",
      "        \n",
      "        U[:,0] = U[:,-2]\n",
      "        U[:,-1] = U[:,1]\n",
      "        U[0,:] = U[-2,:]\n",
      "        U[-1,:] = U[1,:]\n",
      "        \n",
      "        V[:,0] = V[:,-2]\n",
      "        V[:,-1] = V[:,1]\n",
      "        V[0,:] = V[-2,:]\n",
      "        V[-1,:] = V[1,:]\n",
      "        \n",
      "        if n % framerate == 0:\n",
      "            u_all[frame,:,:] = U.copy()\n",
      "            frame += 1\n",
      "        \n",
      "        #U = u_all[n].copy()\n",
      "        #V = v_all[n].copy()\n",
      "        \n",
      "        #U[:,0] = U[:,-1]\n",
      "        #U[0,:] = U[-1,:]\n",
      "        #V[:,0] = V[:,-1]\n",
      "        #V[0,:] = V[-1,:]\n",
      "        \n",
      "    return u_all#, V, #v_all\n",
      "\n"
     ],
     "language": "python",
     "metadata": {},
     "outputs": []
    },
    {
     "cell_type": "code",
     "collapsed": false,
     "input": [
      "# Parameters from http://www.aliensaint.com/uo/java/rd/\n",
      "# -----------------------------------------------------\n",
      "n = 192\n",
      "# Cell division: Works well but is slow to evolve\n",
      "Du, Dv, F, k = 0.00016, 0.00008, 0.035, 0.065 # Bacteria 1 \n",
      "\n",
      "\n",
      "# Much faster to evolve\n",
      "#Du, Dv, F, k = 0.00014, 0.00006, 0.035, 0.065 # Bacteria 2\n",
      "\n",
      "# Works well\n",
      "# Du, Dv, F, k = 0.00016, 0.00008, 0.060, 0.062 # Coral\n",
      "\n",
      "# Works but only evolves within existing boundary -- needs better initial condition to observe behavior\n",
      "# Du, Dv, F, k = 0.00019, 0.00005, 0.060, 0.062 # Fingerprint\n",
      "\n",
      "# Expands and then disappears -- unless it's still unstable -- might need curvier initial conditions\n",
      "# Du, Dv, F, k = 0.00010, 0.00010, 0.018, 0.050 # Spirals\n",
      "# Du, Dv, F, k = 0.00012, 0.00008, 0.020, 0.050 # Spirals Dense\n",
      "# Du, Dv, F, k = 0.00010, 0.00016, 0.020, 0.050 # Spirals Fast\n",
      "\n",
      "# Cool evolving patterns\n",
      "#Du, Dv, F, k = 0.00016, 0.00008, 0.020, 0.055 # Unstable\n",
      "\n",
      "# All of these work\n",
      "#Du, Dv, F, k = 0.00016, 0.00008, 0.050, 0.065 # Worms 1\n",
      "# Du, Dv, F, k = 0.00016, 0.00008, 0.054, 0.063 # Worms 2\n",
      "# Du, Dv, F, k = 0.00016, 0.00008, 0.035, 0.060 # Zebrafish"
     ],
     "language": "python",
     "metadata": {},
     "outputs": []
    },
    {
     "cell_type": "markdown",
     "metadata": {},
     "source": [
      "Stability CFL: \n",
      "\n",
      "$$\\Delta t \\leq \\frac{1}{4}\\frac{\\Delta h^2}{max(D_u, D_v)}$$"
     ]
    },
    {
     "cell_type": "code",
     "collapsed": false,
     "input": [
      "nx = n\n",
      "ny = n\n",
      "\n",
      "dx = 5./(nx-1)\n",
      "\n",
      "dh = dx\n",
      "T = 8000\n",
      "\n",
      "#dt = .0005 #dh**2/(5.*kappa)\n",
      "\n",
      "dt = .9*dx**2 / (4*max(Du,Dv))\n",
      "\n",
      "nt = int(T/dt)\n"
     ],
     "language": "python",
     "metadata": {},
     "outputs": []
    },
    {
     "cell_type": "code",
     "collapsed": false,
     "input": [
      "nt"
     ],
     "language": "python",
     "metadata": {},
     "outputs": []
    },
    {
     "cell_type": "code",
     "collapsed": false,
     "input": [
      "num_blocks = 30\n",
      "randx = numpy.random.randint(10, nx-1, num_blocks)\n",
      "randy = numpy.random.randint(10, nx-1, num_blocks)"
     ],
     "language": "python",
     "metadata": {},
     "outputs": []
    },
    {
     "cell_type": "code",
     "collapsed": false,
     "input": [
      "U = numpy.zeros((n,n))\n",
      "V = U.copy()\n",
      "#u,v = U[1:-1,1:-1], V[1:-1,1:-1]\n",
      "\n",
      "r = 10\n",
      "U[:,:] = 1.0\n",
      "#i, j = nx/2., nx/2.\n",
      "for i, j in zip(randx, randy):\n",
      "    U[i-r:i+r,j-r:j+r] = 0.50\n",
      "    V[i-r:i+r,j-r:j+r] = 0.25\n",
      "\n",
      "U += 0.05*numpy.random.random((n,n))\n",
      "V += 0.05*numpy.random.random((n,n))"
     ],
     "language": "python",
     "metadata": {},
     "outputs": []
    },
    {
     "cell_type": "code",
     "collapsed": false,
     "input": [
      "fig = plt.figure(figsize=(8,5))\n",
      "plt.subplot(121)\n",
      "plt.imshow(U, cmap = cm.RdBu)\n",
      "plt.xticks([]), plt.yticks([]);\n",
      "plt.subplot(122)\n",
      "plt.imshow(V, cmap = cm.RdBu)\n",
      "plt.xticks([]), plt.yticks([]);\n",
      "#fig.add_axes([0.0, 0.0, 1.0, 1.0], frameon=False)\n",
      "#im = plt.imshow(V, interpolation='bicubic', cmap=plt.cm.gray_r)\n",
      "#plt.xticks([]), plt.yticks([]);"
     ],
     "language": "python",
     "metadata": {},
     "outputs": []
    },
    {
     "cell_type": "code",
     "collapsed": false,
     "input": [
      "nt"
     ],
     "language": "python",
     "metadata": {},
     "outputs": []
    },
    {
     "cell_type": "code",
     "collapsed": false,
     "input": [
      "u = reaction_diffusion(U, V, dh, dt, nt, Du, Dv, F, k)\n"
     ],
     "language": "python",
     "metadata": {},
     "outputs": []
    },
    {
     "cell_type": "code",
     "collapsed": false,
     "input": [
      "fig = plt.figure(figsize=(8,5), dpi=72)\n",
      "\n",
      "img = plt.imshow(u[0],cmap = cm.RdBu)\n",
      "\n",
      "def animate(data):\n",
      "    img.set_array(data)\n",
      "    return img,\n",
      "\n",
      "anim = animation.FuncAnimation(fig, animate, frames=u[:,1:-1,1:-1], interval=75)\n",
      "display_animation(anim, default_mode='once')"
     ],
     "language": "python",
     "metadata": {},
     "outputs": []
    },
    {
     "cell_type": "code",
     "collapsed": false,
     "input": [
      "u.shape"
     ],
     "language": "python",
     "metadata": {},
     "outputs": []
    },
    {
     "cell_type": "code",
     "collapsed": false,
     "input": [
      "plt.figure(figsize=(11,8))\n",
      "plt.imshow(u[-1,:,:],cmap = cm.RdBu)"
     ],
     "language": "python",
     "metadata": {},
     "outputs": []
    },
    {
     "cell_type": "code",
     "collapsed": false,
     "input": [
      "anim.save('spiralsdense.gif', writer='imagemagick', fps=15)"
     ],
     "language": "python",
     "metadata": {},
     "outputs": []
    },
    {
     "cell_type": "code",
     "collapsed": false,
     "input": [
      "%ls"
     ],
     "language": "python",
     "metadata": {},
     "outputs": []
    },
    {
     "cell_type": "code",
     "collapsed": false,
     "input": [],
     "language": "python",
     "metadata": {},
     "outputs": []
    },
    {
     "cell_type": "heading",
     "level": 2,
     "metadata": {},
     "source": [
      "References"
     ]
    },
    {
     "cell_type": "markdown",
     "metadata": {},
     "source": [
      "*  http://www.karlsims.com/rd.html\n",
      "*  Pearson, J. E. (1993). Complex patterns in a simple system. Science, 261(5118), 189-192."
     ]
    },
    {
     "cell_type": "markdown",
     "metadata": {},
     "source": [
      "---\n",
      "###### The cell below loads the style of the notebook"
     ]
    },
    {
     "cell_type": "code",
     "collapsed": false,
     "input": [
      "from IPython.core.display import HTML\n",
      "css_file = '../../styles/numericalmoocstyle.css'\n",
      "HTML(open(css_file, \"r\").read())"
     ],
     "language": "python",
     "metadata": {},
     "outputs": []
    }
   ],
   "metadata": {}
  }
 ]
}