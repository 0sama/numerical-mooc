{
 "metadata": {
  "name": "",
  "signature": "sha256:cb0c89ab303ab1fabfa5a7e37cb4611f350179033a0e6e82960625cf15e2459b"
 },
 "nbformat": 3,
 "nbformat_minor": 0,
 "worksheets": [
  {
   "cells": [
    {
     "cell_type": "heading",
     "level": 6,
     "metadata": {},
     "source": [
      "Content under Creative Commons Attribution license CC-BY 4.0, code under MIT license (c)2014 L.A. Barba, G.F. Forsyth, C.D. Cooper."
     ]
    },
    {
     "cell_type": "heading",
     "level": 1,
     "metadata": {},
     "source": [
      "Spreading out"
     ]
    },
    {
     "cell_type": "markdown",
     "metadata": {},
     "source": [
      "Welcome! This is the third lesson of the course module: \"_Spreading out: parabolic PDEs.\"_ \n",
      "\n",
      "So far, we've looked at the 1D heat equation, and solved it numerically using [*explicit*](https://github.com/numerical-mooc/numerical-mooc/blob/master/lessons/04_spreadout/01_Heat_Equation_1D_Explicit.ipynb) and [*implicit*](https://github.com/numerical-mooc/numerical-mooc/blob/master/lessons/04_spreadout/02_Heat_Equation_1D_Implicit.ipynb) schemes in the first two notebooks. We learned that implicit schemes are unconditionally stable, and we are free to choose any time step. Any time step? Remember, we still want to capture the physics of the problem accurately. \n",
      "\n",
      "We are ready to move on to 2D! In the remaining notebooks of this module, we will study 2D cases of the heat equation and the reaction-diffusion equation."
     ]
    },
    {
     "cell_type": "heading",
     "level": 2,
     "metadata": {},
     "source": [
      "2D Heat Conduction"
     ]
    },
    {
     "cell_type": "markdown",
     "metadata": {},
     "source": [
      "The heat conduction equation in 2D is given as:\n",
      "\n",
      "\\begin{equation}\n",
      "\\rho c_p \\frac{\\partial T}{\\partial t} = \\frac{\\partial}{\\partial x} \\left( \\kappa_x \\frac{\\partial T}{\\partial x} \\right) + \\frac{\\partial}{\\partial y} \\left(\\kappa_y \\frac{\\partial T}{\\partial y} \\right)\n",
      "\\end{equation}"
     ]
    },
    {
     "cell_type": "markdown",
     "metadata": {},
     "source": [
      "where $\\rho$ is the density, $c_p$ is the heat capacity and $\\kappa$ is the thermal conductivity."
     ]
    },
    {
     "cell_type": "markdown",
     "metadata": {},
     "source": [
      "If we assume that the thermal conductivity, $\\kappa$, is constant then we can take it outside of the partial derivative term and the conduction equation simplifies to\n",
      "\n",
      "\\begin{equation}\n",
      "\\frac{\\partial T}{\\partial t} = \\alpha \\left(\\frac{\\partial^2 T}{\\partial x^2} + \\frac{\\partial^2 T}{\\partial y^2} \\right)\n",
      "\\end{equation}\n",
      "\n",
      "where $\\alpha = \\frac{\\kappa}{\\rho C_p}$ is the thermal diffusivity.  The thermal diffusivity describes the ability of a material to conduct heat vs store it."
     ]
    },
    {
     "cell_type": "markdown",
     "metadata": {},
     "source": [
      "Does that equation have any familiar looking terms in it?  That's because it's the same as the diffusion equation.  There's a reason that $\\alpha$ is called the thermal *diffusivity*.  "
     ]
    },
    {
     "cell_type": "heading",
     "level": 2,
     "metadata": {},
     "source": [
      "Problem statement"
     ]
    },
    {
     "cell_type": "markdown",
     "metadata": {},
     "source": [
      "Removing heat out of micro-chips is a big problem in the computer industry. We are at the point that computers can't run much faster because the chips might start failing due to temperature! Let's study this problem more closely.\n",
      "\n",
      "We want to understand how heat is dissipated from the chip with a very simplified model. Say we consider the chip as a 2D plate $(1cm\\times 1cm)$ made of silicon $(\\kappa = 159W/m ^\\circ C, c_p = 0.712\\cdot 10^3 J/kg^\\circ C, \\rho = 2329kg/m^3)$, with diffusivity $\\alpha \\approx 10^{-4}$. Silicon melts at $1414^\\circ C$, but it is recommended that chips not operate at more than $\\sim70^\\circ C$ (need to find better source for this number)\n",
      "\n",
      "Say the chip is in a position where on two edges (top and right) it is in contact with insulating material, and on the other two, with other components that have a constant temperature of $T=100^\\circ C$ when the machine is working. Initially, the chip is at room temperature $(20^\\circ C)$. *How long does it take for the center of the chip to reach $70^\\circ C?$*\n",
      "\n",
      "Let's use what we have learned to tackle this problem!"
     ]
    },
    {
     "cell_type": "heading",
     "level": 2,
     "metadata": {},
     "source": [
      "2D Finite-differences"
     ]
    },
    {
     "cell_type": "markdown",
     "metadata": {},
     "source": [
      "Everything you learned about Finite-differences in [Module 2, Notebook 1](http://nbviewer.ipython.org/github/numerical-mooc/numerical-mooc/blob/master/lessons/02_spacetime/02_01_1DConvection.ipynb) still applies, but now there are two spatial dimensions.  \n",
      "\n",
      "Spatial nodes in the $x$ direction are discretized into $i$ points, while spatial nodes in the $y$ direction are discretized into $j$ points.  \n",
      "\n",
      "A given node will now have two spatial coordinates.  The middle point in the figure below we can call $T_{i,j}$."
     ]
    },
    {
     "cell_type": "markdown",
     "metadata": {},
     "source": [
      "<img src=\"./figures/2dgrid.svg\">"
     ]
    },
    {
     "cell_type": "heading",
     "level": 3,
     "metadata": {},
     "source": [
      "Explicit scheme in 2D"
     ]
    },
    {
     "cell_type": "markdown",
     "metadata": {},
     "source": [
      "Our first attempt will be with an explicit scheme. The 2D heat conduction equation, discretized forward in time, central in space is \n",
      "\n",
      "\\begin{equation}\n",
      "\\frac{T^{n+1}_{i,j} - T^n_{i,j}}{\\Delta t} = \\alpha \\left( \\frac{T^n_{i+1, j} - 2T^n_{i,j} + T^n_{i-1,j}}{\\Delta x^2} + \\frac{T^n_{i, j+1} - 2T^n_{i,j} + T^n_{i,j-1}}{\\Delta y^2}\\right)\n",
      "\\end{equation}"
     ]
    },
    {
     "cell_type": "markdown",
     "metadata": {},
     "source": [
      "But we are interested in solving for $T^{n+1}_{i,j}$\n",
      "\n",
      "\\begin{equation}\n",
      "T^{n+1}_{i,j}= T^n_{i,j} + \\alpha \\left( \\frac{\\Delta t}{\\Delta x^2} (T^n_{i+1, j} - 2T^n_{i,j} + T^n_{i-1,j}) + \\frac{\\Delta t}{\\Delta y^2} (T^n_{i, j+1} - 2T^n_{i,j} + T^n_{i,j-1})\\right)\n",
      "\\end{equation}\n",
      "\n",
      "In this case, the stencil looks like"
     ]
    },
    {
     "cell_type": "markdown",
     "metadata": {},
     "source": [
      "<img src=\"./figures/2d_stencil.svg\">"
     ]
    },
    {
     "cell_type": "markdown",
     "metadata": {},
     "source": [
      "Whenever we reach a point that needs to read a point from the boundary, we apply the boundary condition. Like in the previous notebook, if the boundary has Dirichlet conditions, we just fetch the prescribed temperature at that point. If the boundary conditions are of Neumann type, we discretize them with a finite-difference approximation.\n",
      "\n",
      "Remember, Neumann boundary conditions prescribe the derivative in the normal direction. For example, in the problem described above, we have $\\frac{\\partial T}{\\partial y} = q_y$ in the top boundary and $\\frac{\\partial T}{\\partial x} = q_x$ in the right boundary, with $q_y = q_x = 0$.\n",
      "\n",
      "Then, at every time step, we need to enforce\n",
      "\n",
      "\\begin{equation}\n",
      "T_{i,j-1} = q_y\\cdot\\Delta y + T_{i,j-2}\n",
      "\\end{equation}\n",
      "\n",
      "and\n",
      "\n",
      "\\begin{equation}\n",
      "T_{i-1,j} = q_x\\cdot\\Delta x + T_{i-2,j}\n",
      "\\end{equation}"
     ]
    },
    {
     "cell_type": "markdown",
     "metadata": {},
     "source": [
      "Just like in the physical problem, we will store the temperatures in a 2D array. We chose to store it with the $y$ direction varying with the first index and $x$ varying with the last index (this is just a code design decision!). Then, being consistent with the stencil formula, where $x$ is related with $i$ and $y$ with $j$, $T_{i,j}$ will be stored in `T[j,i]`."
     ]
    },
    {
     "cell_type": "heading",
     "level": 3,
     "metadata": {},
     "source": [
      "Stability"
     ]
    },
    {
     "cell_type": "markdown",
     "metadata": {},
     "source": [
      "Before moving to any coding, let's revisit stability constraints. In 1D, we saw in the first notebook of this series that the explicit discretization of the diffusion equation was stable as long as $\\alpha \\frac{\\Delta t}{(\\Delta x)^2} \\leq \\frac{1}{2}$. In 2D, this constraint is even tighter, as we need to add them in both directions:\n",
      "\n",
      "\\begin{equation}\n",
      "\\alpha \\frac{\\Delta t}{(\\Delta x)^2} + \\alpha \\frac{\\Delta t}{(\\Delta y)^2} < \\frac{1}{2}.\n",
      "\\end{equation}\n",
      "\n",
      "Say that the mesh has the same spacing in $x$ and $y$, $\\Delta x = \\Delta y = \\delta$. The stability condition is\n",
      "\n",
      "\\begin{equation}\n",
      "\\alpha \\frac{\\Delta t}{\\delta^2} < \\frac{1}{4}\n",
      "\\end{equation}"
     ]
    },
    {
     "cell_type": "heading",
     "level": 2,
     "metadata": {},
     "source": [
      "Implementation"
     ]
    },
    {
     "cell_type": "markdown",
     "metadata": {},
     "source": [
      "Now, to some coding! This little function will advance the solution in time for us with a forward in time, central in space scheme, and will monitor the center of the plate to tell us when it reaches $70^\\circ C$."
     ]
    },
    {
     "cell_type": "code",
     "collapsed": false,
     "input": [
      "import numpy\n",
      "import matplotlib.pyplot as plt\n",
      "%matplotlib inline\n",
      "from matplotlib import rcParams\n",
      "rcParams['font.family'] = 'serif'\n",
      "rcParams['font.size'] = 16"
     ],
     "language": "python",
     "metadata": {},
     "outputs": [],
     "prompt_number": 2
    },
    {
     "cell_type": "code",
     "collapsed": false,
     "input": [
      "def ftcs(T, nt, alpha, dt, dx, dy):\n",
      "\n",
      "    j_mid = (numpy.shape(T)[0]+1)/2\n",
      "    i_mid = (numpy.shape(T)[1]+1)/2\n",
      "    \n",
      "    for n in range(nt):\n",
      "        Tn = T.copy()\n",
      "        T[1:-1,1:-1] = Tn[1:-1,1:-1] + alpha *\\\n",
      "            (dt/dy**2 * (Tn[2:,1:-1] - 2*Tn[1:-1,1:-1] + Tn[:-2,1:-1]) +\\\n",
      "             dt/dx**2 * (Tn[1:-1,2:] - 2*Tn[1:-1,1:-1] + Tn[1:-1,:-2]))\n",
      "  \n",
      "        # Enforce Neumann BCs\n",
      "        T[-1,:] = T[-2,:]\n",
      "        T[:,-1] = T[:,-2]\n",
      "        \n",
      "        # Check if we reached T=70C\n",
      "        if T[j_mid, i_mid] >= 70:\n",
      "            print (\"Center of plate reached 70C at time {0:.2f}s.\".format(dt*n))\n",
      "            break\n",
      "        \n",
      "    if T[j_mid, i_mid]<70:\n",
      "        print (\"Center has not reached 70C yet, it is only {0:.2f}C.\".format(T[j_mid, i_mid]))\n",
      "        \n",
      "    return T"
     ],
     "language": "python",
     "metadata": {},
     "outputs": [],
     "prompt_number": 3
    },
    {
     "cell_type": "markdown",
     "metadata": {},
     "source": [
      "See the [`break`](https://docs.python.org/2/tutorial/controlflow.html) statement? It exits the closest `for` loop when the plate reaches $70^\\circ C$."
     ]
    },
    {
     "cell_type": "markdown",
     "metadata": {},
     "source": [
      "And here we define our initial conditions"
     ]
    },
    {
     "cell_type": "code",
     "collapsed": false,
     "input": [
      "L = 1.0e-2\n",
      "H = 1.0e-2\n",
      "\n",
      "nx = 21\n",
      "ny = 21\n",
      "nt = 500\n",
      "\n",
      "dx = L/(nx-1)\n",
      "dy = H/(ny-1)\n",
      "\n",
      "x = numpy.linspace(0,L,nx)\n",
      "y = numpy.linspace(0,H,ny)\n",
      "\n",
      "alpha = 1e-4\n",
      "\n",
      "Ti = numpy.ones((ny, nx))*20\n",
      "Ti[0,:]= 100\n",
      "Ti[:,0] = 100"
     ],
     "language": "python",
     "metadata": {},
     "outputs": [],
     "prompt_number": 4
    },
    {
     "cell_type": "markdown",
     "metadata": {},
     "source": [
      "We are good to go! We don't want our solution blowing up, so let's try $\\frac{\\alpha \\Delta t}{\\Delta x^2} = \\frac{\\alpha \\Delta t}{\\Delta y^2} = \\frac{1}{4}$:"
     ]
    },
    {
     "cell_type": "code",
     "collapsed": false,
     "input": [
      "sigma = 0.25\n",
      "dt = sigma * min(dx, dy)**2 / alpha\n",
      "T=Ti.copy()\n",
      "T = ftcs(T, nt, alpha, dt, dx, dy)"
     ],
     "language": "python",
     "metadata": {},
     "outputs": [
      {
       "output_type": "stream",
       "stream": "stdout",
       "text": [
        "Center of plate reached 70C at time 0.18s.\n"
       ]
      }
     ],
     "prompt_number": 5
    },
    {
     "cell_type": "code",
     "collapsed": false,
     "input": [
      "my, mx = numpy.meshgrid(y,x)"
     ],
     "language": "python",
     "metadata": {},
     "outputs": [],
     "prompt_number": 6
    },
    {
     "cell_type": "code",
     "collapsed": false,
     "input": [
      "plt.figure(figsize=(8,5))\n",
      "plt.contourf(my,mx,T,20)\n",
      "plt.xlabel('$x$')\n",
      "plt.ylabel('$y$')\n",
      "plt.colorbar();"
     ],
     "language": "python",
     "metadata": {},
     "outputs": [
      {
       "metadata": {},
       "output_type": "display_data",
       "png": "[encoded data removed]",
       "text": [
        "<matplotlib.figure.Figure at 0x7fdcd368ab90>"
       ]
      }
     ],
     "prompt_number": 11
    },
    {
     "cell_type": "heading",
     "level": 2,
     "metadata": {},
     "source": [
      "Reaction-Diffusion"
     ]
    },
    {
     "cell_type": "heading",
     "level": 3,
     "metadata": {},
     "source": [
      "Gray-Scott Model"
     ]
    },
    {
     "cell_type": "markdown",
     "metadata": {},
     "source": [
      "\\begin{align}\n",
      "\\frac{\\partial u}{\\partial t} &= D_u \\nabla ^2 u - uv^2 + F(1-u)\\\\\n",
      "\\frac{\\partial v}{\\partial t} &= D_v \\nabla ^2 v + uv^2 - (F + k)v\n",
      "\\end{align}"
     ]
    },
    {
     "cell_type": "markdown",
     "metadata": {},
     "source": [
      "$D_u$ and $D_v$ are the respective rates of diffusion for particle fields $u$ and $v$.\n",
      "\n",
      "Gray Scott says that\n",
      "\n",
      "$$U + 2V \\rightarrow 3V$$\n",
      "\n",
      "$$V \\rightarrow P$$\n",
      "\n",
      "where $P$ is inert\n",
      "\n",
      "$uv^2$ is the probability that 1 particle of $u$ and 2 particles of $v$ are in the same vicinity.  \n",
      "\n",
      "$F$ is the feed-rate of new $u$ into the system, scaled so that it doesn't exceed 1.\n",
      "\n",
      "$F+k$ is the kill rate"
     ]
    },
    {
     "cell_type": "markdown",
     "metadata": {},
     "source": [
      "where $D_u$, $D_v$, $F$, and $k$ are assumed to be constants and $\\nabla ^2$ is the Laplacian where\n",
      "\n",
      "\\begin{equation}\n",
      "\\nabla ^2 u = \\frac{\\partial ^2 u}{\\partial x^2} + \\frac{\\partial ^2 u}{\\partial y^2}\n",
      "\\end{equation}"
     ]
    },
    {
     "cell_type": "markdown",
     "metadata": {},
     "source": [
      "\\begin{align}\n",
      "\\frac{\\partial u}{\\partial t} &= D_u \\nabla ^2 u + f(u,v)\\\\\n",
      "\\frac{\\partial v}{\\partial t} &= D_v \\nabla ^2 v + g(u,v)\n",
      "\\end{align}\n",
      "\n",
      "with\n",
      "\n",
      "\\begin{align}\n",
      "f(u,v) &= -uv^2 + F(1-u)\\\\\n",
      "g(u,v) &= uv^2 - (F + k)v\n",
      "\\end{align}"
     ]
    },
    {
     "cell_type": "code",
     "collapsed": false,
     "input": [
      "from matplotlib import animation\n",
      "from JSAnimation.IPython_display import display_animation"
     ],
     "language": "python",
     "metadata": {},
     "outputs": []
    },
    {
     "cell_type": "code",
     "collapsed": false,
     "input": [
      "def f(u,v,F):\n",
      "    return -u*v**2 + F*(1-u)\n",
      "\n",
      "def g(u,v,F,k):\n",
      "    return u*v**2 - (F + k)*v"
     ],
     "language": "python",
     "metadata": {},
     "outputs": []
    },
    {
     "cell_type": "markdown",
     "metadata": {},
     "source": [
      "\\begin{equation}\n",
      "u^{n+1}_{i,j}= u^n_{i,j} + D_u \\left( \\frac{\\Delta t}{\\Delta x^2} (u^n_{i+1, j} - 2u^n_{i,j} + u^n_{i-1,j}) + \\frac{\\Delta t}{\\Delta y^2} (u^n_{i, j+1} - 2u^n_{i,j} + u^n_{i,j-1})\\right) + f(u,v)\n",
      "\\end{equation}"
     ]
    },
    {
     "cell_type": "markdown",
     "metadata": {},
     "source": [
      "Assume $\\Delta x = \\Delta y = \\Delta h$\n",
      "\n",
      "\\begin{equation}\n",
      "u^{n+1}_{i,j}= u^n_{i,j} + D_u \\left( \\frac{\\Delta t}{\\Delta h^2} (u^n_{i+1, j} + u^n_{i, j+1} - 4u^n_{i,j} + u^n_{i-1,j} + u^n_{i,j-1})\\right) + f(u,v)\n",
      "\\end{equation}"
     ]
    },
    {
     "cell_type": "markdown",
     "metadata": {},
     "source": [
      "save all of u iterations for animation, but only save temp V for memory"
     ]
    },
    {
     "cell_type": "code",
     "collapsed": false,
     "input": [
      "def reaction_diffusion(U, V, dh, dt, nt, Du, Dv, F, k):\n",
      "    \n",
      "    framerate = 100\n",
      "    u_all = numpy.zeros((nt/framerate+1, U.shape[0], U.shape[1]))\n",
      "    frame = 1\n",
      "    #v_all = u_all.copy()\n",
      "    \n",
      "    \n",
      "    u_all[:,:,:] = U.copy()\n",
      "    #v_all[:,:,:] = V.copy()\n",
      "    \n",
      "    Lu = numpy.ones_like(U)\n",
      "    Lv = numpy.zeros_like(U)\n",
      "    \n",
      "    for n in xrange(1,nt):\n",
      "        Lu[1:-1,1:-1] = dt/dh**2*(U[0:-2,1:-1] + U[1:-1,0:-2] - \\\n",
      "                  4*U[1:-1,1:-1] + U[1:-1,2:] + U[2:,1:-1] )\n",
      "        Lv[1:-1,1:-1] = dt/dh**2*(V[0:-2,1:-1] + V[1:-1,0:-2] - \\\n",
      "                    4*V[1:-1,1:-1] + V[1:-1,2:] + V[2:,1:-1] )\n",
      "        \n",
      "        #u_all[n,:,:] = u_all[n-1,:,:] + Du*Lu + f(U,V,F)#*dt\n",
      "        #v_all[n,:,:] = v_all[n-1,:,:] + Dv*Lv + g(U,V,F,k)#*dt\n",
      "        \n",
      "        U += Du*Lu + f(U,V,F)*dt\n",
      "        V += Dv*Lv + g(U,V,F,k)*dt\n",
      "        \n",
      "        #u_all[n,:,0] = u_all[n,:,-2]\n",
      "        #u_all[n,:,-1] = u_all[n,:,1]\n",
      "        #u_all[n,0,:] = u_all[n,-2,:]\n",
      "        #u_all[n,-1,:] = u_all[n,1,:]\n",
      "        \n",
      "        #U = u_all[n,:,:].copy()\n",
      "        #V = v_all[n,:,:].copy()\n",
      "        \n",
      "        \n",
      "        U[:,0] = U[:,-2]\n",
      "        U[:,-1] = U[:,1]\n",
      "        U[0,:] = U[-2,:]\n",
      "        U[-1,:] = U[1,:]\n",
      "        \n",
      "        V[:,0] = V[:,-2]\n",
      "        V[:,-1] = V[:,1]\n",
      "        V[0,:] = V[-2,:]\n",
      "        V[-1,:] = V[1,:]\n",
      "        \n",
      "        if n % framerate == 0:\n",
      "            u_all[frame,:,:] = U.copy()\n",
      "            frame += 1\n",
      "        \n",
      "        #U = u_all[n].copy()\n",
      "        #V = v_all[n].copy()\n",
      "        \n",
      "        #U[:,0] = U[:,-1]\n",
      "        #U[0,:] = U[-1,:]\n",
      "        #V[:,0] = V[:,-1]\n",
      "        #V[0,:] = V[-1,:]\n",
      "        \n",
      "    return u_all#, V, #v_all\n",
      "\n"
     ],
     "language": "python",
     "metadata": {},
     "outputs": []
    },
    {
     "cell_type": "code",
     "collapsed": false,
     "input": [
      "# Parameters from http://www.aliensaint.com/uo/java/rd/\n",
      "# -----------------------------------------------------\n",
      "n = 192\n",
      "# Cell division: Works well but is slow to evolve\n",
      "#Du, Dv, F, k = 0.00016, 0.00008, 0.035, 0.065 # Bacteria 1 \n",
      "\n",
      "\n",
      "# Much faster to evolve\n",
      "#Du, Dv, F, k = 0.00014, 0.00006, 0.035, 0.065 # Bacteria 2\n",
      "\n",
      "# Works well\n",
      "Du, Dv, F, k = 0.00016, 0.00008, 0.060, 0.062 # Coral\n",
      "\n",
      "# Works but only evolves within existing boundary -- needs better initial condition to observe behavior\n",
      "# Du, Dv, F, k = 0.00019, 0.00005, 0.060, 0.062 # Fingerprint\n",
      "\n",
      "# Expands and then disappears -- unless it's still unstable -- might need curvier initial conditions\n",
      "# Du, Dv, F, k = 0.00010, 0.00010, 0.018, 0.050 # Spirals\n",
      "# Du, Dv, F, k = 0.00012, 0.00008, 0.020, 0.050 # Spirals Dense\n",
      "# Du, Dv, F, k = 0.00010, 0.00016, 0.020, 0.050 # Spirals Fast\n",
      "\n",
      "# Cool evolving patterns\n",
      "#Du, Dv, F, k = 0.00016, 0.00008, 0.020, 0.055 # Unstable\n",
      "\n",
      "# All of these work\n",
      "#Du, Dv, F, k = 0.00016, 0.00008, 0.050, 0.065 # Worms 1\n",
      "# Du, Dv, F, k = 0.00016, 0.00008, 0.054, 0.063 # Worms 2\n",
      "# Du, Dv, F, k = 0.00016, 0.00008, 0.035, 0.060 # Zebrafish"
     ],
     "language": "python",
     "metadata": {},
     "outputs": []
    },
    {
     "cell_type": "markdown",
     "metadata": {},
     "source": [
      "Stability CFL: \n",
      "\n",
      "$$\\Delta t \\leq \\frac{1}{4}\\frac{\\Delta h^2}{max(D_u, D_v)}$$"
     ]
    },
    {
     "cell_type": "code",
     "collapsed": false,
     "input": [
      "nx = n\n",
      "ny = n\n",
      "\n",
      "dx = 5./(nx-1)\n",
      "\n",
      "dh = dx\n",
      "T = 8000\n",
      "\n",
      "#dt = .0005 #dh**2/(5.*kappa)\n",
      "\n",
      "dt = .9*dx**2 / (4*max(Du,Dv))\n",
      "\n",
      "nt = int(T/dt)\n"
     ],
     "language": "python",
     "metadata": {},
     "outputs": []
    },
    {
     "cell_type": "code",
     "collapsed": false,
     "input": [
      "nt"
     ],
     "language": "python",
     "metadata": {},
     "outputs": []
    },
    {
     "cell_type": "code",
     "collapsed": false,
     "input": [
      "num_blocks = 30\n",
      "randx = numpy.random.randint(10, nx-1, num_blocks)\n",
      "randy = numpy.random.randint(10, nx-1, num_blocks)"
     ],
     "language": "python",
     "metadata": {},
     "outputs": []
    },
    {
     "cell_type": "code",
     "collapsed": false,
     "input": [
      "U = numpy.zeros((n,n))\n",
      "V = U.copy()\n",
      "#u,v = U[1:-1,1:-1], V[1:-1,1:-1]\n",
      "\n",
      "r = 10\n",
      "U[:,:] = 1.0\n",
      "#i, j = nx/2., nx/2.\n",
      "for i, j in zip(randx, randy):\n",
      "    U[i-r:i+r,j-r:j+r] = 0.50\n",
      "    V[i-r:i+r,j-r:j+r] = 0.25\n",
      "\n",
      "U += 0.05*numpy.random.random((n,n))\n",
      "V += 0.05*numpy.random.random((n,n))"
     ],
     "language": "python",
     "metadata": {},
     "outputs": []
    },
    {
     "cell_type": "code",
     "collapsed": false,
     "input": [
      "fig = plt.figure(figsize=(8,5))\n",
      "plt.subplot(121)\n",
      "plt.imshow(U, cmap = cm.RdBu)\n",
      "plt.xticks([]), plt.yticks([]);\n",
      "plt.subplot(122)\n",
      "plt.imshow(V, cmap = cm.RdBu)\n",
      "plt.xticks([]), plt.yticks([]);\n",
      "#fig.add_axes([0.0, 0.0, 1.0, 1.0], frameon=False)\n",
      "#im = plt.imshow(V, interpolation='bicubic', cmap=plt.cm.gray_r)\n",
      "#plt.xticks([]), plt.yticks([]);"
     ],
     "language": "python",
     "metadata": {},
     "outputs": []
    },
    {
     "cell_type": "code",
     "collapsed": false,
     "input": [
      "nt"
     ],
     "language": "python",
     "metadata": {},
     "outputs": []
    },
    {
     "cell_type": "code",
     "collapsed": false,
     "input": [
      "u = reaction_diffusion(U, V, dh, dt, nt, Du, Dv, F, k)\n"
     ],
     "language": "python",
     "metadata": {},
     "outputs": []
    },
    {
     "cell_type": "code",
     "collapsed": false,
     "input": [
      "fig = plt.figure(figsize=(8,5), dpi=72)\n",
      "\n",
      "img = plt.imshow(u[0],cmap = cm.RdBu)\n",
      "\n",
      "def animate(data):\n",
      "    img.set_array(data)\n",
      "    return img,\n",
      "\n",
      "anim = animation.FuncAnimation(fig, animate, frames=u[:,1:-1,1:-1], interval=75)\n",
      "display_animation(anim, default_mode='once')"
     ],
     "language": "python",
     "metadata": {},
     "outputs": []
    },
    {
     "cell_type": "code",
     "collapsed": false,
     "input": [
      "u.shape"
     ],
     "language": "python",
     "metadata": {},
     "outputs": []
    },
    {
     "cell_type": "code",
     "collapsed": false,
     "input": [
      "plt.figure(figsize=(11,8))\n",
      "plt.imshow(u[-1,:,:],cmap = cm.RdBu)"
     ],
     "language": "python",
     "metadata": {},
     "outputs": []
    },
    {
     "cell_type": "code",
     "collapsed": false,
     "input": [
      "anim.save('spiralsdense.gif', writer='imagemagick', fps=15)"
     ],
     "language": "python",
     "metadata": {},
     "outputs": []
    },
    {
     "cell_type": "code",
     "collapsed": false,
     "input": [
      "%ls"
     ],
     "language": "python",
     "metadata": {},
     "outputs": []
    },
    {
     "cell_type": "code",
     "collapsed": false,
     "input": [],
     "language": "python",
     "metadata": {},
     "outputs": []
    },
    {
     "cell_type": "heading",
     "level": 2,
     "metadata": {},
     "source": [
      "References"
     ]
    },
    {
     "cell_type": "markdown",
     "metadata": {},
     "source": [
      "*  http://www.karlsims.com/rd.html\n",
      "*  Pearson, J. E. (1993). Complex patterns in a simple system. Science, 261(5118), 189-192."
     ]
    },
    {
     "cell_type": "markdown",
     "metadata": {},
     "source": [
      "---\n",
      "###### The cell below loads the style of the notebook"
     ]
    },
    {
     "cell_type": "code",
     "collapsed": false,
     "input": [
      "from IPython.core.display import HTML\n",
      "css_file = '../../styles/numericalmoocstyle.css'\n",
      "HTML(open(css_file, \"r\").read())"
     ],
     "language": "python",
     "metadata": {},
     "outputs": [
      {
       "html": [
        "<link href='http://fonts.googleapis.com/css?family=Alegreya+Sans:100,300,400,500,700,800,900,100italic,300italic,400italic,500italic,700italic,800italic,900italic' rel='stylesheet' type='text/css'>\n",
        "<link href='http://fonts.googleapis.com/css?family=Arvo:400,700,400italic' rel='stylesheet' type='text/css'>\n",
        "<link href='http://fonts.googleapis.com/css?family=PT+Mono' rel='stylesheet' type='text/css'>\n",
        "<link href='http://fonts.googleapis.com/css?family=Shadows+Into+Light' rel='stylesheet' type='text/css'>\n",
        "<link href='http://fonts.googleapis.com/css?family=Nixie+One' rel='stylesheet' type='text/css'>\n",
        "<style>\n",
        "\n",
        "@font-face {\n",
        "    font-family: \"Computer Modern\";\n",
        "    src: url('http://mirrors.ctan.org/fonts/cm-unicode/fonts/otf/cmunss.otf');\n",
        "}\n",
        "\n",
        "#notebook_panel { /* main background */\n",
        "    background: rgb(245,245,245);\n",
        "}\n",
        "\n",
        "div.cell { /* set cell width */\n",
        "    width: 750px;\n",
        "}\n",
        "\n",
        "div #notebook { /* centre the content */\n",
        "    background: #fff; /* white background for content */\n",
        "    width: 1000px;\n",
        "    margin: auto;\n",
        "    padding-left: 0em;\n",
        "}\n",
        "\n",
        "#notebook li { /* More space between bullet points */\n",
        "margin-top:0.8em;\n",
        "}\n",
        "\n",
        "/* draw border around running cells */\n",
        "div.cell.border-box-sizing.code_cell.running { \n",
        "    border: 1px solid #111;\n",
        "}\n",
        "\n",
        "/* Put a solid color box around each cell and its output, visually linking them*/\n",
        "div.cell.code_cell {\n",
        "    background-color: rgb(256,256,256); \n",
        "    border-radius: 0px; \n",
        "    padding: 0.5em;\n",
        "    margin-left:1em;\n",
        "    margin-top: 1em;\n",
        "}\n",
        "\n",
        "div.text_cell_render{\n",
        "    font-family: 'Alegreya Sans' sans-serif;\n",
        "    line-height: 140%;\n",
        "    font-size: 125%;\n",
        "    font-weight: 400;\n",
        "    width:600px;\n",
        "    margin-left:auto;\n",
        "    margin-right:auto;\n",
        "}\n",
        "\n",
        "\n",
        "/* Formatting for header cells */\n",
        ".text_cell_render h1 {\n",
        "    font-family: 'Nixie One', serif;\n",
        "    font-style:regular;\n",
        "    font-weight: 400;    \n",
        "    font-size: 45pt;\n",
        "    line-height: 100%;\n",
        "    color: rgb(0,51,102);\n",
        "    margin-bottom: 0.5em;\n",
        "    margin-top: 0.5em;\n",
        "    display: block;\n",
        "}\t\n",
        ".text_cell_render h2 {\n",
        "    font-family: 'Nixie One', serif;\n",
        "    font-weight: 400;\n",
        "    font-size: 30pt;\n",
        "    line-height: 100%;\n",
        "    color: rgb(0,51,102);\n",
        "    margin-bottom: 0.1em;\n",
        "    margin-top: 0.3em;\n",
        "    display: block;\n",
        "}\t\n",
        "\n",
        ".text_cell_render h3 {\n",
        "    font-family: 'Nixie One', serif;\n",
        "    margin-top:16px;\n",
        "\tfont-size: 22pt;\n",
        "    font-weight: 600;\n",
        "    margin-bottom: 3px;\n",
        "    font-style: regular;\n",
        "    color: rgb(102,102,0);\n",
        "}\n",
        "\n",
        ".text_cell_render h4 {    /*Use this for captions*/\n",
        "    font-family: 'Nixie One', serif;\n",
        "    font-size: 14pt;\n",
        "    text-align: center;\n",
        "    margin-top: 0em;\n",
        "    margin-bottom: 2em;\n",
        "    font-style: regular;\n",
        "}\n",
        "\n",
        ".text_cell_render h5 {  /*Use this for small titles*/\n",
        "    font-family: 'Nixie One', sans-serif;\n",
        "    font-weight: 400;\n",
        "    font-size: 16pt;\n",
        "    color: rgb(163,0,0);\n",
        "    font-style: italic;\n",
        "    margin-bottom: .1em;\n",
        "    margin-top: 0.8em;\n",
        "    display: block;\n",
        "}\n",
        "\n",
        ".text_cell_render h6 { /*use this for copyright note*/\n",
        "    font-family: 'PT Mono', sans-serif;\n",
        "    font-weight: 300;\n",
        "    font-size: 9pt;\n",
        "    line-height: 100%;\n",
        "    color: grey;\n",
        "    margin-bottom: 1px;\n",
        "    margin-top: 1px;\n",
        "}\n",
        "\n",
        ".CodeMirror{\n",
        "        font-family: \"PT Mono\";\n",
        "        font-size: 90%;\n",
        "}\n",
        "\n",
        "</style>\n",
        "<script>\n",
        "    MathJax.Hub.Config({\n",
        "                        TeX: {\n",
        "                           extensions: [\"AMSmath.js\"],\n",
        "                           equationNumbers: { autoNumber: \"AMS\", useLabelIds: true}\n",
        "                           },\n",
        "                tex2jax: {\n",
        "                    inlineMath: [ ['$','$'], [\"\\\\(\",\"\\\\)\"] ],\n",
        "                    displayMath: [ ['$$','$$'], [\"\\\\[\",\"\\\\]\"] ]\n",
        "                },\n",
        "                displayAlign: 'center', // Change this to 'center' to center equations.\n",
        "                \"HTML-CSS\": {\n",
        "                    styles: {'.MathJax_Display': {\"margin\": 4}}\n",
        "                }\n",
        "        });\n",
        "</script>\n"
       ],
       "metadata": {},
       "output_type": "pyout",
       "prompt_number": 12,
       "text": [
        "<IPython.core.display.HTML at 0x7fdcd3782410>"
       ]
      }
     ],
     "prompt_number": 12
    },
    {
     "cell_type": "code",
     "collapsed": false,
     "input": [],
     "language": "python",
     "metadata": {},
     "outputs": []
    }
   ],
   "metadata": {}
  }
 ]
}