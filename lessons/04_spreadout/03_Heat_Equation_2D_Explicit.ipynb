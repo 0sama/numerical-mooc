{
 "metadata": {
  "name": "",
  "signature": "sha256:e131d3f7e88c80a25f99cf076ef6be73d6d47895769dcbddc66c766d9947e0ec"
 },
 "nbformat": 3,
 "nbformat_minor": 0,
 "worksheets": [
  {
   "cells": [
    {
     "cell_type": "heading",
     "level": 6,
     "metadata": {},
     "source": [
      "Content under Creative Commons Attribution license CC-BY 4.0, code under MIT license (c)2014 L.A. Barba, G.F. Forsyth, C.D. Cooper."
     ]
    },
    {
     "cell_type": "heading",
     "level": 1,
     "metadata": {},
     "source": [
      "Spreading out"
     ]
    },
    {
     "cell_type": "heading",
     "level": 2,
     "metadata": {},
     "source": [
      "2D Heat Conduction"
     ]
    },
    {
     "cell_type": "markdown",
     "metadata": {},
     "source": [
      "The heat conduction equation in 2D is given as:\n",
      "\n",
      "\\begin{equation}\n",
      "\\rho c_p \\frac{\\partial T}{\\partial t} = \\frac{\\partial}{\\partial x} \\left( \\kappa_x \\frac{\\partial T}{\\partial x} \\right) + \\frac{\\partial}{\\partial y} \\left(\\kappa_y \\frac{\\partial T}{\\partial y} \\right)\n",
      "\\end{equation}"
     ]
    },
    {
     "cell_type": "markdown",
     "metadata": {},
     "source": [
      "where $\\rho$ is the density, $c_p$ is the heat capacity and $\\kappa$ is the thermal conductivity."
     ]
    },
    {
     "cell_type": "markdown",
     "metadata": {},
     "source": [
      "If we assume that the thermal conductivity, $\\kappa$, is constant then we can take it outside of the partial derivative term and the conduction equation simplifies to\n",
      "\n",
      "\\begin{equation}\n",
      "\\frac{\\partial T}{\\partial t} = \\alpha \\left(\\frac{\\partial^2 T}{\\partial x^2} + \\frac{\\partial^2 T}{\\partial y^2} \\right)\n",
      "\\end{equation}\n",
      "\n",
      "where $\\alpha = \\frac{\\kappa}{\\rho C_p}$ is the thermal diffusivity.  The thermal diffusivity describes the ability of a material to conduct heat vs store it."
     ]
    },
    {
     "cell_type": "markdown",
     "metadata": {},
     "source": [
      "Does that equation have any familiar looking terms in it?  That's because it's the same as the diffusion equation.  There's a reason that $\\alpha$ is called the thermal *diffusivity*.  "
     ]
    },
    {
     "cell_type": "heading",
     "level": 2,
     "metadata": {},
     "source": [
      "Problem statement"
     ]
    },
    {
     "cell_type": "markdown",
     "metadata": {},
     "source": [
      "Removing heat out of micro-chips is a big problem in the computer industry. We are at the point that computers can't run much faster because the chips might start failing due to temperature! Let's study this problem more closely.\n",
      "\n",
      "We want to understand how heat is dissipated from the chip with a very simplified model. Say we consider the chip as a 2D plate $(1cm\\times 1cm)$ made of silicon $(\\kappa = 159W/m ^\\circ C, C_p = 0.712\\cdot 10^3 J/kg^\\circ C, \\rho = 2329kg/m^3)$, with diffusivity $\\alpha \\approx 10^{-4}$. Silicon melts at $1414^\\circ C$, but it is recommended that chips do not operate at more than $\\sim70^\\circ C$ (need to find better source for this number)\n",
      "\n",
      "Say the chip is in a position where on two edges (top and right) it is in contact with insulating material, and on the other two, with other components that have a constant temperature of $T=100^\\circ C$ when the machine is working. Initially, the chip is at room temperature $(20^\\circ C)$. *How long does it take for the center of the chip to reach $70^\\circ C?$*\n",
      "\n",
      "Let's use what we have learned to tackle this problem!"
     ]
    },
    {
     "cell_type": "heading",
     "level": 2,
     "metadata": {},
     "source": [
      "2D Finite-differences"
     ]
    },
    {
     "cell_type": "markdown",
     "metadata": {},
     "source": [
      "Everything you learned about Finite-differences in [Module 2, Notebook 1](http://nbviewer.ipython.org/github/numerical-mooc/numerical-mooc/blob/master/lessons/02_spacetime/02_01_1DConvection.ipynb) still applies, but now there are two spatial dimensions.  \n",
      "\n",
      "Spatial nodes in the $x$ direction are discretized into $i$ points, while spatial nodes in the $y$ direction are discretized into $j$ points.  \n",
      "\n",
      "A given node will now have two spatial coordinates.  The middle point in the figure below we can call $T_{i,j}$."
     ]
    },
    {
     "cell_type": "markdown",
     "metadata": {},
     "source": [
      "<img src=\"./figures/2dgrid.svg\">"
     ]
    },
    {
     "cell_type": "markdown",
     "metadata": {},
     "source": [
      "<img src=\"./figures/2dgrid_indices.svg\">"
     ]
    },
    {
     "cell_type": "heading",
     "level": 3,
     "metadata": {},
     "source": [
      "Explicit scheme in 2D"
     ]
    },
    {
     "cell_type": "markdown",
     "metadata": {},
     "source": [
      "Our first attempt will be with an explicit scheme. The 2D heat conduction equation, discretized forward in time, central in space is \n",
      "\n",
      "\\begin{equation}\n",
      "\\frac{T^{n+1}_{i,j} - T^n_{i,j}}{\\Delta t} = \\alpha \\left( \\frac{T^n_{i+1, j} - 2T^n_{i,j} + T^n_{i-1,j}}{\\Delta x^2} + \\frac{T^n_{i, j+1} - 2T^n_{i,j} + T^n_{i,j-1}}{\\Delta y^2}\\right)\n",
      "\\end{equation}"
     ]
    },
    {
     "cell_type": "markdown",
     "metadata": {},
     "source": [
      "But we are interested in solving for $T^{n+1}_{i,j}$\n",
      "\n",
      "\\begin{equation}\n",
      "T^{n+1}_{i,j}= T^n_{i,j} + \\alpha \\left( \\frac{\\Delta t}{\\Delta x^2} (T^n_{i+1, j} - 2T^n_{i,j} + T^n_{i-1,j}) + \\frac{\\Delta t}{\\Delta y^2} (T^n_{i, j+1} - 2T^n_{i,j} + T^n_{i,j-1})\\right)\n",
      "\\end{equation}\n",
      "\n",
      "In this case, the stencil looks like"
     ]
    },
    {
     "cell_type": "markdown",
     "metadata": {},
     "source": [
      "<img src=\"./figures/2d_stencil.svg\">"
     ]
    },
    {
     "cell_type": "markdown",
     "metadata": {},
     "source": [
      "Whenever we reach a point that needs to read a point from the boundary, we apply the boundary condition. Like in the previous notebook, if the boundary has Dirichlet conditions, we just fetch the prescribed temperature at that point. If the boundary conditions are of Neumann type, we discretize them with a finite-difference approximation.\n",
      "\n",
      "Remember, Neumann boundary conditions prescribe the derivative in the normal direction. For example, in the problem described above, we have $\\frac{\\partial T}{\\partial y} = q_y$ in the top boundary and $\\frac{\\partial T}{\\partial x} = q_x$ in the right boundary, with $q_y = q_x = 0$.\n",
      "\n",
      "Then, at every time step, we need to enforce\n",
      "\n",
      "\\begin{equation}\n",
      "T_{i,j-1} = q_y\\cdot\\Delta y + T_{i,j-2}\n",
      "\\end{equation}\n",
      "\n",
      "and\n",
      "\n",
      "\\begin{equation}\n",
      "T_{i-1,j} = q_x\\cdot\\Delta x + T_{i-2,j}\n",
      "\\end{equation}"
     ]
    },
    {
     "cell_type": "markdown",
     "metadata": {},
     "source": [
      "Just like in the physical problem, we will store the temperatures in a 2D array. We chose to store it with the $y$ direction varying with the first index and $x$ varying with the last index (this is just a code design decision!). Then, being consistent with the stencil formula, where $x$ is related with $i$ and $y$ with $j$, $T_{i,j}$ will be stored in `T[j,i]`."
     ]
    },
    {
     "cell_type": "heading",
     "level": 3,
     "metadata": {},
     "source": [
      "Stability"
     ]
    },
    {
     "cell_type": "markdown",
     "metadata": {},
     "source": [
      "Before moving to any coding, let's revisit stability constraints. In 1D, we saw in the first notebook of this series that the explicit discretization of the diffusion equation was stable as long as $\\alpha \\frac{\\Delta t}{(\\Delta x)^2} \\leq \\frac{1}{2}$. In 2D, this constraint is even tighter, as we need to add them in both directions:\n",
      "\n",
      "\\begin{equation}\n",
      "\\alpha \\frac{\\Delta t}{(\\Delta x)^2} + \\alpha \\frac{\\Delta t}{(\\Delta y)^2} < \\frac{1}{2}.\n",
      "\\end{equation}\n",
      "\n",
      "Say that the mesh has the same spacing in $x$ and $y$, $\\Delta x = \\Delta y = \\delta$. The stability condition is\n",
      "\n",
      "\\begin{equation}\n",
      "\\alpha \\frac{\\Delta t}{\\delta^2} < \\frac{1}{4}\n",
      "\\end{equation}"
     ]
    },
    {
     "cell_type": "heading",
     "level": 2,
     "metadata": {},
     "source": [
      "Implementation"
     ]
    },
    {
     "cell_type": "markdown",
     "metadata": {},
     "source": [
      "Now, to some coding! This little function will advance the solution in time for us with a forward in time, central in space scheme"
     ]
    },
    {
     "cell_type": "code",
     "collapsed": false,
     "input": [
      "import numpy\n",
      "\n",
      "def ftcs(T, nt, alpha, dt, dx, dy):\n",
      "\n",
      "    for n in range(nt):\n",
      "        Tn = T.copy()\n",
      "        T[1:-1,1:-1] = Tn[1:-1,1:-1] + alpha *\\\n",
      "            (dt/dy**2 * (Tn[2:,1:-1] - 2*Tn[1:-1,1:-1] + Tn[:-2,1:-1]) +\\\n",
      "             dt/dx**2 * (Tn[1:-1,2:] - 2*Tn[1:-1,1:-1] + Tn[1:-1,:-2]))\n",
      "  \n",
      "        # Enforce Neumann BCs\n",
      "        T[-1,:] = T[-2,:]\n",
      "        T[:,-1] = T[:,-2]\n",
      "        \n",
      "    return T"
     ],
     "language": "python",
     "metadata": {},
     "outputs": []
    },
    {
     "cell_type": "markdown",
     "metadata": {},
     "source": [
      "And here we define our initial conditions"
     ]
    },
    {
     "cell_type": "code",
     "collapsed": false,
     "input": [
      "L = 1.0e-2\n",
      "H = 1.0e-2\n",
      "\n",
      "nx = 21\n",
      "ny = 21\n",
      "nt = 100\n",
      "\n",
      "dx = L/(nx-1)\n",
      "dy = H/(ny-1)\n",
      "\n",
      "x = numpy.linspace(0,L,nx)\n",
      "y = numpy.linspace(0,H,ny)\n",
      "\n",
      "alpha = 1e-4\n",
      "\n",
      "Ti = numpy.ones((ny, nx))*20\n",
      "Ti[0,:]= 100\n",
      "Ti[:,0] = 100"
     ],
     "language": "python",
     "metadata": {},
     "outputs": []
    },
    {
     "cell_type": "markdown",
     "metadata": {},
     "source": [
      "We are good to go! We don't want our solutionj blowing up, so let's try $\\frac{\\alpha \\Delta t}{\\Delta x^2} = \\frac{\\alpha \\Delta t}{\\Delta y^2} = \\frac{1}{4}$:"
     ]
    },
    {
     "cell_type": "code",
     "collapsed": false,
     "input": [
      "sigma = 0.25\n",
      "dt = sigma * min(dx, dy)**2 / alpha\n",
      "T=Ti.copy()\n",
      "T = ftcs(T, nt, alpha, dt, dx, dy)"
     ],
     "language": "python",
     "metadata": {},
     "outputs": []
    },
    {
     "cell_type": "code",
     "collapsed": false,
     "input": [
      "my, mx = numpy.meshgrid(y,x)"
     ],
     "language": "python",
     "metadata": {},
     "outputs": []
    },
    {
     "cell_type": "code",
     "collapsed": false,
     "input": [
      "import matplotlib.pyplot as plt\n",
      "%matplotlib inline"
     ],
     "language": "python",
     "metadata": {},
     "outputs": []
    },
    {
     "cell_type": "code",
     "collapsed": false,
     "input": [
      "plt.figure(figsize=(11,8))\n",
      "plt.contourf(my,mx,T,20);"
     ],
     "language": "python",
     "metadata": {},
     "outputs": []
    },
    {
     "cell_type": "heading",
     "level": 2,
     "metadata": {},
     "source": [
      "Reaction-Diffusion"
     ]
    },
    {
     "cell_type": "heading",
     "level": 3,
     "metadata": {},
     "source": [
      "Gray-Scott Model"
     ]
    },
    {
     "cell_type": "markdown",
     "metadata": {},
     "source": [
      "http://mrob.com/pub/comp/xmorphia/#formula"
     ]
    },
    {
     "cell_type": "markdown",
     "metadata": {},
     "source": [
      "\\begin{align}\n",
      "\\frac{\\partial u}{\\partial t} &= D_u \\nabla ^2 u - uv^2 + F(1-u)\\\\\n",
      "\\frac{\\partial v}{\\partial t} &= D_v \\nabla ^2 v + uv^2 - (F + k)v\n",
      "\\end{align}\n",
      "\n",
      "where $D_u$, $D_v$, $F$, and $k$ are assumed to be constants and $\\nabla ^2$ is the Laplacian where\n",
      "\n",
      "\\begin{equation}\n",
      "\\nabla ^2 u = \\frac{\\partial ^2 u}{\\partial x^2} + \\frac{\\partial ^2 u}{\\partial y^2}\n",
      "\\end{equation}"
     ]
    },
    {
     "cell_type": "markdown",
     "metadata": {},
     "source": [
      "\\begin{align}\n",
      "\\frac{\\partial u}{\\partial t} &= D_u \\nabla ^2 u + f(u,v)\\\\\n",
      "\\frac{\\partial v}{\\partial t} &= D_v \\nabla ^2 v + g(u,v)\n",
      "\\end{align}\n",
      "\n",
      "with\n",
      "\n",
      "\\begin{align}\n",
      "f(u,v) &= -uv^2 + F(1-u)\\\\\n",
      "g(u,v) &= uv^2 - (F + k)v\n",
      "\\end{align}"
     ]
    },
    {
     "cell_type": "code",
     "collapsed": false,
     "input": [
      "import numpy\n",
      "import matplotlib.pyplot as plt\n",
      "%matplotlib inline"
     ],
     "language": "python",
     "metadata": {},
     "outputs": []
    },
    {
     "cell_type": "code",
     "collapsed": false,
     "input": [
      "def f(u,v,F):\n",
      "    return -u*v**2 + F*(1-u)\n",
      "\n",
      "def g(u,v,F,k):\n",
      "    return u*v**2 - (F + k)*v"
     ],
     "language": "python",
     "metadata": {},
     "outputs": []
    },
    {
     "cell_type": "markdown",
     "metadata": {},
     "source": [
      "\\begin{equation}\n",
      "u^{n+1}_{i,j}= u^n_{i,j} + D_u \\left( \\frac{\\Delta t}{\\Delta x^2} (u^n_{i+1, j} - 2u^n_{i,j} + u^n_{i-1,j}) + \\frac{\\Delta t}{\\Delta y^2} (u^n_{i, j+1} - 2u^n_{i,j} + u^n_{i,j-1})\\right) + \\Delta t f(u,v)\n",
      "\\end{equation}"
     ]
    },
    {
     "cell_type": "markdown",
     "metadata": {},
     "source": [
      "Assume $\\Delta x = \\Delta y = \\Delta h$\n",
      "\n",
      "\\begin{equation}\n",
      "u^{n+1}_{i,j}= u^n_{i,j} + D_u \\left( \\frac{\\Delta t}{\\Delta h^2} (u^n_{i+1, j} + u^n_{i, j+1} - 4u^n_{i,j} + u^n_{i-1,j} + u^n_{i,j-1})\\right) + \\Delta t f(u,v)\n",
      "\\end{equation}"
     ]
    },
    {
     "cell_type": "code",
     "collapsed": false,
     "input": [
      "def reaction_diffusion(U, V, dh, dt, nt, Du, Dv, F, k):\n",
      "\n",
      "    u_all = numpy.zeros((nt, U.shape[0], U.shape[1]))\n",
      "    v_all = u_all.copy()\n",
      "    \n",
      "    \n",
      "    u_all[:,:,:] = U.copy()\n",
      "    v_all[:,:,:] = V.copy()\n",
      "    \n",
      "    Lu = numpy.ones_like(U)\n",
      "    Lv = numpy.zeros_like(U)\n",
      "    \n",
      "    for n in xrange(1,nt):\n",
      "        Lu[1:-1,1:-1] = dt/dh**2*(U[0:-2,1:-1] + U[1:-1,0:-2] - \\\n",
      "                  4*U[1:-1,1:-1] + U[1:-1,2:] + U[2:,1:-1] )\n",
      "        Lv[1:-1,1:-1] = dt/dh**2*(V[0:-2,1:-1] + V[1:-1,0:-2] - \\\n",
      "                    4*V[1:-1,1:-1] + V[1:-1,2:] + V[2:,1:-1] )\n",
      "        \n",
      "       # Lu[:,0] =\n",
      "        \n",
      "        #Lu[:,0] = Lu[:,-2]\n",
      "        #Lu[:,-1] = Lu[:,1]\n",
      "        #Lu[0,:] = Lu[-2,:]\n",
      "        #Lu[-1,:] = Lu[1,:]\n",
      "        \n",
      "        #Lv[:,0] = Lv[:,-2]\n",
      "        #Lv[:,-1] = Lv[:,1]\n",
      "        #Lv[0,:] = Lv[-2,:]\n",
      "        #Lv[-1,:] = Lv[1,:]\n",
      "        \n",
      "        #Lu[:,-1] = Lu[:,1]\n",
      "        #Lu[-1,:] = Lu[1,:]\n",
      "        #Lv[:,-1] = Lv[:,1]\n",
      "        #Lv[-1,:] = Lv[1,:]\n",
      "        \n",
      "        #uvv = U*V**2\n",
      "        u_all[n,:,:] = u_all[n-1,:,:] + Du*Lu + f(U,V,F)#*dt\n",
      "        v_all[n,:,:] = v_all[n-1,:,:] + Dv*Lv + g(U,V,F,k)#*dt\n",
      "        \n",
      "        #U = U + Du*Lu + f(U,V,F)#*dt\n",
      "        #V = V + Dv*Lv + g(U,V,F,k)#*dt\n",
      "        \n",
      "        u_all[n,:,0] = u_all[n,:,-2]\n",
      "        u_all[n,:,-1] = u_all[n,:,1]\n",
      "        u_all[n,0,:] = u_all[n,-2,:]\n",
      "        u_all[n,-1,:] = u_all[n,1,:]\n",
      "        \n",
      "        v_all[n,:,0] = v_all[n,:,-2]\n",
      "        v_all[n,:,-1] = v_all[n,:,1]\n",
      "        v_all[n,0,:] = v_all[n,-2,:]\n",
      "        v_all[n,-1,:] = v_all[n,1,:]\n",
      "        \n",
      "        U = u_all[n,:,:].copy()\n",
      "        V = v_all[n,:,:].copy()\n",
      "        \n",
      "        \n",
      "        #U[:,0] = U[:,-2]\n",
      "        #U[:,-1] = U[:,1]\n",
      "        #U[0,:] = U[-2,:]\n",
      "        #U[-1,:] = U[1,:]\n",
      "        \n",
      "        #V[:,0] = V[:,-2]\n",
      "        #V[:,-1] = V[:,1]\n",
      "        #V[0,:] = V[-2,:]\n",
      "        #V[-1,:] = V[1,:]\n",
      "        \n",
      "        \n",
      "        #U = u_all[n].copy()\n",
      "        #V = v_all[n].copy()\n",
      "        \n",
      "        #U[:,0] = U[:,-1]\n",
      "        #U[0,:] = U[-1,:]\n",
      "        #V[:,0] = V[:,-1]\n",
      "        #V[0,:] = V[-1,:]\n",
      "        \n",
      "    return u_all, v_all\n",
      "\n"
     ],
     "language": "python",
     "metadata": {},
     "outputs": []
    },
    {
     "cell_type": "code",
     "collapsed": false,
     "input": [
      "# Parameters from http://www.aliensaint.com/uo/java/rd/\n",
      "# -----------------------------------------------------\n",
      "n = 256\n",
      "# Du, Dv, F, k = 0.16, 0.08, 0.035, 0.065 # Bacteria 1\n",
      "# Du, Dv, F, k = 0.14, 0.06, 0.035, 0.065 # Bacteria 2\n",
      "# Du, Dv, F, k = 0.16, 0.08, 0.060, 0.062 # Coral\n",
      "# Du, Dv, F, k = 0.19, 0.05, 0.060, 0.062 # Fingerprint\n",
      "# Du, Dv, F, k = 0.10, 0.10, 0.018, 0.050 # Spirals\n",
      "# Du, Dv, F, k = 0.12, 0.08, 0.020, 0.050 # Spirals Dense\n",
      "# Du, Dv, F, k = 0.10, 0.16, 0.020, 0.050 # Spirals Fast\n",
      "# Du, Dv, F, k = 0.16, 0.08, 0.020, 0.055 # Unstable\n",
      "Du, Dv, F, k = 0.16, 0.08, 0.050, 0.065 # Worms 1\n",
      "# Du, Dv, F, k = 0.16, 0.08, 0.054, 0.063 # Worms 2\n",
      "# Du, Dv, F, k = 0.16, 0.08, 0.035, 0.060 # Zebrafish"
     ],
     "language": "python",
     "metadata": {},
     "outputs": []
    },
    {
     "cell_type": "code",
     "collapsed": false,
     "input": [
      "#Du, Dv, F, k = 5*Du, 5*Dv, 5*F, 5*k"
     ],
     "language": "python",
     "metadata": {},
     "outputs": []
    },
    {
     "cell_type": "code",
     "collapsed": false,
     "input": [
      "nx = n\n",
      "ny = n\n",
      "\n",
      "dx = 5./(nx-1)\n",
      "\n",
      "dh = dx\n",
      "T = .5\n",
      "\n",
      "dt = .0005 #dh**2/(5.*kappa)\n",
      "\n",
      "nt = int(T/dt)\n"
     ],
     "language": "python",
     "metadata": {},
     "outputs": []
    },
    {
     "cell_type": "code",
     "collapsed": false,
     "input": [
      "nt"
     ],
     "language": "python",
     "metadata": {},
     "outputs": []
    },
    {
     "cell_type": "code",
     "collapsed": false,
     "input": [
      "randx = numpy.random.randint(10, nx-1, 150)\n",
      "randy = numpy.random.randint(10, nx-1, 150)"
     ],
     "language": "python",
     "metadata": {},
     "outputs": []
    },
    {
     "cell_type": "code",
     "collapsed": false,
     "input": [
      "U = numpy.zeros((n,n))\n",
      "V = U.copy()\n",
      "#u,v = U[1:-1,1:-1], V[1:-1,1:-1]\n",
      "\n",
      "r = 5\n",
      "U[:,:] = 1.0\n",
      "\n",
      "for i, j in zip(randx, randy):\n",
      "    U[i-r:i+r,j-r:j+r] = 0.50\n",
      "    V[i-r:i+r,j-r:j+r] = 0.25\n",
      "\n",
      "U += 0.05*numpy.random.random((n,n))\n",
      "V += 0.05*numpy.random.random((n,n))"
     ],
     "language": "python",
     "metadata": {},
     "outputs": []
    },
    {
     "cell_type": "code",
     "collapsed": false,
     "input": [
      "fig = plt.figure(figsize=(8,5), facecolor=\"white\")\n",
      "plt.subplot(121)\n",
      "plt.imshow(U)\n",
      "plt.xticks([]), plt.yticks([]);\n",
      "plt.subplot(122)\n",
      "plt.imshow(V)\n",
      "plt.xticks([]), plt.yticks([]);\n",
      "#fig.add_axes([0.0, 0.0, 1.0, 1.0], frameon=False)\n",
      "#im = plt.imshow(V, interpolation='bicubic', cmap=plt.cm.gray_r)\n",
      "#plt.xticks([]), plt.yticks([]);"
     ],
     "language": "python",
     "metadata": {},
     "outputs": []
    },
    {
     "cell_type": "code",
     "collapsed": false,
     "input": [
      "U2, V2 = reaction_diffusion(U2[-1,:,:], V2[-1,:,:], dh, dt, nt, Du, Dv, F, k)\n"
     ],
     "language": "python",
     "metadata": {},
     "outputs": []
    },
    {
     "cell_type": "code",
     "collapsed": false,
     "input": [
      "U2[-1,:,:]"
     ],
     "language": "python",
     "metadata": {},
     "outputs": []
    },
    {
     "cell_type": "code",
     "collapsed": false,
     "input": [
      "U2.shape"
     ],
     "language": "python",
     "metadata": {},
     "outputs": []
    },
    {
     "cell_type": "code",
     "collapsed": false,
     "input": [
      "from matplotlib import animation\n",
      "from JSAnimation.IPython_display import display_animation"
     ],
     "language": "python",
     "metadata": {},
     "outputs": []
    },
    {
     "cell_type": "code",
     "collapsed": false,
     "input": [
      "v_all = V2.copy()"
     ],
     "language": "python",
     "metadata": {},
     "outputs": []
    },
    {
     "cell_type": "code",
     "collapsed": false,
     "input": [
      "fig = plt.figure(figsize=(8,5), dpi=72)\n",
      "\n",
      "img = plt.imshow(v_all[0])\n",
      "\n",
      "def animate(data):\n",
      "    img.set_array(data)\n",
      "    return img,\n",
      "\n",
      "anim = animation.FuncAnimation(fig, animate, frames=V2[::25], interval=75)\n",
      "display_animation(anim, default_mode='once')"
     ],
     "language": "python",
     "metadata": {},
     "outputs": []
    },
    {
     "cell_type": "code",
     "collapsed": false,
     "input": [],
     "language": "python",
     "metadata": {},
     "outputs": []
    },
    {
     "cell_type": "code",
     "collapsed": false,
     "input": [],
     "language": "python",
     "metadata": {},
     "outputs": []
    },
    {
     "cell_type": "code",
     "collapsed": false,
     "input": [],
     "language": "python",
     "metadata": {},
     "outputs": []
    },
    {
     "cell_type": "markdown",
     "metadata": {},
     "source": [
      "---\n",
      "###### The cell below loads the style of the notebook"
     ]
    },
    {
     "cell_type": "code",
     "collapsed": false,
     "input": [
      "from IPython.core.display import HTML\n",
      "css_file = '../../styles/numericalmoocstyle.css'\n",
      "HTML(open(css_file, \"r\").read())"
     ],
     "language": "python",
     "metadata": {},
     "outputs": []
    },
    {
     "cell_type": "code",
     "collapsed": false,
     "input": [],
     "language": "python",
     "metadata": {},
     "outputs": []
    }
   ],
   "metadata": {}
  }
 ]
}