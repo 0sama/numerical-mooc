{
 "metadata": {
  "name": "",
  "signature": "sha256:3df79ccaee600857a9e52160f51d9d69fbbbdda0df4fccde862a3b3c9d972217"
 },
 "nbformat": 3,
 "nbformat_minor": 0,
 "worksheets": [
  {
   "cells": [
    {
     "cell_type": "heading",
     "level": 6,
     "metadata": {},
     "source": [
      "Content under Creative Commons Attribution license CC-BY 4.0, code under MIT license (c)2014 L.A. Barba, C.D. Cooper, G.F. Forsyth."
     ]
    },
    {
     "cell_type": "heading",
     "level": 1,
     "metadata": {},
     "source": [
      "Spreading out"
     ]
    },
    {
     "cell_type": "markdown",
     "metadata": {},
     "source": [
      "Welcome to the second lesson of the course module: \"_Spreading out: parabolic PDEs.\"_ We're studying the heat equation in one spatial dimension:\n",
      "\n",
      "\\begin{equation}\n",
      "\\frac{\\partial T}{\\partial t} = \\alpha \\frac{\\partial^2 T}{\\partial x^2}\n",
      "\\end{equation}\n",
      "\n",
      "where $\\alpha$ is the thermal diffusivity and $T$ is the temperature.\n",
      "\n",
      "In the previous lesson, we reviewed the numerical solution of the 1D diffusion equation with a forward-time, centered-space scheme: an _explicit_ scheme. What does that mean?  \n",
      "\n",
      "The solution for $T$ at timestep $t^{n+1}$ was calculated using different combinations of $T$ values from the *previous* timestep $t^n$.  We have complete knowledge of the parts that feed into the solution update.  \n",
      "\n",
      "*Implicit* methods work differently. "
     ]
    },
    {
     "cell_type": "heading",
     "level": 2,
     "metadata": {},
     "source": [
      "Implicit schemes"
     ]
    },
    {
     "cell_type": "markdown",
     "metadata": {},
     "source": [
      "Let's move things around a bit and try combining the Euler time step with an evaluation of the spatial derivative on the *updated* solution at $t^{n+1}$. The discretized form of the equation is now\n",
      "\n",
      "\\begin{equation}\\frac{T_{i}^{n+1}-T_{i}^{n}}{\\Delta t}=\\alpha\\frac{T_{i+1}^{n+1}-2T_{i}^{n+1}+T_{i-1}^{n+1}}{\\Delta x^2}\\end{equation}\n",
      "\n",
      "The stencil for this discretization doesn't look anything like the other stencils we've used until now. Check it out."
     ]
    },
    {
     "cell_type": "markdown",
     "metadata": {},
     "source": [
      "![stencil-implicitcentral](./figures/stencil-implicitcentral.png)\n",
      ".\n",
      "#### Figure 1. Stencil of the implicit central scheme."
     ]
    },
    {
     "cell_type": "markdown",
     "metadata": {},
     "source": [
      "From the previous time-step, we only know $T_i^{n}$, but what about $T_i^{n+1}$, $T_{i-1}^{n+1}$ and $T_{i+1}^{n+1}$?  What can we do?\n",
      "\n",
      "No need to panic! Let's start by putting what we *do know* on the right-hand side of the equation and what we *don't know* on the left. We get:\n",
      "\n",
      "\\begin{equation} -T_{i-1}^{n+1} + \\left( 2 + \\frac{\\Delta x^2}{\\alpha\\Delta t}\\right) T_{i}^{n+1} - T_{i+1}^{n+1} = T_{i}^{n}\\frac{\\Delta x^2}{\\alpha\\Delta t} \\end{equation} \n",
      "\n",
      "It looks like there are a lot of unknowns and just one equation! \n",
      "\n",
      "What does it look like with $i=1$?\n",
      "\n",
      "\\begin{equation}-T_{0}^{n+1} + \\left( 2 + \\frac{\\Delta x^2}{\\alpha\\Delta t}\\right) T_{1}^{n+1} - T_{2}^{n+1} = T_{1}^{n}\\frac{\\Delta x^2}{\\alpha\\Delta t} \\end{equation}\n",
      "\n",
      "and $i=2$?\n",
      "\n",
      "\\begin{equation}-T_{1}^{n+1} + \\left( 2 + \\frac{\\Delta x^2}{\\alpha\\Delta t}\\right) T_{2}^{n+1} - T_{3}^{n+1} = T_{2}^{n}\\frac{\\Delta x^2}{\\alpha\\Delta t} \\end{equation}\n",
      "\n",
      "What about $i=3$?\n",
      "\n",
      "\\begin{equation}-T_{2}^{n+1} + \\left( 2 + \\frac{\\Delta x^2}{\\alpha\\Delta t}\\right) T_{3}^{n+1} - T_{4}^{n+1} = T_{3}^{n}\\frac{\\Delta x^2}{\\alpha\\Delta t} \\end{equation}\n",
      "\n",
      "Can you see the common element across equations? Here's a little help:"
     ]
    },
    {
     "cell_type": "markdown",
     "metadata": {},
     "source": [
      "<img src=\"./figures/implicit_formula.svg\" style=\"width: 400px;\"/>"
     ]
    },
    {
     "cell_type": "markdown",
     "metadata": {},
     "source": [
      "$T_{i}^{n+1}$ also appears in the equation for $T_{i-1}^{n+1}$ and $T_{i+1}^{n+1}$. We might have enough equations if we apply this for all $i$-values at the same time, don't you think? In fact, this is a linear system of equations for the unknown values $T_{i}^{n+1}$ on the spatial grid."
     ]
    },
    {
     "cell_type": "heading",
     "level": 3,
     "metadata": {},
     "source": [
      "What about boundary conditions? "
     ]
    },
    {
     "cell_type": "markdown",
     "metadata": {},
     "source": [
      "Let's look at the boundary points of the example with a Dirichlet BC at $x=0$ and a Neumann BC at $x=1$, discretizing with $N$ mesh points.\n",
      "\n",
      "The value $T_0^{n+1}$ is known at every time-step from the BC, so putting all unknown terms on the left-hand side of the equation and the known values on the right sid yields the following for the $i=1$ equation:\n",
      "\n",
      "\\begin{equation}-T_{2}^{n+1} + \\left( 2 + \\frac{\\Delta x^2}{\\alpha\\Delta t}\\right) T_{1}^{n+1} = T_{1}^{n}\\frac{\\Delta x^2}{\\alpha\\Delta t} + T_{0}^{n+1} \\end{equation}\n",
      "\n",
      "That was easy!\n",
      "\n",
      "On the other hand, for $i=N-2$, the equation reads\n",
      "\n",
      "\\begin{equation} -T_{N-3}^{n+1} + \\left( 2 + \\frac{\\Delta x^2}{\\alpha\\Delta t}\\right) T_{N-2}^{n+1} - T_{N-1}^{n+1} = T_{N-2}^{n}\\frac{\\Delta x^2}{\\alpha\\Delta t} \\end{equation} \n",
      "\n",
      "The discretized Neumann boundary condition on the right side of the rod is\n",
      "\n",
      "\\begin{equation}\\frac{T^{n}_{N-1} - T^{n}_{N-2}}{\\Delta x} = q.\\end{equation}\n",
      "\n",
      "But we can just as easily write that at time $n+1$ (the boundary conditions apply at every time-step):\n",
      "\n",
      "\\begin{equation}\\frac{T^{n+1}_{N-1} - T^{n+1}_{N-2}}{\\Delta x} = q.\\end{equation}\n",
      "\n",
      "Inserting the Neumann boundary condition in the equation for $i=N-2$ yields\n",
      "\n",
      "\\begin{equation} - T_{N-3}^{n+1} + \\left( 1 + \\frac{\\Delta x^2}{\\alpha\\Delta t}\\right) T_{N-2}^{n+1} = T_{N-2}^{n}\\frac{\\Delta x^2}{\\alpha\\Delta t} + \\Delta x q \\end{equation}\n",
      "\n",
      "Make sure you work this out with pen and paper: it's important to recognize where these terms come from!\n",
      "\n",
      "Now we can write the linear system of equations in matrix form as follows:\n",
      "\n",
      "$$[A][x] = [b]+[b]_{b.c.}$$\n",
      "\n",
      "where the matrix of coefficients $[A]$ is a sparse matrix\u2014most of the matrix elements are zero\u2014with three non-zero diagonals. Here is the system expanded out, so you can see the structure of the matrix."
     ]
    },
    {
     "cell_type": "markdown",
     "metadata": {},
     "source": [
      "\\begin{equation}\\left[ \\begin{array}{cccccc}\n",
      " \\left(2 + \\frac{1}{\\sigma}\\right) & -1 & 0 & \\cdots & & 0 \\\\\n",
      " -1 & \\left(2 + \\frac{1}{\\sigma}\\right) & -1 & 0 & \\cdots & 0 \\\\\n",
      " 0 & & \\ddots& & & \\vdots \\\\\n",
      " \\vdots & & & & \\left(2 + \\frac{1}{\\sigma}\\right)& \\\\\n",
      " 0 & \\cdots & & & -1 & \\left(1 + \\frac{1}{\\sigma}\\right) \\end{array} \\right]\n",
      " \\cdot \n",
      " \\left[ \\begin{array}{c} \n",
      " T_1^{n+1} \\\\ T_2^{n+1} \\\\ \\vdots \\\\ \\\\ T_{N-2}^{n+1} \\end{array} \\right]\n",
      " =\n",
      " \\left[ \\begin{array}{c} \n",
      "T_1^n \\frac{1}{\\sigma} \\\\ T_2^{n}\\frac{1}{\\sigma} \\\\ \\vdots \\\\ \\\\ T_{N-2}^{n}\\frac{1}{\\sigma} \\end{array} \\right]\n",
      " +\n",
      " \\begin{bmatrix}\n",
      "  T_0^{n+1}\\\\\n",
      "  0\\\\\\\\\n",
      "  \\vdots\\\\\\\\\n",
      "  0\\\\\n",
      "  q\\Delta x\n",
      " \\end{bmatrix}\n",
      " \\end{equation} \n",
      " \n",
      " where $\\sigma=\\frac{\\alpha\\Delta t}{\\Delta x^2}$. \n",
      " \n",
      "Notice that the Dirichlet boundary condition adds only a term to the right-hand side of the system.  The Neumann boundary condition both adds a term to the right-hand side and modifies the matrix $[A]$."
     ]
    },
    {
     "cell_type": "heading",
     "level": 3,
     "metadata": {},
     "source": [
      "Problem set up"
     ]
    },
    {
     "cell_type": "markdown",
     "metadata": {},
     "source": [
      "We have a graphite rod, with [thermal diffusivity](http://en.wikipedia.org/wiki/Thermal_diffusivity) of $\\alpha=1.22\\times10^{-3} {\\rm m}^2/{\\rm s}$, length $L=1{\\rm m}$, and temperature held at $T=100{\\rm K}$ on the left end, $x=0$, and {0{\\rm K}$ everywhere else intially. We'll compute the evolution of temperature on the length of the rod.\n",
      "\n",
      "Let's start: import libraries and set up the discretization, like we did in the previous lesson."
     ]
    },
    {
     "cell_type": "code",
     "collapsed": false,
     "input": [
      "import numpy\n",
      "import matplotlib.pyplot as plt\n",
      "%matplotlib inline\n",
      "from matplotlib import rcParams\n",
      "rcParams['font.family'] = 'serif'\n",
      "rcParams['font.size'] = 16"
     ],
     "language": "python",
     "metadata": {},
     "outputs": []
    },
    {
     "cell_type": "code",
     "collapsed": false,
     "input": [
      "L = 1.\n",
      "nt = 100\n",
      "nx = 51.\n",
      "alpha = 1.22e-3\n",
      "\n",
      "dx = L/(nx-1)\n",
      "\n",
      "Ti = numpy.zeros(nx)\n",
      "Ti[0] = 100"
     ],
     "language": "python",
     "metadata": {},
     "outputs": []
    },
    {
     "cell_type": "heading",
     "level": 3,
     "metadata": {},
     "source": [
      "Solving a linear system"
     ]
    },
    {
     "cell_type": "markdown",
     "metadata": {},
     "source": [
      "We need to solve the linear system of equations written above to advance the solution in time. Luckily, we can rely on our friends from SciPy who have developed some nice linear solvers, so we don't need to write our own.\n",
      "\n",
      "From `scipy.linalg`, let's import `solve`: a function to solve linear systems. Make sure to explore the documentation of [`scipy.linalg`](http://docs.scipy.org/doc/scipy-0.14.0/reference/linalg.html). We'll need to define our own custom functions to generate the coefficient matrix and the right-hand side of the linear system:"
     ]
    },
    {
     "cell_type": "code",
     "collapsed": false,
     "input": [
      "from scipy.linalg import solve"
     ],
     "language": "python",
     "metadata": {},
     "outputs": []
    },
    {
     "cell_type": "code",
     "collapsed": false,
     "input": [
      "def generateMatrix(N, sigma):\n",
      "    \"\"\" Computes the matrix for the diffusion equation with backward Euler\n",
      "        Dirichlet condition at i=0, Neumann at i=-1\n",
      "    \n",
      "    Parameters:\n",
      "    ----------\n",
      "    T: array of float\n",
      "        Temperature at current time step\n",
      "    sigma: float \n",
      "        alpha*dt/dx^2\n",
      "    \n",
      "    Returns:\n",
      "    -------\n",
      "    A: 2D numpy array of float\n",
      "        Matrix for diffusion equation\n",
      "    \"\"\"\n",
      "   \n",
      "    # Setup the diagonal\n",
      "    d = numpy.diag(numpy.ones(N-2)*(2+1./sigma))\n",
      "    \n",
      "    # Consider Neumann BC\n",
      "    d[-1,-1] = 1+1./sigma\n",
      "    \n",
      "    # Setup upper diagonal\n",
      "    ud = numpy.diag(numpy.ones(N-3)*-1, 1)\n",
      "    \n",
      "    # Setup lower diagonal\n",
      "    ld = numpy.diag(numpy.ones(N-3)*-1, -1)\n",
      "    \n",
      "    A = d + ud + ld\n",
      "    \n",
      "    return A"
     ],
     "language": "python",
     "metadata": {},
     "outputs": []
    },
    {
     "cell_type": "code",
     "collapsed": false,
     "input": [
      "def generateRHS(T, sigma):\n",
      "    \"\"\" Computes right-hand side of linear system for diffusion equation\n",
      "        with backward Euler\n",
      "    \n",
      "    Parameters:\n",
      "    ----------\n",
      "    T: array of float\n",
      "        Temperature at current time step\n",
      "    sigma: float\n",
      "        alpha*dt/dx^2\n",
      "    \n",
      "    Returns:\n",
      "    -------\n",
      "    b: array of float\n",
      "        Right-hand side of diffusion equation with backward Euler\n",
      "    \"\"\"\n",
      "    b = numpy.zeros_like(T)\n",
      "    \n",
      "    b = T[1:-1]*1./sigma\n",
      "    # Consider Dirichlet BC\n",
      "    b[0] += T[0]\n",
      "    \n",
      "    return b"
     ],
     "language": "python",
     "metadata": {},
     "outputs": []
    },
    {
     "cell_type": "markdown",
     "metadata": {},
     "source": [
      "Next, we'll define a function that steps in time using the backward-time, central-space scheme.  Remember that for an implicit method, a step in time is performed by solving the entire linear system. This is a fundamental difference between implicity and explicit methods, and implies a considerable computational cost."
     ]
    },
    {
     "cell_type": "code",
     "collapsed": false,
     "input": [
      "def btcs(T, A, nt, sigma):\n",
      "    \"\"\" Advances diffusion equation in time with backward Euler\n",
      "   \n",
      "    Parameters:\n",
      "    ----------\n",
      "    T: array of float\n",
      "        initial temperature profile\n",
      "    A: 2D array of float\n",
      "        Matrix with discretized diffusion equation\n",
      "    nt: int\n",
      "        number of time steps\n",
      "    sigma: float\n",
      "        alpha*td/dx^2\n",
      "        \n",
      "    Returns:\n",
      "    -------\n",
      "    T: array of floats\n",
      "        temperature profile after nt time steps\n",
      "    \"\"\"\n",
      "    \n",
      "    for t in range(nt):\n",
      "        Tn = T.copy()\n",
      "        b = generateRHS(Tn, sigma)\n",
      "        # Use numpy.linalg.solve\n",
      "        T_interior = solve(A,b)\n",
      "        T[1:-1] = T_interior\n",
      "        # Enforce Neumann BC (Dirichlet is enforced automatically)\n",
      "        T[-1] = T[-2]\n",
      "\n",
      "    return T"
     ],
     "language": "python",
     "metadata": {},
     "outputs": []
    },
    {
     "cell_type": "markdown",
     "metadata": {},
     "source": [
      "We solve the linear system for every time step, but the $A$ matrix does not change. Thus, you can generate it only once and then use it as an input parameter to the time-stepping function. Let's try this out! "
     ]
    },
    {
     "cell_type": "code",
     "collapsed": false,
     "input": [
      "sigma = 0.5\n",
      "dt = sigma * dx*dx/alpha \n",
      "nt = 1000\n",
      "\n",
      "\n",
      "A = generateMatrix(nx, sigma)"
     ],
     "language": "python",
     "metadata": {},
     "outputs": []
    },
    {
     "cell_type": "markdown",
     "metadata": {},
     "source": [
      "It's always a good idea to check your matrix..."
     ]
    },
    {
     "cell_type": "code",
     "collapsed": false,
     "input": [
      "print A"
     ],
     "language": "python",
     "metadata": {},
     "outputs": []
    },
    {
     "cell_type": "markdown",
     "metadata": {},
     "source": [
      "Looks good! "
     ]
    },
    {
     "cell_type": "code",
     "collapsed": false,
     "input": [
      "T = Ti.copy()\n",
      "T = btcs(T, A, nt, sigma)"
     ],
     "language": "python",
     "metadata": {},
     "outputs": []
    },
    {
     "cell_type": "markdown",
     "metadata": {},
     "source": [
      "Now plot!"
     ]
    },
    {
     "cell_type": "code",
     "collapsed": false,
     "input": [
      "plt.plot(numpy.linspace(0,1,nx), T, color='#003366', ls='-', lw=3);"
     ],
     "language": "python",
     "metadata": {},
     "outputs": []
    },
    {
     "cell_type": "markdown",
     "metadata": {},
     "source": [
      "Not too impressive, this looks just like the result from *explicit* forward in time, centered in space for $\\alpha\\frac{\\Delta t}{\\Delta x^2} = \\frac{1}{2}$. \n",
      "\n",
      "Now try $\\alpha\\frac{\\Delta t}{\\Delta x^2} = 5$, which violates the stability condition that we had for the *explicit* scheme:"
     ]
    },
    {
     "cell_type": "code",
     "collapsed": false,
     "input": [
      "sigma = 5.0\n",
      "\n",
      "T = Ti.copy()\n",
      "A = generateMatrix(nx, sigma)\n",
      "\n",
      "T = btcs(T, A, nt, sigma)\n",
      "\n",
      "plt.plot(numpy.linspace(0,1,nx), T, color='#003366', ls='-', lw=3);"
     ],
     "language": "python",
     "metadata": {},
     "outputs": []
    },
    {
     "cell_type": "markdown",
     "metadata": {},
     "source": [
      "**It didn't blow up!**\n",
      "\n",
      "We were not able to do this with the explicit scheme. Try out other values of `sigma`, you'll see that you get a stable solution. In fact, this is an *unconditionally stable* scheme\u2014the most valuable feature of implicity methods is that they give stable solutions without a condition on the numerical parameters. \n",
      "\n",
      "With the implicit scheme, we can now advance in time using larger time steps. But each time step requires the solution of a linear system, which is computationally expensive. This is the trade-off between explicit and implicit methods. "
     ]
    },
    {
     "cell_type": "heading",
     "level": 5,
     "metadata": {},
     "source": [
      "Dig deeper"
     ]
    },
    {
     "cell_type": "markdown",
     "metadata": {},
     "source": [
      "You see how matrix `A` is mostly full of zeros?  We call such a matrix *sparse*, and there are many ways to make more efficient calculations taking advantage of their particular structure. First of all, you can optimize the memory usage. Check out `scipy`'s [sparse-matrix storage formats](http://docs.scipy.org/doc/scipy-0.14.0/reference/sparse.html): you don't need too store $(N-2)^2$ elements! For example, a `coo_matrix` format stores only $3*N_\\text{nonzero}$, where $N_\\text{nonzero}$ is the number of non-zero elements in `A`. Make sure to explore this topic a little more. It's an important topic in numerical PDEs."
     ]
    },
    {
     "cell_type": "heading",
     "level": 2,
     "metadata": {},
     "source": [
      "Crank-Nicolson scheme"
     ]
    },
    {
     "cell_type": "markdown",
     "metadata": {},
     "source": [
      "The [Crank Nicolson scheme](http://en.wikipedia.org/wiki/Crank\u2013Nicolson_method) is a popular second-order, implicit method used with parabolic PDEs in particular. It was developed by John Crank and [Phyllis Nicolson](http://en.wikipedia.org/wiki/Phyllis_Nicolson). The main idea is to take the average between the solutions at $t^n$ and $t^{n+1}$ in the evaluation of the spatial derivative. Applied to the heat equation, this scheme results in the following discretized equation:\n",
      "\n",
      "\\begin{equation}\n",
      "\\frac{u^{n+1}_i - u^n_i}{\\Delta t} = \\alpha * \\frac{1}{2} \\left( \n",
      "\\frac{u^{n+1}_{i+1} - 2^{n+1}_i + u^{n+1}_{i-1}}{\\Delta x^2} + \\frac{u^n_{i+1}-2u^n_i + u^n_{i-1}}{\\Delta x^2}\n",
      "\\right)\n",
      "\\end{equation}\n",
      "\n",
      "\\begin{equation}\n",
      "-ru^{n+1}_{i+1} + (1+2r)u^{n+1}_i - ru^{n+1}_{i-1} = u^n_i + r(u^n_{i+1}-2u^n_i+u^n_{i-1})\n",
      "\\end{equation}\n",
      "\n",
      "Again, we are left with a linear system of equations, where the coefficient matrix is sparse: only the three main diagonals of the matrix contain non-zero elements. This is called a *tri-diagonal* matrix and there are many optimized algorithms that take advantage of this structure.\n",
      "\n",
      "SciPy also provides optimized functions to deal with tri-diagonal matrices. We'll use [`solve_banded`](solve_banded) from the `linalg` module."
     ]
    },
    {
     "cell_type": "markdown",
     "metadata": {},
     "source": [
      "![stencil-cranknicolson](./figures/stencil-cranknicolson.png)\n",
      "\n",
      "#### Figure 2. Stencil of the Crank-Nicolson scheme."
     ]
    },
    {
     "cell_type": "code",
     "collapsed": false,
     "input": [
      "import numpy\n",
      "from scipy.linalg import solve_banded"
     ],
     "language": "python",
     "metadata": {},
     "outputs": []
    },
    {
     "cell_type": "code",
     "collapsed": false,
     "input": [
      "x = 5.\n",
      "nx = 101.\n",
      "alpha = 1e-2\n",
      "\n",
      "dx = x / (nx-1)\n",
      "\n",
      "dt = .5\n",
      "\n",
      "r = alpha*dt/(2*dx**2)\n",
      "T = numpy.zeros(nx)\n",
      "T[0] = 80\n",
      "\n",
      "ud = -r*numpy.ones(nx)\n",
      "ld = -r*numpy.ones(nx)\n",
      "d = numpy.ones(nx)*(1+2*r)\n",
      "\n",
      "#ud[0:2] = 0\n",
      "#ld[-2:] = 0\n",
      "#d[0]=1\n",
      "#d[-1]=1\n",
      "\n",
      "banded = numpy.matrix([ud, d, ld])\n",
      "rhs = T.copy()"
     ],
     "language": "python",
     "metadata": {},
     "outputs": []
    },
    {
     "cell_type": "code",
     "collapsed": false,
     "input": [
      "banded"
     ],
     "language": "python",
     "metadata": {},
     "outputs": []
    },
    {
     "cell_type": "code",
     "collapsed": false,
     "input": [
      "import matplotlib.pyplot as plt\n",
      "%matplotlib inline"
     ],
     "language": "python",
     "metadata": {},
     "outputs": []
    },
    {
     "cell_type": "code",
     "collapsed": false,
     "input": [
      "for i in range(100):\n",
      "    rhs[1:-1] = T[1:-1] + r*(T[2:]-2*T[1:-1]+T[:-2])\n",
      "    T = solve_banded((1, 1), banded, rhs )\n",
      "    plt.plot(numpy.linspace(0,5,nx),T)"
     ],
     "language": "python",
     "metadata": {},
     "outputs": []
    },
    {
     "cell_type": "code",
     "collapsed": false,
     "input": [
      "T2 = T.copy()"
     ],
     "language": "python",
     "metadata": {},
     "outputs": []
    },
    {
     "cell_type": "code",
     "collapsed": false,
     "input": [
      "Thalf = T.copy()"
     ],
     "language": "python",
     "metadata": {},
     "outputs": []
    },
    {
     "cell_type": "code",
     "collapsed": false,
     "input": [
      "plt.figure(figsize=(11,8))\n",
      "plt.plot(T2)\n",
      "plt.plot(Thalf);"
     ],
     "language": "python",
     "metadata": {},
     "outputs": []
    },
    {
     "cell_type": "markdown",
     "metadata": {},
     "source": [
      "---\n",
      "###### The cell below loads the style of the notebook"
     ]
    },
    {
     "cell_type": "code",
     "collapsed": false,
     "input": [
      "from IPython.core.display import HTML\n",
      "css_file = '../../styles/numericalmoocstyle.css'\n",
      "HTML(open(css_file, \"r\").read())"
     ],
     "language": "python",
     "metadata": {},
     "outputs": []
    }
   ],
   "metadata": {}
  }
 ]
}