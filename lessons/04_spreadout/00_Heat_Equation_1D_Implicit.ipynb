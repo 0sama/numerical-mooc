{
 "metadata": {
  "name": "",
  "signature": "sha256:5f2cd467229e83aa4e27c1dd20785852050e7c8f43467e0683db2808d980c22c"
 },
 "nbformat": 3,
 "nbformat_minor": 0,
 "worksheets": [
  {
   "cells": [
    {
     "cell_type": "heading",
     "level": 6,
     "metadata": {},
     "source": [
      "Content under Creative Commons Attribution license CC-BY 4.0, code under MIT license (c)2014 L.A. Barba, C.D. Cooper, G.F. Forsyth."
     ]
    },
    {
     "cell_type": "heading",
     "level": 1,
     "metadata": {},
     "source": [
      "Spreading out"
     ]
    },
    {
     "cell_type": "markdown",
     "metadata": {},
     "source": [
      "You've reached the fourth module of the open course [**\"Practical Numerical Methods with Python\"**](http://openedx.seas.gwu.edu/courses/GW/MAE6286/2014_fall/about), titled *Spreading out: Parabolic PDEs*. We hope that you are enjoying the ride of [#numericalmooc](https://twitter.com/hashtag/numericalmooc) so far!\n",
      "\n",
      "We introduced finite-difference methods for partial differential equations (PDEs) in the [second module](https://github.com/numerical-mooc/numerical-mooc/tree/master/lessons/02_spacetime), and looked at convection problems in more depth in [module 3](https://github.com/numerical-mooc/numerical-mooc/tree/master/lessons/03_wave). Now we'll look at solving problems dominated by diffusion.\n",
      "\n",
      "Why do we separate the discussion of how to solve convection-dominated and diffusion-dominated problems, you might ask? It's all about the harmony between mathematical model and numerical method. Convection and diffusion are inherently different physical processes.\n",
      "\n",
      "The titles of the course modules are meant to spark your imagination: \n",
      "\n",
      "* _Riding the wave_\u2014imagine a surfer on a tall wave, moving fast towards the beach ... convection implies transport, speed, direction. The physics has a directional bias, and we discovered that numerical methods should be compatible with that. That's why we use _upwind_ methods for convection, and we pay attention to problems where waves move in opposite directions, needing special schemes.\n",
      "\n",
      "* _Spreading out_\u2014now imagine a drop of food dye in a cup of water, slowly spreading in all directions until all the liquid takes a uniform color. [Diffusion](http://en.wikipedia.org/wiki/Diffusion) spreads the concentration of something around (atoms, people, ideas, dirt, anything!). Since it is not a directional process, we need numerical methods that are isotropic (like central differences)."
     ]
    },
    {
     "cell_type": "code",
     "collapsed": false,
     "input": [
      "from IPython.display import Image\n",
      "Image(url='http://upload.wikimedia.org/wikipedia/commons/f/f9/Blausen_0315_Diffusion.png')"
     ],
     "language": "python",
     "metadata": {},
     "outputs": []
    },
    {
     "cell_type": "heading",
     "level": 2,
     "metadata": {},
     "source": [
      "Parabolic PDEs"
     ]
    },
    {
     "cell_type": "markdown",
     "metadata": {},
     "source": [
      "You already met the simplest parabolic PDE\u2014the [1-D diffusion equation](http://nbviewer.ipython.org/github/numerical-mooc/numerical-mooc/blob/master/lessons/02_spacetime/02_03_1DDiffusion.ipynb)\u2014in module 2. Its main feature is that it has a second-order derivative in space. Here it is again:\n",
      "\n",
      "$$\n",
      "\\frac{\\partial u}{\\partial t} = \\alpha \\frac{\\partial^2 u}{\\partial x^2}\n",
      "$$\n",
      "\n",
      "Check out the article on [parabolic PDEs](http://en.wikipedia.org/wiki/Parabolic_partial_differential_equation) in Wikipedia. Now compare with the diffusion equation above, with the two independent variables here being $x, t$. You'll see that with no mixed derivatives, and only one second-order derivative (in the spatial variable $x$), it satisfies the condition of a parabolic PDE. Work it out on a piece of paper if you need to.\n",
      "\n",
      "In the previous module, discussing hyperbolic conservation laws, we learned that solutions have characteristics: information travels along certain paths on space-time phase space. In contrast, parabolic equations don't have characteristics, because any local change in the initial condition will eventually affect the entire domain, although its effect will be felt at smaller intensity with longer distances. This is typical of diffusion processes.\n",
      "\n",
      "\n",
      "In this first lesson of the module, we first review the 1D diffusion equation and then take a deeper look into the issue of boundary conditions. We'll then introduce _implicit discretizations_ for the first time, which will take us to the land of linear solvers. In the second lesson we'll graduate to two dimensions\u2014more boundary condition and stability issues will come up. _Enjoy!_"
     ]
    },
    {
     "cell_type": "heading",
     "level": 2,
     "metadata": {},
     "source": [
      "Heat conduction"
     ]
    },
    {
     "cell_type": "markdown",
     "metadata": {},
     "source": [
      "Heat conduction is a diffusive process. Let's remind ourselves of the heat equation in one spatial dimension:\n",
      "\n",
      "\\begin{equation}\n",
      "\\frac{\\partial T}{\\partial t} = \\alpha \\frac{\\partial^2 T}{\\partial x^2}\n",
      "\\end{equation}\n",
      "\n",
      "Here, $\\alpha$ is the thermal diffusivity, a property of the material, and $T$ is the temperature.\n",
      "\n",
      "In the [third lesson of module 2](http://nbviewer.ipython.org/github/numerical-mooc/numerical-mooc/blob/master/lessons/02_spacetime/02_03_1DDiffusion.ipynb), we discretized the diffusion equation  with a forward-time, centered-space scheme, subject to the following stability constraint\n",
      "\n",
      "\\begin{equation}\n",
      "\\alpha \\frac{\\Delta t}{(\\Delta x)^2} \\leq \\frac{1}{2}\n",
      "\\end{equation}"
     ]
    },
    {
     "cell_type": "heading",
     "level": 3,
     "metadata": {},
     "source": [
      "Problem set up"
     ]
    },
    {
     "cell_type": "markdown",
     "metadata": {},
     "source": [
      "Say we have a graphite rod, with [thermal diffusivity](http://en.wikipedia.org/wiki/Thermal_diffusivity) of $\\alpha=1.22\\times10^{-3} {\\rm m}^2/{\\rm s}$, length $L=1{\\rm m}$, and temperature $T=0{\\rm K}$ everywhere. At time $t=0$, we raise the temperature at the end $x=0$ to $T=100{\\rm K}$, and hold it there. *How will the temperature evolve in the rod?*\n",
      "\n",
      "Let's start by importing some libraries and setting up the discretization. We'll use a spatial grid with 51 points and advance for 100 time steps, to start with."
     ]
    },
    {
     "cell_type": "code",
     "collapsed": false,
     "input": [
      "import numpy\n",
      "import matplotlib.pyplot as plt\n",
      "%matplotlib inline\n",
      "from matplotlib import rcParams\n",
      "rcParams['font.family'] = 'serif'\n",
      "rcParams['font.size'] = 16"
     ],
     "language": "python",
     "metadata": {},
     "outputs": []
    },
    {
     "cell_type": "code",
     "collapsed": false,
     "input": [
      "L = 1.\n",
      "nt = 100\n",
      "nx = 51.\n",
      "alpha = 1.22e-3\n",
      "\n",
      "dx = L/(nx-1)\n",
      "\n",
      "Ti = numpy.zeros(nx)\n",
      "Ti[0] = 100"
     ],
     "language": "python",
     "metadata": {},
     "outputs": []
    },
    {
     "cell_type": "markdown",
     "metadata": {},
     "source": [
      "Remember the forward-time, centered-space discretization? You should work it out on a piece of paper yourself (if you can't do it without looking it up, it means you need to do this more!).\n",
      "\n",
      "\\begin{equation}\\frac{T_{i}^{n+1}-T_{i}^{n}}{\\Delta t}=\\alpha\\frac{T_{i+1}^{n}-2T_{i}^{n}+T_{i-1}^{n}}{\\Delta x^2}\\end{equation}\n",
      "\n",
      "To obtain the temperature at the next time step, $T^{n+1}_i$, from the known information at the current time step, we compute\n",
      "\n",
      "\\begin{equation}T_{i}^{n+1}=T_{i}^{n}+\\frac{\\alpha\\Delta t}{\\Delta x^2}(T_{i+1}^{n}-2T_{i}^{n}+T_{i-1}^{n})\\end{equation}\n",
      "\n",
      "Check the [third notebook of module 2](http://nbviewer.ipython.org/github/numerical-mooc/numerical-mooc/blob/master/lessons/02_spacetime/02_03_1DDiffusion.ipynb), if you need to refresh your memory!\n",
      "\n",
      "The following function implements this numerical scheme:"
     ]
    },
    {
     "cell_type": "code",
     "collapsed": false,
     "input": [
      "def ftcs(T, nt, dt, dx, alpha):\n",
      "    \"\"\"Solves the diffusion equation with forward in time scheme\n",
      "    \n",
      "    Parameters:\n",
      "    ----------\n",
      "    T: array of float\n",
      "        Initial temperature profile\n",
      "    nt: int\n",
      "        Number of time steps\n",
      "    dt: float\n",
      "        Time step size\n",
      "    dx: float\n",
      "        Mesh size\n",
      "    alpha: float\n",
      "        Diffusion coefficient (thermal diffusivity)\n",
      "        \n",
      "    Returns:\n",
      "    -------\n",
      "    T: array of float\n",
      "        Temperature profile after nt time steps with forward in time scheme\n",
      "    \n",
      "    \"\"\"\n",
      "    for n in range(nt):  \n",
      "        Tn = T.copy() \n",
      "        T[1:-1] = Tn[1:-1] + alpha*dt/dx**2*(Tn[2:] -2*Tn[1:-1] + Tn[0:-2])\n",
      "        \n",
      "    return T"
     ],
     "language": "python",
     "metadata": {},
     "outputs": []
    },
    {
     "cell_type": "markdown",
     "metadata": {},
     "source": [
      "We are all set to run! First, let's use a time step `dt` that satisfies the stability constraint"
     ]
    },
    {
     "cell_type": "code",
     "collapsed": false,
     "input": [
      "sigma = 1/2.0\n",
      "dt = sigma * dx*dx/alpha\n",
      "T = Ti.copy()\n",
      "T = ftcs(T, nt, dt, dx, alpha)"
     ],
     "language": "python",
     "metadata": {},
     "outputs": []
    },
    {
     "cell_type": "markdown",
     "metadata": {},
     "source": [
      "And plot!"
     ]
    },
    {
     "cell_type": "code",
     "collapsed": false,
     "input": [
      "plt.plot(numpy.linspace(0,1,nx), T, color='#003366', ls='-', lw=3)\n",
      "plt.ylim(0,100)\n",
      "plt.xlabel('Length of Rod')\n",
      "plt.ylabel('Temperature');"
     ],
     "language": "python",
     "metadata": {},
     "outputs": []
    },
    {
     "cell_type": "heading",
     "level": 2,
     "metadata": {},
     "source": [
      "Boundary Conditions"
     ]
    },
    {
     "cell_type": "markdown",
     "metadata": {},
     "source": [
      "In the rod problem, we stated that the left-hand side of the rod is held to a temperature $T = 100{\\rm K}$.  This is an example of a *boundary condition* (BC): a rule that defines how the problem interacts with the borders of the domain.  In this case, the domain spans the length of the rod, from $0 \\leq x \\leq 1$.\n",
      "\n",
      "There are many types of boundary conditions, and they have an important effect on the solution of the problem. For example, in [module 2, lesson 4](http://nbviewer.ipython.org/urls/raw.github.com/numerical-mooc/numerical-mooc/master/lessons/02_spacetime/02_04_1DBurgers.ipynb) on Burgers' Equation, we used a periodic boundary condition to \"connect\" the right-hand and left-hand borders of the domain.  \n",
      "\n",
      "We need to discuss boundary conditions in a little more detail, and this is good place to do it. Read on!"
     ]
    },
    {
     "cell_type": "heading",
     "level": 3,
     "metadata": {},
     "source": [
      "Dirichlet boundary"
     ]
    },
    {
     "cell_type": "markdown",
     "metadata": {},
     "source": [
      "The rod example above uses a *Dirichlet* BC on the left-hand side.  A Dirichlet boundary is one in which the border is held to a specific value of the solution variable.\n",
      "\n",
      "What about the right-hand end of the rod $(x=1)$?  In the discretization we set up above, the problem hasn't evolved for long enough time for the heat to travel the full length of the rod.  Let's increase the number of timesteps, `nt`, and see what happens."
     ]
    },
    {
     "cell_type": "code",
     "collapsed": false,
     "input": [
      "nt = 1000\n",
      "T = Ti.copy()\n",
      "T = ftcs(T, nt, dt, dx, alpha)"
     ],
     "language": "python",
     "metadata": {},
     "outputs": []
    },
    {
     "cell_type": "code",
     "collapsed": false,
     "input": [
      "plt.plot(numpy.linspace(0,1,nx), T, color='#003366', ls='-', lw=3)\n",
      "plt.ylim(0,100)\n",
      "plt.xlabel('Length of Rod')\n",
      "plt.ylabel('Temperature');"
     ],
     "language": "python",
     "metadata": {},
     "outputs": []
    },
    {
     "cell_type": "markdown",
     "metadata": {},
     "source": [
      "Hmmm ... it looks like we're pinning the right BC to the value $T=0{\\rm K}$, you agree?\n",
      "Now study the code for the `ftbs` function, above, and try to figure out what happens at the right-most point of the spatial grid. Did you figure it out? \n",
      "\n",
      "It never updates the value at `T[-1]`!  That value is set to zero in the initial condition and stays that way throughout the entire simulation.  We effectively have a Dirichlet boundary at *both* ends.  The left-hand side of the rod is held to a temperature of $T = 100{\\rm K}$ and the right-hand side is held to $T = 0{\\rm K}$  Because both end tempera- tures are \"pinned\" to set values, the temperature distribution within the rod will relax (after enough time) to a linear temperature gradient across the length of the rod.  \n",
      "\n",
      "Once the solution is relaxed, no number of extra timesteps will make it change.  This is an example of a *steady-state solution* and we'll learn more about those in Module 5 of the course.\n",
      "\n",
      "Dirichlet BCs show up in many engineering applications, among them thermo- dynamics (e.g., setting a surface temperature) and fluid dynamics (e.g., the no-slip conditions at walls in viscous fluids)."
     ]
    },
    {
     "cell_type": "heading",
     "level": 3,
     "metadata": {},
     "source": [
      "Neumann boundary"
     ]
    },
    {
     "cell_type": "markdown",
     "metadata": {},
     "source": [
      "Another commonly used BC is the *Neumann* boundary: rather than specifying the value of the solution at the border, they specify the value of the *derivative* of the solution at the border.  \n",
      "\n",
      "In our example, if we apply a Neumann boundary to the right-hand side of the rod, we can represent that mathematically as\n",
      "\n",
      "\\begin{equation}\n",
      "\\left. \\frac{\\partial T}{\\partial x} \\right|_{x = 1} = q(t)\n",
      "\\end{equation}\n",
      "\n",
      "How can we enforce that in code?  One easy way is using a finite-difference discretization of the derivative at the boundary.  At time step $n$, for $N$ points, that would be\n",
      "\n",
      "\\begin{equation}\n",
      "\\left. \\frac{\\partial T}{\\partial x} \\right|_{x=1} \\approx \\frac{T^n_N - T^n_{N-1}}{\\Delta x} = q(t)\n",
      "\\end{equation}\n",
      "\n",
      "In the context of heat conduction, the space derivative of temperature is the heat flux density $q$, the amount of heat per unit time, per unit area:\n",
      "\n",
      "\\begin{equation}\n",
      "\\frac{\\partial T}{\\partial x} = q\n",
      "\\end{equation}\n",
      "\n",
      "For example, if the rod at $x=1$ has some insulating material, no heat is going to be able to get out through that end, and the Neumann boundary condition is:\n",
      "\n",
      "\\begin{equation}\n",
      "\\left. \\frac{\\partial T}{\\partial x} \\right|_{x=1} = 0\n",
      "\\end{equation}\n",
      "\n",
      "Think about what the equation is saying: the change in temperature when moving in the $x$ direction is zero at the right-most edge of the rod. That means that the temperature should be equal on the last two spatial grid points.\n",
      "\n",
      "To change the right-hand side of the rod problem to use a Neumann boundary condition, we add the following snippet of code:\n",
      "\n",
      "```Python\n",
      "T[-1] = T[-2]\n",
      "```\n",
      "\n",
      "The temperature at the boundary (`T[-1]`) is equal to the temperature directly to its left (`T[-2]`).  The rate of change is zero and the Neumann condition is satisfied.\n"
     ]
    },
    {
     "cell_type": "markdown",
     "metadata": {},
     "source": [
      "The Dirichlet conditions in the rod example were enforced without any extra input from us, but the Neumann condition will require an update at each iteration of the loop.\n",
      "\n",
      "Dirichlet and Neumann BCs can sometimes be mixed to better represent the physics of a problem.  \n",
      "\n",
      "Let's revisit the heated rod problem.  This time, the temperature at $x = 0$ will remain fixed at $T = 100{\\rm K}$\u2014that's the Dirichlet condition.  At $x = 1$, we apply a Neumann BC.  \n"
     ]
    },
    {
     "cell_type": "code",
     "collapsed": false,
     "input": [
      "def ftcs_mixed(T, nt, dt, dx, alpha):\n",
      "    \"\"\"Solves the diffusion equation with forward in time scheme using Dirichlet\n",
      "    b.c. at left boundary and Neumann b.c. at right boundary\n",
      "    \n",
      "    Parameters:\n",
      "    ----------\n",
      "    u: array of float\n",
      "        Initial temperature profile\n",
      "    nt: int\n",
      "        Number of time steps\n",
      "    dt: float\n",
      "        Time step size\n",
      "    dx: float\n",
      "        Mesh size\n",
      "    alpha: float\n",
      "        Diffusion coefficient (thermal diffusivity)\n",
      "        \n",
      "    Returns:\n",
      "    -------\n",
      "    u: array of float\n",
      "        Temperature profile after nt time steps with forward in time scheme\n",
      "    \n",
      "    \"\"\"\n",
      "    for n in range(nt):  \n",
      "        Tn = T.copy() \n",
      "        T[1:-1] = Tn[1:-1] + alpha*dt/dx**2*(Tn[2:] -2*Tn[1:-1] + Tn[0:-2])\n",
      "        T[-1] = T[-2]\n",
      "        \n",
      "    return T"
     ],
     "language": "python",
     "metadata": {},
     "outputs": []
    },
    {
     "cell_type": "code",
     "collapsed": false,
     "input": [
      "nt = 1000\n",
      "T = Ti.copy()\n",
      "T = ftcs_mixed(T, nt, dt, dx, alpha)"
     ],
     "language": "python",
     "metadata": {},
     "outputs": []
    },
    {
     "cell_type": "code",
     "collapsed": false,
     "input": [
      "plt.plot(numpy.linspace(0,1,nx), T, color='#003366', ls='-', lw=3)\n",
      "plt.ylim(0,100)\n",
      "plt.title('Rod with LHS Dirichlet B.C. and RHS Neumann B.C.\\n')\n",
      "plt.xlabel('Length of Rod')\n",
      "plt.ylabel('Temperature');"
     ],
     "language": "python",
     "metadata": {},
     "outputs": []
    },
    {
     "cell_type": "markdown",
     "metadata": {},
     "source": [
      "Now heat is accumulating in the domain. Our insulator works!  If you increase the number of timesteps `nt` further, you will see the outflow temperature at $x = 1$ continues to increase.  "
     ]
    },
    {
     "cell_type": "heading",
     "level": 2,
     "metadata": {},
     "source": [
      "Implicit discretization"
     ]
    },
    {
     "cell_type": "markdown",
     "metadata": {},
     "source": [
      "The discretization methods we've introduced up until this point share a common theme.  They are all *explicit* schemes.  What does that mean?  \n",
      "\n",
      "In the example above, the solution for $T$ at timestep $t^{n+1}$ is calculated using different combinations of $T$ values from the *previous* timestep $t^n$.  We have complete knowledge of the parts that feed into the solution update.  \n",
      "\n",
      "*Implicit* methods work differently. \n",
      "\n",
      "Let's move things around a bit and try combining the Euler time step with an evaluation of the spatial derivative on the *updated* solution at $t^{n+1}$. The discretized form of the equation is now\n",
      "\n",
      "\\begin{equation}\\frac{T_{i}^{n+1}-T_{i}^{n}}{\\Delta t}=\\alpha\\frac{T_{i+1}^{n+1}-2T_{i}^{n+1}+T_{i-1}^{n+1}}{\\Delta x^2}\\end{equation}\n",
      "\n",
      "The stencil for this discretization doesn't look anything like the other stencils we've used until now. Check it out."
     ]
    },
    {
     "cell_type": "markdown",
     "metadata": {},
     "source": [
      "![btcs stencil](./figures/btcs_stencil.png)"
     ]
    },
    {
     "cell_type": "heading",
     "level": 4,
     "metadata": {},
     "source": [
      "Figure 1. Stencil of the implicit central scheme."
     ]
    },
    {
     "cell_type": "markdown",
     "metadata": {},
     "source": [
      "From the previous time-step, we only know $T_i^{n}$, but what about $T_i^{n+1}$, $T_{i-1}^{n+1}$ and $T_{i+1}^{n+1}$?  What can we do?\n",
      "\n",
      "No need to panic! Let's start by putting what we *do know* on the right-hand side of the equation and what we *don't know* on the left. We get:\n",
      "\n",
      "\\begin{equation} -T_{i-1}^{n+1} + \\left( 2 + \\frac{\\Delta x^2}{\\alpha\\Delta t}\\right) T_{i}^{n+1} - T_{i+1}^{n+1} = T_{i}^{n}\\frac{\\Delta x^2}{\\alpha\\Delta t} \\end{equation} \n",
      "\n",
      "It looks like there are a lot of unknowns and just one equation! \n",
      "\n",
      "What does it look like with $i=1$?\n",
      "\n",
      "\\begin{equation}-T_{0}^{n+1} + \\left( 2 + \\frac{\\Delta x^2}{\\alpha\\Delta t}\\right) T_{1}^{n+1} - T_{2}^{n+1} = T_{1}^{n}\\frac{\\Delta x^2}{\\alpha\\Delta t} \\end{equation}\n",
      "\n",
      "and $i=2$?\n",
      "\n",
      "\\begin{equation}-T_{1}^{n+1} + \\left( 2 + \\frac{\\Delta x^2}{\\alpha\\Delta t}\\right) T_{2}^{n+1} - T_{3}^{n+1} = T_{2}^{n}\\frac{\\Delta x^2}{\\alpha\\Delta t} \\end{equation}\n",
      "\n",
      "What about $i=3$?\n",
      "\n",
      "\\begin{equation}-T_{2}^{n+1} + \\left( 2 + \\frac{\\Delta x^2}{\\alpha\\Delta t}\\right) T_{3}^{n+1} - T_{4}^{n+1} = T_{3}^{n}\\frac{\\Delta x^2}{\\alpha\\Delta t} \\end{equation}\n",
      "\n",
      "Can you see the common element across equations? Here's a little help:"
     ]
    },
    {
     "cell_type": "markdown",
     "metadata": {},
     "source": [
      "<img src=\"./figures/implicit_formula.svg\" style=\"width: 400px;\"/>"
     ]
    },
    {
     "cell_type": "markdown",
     "metadata": {},
     "source": [
      "$T_{i}^{n+1}$ also appears in the equation for $T_{i-1}^{n+1}$ and $T_{i+1}^{n+1}$. We might have enough equations if we apply this for all $i$-values at the same time, don't you think? In fact, this is a linear system of equations for the unknown values $T_{i}^{n+1}$ on the spatial grid."
     ]
    },
    {
     "cell_type": "heading",
     "level": 3,
     "metadata": {},
     "source": [
      "What about boundary conditions? "
     ]
    },
    {
     "cell_type": "markdown",
     "metadata": {},
     "source": [
      "Let's look at the boundary points of the example with a Dirichlet BC at $x=0$ and a Neumann BC at $x=1$, discretizing with $N$ mesh points.\n",
      "\n",
      "The value $T_0^{n+1}$ is known at every time-step from the BC, so putting all unknown values on the left and the known values on the right yields the following for the $i=1$ equation:\n",
      "\n",
      "\\begin{equation}-T_{2}^{n+1} + \\left( 2 + \\frac{\\Delta x^2}{\\alpha\\Delta t}\\right) T_{1}^{n+1} = T_{1}^{n}\\frac{\\Delta x^2}{\\alpha\\Delta t} + T_{0}^{n+1} \\end{equation}\n",
      "\n",
      "That was easy!\n",
      "\n",
      "On the other hand, for $i=N-2$, the equation reads\n",
      "\n",
      "\\begin{equation} -T_{N-3}^{n+1} + \\left( 2 + \\frac{\\Delta x^2}{\\alpha\\Delta t}\\right) T_{N-2}^{n+1} - T_{N-1}^{n+1} = T_{N-2}^{n}\\frac{\\Delta x^2}{\\alpha\\Delta t} \\end{equation} \n",
      "\n",
      "The discretized Neumann boundary condition is\n",
      "\n",
      "\\begin{equation}\\frac{T^{n}_{N-1} - T^{n}_{N-2}}{\\Delta x} = q.\\end{equation}\n",
      "\n",
      "But we can just as easily write that at time $n+1$ (the boundary conditions apply at every time-step)\n",
      "\n",
      "\\begin{equation}\\frac{T^{n+1}_{N-1} - T^{n+1}_{N-2}}{\\Delta x} = q.\\end{equation}\n",
      "\n",
      "Inserting the Neumann boundary condition in the equation for $i=N-2$ yields\n",
      "\n",
      "\\begin{equation} - T_{N-3}^{n+1} + \\left( 1 + \\frac{\\Delta x^2}{\\alpha\\Delta t}\\right) T_{N-2}^{n+1} = T_{N-2}^{n}\\frac{\\Delta x^2}{\\alpha\\Delta t} + \\Delta x q \\end{equation}"
     ]
    },
    {
     "cell_type": "markdown",
     "metadata": {},
     "source": [
      "Make sure you work this out with pen and paper, it's important to recognize where these terms come from!\n",
      "\n",
      "Now we can write the linear system of euqations in matrix form as follows:\n",
      "\n",
      "$$[A][x] = [b]+[b]_{b.c.}$$"
     ]
    },
    {
     "cell_type": "markdown",
     "metadata": {},
     "source": [
      "\\begin{equation}\\left[ \\begin{array}{cccccc}\n",
      " \\left(2 + \\frac{1}{\\sigma}\\right) & -1 & 0 & \\cdots & & 0 \\\\\n",
      " -1 & \\left(2 + \\frac{1}{\\sigma}\\right) & -1 & 0 & \\cdots & 0 \\\\\n",
      " 0 & & \\ddots& & & \\vdots \\\\\n",
      " \\vdots & & & & \\left(2 + \\frac{1}{\\sigma}\\right)& \\\\\n",
      " 0 & \\cdots & & & -1 & \\left(1 + \\frac{1}{\\sigma}\\right) \\end{array} \\right]\n",
      " \\cdot \n",
      " \\left[ \\begin{array}{c} \n",
      " T_1^{n+1} \\\\ T_2^{n+1} \\\\ \\vdots \\\\ \\\\ T_{N-2}^{n+1} \\end{array} \\right]\n",
      " =\n",
      " \\left[ \\begin{array}{c} \n",
      "T_1^n \\frac{1}{\\sigma} \\\\ T_2^{n}\\frac{1}{\\sigma} \\\\ \\vdots \\\\ \\\\ T_{N-2}^{n}\\frac{1}{\\sigma} \\end{array} \\right]\n",
      " +\n",
      " \\begin{bmatrix}\n",
      "  T_0^{n+1}\\\\\n",
      "  0\\\\\\\\\n",
      "  \\vdots\\\\\\\\\n",
      "  0\\\\\n",
      "  q\\Delta x\n",
      " \\end{bmatrix}\n",
      " \\end{equation} \n",
      " \n",
      " where $\\sigma=\\frac{\\alpha\\Delta t}{\\Delta x^2}$. \n",
      " \n",
      "Notice that the Dirichlet boundary condition adds only a term to the right-hand side of the system.  The Neumann boundary condition both adds a term to the right-hand side and modifies the matrix $[A]$."
     ]
    },
    {
     "cell_type": "heading",
     "level": 3,
     "metadata": {},
     "source": [
      "Solving a linear system"
     ]
    },
    {
     "cell_type": "markdown",
     "metadata": {},
     "source": [
      "We need to solve the linear system of equations written above to advance the solution in time. Luckily, we can rely on our friends from SciPy who have developed some nice linear solvers, so we don't need to write our own.\n",
      "\n",
      "From `scipy.linalg`, let's import `solve`: a function to solve linear systems. Also, we'll define a function that generates this matrix, and the right-hand side:"
     ]
    },
    {
     "cell_type": "code",
     "collapsed": false,
     "input": [
      "from scipy.linalg import solve"
     ],
     "language": "python",
     "metadata": {},
     "outputs": []
    },
    {
     "cell_type": "code",
     "collapsed": false,
     "input": [
      "def generateMatrix(N, sigma):\n",
      "    \"\"\" Computes the matrix for the diffusion equation with backward Euler\n",
      "        Dirichlet condition at i=0, Neumann at i=-1\n",
      "    \n",
      "    Parameters:\n",
      "    ----------\n",
      "    T: array of float\n",
      "        Temperature at current time step\n",
      "    sigma: float \n",
      "        alpha*dt/dx^2\n",
      "    \n",
      "    Returns:\n",
      "    -------\n",
      "    A: 2D numpy array of float\n",
      "        Matrix for diffusion equation\n",
      "    \"\"\"\n",
      "   \n",
      "    # Setup the diagonal\n",
      "    d = numpy.diag(numpy.ones(N-2)*(2+1./sigma))\n",
      "    \n",
      "    # Consider Neumann BC\n",
      "    d[-1,-1] = 1+1./sigma\n",
      "    \n",
      "    # Setup upper diagonal\n",
      "    ud = numpy.diag(numpy.ones(N-3)*-1, 1)\n",
      "    \n",
      "    # Setup lower diagonal\n",
      "    ld = numpy.diag(numpy.ones(N-3)*-1, -1)\n",
      "    \n",
      "    A = d + ud + ld\n",
      "    \n",
      "    return A"
     ],
     "language": "python",
     "metadata": {},
     "outputs": []
    },
    {
     "cell_type": "code",
     "collapsed": false,
     "input": [
      "def generateRHS(T, sigma):\n",
      "    \"\"\" Computes right-hand side of linear system for diffusion equation\n",
      "        with backward Euler\n",
      "    \n",
      "    Parameters:\n",
      "    ----------\n",
      "    T: array of float\n",
      "        Temperature at current time step\n",
      "    sigma: float\n",
      "        alpha*dt/dx^2\n",
      "    \n",
      "    Returns:\n",
      "    -------\n",
      "    b: array of float\n",
      "        Right-hand side of diffusion equation with backward Euler\n",
      "    \"\"\"\n",
      "    b = numpy.zeros_like(T)\n",
      "    \n",
      "    b = T[1:-1]*1./sigma\n",
      "    # Consider Dirichlet BC\n",
      "    b[0] += T[0]\n",
      "    \n",
      "    return b"
     ],
     "language": "python",
     "metadata": {},
     "outputs": []
    },
    {
     "cell_type": "markdown",
     "metadata": {},
     "source": [
      "Also, let's define a function that steps in time using the backward time, central space scheme.  Remember that for the implicit scheme, a step in time is performed by solving the entire linear system.  "
     ]
    },
    {
     "cell_type": "code",
     "collapsed": false,
     "input": [
      "def btcs(T, A, nt, sigma):\n",
      "    \"\"\" Advances diffusion equation in time with backward Euler\n",
      "   \n",
      "    Parameters:\n",
      "    ----------\n",
      "    T: array of float\n",
      "        initial temperature profile\n",
      "    A: 2D array of float\n",
      "        Matrix with discretized diffusion equation\n",
      "    nt: int\n",
      "        number of time steps\n",
      "    sigma: float\n",
      "        alpha*td/dx^2\n",
      "        \n",
      "    Returns:\n",
      "    -------\n",
      "    T: array of floats\n",
      "        temperature profile after nt time steps\n",
      "    \"\"\"\n",
      "    \n",
      "    for t in range(nt):\n",
      "        Tn = T.copy()\n",
      "        b = generateRHS(Tn, sigma)\n",
      "        # Use numpy.linalg.solve\n",
      "        T_interior = solve(A,b)\n",
      "        T[1:-1] = T_interior\n",
      "        # Enforce Neumann BC (Dirichlet is enforced automatically)\n",
      "        T[-1] = T[-2]\n",
      "\n",
      "    return T"
     ],
     "language": "python",
     "metadata": {},
     "outputs": []
    },
    {
     "cell_type": "markdown",
     "metadata": {},
     "source": [
      "We have to solve the linear system for every time step, but the $A$ matrix does not change in time.  We generate it only once and use it as an input parameter to our time-stepping function. Let's try this out! "
     ]
    },
    {
     "cell_type": "code",
     "collapsed": false,
     "input": [
      "sigma = 0.5\n",
      "dt = sigma * dx*dx/alpha \n",
      "nt = 1000\n",
      "\n",
      "\n",
      "A = generateMatrix(nx, sigma)"
     ],
     "language": "python",
     "metadata": {},
     "outputs": []
    },
    {
     "cell_type": "markdown",
     "metadata": {},
     "source": [
      "Always good to check your matrix..."
     ]
    },
    {
     "cell_type": "code",
     "collapsed": false,
     "input": [
      "print A"
     ],
     "language": "python",
     "metadata": {},
     "outputs": []
    },
    {
     "cell_type": "markdown",
     "metadata": {},
     "source": [
      "Looks good! "
     ]
    },
    {
     "cell_type": "code",
     "collapsed": false,
     "input": [
      "T = Ti.copy()\n",
      "T = btcs(T, A, nt, sigma)"
     ],
     "language": "python",
     "metadata": {},
     "outputs": []
    },
    {
     "cell_type": "markdown",
     "metadata": {},
     "source": [
      "Now plot!"
     ]
    },
    {
     "cell_type": "code",
     "collapsed": false,
     "input": [
      "plt.plot(numpy.linspace(0,1,nx), T, color='#003366', ls='-', lw=3);"
     ],
     "language": "python",
     "metadata": {},
     "outputs": []
    },
    {
     "cell_type": "markdown",
     "metadata": {},
     "source": [
      "Not too impressive, this looks just like forward in time, centered in space for $\\alpha\\frac{\\Delta t}{\\Delta x^2} = \\frac{1}{2}$. \n",
      "\n",
      "Let's try $\\alpha\\frac{\\Delta t}{\\Delta x^2} = 5$"
     ]
    },
    {
     "cell_type": "code",
     "collapsed": false,
     "input": [
      "sigma = 5.0\n",
      "\n",
      "T = Ti.copy()\n",
      "A = generateMatrix(nx, sigma)\n",
      "\n",
      "T = btcs(T, A, nt, sigma)\n",
      "\n",
      "plt.plot(numpy.linspace(0,1,nx), T, color='#003366', ls='-', lw=3);"
     ],
     "language": "python",
     "metadata": {},
     "outputs": []
    },
    {
     "cell_type": "markdown",
     "metadata": {},
     "source": [
      "It didn't blow up!\n",
      "\n",
      "We were not able to do this with the explicit scheme! Try out other values of `sigma`, you'll see, this is an *unconditionally stable* scheme.\n",
      "\n",
      "Even though we can now advance faster in time, each time step requires the solution of a linear system, which is computationally expensive. This is not a freebie!"
     ]
    },
    {
     "cell_type": "heading",
     "level": 5,
     "metadata": {},
     "source": [
      "Dig deeper"
     ]
    },
    {
     "cell_type": "markdown",
     "metadata": {},
     "source": [
      "You see how matrix `A` is full of zeros? This is not an efficient way to store the matrix! We call matrix `A` a *sparse* matrix. Check out `scipy`'s [sparse matrix storage formats](http://docs.scipy.org/doc/scipy-0.14.0/reference/sparse.html): you don't need too store $(N-2)^2$ elements! For example, a `coo_matrix` format stores only $3*N_\\text{nonzero}$, where $N_\\text{nonzero}$ is the number of non-zero elements in `A`. "
     ]
    },
    {
     "cell_type": "heading",
     "level": 2,
     "metadata": {},
     "source": [
      "Crank-Nicolson"
     ]
    },
    {
     "cell_type": "markdown",
     "metadata": {},
     "source": [
      "Crank Nicolson:\n",
      "\n",
      "\\begin{equation}\n",
      "\\frac{u^{n+1}_i - u^n_i}{\\Delta t} = \\alpha * \\frac{1}{2} \\left( \n",
      "\\frac{u^{n+1}_{i+1} - 2^{n+1}_i + u^{n+1}_{i-1}}{\\Delta x^2} + \\frac{u^n_{i+1}-2u^n_i + u^n_{i-1}}{\\Delta x^2}\n",
      "\\right)\n",
      "\\end{equation}\n",
      "\n",
      "\\begin{equation}\n",
      "-ru^{n+1}_{i+1} + (1+2r)u^{n+1}_i - ru^{n+1}_{i-1} = u^n_i + r(u^n_{i+1}-2u^n_i+u^n_{i-1})\n",
      "\\end{equation}"
     ]
    },
    {
     "cell_type": "code",
     "collapsed": false,
     "input": [
      "import numpy\n",
      "from scipy.linalg import solve_banded"
     ],
     "language": "python",
     "metadata": {},
     "outputs": []
    },
    {
     "cell_type": "code",
     "collapsed": false,
     "input": [
      "x = 5.\n",
      "nx = 101.\n",
      "alpha = 1e-2\n",
      "\n",
      "dx = x / (nx-1)\n",
      "\n",
      "dt = .5\n",
      "\n",
      "r = alpha*dt/(2*dx**2)\n",
      "T = numpy.zeros(nx)\n",
      "T[0] = 80\n",
      "\n",
      "ud = -r*numpy.ones(nx)\n",
      "ld = -r*numpy.ones(nx)\n",
      "d = numpy.ones(nx)*(1+2*r)\n",
      "\n",
      "#ud[0:2] = 0\n",
      "#ld[-2:] = 0\n",
      "#d[0]=1\n",
      "#d[-1]=1\n",
      "\n",
      "banded = numpy.matrix([ud, d, ld])\n",
      "rhs = T.copy()"
     ],
     "language": "python",
     "metadata": {},
     "outputs": []
    },
    {
     "cell_type": "code",
     "collapsed": false,
     "input": [
      "banded"
     ],
     "language": "python",
     "metadata": {},
     "outputs": []
    },
    {
     "cell_type": "code",
     "collapsed": false,
     "input": [
      "import matplotlib.pyplot as plt\n",
      "%matplotlib inline"
     ],
     "language": "python",
     "metadata": {},
     "outputs": []
    },
    {
     "cell_type": "code",
     "collapsed": false,
     "input": [
      "for i in range(100):\n",
      "    rhs[1:-1] = T[1:-1] + r*(T[2:]-2*T[1:-1]+T[:-2])\n",
      "    T = solve_banded((1, 1), banded, rhs )\n",
      "    plt.plot(numpy.linspace(0,5,nx),T)"
     ],
     "language": "python",
     "metadata": {},
     "outputs": []
    },
    {
     "cell_type": "code",
     "collapsed": false,
     "input": [
      "T2 = T.copy()"
     ],
     "language": "python",
     "metadata": {},
     "outputs": []
    },
    {
     "cell_type": "code",
     "collapsed": false,
     "input": [
      "Thalf = T.copy()"
     ],
     "language": "python",
     "metadata": {},
     "outputs": []
    },
    {
     "cell_type": "code",
     "collapsed": false,
     "input": [
      "plt.figure(figsize=(11,8))\n",
      "plt.plot(T2)\n",
      "plt.plot(Thalf);"
     ],
     "language": "python",
     "metadata": {},
     "outputs": []
    },
    {
     "cell_type": "markdown",
     "metadata": {},
     "source": [
      "---\n",
      "###### The cell below loads the style of the notebook"
     ]
    },
    {
     "cell_type": "code",
     "collapsed": false,
     "input": [
      "from IPython.core.display import HTML\n",
      "css_file = '../../styles/numericalmoocstyle.css'\n",
      "HTML(open(css_file, \"r\").read())"
     ],
     "language": "python",
     "metadata": {},
     "outputs": []
    }
   ],
   "metadata": {}
  }
 ]
}