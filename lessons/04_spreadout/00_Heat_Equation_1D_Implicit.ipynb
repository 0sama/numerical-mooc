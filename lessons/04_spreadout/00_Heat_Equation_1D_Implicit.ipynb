{
 "metadata": {
  "name": "",
  "signature": "sha256:1bc3b61aaa2ee600412401dafc056fb5f456c4967b15262a34b82c09dbfdf48d"
 },
 "nbformat": 3,
 "nbformat_minor": 0,
 "worksheets": [
  {
   "cells": [
    {
     "cell_type": "heading",
     "level": 6,
     "metadata": {},
     "source": [
      "Content under Creative Commons Attribution license CC-BY 4.0, code under MIT license (c)2014 L.A. Barba, G.F. Forsyth, C.D. Cooper."
     ]
    },
    {
     "cell_type": "heading",
     "level": 1,
     "metadata": {},
     "source": [
      "Spreading out"
     ]
    },
    {
     "cell_type": "heading",
     "level": 2,
     "metadata": {},
     "source": [
      "Parabolic partial differential equations"
     ]
    },
    {
     "cell_type": "markdown",
     "metadata": {},
     "source": [
      "Welcome to *Spreading out: Parabolic PDEs*, the fourth module of [\"Practical Numerical Methods with Python\"](http://openedx.seas.gwu.edu/courses/GW/MAE6286/2014_fall/about).\n",
      "\n",
      "In the [first module](https://github.com/numerical-mooc/numerical-mooc/tree/master/lessons/01_phugoid), we discussed different integration methods for ordinary differential equations, to then move over to partial differential equations in the [second module](https://github.com/numerical-mooc/numerical-mooc/tree/master/lessons/02_spacetime). In [module 3](https://github.com/numerical-mooc/numerical-mooc/tree/master/lessons/03_wave) we looked at the wave equation in detail, using the traffic flow model as a motivation, and saw how shocks develop in numerical solutions.\n",
      "\n",
      "This module deals with parabolic partial differential equations, where we will find both first and second order derivatives. The most common example of this class of problems is the heat equation, and you will see it throughout this series of notebooks. We will start by introducing an *implicit discretization*: welcome linear solvers! Then, this module will guide you into solving some 2-dimensional problems, which will produce some pretty pictures. Finally, we will discuss some stability details in this type of problems. Enjoy!  "
     ]
    },
    {
     "cell_type": "heading",
     "level": 2,
     "metadata": {},
     "source": [
      "The heat equation"
     ]
    },
    {
     "cell_type": "markdown",
     "metadata": {},
     "source": [
      "Perhaps you didn't notice, but we already introduced the heat equation in [module 2, notebook 3](http://nbviewer.ipython.org/github/numerical-mooc/numerical-mooc/blob/master/lessons/02_spacetime/02_03_1DDiffusion.ipynb): heat conduction is a diffusive process. Let's remind ourselves of this equation:\n",
      "\n",
      "\\begin{equation}\n",
      "\\frac{\\partial u}{\\partial t} = \\alpha \\frac{\\partial^2 u}{\\partial x^2}\n",
      "\\end{equation}\n",
      "\n",
      "where $\\alpha$ is the thermal diffusivity, a property of the material, and $u$ the temperature.\n",
      "\n",
      "In the [third notebook of module 2](http://nbviewer.ipython.org/github/numerical-mooc/numerical-mooc/blob/master/lessons/02_spacetime/02_03_1DDiffusion.ipynb), we also saw that the diffusion equation discretized with a forward in time, central in space scheme is subject to the following stability constraint\n",
      "\n",
      "\\begin{equation}\n",
      "\\alpha \\frac{\\Delta t}{(\\Delta x)^2} \\leq \\frac{1}{2}\n",
      "\\end{equation}\n",
      "\n",
      "For sake of completeness, let's test the stability constraint. \n",
      "\n",
      "Say we have a graphite rod ($\\alpha=10^{-3}$) of length $L=5$, with temperature $u=0$ everywhere. At time $t=0$, we raise the temperature at one end ($x=0$) to $u=80$, and hold it there. *How will temperature evolve in the rod?*\n",
      "\n",
      "Let's start by importing some libraries and setting up the space discretization:"
     ]
    },
    {
     "cell_type": "code",
     "collapsed": false,
     "input": [
      "import numpy\n",
      "import matplotlib.pyplot as plt\n",
      "%matplotlib inline\n",
      "\n",
      "L = 5.\n",
      "nt = 100\n",
      "nx = 101.\n",
      "alpha = 1e-3\n",
      "\n",
      "dx = L/(nx-1)\n",
      "\n",
      "ui = numpy.zeros(nx)\n",
      "ui[0] = 80"
     ],
     "language": "python",
     "metadata": {},
     "outputs": []
    },
    {
     "cell_type": "markdown",
     "metadata": {},
     "source": [
      "Remember the forward in time, central in space discretization? It was\n",
      "\n",
      "\\begin{equation}\\frac{u_{i}^{n+1}-u_{i}^{n}}{\\Delta t}=\\alpha\\frac{u_{i+1}^{n}-2u_{i}^{n}+u_{i-1}^{n}}{\\Delta x^2}\\end{equation}\n",
      "\n",
      "Then, to obtain the temperature at the next time step ($u^{n+1}_i$), we compute\n",
      "\n",
      "\\begin{equation}u_{i}^{n+1}=u_{i}^{n}+\\frac{\\alpha\\Delta t}{\\Delta x^2}(u_{i+1}^{n}-2u_{i}^{n}+u_{i-1}^{n})\\end{equation}\n",
      "\n",
      "Check the [third notebook of module 2](http://nbviewer.ipython.org/github/numerical-mooc/numerical-mooc/blob/master/lessons/02_spacetime/02_03_1DDiffusion.ipynb), if you need to refresh your memory!\n",
      "\n",
      "The following function implements the forward in time, central in space scheme:"
     ]
    },
    {
     "cell_type": "code",
     "collapsed": false,
     "input": [
      "def ftcs(u, nt, dt, dx, alpha):\n",
      "    \"\"\"Solves the diffusion equation with forward in time scheme\n",
      "    \n",
      "    Parameters:\n",
      "    ----------\n",
      "    u: array of float\n",
      "        Initial temperature profile\n",
      "    nt: int\n",
      "        Number of time steps\n",
      "    dt: float\n",
      "        Time step size\n",
      "    dx: float\n",
      "        Mesh size\n",
      "    alpha: float\n",
      "        Diffusion coefficient (thermal diffusivity)\n",
      "        \n",
      "    Returns:\n",
      "    -------\n",
      "    u: array of float\n",
      "        Temperature profile after nt time steps with forward in time scheme\n",
      "    \n",
      "    \"\"\"\n",
      "    for n in range(nt):  \n",
      "        un = u.copy() \n",
      "        u[1:-1] = un[1:-1] + alpha*dt/dx**2*(un[2:] -2*un[1:-1] +un[0:-2])\n",
      "        \n",
      "    return u"
     ],
     "language": "python",
     "metadata": {},
     "outputs": []
    },
    {
     "cell_type": "markdown",
     "metadata": {},
     "source": [
      "We are all set to run! First, let's use a time step `dt` that satisfies the stability constraint"
     ]
    },
    {
     "cell_type": "code",
     "collapsed": false,
     "input": [
      "sigma = 1/2.0\n",
      "dt = sigma * dx*dx/alpha\n",
      "u = ui.copy()\n",
      "u = ftcs(u, nt, dt, dx, alpha)"
     ],
     "language": "python",
     "metadata": {},
     "outputs": []
    },
    {
     "cell_type": "markdown",
     "metadata": {},
     "source": [
      "And plot!"
     ]
    },
    {
     "cell_type": "code",
     "collapsed": false,
     "input": [
      "plt.plot(numpy.linspace(0,2,nx), u, color='#003366', ls='-', lw=3);"
     ],
     "language": "python",
     "metadata": {},
     "outputs": []
    },
    {
     "cell_type": "markdown",
     "metadata": {},
     "source": [
      "That looks totally reasonable: temperature is 80 at $x=0$, and it is slowly raising in the rest of the rod. \n",
      "\n",
      "Say now we are in a hurry, and we need the result evolves faster. Let's set a higher `dt`:"
     ]
    },
    {
     "cell_type": "code",
     "collapsed": false,
     "input": [
      "sigma = 1.0\n",
      "dt = sigma * dx*dx/alpha\n",
      "u = ui.copy()\n",
      "u = ftcs(u, nt, dt, dx, alpha)\n",
      "plt.plot(numpy.linspace(0,2,nx), u, color='#003366', ls='-', lw=3);"
     ],
     "language": "python",
     "metadata": {},
     "outputs": []
    },
    {
     "cell_type": "markdown",
     "metadata": {},
     "source": [
      "Of course, we knew this was going to happen. [Notebook 3 of module 2](http://nbviewer.ipython.org/github/numerical-mooc/numerical-mooc/blob/master/lessons/02_spacetime/02_03_1DDiffusion.ipynb) had warned us: forward in time, central in space is conditionally stable."
     ]
    },
    {
     "cell_type": "heading",
     "level": 2,
     "metadata": {},
     "source": [
      "Implicit discretization"
     ]
    },
    {
     "cell_type": "markdown",
     "metadata": {},
     "source": [
      "Are we going to settle for this? Guess what: we will not!\n",
      "\n",
      "Let's move things around a bit, and try a backward difference in time, rather than forward. The discretized form of the equation is now\n",
      "\n",
      "\\begin{equation}\\frac{u_{i}^{n+1}-u_{i}^{n}}{\\Delta t}=\\alpha\\frac{u_{i+1}^{n+1}-2u_{i}^{n+1}+u_{i-1}^{n+1}}{\\Delta x^2.}\\end{equation}\n",
      "\n",
      "The problem is, we have no idea how to deal with this! From the previous time-step, we only know $u_i^{n}$, but what about $u_i^{n+1}$, $u_{i-1}^{n+1}$ and $u_{i+1}^{n+1}$?"
     ]
    },
    {
     "cell_type": "markdown",
     "metadata": {},
     "source": [
      "No need to panic! Let's start by putting what we *know* on the right-hand side of the equation and what we *don't know* on the left. We get:\n",
      "\n",
      "\\begin{equation} -u_{i+1}^{n+1} + \\left( 2 + \\frac{\\Delta x^2}{\\alpha\\Delta t}\\right) u_{i}^{n+1} - u_{i-1}^{n+1} = u_{i}^{n}\\frac{\\Delta x^2}{\\alpha\\Delta t} \\end{equation} \n",
      "\n",
      "It looks like we have a lot of unknowns and just one equation! But wait, how does this look like for $i=1$?\n",
      "\n",
      "\\begin{equation}-u_{2}^{n+1} + \\left( 2 + \\frac{\\Delta x^2}{\\alpha\\Delta t}\\right) u_{1}^{n+1} - u_{0}^{n+1} = u_{1}^{n}\\frac{\\Delta x^2}{\\alpha\\Delta t} \\end{equation}\n",
      "\n",
      "and $i=2$?\n",
      "\n",
      "\\begin{equation}-u_{3}^{n+1} + \\left( 2 + \\frac{\\Delta x^2}{\\alpha\\Delta t}\\right) u_{2}^{n+1} - u_{1}^{n+1} = u_{2}^{n}\\frac{\\Delta x^2}{\\alpha\\Delta t} \\end{equation}\n",
      "\n",
      "what about $i=3$?\n",
      "\n",
      "\\begin{equation}-u_{4}^{n+1} + \\left( 2 + \\frac{\\Delta x^2}{\\alpha\\Delta t}\\right) u_{3}^{n+1} - u_{2}^{n+1} = u_{3}^{n}\\frac{\\Delta x^2}{\\alpha\\Delta t} \\end{equation}\n",
      "\n",
      "Okay, so $u_{i}^{n+1}$ is also found in the equation for $u_{i-1}^{n+1}$ and $u_{i+1}^{n+1}$. Perhaps we do have enough equations if we apply this for all $i$! For N points, this can be written as a matrix:\n",
      "\n",
      "\\begin{equation}\\left[ \\begin{array}{cccccc}\n",
      " \\left(2 + \\frac{1}{\\sigma}\\right) & -1 & 0 & \\cdots & & 0 \\\\\n",
      " -1 & \\left(2 + \\frac{1}{\\sigma}\\right) & -1 & 0 & \\cdots & 0 \\\\\n",
      " 0 & & & & & \\vdots \\\\\n",
      " \\vdots & & & & & \\\\\n",
      " 0 & \\cdots & & & -1 & \\left(2 + \\frac{1}{\\sigma}\\right) \\end{array} \\right]\n",
      " \\cdot \n",
      " \\left[ \\begin{array}{c} \n",
      " u_1^{n+1} \\\\ u_2^{n+1} \\\\ \\vdots \\\\ \\\\ u_{N-1}^{n+1} \\end{array} \\right]\n",
      " =\n",
      " \\left[ \\begin{array}{c} \n",
      " u_0^{n+1} + u_1^n \\frac{1}{\\sigma} \\\\ u_2^{n}\\frac{1}{\\sigma} \\\\ \\vdots \\\\ \\\\ u_N^{n+1}+u_{N-1}^{n}\\frac{1}{\\sigma} \\end{array} \\right]\n",
      " \\end{equation} \n",
      " \n",
      " where $\\sigma=\\frac{\\alpha\\Delta t}{\\Delta x^2}$. We can solve this linear system to advance in time! Luckily, we can rely on our friends from `scipy` who have developed some nice linear solvers, so we don't need to write our own.\n",
      " \n",
      "See how $u_0^{n+1}$ and $u_N^{n+1}$ are on the right-hand side of the equation? Those are boundary conditions: we know their value at every time step!\n",
      "\n",
      "From `scipy.linalg`, let's import `solve`: a function to solve linear systems. Also, we'll define a function that generates this matrix, and the right hand side:"
     ]
    },
    {
     "cell_type": "code",
     "collapsed": false,
     "input": [
      "from scipy.linalg import solve\n",
      "\n",
      "def generateMatrix(sigma):\n",
      "    \"\"\"Computes the matrix for the diffusion equation with backward Euler\n",
      "    \n",
      "    Parameters:\n",
      "    ----------\n",
      "    sigma: float \n",
      "        alpha*dt/dx^2\n",
      "    \n",
      "    Returns:\n",
      "    -------\n",
      "    A: 2D numpy array of float\n",
      "        Matrix for diffusion equation\n",
      "    \"\"\"\n",
      "    N = len(u)\n",
      "    A = numpy.zeros((N-2,N-2))\n",
      "    # Setup the diagonal\n",
      "    A[numpy.arange(N-2),numpy.arange(N-2)] = 2+1./sigma\n",
      "    # Setup upper diagonal\n",
      "    A[numpy.arange(N-3),numpy.arange(1,N-2)] = -1\n",
      "    # Setup lower diagonal\n",
      "    A[numpy.arange(1,N-2),numpy.arange(N-3)] = -1\n",
      "    \n",
      "    return A\n",
      "\n",
      "def generateRHS(u, sigma):\n",
      "    \"\"\" Computes right-hand side of linear system for diffusion equation\n",
      "        with backward Euler\n",
      "    \n",
      "    Parameters:\n",
      "    ----------\n",
      "    u: array of float\n",
      "        Temperature at current time step\n",
      "    sigma: float\n",
      "        alpha*dt/dx^2\n",
      "    \n",
      "    Returns:\n",
      "    -------\n",
      "    b: array of float\n",
      "        Right hand side of diffusion equation with backward Euler\n",
      "    \"\"\"\n",
      "    b = u[1:-1]*1./sigma\n",
      "    # BCs don't change, we use the same u\n",
      "    b[0] += u[0]\n",
      "    b[-1] += u[-1]\n",
      "    \n",
      "    return b"
     ],
     "language": "python",
     "metadata": {},
     "outputs": []
    },
    {
     "cell_type": "markdown",
     "metadata": {},
     "source": [
      "Also, let's define a function that steps in time using backward in time, central in space scheme"
     ]
    },
    {
     "cell_type": "code",
     "collapsed": false,
     "input": [
      "def btcs(u, A, nt, sigma):\n",
      "    \"\"\" Advances diffusion equation in time with backward Euler\n",
      "   \n",
      "    Parameters:\n",
      "    ----------\n",
      "    u: array of float\n",
      "        initial temperature profile\n",
      "    A: 2D array of float\n",
      "        Matrix with discretized diffusion equation\n",
      "    nt: int\n",
      "        number of time steps\n",
      "    sigma: float\n",
      "        alpha*td/dx^2\n",
      "        \n",
      "    Returns:\n",
      "    -------\n",
      "    u: array of floats\n",
      "        temperature profile after nt time steps\n",
      "    \"\"\"\n",
      "    \n",
      "    for t in range(nt):\n",
      "        un = u.copy()\n",
      "        b = generateRHS(un, sigma)\n",
      "        # Use scipy.linalg.solve\n",
      "        u_interior = solve(A,b)\n",
      "        u[1:-1] = u_interior\n",
      "\n",
      "    return u"
     ],
     "language": "python",
     "metadata": {},
     "outputs": []
    },
    {
     "cell_type": "markdown",
     "metadata": {},
     "source": [
      "See that the matrix does not change in time, then we will generate it only once, and use it as an input parameter to our time-stepping function. Let's try this out! "
     ]
    },
    {
     "cell_type": "code",
     "collapsed": false,
     "input": [
      "sigma = 0.5\n",
      "dt = sigma * dx*dx/alpha \n",
      "\n",
      "A = generateMatrix(sigma)"
     ],
     "language": "python",
     "metadata": {},
     "outputs": []
    },
    {
     "cell_type": "markdown",
     "metadata": {},
     "source": [
      "Always good to check your matrix..."
     ]
    },
    {
     "cell_type": "code",
     "collapsed": false,
     "input": [
      "print A"
     ],
     "language": "python",
     "metadata": {},
     "outputs": []
    },
    {
     "cell_type": "markdown",
     "metadata": {},
     "source": [
      "Looks good! "
     ]
    },
    {
     "cell_type": "code",
     "collapsed": false,
     "input": [
      "u = ui.copy()\n",
      "u = btcs(u, A, nt, sigma)"
     ],
     "language": "python",
     "metadata": {},
     "outputs": []
    },
    {
     "cell_type": "markdown",
     "metadata": {},
     "source": [
      "Now plot!"
     ]
    },
    {
     "cell_type": "code",
     "collapsed": false,
     "input": [
      "plt.plot(numpy.linspace(0,2,nx), u, color='#003366', ls='-', lw=3);"
     ],
     "language": "python",
     "metadata": {},
     "outputs": []
    },
    {
     "cell_type": "markdown",
     "metadata": {},
     "source": [
      "Not too impressive, this looks just like forward in time, centered in space for $\\alpha\\frac{\\Delta t}{\\Delta x^2} = \\frac{1}{2}$. Let's try $\\alpha\\frac{\\Delta t}{\\Delta x^2} = 1$"
     ]
    },
    {
     "cell_type": "code",
     "collapsed": false,
     "input": [
      "sigma = 1.0\n",
      "\n",
      "A = generateMatrix(sigma)\n",
      "\n",
      "u = ui.copy()\n",
      "u = btcs(u, A, nt, sigma)\n",
      "\n",
      "plt.plot(numpy.linspace(0,2,nx), u, color='#003366', ls='-', lw=3);"
     ],
     "language": "python",
     "metadata": {},
     "outputs": []
    },
    {
     "cell_type": "markdown",
     "metadata": {},
     "source": [
      "We were not able to do this with forward in time, centered in space! Try out other values of `sigma`, you'll see, this is an unconditionally stable scheme.\n",
      "\n",
      "Even though we can now advance faster in time, each time step requires the solution of a linar system, which is computationally expensive. This is not a freebie!"
     ]
    },
    {
     "cell_type": "heading",
     "level": 5,
     "metadata": {},
     "source": [
      "Dig deeper"
     ]
    },
    {
     "cell_type": "markdown",
     "metadata": {},
     "source": [
      "You see how matrix `A` is full of zeros? This is not an efficient way to store the matrix! We call matrix `A` a *sparse* matrix. Check out `scipy`'s [sparse matrix storage formats](http://docs.scipy.org/doc/scipy-0.14.0/reference/sparse.html): you don't need too store $(N-2)^2$ elements! For example, a `coo_matrix` format stores only $3*N_\\text{nonzero}$, where $N_\\text{nonzero}$ is the number of non-zero elements in `A`. "
     ]
    },
    {
     "cell_type": "heading",
     "level": 2,
     "metadata": {},
     "source": [
      "Crank-Nicolson"
     ]
    },
    {
     "cell_type": "markdown",
     "metadata": {},
     "source": [
      "Crank Nicolson:\n",
      "\n",
      "\\begin{equation}\n",
      "\\frac{u^{n+1}_i - u^n_i}{\\Delta t} = \\alpha * \\frac{1}{2} \\left( \n",
      "\\frac{u^{n+1}_{i+1} - 2^{n+1}_i + u^{n+1}_{i-1}}{\\Delta x^2} + \\frac{u^n_{i+1}-2u^n_i + u^n_{i-1}}{\\Delta x^2}\n",
      "\\right)\n",
      "\\end{equation}\n",
      "\n",
      "\\begin{equation}\n",
      "-ru^{n+1}_{i+1} + (1+2r)u^{n+1}_i - ru^{n+1}_{i-1} = u^n_i + r(u^n_{i+1}-2u^n_i+u^n_{i-1})\n",
      "\\end{equation}"
     ]
    },
    {
     "cell_type": "code",
     "collapsed": false,
     "input": [
      "import numpy\n",
      "from scipy.linalg import solve_banded"
     ],
     "language": "python",
     "metadata": {},
     "outputs": []
    },
    {
     "cell_type": "code",
     "collapsed": false,
     "input": [
      "x = 5.\n",
      "nx = 101.\n",
      "alpha = 1e-2\n",
      "\n",
      "dx = x / (nx-1)\n",
      "\n",
      "dt = .5\n",
      "\n",
      "r = alpha*dt/(2*dx**2)\n",
      "T = numpy.zeros(nx)\n",
      "T[0] = 80\n",
      "\n",
      "ud = -r*numpy.ones(nx)\n",
      "ld = -r*numpy.ones(nx)\n",
      "d = numpy.ones(nx)*(1+2*r)\n",
      "\n",
      "ud[0:2] = 0\n",
      "ld[-2:] = 0\n",
      "d[0]=1\n",
      "d[-1]=1\n",
      "\n",
      "banded = numpy.matrix([ud, d, ld])\n",
      "rhs = T.copy()"
     ],
     "language": "python",
     "metadata": {},
     "outputs": []
    },
    {
     "cell_type": "code",
     "collapsed": false,
     "input": [
      "import matplotlib.pyplot as plt\n",
      "%matplotlib inline"
     ],
     "language": "python",
     "metadata": {},
     "outputs": []
    },
    {
     "cell_type": "code",
     "collapsed": false,
     "input": [
      "for i in range(100):\n",
      "    rhs[1:-1] = T[1:-1] + r*(T[2:]-2*T[1:-1]+T[:-2])\n",
      "    T = solve_banded((1, 1), banded, rhs )\n",
      "    plt.plot(numpy.linspace(0,5,nx),T)"
     ],
     "language": "python",
     "metadata": {},
     "outputs": []
    },
    {
     "cell_type": "code",
     "collapsed": false,
     "input": [
      "T2 = T.copy()"
     ],
     "language": "python",
     "metadata": {},
     "outputs": []
    },
    {
     "cell_type": "code",
     "collapsed": false,
     "input": [
      "Thalf = T.copy()"
     ],
     "language": "python",
     "metadata": {},
     "outputs": []
    },
    {
     "cell_type": "code",
     "collapsed": false,
     "input": [
      "plt.figure(figsize=(11,8))\n",
      "plt.plot(T2)\n",
      "plt.plot(Thalf);"
     ],
     "language": "python",
     "metadata": {},
     "outputs": []
    },
    {
     "cell_type": "markdown",
     "metadata": {},
     "source": [
      "---\n",
      "###### The cell below loads the style of the notebook"
     ]
    },
    {
     "cell_type": "code",
     "collapsed": false,
     "input": [
      "from IPython.core.display import HTML\n",
      "css_file = '../../styles/numericalmoocstyle.css'\n",
      "HTML(open(css_file, \"r\").read())"
     ],
     "language": "python",
     "metadata": {},
     "outputs": []
    }
   ],
   "metadata": {}
  }
 ]
}