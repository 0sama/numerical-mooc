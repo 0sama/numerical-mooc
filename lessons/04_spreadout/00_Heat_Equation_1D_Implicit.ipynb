{
 "metadata": {
  "name": "",
  "signature": "sha256:385214922d1ed2263d429704c109256d078c15f2c20719f403d5df84709947ba"
 },
 "nbformat": 3,
 "nbformat_minor": 0,
 "worksheets": [
  {
   "cells": [
    {
     "cell_type": "heading",
     "level": 6,
     "metadata": {},
     "source": [
      "Content under Creative Commons Attribution license CC-BY 4.0, code under MIT license (c)2014 L.A. Barba, G.F. Forsyth, C.D. Cooper."
     ]
    },
    {
     "cell_type": "heading",
     "level": 1,
     "metadata": {},
     "source": [
      "Spreading out"
     ]
    },
    {
     "cell_type": "heading",
     "level": 2,
     "metadata": {},
     "source": [
      "Parabolic partial differential equations"
     ]
    },
    {
     "cell_type": "markdown",
     "metadata": {},
     "source": [
      "Welcome to *Spreading out: Parabolic PDEs*, the fourth module of [\"Practical Numerical Methods with Python\"](http://openedx.seas.gwu.edu/courses/GW/MAE6286/2014_fall/about).\n",
      "\n",
      "In the [first module](https://github.com/numerical-mooc/numerical-mooc/tree/master/lessons/01_phugoid), we discussed different integration methods for ordinary differential equations, then moved on to partial differential equations in the [second module](https://github.com/numerical-mooc/numerical-mooc/tree/master/lessons/02_spacetime). In [module 3](https://github.com/numerical-mooc/numerical-mooc/tree/master/lessons/03_wave) we looked at the wave equation in detail, using the traffic flow model as a motivation, and saw how shocks develop in numerical solutions.\n",
      "\n",
      "This module deals with parabolic partial differential equations, where we will find both first and second order derivatives. The most common example of this class of problems is the heat equation, and you will see it throughout this series of notebooks. We will start by introducing an *implicit discretization*: welcome linear solvers! Then, this module will guide you into solving some 2-dimensional problems, which will produce some pretty pictures. Finally, we will discuss some stability details in this type of problems. Enjoy!  "
     ]
    },
    {
     "cell_type": "heading",
     "level": 2,
     "metadata": {},
     "source": [
      "The heat equation"
     ]
    },
    {
     "cell_type": "markdown",
     "metadata": {},
     "source": [
      "We already introduced the heat equation in [module 2, notebook 3](http://nbviewer.ipython.org/github/numerical-mooc/numerical-mooc/blob/master/lessons/02_spacetime/02_03_1DDiffusion.ipynb): heat conduction is a diffusive process. Let's remind ourselves of this equation:\n",
      "\n",
      "\\begin{equation}\n",
      "\\frac{\\partial T}{\\partial t} = \\alpha \\frac{\\partial^2 T}{\\partial x^2}\n",
      "\\end{equation}\n",
      "\n",
      "where $\\alpha$ is the thermal diffusivity, a property of the material, and $T$ is the temperature.\n",
      "\n",
      "In the [third notebook of module 2](http://nbviewer.ipython.org/github/numerical-mooc/numerical-mooc/blob/master/lessons/02_spacetime/02_03_1DDiffusion.ipynb), we also saw that the diffusion equation discretized with a forward in time, central in space scheme is subject to the following stability constraint\n",
      "\n",
      "\\begin{equation}\n",
      "\\alpha \\frac{\\Delta t}{(\\Delta x)^2} \\leq \\frac{1}{2}\n",
      "\\end{equation}\n",
      "\n",
      "Say we have a graphite rod ($\\alpha=10^{-3}$) of length $L=1$, with temperature $T=0$ everywhere. At time $t=0$, we raise the temperature at one end ($x=0$) to $T=100$, and hold it there. *How will the temperature evolve in the rod?*\n",
      "\n",
      "Let's start by importing some libraries and setting up the space discretization:"
     ]
    },
    {
     "cell_type": "code",
     "collapsed": false,
     "input": [
      "import numpy\n",
      "import matplotlib.pyplot as plt\n",
      "%matplotlib inline\n",
      "from matplotlib import rcParams\n",
      "rcParams['font.family'] = 'serif'\n",
      "rcParams['font.size'] = 16"
     ],
     "language": "python",
     "metadata": {},
     "outputs": []
    },
    {
     "cell_type": "code",
     "collapsed": false,
     "input": [
      "L = 1.\n",
      "nt = 100\n",
      "nx = 51.\n",
      "alpha = 1e-3\n",
      "\n",
      "dx = L/(nx-1)\n",
      "\n",
      "Ti = numpy.zeros(nx)\n",
      "Ti[0] = 100"
     ],
     "language": "python",
     "metadata": {},
     "outputs": []
    },
    {
     "cell_type": "markdown",
     "metadata": {},
     "source": [
      "Remember the forward in time, central in space discretization? It was\n",
      "\n",
      "\\begin{equation}\\frac{T_{i}^{n+1}-T_{i}^{n}}{\\Delta t}=\\alpha\\frac{T_{i+1}^{n}-2T_{i}^{n}+T_{i-1}^{n}}{\\Delta x^2}\\end{equation}\n",
      "\n",
      "Then, to obtain the temperature at the next time step ($T^{n+1}_i$), we compute\n",
      "\n",
      "\\begin{equation}T_{i}^{n+1}=T_{i}^{n}+\\frac{\\alpha\\Delta t}{\\Delta x^2}(T_{i+1}^{n}-2T_{i}^{n}+T_{i-1}^{n})\\end{equation}\n",
      "\n",
      "Check the [third notebook of module 2](http://nbviewer.ipython.org/github/numerical-mooc/numerical-mooc/blob/master/lessons/02_spacetime/02_03_1DDiffusion.ipynb), if you need to refresh your memory!\n",
      "\n",
      "The following function implements the forward in time, central in space scheme:"
     ]
    },
    {
     "cell_type": "code",
     "collapsed": false,
     "input": [
      "def ftcs(T, nt, dt, dx, alpha):\n",
      "    \"\"\"Solves the diffusion equation with forward in time scheme\n",
      "    \n",
      "    Parameters:\n",
      "    ----------\n",
      "    T: array of float\n",
      "        Initial temperature profile\n",
      "    nt: int\n",
      "        Number of time steps\n",
      "    dt: float\n",
      "        Time step size\n",
      "    dx: float\n",
      "        Mesh size\n",
      "    alpha: float\n",
      "        Diffusion coefficient (thermal diffusivity)\n",
      "        \n",
      "    Returns:\n",
      "    -------\n",
      "    T: array of float\n",
      "        Temperature profile after nt time steps with forward in time scheme\n",
      "    \n",
      "    \"\"\"\n",
      "    for n in range(nt):  \n",
      "        Tn = T.copy() \n",
      "        T[1:-1] = Tn[1:-1] + alpha*dt/dx**2*(Tn[2:] -2*Tn[1:-1] + Tn[0:-2])\n",
      "        \n",
      "    return T"
     ],
     "language": "python",
     "metadata": {},
     "outputs": []
    },
    {
     "cell_type": "markdown",
     "metadata": {},
     "source": [
      "We are all set to run! First, let's use a time step `dt` that satisfies the stability constraint"
     ]
    },
    {
     "cell_type": "code",
     "collapsed": false,
     "input": [
      "sigma = 1/2.0\n",
      "dt = sigma * dx*dx/alpha\n",
      "T = Ti.copy()\n",
      "T = ftcs(T, nt, dt, dx, alpha)"
     ],
     "language": "python",
     "metadata": {},
     "outputs": []
    },
    {
     "cell_type": "markdown",
     "metadata": {},
     "source": [
      "And plot!"
     ]
    },
    {
     "cell_type": "code",
     "collapsed": false,
     "input": [
      "plt.plot(numpy.linspace(0,1,nx), T, color='#003366', ls='-', lw=3)\n",
      "plt.ylim(0,100)\n",
      "plt.xlabel('Length of Rod')\n",
      "plt.ylabel('Temperature');"
     ],
     "language": "python",
     "metadata": {},
     "outputs": []
    },
    {
     "cell_type": "heading",
     "level": 2,
     "metadata": {},
     "source": [
      "Boundary Conditions"
     ]
    },
    {
     "cell_type": "markdown",
     "metadata": {},
     "source": [
      "In the rod problem we stated that the left-hand side of the rod is held to a temperature, $T = 100$.  This is an example of a *boundary condition*, a rule that defines how the problem interacts with the borders of the domain.  In this case, the domain spans the length of the rod, from $0 \\leq x \\leq 1$.\n",
      "\n",
      "In [module 2, lesson 4](http://nbviewer.ipython.org/urls/raw.github.com/numerical-mooc/numerical-mooc/master/lessons/02_spacetime/02_04_1DBurgers.ipynb) on Burgers' Equation, we used a periodic boundary condition to \"connect\" the right-hand and left-hand borders of the domain.  "
     ]
    },
    {
     "cell_type": "heading",
     "level": 3,
     "metadata": {},
     "source": [
      "Dirichlet Boundary"
     ]
    },
    {
     "cell_type": "markdown",
     "metadata": {},
     "source": [
      "The rod example above, instead of a periodic boundary condition, uses a *Dirichlet* boundary condition on the left-hand side.  A Dirichlet boundary is one in which the value at a border is held to a specific value. \n",
      "\n",
      "What about the right-hand end of the rod $(x=1)$?  The problem hasn't evolved for long enough for the heat to travel the full length of the rod.  Let's increase the number of timesteps, `nt`, and see what happens."
     ]
    },
    {
     "cell_type": "code",
     "collapsed": false,
     "input": [
      "nt = 1000\n",
      "T = Ti.copy()\n",
      "T = ftcs(T, nt, dt, dx, alpha)"
     ],
     "language": "python",
     "metadata": {},
     "outputs": []
    },
    {
     "cell_type": "code",
     "collapsed": false,
     "input": [
      "plt.plot(numpy.linspace(0,1,nx), T, color='#003366', ls='-', lw=3)\n",
      "plt.ylim(0,100)\n",
      "plt.xlabel('Length of Rod')\n",
      "plt.ylabel('Temperature');"
     ],
     "language": "python",
     "metadata": {},
     "outputs": []
    },
    {
     "cell_type": "markdown",
     "metadata": {},
     "source": [
      "Look at the implementation of the `ftbs` function: it never updates the value at `T[-1]`!  That value is set to zero in the initial condition and stays that way throughout the entire simulation.  We actually have a Dirichlet boundary at *both* ends.  The left-hand side of the rod is held to a temperature of $T = 100$ and the right-hand side is held to $T = 0$  Because both end temperatures are \"pinned\" to set values, the temperature distribution within the rod will relax (after enough time!) to a linear temperature gradient across the length of the rod.  \n",
      "\n",
      "Once the solution is relaxed, no number of extra timesteps will make it change.  This is an example of a *steady-state solution* and we'll learn more about those in Module 5.  \n",
      "\n",
      "Dirichlet boundary conditions show up in several engineering applications, among them thermodynamics (setting surface temperature) and fluid dynamics (no-slip conditions at walls)."
     ]
    },
    {
     "cell_type": "heading",
     "level": 3,
     "metadata": {},
     "source": [
      "Neumann Boundary"
     ]
    },
    {
     "cell_type": "markdown",
     "metadata": {},
     "source": [
      "Another commonly used boundary condition is the *Neumann* boundary.  Neumann boundaries, rather than specifying the value a solution takes at the border, instead specify the value the *derivative* of the solution takes at the border.  \n",
      "\n",
      "If we apply a Neumann boundary to the right-hand side of the rod example, we can represent that mathematically as\n",
      "\n",
      "\\begin{equation}\n",
      "\\left. \\frac{\\partial T}{\\partial x} \\right|_{x = 1} = q(t)\n",
      "\\end{equation}\n",
      "\n",
      "How can we enforce that programmatically?  One easy way is using a finite-difference discretization of the derivative.  At time step $n$, for $N$ points, it would be\n",
      "\n",
      "\\begin{equation}\n",
      "\\left. \\frac{\\partial T}{\\partial x} \\right|_{x=1} \\approx \\frac{T^n_N - T^n_{N-1}}{\\Delta x} = q(t)\n",
      "\\end{equation}\n",
      "\n",
      "In the context of heat conduction, the space derivative of temperature is the heat flux density $q$, the amount of heat per unit time, per unit area:\n",
      "\n",
      "\\begin{equation}\n",
      "\\frac{\\partial T}{\\partial x} = q\n",
      "\\end{equation}\n",
      "\n",
      "For example, if the rod at $x=1$ has some insulating material, no heat is going to be able to get out through that end, and the Neumann boundary condition is:\n",
      "\n",
      "\\begin{equation}\n",
      "\\left. \\frac{\\partial T}{\\partial x} \\right|_{x=1} = 0\n",
      "\\end{equation}\n",
      "\n",
      "Think about what the equation is specifying: the rate of change of temperature in the $x$ direction has to be zero at the right-most edge of the rod.  If the rate of change is zero, then the temperature has to stay the same.  \n",
      "\n",
      "To change the right-hand side of the rod problem to use a Neumann boundary condition, we add the following snippet of code:\n",
      "\n",
      "```Python\n",
      "T[-1] = T[-2]\n",
      "```\n",
      "\n",
      "The temperature at the boundary (`T[-1]`) is equal to the temperature directly to its left (`T[-2]`).  The rate of change is zero and the Neumann condition is satisfied.\n"
     ]
    },
    {
     "cell_type": "heading",
     "level": 5,
     "metadata": {},
     "source": [
      "Wait, where's the code for Dirichlet conditions?"
     ]
    },
    {
     "cell_type": "markdown",
     "metadata": {},
     "source": [
      "___"
     ]
    },
    {
     "cell_type": "markdown",
     "metadata": {},
     "source": [
      "In the `ftcs` function above, the code which advances the solution in the time loop is the following:\n",
      "\n",
      "```Python\n",
      "Tn = T.copy() \n",
      "T[1:-1] = Tn[1:-1] + alpha*dt/dx**2*(Tn[2:] \n",
      "-2*Tn[1:-1] + Tn[0:-2])\n",
      "```\n",
      "\n",
      "You can see that we never update either `T[0]` or `T[-1]`, pinning the temperatures there to $T = 100$ and $T=0$, respectively.  "
     ]
    },
    {
     "cell_type": "markdown",
     "metadata": {},
     "source": [
      "___"
     ]
    },
    {
     "cell_type": "markdown",
     "metadata": {},
     "source": [
      "The Dirichlet conditions are enforced without any extra input from us, but the Neumann condition will require an update at each iteration of the loop, in order to ensure that \n",
      "\n",
      "\\begin{equation}\n",
      "\\left. \\frac{\\partial T}{\\partial x} \\right|_{x = 1} = 0 \\nonumber\n",
      "\\end{equation}\n",
      "\n",
      "Dirichlet and Neumann boundary conditions can be mixed to better represent the physics of a problem.  Let's revisit the heated rod problem.  \n",
      "\n",
      "This time, the temperature at $x = 0$ will remain fixed at $T = 100$ -- that's the Dirichlet condition.  At $x = 1$, apply a Neumann boundary condition.  \n"
     ]
    },
    {
     "cell_type": "code",
     "collapsed": false,
     "input": [
      "def ftcs_mixed(T, nt, dt, dx, alpha):\n",
      "    \"\"\"Solves the diffusion equation with forward in time scheme using Dirichlet\n",
      "    b.c. at left boundary and Neumann b.c. at right boundary\n",
      "    \n",
      "    Parameters:\n",
      "    ----------\n",
      "    u: array of float\n",
      "        Initial temperature profile\n",
      "    nt: int\n",
      "        Number of time steps\n",
      "    dt: float\n",
      "        Time step size\n",
      "    dx: float\n",
      "        Mesh size\n",
      "    alpha: float\n",
      "        Diffusion coefficient (thermal diffusivity)\n",
      "        \n",
      "    Returns:\n",
      "    -------\n",
      "    u: array of float\n",
      "        Temperature profile after nt time steps with forward in time scheme\n",
      "    \n",
      "    \"\"\"\n",
      "    for n in range(nt):  \n",
      "        Tn = T.copy() \n",
      "        T[1:-1] = Tn[1:-1] + alpha*dt/dx**2*(Tn[2:] -2*Tn[1:-1] + Tn[0:-2])\n",
      "        T[-1] = T[-2]\n",
      "        \n",
      "    return T"
     ],
     "language": "python",
     "metadata": {},
     "outputs": []
    },
    {
     "cell_type": "code",
     "collapsed": false,
     "input": [
      "nt = 1000\n",
      "T = Ti.copy()\n",
      "T = ftcs_mixed(T, nt, dt, dx, alpha)"
     ],
     "language": "python",
     "metadata": {},
     "outputs": []
    },
    {
     "cell_type": "code",
     "collapsed": false,
     "input": [
      "plt.plot(numpy.linspace(0,1,nx), T, color='#003366', ls='-', lw=3)\n",
      "plt.ylim(0,100)\n",
      "plt.title('Rod with LHS Dirichlet B.C. and RHS Neumann B.C.\\n')\n",
      "plt.xlabel('Length of Rod')\n",
      "plt.ylabel('Temperature');"
     ],
     "language": "python",
     "metadata": {},
     "outputs": []
    },
    {
     "cell_type": "markdown",
     "metadata": {},
     "source": [
      "The heat is accumulating in the domain! our insulator works!  If you increase the number of timesteps `nt` further, you will see the outflow temperature at $x = 1$ continue to increase.  "
     ]
    },
    {
     "cell_type": "markdown",
     "metadata": {},
     "source": [
      "The discretization methods we've introduced up until this point share a common theme.  They are all *explicit* schemes.  What does that mean?  \n",
      "\n",
      "In each scheme we use, there is one value of $T$ at timestep $n+1$ that we solve for using different combinations of $T$ values from the previous timestep $n$.  In short, we solve for one value at time $n+1$ using our complete knowledge of the solution at time $n$.  \n",
      "\n",
      "*Implicit* methods work differently. "
     ]
    },
    {
     "cell_type": "heading",
     "level": 2,
     "metadata": {},
     "source": [
      "Implicit discretization"
     ]
    },
    {
     "cell_type": "markdown",
     "metadata": {},
     "source": [
      " Let's move things around a bit, and try a backward difference in time, rather than forward. The discretized form of the equation is now\n",
      "\n",
      "\\begin{equation}\\frac{T_{i}^{n+1}-T_{i}^{n}}{\\Delta t}=\\alpha\\frac{T_{i+1}^{n+1}-2T_{i}^{n+1}+T_{i-1}^{n+1}}{\\Delta x^2}\\end{equation}\n",
      "\n",
      "The stencil for this discretization doesn't look anything like the other stencils we've used."
     ]
    },
    {
     "cell_type": "markdown",
     "metadata": {},
     "source": [
      "![btcs stencil](./figures/btcs_stencil.png)"
     ]
    },
    {
     "cell_type": "heading",
     "level": 4,
     "metadata": {},
     "source": [
      "Figure 1. Stencil of the backward-time/central scheme"
     ]
    },
    {
     "cell_type": "markdown",
     "metadata": {},
     "source": [
      "From the previous time-step, we only know $T_i^{n}$, but what about $T_i^{n+1}$, $T_{i-1}^{n+1}$ and $T_{i+1}^{n+1}$?  What can we do?"
     ]
    },
    {
     "cell_type": "markdown",
     "metadata": {},
     "source": [
      "No need to panic! Let's start by putting what we *know* on the right-hand side of the equation and what we *don't know* on the left. We get:\n",
      "\n",
      "\\begin{equation} -T_{i-1}^{n+1} + \\left( 2 + \\frac{\\Delta x^2}{\\alpha\\Delta t}\\right) T_{i}^{n+1} - T_{i+1}^{n+1} = T_{i}^{n}\\frac{\\Delta x^2}{\\alpha\\Delta t} \\end{equation} \n",
      "\n",
      "It looks like there are a lot of unknowns and just one equation! \n",
      "\n",
      "But what if we write it out with $i=1$?\n",
      "\n",
      "\\begin{equation}-T_{0}^{n+1} + \\left( 2 + \\frac{\\Delta x^2}{\\alpha\\Delta t}\\right) T_{1}^{n+1} - T_{2}^{n+1} = T_{1}^{n}\\frac{\\Delta x^2}{\\alpha\\Delta t} \\end{equation}\n",
      "\n",
      "and $i=2$?\n",
      "\n",
      "\\begin{equation}-T_{1}^{n+1} + \\left( 2 + \\frac{\\Delta x^2}{\\alpha\\Delta t}\\right) T_{2}^{n+1} - T_{3}^{n+1} = T_{2}^{n}\\frac{\\Delta x^2}{\\alpha\\Delta t} \\end{equation}\n",
      "\n",
      "what about $i=3$?\n",
      "\n",
      "\\begin{equation}-T_{2}^{n+1} + \\left( 2 + \\frac{\\Delta x^2}{\\alpha\\Delta t}\\right) T_{3}^{n+1} - T_{4}^{n+1} = T_{3}^{n}\\frac{\\Delta x^2}{\\alpha\\Delta t} \\end{equation}\n",
      "\n",
      "Can you see the common element?"
     ]
    },
    {
     "cell_type": "markdown",
     "metadata": {},
     "source": [
      "<img src=\"./figures/implicit_formula.svg\" style=\"width: 400px;\"/>"
     ]
    },
    {
     "cell_type": "markdown",
     "metadata": {},
     "source": [
      "$T_{i}^{n+1}$ is found in the equation for $T_{i-1}^{n+1}$ and $T_{i+1}^{n+1}$. We might have enough equations if we apply this for all $i$ at the same time! \n",
      "\n",
      "#####What about the boundary conditions? \n",
      "\n",
      "Let's look at the boundary points of the example with set temperature at $x=0$ and set heat flux density at $x=1$, discretized with $N$ mesh points.\n",
      "\n",
      "For $i=1$, the value $T_0^{n+1}$ is a Dirichlet boundary condition: we know its value at every time-step. Putting all unkown values on the left and the known ones on the right, the equation looks like\n",
      "\n",
      "\\begin{equation}-T_{2}^{n+1} + \\left( 2 + \\frac{\\Delta x^2}{\\alpha\\Delta t}\\right) T_{1}^{n+1} = T_{1}^{n}\\frac{\\Delta x^2}{\\alpha\\Delta t} + u_{0}^{n+1} \\end{equation}\n",
      "\n",
      "That was easy!\n",
      "\n",
      "On the other hand, for $i=N-2$, the equation reads\n",
      "\n",
      "\\begin{equation} -T_{N-3}^{n+1} + \\left( 2 + \\frac{\\Delta x^2}{\\alpha\\Delta t}\\right) T_{N-2}^{n+1} - T_{N-1}^{n+1} = T_{N-2}^{n}\\frac{\\Delta x^2}{\\alpha\\Delta t} \\end{equation} \n",
      "\n",
      "and the discretized Neumann boundary condition is\n",
      "\n",
      "\\begin{equation}\\frac{T^{n}_{N-1} - T^{n}_{N-2}}{\\Delta x} = q.\\end{equation}\n",
      "\n",
      "Replacing the Neumann boundary condition in the equation for $i=N-2$, we get\n",
      "\n",
      "\\begin{equation} - T_{N-3}^{n+1} + \\left( 1 + \\frac{\\Delta x^2}{\\alpha\\Delta t}\\right) T_{N-2}^{n+1} = T_{N-2}^{n}\\frac{\\Delta x^2}{\\alpha\\Delta t} + \\Delta x q \\end{equation}\n",
      "\n",
      "This can be written as a matrix:"
     ]
    },
    {
     "cell_type": "markdown",
     "metadata": {},
     "source": [
      "\\begin{equation}\\left[ \\begin{array}{cccccc}\n",
      " \\left(2 + \\frac{1}{\\sigma}\\right) & -1 & 0 & \\cdots & & 0 \\\\\n",
      " -1 & \\left(2 + \\frac{1}{\\sigma}\\right) & -1 & 0 & \\cdots & 0 \\\\\n",
      " 0 & & & & & \\vdots \\\\\n",
      " \\vdots & & & & & \\\\\n",
      " 0 & \\cdots & & & -1 & \\left(1 + \\frac{1}{\\sigma}\\right) \\end{array} \\right]\n",
      " \\cdot \n",
      " \\left[ \\begin{array}{c} \n",
      " T_1^{n+1} \\\\ T_2^{n+1} \\\\ \\vdots \\\\ \\\\ T_{N-2}^{n+1} \\end{array} \\right]\n",
      " =\n",
      " \\left[ \\begin{array}{c} \n",
      " T_0^{n+1} + T_1^n \\frac{1}{\\sigma} \\\\ T_2^{n}\\frac{1}{\\sigma} \\\\ \\vdots \\\\ \\\\ q\\Delta x+T_{N-2}^{n}\\frac{1}{\\sigma} \\end{array} \\right]\n",
      " \\end{equation} \n",
      " \n",
      " where $\\sigma=\\frac{\\alpha\\Delta t}{\\Delta x^2}$. \n",
      " \n",
      "See how the first and last value of the right-hand side is modified? They are considering the Dirichlet and Neumann boundary conditions. You can see that the coefficients of the three terms on the left-hand side are $-1$, $2 + \\frac{1}{\\sigma}$ and $-1$.  However, since the matrix must begin and end somewhere, the boundary elements are brought over to the other side of the equation.  The values on the right-hand side need to be known in order to solve the system of equations.  We impose values for $T_0^{n+1}$ and $T_{N-1}^{n+1}$ in the same way that we did for the end-points in the explicit scheme."
     ]
    },
    {
     "cell_type": "heading",
     "level": 3,
     "metadata": {},
     "source": [
      "Solving a linear system"
     ]
    },
    {
     "cell_type": "markdown",
     "metadata": {},
     "source": [
      "We can solve this linear system to advance in time! Luckily, we can rely on our friends from SciPy who have developed some nice linear solvers, so we don't need to write our own.\n",
      "\n",
      "From `scipy.linalg`, let's import `solve`: a function to solve linear systems. Also, we'll define a function that generates this matrix, and the right-hand side:"
     ]
    },
    {
     "cell_type": "code",
     "collapsed": false,
     "input": [
      "from scipy.linalg import solve"
     ],
     "language": "python",
     "metadata": {},
     "outputs": []
    },
    {
     "cell_type": "code",
     "collapsed": false,
     "input": [
      "def generateMatrix(N, sigma):\n",
      "    \"\"\" Computes the matrix for the diffusion equation with backward Euler\n",
      "        Dirichlet condition at i=0, Neumann at i=-1\n",
      "    \n",
      "    Parameters:\n",
      "    ----------\n",
      "    T: array of float\n",
      "        Temperature at current time step\n",
      "    sigma: float \n",
      "        alpha*dt/dx^2\n",
      "    \n",
      "    Returns:\n",
      "    -------\n",
      "    A: 2D numpy array of float\n",
      "        Matrix for diffusion equation\n",
      "    \"\"\"\n",
      "   \n",
      "    # Setup the diagonal\n",
      "    d = numpy.diag(numpy.ones(N-2)*(2+1./sigma))\n",
      "    \n",
      "    # Consider Neumann BC\n",
      "    d[-1,-1] = 1+1./sigma\n",
      "    \n",
      "    # Setup upper diagonal\n",
      "    ud = numpy.diag(numpy.ones(N-3)*-1, 1)\n",
      "    \n",
      "    # Setup lower diagonal\n",
      "    ld = numpy.diag(numpy.ones(N-3)*-1, -1)\n",
      "    \n",
      "    A = d + ud + ld\n",
      "    \n",
      "    return A"
     ],
     "language": "python",
     "metadata": {},
     "outputs": []
    },
    {
     "cell_type": "code",
     "collapsed": false,
     "input": [
      "def generateRHS(T, sigma):\n",
      "    \"\"\" Computes right-hand side of linear system for diffusion equation\n",
      "        with backward Euler\n",
      "    \n",
      "    Parameters:\n",
      "    ----------\n",
      "    T: array of float\n",
      "        Temperature at current time step\n",
      "    sigma: float\n",
      "        alpha*dt/dx^2\n",
      "    \n",
      "    Returns:\n",
      "    -------\n",
      "    b: array of float\n",
      "        Right hand side of diffusion equation with backward Euler\n",
      "    \"\"\"\n",
      "    b = numpy.zeros_like(T)\n",
      "    \n",
      "    b = T[1:-1]*1./sigma\n",
      "    # Consider Dirichlet BC\n",
      "    b[0] += T[0]\n",
      "    \n",
      "    return b"
     ],
     "language": "python",
     "metadata": {},
     "outputs": []
    },
    {
     "cell_type": "markdown",
     "metadata": {},
     "source": [
      "Also, let's define a function that steps in time using the backward time, central space scheme.  Remember that for the implicit scheme, a step in time is performed by solving the entire linear system.  "
     ]
    },
    {
     "cell_type": "code",
     "collapsed": false,
     "input": [
      "def btcs(T, A, nt, sigma):\n",
      "    \"\"\" Advances diffusion equation in time with backward Euler\n",
      "   \n",
      "    Parameters:\n",
      "    ----------\n",
      "    T: array of float\n",
      "        initial temperature profile\n",
      "    A: 2D array of float\n",
      "        Matrix with discretized diffusion equation\n",
      "    nt: int\n",
      "        number of time steps\n",
      "    sigma: float\n",
      "        alpha*td/dx^2\n",
      "        \n",
      "    Returns:\n",
      "    -------\n",
      "    T: array of floats\n",
      "        temperature profile after nt time steps\n",
      "    \"\"\"\n",
      "    \n",
      "    for t in range(nt):\n",
      "        Tn = T.copy()\n",
      "        b = generateRHS(Tn, sigma)\n",
      "        # Use numpy.linalg.solve\n",
      "        T_interior = solve(A,b)\n",
      "        T[1:-1] = T_interior\n",
      "        # Enforce Neumann BC (Dirichlet is enforced automatically)\n",
      "        T[-1] = T[-2]\n",
      "\n",
      "    return T"
     ],
     "language": "python",
     "metadata": {},
     "outputs": []
    },
    {
     "cell_type": "markdown",
     "metadata": {},
     "source": [
      "We have to solve the linear system for every time step, but the $A$ matrix does not change in time.  We generate it only once and use it as an input parameter to our time-stepping function. Let's try this out! "
     ]
    },
    {
     "cell_type": "code",
     "collapsed": false,
     "input": [
      "sigma = 0.5\n",
      "dt = sigma * dx*dx/alpha \n",
      "nt = 1000\n",
      "\n",
      "\n",
      "A = generateMatrix(nx, sigma)"
     ],
     "language": "python",
     "metadata": {},
     "outputs": []
    },
    {
     "cell_type": "markdown",
     "metadata": {},
     "source": [
      "Always good to check your matrix..."
     ]
    },
    {
     "cell_type": "code",
     "collapsed": false,
     "input": [
      "print A"
     ],
     "language": "python",
     "metadata": {},
     "outputs": []
    },
    {
     "cell_type": "markdown",
     "metadata": {},
     "source": [
      "Looks good! "
     ]
    },
    {
     "cell_type": "code",
     "collapsed": false,
     "input": [
      "T = Ti.copy()\n",
      "T = btcs(T, A, nt, sigma)"
     ],
     "language": "python",
     "metadata": {},
     "outputs": []
    },
    {
     "cell_type": "markdown",
     "metadata": {},
     "source": [
      "Now plot!"
     ]
    },
    {
     "cell_type": "code",
     "collapsed": false,
     "input": [
      "plt.plot(numpy.linspace(0,1,nx), T, color='#003366', ls='-', lw=3);"
     ],
     "language": "python",
     "metadata": {},
     "outputs": []
    },
    {
     "cell_type": "markdown",
     "metadata": {},
     "source": [
      "Not too impressive, this looks just like forward in time, centered in space for $\\alpha\\frac{\\Delta t}{\\Delta x^2} = \\frac{1}{2}$. \n",
      "\n",
      "Let's try $\\alpha\\frac{\\Delta t}{\\Delta x^2} = 5$"
     ]
    },
    {
     "cell_type": "code",
     "collapsed": false,
     "input": [
      "sigma = 5.0\n",
      "\n",
      "T = Ti.copy()\n",
      "A = generateMatrix(nx, sigma)\n",
      "\n",
      "T = btcs(T, A, nt, sigma)\n",
      "\n",
      "plt.plot(numpy.linspace(0,1,nx), T, color='#003366', ls='-', lw=3);"
     ],
     "language": "python",
     "metadata": {},
     "outputs": []
    },
    {
     "cell_type": "markdown",
     "metadata": {},
     "source": [
      "It didn't blow up!\n",
      "\n",
      "We were not able to do this with the explicit scheme! Try out other values of `sigma`, you'll see, this is an *unconditionally stable* scheme.\n",
      "\n",
      "Even though we can now advance faster in time, each time step requires the solution of a linear system, which is computationally expensive. This is not a freebie!"
     ]
    },
    {
     "cell_type": "heading",
     "level": 5,
     "metadata": {},
     "source": [
      "Dig deeper"
     ]
    },
    {
     "cell_type": "markdown",
     "metadata": {},
     "source": [
      "You see how matrix `A` is full of zeros? This is not an efficient way to store the matrix! We call matrix `A` a *sparse* matrix. Check out `scipy`'s [sparse matrix storage formats](http://docs.scipy.org/doc/scipy-0.14.0/reference/sparse.html): you don't need too store $(N-2)^2$ elements! For example, a `coo_matrix` format stores only $3*N_\\text{nonzero}$, where $N_\\text{nonzero}$ is the number of non-zero elements in `A`. "
     ]
    },
    {
     "cell_type": "heading",
     "level": 2,
     "metadata": {},
     "source": [
      "Crank-Nicolson"
     ]
    },
    {
     "cell_type": "markdown",
     "metadata": {},
     "source": [
      "Crank Nicolson:\n",
      "\n",
      "\\begin{equation}\n",
      "\\frac{u^{n+1}_i - u^n_i}{\\Delta t} = \\alpha * \\frac{1}{2} \\left( \n",
      "\\frac{u^{n+1}_{i+1} - 2^{n+1}_i + u^{n+1}_{i-1}}{\\Delta x^2} + \\frac{u^n_{i+1}-2u^n_i + u^n_{i-1}}{\\Delta x^2}\n",
      "\\right)\n",
      "\\end{equation}\n",
      "\n",
      "\\begin{equation}\n",
      "-ru^{n+1}_{i+1} + (1+2r)u^{n+1}_i - ru^{n+1}_{i-1} = u^n_i + r(u^n_{i+1}-2u^n_i+u^n_{i-1})\n",
      "\\end{equation}"
     ]
    },
    {
     "cell_type": "code",
     "collapsed": false,
     "input": [
      "import numpy\n",
      "from scipy.linalg import solve_banded"
     ],
     "language": "python",
     "metadata": {},
     "outputs": []
    },
    {
     "cell_type": "code",
     "collapsed": false,
     "input": [
      "x = 5.\n",
      "nx = 101.\n",
      "alpha = 1e-2\n",
      "\n",
      "dx = x / (nx-1)\n",
      "\n",
      "dt = .5\n",
      "\n",
      "r = alpha*dt/(2*dx**2)\n",
      "T = numpy.zeros(nx)\n",
      "T[0] = 80\n",
      "\n",
      "ud = -r*numpy.ones(nx)\n",
      "ld = -r*numpy.ones(nx)\n",
      "d = numpy.ones(nx)*(1+2*r)\n",
      "\n",
      "#ud[0:2] = 0\n",
      "#ld[-2:] = 0\n",
      "#d[0]=1\n",
      "#d[-1]=1\n",
      "\n",
      "banded = numpy.matrix([ud, d, ld])\n",
      "rhs = T.copy()"
     ],
     "language": "python",
     "metadata": {},
     "outputs": []
    },
    {
     "cell_type": "code",
     "collapsed": false,
     "input": [
      "banded"
     ],
     "language": "python",
     "metadata": {},
     "outputs": []
    },
    {
     "cell_type": "code",
     "collapsed": false,
     "input": [
      "import matplotlib.pyplot as plt\n",
      "%matplotlib inline"
     ],
     "language": "python",
     "metadata": {},
     "outputs": []
    },
    {
     "cell_type": "code",
     "collapsed": false,
     "input": [
      "for i in range(100):\n",
      "    rhs[1:-1] = T[1:-1] + r*(T[2:]-2*T[1:-1]+T[:-2])\n",
      "    T = solve_banded((1, 1), banded, rhs )\n",
      "    plt.plot(numpy.linspace(0,5,nx),T)"
     ],
     "language": "python",
     "metadata": {},
     "outputs": []
    },
    {
     "cell_type": "code",
     "collapsed": false,
     "input": [
      "T2 = T.copy()"
     ],
     "language": "python",
     "metadata": {},
     "outputs": []
    },
    {
     "cell_type": "code",
     "collapsed": false,
     "input": [
      "Thalf = T.copy()"
     ],
     "language": "python",
     "metadata": {},
     "outputs": []
    },
    {
     "cell_type": "code",
     "collapsed": false,
     "input": [
      "plt.figure(figsize=(11,8))\n",
      "plt.plot(T2)\n",
      "plt.plot(Thalf);"
     ],
     "language": "python",
     "metadata": {},
     "outputs": []
    },
    {
     "cell_type": "markdown",
     "metadata": {},
     "source": [
      "---\n",
      "###### The cell below loads the style of the notebook"
     ]
    },
    {
     "cell_type": "code",
     "collapsed": false,
     "input": [
      "from IPython.core.display import HTML\n",
      "css_file = '../../styles/numericalmoocstyle.css'\n",
      "HTML(open(css_file, \"r\").read())"
     ],
     "language": "python",
     "metadata": {},
     "outputs": []
    }
   ],
   "metadata": {}
  }
 ]
}