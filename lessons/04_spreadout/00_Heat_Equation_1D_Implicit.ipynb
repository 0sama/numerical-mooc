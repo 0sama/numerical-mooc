{
 "metadata": {
  "name": "",
  "signature": "sha256:ceefa3b91e446ece3042d049b98c3157aa6954eb7245476ab6b21fa2ba31b72b"
 },
 "nbformat": 3,
 "nbformat_minor": 0,
 "worksheets": [
  {
   "cells": [
    {
     "cell_type": "markdown",
     "metadata": {},
     "source": [
      "\\begin{equation}\n",
      "\\frac{\\partial u}{\\partial t} = \\alpha \\frac{\\partial^2 u}{\\partial x^2}\n",
      "\\end{equation}"
     ]
    },
    {
     "cell_type": "markdown",
     "metadata": {},
     "source": [
      "Crank Nicolson:\n",
      "\n",
      "\\begin{equation}\n",
      "\\frac{u^{n+1}_i - u^n_i}{\\Delta t} = \\alpha * \\frac{1}{2} \\left( \n",
      "\\frac{u^{n+1}_{i+1} - 2^{n+1}_i + u^{n+1}_{i-1}}{\\Delta x^2} + \\frac{u^n_{i+1}-2u^n_i + u^n_{i-1}}{\\Delta x^2}\n",
      "\\right)\n",
      "\\end{equation}\n",
      "\n",
      "\\begin{equation}\n",
      "-ru^{n+1}_{i+1} + (1+2r)u^{n+1}_i - ru^{n+1}_{i-1} = u^n_i + r(u^n_{i+1}-2u^n_i+u^n_{i-1})\n",
      "\\end{equation}"
     ]
    },
    {
     "cell_type": "code",
     "collapsed": false,
     "input": [
      "import numpy\n",
      "from scipy.linalg import solve_banded"
     ],
     "language": "python",
     "metadata": {},
     "outputs": [],
     "prompt_number": 2
    },
    {
     "cell_type": "code",
     "collapsed": false,
     "input": [
      "x = 5.\n",
      "nx = 1001.\n",
      "alpha = 1e-2\n",
      "\n",
      "dx = x / (nx-1)\n",
      "\n",
      "dt = .5\n",
      "\n",
      "r = alpha*dt/(2*dx**2)\n",
      "T = numpy.zeros(nx)\n",
      "T[0] = 80\n",
      "\n",
      "ud = -r*numpy.ones(nx)\n",
      "ld = -r*numpy.ones(nx)\n",
      "d = numpy.ones(nx)*(1+2*r)\n",
      "\n",
      "ud[0:2] = 0\n",
      "ld[-2:] = 0\n",
      "d[0]=1\n",
      "d[-1]=1\n",
      "\n",
      "banded = numpy.matrix([ud, d, ld])\n",
      "rhs = T.copy()"
     ],
     "language": "python",
     "metadata": {},
     "outputs": [],
     "prompt_number": 3
    },
    {
     "cell_type": "code",
     "collapsed": false,
     "input": [
      "fullmatrix = numpy.diag(ud[1:],1)+numpy.diag(ld[:-1],-1)+numpy.diag(d)"
     ],
     "language": "python",
     "metadata": {},
     "outputs": [],
     "prompt_number": 4
    },
    {
     "cell_type": "code",
     "collapsed": false,
     "input": [
      "fullmatrix"
     ],
     "language": "python",
     "metadata": {},
     "outputs": [
      {
       "metadata": {},
       "output_type": "pyout",
       "prompt_number": 5,
       "text": [
        "array([[   1.,    0.,    0., ...,    0.,    0.,    0.],\n",
        "       [-100.,  201., -100., ...,    0.,    0.,    0.],\n",
        "       [   0., -100.,  201., ...,    0.,    0.,    0.],\n",
        "       ..., \n",
        "       [   0.,    0.,    0., ...,  201., -100.,    0.],\n",
        "       [   0.,    0.,    0., ..., -100.,  201., -100.],\n",
        "       [   0.,    0.,    0., ...,    0.,    0.,    1.]])"
       ]
      }
     ],
     "prompt_number": 5
    },
    {
     "cell_type": "code",
     "collapsed": false,
     "input": [
      "import matplotlib.pyplot as plt\n",
      "%matplotlib inline"
     ],
     "language": "python",
     "metadata": {},
     "outputs": [],
     "prompt_number": 6
    },
    {
     "cell_type": "code",
     "collapsed": false,
     "input": [
      "%%timeit\n",
      "T = numpy.zeros(nx)\n",
      "T[0] = 80\n",
      "\n",
      "for i in range(100):\n",
      "    rhs[1:-1] = T[1:-1] + r*(T[2:]-2*T[1:-1]+T[:-2])\n",
      "    T = solve_banded((1, 1), banded, rhs )"
     ],
     "language": "python",
     "metadata": {},
     "outputs": [
      {
       "output_type": "stream",
       "stream": "stdout",
       "text": [
        "100 loops, best of 3: 14.4 ms per loop\n"
       ]
      }
     ],
     "prompt_number": 10
    },
    {
     "cell_type": "code",
     "collapsed": false,
     "input": [
      "plt.figure(figsize=(11,8))\n",
      "plt.plot(T)"
     ],
     "language": "python",
     "metadata": {},
     "outputs": [
      {
       "metadata": {},
       "output_type": "pyout",
       "prompt_number": 11,
       "text": [
        "[<matplotlib.lines.Line2D at 0x7fd67d027910>]"
       ]
      },
      {
       "metadata": {},
       "output_type": "display_data",
       "png": "[encoded data removed]",
       "text": [
        "<matplotlib.figure.Figure at 0x7fd67d074550>"
       ]
      }
     ],
     "prompt_number": 11
    },
    {
     "cell_type": "code",
     "collapsed": false,
     "input": [
      "%%timeit\n",
      "T = numpy.zeros(nx)\n",
      "T[0] = 80\n",
      "\n",
      "full_matrix_inverted = numpy.linalg.inv(fullmatrix)\n",
      "\n",
      "for i in range(100):\n",
      "    rhs[1:-1] = T[1:-1] + r*(T[2:]-2*T[1:-1]+T[:-2])\n",
      "    T = numpy.dot(full_matrix_inverted,rhs)\n"
     ],
     "language": "python",
     "metadata": {},
     "outputs": [
      {
       "output_type": "stream",
       "stream": "stdout",
       "text": [
        "1 loops, best of 3: 2.04 s per loop\n"
       ]
      }
     ],
     "prompt_number": 25
    },
    {
     "cell_type": "code",
     "collapsed": false,
     "input": [
      "plt.figure(figsize=(11,8))\n",
      "plt.plot(T)"
     ],
     "language": "python",
     "metadata": {},
     "outputs": [
      {
       "metadata": {},
       "output_type": "pyout",
       "prompt_number": 30,
       "text": [
        "[<matplotlib.lines.Line2D at 0x7fd67cc20e10>]"
       ]
      },
      {
       "metadata": {},
       "output_type": "display_data",
       "png": "[encoded data removed]",
       "text": [
        "<matplotlib.figure.Figure at 0x7fd67cd26c90>"
       ]
      }
     ],
     "prompt_number": 30
    },
    {
     "cell_type": "code",
     "collapsed": false,
     "input": [
      "%%timeit\n",
      "T = numpy.zeros(nx)\n",
      "T[0] = 80\n",
      "\n",
      "my_pseudo_inverse = numpy.linalg.pinv(fullmatrix)\n",
      "\n",
      "for i in range(100):\n",
      "    rhs[1:-1] = T[1:-1] + r*(T[2:]-2*T[1:-1]+T[:-2])\n",
      "    T = numpy.dot(my_pseudo_inverse,rhs)"
     ],
     "language": "python",
     "metadata": {},
     "outputs": [
      {
       "output_type": "stream",
       "stream": "stdout",
       "text": [
        "1 loops, best of 3: 5.09 s per loop\n"
       ]
      }
     ],
     "prompt_number": 36
    }
   ],
   "metadata": {}
  }
 ]
}