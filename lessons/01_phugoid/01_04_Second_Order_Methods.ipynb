{
 "metadata": {
  "name": "",
  "signature": "sha256:48782d2c6deb72976c8af3b8e8548fcfd770574dea4a660b93a11be21d7ba68e"
 },
 "nbformat": 3,
 "nbformat_minor": 0,
 "worksheets": [
  {
   "cells": [
    {
     "cell_type": "heading",
     "level": 6,
     "metadata": {},
     "source": [
      "Content under Creative Commons Attribution license CC-BY 4.0, code under MIT license (c)2014 L.A. Barba, G.F. Forsyth, C.D. Cooper. Partly based on content  by David Ketcheson, also under CC-BY."
     ]
    },
    {
     "cell_type": "heading",
     "level": 1,
     "metadata": {},
     "source": [
      "Phugoid model: bonus"
     ]
    },
    {
     "cell_type": "markdown",
     "metadata": {},
     "source": [
      "_The phugoid model of glider flight_ has been such a fun problem to showcase the power of numerical solution of differential equations, we thought you'd enjoy a bonus notebook. The previous lessons were:\n",
      "\n",
      "* [Phugoid motion](http://nbviewer.ipython.org/github/numerical-mooc/numerical-mooc/blob/master/lessons/01_phugoid/01_01_Phugoid_Theory.ipynb) \u2014Lays the groundwork for our fun problem, with some context, a little history and a description of the physics of phugoids: curves representing the trajectory of a glider exchanging potential and kinetic energy, with no drag.\n",
      "* [Phugoid oscillation](http://nbviewer.ipython.org/github/numerical-mooc/numerical-mooc/blob/master/lessons/01_phugoid/01_02_Phugoid_Oscillation.ipynb) \u2014Develops the simple harmonic motion of an aircraft experiencing a small perturbation from the horizontal trajectory: our opportunity to introduce Euler's method, and study its convergence via an exact solution.\n",
      "* [Full phugoid motion](http://nbviewer.ipython.org/github/numerical-mooc/numerical-mooc/blob/master/lessons/01_phugoid/01_03_PhugoidFullModel.ipynb) \u2014The full model takes into account the force of drag and results in a system of two nonlinear equations. We obtain the trajectories using Euler's method in vectorized form, introduce grid-convergence analysis and finish with the paper-airplane challenge!\n",
      "\n",
      "That is a fantastic foundation for numerical methods. It's a good time to complement it with some theory: the first screencast of the course uses Taylor's series to show that _Euler's method is a first-order method_, and we also show you graphical interpretations. Many problems require a more accurate method, though: second order or higher. Among the most popular higher-order methods that we can mention are the _Runge-Kutta methods_, developed around 1900: more than 100 years after Euler published his book containing the method now named after him!"
     ]
    },
    {
     "cell_type": "heading",
     "level": 2,
     "metadata": {},
     "source": [
      "Second-order methods"
     ]
    },
    {
     "cell_type": "markdown",
     "metadata": {},
     "source": [
      "The notebook on phugoid oscillation (lesson 2) included a study of the accuracy obtained with Euler's method using the exact solution for the simple harmonic motion. We made a _convergence plot_ and saw that as $\\Delta t$ gets smaller, the error also gets smaller. \n",
      "\n",
      "We could have drawn a line with a slope equal to 1 on that log-log plot, and you would have seen that it was parallel to the convergence line. A slope equal to 1 on a log-log convergence plot is an indication that we have a first-order method: the error scales as ${\\mathcal O}(\\Delta t)$. \n",
      "\n",
      "In lesson 3, using the full phugoid model (which is nonlinear and does not have an exact solution), we did a _grid-convergence study_ with three different grids, and obtained the observed order of convergence\u2014it was very close to 1, indicating a slope of 1 on a log-log plot.\n",
      "\n",
      "Another way to look at an ${\\mathcal O}(\\Delta t)$ method is to say that the error scales _linearly_ with the step size, or that they are proportional:\n",
      "\n",
      "$$ e \\propto \\Delta t.$$\n",
      "\n",
      "where $e$ stands for the error. For more accuracy, we can use a _second-order_ method, in which the error is ${\\mathcal O}(\\Delta t^2)$. In general, we say that a method is of order $p$ to mean that the error is proportional to $(\\Delta t)^p$.\n",
      "\n",
      "In the screencast titled \"Euler's method is a first-order method,\" we used a graphical interpretation to get an idea for improving it: by estimating an intermediate point, like the **midpoint**, we can get a better approximation of the area under the curve of $u^\\prime$. The scheme has two steps and is written as:\n",
      "\n",
      "\\begin{align}\n",
      "u_{n+1/2}   & = u_n + \\frac{\\Delta t}{2} f(u_n) \\\\\n",
      "u_{n+1} & = u_n + \\Delta t \\,\\, f(u_{n+1/2}).\n",
      "\\end{align}\n",
      "\n",
      "This method is known as the *explicit midpoint method* or the *modified Euler method*, and it is a second-order method."
     ]
    },
    {
     "cell_type": "heading",
     "level": 3,
     "metadata": {},
     "source": [
      "Runge-Kutta methods"
     ]
    },
    {
     "cell_type": "markdown",
     "metadata": {},
     "source": [
      "In the modified Euler method, we improve the accuracy over Euler's method by evaluating the right-hand side of the differential equation at an intermediate point: the midpoint. It turns out the same idea can be applied again, and the function $f(u)$ can be evaluated at more intermediate points, improving the accuracy even more. This idea goes back to Carl Runge and Martin Kutta. \n",
      "\n",
      "Here's a bit of historical coincidence that will blow your mind: Carl Runge's daughter Iris\u2014an accomplished applied mathematician on her own right\u2014worked assiduously over the summer of 1909 to translate Lanchester's _\"Aerodonetics.\"_ She also reproduced his graphical method to draw the phugoid curves (Tobies, 2012).\n",
      "\n",
      "*Runge-Kutta methods* achieve high-order accuracy by multiple evaluations of $f(u)$ in each time step. The scheme in equations $(1)$ and $(2)$, with two evaluations of $f(u)$ in each time step, is a *second order* Runge-Kutta method.\n"
     ]
    },
    {
     "cell_type": "code",
     "collapsed": false,
     "input": [
      "from math import sin, cos, log\n",
      "import numpy\n",
      "import matplotlib.pyplot as plt\n",
      "%matplotlib inline"
     ],
     "language": "python",
     "metadata": {},
     "outputs": []
    },
    {
     "cell_type": "code",
     "collapsed": false,
     "input": [
      "# model parameters:\n",
      "g = 9.8      # gravity in m s^{-2}\n",
      "v_t = 30.0   # trim velocity in m s^{-1}   \n",
      "C_D = 1/40.  # drag coefficient --- or D/L if C_L=1\n",
      "C_L = 1.0    # for convenience, use C_L = 1\n",
      "\n",
      "### set initial conditions ###\n",
      "v0 = v_t     # start at the trim velocity (or add a delta)\n",
      "theta0 = 0.0 # initial angle of trajectory\n",
      "x0 = 0.0     # horizotal position is arbitrary\n",
      "y0 = 1000.0  # initial altitude"
     ],
     "language": "python",
     "metadata": {},
     "outputs": []
    },
    {
     "cell_type": "markdown",
     "metadata": {},
     "source": [
      "Let's define a few useful functions. Nothing new here, just code to compute:\n",
      "* The right-hand side of the phugoid model from [Lesson 3](http://nbviewer.ipython.org/github/numerical-mooc/numerical-mooc/blob/master/lessons/01_phugoid/01_03_PhugoidFullModel.ipynb),\n",
      "* One step of the Euler's method that we learned in [Lesson 2](http://nbviewer.ipython.org/github/numerical-mooc/numerical-mooc/blob/master/lessons/01_phugoid/01_02_Phugoid_Oscillation.ipynb), and\n",
      "* Differences with respect to a fine grid, as in [Lesson 3](http://nbviewer.ipython.org/github/numerical-mooc/numerical-mooc/blob/master/lessons/01_phugoid/01_03_PhugoidFullModel.ipynb)."
     ]
    },
    {
     "cell_type": "code",
     "collapsed": false,
     "input": [
      "import numpy\n",
      "from math import sin, cos \n",
      "\n",
      "def f(u):\n",
      "    \"\"\"Returns the right-hand side of the phugoid system of equations.\n",
      "    \n",
      "    Parameters\n",
      "    ----------\n",
      "    u : array of float\n",
      "        array containing the solution at time n.\n",
      "        \n",
      "    Returns\n",
      "    -------\n",
      "    dudt : array of float\n",
      "        array containing the RHS given u.\n",
      "    \"\"\"\n",
      "    \n",
      "    v = u[0]\n",
      "    theta = u[1]\n",
      "    x = u[2]\n",
      "    y = u[3]\n",
      "    return numpy.array([-g*sin(theta) - C_D/C_L*g/v_t**2*v**2,\n",
      "                      -g*cos(theta)/v + g/v_t**2*v,\n",
      "                      v*cos(theta),\n",
      "                      v*sin(theta)])\n",
      "\n",
      "\n",
      "def euler_step(u, f, dt):\n",
      "    \"\"\"Returns the solution at the next time-step using Euler's method.\n",
      "    \n",
      "    Parameters\n",
      "    ----------\n",
      "    u : array of float\n",
      "        solution at the previous time-step.\n",
      "    f : function\n",
      "        function to compute the right hand-side of the system of equation.\n",
      "    dt : float\n",
      "        time-increment.\n",
      "    \n",
      "    Returns\n",
      "    -------\n",
      "    u_n_plus_1 : array of float\n",
      "        approximate solution at the next time step.\n",
      "    \"\"\"\n",
      "    \n",
      "    return u + dt * f(u)\n",
      "\n",
      "\n",
      "def get_diffgrid(u_current, u_fine, dt):\n",
      "    \"\"\"Returns the difference between one grid and the fine one using L-1 norm.\n",
      "    \n",
      "    Parameters\n",
      "    ----------\n",
      "    u_current : array of float\n",
      "        solution on the current grid.\n",
      "    u_finest : array of float\n",
      "        solution on the fine grid.\n",
      "    dt : float\n",
      "        time-increment on the current grid.\n",
      "    \n",
      "    Returns\n",
      "    -------\n",
      "    diffgrid : float\n",
      "        difference computed in the L-1 norm.\n",
      "    \"\"\"\n",
      "    \n",
      "    N_current = len(u_current[:,0])\n",
      "    N_fine = len(u_fine[:,0])\n",
      "   \n",
      "    grid_size_ratio = numpy.ceil(N_fine/float(N_current))\n",
      "    \n",
      "    diffgrid = dt * numpy.sum( numpy.abs(\\\n",
      "            u_current[:,2]- u_fine[::grid_size_ratio,2])) \n",
      "    \n",
      "    return diffgrid\n"
     ],
     "language": "python",
     "metadata": {},
     "outputs": []
    },
    {
     "cell_type": "heading",
     "level": 3,
     "metadata": {},
     "source": [
      "Phugoid model with second order Runge-Kutta"
     ]
    },
    {
     "cell_type": "markdown",
     "metadata": {},
     "source": [
      "As an exercise, let's plot the path of the glider and calculate the distance travelled before touching the ground using the $2^\\text{nd}$-order Runge-Kutta method. First, we'll define the function `rk2_step` that computes the next time step using the *modified Euler* method of equations $(1)$ and $(2)$."
     ]
    },
    {
     "cell_type": "code",
     "collapsed": false,
     "input": [
      "def rk2_step(u, f, dt):\n",
      "    \"\"\"Returns the solution at the next time-step using 2nd-order Runge-Kutta method.\n",
      "    \n",
      "    Parameters\n",
      "    ----------\n",
      "    u : array of float\n",
      "        solution at the previous time-step.\n",
      "    f : function\n",
      "        function to compute the right hand-side of the system of equation.\n",
      "    dt : float\n",
      "        time-increment.\n",
      "    \n",
      "    Returns\n",
      "    -------\n",
      "    u_n_plus_1 : array of float\n",
      "        solution at the next time step.\n",
      "    \"\"\"\n",
      "    u_star = u + 0.5*dt*f(u)\n",
      "    return u + dt*f(u_star)"
     ],
     "language": "python",
     "metadata": {},
     "outputs": []
    },
    {
     "cell_type": "markdown",
     "metadata": {},
     "source": [
      "Like in [Lesson 3](http://nbviewer.ipython.org/github/numerical-mooc/numerical-mooc/blob/master/lessons/01_phugoid/01_03_PhugoidFullModel.ipynb), we first set up the time discretization, then initialize the arrays and we are all set to go! The only difference is that this time we are using both Euler's method and second order Runge-Kutta, to compare. "
     ]
    },
    {
     "cell_type": "code",
     "collapsed": false,
     "input": [
      "# set time-increment and discretize the time\n",
      "T  = 100.0                           # final time\n",
      "dt = 0.1                             # set time-increment\n",
      "N  = int(T/dt) + 1                   # number of time-steps\n",
      "\n",
      "\n",
      "# set initial conditions\n",
      "u_euler = numpy.empty((N, 4))\n",
      "u_rk2   = numpy.empty((N, 4))\n",
      "\n",
      "\n",
      "# initialize the array containing the solution for each time-step\n",
      "u_euler[0] = numpy.array([v0, theta0, x0, y0])\n",
      "u_rk2[0]   = numpy.array([v0, theta0, x0, y0])\n",
      "\n",
      "\n",
      "# use a for loop to call the function rk2_step()\n",
      "for n in range(N-1):\n",
      "    \n",
      "    u_euler[n+1] = euler_step(u_euler[n], f, dt)\n",
      "    u_rk2[n+1]   = rk2_step(u_rk2[n], f, dt)"
     ],
     "language": "python",
     "metadata": {},
     "outputs": []
    },
    {
     "cell_type": "markdown",
     "metadata": {},
     "source": [
      "Then, the position of the glider in time is"
     ]
    },
    {
     "cell_type": "code",
     "collapsed": false,
     "input": [
      "x_euler = u_euler[:,2]\n",
      "y_euler = u_euler[:,3]\n",
      "x_rk2 = u_rk2[:,2]\n",
      "y_rk2 = u_rk2[:,3]"
     ],
     "language": "python",
     "metadata": {},
     "outputs": []
    },
    {
     "cell_type": "heading",
     "level": 5,
     "metadata": {},
     "source": [
      "How far can the glider fly before touching the ground?"
     ]
    },
    {
     "cell_type": "markdown",
     "metadata": {},
     "source": [
      "We know that negative values of $y$ don't have any physical meaning: the glider would have hit the ground by then! To find out if there are any negative $y$ values we can use [`numpy.where`](http://docs.scipy.org/doc/numpy/reference/generated/numpy.where.html). This function returns the indices of the elements in an array that match a given condition. For example, `numpy.where(y_euler<0)[0]` gives an array of the indices `i` where `y_euler[i]<0`. If no elements of the array match the conditional, the array of indices comes out empty. \n",
      "\n",
      "From the physical problem, we know that once there is one negative value, the glider has hit the ground and all the remaining time-steps are unphysical. Therefore, we are interested in finding the first index where the condition applies, given by `numpy.where(y_euler<0)[0][0]` "
     ]
    },
    {
     "cell_type": "code",
     "collapsed": false,
     "input": [
      "# get the index of element of y where altitude becomes negative\n",
      "idx_negative_euler = numpy.where(y_euler<0.0)[0]\n",
      "if len(idx_negative_euler)==0:\n",
      "    idx_ground_euler = N-1\n",
      "    print ('Euler integration has not touched ground yet!')\n",
      "else:\n",
      "    idx_ground_euler = idx_negative_euler[0]\n",
      "    \n",
      "idx_negative_rk2 = numpy.where(y_rk2<0.0)[0]\n",
      "if len(idx_negative_rk2)==0:\n",
      "    idx_ground_rk2 = N-1\n",
      "    print ('Runge-Kutta integration has not touched ground yet!')\n",
      "else:\n",
      "    idx_ground_rk2 = idx_negative_rk2[0]"
     ],
     "language": "python",
     "metadata": {},
     "outputs": []
    },
    {
     "cell_type": "heading",
     "level": 5,
     "metadata": {},
     "source": [
      "Do the Euler and Runge-Kutta methods give the exact same answer?"
     ]
    },
    {
     "cell_type": "markdown",
     "metadata": {},
     "source": [
      "An easy way to compare the numerical results of Euler's and Runge-Kutta's methods is using [`numpy.allclose`](http://docs.scipy.org/doc/numpy/reference/generated/numpy.allclose.html). This function compares each element of two arrays and returns `True` if each comparison is within some relative tolerance. Here, we use the default tolerance: $10^{-5}$."
     ]
    },
    {
     "cell_type": "code",
     "collapsed": false,
     "input": [
      "# check to see if the paths match\n",
      "print('Are the x-values close? {}'.format(numpy.allclose(x_euler, x_rk2)))\n",
      "print('Are the y-values close? {}'.format(numpy.allclose(y_euler, y_rk2)))"
     ],
     "language": "python",
     "metadata": {},
     "outputs": []
    },
    {
     "cell_type": "markdown",
     "metadata": {},
     "source": [
      "$10^{-5}$ is a pretty tight tolerance, considering we're using a somewhat small mesh with first and second order methods. Perhaps we can assess this visually, by plotting the glider's path? Here we plot it twice, taking a closer look in the second plot."
     ]
    },
    {
     "cell_type": "code",
     "collapsed": false,
     "input": [
      "# plot the glider path\n",
      "plt.figure(figsize=(11,8))\n",
      "plt.subplot(121)\n",
      "plt.grid(True)\n",
      "plt.xlabel(r'x', fontsize=18)\n",
      "plt.ylabel(r'y', fontsize=18)\n",
      "plt.plot(x_euler[:idx_ground_euler], y_euler[:idx_ground_euler], color='b', ls='-', lw=2, \n",
      "         label='Euler')\n",
      "plt.plot(x_rk2[:idx_ground_rk2], y_rk2[:idx_ground_rk2], color='r', ls='-', lw=2, \n",
      "         label='RK2')\n",
      "plt.title('distance traveled: {:.3f}'.format(x_rk2[idx_ground_rk2-1]), fontsize=18)\n",
      "\n",
      "plt.legend();\n",
      "\n",
      "# Let's take a closer look!\n",
      "plt.subplot(122)\n",
      "plt.grid(True)\n",
      "plt.xlabel(r'x', fontsize=18)\n",
      "plt.ylabel(r'y', fontsize=18)\n",
      "plt.plot(x_euler[:idx_ground_euler], y_euler[:idx_ground_euler], color='b', ls='-', lw=2, \n",
      "         label='Euler')\n",
      "plt.plot(x_rk2[:idx_ground_rk2], y_rk2[:idx_ground_rk2], color='r', ls='-', lw=2,\n",
      "         label='RK2')\n",
      "plt.xlim(2000,3000)\n",
      "plt.ylim(920,950)\n",
      "plt.legend();"
     ],
     "language": "python",
     "metadata": {},
     "outputs": []
    },
    {
     "cell_type": "markdown",
     "metadata": {},
     "source": [
      "From far away, Euler and Runge-Kutta seem to be giving similar answers. However, if we take a closer look, small differences start appearing. Keep in mind that we are solving the same equation and both methods will converge to the same answer as we refine the grid."
     ]
    },
    {
     "cell_type": "heading",
     "level": 5,
     "metadata": {},
     "source": [
      "Convergence"
     ]
    },
    {
     "cell_type": "markdown",
     "metadata": {},
     "source": [
      "Just like in [Lesson 3](http://nbviewer.ipython.org/github/numerical-mooc/numerical-mooc/blob/master/lessons/01_phugoid/01_03_PhugoidFullModel.ipynb), we'll check the convergence using a fine-grid solution. \n",
      "\n",
      "The cell below implements a `for`-loop to compute the solution on different grids, including the fine-grid solution."
     ]
    },
    {
     "cell_type": "code",
     "collapsed": false,
     "input": [
      "# use a for-loop to compute the solution on different grids\n",
      "dt_values = numpy.array([0.1, 0.05, 0.01, 0.005, 0.001])\n",
      "\n",
      "u_values = numpy.empty_like(dt_values, dtype=numpy.ndarray)\n",
      "\n",
      "for i, dt in enumerate(dt_values):\n",
      "    \n",
      "    N = int(T/dt)+1    # number of time-steps\n",
      "    \n",
      "    ### discretize the time t ###\n",
      "    t = numpy.linspace(0.0, T, N)\n",
      "    \n",
      "    # initialize the array containing the solution for each time-step\n",
      "    u = numpy.empty((N, 4))\n",
      "    u[0] = numpy.array([v0, theta0, x0, y0])\n",
      "\n",
      "    # time loop\n",
      "    for n in range(N-1):\n",
      "        u[n+1] = rk2_step(u[n], f, dt)\n",
      "    \n",
      "    # store the value of u related to one grid\n",
      "    u_values[i] = u"
     ],
     "language": "python",
     "metadata": {},
     "outputs": []
    },
    {
     "cell_type": "markdown",
     "metadata": {},
     "source": [
      "Once those runs are done, we can compute the difference between the numerical result for each mesh and the fine-grid solution."
     ]
    },
    {
     "cell_type": "code",
     "collapsed": false,
     "input": [
      "# compute diffgrid\n",
      "diffgrid = numpy.empty_like(dt_values)\n",
      "for i, dt in enumerate(dt_values):\n",
      "\n",
      "    diffgrid[i] = get_diffgrid(u_values[i], u_values[-1], dt)"
     ],
     "language": "python",
     "metadata": {},
     "outputs": []
    },
    {
     "cell_type": "markdown",
     "metadata": {},
     "source": [
      "And now we plot!"
     ]
    },
    {
     "cell_type": "code",
     "collapsed": false,
     "input": [
      "# plot using the matplotlib function loglog()\n",
      "plt.figure(figsize=(6,6))\n",
      "plt.grid(True)\n",
      "plt.xlabel(r'$\\Delta t$', fontsize=18)\n",
      "plt.ylabel(r'$L_1$-norm of the grid differences', fontsize=18)\n",
      "plt.axis('equal')\n",
      "plt.loglog(dt_values[:-1], diffgrid[:-1], color='b', ls='-', lw=2, marker='o');"
     ],
     "language": "python",
     "metadata": {},
     "outputs": []
    },
    {
     "cell_type": "markdown",
     "metadata": {},
     "source": [
      "This is looking good! The difference relative to our fine grid solution is decreasing with the mesh size at a faster rate than in [Lesson 3](http://nbviewer.ipython.org/github/numerical-mooc/numerical-mooc/blob/master/lessons/01_phugoid/01_03_PhugoidFullModel.ipynb), but *how much faster?* When we computed the observed order of convergence for Euler's method, we got a value close to 1: it was a first order integration scheme. Can you guess what will it be now?"
     ]
    },
    {
     "cell_type": "markdown",
     "metadata": {},
     "source": [
      "To compute the observed order of convergence, we use three grid resolutions that are refined at a constant rate, in this case $r=2$. "
     ]
    },
    {
     "cell_type": "code",
     "collapsed": false,
     "input": [
      "# check convergence rate\n",
      "r = 2\n",
      "h = 0.001\n",
      "\n",
      "dt_values = numpy.array([h, r*h, r**2*h])\n",
      "\n",
      "u_values = numpy.empty_like(dt_values, dtype=numpy.ndarray)\n",
      "\n",
      "for i, dt in enumerate(dt_values):\n",
      "    \n",
      "    N = int(T/dt)+1    # number of time-steps\n",
      "    \n",
      "    ### discretize the time t ###\n",
      "    t = numpy.linspace(0.0, T, N)\n",
      "    \n",
      "    # initialize the array containing the solution for each time-step\n",
      "    u = numpy.empty((N, 4))\n",
      "    u[0] = numpy.array([v0, theta0, x0, y0])\n",
      "\n",
      "    # time loop\n",
      "    for n in range(N-1):\n",
      "        ### call rk2_step() ###\n",
      "        u[n+1] = rk2_step(u[n], f, dt)\n",
      "    \n",
      "    # store the value of u related to one grid\n",
      "    u_values[i] = u\n",
      "    \n",
      "# calculate the order of convergence\n",
      "alpha = (log(get_diffgrid(u_values[2], u_values[1], dt_values[2])) \n",
      "         - log(get_diffgrid(u_values[1], u_values[0], dt_values[1]))) / log(r)\n",
      "\n",
      "print('The order of convergence is alpha = {:.3f}'.format(alpha))"
     ],
     "language": "python",
     "metadata": {},
     "outputs": []
    },
    {
     "cell_type": "markdown",
     "metadata": {},
     "source": [
      "Probably you're not too surprised to see the observed order of convergence is 2: we used a second order method! This means that the numerical solution is converging with the grid resolution twice as fast compared to Euler's method in [Lesson 3](http://nbviewer.ipython.org/github/numerical-mooc/numerical-mooc/blob/master/lessons/01_phugoid/01_03_PhugoidFullModel.ipynb), scaling as ${\\mathcal O}(\\Delta t^2)$. That is a lot faster! However, we are paying a price here: second order Runge-Kutta requires more computations per iteration."
     ]
    },
    {
     "cell_type": "heading",
     "level": 3,
     "metadata": {},
     "source": [
      "Multistep methods"
     ]
    },
    {
     "cell_type": "markdown",
     "metadata": {},
     "source": [
      "Another way to achieve second order is to use a more accurate approximation of the derivative by involving multiple previous solution values.  For instance, we can approximate the derivative with a centered difference:\n",
      "\n",
      "$$ U'(t) \\approx \\frac{U_{n+1} - U_{n-1}}{2\\Delta t}.$$\n",
      "\n",
      "This leads to the method\n",
      "\n",
      "$$ U_{n+1} = U_{n-1} + 2\\Delta t f(U_n),$$\n",
      "\n",
      "which is sometimes called the **leapfrog method** because it \"leaps\" from $U_{n-1}$ to $U_{n+1}$.  The one-sided approximation used in Euler's method has a local truncation error of ${\\mathcal O}(\\Delta t^2)$, whereas the error in this approximation is ${\\mathcal O}(\\Delta t^3)$."
     ]
    },
    {
     "cell_type": "heading",
     "level": 5,
     "metadata": {},
     "source": [
      "Exercise"
     ]
    },
    {
     "cell_type": "markdown",
     "metadata": {},
     "source": [
      "In your notebook, implement the leapfrog method for the glider and check the observed order of convergence in the same way we checked Euler's method and $2^\\text{nd}$-order Runge-Kutta method.\n",
      "\n",
      "First, let's implement a function that computes the next time step with the leapfrog method."
     ]
    },
    {
     "cell_type": "code",
     "collapsed": false,
     "input": [
      "def leapfrog_step(unm1, u, f, dt):\n",
      "    \"\"\"Returns the solution time-step n+1) using Euler's method.\n",
      "    \n",
      "    Parameters\n",
      "    ----------\n",
      "    unm1 : array of float\n",
      "        solution at time-step n-1.\n",
      "    u : array of float\n",
      "        solution at time-step n.\n",
      "    f : function\n",
      "        function to compute the right hand-side of the system of equation.\n",
      "    dt : float\n",
      "        time-increment.\n",
      "    \n",
      "    Returns\n",
      "    -------\n",
      "    u_n_plus_1 : array of float\n",
      "        solution at time-step n+1.\n",
      "    \"\"\"\n",
      "    return unm1 + 2.0*dt*f(u)"
     ],
     "language": "python",
     "metadata": {},
     "outputs": []
    },
    {
     "cell_type": "markdown",
     "metadata": {},
     "source": [
      "To compute the values at time $n+1$, the leapfrog method requires the solution in time $n-1$, which is not available to compute $u_{n=1}$. In the first time step, we can use either Euler's method or $2^{nd}$-order Runge Kutta.  "
     ]
    },
    {
     "cell_type": "code",
     "collapsed": false,
     "input": [
      "# set time-increment and discretize the time\n",
      "T  = 100.0                           # final time\n",
      "dt = 0.1                             # set time-increment\n",
      "N  = int(T/dt) + 1                   # number of time-steps\n",
      "\n",
      "# set initial conditions\n",
      "u_leapfrog = numpy.empty((N, 4))\n",
      "\n",
      "# initialize the array containing the solution for each time-step\n",
      "u_leapfrog[0] = numpy.array([v0, theta0, x0, y0])\n",
      "\n",
      "# first step using RK2\n",
      "u_leapfrog[1] = rk2_step(u_leapfrog[0], f, dt)"
     ],
     "language": "python",
     "metadata": {},
     "outputs": []
    },
    {
     "cell_type": "markdown",
     "metadata": {},
     "source": [
      "Now we have all the required information to loop in time using the leapfrog method."
     ]
    },
    {
     "cell_type": "code",
     "collapsed": false,
     "input": [
      "# use a for loop to call the function leapfrog_step()\n",
      "for n in range(1,N-1):\n",
      "    \n",
      "    u_leapfrog[n+1] = leapfrog_step(u_leapfrog[n-1], u_leapfrog[n], f, dt)"
     ],
     "language": "python",
     "metadata": {},
     "outputs": []
    },
    {
     "cell_type": "markdown",
     "metadata": {},
     "source": [
      "Like before, we extract the position of the glider in time and find where it reaches the ground."
     ]
    },
    {
     "cell_type": "code",
     "collapsed": false,
     "input": [
      "# get the glider position in time\n",
      "x_leapfrog = u_leapfrog[:,2]\n",
      "y_leapfrog = u_leapfrog[:,3]\n",
      "\n",
      "# get the index of element of y where altitude becomes negative\n",
      "idx_negative_leapfrog = numpy.where(y_leapfrog<0.0)[0]\n",
      "\n",
      "if len(idx_negative_leapfrog)==0:\n",
      "    idx_ground_leapfrog = N-1\n",
      "    print ('The glider has not reached the ground yet!')\n",
      "else:\n",
      "    idx_ground_leapfrog = idx_negative_leapfrog[0]"
     ],
     "language": "python",
     "metadata": {},
     "outputs": []
    },
    {
     "cell_type": "markdown",
     "metadata": {},
     "source": [
      "And we can plot the glider's trajectory"
     ]
    },
    {
     "cell_type": "code",
     "collapsed": false,
     "input": [
      "# plot the glider path\n",
      "plt.figure(figsize=(11,8))\n",
      "plt.subplot(121)\n",
      "plt.grid(True)\n",
      "plt.xlabel(r'x', fontsize=18)\n",
      "plt.ylabel(r'y', fontsize=18)\n",
      "plt.plot(x_leapfrog[:idx_ground_leapfrog], y_leapfrog[:idx_ground_leapfrog], color='b', ls='-', lw=2)\n",
      "plt.title('distance traveled: {:.3f}'.format(x_leapfrog[idx_ground_leapfrog-1]), fontsize=18);\n",
      "\n",
      "# Let's take a closer look!\n",
      "plt.subplot(122)\n",
      "plt.grid(True)\n",
      "plt.xlabel(r'x', fontsize=18)\n",
      "plt.ylabel(r'y', fontsize=18)\n",
      "plt.plot(x_leapfrog[:idx_ground_leapfrog], y_leapfrog[:idx_ground_leapfrog], color='b', ls='-', lw=2)\n",
      "plt.xlim(2000,3000)\n",
      "plt.ylim(920,950);"
     ],
     "language": "python",
     "metadata": {},
     "outputs": []
    },
    {
     "cell_type": "markdown",
     "metadata": {},
     "source": [
      "This looks very similar to Euler and $2^{nd}$-order Runge-Kutta!\n",
      "\n",
      "Let's look at convergence now. First, we compute the solution for several meshes and compare with a fine-mesh solution."
     ]
    },
    {
     "cell_type": "code",
     "collapsed": false,
     "input": [
      "# check the rate of convergence in a log-log plot\n",
      "\n",
      "# use a for-loop to compute the solution on different grids\n",
      "dt_values = numpy.array([0.1, 0.05, 0.01, 0.005, 0.001])\n",
      "\n",
      "u_values = numpy.empty_like(dt_values, dtype=numpy.ndarray)\n",
      "\n",
      "for i, dt in enumerate(dt_values):\n",
      "    \n",
      "    N = int(T/dt)+1    # number of time-steps\n",
      "    \n",
      "    ### discretize the time t ###\n",
      "    t = numpy.linspace(0.0, T, N)\n",
      "    \n",
      "    # initialize the array containing the solution for each time-step\n",
      "    u = numpy.empty((N, 4))\n",
      "    u[0] = numpy.array([v0, theta0, x0, y0])\n",
      "\n",
      "    # time loop\n",
      "    u[1] = rk2_step(u[0], f, dt)\n",
      "    for n in range(1, N-1):\n",
      "        u[n+1] = leapfrog_step(u[n-1], u[n], f, dt)\n",
      "    \n",
      "    # store the value of u related to one grid\n",
      "    u_values[i] = u\n",
      "    \n",
      "    \n",
      "# compute diffgrid\n",
      "diffgrid = numpy.empty_like(dt_values)\n",
      "for i, dt in enumerate(dt_values):\n",
      "\n",
      "    diffgrid[i] = get_diffgrid(u_values[i], u_values[-1], dt)"
     ],
     "language": "python",
     "metadata": {},
     "outputs": []
    },
    {
     "cell_type": "markdown",
     "metadata": {},
     "source": [
      "And we plot"
     ]
    },
    {
     "cell_type": "code",
     "collapsed": false,
     "input": [
      "# plot using the matplotlib function loglog()\n",
      "plt.figure(figsize=(6,6))\n",
      "plt.grid(True)\n",
      "plt.xlabel(r'$\\Delta t$', fontsize=18)\n",
      "plt.ylabel(r'$L_1$-norm of the grid differences', fontsize=18)\n",
      "plt.axis('equal')\n",
      "plt.loglog(dt_values[:-1], diffgrid[:-1], color='b', ls='-', lw=2, marker='o');"
     ],
     "language": "python",
     "metadata": {},
     "outputs": []
    },
    {
     "cell_type": "markdown",
     "metadata": {},
     "source": [
      "Again, this plot looks very similar to $2^{nd}$ order Runge-Kutta, with the difference with the fine mesh solution decaying much faster than with Euler's method from [Lesson 3](http://nbviewer.ipython.org/github/numerical-mooc/numerical-mooc/blob/master/lessons/01_phugoid/01_03_PhugoidFullModel.ipynb).\n",
      "\n",
      "What about the observed order of convergence?"
     ]
    },
    {
     "cell_type": "code",
     "collapsed": false,
     "input": [
      "# check convergence rate\n",
      "r = 2\n",
      "h = 0.001\n",
      "\n",
      "dt_values = numpy.array([h, r*h, r**2*h])\n",
      "\n",
      "u_values = numpy.empty_like(dt_values, dtype=numpy.ndarray)\n",
      "\n",
      "for i, dt in enumerate(dt_values):\n",
      "    \n",
      "    N = int(T/dt) + 1   # number of time-steps\n",
      "    \n",
      "    ### discretize the time t ###\n",
      "    t = numpy.linspace(0.0, T, N)\n",
      "    \n",
      "    # initialize the array containing the solution for each time-step\n",
      "    u = numpy.empty((N, 4))\n",
      "    u[0] = numpy.array([v0, theta0, x0, y0])\n",
      "\n",
      "    # time loop\n",
      "    u[1] = rk2_step(u[0], f, dt)\n",
      "    for n in range(1, N-1):\n",
      "        u[n+1] = leapfrog_step(u[n-1], u[n], f, dt)\n",
      "    \n",
      "    # store the value of u related to one grid\n",
      "    u_values[i] = u\n",
      "    \n",
      "# calculate the order of convergence\n",
      "alpha = (log(get_diffgrid(u_values[2], u_values[1], dt_values[2])) \n",
      "         - log(get_diffgrid(u_values[1], u_values[0], dt_values[1]))) / log(r)\n",
      "\n",
      "print('The order of convergence is alpha = {:.3f}'.format(alpha))"
     ],
     "language": "python",
     "metadata": {},
     "outputs": []
    },
    {
     "cell_type": "markdown",
     "metadata": {},
     "source": [
      "This is no surprise: a second order method converges as ${\\mathcal O}(\\Delta t^2)$!"
     ]
    },
    {
     "cell_type": "heading",
     "level": 2,
     "metadata": {},
     "source": [
      "References"
     ]
    },
    {
     "cell_type": "markdown",
     "metadata": {},
     "source": [
      "Tobies, R. \"Iris Runge: A life at the crossroads of mathematics, science and industry,\" Springer Basel, 1st ed. (2012). [Read on Google books, page 73](http://books.google.com/books?id=EDm0eQqFUQ4C&lpg=PA73&dq=%22I%20have%20been%20making%20good%20progress%20with%20Lanchester.%20The%20second%20chapter%20is%20already%20on%20your%20desk%22&pg=PA73#v=onepage&q=%22I%20have%20been%20making%20good%20progress%20with%20Lanchester.%20The%20second%20chapter%20is%20already%20on%20your%20desk%22&f=false)."
     ]
    },
    {
     "cell_type": "markdown",
     "metadata": {},
     "source": [
      "---\n",
      "\n",
      "######The cell below loads the style of the notebook."
     ]
    },
    {
     "cell_type": "code",
     "collapsed": false,
     "input": [
      "from IPython.core.display import HTML\n",
      "css_file = '../../styles/numericalmoocstyle.css'\n",
      "HTML(open(css_file, \"r\").read())"
     ],
     "language": "python",
     "metadata": {},
     "outputs": []
    }
   ],
   "metadata": {}
  }
 ]
}