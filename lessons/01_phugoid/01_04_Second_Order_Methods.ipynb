{
 "metadata": {
  "name": "",
  "signature": "sha256:c34511b9ce29def5a947e5069374051fc9f8bbd5aa720f483167894929cb929b"
 },
 "nbformat": 3,
 "nbformat_minor": 0,
 "worksheets": [
  {
   "cells": [
    {
     "cell_type": "heading",
     "level": 6,
     "metadata": {},
     "source": [
      "Content under Creative Commons Attribution license CC-BY 4.0, code under MIT license (c)2014 L.A. Barba, G.F. Forsyth. Partly based on content  by David Ketcheson, also under CC-BY."
     ]
    },
    {
     "cell_type": "heading",
     "level": 1,
     "metadata": {},
     "source": [
      "Phugoid model: bonus"
     ]
    },
    {
     "cell_type": "markdown",
     "metadata": {},
     "source": [
      "_The phugoid model of glider flight_ has been such a fun problem to showcase the power of numerical solution of differential equations, we thought you'd enjoy a bonus notebook. The previous lessons were:\n",
      "\n",
      "* [Phugoid motion](http://nbviewer.ipython.org/github/numerical-mooc/numerical-mooc/blob/master/lessons/01_phugoid/01_01_Phugoid_Theory.ipynb) \u2014Lays the groundwork for our fun problem, with some context, a little history and a description of the physics of phugoids: curves representing the trajectory of a glider exchanging potential and kinetic energy, with no drag.\n",
      "* [Phugoid oscillation](http://nbviewer.ipython.org/github/numerical-mooc/numerical-mooc/blob/master/lessons/01_phugoid/01_02_Phugoid_Oscillation.ipynb) \u2014Develops the simple harmonic motion of an aircraft experiencing a small perturbation from the horizontal trajectory: our opportunity to introduce Euler's method, and study its convergence via an exact solution.\n",
      "* [Full phugoid motion](http://nbviewer.ipython.org/github/numerical-mooc/numerical-mooc/blob/master/lessons/01_phugoid/01_03_PhugoidFullModel.ipynb) \u2014The full model takes into account the force of drag and results in a system of two nonlinear equations. We obtain the trajectories using Euler's method in vectorized form, introduce grid-convergence analysis and finish with the paper-airplane challenge!\n",
      "\n",
      "That is a fantastic foundation for numerical methods. It's a good time to complement it with some theory: the first screencast of the course uses Taylor's series to show that _Euler's method is a first-order method_, and we also show you graphical inter- pretations. Many problems require a more accurate method, though: second order or higher. Among the most popular higher-order methods that we can mention are the _Runge-Kutta methods_, developed around 1900: more than 100 years after Euler published his book containing the method now named after him!"
     ]
    },
    {
     "cell_type": "heading",
     "level": 2,
     "metadata": {},
     "source": [
      "Second-order methods"
     ]
    },
    {
     "cell_type": "markdown",
     "metadata": {},
     "source": [
      "The notebook on phugoid oscillation (lesson 2) included a study of the accuracy obtained with Euler's method using the exact solution for the simple harmonic motion. We made a _convergence plot_ and saw that as $\\Delta t$ gets smaller, the error also gets smaller. We didn't do this, but we could've drawn on that log-log plot a line with a slope equal to 1, and you would have seen that it was parallel to the convergence line. A slope equal to 1 on a log-log convergence plot is an indication that we have a first-order method: the error scales as $O(\\Delta t)$. \n",
      "\n",
      "In lesson 3, using the full phugoid model (which is nonlinear and does not have an exact solution), we did a _grid-convergence study_ with three different grids, obtaining the observed order of convergence\u2014it was very close to 1, indicating a slope of 1 on a log-log plot.\n",
      "\n",
      "Another way to look at an $O(\\Delta t)$ method is to say that the error scales _linearly_ with the step size, or that they are proportional:\n",
      "\n",
      "$$ e \\propto \\Delta t.$$\n",
      "\n",
      "where $e$ stands for the error. For more accuracy, we can use a _second-order_ method, in which the error is $O(\\Delta t^2)$. In general, we say that a method is of order $p$ to mean that the error is proportional to $(\\Delta t)^p$.\n",
      "\n",
      "In the screencast titled \"Euler's method is a first-order method,\" we used a graphical interpretation to get an idea for improving it: by estimating an intermediate point, like the **midpoint**, we can get a better aproximation of the area under the curve of $u^\\prime$. The scheme is like this:\n",
      "\n",
      "\\begin{align}\n",
      "u_{n+1/2}   & = u_n + \\frac{\\Delta t}{2} f(u_n) \\\\\n",
      "u_{n+1} & = u_n + \\Delta t \\,\\, f(u_{n+1/2}).\n",
      "\\end{align}\n",
      "\n",
      "This method is known as the *explicit midpoint method* or the *modified Euler method*, and it is a second-order method."
     ]
    },
    {
     "cell_type": "heading",
     "level": 3,
     "metadata": {},
     "source": [
      "Runge-Kutta methods"
     ]
    },
    {
     "cell_type": "markdown",
     "metadata": {},
     "source": [
      "In the modified Euler method, we improved the accuracy over Euler's method by evaluating the right-hand side of the differential equation at an intermediate point: the midpoint. It turns out, the same idea can be applied again, and the function $f(u)$ can be evaluated at more intermediate points, improving the accuracy even more. This idea goes back to Carl Runge and Martin Kutta. \n",
      "\n",
      "Here's a bit of historical coincidence that will blow your mind: Carl Runge's daughter Iris\u2014an accomplished applied mathematician on her own right\u2014worked assiduously over the summer of 1909 to translate Lanchester's _\"Aerodonetics.\"_ She also reproduced his graphical method to draw the phugoid curves (Tobies, 2012).\n",
      "\n",
      "*Runge-Kutta methods* achieve high-order accuracy by multiple evaluations of $f(u)$ in each time step. Then, the scheme in equations (1) and (2) is a *second order* Runge-Kutta method.\n"
     ]
    },
    {
     "cell_type": "code",
     "collapsed": false,
     "input": [
      "from math import sin, cos, log\n",
      "import numpy\n",
      "import matplotlib.pyplot as plt\n",
      "%matplotlib inline"
     ],
     "language": "python",
     "metadata": {},
     "outputs": []
    },
    {
     "cell_type": "code",
     "collapsed": false,
     "input": [
      "# model parameters:\n",
      "g = 9.8      # gravity in m s^{-2}\n",
      "v_t = 30.0   # trim velocity in m s^{-1}   \n",
      "C_D = 1/40.  # drag coefficient --- or D/L if C_L=1\n",
      "C_L = 1.0    # for convenience, use C_L = 1\n",
      "\n",
      "### set initial conditions ###\n",
      "v0 = v_t     # start at the trim velocity (or add a delta)\n",
      "theta0 = 0.0 # initial angle of trajectory\n",
      "x0 = 0.0     # horizotal position is arbitrary\n",
      "y0 = 1000.0  # initial altitude"
     ],
     "language": "python",
     "metadata": {},
     "outputs": []
    },
    {
     "cell_type": "markdown",
     "metadata": {},
     "source": [
      "Let's define a few useful functions. Nothing new here, just code to compute:\n",
      "* The right-hand side of the phugoid model from [Lesson 3](http://nbviewer.ipython.org/github/numerical-mooc/numerical-mooc/blob/master/lessons/01_phugoid/01_03_PhugoidFullModel.ipynb),\n",
      "* One step of the Euler's method that we learned in [Lesson 2](http://nbviewer.ipython.org/github/numerical-mooc/numerical-mooc/blob/master/lessons/01_phugoid/01_02_Phugoid_Oscillation.ipynb), and\n",
      "* Differences with respect to a fine grid, as in [Lesson 3](http://nbviewer.ipython.org/github/numerical-mooc/numerical-mooc/blob/master/lessons/01_phugoid/01_03_PhugoidFullModel.ipynb)."
     ]
    },
    {
     "cell_type": "code",
     "collapsed": false,
     "input": [
      "import numpy\n",
      "from math import sin, cos \n",
      "\n",
      "def f(u):\n",
      "    \"\"\"Returns the right-hand side of the phugoid system of equations.\n",
      "    \n",
      "    Parameters\n",
      "    ----------\n",
      "    u : array of float\n",
      "        array containing the solution at time n.\n",
      "        \n",
      "    Returns\n",
      "    -------\n",
      "    dudt : array of float\n",
      "        array containing the RHS given u.\n",
      "    \"\"\"\n",
      "    \n",
      "    v = u[0]\n",
      "    theta = u[1]\n",
      "    x = u[2]\n",
      "    y = u[3]\n",
      "    return numpy.array([-g*sin(theta) - C_D/C_L*g/v_t**2*v**2,\n",
      "                      -g*cos(theta)/v + g/v_t**2*v,\n",
      "                      v*cos(theta),\n",
      "                      v*sin(theta)])\n",
      "\n",
      "\n",
      "def euler_step(u, f, dt):\n",
      "    \"\"\"Returns the solution at the next time-step using Euler's method.\n",
      "    \n",
      "    Parameters\n",
      "    ----------\n",
      "    u : array of float\n",
      "        solution at the previous time-step.\n",
      "    f : function\n",
      "        function to compute the right hand-side of the system of equation.\n",
      "    dt : float\n",
      "        time-increment.\n",
      "    \n",
      "    Returns\n",
      "    -------\n",
      "    u_n_plus_1 : array of float\n",
      "        approximate solution at the next time step.\n",
      "    \"\"\"\n",
      "    \n",
      "    return u + dt * f(u)\n",
      "\n",
      "\n",
      "def get_diffgrid(u_current, u_fine, dt):\n",
      "    \"\"\"Returns the difference between one grid and the fine one using L-1 norm.\n",
      "    \n",
      "    Parameters\n",
      "    ----------\n",
      "    u_current : array of float\n",
      "        solution on the current grid.\n",
      "    u_finest : array of float\n",
      "        solution on the fine grid.\n",
      "    dt : float\n",
      "        time-increment on the current grid.\n",
      "    \n",
      "    Returns\n",
      "    -------\n",
      "    diffgrid : float\n",
      "        difference computed in the L-1 norm.\n",
      "    \"\"\"\n",
      "    \n",
      "    N_current = len(u_current[:,0])\n",
      "    N_fine = len(u_fine[:,0])\n",
      "   \n",
      "    grid_size_ratio = ceil(N_fine/float(N_current))\n",
      "    \n",
      "    diffgrid = dt * numpy.sum( numpy.abs(\\\n",
      "            u_current[:,2]- u_fine[::grid_size_ratio,2])) \n",
      "    \n",
      "    return diffgrid\n"
     ],
     "language": "python",
     "metadata": {},
     "outputs": []
    },
    {
     "cell_type": "heading",
     "level": 5,
     "metadata": {},
     "source": [
      "Exercise"
     ]
    },
    {
     "cell_type": "markdown",
     "metadata": {},
     "source": [
      "Like we have done in the previous section, we are going to plot the path of the glider and calculate the distance travelled before touching the ground using the $2^\\text{nd}$-order Runge-Kutta method. "
     ]
    },
    {
     "cell_type": "markdown",
     "metadata": {},
     "source": [
      "Let's define the function `rk2_setp` that computes the next time step using the *modified Euler* method of equations (1) and (2)."
     ]
    },
    {
     "cell_type": "code",
     "collapsed": false,
     "input": [
      "def rk2_step(u, f, dt):\n",
      "    \"\"\"Returns the solution at the next time-step using 2nd-order Runge-Kutta method.\n",
      "    \n",
      "    Parameters\n",
      "    ----------\n",
      "    u : array of float\n",
      "        solution at the previous time-step.\n",
      "    f : function\n",
      "        function to compute the right hand-side of the system of equation.\n",
      "    dt : float\n",
      "        time-increment.\n",
      "    \n",
      "    Returns\n",
      "    -------\n",
      "    u_n_plus_1 : array of float\n",
      "        solution at the next time step.\n",
      "    \"\"\"\n",
      "    u_star = u + 0.5*dt*f(u)\n",
      "    return u + dt*f(u_star)"
     ],
     "language": "python",
     "metadata": {},
     "outputs": []
    },
    {
     "cell_type": "markdown",
     "metadata": {},
     "source": [
      "Let's use [Lesson 3](http://nbviewer.ipython.org/github/numerical-mooc/numerical-mooc/blob/master/lessons/01_phugoid/01_03_PhugoidFullModel.ipynb) as a reference. We first setup the time discretization, then initialize the arrays and we are all set to go! The only difference is that this time we are using both Euler's method and second order Runge-Kutta, to compare. "
     ]
    },
    {
     "cell_type": "code",
     "collapsed": false,
     "input": [
      "# set time-increment and discretize the time\n",
      "T  = 100.0                           # final time\n",
      "dt = 0.1                             # set time-increment\n",
      "N  = int(T/dt) + 1                   # number of time-steps\n",
      "t  = numpy.linspace(0.0, T, N)       # time discretization\n",
      "\n",
      "\n",
      "# set initial conditions\n",
      "u_euler = numpy.empty((N, 4))\n",
      "u_rk2   = numpy.empty((N, 4))\n",
      "\n",
      "\n",
      "# initialize the array containing the solution for each time-step\n",
      "u_euler[0] = numpy.array([v0, theta0, x0, y0])\n",
      "u_rk2[0]   = numpy.array([v0, theta0, x0, y0])\n",
      "\n",
      "\n",
      "# use a for loop to call the function rk2_step()\n",
      "for n in range(N-1):\n",
      "    \n",
      "    u_euler[n+1] = euler_step(u_euler[n], f, dt)\n",
      "    u_rk2[n+1]   = rk2_step(u_rk2[n], f, dt)"
     ],
     "language": "python",
     "metadata": {},
     "outputs": []
    },
    {
     "cell_type": "markdown",
     "metadata": {},
     "source": [
      "Let's extract the position "
     ]
    },
    {
     "cell_type": "markdown",
     "metadata": {},
     "source": [
      "How far can the glider fly before touching the ground? Using the same parameters (time-increment and initial conditions), do the Euler and Runge-Kutta methods give the exact same answer?"
     ]
    },
    {
     "cell_type": "code",
     "collapsed": false,
     "input": [
      "# get the glider's position with respect to the time\n",
      "\n",
      "x_euler = u_euler[:,2]\n",
      "y_euler = u_euler[:,3]\n",
      "x_rk2 = u_rk2[:,2]\n",
      "y_rk2 = u_rk2[:,3]\n",
      "\n",
      "\n",
      "# get the index of element of y where altitude becomes negative\n",
      "if y_euler[-1]<0.0:\n",
      "    idx_ground_euler = numpy.where(y_euler<0.0)[0][0]\n",
      "else:\n",
      "    idx_ground_euler = N-1\n",
      "    print 'Euler integration has not touched ground yet!'\n",
      "if y_rk2[-1]<0.0:    \n",
      "    idx_ground_rk2 = numpy.where(y_rk2<0.0)[0][0]\n",
      "else:\n",
      "    idx_ground_rk2 = N-1\n",
      "    print 'RK2 integration has not touched ground yet!'\n",
      "    \n",
      "# check to see if the paths match\n",
      "print('Are the x-values close? {}'.format(numpy.allclose(x_euler, x_rk2)))\n",
      "print('Are the y-values close? {}'.format(numpy.allclose(y_euler, y_rk2)))\n",
      "\n",
      "# plot the glider path\n",
      "plt.figure(figsize=(11,8))\n",
      "plt.subplot(121)\n",
      "plt.grid(True)\n",
      "plt.xlabel(r'x', fontsize=18)\n",
      "plt.ylabel(r'y', fontsize=18)\n",
      "plt.plot(x_euler[:idx_ground_euler], y_euler[:idx_ground_euler], color='b', ls='-', lw=2, \n",
      "         label='Euler')\n",
      "plt.plot(x_rk2[:idx_ground_rk2], y_rk2[:idx_ground_rk2], color='r', ls='-', lw=2, \n",
      "         label='RK2')\n",
      "plt.axhline(0.0, color='k', ls='--', lw=2)\n",
      "plt.title('distance traveled: %.3f' % x_rk2[idx_ground_rk2-1], fontsize=18)\n",
      "#plt.xlim(0,x_euler[idx_ground_euler])\n",
      "#plt.ylim(y_euler[idx_ground_euler], y_euler[0])\n",
      "\n",
      "#plt.plot(x_euler, y_euler, 'k-', label='Euler')\n",
      "#plt.plot(x_rk2, y_rk2, 'r-', label='RK2')\n",
      "plt.legend();\n",
      "\n",
      "plt.subplot(122)\n",
      "plt.grid(True)\n",
      "plt.xlabel(r'x', fontsize=18)\n",
      "plt.ylabel(r'y', fontsize=18)\n",
      "plt.plot(x_euler, y_euler, 'k-', label='Euler')\n",
      "plt.plot(x_rk2, y_rk2, 'r--', label='RK2')\n",
      "plt.xlim(2000,3000)\n",
      "plt.ylim(920,950)\n",
      "plt.legend();\n",
      "#plt.axis('equal');"
     ],
     "language": "python",
     "metadata": {},
     "outputs": []
    },
    {
     "cell_type": "markdown",
     "metadata": {},
     "source": [
      "To check the rate of convergence, implement a `for`-loop in the cell below, to compute the solution on grid with different numbers of points. Also compute the solution on a very fine grid."
     ]
    },
    {
     "cell_type": "code",
     "collapsed": false,
     "input": [
      "# use a for-loop to compute the solution on different grids\n",
      "dt_values = numpy.array([0.1, 0.05, 0.01, 0.005, 0.001])\n",
      "\n",
      "u_values = numpy.empty_like(dt_values, dtype=numpy.ndarray)\n",
      "\n",
      "for i, dt in enumerate(dt_values):\n",
      "    \n",
      "    N = int(T/dt)    # number of time-steps\n",
      "    \n",
      "    ### discretize the time t ###\n",
      "    t = numpy.linspace(0.0, T, N)\n",
      "    \n",
      "    # initialize the array containing the solution for each time-step\n",
      "    u = numpy.empty((N, 4))\n",
      "    u[0] = numpy.array([v0, theta0, x0, y0])\n",
      "\n",
      "    # time loop\n",
      "    for n in range(N-1):\n",
      "        u[n+1] = rk2_step(u[n], f, dt)\n",
      "    \n",
      "    # store the value of u related to one grid\n",
      "    u_values[i] = u"
     ],
     "language": "python",
     "metadata": {},
     "outputs": []
    },
    {
     "cell_type": "markdown",
     "metadata": {},
     "source": [
      "For each solution compute the error on one grid, relative to the fine one, using the function we have implemented above `get_error()`. Finally plot the error as a function of the time-increment in a *log-log* plot."
     ]
    },
    {
     "cell_type": "code",
     "collapsed": false,
     "input": [
      "# compute the error\n",
      "diffgrid = numpy.empty_like(dt_values)\n",
      "for i, dt in enumerate(dt_values):\n",
      "    ### call the function get_error() ###\n",
      "    diffgrid[i] = get_diffgrid(u_values[i], u_values[-1], dt)\n",
      "\n",
      "# plot using the matplotlib function loglog()\n",
      "plt.figure(figsize=(6,6))\n",
      "plt.grid(True)\n",
      "plt.xlabel(r'$\\Delta t$', fontsize=18)\n",
      "plt.ylabel(r'Error $L_1$-norm', fontsize=18)\n",
      "plt.axis('equal')\n",
      "plt.loglog(dt_values[:-1], diffgrid[:-1], color='b', ls='-', lw=2, marker='o');\n",
      "\n",
      "# check convergence rate\n",
      "r = 2\n",
      "h = 0.001\n",
      "\n",
      "dt_values = numpy.array([h, r*h, r**2*h])\n",
      "\n",
      "u_values = numpy.empty_like(dt_values, dtype=numpy.ndarray)\n",
      "\n",
      "for i, dt in enumerate(dt_values):\n",
      "    \n",
      "    N = int(T/dt)    # number of time-steps\n",
      "    \n",
      "    ### discretize the time t ###\n",
      "    t = numpy.linspace(0.0, T, N)\n",
      "    \n",
      "    # initialize the array containing the solution for each time-step\n",
      "    u = numpy.empty((N, 4))\n",
      "    u[0] = numpy.array([v0, theta0, x0, y0])\n",
      "\n",
      "    # time loop\n",
      "    for n in range(N-1):\n",
      "        ### call rk2_step() ###\n",
      "        u[n+1] = rk2_step(u[n], f, dt)\n",
      "    \n",
      "    # store the value of u related to one grid\n",
      "    u_values[i] = u\n",
      "    \n",
      "# calculate the order of convergence\n",
      "alpha = (log(get_diffgrid(u_values[2], u_values[1], dt_values[2])) \n",
      "         - log(get_diffgrid(u_values[1], u_values[0], dt_values[1]))) / log(r)\n",
      "\n",
      "print('The order of convergence is alpha = %.3f' % alpha)"
     ],
     "language": "python",
     "metadata": {},
     "outputs": []
    },
    {
     "cell_type": "heading",
     "level": 3,
     "metadata": {},
     "source": [
      "Multistep methods"
     ]
    },
    {
     "cell_type": "markdown",
     "metadata": {},
     "source": [
      "Another way to achieve second order is to use a more accurate approximation of the derivative by involving multiple previous solution values.  For instance, we can approximate the derivative with a centered difference:\n",
      "\n",
      "$$ U'(t) \\approx \\frac{U_{n+1} - U_{n-1}}{2\\dt}.$$\n",
      "\n",
      "This leads to the method\n",
      "\n",
      "$$ U_{n+1} = U_{n-1} + 2\\dt f(U_n),$$\n",
      "\n",
      "which is sometimes called the **leapfrog method** because it \"leaps\" from $U_{n-1}$ to $U_{n+1}$.  The one-sided approximation used in Euler's method has a local truncation error of ${\\mathcal O}(\\dt^2)$, whereas the error in this approximation is ${\\mathcal O}(\\dt^3)$."
     ]
    },
    {
     "cell_type": "heading",
     "level": 5,
     "metadata": {},
     "source": [
      "Exercise"
     ]
    },
    {
     "cell_type": "markdown",
     "metadata": {},
     "source": [
      "In your notebook, implement the leapfrog method for the glider and check the rate of self-convergence in a similar way that what have been done for Euler's method and $2^\\text{nd}$-order Runge-Kutta method.\n",
      "\n",
      "Hint: for the first time-step, since the leapfrog method requires the solution a time-step $n-1$, use either Euler or Runge-Kutta methods."
     ]
    },
    {
     "cell_type": "code",
     "collapsed": false,
     "input": [
      "def leapfrog_step(unm1, u, f, dt):\n",
      "    \"\"\"Returns the solution time-step n+1) using Euler's method.\n",
      "    \n",
      "    Parameters\n",
      "    ----------\n",
      "    unm1 : array of float\n",
      "        solution at time-step n-1.\n",
      "    u : array of float\n",
      "        solution at time-step n.\n",
      "    f : function\n",
      "        function to compute the right hand-side of the system of equation.\n",
      "    dt : float\n",
      "        time-increment.\n",
      "    \n",
      "    Returns\n",
      "    -------\n",
      "    u_n_plus_1 : array of float\n",
      "        solution at time-step n+1.\n",
      "    \"\"\"\n",
      "    ### to be implemented ###\n",
      "    return unm1 + 2.0*dt*f(u)"
     ],
     "language": "python",
     "metadata": {},
     "outputs": []
    },
    {
     "cell_type": "code",
     "collapsed": false,
     "input": [
      "# compute the path of the glider\n",
      "T = 10.0                         # final time\n",
      "dt = 0.1                             ### set time-increment\n",
      "N = int(T/dt)                    # number of time-steps\n",
      "t = numpy.linspace(0.0, T, N)       # time discretization\n",
      "\n",
      "# set initial conditions\n",
      "u_leapfrog = numpy.empty((N, 4))\n",
      "\n",
      "# initialize the array containing the solution for each time-step\n",
      "u_leapfrog[0] = numpy.array([v0, theta0, x0, y0])\n",
      "\n",
      "# first step using RK2\n",
      "u_leapfrog[1] = rk2_step(u_leapfrog[0], f, dt)\n",
      "# use a for loop to call the function leapfrog_step()\n",
      "for n in range(1,N-1):\n",
      "    u_leapfrog[n+1] = leapfrog_step(u_leapfrog[n-1], u_leapfrog[n], f, dt)\n",
      "    \n",
      "# get the glider position in time\n",
      "x_leapfrog = u_leapfrog[:,2]\n",
      "y_leapfrog = u_leapfrog[:,3]\n",
      "\n",
      "# get the index of element of y where altitude becomes negative\n",
      "idx_ground_leapfrog = numpy.where(y<0.0)[0][0]\n",
      "\n",
      "# plot the glider path\n",
      "plt.figure(figsize=(6,6))\n",
      "plt.grid(True)\n",
      "plt.xlabel(r'x', fontsize=18)\n",
      "plt.ylabel(r'y', fontsize=18)\n",
      "plt.plot(x_leapfrog[:idx_ground], y_leapfrog[:idx_ground], color='b', ls='-', lw=2, \n",
      "         label='Leapfrog')\n",
      "plt.axhline(0.0, color='k', ls='--', lw=2)\n",
      "plt.title('distance traveled: %.3f' % x_leapfrog[idx_ground-1], fontsize=18)\n",
      "plt.axis('equal');"
     ],
     "language": "python",
     "metadata": {},
     "outputs": []
    },
    {
     "cell_type": "code",
     "collapsed": false,
     "input": [
      "# check the rate of convergence in a log-log plot\n",
      "\n",
      "# use a for-loop to compute the solution on different grids\n",
      "dt_values = numpy.array([0.1, 0.05, 0.01, 0.005, 0.001])\n",
      "\n",
      "u_values = numpy.empty_like(dt_values, dtype=numpy.ndarray)\n",
      "\n",
      "for i, dt in enumerate(dt_values):\n",
      "    \n",
      "    N = int(T/dt)    # number of time-steps\n",
      "    \n",
      "    ### discretize the time t ###\n",
      "    t = numpy.linspace(0.0, T, N)\n",
      "    \n",
      "    # initialize the array containing the solution for each time-step\n",
      "    u = numpy.empty((N, 4))\n",
      "    u[0] = numpy.array([v0, theta0, x0, y0])\n",
      "\n",
      "    # time loop\n",
      "    u[1] = rk2_step(u[0], f, dt)\n",
      "    for n in range(1, N-1):\n",
      "        u[n+1] = leapfrog_step(u[n-1], u[n], f, dt)\n",
      "    \n",
      "    # store the value of u related to one grid\n",
      "    u_values[i] = u\n",
      "    \n",
      "# compute the error\n",
      "error = numpy.empty_like(dt_values)\n",
      "for i, dt in enumerate(dt_values):\n",
      "    ### call the function get_error() ###\n",
      "    error[i] = get_error(u_values[i], u_values[-1], dt)\n",
      "\n",
      "# plot using the matplotlib function loglog()\n",
      "plt.figure(figsize=(6,6))\n",
      "plt.grid(True)\n",
      "plt.xlabel(r'$\\Delta t$', fontsize=18)\n",
      "plt.ylabel(r'Error $L_1$-norm', fontsize=18)\n",
      "plt.axis('equal')\n",
      "plt.loglog(dt_values[:-1], error[:-1], color='b', ls='-', lw=2, marker='o');\n",
      "\n",
      "# check convergence rate\n",
      "r = 2\n",
      "h = 0.001\n",
      "\n",
      "dt_values = numpy.array([h, r*h, r**2*h])\n",
      "\n",
      "u_values = numpy.empty_like(dt_values, dtype=numpy.ndarray)\n",
      "\n",
      "for i, dt in enumerate(dt_values):\n",
      "    \n",
      "    N = int(T/dt)    # number of time-steps\n",
      "    \n",
      "    ### discretize the time t ###\n",
      "    t = numpy.linspace(0.0, T, N)\n",
      "    \n",
      "    # initialize the array containing the solution for each time-step\n",
      "    u = numpy.empty((N, 4))\n",
      "    u[0] = numpy.array([v0, theta0, x0, y0])\n",
      "\n",
      "    # time loop\n",
      "    u[1] = rk2_step(u[0], f, dt)\n",
      "    for n in range(1, N-1):\n",
      "        u[n+1] = leapfrog_step(u[n-1], u[n], f, dt)\n",
      "    \n",
      "    # store the value of u related to one grid\n",
      "    u_values[i] = u\n",
      "    \n",
      "# calculate the order of convergence\n",
      "alpha = (log(get_error(u_values[2], u_values[1], dt_values[2])) \n",
      "         - log(get_error(u_values[1], u_values[0], dt_values[1]))) / log(r)\n",
      "\n",
      "print('The order of convergence is alpha = {:.3f}'.format(alpha))"
     ],
     "language": "python",
     "metadata": {},
     "outputs": []
    },
    {
     "cell_type": "heading",
     "level": 2,
     "metadata": {},
     "source": [
      "References"
     ]
    },
    {
     "cell_type": "markdown",
     "metadata": {},
     "source": [
      "Tobies, R. \"Iris Runge: A life at the crossroads of mathematics, science and industry,\" Springer Basel, 1st ed. (2012). [Read on Google books, page 73](http://books.google.com/books?id=EDm0eQqFUQ4C&lpg=PA73&dq=%22I%20have%20been%20making%20good%20progress%20with%20Lanchester.%20The%20second%20chapter%20is%20already%20on%20your%20desk%22&pg=PA73#v=onepage&q=%22I%20have%20been%20making%20good%20progress%20with%20Lanchester.%20The%20second%20chapter%20is%20already%20on%20your%20desk%22&f=false)."
     ]
    },
    {
     "cell_type": "markdown",
     "metadata": {},
     "source": [
      "---\n",
      "\n",
      "######The cell below loads the style of the notebook."
     ]
    },
    {
     "cell_type": "code",
     "collapsed": false,
     "input": [
      "from IPython.core.display import HTML\n",
      "css_file = '../../styles/numericalmoocstyle.css'\n",
      "HTML(open(css_file, \"r\").read())"
     ],
     "language": "python",
     "metadata": {},
     "outputs": []
    },
    {
     "cell_type": "code",
     "collapsed": false,
     "input": [],
     "language": "python",
     "metadata": {},
     "outputs": []
    }
   ],
   "metadata": {}
  }
 ]
}