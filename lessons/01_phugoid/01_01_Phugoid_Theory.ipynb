{
 "metadata": {
  "name": "",
  "signature": "sha256:cc1e8b1d73dd51a1390bfcf2d3ab6fd443e58021c4bfc7f4f2941180f4f3b222"
 },
 "nbformat": 3,
 "nbformat_minor": 0,
 "worksheets": [
  {
   "cells": [
    {
     "cell_type": "heading",
     "level": 6,
     "metadata": {},
     "source": [
      "Content under Creative Commons Attribution license CC-BY 4.0, code under MIT license (c) L.A. Barba, G.F. Forsyth, C. Cooper, 2014. "
     ]
    },
    {
     "cell_type": "heading",
     "level": 1,
     "metadata": {},
     "source": [
      "Phugoid Motion"
     ]
    },
    {
     "cell_type": "markdown",
     "metadata": {},
     "source": [
      "Welcome to [\"Practical Numerical Methods with Python!\"](http://openedx.seas.gwu.edu/courses/GW/MAE6286/2014_fall/about) This course is a collaborative, online, open education project, where we aim to give a foundation in scientific computing. The focus is on numerical solution of problems modeled by ordinary and partial differential equations.\n",
      "\n",
      "This IPython Notebook introduces the problem we'll be studying in the **first module** of the course: the _phugoid model of glider flight_. We'll start with some background, explaining the physics, and working out the mathematical model. \n",
      "\n",
      "First, we'll look at an idealized motion where there is no drag, resulting in a simple harmonic motion. We can plot some interesting trajectories that will pique your imagination. In the next notebook, you'll learn to numerically integrate the differential equation using Euler's method. But hang on ... first things first. \n",
      "\n",
      "The term \"phugoid\" is used in aeronautics to refer to a motion pattern where an aircraft oscillates up and down \u2014nose-up and climb, then nose-down and descend\u2014 around an equilibrium trajectory.  The aircraft oscillates in altitude, speed and pitch, with only small (neglected) variations in the angle of attack, as it repeatedly exchanges kinetic and potential energy.\n",
      "\n",
      "A low-amplitude phugoid motion can be just a nuisance, as the aircraft does not exceed the stall angle of attack and nothing bad happens. But the mode can also be unstable leading to a stall or even a loop!\n",
      "\n",
      "Look at this video showing a Cessna single-engine airplane in phugoid motion:"
     ]
    },
    {
     "cell_type": "code",
     "collapsed": false,
     "input": [
      "from IPython.display import YouTubeVideo\n",
      "YouTubeVideo('ysdU4mnRYdM')"
     ],
     "language": "python",
     "metadata": {},
     "outputs": []
    },
    {
     "cell_type": "markdown",
     "metadata": {},
     "source": [
      "That doesn't look too good! What's happening? \n",
      "\n",
      "It can get a lot worse when an aircraft enters one of these modes that is unstable. For example, one of [NASA's Helios Solar Powered Aircraft](http://www.nasa.gov/centers/dryden/history/pastprojects/Helios/) prototype broke up in mid air due to extreme phugoid oscillations!\n",
      "\n",
      "Helios was a proof-of-concept solar electric-powered flying wing that broke the world altitude record for a non-rocket-powered aircraft in August 2001. But in June 26, 2003, it broke something else. The aircraft entered phugoid motion after encountering turbulence near the Hawaiian Island of Kauai. The high speed in the oscillatory movement exceeded the design limits, and it ended up wrecked in the Pacific Ocean. Luckily, the Helios was remotely operated, and nobody got hurt."
     ]
    },
    {
     "cell_type": "heading",
     "level": 2,
     "metadata": {},
     "source": [
      "The physics of phugoids"
     ]
    },
    {
     "cell_type": "markdown",
     "metadata": {},
     "source": [
      "The phugoid oscillation has the aircraft pitching up and down, as it decelerates and accelarates. The trajectory might look like a sinusoid, as in the figure below. The forward velocity of the aircraft varies in such a way that the angle of attack remains (nearly) constant, which means that we can assume a constant lift coefficient."
     ]
    },
    {
     "cell_type": "markdown",
     "metadata": {},
     "source": [
      "![Image](./figures/oscillatory_trajectory.png)\n",
      "####Figure 1. Trajectory of an aircraft in phugoid motion."
     ]
    },
    {
     "cell_type": "markdown",
     "metadata": {},
     "source": [
      "In its oscillatory trajectory, the aircraft moves from a peak height to the minimum heigth while its velocity increases\u2014gaining kinetic energy at the expense of potential energy. The contrary happens in the upward segment, as its velocity decreases. In the portion of the trajectory below the center-line, where it curves up, the pitch angle will be increasing. And where the trajectory curves down, the pitch angle is decreasing. So far, so good.\n",
      "\n",
      "Let's remind ourselves of the forces affecting an aircraft in a downward glide."
     ]
    },
    {
     "cell_type": "markdown",
     "metadata": {},
     "source": [
      "![Image](./figures/glider_forces.png)\n",
      "####Figure 2. Forces on a glider."
     ]
    },
    {
     "cell_type": "markdown",
     "metadata": {},
     "source": [
      "The force of lift, $L$ \u2014created by the airflow around the wings\u2014 is perpendicular to the trajectory, and the force of drag, $D$, is parallel to the trajectory. Both forces are expressed in terms of coefficients of lift and drag, $C_L$ and $C_D$, respectively, that depend on the wing design and angle of attack.\n",
      "\n",
      "Lift and drag are proportional to a surface area, $S$, and the dynamic pressure: $1/2 \\rho v^2$, where $\\rho$ is the density of air, and $v$ the forward velocity of the aircraft. The equations for lift and drag are:\n",
      "\n",
      "$$\\begin{eqnarray}\n",
      "L &=& C_L S \\times \\frac{1}{2} \\rho v^2 \\\\\n",
      "D &=& C_D S \\times \\frac{1}{2} \\rho v^2\n",
      "\\end{eqnarray}$$\n",
      "\n",
      "If the glider were in equilibrium, the forces would balance each other. We can equate the forces in the directions perpendicular and parallel to the trajectory, as follows:\n",
      "\n",
      "$$\\begin{equation}\n",
      "L = W \\cos \\theta \\quad \\text{and} \\quad D = W \\sin \\theta\n",
      "\\end{equation}$$\n",
      "\n",
      "The angle $\\theta$ here is called the _glide angle_, formed between the direction of motion and the horizontal.\n",
      "\n",
      "It looks like we've set this up to do a little bit of mathematics. Are you ready?\n",
      "\n",
      "But before, a short glimpse of the history."
     ]
    },
    {
     "cell_type": "heading",
     "level": 2,
     "metadata": {},
     "source": [
      "Lanchester's Aerodonetics"
     ]
    },
    {
     "cell_type": "markdown",
     "metadata": {},
     "source": [
      "\"Phugoid theory\" was first described by the British engineer Fredrick W. Lanchester in _\"Aerodonetics\"_ (1909). This book is so old that it is now in the public domain, so you can actually download [from Google Books](http://books.google.com/books?id=6hxDAAAAIAAJ&dq=%22phugoid%20theory%20deals%20with%20the%20longitudinal%20stability%22&pg=PA37#v=onepage&q=%22phugoid%20theory%20deals%20with%20the%20longitudinal%20stability%22&f=false) a PDF file of a scan, or read it online. \n",
      "\n",
      "Lanchester defines phugoid theory as the study of longitudinal stability of a flying machine (aerodone). He first considered the simplification where drag and moment of inertia are neglected. Then he included these effects, obtaining an equation of stability. In addition to describing many experiments by himself and others, Lanchester also reports on _\"numerical work ... done by the aid of an ordinary 25 cm slide rule.\"_ Go figure!"
     ]
    },
    {
     "cell_type": "heading",
     "level": 3,
     "metadata": {},
     "source": [
      "Ideal case of zero drag"
     ]
    },
    {
     "cell_type": "markdown",
     "metadata": {},
     "source": [
      "An aircraft flying in a steady, straight horizontal flight has a lift equal to its weight. The velocity in this condition is sometimes called _trim velocity_ (\"trim\" is what pilots do to set the controls to just stay in a steady flight). Let's use $v_t$ for the trim velocity, and from $L=W$ deduce that:\n",
      "\n",
      "$$\\begin{equation}\n",
      "W = C_L S \\times\\frac{1}{2} v_t^2\n",
      "\\end{equation}$$\n",
      "\n",
      "With this expression for the weight, we can see that at any other forward velocity, the following relation holds:\n",
      "\n",
      "$$\\begin{equation}\n",
      "\\frac{L}{W}= \\frac{v^2}{v_t^2}\n",
      "\\end{equation}$$\n",
      "\n",
      "Imagine that the aircraft experienced a little upset, and it finds itself off the \"trim\" level, and in a curved path with an instantaneous glide angle $\\theta$. In the sketch below, we exaggerate the glide angle and a curved trajectory of flight to help you visualize what we'll do next."
     ]
    },
    {
     "cell_type": "markdown",
     "metadata": {},
     "source": [
      "![Image](./figures/glider_forces_nodrag.png)\n",
      "####Figure 3. Curved trajectory of the glider."
     ]
    },
    {
     "cell_type": "markdown",
     "metadata": {},
     "source": [
      "A balance of forces now has to take into account that there is a centripetal acceleration in the curved trajectory, so in the direction of lift, we have:\n",
      "\n",
      "$$\\begin{equation}\n",
      "L- W \\cos \\theta = \\frac{W}{g} \\frac{v^2}{R}\n",
      "\\end{equation}$$\n",
      "\n",
      "where $R$ is the radius of curvature of the trajectory, and $g$ the acceleration of gravity. Recall that the centripetal acceleration is $v^2/R$. Rearrange this by dividing the equation by the weight, and use the expression we found for $L/W$, above. The following equation results:\n",
      "\n",
      "$$\\begin{equation}\n",
      "\\frac{v^2}{v_t^2}-\\cos \\theta = \\frac{v^2}{g R}\n",
      "\\end{equation}$$\n",
      "\n",
      "Recall that we simplified the problem assuming that there is no friction, which means that the total energy is constant (the lift does no work). If $z$ represents the depth below a reference horizontal line, the energy per unit mass is:\n",
      "\n",
      "$$\\begin{equation}\n",
      "\\frac{1}{2}v^2-g z = \\text{constant}\n",
      "\\end{equation}$$\n",
      "\n",
      "To get rid of that pesky constant, we can choose the reference horizontal line at the level where the constant energy is zero, so $v^2 = 2 g z$. That helps us re-write the phugoid equation in terms of $z$ as follows:\n",
      "\n",
      "$$\\begin{equation}\n",
      "\\frac{z}{z_t}-\\cos \\theta = \\frac{2z}{R}\n",
      "\\end{equation}$$\n",
      "\n",
      "Let $ds$ represent a small arc-length of the trajectory. We can write \n",
      "\n",
      "$$\\begin{equation}\n",
      "\\frac{1}{R} = \\frac{d\\theta}{ds} \\quad \\text{and}\\quad  \\sin\\theta = -\\frac{dz}{ds}\n",
      "\\end{equation}$$\n",
      "\n",
      "Employing the chain rule of calculus,\n",
      "\n",
      "$$\\begin{equation}\n",
      "\\frac{1}{R} = \\frac{d\\theta}{ds} = \\frac{dz}{ds}\\frac{d\\theta}{dz} = -\\sin \\theta\\frac{d\\theta}{dz}\n",
      "\\end{equation}$$\n",
      "\n",
      "Multiply the phugoid equation by $\\frac{1}{2\\sqrt{z}}$ to get:\n",
      "\n",
      "$$\\begin{equation}\n",
      "\\frac{\\sqrt{z}}{2z_t} - \\frac{\\cos\\theta}{2\\sqrt{z}} = \\frac{\\sqrt{z}}{R}\n",
      "\\end{equation}$$\n",
      "\n",
      "Substituting for $1/R$ on the right hand side and bringing the cosine term over to the right, we get:\n",
      "\n",
      "$$\\begin{equation}\n",
      "\\frac{\\sqrt{z}}{2z_t} = \\frac{\\cos \\theta}{2 \\sqrt{z}} - \\sqrt{z} \\sin \\theta \\frac{d\\theta}{dz}\n",
      "\\end{equation}$$\n",
      "\n",
      "The right-hand-side is an exact derivative! We can rewrite it as:\n",
      "\n",
      "$$\\begin{equation}\n",
      "\\frac{d}{dz} \\left(\\sqrt{z}\\cos\\theta \\right) = \\frac{\\sqrt{z}}{2z_t}\n",
      "\\end{equation}$$\n",
      "\n",
      "Integrating this equation, we add an arbitrary constant, which we choose as $C\\sqrt{z_t}$ which (after dividing through by $\\sqrt{z}$) gives:\n",
      "\n",
      "$$\\begin{equation}\n",
      "\\cos \\theta = \\frac{1}{3}\\frac{z}{z_t} + C\\sqrt{\\frac{z_t}{z}}\n",
      "\\end{equation}$$\n",
      "\n",
      "Noting that $z/R = \\cos \\theta$, we can also write this as:\n",
      "\n",
      "$$\\begin{equation}\n",
      "\\frac{z_t}{R} = \\frac{1}{3} - \\frac{C}{2}\\sqrt{\\frac{z_t^3}{z^3}}\n",
      "\\end{equation}$$"
     ]
    },
    {
     "cell_type": "markdown",
     "metadata": {},
     "source": [
      "We are left with two equations\n",
      "\n",
      "$$\\begin{align}\n",
      "  \\cos \\theta &= \\frac{1}{3}\\frac{z}{z_t} + C\\sqrt{\\frac{z_t}{z}}, \\\\\n",
      "  \\frac{z_t}{R} &= \\frac{1}{3} - \\frac{C}{2}\\sqrt{\\frac{z_t^3}{z^3}},\n",
      "\\end{align}$$\n",
      "\n",
      "in three unknowns $\\theta, R$ and $z$. The trim depth $z_t$ is a given constant (which we can fix to $1$). The behaviour will vary depending on the value of $C$."
     ]
    },
    {
     "cell_type": "markdown",
     "metadata": {},
     "source": [
      "Take the positive square root in both equations. We know that $\\cos \\theta \\le 1$, and $0 \\le z < \\infty$. If we minimize the first equation with respect to $z$ we find that for $C > \\frac{2}{3}$ there can be no solution."
     ]
    },
    {
     "cell_type": "markdown",
     "metadata": {},
     "source": [
      "Depending on the value of $C$ and $\\theta$ there may be multiple solutions to the first equation. Write the equation in terms of $\\alpha = \\sqrt{z / z_t}$ to see\n",
      "\n",
      "$$\\begin{equation}\n",
      "  \\alpha^3 - 3 \\alpha \\cos \\theta + 3 C = 0.\n",
      "\\end{equation}$$\n",
      "\n",
      "The [cubic discriminant](http://en.wikipedia.org/wiki/Cubic_polynomial#The_nature_of_the_roots) is\n",
      "\n",
      "$$\\begin{equation}\n",
      "  \\Delta = 27 \\left( 4 \\cos^3 \\theta - 9 C^2 \\right)\n",
      "\\end{equation}$$\n",
      "\n",
      "and the boundary between a single solution and multiple solutions occurs when $\\Delta = 0$. However, as we also require that the solution be *positive*, it is more straightforward to check this programmatically."
     ]
    },
    {
     "cell_type": "code",
     "collapsed": false,
     "input": [
      "from math import *\n",
      "import numpy as np\n",
      "import matplotlib.pyplot as plt\n",
      "from scipy.integrate import odeint\n",
      "%matplotlib inline"
     ],
     "language": "python",
     "metadata": {},
     "outputs": []
    },
    {
     "cell_type": "code",
     "collapsed": false,
     "input": [
      "zt = 1.0 # Trim height; fix it to be 1.\n",
      "\n",
      "def phugoid_solution(C, theta0, z0):\n",
      "    \"\"\"Plot the parametric solution in terms of R and z of the phugoid equation.\"\"\"\n",
      "    \n",
      "    assert(z0 > 0.0)\n",
      "    \n",
      "    def func(w, t):\n",
      "        dwdt = np.zeros_like(w)\n",
      "        theta = w[0]\n",
      "        z = max(w[1], 0.0)\n",
      "        invR = (np.sqrt(z**3)/3.0 - C/2.0 * np.sqrt((zt)**3)) / (zt * np.sqrt(z**3))\n",
      "        dwdt[0] = invR\n",
      "        dwdt[1] = -np.sin(theta)\n",
      "        dwdt[2] = np.sqrt(2.0*z) * np.cos(theta)\n",
      "        return dwdt\n",
      "    \n",
      "    t = np.linspace(0.0, 40.0, 500)\n",
      "    w = odeint(func, [theta0, z0, 0.0], t)\n",
      "    R = zt / (1.0/3.0 - C/2.0 * np.sqrt((zt/w[:,1])**3))\n",
      "    \n",
      "    fig = plt.figure(figsize=(10,6))\n",
      "    ax1=fig.add_subplot(121, polar=True)\n",
      "    ax1.plot(w[:,0], R, color='r', linewidth=3)\n",
      "    ax1.set_rmax(1.1*np.nanmax(R))\n",
      "    ax2=fig.add_subplot(122)\n",
      "    ax2.plot(w[:,2], -w[:,1], color='b', linewidth=3)\n",
      "    ax2.axhline(-zt, color='k', linestyle='--', linewidth=2)\n",
      "    ax2.set_ylim([-3.1, 0.1])\n",
      "    ax2.set_xlabel(r\"$x$\")\n",
      "    ax2.set_ylabel(r\"$z$\")\n",
      "    fig.tight_layout()"
     ],
     "language": "python",
     "metadata": {},
     "outputs": []
    },
    {
     "cell_type": "code",
     "collapsed": false,
     "input": [
      "from IPython.html.widgets import interactive, FloatSliderWidget, fixed\n",
      "from IPython.display import display"
     ],
     "language": "python",
     "metadata": {},
     "outputs": []
    },
    {
     "cell_type": "code",
     "collapsed": false,
     "input": [
      "w = interactive(phugoid_solution, \n",
      "                C=FloatSliderWidget(min=-3.05, max=0.65, step=0.1, value=0.05),\n",
      "                theta0=fixed(0.0),\n",
      "                z0=fixed(3.0))\n",
      "display(w)"
     ],
     "language": "python",
     "metadata": {},
     "outputs": []
    },
    {
     "cell_type": "markdown",
     "metadata": {},
     "source": [
      "---\n",
      "\n",
      "######The cell below loads the style of this notebook. "
     ]
    },
    {
     "cell_type": "code",
     "collapsed": false,
     "input": [
      "np.cos(-np.pi/2.0+0.1)"
     ],
     "language": "python",
     "metadata": {},
     "outputs": []
    },
    {
     "cell_type": "code",
     "collapsed": false,
     "input": [
      "# Execute this cell to load the notebook's style sheet, then ignore it\n",
      "from IPython.core.display import HTML\n",
      "css_file = '../../styles/numericalmoocstyle.css'\n",
      "HTML(open(css_file, \"r\").read())"
     ],
     "language": "python",
     "metadata": {},
     "outputs": []
    },
    {
     "cell_type": "code",
     "collapsed": false,
     "input": [],
     "language": "python",
     "metadata": {},
     "outputs": []
    }
   ],
   "metadata": {}
  }
 ]
}