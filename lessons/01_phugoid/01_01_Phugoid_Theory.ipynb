{
 "metadata": {
  "name": "",
  "signature": "sha256:e17c7d1ac0764bea0457263fdb8d7e4064481d76944fffc2adeb2d0c5f9051e7"
 },
 "nbformat": 3,
 "nbformat_minor": 0,
 "worksheets": [
  {
   "cells": [
    {
     "cell_type": "heading",
     "level": 6,
     "metadata": {},
     "source": [
      "Content under Creative Commons Attribution license CC-BY 4.0, code under MIT license (c) L.A. Barba, G.F. Forsyth, C. Cooper, 2014. "
     ]
    },
    {
     "cell_type": "heading",
     "level": 1,
     "metadata": {},
     "source": [
      "Phugoid Motion"
     ]
    },
    {
     "cell_type": "markdown",
     "metadata": {},
     "source": [
      "Welcome to [\"Practical Numerical Methods with Python!\"](http://openedx.seas.gwu.edu/courses/GW/MAE6286/2014_fall/about) This course is a collaborative, online, open education project, where we aim to give a foundation in scientific computing. The focus is on numerical solution of problems modeled by ordinary and partial differential equations.\n",
      "\n",
      "This IPython Notebook introduces the problem we'll be studying in the **first module** of the course: the _phugoid model of glider flight_. We'll start with some background, explaining the physics, and working out the mathematical model. \n",
      "\n",
      "First, we'll look at an idealized motion where there is no drag, resulting in a simple harmonic motion. We can plot some interesting trajectories that will pique your imagination. In the next notebook, you'll learn to numerically integrate the differential equation using Euler's method. But hang on ... first things first. \n",
      "\n",
      "The term \"phugoid\" is used in aeronautics to refer to a motion pattern where an aircraft oscillates up and down \u2014nose-up and climb, then nose-down and descend\u2014 around an equilibrium trajectory.  The aircraft oscillates in altitude, speed and pitch, with only small (neglected) variations in the angle of attack, as it repeatedly exchanges kinetic and potential energy.\n",
      "\n",
      "A low-amplitude phugoid motion can be just a nuisance, as the aircraft does not exceed the stall angle of attack and nothing bad happens. But the mode can also be unstable leading to a stall or even a loop!\n",
      "\n",
      "Look at this video showing a Cessna single-engine airplane in phugoid motion:"
     ]
    },
    {
     "cell_type": "code",
     "collapsed": false,
     "input": [
      "from IPython.display import YouTubeVideo\n",
      "YouTubeVideo('ysdU4mnRYdM')"
     ],
     "language": "python",
     "metadata": {},
     "outputs": [
      {
       "html": [
        "\n",
        "        <iframe\n",
        "            width=\"400\"\n",
        "            height=300\"\n",
        "            src=\"https://www.youtube.com/embed/ysdU4mnRYdM\"\n",
        "            frameborder=\"0\"\n",
        "            allowfullscreen\n",
        "        ></iframe>\n",
        "        "
       ],
       "metadata": {},
       "output_type": "pyout",
       "prompt_number": 20,
       "text": [
        "<IPython.lib.display.YouTubeVideo at 0x1082d6690>"
       ]
      }
     ],
     "prompt_number": 20
    },
    {
     "cell_type": "markdown",
     "metadata": {},
     "source": [
      "That doesn't look too good! What's happening? \n",
      "\n",
      "It can get a lot worse when an aircraft enters one of these modes that is unstable. For example, one of [NASA's Helios Solar Powered Aircraft](http://www.nasa.gov/centers/dryden/history/pastprojects/Helios/) prototype broke up in mid air due to extreme phugoid oscillations!\n",
      "\n",
      "Helios was a proof-of-concept solar electric-powered flying wing that broke the world altitude record for a non-rocket-powered aircraft in August 2001. But in June 26, 2003, it broke something else. The aircraft entered phugoid motion after encountering turbulence near the Hawaiian Island of Kauai. The high speed in the oscillatory movement exceeded the design limits, and it ended up wrecked in the Pacific Ocean. Luckily, the Helios was remotely operated, and nobody got hurt."
     ]
    },
    {
     "cell_type": "heading",
     "level": 2,
     "metadata": {},
     "source": [
      "The physics of phugoids"
     ]
    },
    {
     "cell_type": "markdown",
     "metadata": {},
     "source": [
      "As we've seen, the phugoid oscillation has the aircraft pitching up and down, as it decelerates and accelarates. The trajectory might look like a sinusoid, as in the figure below. The forward velocity of the aircraft varies in such a way that the angle of attack remains (nearly) constant, which means that we can assume a constant lift coefficient."
     ]
    },
    {
     "cell_type": "markdown",
     "metadata": {},
     "source": [
      "![Image](./figures/oscillatory_trajectory.png)"
     ]
    },
    {
     "cell_type": "heading",
     "level": 4,
     "metadata": {},
     "source": [
      "Figure 1. Trajectory of an aircraft in phugoid motion."
     ]
    },
    {
     "cell_type": "markdown",
     "metadata": {},
     "source": [
      "In the oscillatory trajectory depicted in the figure, the aircraft's velocity increases as it moves from a peak amplitude to the trough in the oscillation\u2014gaining kinetic energy at the expense of potential energy. The contrary happens in the upward segment, and its velocity decreases. Looking at the portion of the trajectory below the center-line, where it curves up, we see that the pitch angle increases there. Where the trajectory curves down, the pitch angle is decreasing. So far, so good.\n",
      "\n",
      "Let's remind ourselves of the forces affecting an aircraft in a downward glide."
     ]
    },
    {
     "cell_type": "markdown",
     "metadata": {},
     "source": [
      "![Image](./figures/glider_forces.png)"
     ]
    },
    {
     "cell_type": "markdown",
     "metadata": {},
     "source": [
      "The force of lift \u2014created by the airflow around the wings\u2014 is perpendicular to the trajectory, and the force of drag is parallel to the trajectory. Both forces are expressed in terms of coefficients of lift and drag, and are proportional to a surface area and the dynamic pressure, $1/2 \\rho v^2$:\n",
      "\n",
      "$$L = C_L S \\times \\frac{1}{2} \\rho v^2 \\quad \\text{and} \\quad D = C_D S \\times \\frac{1}{2} \\rho v^2$$\n",
      "\n",
      "If the glider was in equilibrium, we can equate the forces perpendicular and parallel to the trajectory, thus:\n",
      "\n",
      "$$ L = W \\cos \\theta \\quad \\text{and} \\quad D = W \\sin \\theta$$\n",
      "\n",
      "The angle $\\theta$ here is called the glide angle, between the direction of motion and the horizontal.\n",
      "\n",
      "It looks like we've set this up to do a little bit of mathematics. Are you ready?\n",
      "\n",
      "But before, a short glimpse of the history."
     ]
    },
    {
     "cell_type": "heading",
     "level": 2,
     "metadata": {},
     "source": [
      "Lanchester's Aerodonetics"
     ]
    },
    {
     "cell_type": "markdown",
     "metadata": {},
     "source": [
      "\"Phugoid theory\" was first described by the British engineer Fredrick W. Lanchester in _\"Aerodonetics\"_ (1909). This book is so old that it is now in the public domain, so you can actually download [from Google Books](http://books.google.com/books?id=6hxDAAAAIAAJ&dq=%22phugoid%20theory%20deals%20with%20the%20longitudinal%20stability%22&pg=PA37#v=onepage&q=%22phugoid%20theory%20deals%20with%20the%20longitudinal%20stability%22&f=false) a PDF file of a scan, or read it online. \n",
      "\n",
      "Lanchester defines phugoid theory as the study of longitudinal stability of a flying machine (aerodone). He first considered the simplification where drag and moment of inertia are neglected. Then he included these effects, obtaining an equation of stability. In addition to describing many experiments by himself and others, Lanchester also reports on _\"numerical work ... done by the aid of an ordinary 25 cm slide rule.\"_ Go figure!"
     ]
    },
    {
     "cell_type": "heading",
     "level": 3,
     "metadata": {},
     "source": [
      "Ideal case of zero drag"
     ]
    },
    {
     "cell_type": "markdown",
     "metadata": {},
     "source": [
      "If the aircraft were flying in a steady, straight horizontal flight, then the lift would be equal to the weight. The velocity in this condition is sometimes called _trim velocity_ (\"trim\" is what pilots do to set the controls to just stay in a steady flight). Let's use $v_t$ for the trim velocity, and from $L=W$ deduce that:\n",
      "\n",
      "$$W = C_L S \\times\\frac{1}{2} v_t^2$$\n",
      "\n",
      "\n",
      "Let's consider now the aircraft in a curved path, with an instantaneous glide angle $\\theta$. In the sketch below, we exaggerate the glide angle and a curved trajectory of flight to help you visualize what we'll do next."
     ]
    },
    {
     "cell_type": "markdown",
     "metadata": {},
     "source": [
      "![Image](./figures/glider_forces_nodrag.png)"
     ]
    },
    {
     "cell_type": "markdown",
     "metadata": {},
     "source": [
      "A balance of forces now has to take into account that there is a centripetal force in the curved trajectory, so in the direction of the lift, we have:\n",
      "\n",
      "$$L- W \\cos \\theta = \\frac{W}{g} \\frac{v^2}{R}$$\n",
      "\n",
      "where $R$ is the radius of curvature of the trajectory. Recall that the centripetal force is $v^2/R$. Now rearrange this by dividing the equation by the weight, and use the expression we found for the weight, above, rewritten as:\n",
      "\n",
      "$$\\frac{L}{W}= \\frac{v^2}{v_t^2}$$\n",
      "\n",
      "The following equation results:\n",
      "\n",
      "$$\\frac{v^2}{v_t^2}-\\cos \\theta = \\frac{v^2}{g R}$$\n",
      "\n",
      "Now let's recall that we have simplified the problem and assumed that there is no friction, so the total energy is constant (the lift does no work): \n",
      "\n",
      "$$\\frac{1}{2}v^2-g z = \\text{constant}$$\n",
      "\n",
      "We can choose the reference horizontal line $z=0$ so that the constant energy is zero and thus $v^2 = 2 g z$. That helps us re-write the phugoid equation in terms of $z$ as follows:\n",
      "\n",
      "$$\\frac{z}{z_t}-\\cos \\theta = \\frac{2z}{R}$$\n",
      "\n",
      "A careful examination of the figure above shows that\n",
      "\n",
      "$$\\frac{1}{R} = \\frac{d\\theta}{ds} \\ \\ \\ \\textit{and}\\ \\ \\  \\sin\\theta = -\\frac{dz}{ds}$$\n",
      "\n",
      "Employing the chain rule of calculus, we can show that:\n",
      "\n",
      "$$\\frac{1}{R} = \\frac{d\\theta}{ds} = \\frac{dz}{ds}\\frac{d\\theta}{dz} = -\\sin \\theta\\frac{d\\theta}{dz}$$\n",
      "\n",
      "If we multiply our phugoid equation by $\\frac{1}{2\\sqrt{z}}$, it yields:\n",
      "\n",
      "$$\\frac{\\sqrt{z}}{2z_t} - \\frac{\\cos\\theta}{2\\sqrt{z}} = \\frac{\\sqrt{z}}{R}$$\n",
      "\n",
      "Substituting for $1/R$ on the right hand side and bringing our cosine term over to the right, we get:\n",
      "\n",
      "$$\\frac{\\sqrt{z}}{2z_t} = \\frac{\\cos \\theta}{2 \\sqrt{z}} - \\sqrt{z} \\sin \\theta \\frac{d\\theta}{dz}$$\n",
      "\n",
      "Recognizing that the right hand side is a perfect derivative, we can rewrite it as:\n",
      "\n",
      "$$\\frac{d}{dz} \\left(\\sqrt{z}\\cos\\theta \\right) = \\frac{\\sqrt{z}}{2z_t}$$\n",
      "\n",
      "Integrating this equation, we add an arbitrary constant, which we choose as $C\\sqrt{z_t}$ which (after dividing through by $\\sqrt{z}$) gives us:\n",
      "\n",
      "$$\\cos \\theta = \\frac{1}{3}\\frac{z}{z_t} + C\\sqrt{\\frac{z_t}{z}}$$\n",
      "\n",
      "Noting that $z/R = \\cos \\theta$, we can also write this as:\n",
      "\n",
      "$$\\frac{z_t}{R} = \\frac{1}{3} - \\frac{C}{2}\\sqrt{\\frac{z_t^3}{z^3}}$$"
     ]
    },
    {
     "cell_type": "markdown",
     "metadata": {},
     "source": [
      "The most straightforward way to plot the solution is to work backwards; given a radius of curvature $R$, we compute the value of $z$ and hence the angle $\\theta$. The problem is that not all values of the radius of curvature give a physical solution; by noting that $-1 \\le \\cos(\\theta) \\le 1$ we can solve for the maximum and minimum values of $R$ (which must equal $\\pm z$ at these points), and then sample the solution as below:"
     ]
    },
    {
     "cell_type": "code",
     "collapsed": false,
     "input": [
      "from math import *\n",
      "import numpy as np\n",
      "import matplotlib.pyplot as plt\n",
      "%matplotlib inline"
     ],
     "language": "python",
     "metadata": {},
     "outputs": [],
     "prompt_number": 16
    },
    {
     "cell_type": "code",
     "collapsed": false,
     "input": [
      "zt = 1.0 # Trim height; I assume there's a formula for this, but it's not obvious.\n",
      "\n",
      "def phugoid_solution(C):\n",
      "    \"\"\"Return the parametric solution in terms of R and z of the phugoid equation.\"\"\"\n",
      "    Rmin = zt*(-(3.0*C/2.0 + np.sqrt((3.0*C - 2.0)**2/4.0 - 1.0) - 1.0)**(1.0/3.0) + 1.0\\\n",
      "               - 1.0/(3.0*C/2.0 + np.sqrt((3.0*C - 2.0)**2/4.0 - 1.0) - 1.0)**(1.0/3.0))**2\n",
      "    Rmax = zt*(-(3.0*C/2.0 + np.sqrt((3.0*C + 2.0)**2/4.0 - 1.0) + 1.0)**(1.0/3.0) - 1.0\\\n",
      "               - 1.0/(3.0*C/2.0 + np.sqrt((3.0*C + 2.0)**2/4.0 - 1.0) + 1.0)**(1.0/3.0))**2\n",
      "    R = np.linspace(1.02*Rmin, 0.98*Rmax, 200)\n",
      "    z = zt/(2.0/C * (1.0/3.0 - zt/R))**(2.0/3.0)\n",
      "    theta = np.arccos(z/R)\n",
      "    fig = plt.figure(figsize=(10,6))\n",
      "    ax1=fig.add_subplot(121, polar=True)\n",
      "    ax1.plot(theta, z, color='r', linewidth=3)\n",
      "    ax1.set_rmax(1.1*np.nanmax(z))\n",
      "    ax2=fig.add_subplot(122)\n",
      "    ax2.plot(theta, z, color='b', linewidth=3)\n",
      "    ax2.set_xlabel(r\"$\\theta$ [radians]\")\n",
      "    ax2.set_ylabel(r\"$z$\")\n",
      "    "
     ],
     "language": "python",
     "metadata": {},
     "outputs": [],
     "prompt_number": 17
    },
    {
     "cell_type": "code",
     "collapsed": false,
     "input": [
      "from IPython.html.widgets import interactive, FloatSliderWidget\n",
      "from IPython.display import display"
     ],
     "language": "python",
     "metadata": {},
     "outputs": [],
     "prompt_number": 18
    },
    {
     "cell_type": "code",
     "collapsed": false,
     "input": [
      "w = interactive(phugoid_solution, C = FloatSliderWidget(min = 5.0, max = 500.0, step = 1.0, value = 10.0))\n",
      "display(w)"
     ],
     "language": "python",
     "metadata": {},
     "outputs": []
    },
    {
     "cell_type": "markdown",
     "metadata": {},
     "source": [
      "---\n",
      "\n",
      "######The cell below loads the style of this notebook. "
     ]
    },
    {
     "cell_type": "code",
     "collapsed": false,
     "input": [
      "# Execute this cell to load the notebook's style sheet, then ignore it\n",
      "from IPython.core.display import HTML\n",
      "css_file = '../../styles/numericalmoocstyle.css'\n",
      "HTML(open(css_file, \"r\").read())"
     ],
     "language": "python",
     "metadata": {},
     "outputs": [
      {
       "html": [
        "<link href='http://fonts.googleapis.com/css?family=Alegreya+Sans:100,300,400,500,700,800,900,100italic,300italic,400italic,500italic,700italic,800italic,900italic' rel='stylesheet' type='text/css'>\n",
        "<link href='http://fonts.googleapis.com/css?family=Arvo:400,700,400italic' rel='stylesheet' type='text/css'>\n",
        "<link href='http://fonts.googleapis.com/css?family=PT+Mono' rel='stylesheet' type='text/css'>\n",
        "<link href='http://fonts.googleapis.com/css?family=Shadows+Into+Light' rel='stylesheet' type='text/css'>\n",
        "<link href='http://fonts.googleapis.com/css?family=Nixie+One' rel='stylesheet' type='text/css'>\n",
        "<style>\n",
        "\n",
        "@font-face {\n",
        "    font-family: \"Computer Modern\";\n",
        "    src: url('http://mirrors.ctan.org/fonts/cm-unicode/fonts/otf/cmunss.otf');\n",
        "}\n",
        "\n",
        "#notebook_panel { /* main background */\n",
        "    background: rgb(245,245,245);\n",
        "}\n",
        "\n",
        "div.cell { /* set cell width */\n",
        "    width: 750px;\n",
        "}\n",
        "\n",
        "div #notebook { /* centre the content */\n",
        "    background: #fff; /* white background for content */\n",
        "    width: 1000px;\n",
        "    margin: auto;\n",
        "    padding-left: 0em;\n",
        "}\n",
        "\n",
        "#notebook li { /* More space between bullet points */\n",
        "margin-top:0.8em;\n",
        "}\n",
        "\n",
        "/* draw border around running cells */\n",
        "div.cell.border-box-sizing.code_cell.running { \n",
        "    border: 1px solid #111;\n",
        "}\n",
        "\n",
        "/* Put a solid color box around each cell and its output, visually linking them*/\n",
        "div.cell.code_cell {\n",
        "    background-color: rgb(256,256,256); \n",
        "    border-radius: 0px; \n",
        "    padding: 0.5em;\n",
        "    margin-left:1em;\n",
        "    margin-top: 1em;\n",
        "}\n",
        "\n",
        "div.text_cell_render{\n",
        "    font-family: 'Alegreya Sans' sans-serif;\n",
        "    line-height: 140%;\n",
        "    font-size: 125%;\n",
        "    font-weight: 400;\n",
        "    width:600px;\n",
        "    margin-left:auto;\n",
        "    margin-right:auto;\n",
        "}\n",
        "\n",
        "\n",
        "/* Formatting for header cells */\n",
        ".text_cell_render h1 {\n",
        "    font-family: 'Nixie One', serif;\n",
        "    font-style:regular;\n",
        "    font-weight: 400;    \n",
        "    font-size: 45pt;\n",
        "    line-height: 100%;\n",
        "    color: rgb(0,51,102);\n",
        "    margin-bottom: 0.5em;\n",
        "    margin-top: 0.5em;\n",
        "    display: block;\n",
        "}\t\n",
        ".text_cell_render h2 {\n",
        "    font-family: 'Nixie One', serif;\n",
        "    font-weight: 400;\n",
        "    font-size: 30pt;\n",
        "    line-height: 100%;\n",
        "    color: rgb(0,51,102);\n",
        "    margin-bottom: 0.1em;\n",
        "    margin-top: 0.3em;\n",
        "    display: block;\n",
        "}\t\n",
        "\n",
        ".text_cell_render h3 {\n",
        "    font-family: 'Nixie One', serif;\n",
        "    margin-top:16px;\n",
        "\tfont-size: 22pt;\n",
        "    font-weight: 600;\n",
        "    margin-bottom: 3px;\n",
        "    font-style: regular;\n",
        "    color: rgb(95,92,72);\n",
        "}\n",
        "\n",
        ".text_cell_render h4 {\n",
        "    font-family: 'Nixie One', serif;\n",
        "}\n",
        "\n",
        ".text_cell_render h5 {\n",
        "    font-family: 'Arvo', sans-serif;\n",
        "    font-weight: 400;\n",
        "    font-size: 16pt;\n",
        "    color: grey;\n",
        "    font-style: italic;\n",
        "    margin-bottom: .1em;\n",
        "    margin-top: 0.1em;\n",
        "    display: block;\n",
        "}\n",
        "\n",
        ".text_cell_render h6 {\n",
        "    font-family: 'PT Mono', sans-serif;\n",
        "    font-weight: 300;\n",
        "    font-size: 9pt;\n",
        "    line-height: 100%;\n",
        "    color: grey;\n",
        "    margin-bottom: 1px;\n",
        "    margin-top: 1px;\n",
        "}\n",
        "\n",
        ".CodeMirror{\n",
        "        font-family: \"PT Mono\";\n",
        "        font-size: 90%;\n",
        "}\n",
        "\n",
        "</style>\n"
       ],
       "metadata": {},
       "output_type": "pyout",
       "prompt_number": 15,
       "text": [
        "<IPython.core.display.HTML at 0x1088fa710>"
       ]
      }
     ],
     "prompt_number": 15
    },
    {
     "cell_type": "code",
     "collapsed": false,
     "input": [],
     "language": "python",
     "metadata": {},
     "outputs": []
    }
   ],
   "metadata": {}
  }
 ]
}