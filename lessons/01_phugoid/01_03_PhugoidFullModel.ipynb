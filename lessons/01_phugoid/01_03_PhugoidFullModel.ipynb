{
 "metadata": {
  "name": "",
  "signature": "sha256:7204d04a20016c3ebfbdcec611721cbaa5e06da1d9bf9999071720891b25bc27"
 },
 "nbformat": 3,
 "nbformat_minor": 0,
 "worksheets": [
  {
   "cells": [
    {
     "cell_type": "markdown",
     "metadata": {},
     "source": [
      "$$\\def \\dt {\\Delta t}$$"
     ]
    },
    {
     "cell_type": "heading",
     "level": 6,
     "metadata": {},
     "source": [
      "Content under Creative Commons Attribution license CC-BY 4.0, code under MIT license (c)2014 L.A. Barba, G.F. Forsyth, I. Hawke. Partly based on content by David Ketcheson, also under CC-BY."
     ]
    },
    {
     "cell_type": "heading",
     "level": 1,
     "metadata": {},
     "source": [
      "Full phugoid model"
     ]
    },
    {
     "cell_type": "markdown",
     "metadata": {},
     "source": [
      "This is the third IPython Notebook of the series on the _phugoid model of glider flight_, our first learning module of the course [\"Practical Numerical Methods with Python\"](http://openedx.seas.gwu.edu/courses/GW/MAE6286/2014_fall/about). In the first notebook, we described the physics of the trajectories known as phugoids obtained from an exchange of potential and kinetic energy in an idealized motion with no drag. We gave you a neat little code to play with and plot various phugoid curves.\n",
      "\n",
      "In the second notebook, we looked at the equation representing small perturbations on the straight-line phugoid, resulting in simple harmonic motion. This is a second-order ordinary differential equation, and we solved it numerically using **Euler's method**: the simplest numerical method of all. We learned about convergence and calculated the error of the numerical solution, comparing with an analytical solution. That is a good foundation!\n",
      "\n",
      "Now, let's go back to the dynamical model, and take away the idealization of no-drag. Let's remind ourselves of the forces affecting an aircraft, considering now that it may be accelerating, with an instantaneous upward trajectory. We use the designation $\\theta$ for the angle, and consider it positive upwards."
     ]
    },
    {
     "cell_type": "markdown",
     "metadata": {},
     "source": [
      "![Image](./figures/glider_forces-lesson3.png)\n",
      "####Figure 1. Forces with a positive trajectory angle."
     ]
    },
    {
     "cell_type": "markdown",
     "metadata": {},
     "source": [
      "In Figure 1, $L$ is the lift, $W$ is the weight, $D$ is the drag, and $\\theta$ the positive angle of the trajectory, instantaneously. \n",
      "\n",
      "In lesson 1, we wrote the force balance in the directions perpendicular and parallel to the trajectory for a glider in _equilibrium_. What if the forces are _not_ in balance? Well, there will be acceleration terms in the equations of motion, and we would have in that case:\n",
      "\n",
      "\\begin{align}\n",
      "m \\frac{dv}{dt} & = - W \\sin\\theta - D \\\\\n",
      "m v \\, \\frac{d\\theta}{dt} & = - W \\cos\\theta + L\n",
      "\\end{align}\n",
      "\n",
      "We can use a few little tricks to make these equations more pleasing. First, use primes to denote the time derivatives and divide through by the weight:\n",
      "\n",
      "\\begin{align}\n",
      " \\frac{v'}{g} & = - \\sin\\theta - D/W \\\\\n",
      "\\frac{v}{g} \\, \\theta' & = - \\cos\\theta + L/W\n",
      "\\end{align}\n",
      "\n",
      "\n",
      "Recall, from our first lesson, that the ratio of lift to weight is known from the trim conditions\u2014$L/W=v^2/v_t^2$\u2014 and also from the definitions of lift and drag, \n",
      "\n",
      "$$\\begin{eqnarray}\n",
      "L &=& C_L S \\times \\frac{1}{2} \\rho v^2 \\\\\n",
      "D &=& C_D S \\times \\frac{1}{2} \\rho v^2\n",
      "\\end{eqnarray}$$\n",
      "\n",
      "we see that $L/D=C_L/C_D$. The system of equations can be re-written:\n",
      "\n",
      "\\begin{align}\n",
      " v' & = - g\\, \\sin\\theta - \\frac{C_D}{C_L} \\frac{g}{v_t^2} v^2 \\\\\n",
      " \\theta' & = - \\frac{g}{v}\\,\\cos\\theta + \\frac{g}{v_t^2}\\, v\n",
      "\\end{align}\n",
      "\n",
      "It is very interesting that the first equation has the factor $C_D/C_L$, which is the inverse of a measure of the aerodynamic efficiency of the aircraft. It turns out, this is the term that contributes damping to the phugoid model: if drag is zero, there is no damping. Drag is never zero in real life, but as engineers design more aerodynam-ically efficient aircraft, they make the phugoid mode more weakly damped. At altitude, this is nothing but a slight bother, but vertical oscillations are unsafe during final approach, so this is something to watch out for!\n"
     ]
    },
    {
     "cell_type": "heading",
     "level": 2,
     "metadata": {},
     "source": [
      "The initial value problem"
     ]
    },
    {
     "cell_type": "markdown",
     "metadata": {},
     "source": [
      "If we want to visualize the flight trajectories predicted by this model, we are going to need to integrate the spatial coordinates, which depend on both the forward velocity and the trajectory angle. The position of the glider on a vertical plane will be designated by coordinates $(x, y)$ with respect to an inertial frame of reference, obtained from:\n",
      "\n",
      "\\begin{align}\n",
      "x'(t) & = v \\cos(\\theta) \\\\\n",
      "y'(t) & = v \\sin(\\theta).\n",
      "\\end{align}\n",
      "\n",
      "Augmenting our original two differential equations by the two equations above, we have a system of four first-order differential equations to solve. We will use a time-stepping approach, like in the previous lesson. To do so, we do need *initial values* for every unknown:\n",
      "\n",
      "$$\n",
      "v(0) = v_0 \\quad \\text{and} \\quad \\theta(0) = \\theta_0\\\\\n",
      "x(0) = x_0 \\quad \\text{and} \\quad y(0) = y_0\n",
      "$$\n",
      "\n",
      "\n",
      "\n"
     ]
    },
    {
     "cell_type": "heading",
     "level": 2,
     "metadata": {},
     "source": [
      "Solve with Euler's method"
     ]
    },
    {
     "cell_type": "markdown",
     "metadata": {},
     "source": [
      "We know how to apply Euler's method from the previous lesson. We replace each of the time derivatives by an approximation of the form:\n",
      "\n",
      "$$v'(t) \\approx \\frac{v^{n+1} - v^n}{\\dt},$$\n",
      "\n",
      "where we are now using a superscript $n$ to indicate the $n$-th value in the time iterations. The first differential equation, for example, gives:\n",
      "\n",
      "$$\\frac{v^{n+1} - v^n}{\\dt} = - g\\, \\sin\\theta^n - \\frac{C_D}{C_L} \\frac{g}{v_t^2} (v^n)^2$$\n",
      "\n",
      "Alright, we know where this is going. At each time iteration $t^n$, we want to evaluate all the known data of our system to obtain the state at $t^{n+1}$. \n",
      "\n",
      "The full system of equations discretized with Euler's method is:\n",
      "\n",
      "\\begin{align}\n",
      "v^{n+1} & = v^n + \\dt \\left(- g\\, \\sin\\theta^n - \\frac{C_D}{C_L} \\frac{g}{v_t^2} (v^n)^2 \\right) \\\\\n",
      "\\theta^{n+1} & = \\theta^n + \\dt \\left(- \\frac{g}{v^n}\\,\\cos\\theta^n + \\frac{g}{v_t^2}\\, v^n \\right) \\\\\n",
      "x^{n+1} & = x^n + \\dt v^n \\cos\\theta^n \\\\\n",
      "y^{n+1} & = y^n + \\dt v^n \\sin\\theta^n.\n",
      "\\end{align}"
     ]
    },
    {
     "cell_type": "markdown",
     "metadata": {},
     "source": [
      "As we've learned before, the system of differential equations can also be written as a vector equation:\n",
      "\n",
      "$$u^{'}(t) = f(u)$$\n",
      "\n",
      "where\n",
      "\n",
      "\\begin{align}\n",
      "u & = \\begin{pmatrix} v \\\\ \\theta \\\\ x \\\\ y \\end{pmatrix} & f(u) & = \\begin{pmatrix} - g\\, \\sin\\theta - \\frac{C_D}{C_L} \\frac{g}{v_t^2} v^2 \\\\ - \\frac{g}{v}\\,\\cos\\theta + \\frac{g}{v_t^2}\\, v \\\\ v\\cos\\theta \\\\ v\\sin\\theta \\end{pmatrix}.\n",
      "\\end{align}\n",
      "\n",
      "It's a bit tricky to code the solution using a NumPy array holding all your independent variables. But, if you do, a function for the Euler step can be written that takes any number of simultaneous equations. It simply steps in time using the same line of code:\n",
      "\n",
      "```Python\n",
      "def euler_step(u, f, dt):\n",
      "    return u + dt * f(u)\n",
      "```\n",
      "\n",
      "This function can take a NumPy array `u` with any number of components. All we need to do is create an appropriate function `f(u)` describing our system of differential equations. Neat!"
     ]
    },
    {
     "cell_type": "heading",
     "level": 3,
     "metadata": {},
     "source": [
      "And solve!"
     ]
    },
    {
     "cell_type": "markdown",
     "metadata": {},
     "source": [
      "As always, we start by loading the modules and libraries that we need for this problem. We'll need a few transcendental functions, including the $\\log$ for a convergence study later on. And remember: the line `%matplotlib inline` is a magic function that tells Matplotlib to give us the plots in the notebook. Here we go!"
     ]
    },
    {
     "cell_type": "code",
     "collapsed": false,
     "input": [
      "from math import sin, cos, log\n",
      "import numpy\n",
      "import matplotlib.pyplot as plt\n",
      "%matplotlib inline\n",
      "from matplotlib import rcParams\n",
      "rcParams ['font.family'] = 'serif'"
     ],
     "language": "python",
     "metadata": {},
     "outputs": [],
     "prompt_number": 17
    },
    {
     "cell_type": "markdown",
     "metadata": {},
     "source": [
      "Next, we need to set things up to start our numerical solution: the parameter \n",
      "values and the _initial values_. You know what the acceleration of gravity is: 9.8 $m/s^2$, but what are good values for $C_D/C_L$, the inverse of the aerodynamic efficiency? Some possible values are given on a table in the Wikipedia entry for [lift-to-drag ratio](http://en.wikipedia.org/wiki/Lift-to-drag_ratio): a modern sailplane can have $L/D$ of 40 to 60, depending on span (and, in case you're interested, a flying squirrel has $L/D$ close to 2).\n",
      "\n",
      "For the _trim velocity_, the speed range for typical sailplanes is between 65 and 280 km/hr, according to Wikipedia (it must be right!). Let's convert that to meters per second: 18 to 78 m/s. We'll pick a value somewhere in the middle of this range."
     ]
    },
    {
     "cell_type": "code",
     "collapsed": false,
     "input": [
      "# model parameters:\n",
      "g = 9.8      # gravity in m s^{-2}\n",
      "v_t = 30.0   # trim velocity in m s^{-1}   \n",
      "C_D = 1/40.  # drag coefficient --- or D/L if C_L=1\n",
      "C_L = 1.0    # for convenience, use C_L = 1\n",
      "\n",
      "### set initial conditions ###\n",
      "v0 = v_t     # start at the trim velocity (or add a delta)\n",
      "theta0 = 0.0 # initial angle of trajectory\n",
      "x0 = 0.0     # horizotal position is arbitrary\n",
      "y0 = 1000.0  # initial altitute"
     ],
     "language": "python",
     "metadata": {},
     "outputs": [],
     "prompt_number": 3
    },
    {
     "cell_type": "markdown",
     "metadata": {},
     "source": [
      "Now, we will define a function `f()` to match the right-hand side of Equation (15), the full differential system in vector form. This function assumes that we have available the parameters defined above. If you re-execute the cell above with different parameter values, you can just run the solution without re-executing the function definition."
     ]
    },
    {
     "cell_type": "code",
     "collapsed": false,
     "input": [
      "def f(u):\n",
      "    \"\"\"Returns the right hand-side of the phugoid system of equations.\n",
      "    \n",
      "    Parameters\n",
      "    ----------\n",
      "    u : array of float\n",
      "        array containing the solution at time n.\n",
      "        \n",
      "    Returns\n",
      "    -------\n",
      "    dudt : array of float\n",
      "        array containing the RHS given u.\n",
      "    \"\"\"\n",
      "    \n",
      "    v = u[0]\n",
      "    theta = u[1]\n",
      "    x = u[2]\n",
      "    y = u[3]\n",
      "    return numpy.array([-g*sin(theta) - C_D/C_L*g/v_t**2*v**2,\n",
      "                      -g*cos(theta)/v + g/v_t**2*v,\n",
      "                      v*cos(theta),\n",
      "                      v*sin(theta)])"
     ],
     "language": "python",
     "metadata": {},
     "outputs": [],
     "prompt_number": 4
    },
    {
     "cell_type": "markdown",
     "metadata": {},
     "source": [
      "Compare the code defining function `f(u)` with the differential equations, and convince yourself that it's right!\n",
      "\n",
      "\\begin{align}\n",
      "u & = \\begin{pmatrix} v \\\\ \\theta \\\\ x \\\\ y \\end{pmatrix} & f(u) & = \\begin{pmatrix} - g\\, \\sin\\theta - \\frac{C_D}{C_L} \\frac{g}{v_t^2} v^2 \\\\ - \\frac{g}{v}\\,\\cos\\theta + \\frac{g}{v_t^2}\\, v \\\\ v\\cos\\theta \\\\ v\\sin\\theta \\end{pmatrix} \\nonumber\n",
      "\\end{align}\n",
      "\n",
      "Euler's method is implemented in a simple function `euler_step()` now:"
     ]
    },
    {
     "cell_type": "code",
     "collapsed": false,
     "input": [
      "def euler_step(u, f, dt):\n",
      "    \"\"\"Returns the solution at the next time-step using Euler's method.\n",
      "    \n",
      "    Parameters\n",
      "    ----------\n",
      "    u : array of float\n",
      "        solution at the previous time-step.\n",
      "    f : function\n",
      "        function to compute the right hand-side of the system of equation.\n",
      "    dt : float\n",
      "        time-increment.\n",
      "    \n",
      "    Returns\n",
      "    -------\n",
      "    u_n_plus_1 : array of float\n",
      "        approximate solution at the next time step.\n",
      "    \"\"\"\n",
      "    \n",
      "    return u + dt * f(u)"
     ],
     "language": "python",
     "metadata": {},
     "outputs": [],
     "prompt_number": 5
    },
    {
     "cell_type": "markdown",
     "metadata": {},
     "source": [
      "After definiting a final time for the solution, and the time step $\\Delta t$, we construct the grid in time using the NumPy function [`linspace()`](http://docs.scipy.org/doc/numpy/reference/generated/numpy.linspace.html). Make sure you study the decisions we made here to build the time grid: why do we add 1 to the definition of `N`, for example?\n",
      "\n",
      "Look at the code below, and make sure you understand the following aspects of it.\n",
      "\n",
      "* The NumPy array `u` contains the solution at every time-step,  consisting of the velocity, angle and location of the glider. \n",
      "* The first element of the array `u` is set to contain the initial conditions. \n",
      "* In the `for`-loop, the function `euler_step()` is called, to get the solution at time-step $n+1$.  "
     ]
    },
    {
     "cell_type": "code",
     "collapsed": false,
     "input": [
      "T = 100.0                         # final time\n",
      "dt = 0.1                             ### set time-increment\n",
      "N = int(T/dt) + 1                   # number of time-steps\n",
      "t = numpy.linspace(0.0, T, N)       # time discretization\n",
      "\n",
      "# initialize the array containing the solution for each time-step\n",
      "u = numpy.empty((N, 4))\n",
      "u[0] = numpy.array([v0, theta0, x0, y0])# fill 1st element with initial values\n",
      "\n",
      "# time loop - Euler method\n",
      "for n in range(N-1):\n",
      "    ### to be implemented ###\n",
      "    u[n+1] = euler_step(u[n], f, dt)"
     ],
     "language": "python",
     "metadata": {},
     "outputs": [],
     "prompt_number": 6
    },
    {
     "cell_type": "heading",
     "level": 2,
     "metadata": {},
     "source": [
      "Plot the trajectory"
     ]
    },
    {
     "cell_type": "markdown",
     "metadata": {},
     "source": [
      "In order to plot the path of the glider, we need the location (`x`, `y`) with respect to time:"
     ]
    },
    {
     "cell_type": "code",
     "collapsed": false,
     "input": [
      "# get the glider's position with respect to the time\n",
      "x = u[:,2]\n",
      "y = u[:,3]"
     ],
     "language": "python",
     "metadata": {},
     "outputs": [],
     "prompt_number": 7
    },
    {
     "cell_type": "markdown",
     "metadata": {},
     "source": [
      "Time to plot the path of the glider and get the distance travelled!"
     ]
    },
    {
     "cell_type": "code",
     "collapsed": false,
     "input": [
      "# visualization of the path\n",
      "plt.figure(figsize=(8,6))\n",
      "plt.grid(True)\n",
      "plt.xlabel(r'x', fontsize=18)\n",
      "plt.ylabel(r'y', fontsize=18)\n",
      "plt.title('Glider trajectory, flight time = %.2f' % T, fontsize=18)\n",
      "plt.plot(x,y, 'k-', lw=2);\n"
     ],
     "language": "python",
     "metadata": {},
     "outputs": [
      {
       "metadata": {},
       "output_type": "display_data",
       "png": "[encoded data removed]",
       "text": [
        "<matplotlib.figure.Figure at 0x103fc0a10>"
       ]
      }
     ],
     "prompt_number": 19
    },
    {
     "cell_type": "heading",
     "level": 2,
     "metadata": {},
     "source": [
      "Convergence"
     ]
    },
    {
     "cell_type": "markdown",
     "metadata": {},
     "source": [
      "Let's study the convergence of Euler's method for the phugoid model. When we studied the straight-line phugoid under small perturbation in the second notebook, we examined convergence by comparing the numerical solution with the exact solution. Unfortunately, in most problems there is no exact solution available, but we can use a numerical solution computed on a very fine grid in place of an exact solution. This by itself doesn't tell us that the numerical solution is converging to the right answer, only that it is converging to some answer. \n",
      "\n",
      "We need to be careful, though, and make sure that the fine-grid solution is resolving all of the features in the solution well. How can we know this? We'll have a look at that in a bit."
     ]
    },
    {
     "cell_type": "heading",
     "level": 5,
     "metadata": {},
     "source": [
      "Challenge! Paper airplane"
     ]
    },
    {
     "cell_type": "markdown",
     "metadata": {},
     "source": [
      "Let's make a convergence plot to check how quickly the error tends to zero with Euler's method.\n",
      "\n",
      "We are going to write a loop that solves the phugoid model on a sequence of grids with different numbers of grid points, as well as one fine grid that has many more points. "
     ]
    },
    {
     "cell_type": "markdown",
     "metadata": {},
     "source": [
      "We create an `Numpy` array `dt_values` that contains the  time-increment of each grid to be solved. For each element `dt_values[i]` we compute the solution `u_values[i]` of the glider model using Euler's method. In the cell below, discretize the time using `Numpy` function `arange()` and call the function `euler_step()` to solve the solution at the next time-step."
     ]
    },
    {
     "cell_type": "code",
     "collapsed": false,
     "input": [
      "dt_values = numpy.array([0.1, 0.05, 0.01, 0.005, 0.001])\n",
      "\n",
      "u_values = numpy.empty_like(dt_values, dtype=numpy.ndarray)\n",
      "\n",
      "for i, dt in enumerate(dt_values):\n",
      "    \n",
      "    N = int(T/dt)    # number of time-steps\n",
      "    \n",
      "    ### discretize the time t ###\n",
      "    t = numpy.linspace(0.0, T, N)\n",
      "    \n",
      "    # initialize the array containing the solution for each time-step\n",
      "    u = numpy.empty((N, 4))\n",
      "    u[0] = numpy.array([v0, theta0, x0, y0])\n",
      "\n",
      "    # time loop\n",
      "    for n in range(N-1):\n",
      "        ### call euler_step() ###\n",
      "        u[n+1] = euler_step(u[n], f, dt)\n",
      "    \n",
      "    # store the value of u related to one grid\n",
      "    u_values[i] = u"
     ],
     "language": "python",
     "metadata": {},
     "outputs": [],
     "prompt_number": 9
    },
    {
     "cell_type": "markdown",
     "metadata": {},
     "source": [
      "For each solution, we are going to compute the error relative to the finest grid. To do that, implement the error between one solution `u_current` and the solution of the finest grid `u_finest`, using the $L_1$-norm, in the function `get_error()` pre-defined below. *Hint*: why are we not using the `Numpy` functions [`abs()`](http://docs.scipy.org/doc/numpy/reference/generated/numpy.absolute.html) and [`sum()`](http://docs.scipy.org/doc/numpy/reference/generated/numpy.sum.html)?"
     ]
    },
    {
     "cell_type": "code",
     "collapsed": false,
     "input": [
      "def get_error(u_current, u_fine, dt):\n",
      "    \"\"\"Returns the difference between one grid and the fine one using L-1 norm.\n",
      "    \n",
      "    Parameters\n",
      "    ----------\n",
      "    u_current : array of float\n",
      "        solution on the current grid.\n",
      "    u_finest : array of float\n",
      "        solution on the fine grid.\n",
      "    dt : float\n",
      "        time-increment on the current grid.\n",
      "    \n",
      "    Returns\n",
      "    -------\n",
      "    l1_error : float\n",
      "        error computed in the L-1 norm.\n",
      "    \"\"\"\n",
      "    ### to be implemented ###\n",
      "    N_current = len(u_current[:,0])\n",
      "    N_fine = len(u_fine[:,0])\n",
      "    return dt * numpy.sum(numpy.abs(u_current[:,2]-u_fine[::N_fine/N_current,2]))"
     ],
     "language": "python",
     "metadata": {},
     "outputs": [],
     "prompt_number": 10
    },
    {
     "cell_type": "markdown",
     "metadata": {},
     "source": [
      "Now that the function has been implemented, let us compute the error for each solution, relative to the fine grid solution. Call the function `get_error()` in the next cell."
     ]
    },
    {
     "cell_type": "code",
     "collapsed": false,
     "input": [
      "# compute error between one grid and the finest one\n",
      "error = numpy.empty_like(dt_values)\n",
      "for i, dt in enumerate(dt_values):\n",
      "    print('dt = {}'.format(dt))\n",
      "    ### call the function get_error() ###\n",
      "    error[i] = get_error(u_values[i], u_values[-1], dt)"
     ],
     "language": "python",
     "metadata": {},
     "outputs": [
      {
       "output_type": "stream",
       "stream": "stdout",
       "text": [
        "dt = 0.1\n",
        "dt = 0.05\n",
        "dt = 0.01\n",
        "dt = 0.005\n",
        "dt = 0.001\n"
       ]
      }
     ],
     "prompt_number": 11
    },
    {
     "cell_type": "markdown",
     "metadata": {},
     "source": [
      "Time to visualize the self-convergence of Euler's method on the glider equation in a *log-log* plot, using the `matplotlib` function [`loglog()`](http://matplotlib.org/api/pyplot_api.html?highlight=loglog#matplotlib.pyplot.loglog)! Since the error of the fine grid, relative to the fine grid is obviously zero, we skip that value in the *log-log* figure. How quickly does the error tend to zero?"
     ]
    },
    {
     "cell_type": "code",
     "collapsed": false,
     "input": [
      "# log-log plot of the error\n",
      "plt.figure(figsize=(6,6))\n",
      "plt.grid(True)\n",
      "plt.xlabel(r'$\\Delta t$', fontsize=18)\n",
      "plt.ylabel(r'Error $L_1$-norm', fontsize=18)\n",
      "plt.axis('equal')\n",
      "plt.loglog(dt_values[:-1], error[:-1], color='b', ls='-', lw=2, marker='o');"
     ],
     "language": "python",
     "metadata": {},
     "outputs": [
      {
       "metadata": {},
       "output_type": "display_data",
       "png": "[encoded data removed]",
       "text": [
        "<matplotlib.figure.Figure at 0x7f16310afa90>"
       ]
      }
     ],
     "prompt_number": 12
    },
    {
     "cell_type": "heading",
     "level": 3,
     "metadata": {},
     "source": [
      "Order of convergence"
     ]
    },
    {
     "cell_type": "markdown",
     "metadata": {},
     "source": [
      "The order of convergence is the rate at which the numerical solution approaches the exact one as the mesh is refined. Considering that we're not comparing with an exact solution, we use 3 grid resolutions that are refined at a constant ratio $r$ to find the *observed order of convergence* ($p$), which is given by:\n",
      "\n",
      "$$\n",
      "\\begin{equation}\n",
      "p = \\frac{\\frac{f_3-f_2}{f_2-f_1}}{\\log(r)}\n",
      "\\end{equation}\n",
      "$$\n",
      "\n",
      "where $f_1$ is the finest mesh solution, and $f_3$ the coarsest.  "
     ]
    },
    {
     "cell_type": "code",
     "collapsed": false,
     "input": [
      "r = 2\n",
      "h = 0.001\n",
      "\n",
      "dt_values = numpy.array([h, r*h, r**2*h])\n",
      "\n",
      "u_values = numpy.empty_like(dt_values, dtype=numpy.ndarray)\n",
      "\n",
      "for i, dt in enumerate(dt_values):\n",
      "    \n",
      "    N = int(T/dt)    # number of time-steps\n",
      "    \n",
      "    ### discretize the time t ###\n",
      "    t = numpy.linspace(0.0, T, N)\n",
      "    \n",
      "    # initialize the array containing the solution for each time-step\n",
      "    u = numpy.empty((N, 4))\n",
      "    u[0] = numpy.array([v0, theta0, x0, y0])\n",
      "\n",
      "    # time loop\n",
      "    for n in range(N-1):\n",
      "        ### call euler_step() ###\n",
      "        u[n+1] = euler_step(u[n], f, dt)\n",
      "    \n",
      "    # store the value of u related to one grid\n",
      "    u_values[i] = u\n",
      "    \n",
      "# calculate the order of convergence\n",
      "alpha = (log(get_error(u_values[2], u_values[1], dt_values[2])) \n",
      "         - log(get_error(u_values[1], u_values[0], dt_values[1]))) / log(r)\n",
      "\n",
      "print('The order of convergence is alpha = {:.3f}'.format(alpha))"
     ],
     "language": "python",
     "metadata": {},
     "outputs": [
      {
       "output_type": "stream",
       "stream": "stdout",
       "text": [
        "The order of convergence is alpha = 1.009\n"
       ]
      }
     ],
     "prompt_number": 13
    },
    {
     "cell_type": "markdown",
     "metadata": {},
     "source": [
      "Remember we asked how we could be sure that the fine-mesh solution was *fine enough*? Well, we saw in the previous notebook that the error with respect to the analytical solution was decaying linearly with the mesh refinement (the log-log plot of the error had slope equal to 1!): this was because Euler is a 1st order method. The expected linear behavior is repeated in this case, indicating all grids were resolving the solution correctly."
     ]
    },
    {
     "cell_type": "heading",
     "level": 3,
     "metadata": {},
     "source": [
      "Richardson extrapolation"
     ]
    },
    {
     "cell_type": "markdown",
     "metadata": {},
     "source": [
      "To find an even more refined solution \u2014without actually needing to compute it!\u2014 we can resort to **Richardson extrapolation**.\n",
      "\n",
      "Richardson extrapolation is a technique to obtain an estimated exact solution from a series of computations using consecutive mesh resolutions, from coarser to finer. To be correctly applied, the computations need to be converging to the exact solution at the same rate, meaning, they should be on top of the straight line in the 'Error' versus '$\\Delta t$' plot. The estimated exact solution is then\n",
      "\n",
      "$$\n",
      "\\begin{equation} \n",
      "f_\\text{exact} \\approx f_1 + \\frac{f_1-f_2}{r^p-1}\n",
      "\\end{equation}\n",
      "$$\n",
      "\n",
      "where $f_1$ and $f_2$ are the fine-grid and coarse-grid solutions, $p$ the order of convergence, and $r$ the refinement ratio. "
     ]
    },
    {
     "cell_type": "heading",
     "level": 2,
     "metadata": {},
     "source": [
      "References"
     ]
    },
    {
     "cell_type": "markdown",
     "metadata": {},
     "source": [
      "* Simanca, S. R. and Sutherland, S. _\"Mathematical problem-solving with computers,\"_ 2002 course notes, Stony Brook University, chapter 3: [The Art of Phugoid](https://www.math.sunysb.edu/~scott/Book331/Art_Phugoid.html). (Note that there is an error in the figure: sine and cosine are switched.)"
     ]
    },
    {
     "cell_type": "markdown",
     "metadata": {},
     "source": [
      "---\n",
      "\n",
      "######The cell below loads the style of the notebook."
     ]
    },
    {
     "cell_type": "code",
     "collapsed": false,
     "input": [
      "from IPython.core.display import HTML\n",
      "css_file = '../../styles/numericalmoocstyle.css'\n",
      "HTML(open(css_file, \"r\").read())"
     ],
     "language": "python",
     "metadata": {},
     "outputs": [
      {
       "html": [
        "<link href='http://fonts.googleapis.com/css?family=Alegreya+Sans:100,300,400,500,700,800,900,100italic,300italic,400italic,500italic,700italic,800italic,900italic' rel='stylesheet' type='text/css'>\n",
        "<link href='http://fonts.googleapis.com/css?family=Arvo:400,700,400italic' rel='stylesheet' type='text/css'>\n",
        "<link href='http://fonts.googleapis.com/css?family=PT+Mono' rel='stylesheet' type='text/css'>\n",
        "<link href='http://fonts.googleapis.com/css?family=Shadows+Into+Light' rel='stylesheet' type='text/css'>\n",
        "<link href='http://fonts.googleapis.com/css?family=Nixie+One' rel='stylesheet' type='text/css'>\n",
        "<style>\n",
        "\n",
        "@font-face {\n",
        "    font-family: \"Computer Modern\";\n",
        "    src: url('http://mirrors.ctan.org/fonts/cm-unicode/fonts/otf/cmunss.otf');\n",
        "}\n",
        "\n",
        "#notebook_panel { /* main background */\n",
        "    background: rgb(245,245,245);\n",
        "}\n",
        "\n",
        "div.cell { /* set cell width */\n",
        "    width: 750px;\n",
        "}\n",
        "\n",
        "div #notebook { /* centre the content */\n",
        "    background: #fff; /* white background for content */\n",
        "    width: 1000px;\n",
        "    margin: auto;\n",
        "    padding-left: 0em;\n",
        "}\n",
        "\n",
        "#notebook li { /* More space between bullet points */\n",
        "margin-top:0.8em;\n",
        "}\n",
        "\n",
        "/* draw border around running cells */\n",
        "div.cell.border-box-sizing.code_cell.running { \n",
        "    border: 1px solid #111;\n",
        "}\n",
        "\n",
        "/* Put a solid color box around each cell and its output, visually linking them*/\n",
        "div.cell.code_cell {\n",
        "    background-color: rgb(256,256,256); \n",
        "    border-radius: 0px; \n",
        "    padding: 0.5em;\n",
        "    margin-left:1em;\n",
        "    margin-top: 1em;\n",
        "}\n",
        "\n",
        "div.text_cell_render{\n",
        "    font-family: 'Alegreya Sans' sans-serif;\n",
        "    line-height: 140%;\n",
        "    font-size: 125%;\n",
        "    font-weight: 400;\n",
        "    width:600px;\n",
        "    margin-left:auto;\n",
        "    margin-right:auto;\n",
        "}\n",
        "\n",
        "\n",
        "/* Formatting for header cells */\n",
        ".text_cell_render h1 {\n",
        "    font-family: 'Nixie One', serif;\n",
        "    font-style:regular;\n",
        "    font-weight: 400;    \n",
        "    font-size: 45pt;\n",
        "    line-height: 100%;\n",
        "    color: rgb(0,51,102);\n",
        "    margin-bottom: 0.5em;\n",
        "    margin-top: 0.5em;\n",
        "    display: block;\n",
        "}\t\n",
        ".text_cell_render h2 {\n",
        "    font-family: 'Nixie One', serif;\n",
        "    font-weight: 400;\n",
        "    font-size: 30pt;\n",
        "    line-height: 100%;\n",
        "    color: rgb(0,51,102);\n",
        "    margin-bottom: 0.1em;\n",
        "    margin-top: 0.3em;\n",
        "    display: block;\n",
        "}\t\n",
        "\n",
        ".text_cell_render h3 {\n",
        "    font-family: 'Nixie One', serif;\n",
        "    margin-top:16px;\n",
        "\tfont-size: 22pt;\n",
        "    font-weight: 600;\n",
        "    margin-bottom: 3px;\n",
        "    font-style: regular;\n",
        "    color: rgb(102,102,0);\n",
        "}\n",
        "\n",
        ".text_cell_render h4 {    /*Use this for captions*/\n",
        "    font-family: 'Nixie One', serif;\n",
        "    font-size: 14pt;\n",
        "    text-align: center;\n",
        "    margin-top: 0em;\n",
        "    margin-bottom: 2em;\n",
        "    font-style: regular;\n",
        "}\n",
        "\n",
        ".text_cell_render h5 {  /*Use this for small titles*/\n",
        "    font-family: 'Nixie One', sans-serif;\n",
        "    font-weight: 400;\n",
        "    font-size: 16pt;\n",
        "    color: rgb(163,0,0);\n",
        "    font-style: italic;\n",
        "    margin-bottom: .1em;\n",
        "    margin-top: 0.8em;\n",
        "    display: block;\n",
        "}\n",
        "\n",
        ".text_cell_render h6 { /*use this for copyright note*/\n",
        "    font-family: 'PT Mono', sans-serif;\n",
        "    font-weight: 300;\n",
        "    font-size: 9pt;\n",
        "    line-height: 100%;\n",
        "    color: grey;\n",
        "    margin-bottom: 1px;\n",
        "    margin-top: 1px;\n",
        "}\n",
        "\n",
        ".CodeMirror{\n",
        "        font-family: \"PT Mono\";\n",
        "        font-size: 90%;\n",
        "}\n",
        "\n",
        "</style>\n",
        "<script>\n",
        "    MathJax.Hub.Config({\n",
        "                        TeX: {\n",
        "                           extensions: [\"AMSmath.js\"],\n",
        "                           equationNumbers: { autoNumber: \"AMS\", useLabelIds: true}\n",
        "                           },\n",
        "                tex2jax: {\n",
        "                    inlineMath: [ ['$','$'], [\"\\\\(\",\"\\\\)\"] ],\n",
        "                    displayMath: [ ['$$','$$'], [\"\\\\[\",\"\\\\]\"] ]\n",
        "                },\n",
        "                displayAlign: 'center', // Change this to 'center' to center equations.\n",
        "                \"HTML-CSS\": {\n",
        "                    styles: {'.MathJax_Display': {\"margin\": 4}}\n",
        "                }\n",
        "        });\n",
        "</script>\n"
       ],
       "metadata": {},
       "output_type": "pyout",
       "prompt_number": 1,
       "text": [
        "<IPython.core.display.HTML at 0x102687a10>"
       ]
      }
     ],
     "prompt_number": 1
    }
   ],
   "metadata": {}
  }
 ]
}