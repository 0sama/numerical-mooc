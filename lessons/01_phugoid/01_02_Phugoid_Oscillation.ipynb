{
 "metadata": {
  "name": "",
  "signature": "sha256:b59756b650eaaf74e8bab0441cfb76d5a2e057b2e3291e1ee3c8a20b1559234c"
 },
 "nbformat": 3,
 "nbformat_minor": 0,
 "worksheets": [
  {
   "cells": [
    {
     "cell_type": "code",
     "collapsed": false,
     "input": [
      "from IPython.core.display import HTML\n",
      "css_file = '../../styles/numericalmoocstyle.css'\n",
      "HTML(open(css_file, \"r\").read())"
     ],
     "language": "python",
     "metadata": {},
     "outputs": [
      {
       "html": [
        "<link href='http://fonts.googleapis.com/css?family=Alegreya+Sans:100,300,400,500,700,800,900,100italic,300italic,400italic,500italic,700italic,800italic,900italic' rel='stylesheet' type='text/css'>\n",
        "<link href='http://fonts.googleapis.com/css?family=Arvo:400,700,400italic' rel='stylesheet' type='text/css'>\n",
        "<link href='http://fonts.googleapis.com/css?family=PT+Mono' rel='stylesheet' type='text/css'>\n",
        "<link href='http://fonts.googleapis.com/css?family=Shadows+Into+Light' rel='stylesheet' type='text/css'>\n",
        "<link href='http://fonts.googleapis.com/css?family=Nixie+One' rel='stylesheet' type='text/css'>\n",
        "<style>\n",
        "\n",
        "@font-face {\n",
        "    font-family: \"Computer Modern\";\n",
        "    src: url('http://mirrors.ctan.org/fonts/cm-unicode/fonts/otf/cmunss.otf');\n",
        "}\n",
        "\n",
        "#notebook_panel { /* main background */\n",
        "    background: rgb(245,245,245);\n",
        "}\n",
        "\n",
        "div.cell { /* set cell width */\n",
        "    width: 750px;\n",
        "}\n",
        "\n",
        "div #notebook { /* centre the content */\n",
        "    background: #fff; /* white background for content */\n",
        "    width: 1000px;\n",
        "    margin: auto;\n",
        "    padding-left: 0em;\n",
        "}\n",
        "\n",
        "#notebook li { /* More space between bullet points */\n",
        "margin-top:0.8em;\n",
        "}\n",
        "\n",
        "/* draw border around running cells */\n",
        "div.cell.border-box-sizing.code_cell.running { \n",
        "    border: 1px solid #111;\n",
        "}\n",
        "\n",
        "/* Put a solid color box around each cell and its output, visually linking them*/\n",
        "div.cell.code_cell {\n",
        "    background-color: rgb(256,256,256); \n",
        "    border-radius: 0px; \n",
        "    padding: 0.5em;\n",
        "    margin-left:1em;\n",
        "    margin-top: 1em;\n",
        "}\n",
        "\n",
        "div.text_cell_render{\n",
        "    font-family: 'Alegreya Sans' sans-serif;\n",
        "    line-height: 140%;\n",
        "    font-size: 125%;\n",
        "    font-weight: 400;\n",
        "    width:600px;\n",
        "    margin-left:auto;\n",
        "    margin-right:auto;\n",
        "}\n",
        "\n",
        "\n",
        "/* Formatting for header cells */\n",
        ".text_cell_render h1 {\n",
        "    font-family: 'Nixie One', serif;\n",
        "    font-style:regular;\n",
        "    font-weight: 400;    \n",
        "    font-size: 45pt;\n",
        "    line-height: 100%;\n",
        "    color: rgb(0,51,102);\n",
        "    margin-bottom: 0.5em;\n",
        "    margin-top: 0.5em;\n",
        "    display: block;\n",
        "}\t\n",
        ".text_cell_render h2 {\n",
        "    font-family: 'Nixie One', serif;\n",
        "    font-weight: 400;\n",
        "    font-size: 30pt;\n",
        "    line-height: 100%;\n",
        "    color: rgb(0,51,102);\n",
        "    margin-bottom: 0.1em;\n",
        "    margin-top: 0.3em;\n",
        "    display: block;\n",
        "}\t\n",
        "\n",
        ".text_cell_render h3 {\n",
        "    font-family: 'Nixie One', serif;\n",
        "    margin-top:16px;\n",
        "\tfont-size: 22pt;\n",
        "    font-weight: 600;\n",
        "    margin-bottom: 3px;\n",
        "    font-style: regular;\n",
        "    color: rgb(95,92,72);\n",
        "}\n",
        "\n",
        ".text_cell_render h4 {    /*Use this for captions*/\n",
        "    font-family: 'Nixie One', serif;\n",
        "    font-size: 14pt;\n",
        "    text-align: center;\n",
        "    margin-top: 0em;\n",
        "    margin-bottom: 2em;\n",
        "    font-style: regular;\n",
        "}\n",
        "\n",
        ".text_cell_render h5 {\n",
        "    font-family: 'Arvo', sans-serif;\n",
        "    font-weight: 400;\n",
        "    font-size: 16pt;\n",
        "    color: grey;\n",
        "    font-style: italic;\n",
        "    margin-bottom: .1em;\n",
        "    margin-top: 0.1em;\n",
        "    display: block;\n",
        "}\n",
        "\n",
        ".text_cell_render h6 {\n",
        "    font-family: 'PT Mono', sans-serif;\n",
        "    font-weight: 300;\n",
        "    font-size: 9pt;\n",
        "    line-height: 100%;\n",
        "    color: grey;\n",
        "    margin-bottom: 1px;\n",
        "    margin-top: 1px;\n",
        "}\n",
        "\n",
        ".CodeMirror{\n",
        "        font-family: \"PT Mono\";\n",
        "        font-size: 90%;\n",
        "}\n",
        "\n",
        "</style>\n",
        "<script>\n",
        "    MathJax.Hub.Config({\n",
        "                        TeX: {\n",
        "                           extensions: [\"AMSmath.js\"],\n",
        "                           equationNumbers: { autoNumber: \"AMS\", useLabelIds: true}\n",
        "                           },\n",
        "                tex2jax: {\n",
        "                    inlineMath: [ ['$','$'], [\"\\\\(\",\"\\\\)\"] ],\n",
        "                    displayMath: [ ['$$','$$'], [\"\\\\[\",\"\\\\]\"] ]\n",
        "                },\n",
        "                displayAlign: 'center', // Change this to 'center' to center equations.\n",
        "                \"HTML-CSS\": {\n",
        "                    styles: {'.MathJax_Display': {\"margin\": 4}}\n",
        "                }\n",
        "        });\n",
        "</script>\n"
       ],
       "metadata": {},
       "output_type": "pyout",
       "prompt_number": 2,
       "text": [
        "<IPython.core.display.HTML at 0x103196210>"
       ]
      }
     ],
     "prompt_number": 2
    },
    {
     "cell_type": "heading",
     "level": 6,
     "metadata": {},
     "source": [
      "Content under Creative Commons Attribution license CC-BY 4.0, code under MIT license (c)2014 L.A. Barba, G.F. Forsyth. Partly based on content by David Ketcheson also under CC-BY."
     ]
    },
    {
     "cell_type": "heading",
     "level": 1,
     "metadata": {},
     "source": [
      "Phugoid Oscillation"
     ]
    },
    {
     "cell_type": "markdown",
     "metadata": {},
     "source": [
      "Welcome back! This is the second IPython Notebook of the series _\"The phugoid model of glider flight\"_, the first learning module of the course [**\"Practical Numerical Methods with Python.\"**](http://openedx.seas.gwu.edu/courses/GW/MAE6286/2014_fall/about)\n",
      "\n",
      "In the first notebook, _\"Phugoid Motion\"_, we described the physics of an aircraft's oscillatory trajectory, seen as an exchange of kinetic and potential energy. This analysis goes back to Fredrick Lanchester, who published his book _\"Aerodonetics\"_ on aircraft stability in 1909. We concluded that first exposure to our problem of interest by plotting the flight paths predicted by Lanchester's analysis, known as _phugoids_.\n",
      "\n",
      "Here, we will look at the situation when an aircraft is initially moving on the straight-line phugoid (obtained with the parameters $C=2/3$, $\\cos\\theta=1$, and $z=z_t$ in the previous analysis), and experiences a small upset, a wind gust that slightly perturbs its path. It will then enter into a gentle oscillation around the previous straight-line path: a _phugoid oscillation_.\n",
      "\n",
      "If the aircraft experiences an upward acceleration of $-d^2z/dt$, and we assume that the perturbaion is small so $\\cos\\theta=1$ is a good approximation, then Newton's second law in the vertical direction is:\n",
      "\n",
      "$$\\begin{equation}\n",
      "L - W = - \\frac{W}{g}\\frac{d^2 z}{dt^2}\n",
      "\\end{equation}$$\n",
      "\n",
      "In the previous notebook, we saw that the following relation holds for the ratio of lift to weight, in terms of the trim velocity $v_t$:\n",
      "\n",
      "$$\\begin{equation}\n",
      "\\frac{L}{W}=\\frac{v^2}{v_t^2}\n",
      "\\end{equation}$$\n",
      "\n",
      "This will be useful: we can divide Equation (1) by the weight and use Equation (2) to replace $L/W$. Another useful relation from the previous notebook expressed the conservation of energy (per unit mass) as $v^2 = 2 gz$. With this, Equation (1) is rearranged as:\n",
      "\n",
      "$$\\begin{equation}\n",
      "\\frac{d^2z}{dt^2} + \\frac{gz}{z_t} = g\n",
      "\\end{equation}$$"
     ]
    },
    {
     "cell_type": "markdown",
     "metadata": {},
     "source": [
      "Look at Equation (3) for a moment. Does it ring a bell? Do you recognize it?\n",
      "\n",
      "If you remember from your physics courses the equation for _simple harmonic motion_, you should see the similarity! Take the case of a simple spring, for example. Hooke's law is $F=-kx$, where $F$ is a restoring force, $x$ the displacement from a position of equilibrium and $k$ the spring constant. This results in the following ordinary differential equation for the displacement:\n",
      "\n",
      "$$\\begin{equation}\n",
      "m \\frac{d^2 x}{dt^2}= -\\frac{k}{m}x\n",
      "\\end{equation}$$\n",
      "\n",
      "which has the solution $x(t) = A \\cos(\\omega t- \\phi)$, representing simple harmonic motion with an angular frequency $\\omega=\\sqrt{k/m}=2\\pi f$ and phase angle $\\phi$.\n",
      "\n",
      "Now look back at Equation (3): it has the same form and it represents simple harmonic motion with angular frequency $\\omega=\\sqrt{g/z_t}$. \n",
      "\n",
      "Think about this for a moment ... we can immediately say what the period of the oscillation is: exactly $2 \\pi \\sqrt{z_t/g}$\u2014or, in terms of the trim velocity, $\\pi \\sqrt{2} v_t/g$.\n",
      "\n",
      "_This is a remarkable result!_ Think about it: we know nothing about the aircraft, or the flight altitude, yet we can obtain the period of the phugoid oscillation simply as a function of the trim velocity. For example, if trim velocity is 200 knots, we get a phugoid period of about 47 seconds\u2014over that time, you really would not notice anything if you were flying in that aircraft."
     ]
    },
    {
     "cell_type": "heading",
     "level": 2,
     "metadata": {},
     "source": [
      "Prepare to integrate"
     ]
    },
    {
     "cell_type": "markdown",
     "metadata": {},
     "source": [
      "We now want to integrate the differential equation and plot the trajectory of the aircraft. Are you ready?\n",
      "\n",
      "The equation for the phugoid oscillation is a second-order ordinary differential equation. Let's represent the time derivative with a prime, and write it like this:\n",
      "\n",
      "$$\\begin{equation}\n",
      "z(t)'' + \\frac{g*z(t)}{z_t}=g\n",
      "\\end{equation}$$\n",
      "\n",
      "take\n",
      "\n",
      "$$z'(t) = v(t)$$\n",
      "$$v'(t) = g - \\frac{g*z(t)}{z_t}$$\n",
      "$$v'(t) = g\\left(1-\\frac{z(t)}{z_t}\\right)$$\n",
      "\n",
      "$$u'(t) = f(u)$$\n",
      "\n",
      "if we define the vectors\n",
      "\n",
      "\\begin{align}\n",
      "u & = \\begin{pmatrix} z \\\\ v \\end{pmatrix} & f(u) & = \\begin{pmatrix} v \\\\ g\\left(1-\\frac{z(t)}{z_t}\\right) \\end{pmatrix}.\n",
      "\\end{align}\n",
      "\n",
      "Question 8 of Milne chapter on Phugoids has clue about plotting x vs. z as\n",
      "\n",
      "$$\\frac{dz}{dx} = \\tan \\theta$$"
     ]
    },
    {
     "cell_type": "code",
     "collapsed": false,
     "input": [
      "import numpy \n",
      "import matplotlib.pyplot as plt\n",
      "from matplotlib import rcParams\n",
      "%matplotlib inline"
     ],
     "language": "python",
     "metadata": {},
     "outputs": []
    },
    {
     "cell_type": "code",
     "collapsed": false,
     "input": [
      "T = 100.0\n",
      "dt = 0.01\n",
      "N = int(T/dt)\n",
      "t = numpy.linspace(0.0, T, N)"
     ],
     "language": "python",
     "metadata": {},
     "outputs": []
    },
    {
     "cell_type": "code",
     "collapsed": false,
     "input": [
      "# initial conditions\n",
      "z = 100.  #altitude\n",
      "v = 3   #upward velocity resulting from gust(?)\n",
      "zt = 100.\n",
      "g = 9.81\n",
      "\n",
      "U = numpy.array([z, v])\n",
      "\n",
      "# initialize an array to hold the changing angle values\n",
      "zhist = numpy.zeros(N)\n",
      "zhist[0] = z  "
     ],
     "language": "python",
     "metadata": {},
     "outputs": []
    },
    {
     "cell_type": "code",
     "collapsed": false,
     "input": [
      "# time-loop using Euler's method\n",
      "for n in range(N-1):\n",
      "    U = U + dt*numpy.array( [U[1],\n",
      "                          g*(1-U[0]/zt)])\n",
      "    zhist[n+1] = U[0]\n",
      "    if n == 100:\n",
      "        print 'gust stopped'\n",
      "        U[1] = 0"
     ],
     "language": "python",
     "metadata": {},
     "outputs": []
    },
    {
     "cell_type": "code",
     "collapsed": false,
     "input": [
      "plt.figure(figsize=(11,8))\n",
      "plt.ylim(0,150)\n",
      "plt.plot(t,zhist);"
     ],
     "language": "python",
     "metadata": {},
     "outputs": []
    },
    {
     "cell_type": "code",
     "collapsed": false,
     "input": [
      "zhist"
     ],
     "language": "python",
     "metadata": {},
     "outputs": []
    },
    {
     "cell_type": "heading",
     "level": 2,
     "metadata": {},
     "source": [
      "Discretization: Euler's method"
     ]
    },
    {
     "cell_type": "markdown",
     "metadata": {},
     "source": [
      "In this module we'll explore methods for approximately solving models like the one above.  In order to find an approxiate solution, we'll introduce a *grid* in time, with *grid points* $t_0, t_1, \\dots$ where $t_n = n \\Delta t$ and $\\Delta t$ is a small time increment (the *time step*).  The solution value at time $t_n$ is denoted by $\\theta_n$.\n",
      "\n",
      "The code below sets the final time `T` and the time increment `dt`. With those chosen, we calculate the number `N` of time steps that will be needed to reach the final time, and we initialize an array `t` containing all the discrete time values."
     ]
    },
    {
     "cell_type": "code",
     "collapsed": false,
     "input": [
      "T = 20.0\n",
      "dt = 0.01\n",
      "N = int(T/dt)\n",
      "t = numpy.linspace(0.0, T, N)"
     ],
     "language": "python",
     "metadata": {},
     "outputs": []
    },
    {
     "cell_type": "markdown",
     "metadata": {},
     "source": [
      "In order to solve the model numerically, we rewrite the single second-order differential equation as a pair of first-order equations.  We can do this by setting $\\omega(t) = \\theta'(t)$.  Then we have\n",
      "\n",
      "\\begin{align}\n",
      "\\theta'(t) & = \\omega(t) \\\\\n",
      "\\omega'(t) & = -\\sin(\\theta(t)) - \\mu \\omega(t).\n",
      "\\end{align}\n",
      "\n",
      "We can write this formally as\n",
      "\n",
      "$$u'(t) = f(u)$$\n",
      "\n",
      "if we define the vectors\n",
      "\n",
      "\\begin{align}\n",
      "u & = \\begin{pmatrix} \\theta \\\\ \\omega \\end{pmatrix} & f(u) & = \\begin{pmatrix} \\omega \\\\ -\\sin(\\theta) - \\mu \\omega \\end{pmatrix}.\n",
      "\\end{align}\n",
      "\n",
      "Notice that these equations tell us the slope of the functions $(\\theta, \\omega)$ in terms of the function values.  The simplest way to approximate the solution is to assume that the slope is constant.  That is, we make the approximation\n",
      "\n",
      "$$u(t + \\Delta t) = u(t) + \\Delta t u'(t) + {\\mathcal O}(\\Delta t^2) \\approx u(t) + \\Delta t f(u(t)).$$"
     ]
    },
    {
     "cell_type": "markdown",
     "metadata": {},
     "source": [
      "If we write $U_n$ to denote the approximate solution at time $t_n$:\n",
      "\n",
      "$$U_n \\approx u(t_n),$$\n",
      "\n",
      "then we can compute a sequence of approximate solutions by the formula\n",
      "\n",
      "$$U_{n+1} = U_n + \\Delta t f(U_n).$$\n",
      "\n",
      "This is known as **Euler's method** (sometimes as the **explicit Euler method** or **forward Euler method** to distinguish it from its implicit cousin whom we'll meet later).\n",
      "\n",
      "Written out fully for our model, Euler's method is\n",
      "\n",
      "\\begin{align}\n",
      "\\theta_{n+1} & = \\theta_n + \\Delta t \\omega_n \\\\\n",
      "\\omega_{n+1} & = \\omega_n + \\Delta t \\left(-\\sin(\\theta_n) - \\mu \\omega_n\\right).\n",
      "\\end{align}"
     ]
    },
    {
     "cell_type": "markdown",
     "metadata": {},
     "source": [
      "Type the code from the cells below into your own notebook, to use Euler's method to model the pendulum."
     ]
    },
    {
     "cell_type": "markdown",
     "metadata": {},
     "source": [
      "Let's set up the problem. We need to choose values for the model parameters: the friction coefficient, $\\mu$; the initial angle, $\\theta_0$ and the initial angular velocity, $\\omega_0$. Then we initialize an array that we'll use later on to hold the angle values at different times. "
     ]
    },
    {
     "cell_type": "code",
     "collapsed": false,
     "input": [
      "mu = 0.1          # friction coefficient\n",
      "\n",
      "# initial conditions\n",
      "theta0 = numpy.pi/4  # initial angle\n",
      "omega0 = 0.       # initial angular velocity\n",
      "\n",
      "U = numpy.array([theta0, omega0])\n",
      "\n",
      "# initialize an array to hold the changing angle values\n",
      "theta = numpy.zeros(N)\n",
      "theta[0] = theta0     # first element filled with initial condition"
     ],
     "language": "python",
     "metadata": {},
     "outputs": []
    },
    {
     "cell_type": "markdown",
     "metadata": {},
     "source": [
      "Now we'll march in time, using Euler's method:"
     ]
    },
    {
     "cell_type": "code",
     "collapsed": false,
     "input": [
      "# time-loop using Euler's method\n",
      "for n in range(N-1):\n",
      "    U = U + dt*numpy.array( [U[1],\n",
      "                          -numpy.sin(U[0])-mu*U[1]])\n",
      "    theta[n+1] = U[0]"
     ],
     "language": "python",
     "metadata": {},
     "outputs": []
    },
    {
     "cell_type": "markdown",
     "metadata": {},
     "source": [
      "Finally, let's plot the solution that we obtained for the angle $\\theta$ as a function of time."
     ]
    },
    {
     "cell_type": "code",
     "collapsed": false,
     "input": [
      "# plot the angle as a function of time\n",
      "rcParams.update({'font.size': 14})  # to make our labels more legible\n",
      "plt.figure(figsize=(10, 6))\n",
      "plt.grid(True)\n",
      "plt.xlabel('$t$')\n",
      "plt.ylabel(r'$\\theta$')\n",
      "plt.plot(t, theta);"
     ],
     "language": "python",
     "metadata": {},
     "outputs": []
    },
    {
     "cell_type": "heading",
     "level": 4,
     "metadata": {},
     "source": [
      "Challenge questions"
     ]
    },
    {
     "cell_type": "markdown",
     "metadata": {},
     "source": [
      "1. Based on your physical understanding, what should be the long-term behavior of the pendulum?\n",
      "2. Change the final time $T$ above to a much larger value.  Does the model behave as you predicted?\n",
      "3. Experiment with different values for $\\Delta t$ and $\\mu$.  Can you find any values for which the pendulum behaves in a non-physical way?"
     ]
    },
    {
     "cell_type": "heading",
     "level": 2,
     "metadata": {},
     "source": [
      "Linearization"
     ]
    },
    {
     "cell_type": "markdown",
     "metadata": {},
     "source": [
      "Do you recall the Taylor series for the sine function?  We can compute it using the Python package SymPy:"
     ]
    },
    {
     "cell_type": "code",
     "collapsed": false,
     "input": [
      "import sympy                     # Load the package\n",
      "sympy.init_printing()             # This makes the output look pretty\n",
      "thet = sympy.symbols('theta')   # Define a symbol, but don't override our variable theta\n",
      "\n",
      "sympy.series(sympy.sin(thet))"
     ],
     "language": "python",
     "metadata": {},
     "outputs": []
    },
    {
     "cell_type": "markdown",
     "metadata": {},
     "source": [
      "By taking just the first term, we have $$\\sin(\\theta) \\approx \\theta.$$  Under this approximation, our model becomes\n",
      "\n",
      "$$\\theta''(t) = - \\theta(t) - \\mu \\theta'(t).$$"
     ]
    },
    {
     "cell_type": "heading",
     "level": 5,
     "metadata": {},
     "source": [
      "Exercise"
     ]
    },
    {
     "cell_type": "markdown",
     "metadata": {},
     "source": [
      "With pencil and paper, write this as a first-order system and write down the discretization of it with Euler's method.  Then modify the code in your notebook to solve the linearized model."
     ]
    },
    {
     "cell_type": "code",
     "collapsed": false,
     "input": [
      "# initial conditions\n",
      "U = numpy.array([theta0,omega0])\n",
      "\n",
      "# initialize an array to hold the changing angle values\n",
      "theta = numpy.zeros(N)\n",
      "theta[0] = U[0]     # first element filled with initial condition\n",
      "\n",
      "# time loop\n",
      "for n in range(N-1):\n",
      "    ### modify to solve the linearized model ###\n",
      "    U = U + dt*numpy.array( [U[1], -U[0]-mu*U[1]])\n",
      "    \n",
      "    theta[n+1] = U[0]    # store the angle at time-step n+1\n",
      "\n",
      "# plot the angle as a function of time\n",
      "rcParams.update({'font.size': 14})  # to make our labels more legible\n",
      "plt.figure(figsize=(10, 6))\n",
      "plt.grid(True)\n",
      "plt.xlabel('$t$')\n",
      "plt.ylabel(r'$\\theta$')\n",
      "plt.plot(t, theta);"
     ],
     "language": "python",
     "metadata": {},
     "outputs": []
    },
    {
     "cell_type": "heading",
     "level": 2,
     "metadata": {},
     "source": [
      "Exact solution"
     ]
    },
    {
     "cell_type": "markdown",
     "metadata": {},
     "source": [
      "It's possible to work out the exact solution for our linearized pendulum model.  It turns out to have the form\n",
      "\n",
      "$$\\theta(t) = \\exp\\left(-\\frac{\\mu}{2} t\\right) \\left( B \\cos(\\gamma t) + C \\sin(\\gamma t) \\right),$$\n",
      "\n",
      "where \n",
      "\n",
      "$$\\gamma = \\sqrt{1 - \\frac{\\mu^2}{4}}$$\n",
      "\n",
      "and $B,C$ are determined from the initial conditions.  So far we've been using an initially stationary pendulum, i.e. $\\theta'(0)=0$."
     ]
    },
    {
     "cell_type": "heading",
     "level": 5,
     "metadata": {},
     "source": [
      "Exercise"
     ]
    },
    {
     "cell_type": "markdown",
     "metadata": {},
     "source": [
      "1. Determine values for $B$ and $C$ in terms of $\\theta_0, \\omega_0, \\mu$, and $\\gamma$.\n",
      "\n",
      "2.  In your notebook, program the exact solution and plot it together with your approximate solution.  How accurate is your solution?"
     ]
    },
    {
     "cell_type": "code",
     "collapsed": false,
     "input": [
      "### set the coefficients of the analytical solution ###\n",
      "gamma = numpy.sqrt(1.0-mu**2/4.0)\n",
      "B = theta0\n",
      "C = 1./gamma*(omega0+mu/2*B)\n",
      "\n",
      "# compute the analytical solution using Numpy functions exp(), cos() and sin() \n",
      "### to be implemented ###\n",
      "theta_exact = numpy.exp(-0.5*mu*t)*(B*numpy.cos(gamma*t)+C*numpy.sin(gamma*t))"
     ],
     "language": "python",
     "metadata": {},
     "outputs": []
    },
    {
     "cell_type": "code",
     "collapsed": false,
     "input": [
      "# plot the numerical and analytical solutions anf the angle\n",
      "rcParams.update({'font.size': 14})  # to make our labels more legible\n",
      "plt.figure(figsize=(10, 6))\n",
      "plt.grid(True)\n",
      "plt.xlabel(r'$t$')\n",
      "plt.ylabel(r'$\\theta$')\n",
      "plt.plot(t, theta, 'b-')\n",
      "plt.plot(t, theta_exact, 'r-')\n",
      "plt.legend(['numerical', 'analytical'], loc='best');"
     ],
     "language": "python",
     "metadata": {},
     "outputs": []
    },
    {
     "cell_type": "heading",
     "level": 2,
     "metadata": {},
     "source": [
      "Convergence"
     ]
    },
    {
     "cell_type": "markdown",
     "metadata": {},
     "source": [
      "We say that a numerical method is **convergent** if the approximate solution tends to the exact solution as the **mesh spacing** ($\\Delta t$) tends to zero.  To make this statement precise, we need to compare the solutions in some norm, such as the $L_1$ norm.  We can define the error as\n",
      "\n",
      "$$ E = \\Delta t \\sum_{n=0}^N \\left|\\theta(t_n) - \\theta_n\\right|.$$"
     ]
    },
    {
     "cell_type": "heading",
     "level": 4,
     "metadata": {},
     "source": [
      "Challenge question:"
     ]
    },
    {
     "cell_type": "markdown",
     "metadata": {},
     "source": [
      "Why does the factor $\\Delta t$ appear in the definition above?"
     ]
    },
    {
     "cell_type": "heading",
     "level": 5,
     "metadata": {},
     "source": [
      "Exercise"
     ]
    },
    {
     "cell_type": "markdown",
     "metadata": {},
     "source": [
      "Using a `for`-loop, we are going to solve the equation using different time-increments. It will alow us to study how the error varies as we reduce $\\Delta t$. \n",
      "\n",
      "In the cell below, the variable `dt_values` contains the different time-increments for which the numerical solution of the linearized pendulum will be computed. For each time-increment, the numerical solution is stored in the `Numpy` array `theta_values`.\n",
      "\n",
      "Fill the cell below, discretizing the time using `Numpy` function ['linspace()'](http://docs.scipy.org/doc/numpy/reference/generated/numpy.linspace.html) and implement the Euler's scheme to compute the solution at the next time-step."
     ]
    },
    {
     "cell_type": "code",
     "collapsed": false,
     "input": [
      "# time-increment array\n",
      "dt_values = numpy.array([0.1, 0.05, 0.01, 0.005, 0.001, 0.0001])\n",
      "\n",
      "# array that will contain solution of each grid\n",
      "theta_values = numpy.empty_like(dt_values, dtype=numpy.ndarray)\n",
      "\n",
      "for i, dt in enumerate(dt_values):\n",
      "    N = int(T/dt)    # number of time-steps\n",
      "    ### discretize the time using numpy.linspace() ###\n",
      "    t = numpy.linspace(0.0, T, N)\n",
      "\n",
      "    # initial conditions\n",
      "    U = numpy.array([theta0, omega0])\n",
      "    theta = numpy.empty_like(t)\n",
      "    theta[0] = theta0\n",
      "    \n",
      "    # time loop - Euler method\n",
      "    for n in range(N-1):\n",
      "        ### compute next solution using Euler method ###\n",
      "        U = U + dt*numpy.array( [U[1], -U[0]-mu*U[1]])\n",
      "        \n",
      "        theta[n+1] = U[0]    # store the angle at time-step n+1\n",
      "    \n",
      "    theta_values[i] = theta    # store the angle over the time for grid i"
     ],
     "language": "python",
     "metadata": {},
     "outputs": []
    },
    {
     "cell_type": "markdown",
     "metadata": {},
     "source": [
      "So far, we have computed the analytical solution, and the numerical solution for different time-increments. We can now, compute the error, relative to the analytical solution, using the $L_1$-norm. Implement the code to compute the error in the function `get_error()` pre-defined in the cell below."
     ]
    },
    {
     "cell_type": "code",
     "collapsed": false,
     "input": [
      "def get_error(theta, theta_exact, dt):\n",
      "    \"\"\"Returns the error relative to analytical solution using L-1 norm.\n",
      "    \n",
      "    Arguments\n",
      "    ---------\n",
      "    theta -- numerical solution.\n",
      "    theta_exact -- analytical solution.\n",
      "    dt -- time increment.\n",
      "    \"\"\"\n",
      "    ### to be implemented ###\n",
      "    N = len(theta)\n",
      "    t = numpy.linspace(0.0, T, N)\n",
      "    theta_exact = numpy.exp(-0.5*mu*t)*(B*numpy.cos(gamma*t)+C*numpy.sin(gamma*t))\n",
      "    return dt * numpy.sum(numpy.abs(theta-theta_exact))"
     ],
     "language": "python",
     "metadata": {},
     "outputs": []
    },
    {
     "cell_type": "markdown",
     "metadata": {},
     "source": [
      "For each grid, call the function `get_error()` to compute the $L_1$-norm error."
     ]
    },
    {
     "cell_type": "code",
     "collapsed": false,
     "input": [
      "error_values = numpy.empty_like(dt_values)\n",
      "\n",
      "for i, dt in enumerate(dt_values):\n",
      "    ### call the function get_error() ###\n",
      "    error_values[i] = get_error(theta, theta_exact, dt)"
     ],
     "language": "python",
     "metadata": {},
     "outputs": []
    },
    {
     "cell_type": "markdown",
     "metadata": {},
     "source": [
      "Time to plot the rate of convergence in a *log-log* graph using the `matplotlib` function [`loglog()`](http://matplotlib.org/api/pyplot_api.html?highlight=loglog#matplotlib.pyplot.loglog)."
     ]
    },
    {
     "cell_type": "code",
     "collapsed": false,
     "input": [
      "plt.figure(figsize=(6, 6))\n",
      "plt.grid(True)\n",
      "plt.xlabel(r'$\\Delta t$')\n",
      "plt.ylabel(r'Error')\n",
      "plt.loglog(dt_values, error_values, 'bo-')\n",
      "plt.axis('equal');"
     ],
     "language": "python",
     "metadata": {},
     "outputs": []
    },
    {
     "cell_type": "markdown",
     "metadata": {},
     "source": [
      "Study how the error varies as you reduce $\\Delta t$. Is the method convergent?"
     ]
    },
    {
     "cell_type": "heading",
     "level": 2,
     "metadata": {},
     "source": [
      "Sources of error"
     ]
    },
    {
     "cell_type": "markdown",
     "metadata": {},
     "source": [
      "The error we have just studied is referred to as **discretization error**, since it arises when we take the continuous ODE model and reduce it to a discrete model that can be solved by a computer.  Relative to our original problem (the nonlinear pendulum) we also have the error introduced by linearizing the model.  This error is referred to as **modelling error**, since it is caused by a simplification in the model.\n",
      "\n",
      "**Extra credit**: Quantify the modelling error by computing a numerical solution of the nonlinear model, with a very small $\\Delta t$ and comparing that to your numerical solution of the linear model (with a more reasonable $\\Delta t$).  Can you determine how much of the overall error is due to modelling, and how much is due to discretization?"
     ]
    }
   ],
   "metadata": {}
  }
 ]
}