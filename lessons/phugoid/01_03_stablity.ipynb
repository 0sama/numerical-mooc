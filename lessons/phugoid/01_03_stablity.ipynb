{
 "metadata": {
  "name": "",
  "signature": "sha256:daf225e211c8e5215ea3c06c043cf0739beafbf4c0eb4c3ff1c22f5b1b9c32b9"
 },
 "nbformat": 3,
 "nbformat_minor": 0,
 "worksheets": [
  {
   "cells": [
    {
     "cell_type": "markdown",
     "metadata": {},
     "source": [
      "$$\n",
      "\\newcommand{\\vr}{\\mathbf r}\n",
      "\\newcommand{\\dt}{\\Delta t}\n",
      "$$"
     ]
    },
    {
     "cell_type": "code",
     "collapsed": false,
     "input": [
      "from IPython.core.display import HTML\n",
      "css_file = './example.css'\n",
      "HTML(open(css_file, \"r\").read())"
     ],
     "language": "python",
     "metadata": {},
     "outputs": [
      {
       "html": [
        "<link href='http://fonts.googleapis.com/css?family=Alegreya+Sans:100,300,400,500,700,800,900,100italic,300italic,400italic,500italic,700italic,800italic,900italic' rel='stylesheet' type='text/css'>\n",
        "<link href='http://fonts.googleapis.com/css?family=Arvo:400,700,400italic' rel='stylesheet' type='text/css'>\n",
        "<link href='http://fonts.googleapis.com/css?family=PT+Mono' rel='stylesheet' type='text/css'>\n",
        "<link href='http://fonts.googleapis.com/css?family=Shadows+Into+Light' rel='stylesheet' type='text/css'>\n",
        "<link href='http://fonts.googleapis.com/css?family=Philosopher:400,700,400italic,700italic' rel='stylesheet' type='text/css'>\n",
        "\n",
        "<style>\n",
        "\n",
        "@font-face {\n",
        "    font-family: \"Computer Modern\";\n",
        "    src: url('http://mirrors.ctan.org/fonts/cm-unicode/fonts/otf/cmunss.otf');\n",
        "}\n",
        "\n",
        "#notebook_panel { /* main background */\n",
        "    background: #888;\n",
        "    color: #f6f6f6;\n",
        "}\n",
        "\n",
        "div.cell { /* set cell width to about 80 chars */\n",
        "    width: 800px;\n",
        "}\n",
        "\n",
        "div #notebook { /* centre the content */\n",
        "    background: #fff; /* white background for content */\n",
        "    width: 1000px;\n",
        "    margin: auto;\n",
        "    padding-left: 1em;\n",
        "}\n",
        "\n",
        "#notebook li { /* More space between bullet points */\n",
        "margin-top:0.8em;\n",
        "}\n",
        "\n",
        "/* draw border around running cells */\n",
        "div.cell.border-box-sizing.code_cell.running { \n",
        "    border: 3px solid #111;\n",
        "}\n",
        "\n",
        "/* Put a solid color box around each cell and its output, visually linking them together */\n",
        "div.cell.code_cell {\n",
        "    background-color: rgba(171,165,131,1.0); \n",
        "    border-radius: 10px; /* rounded borders */\n",
        "    padding: 1em;\n",
        "    margin-top: 1em;\n",
        "}\n",
        "\n",
        "div.text_cell_render{\n",
        "    font-family: 'Arvo' sans-serif;\n",
        "    line-height: 130%;\n",
        "    font-size: 115%;\n",
        "    width:700px;\n",
        "    margin-left:auto;\n",
        "    margin-right:auto;\n",
        "}\n",
        "\n",
        "\n",
        "/* Formatting for header cells */\n",
        ".text_cell_render h1 {\n",
        "    font-family: 'Philosopher', sans-serif;\n",
        "    font-weight: 400;\n",
        "    font-size: 40pt;\n",
        "    line-height: 100%;\n",
        "    color: rgb(12,85,97);\n",
        "    margin-bottom: 0.1em;\n",
        "    margin-top: 0.1em;\n",
        "    display: block;\n",
        "}\t\n",
        ".text_cell_render h2 {\n",
        "    font-family: 'Philosopher', serif;\n",
        "    font-weight: 700;\n",
        "    font-size: 24pt;\n",
        "    line-height: 100%;\n",
        "    color: rgb(171,165,131);\n",
        "    margin-bottom: 0.1em;\n",
        "    margin-top: 0.1em;\n",
        "    display: block;\n",
        "}\t\n",
        "\n",
        ".text_cell_render h3 {\n",
        "    font-family: 'Philosopher', serif;\n",
        "    margin-top:12px;\n",
        "    margin-bottom: 3px;\n",
        "    font-style: italic;\n",
        "    color: rgb(95,92,72);\n",
        "}\n",
        "\n",
        ".text_cell_render h4 {\n",
        "    font-family: 'Philosopher', serif;\n",
        "}\n",
        "\n",
        ".text_cell_render h5 {\n",
        "    font-family: 'Alegreya Sans', sans-serif;\n",
        "    font-weight: 300;\n",
        "    font-size: 16pt;\n",
        "    color: grey;\n",
        "    font-style: italic;\n",
        "    margin-bottom: .1em;\n",
        "    margin-top: 0.1em;\n",
        "    display: block;\n",
        "}\n",
        "\n",
        ".text_cell_render h6 {\n",
        "    font-family: 'PT Mono', sans-serif;\n",
        "    font-weight: 300;\n",
        "    font-size: 10pt;\n",
        "    color: grey;\n",
        "    margin-bottom: 1px;\n",
        "    margin-top: 1px;\n",
        "}\n",
        "\n",
        ".CodeMirror{\n",
        "        font-family: \"PT Mono\";\n",
        "        font-size: 100%;\n",
        "}\n",
        "\n",
        "</style>\n"
       ],
       "metadata": {},
       "output_type": "pyout",
       "prompt_number": 1,
       "text": [
        "<IPython.core.display.HTML at 0x1023a1710>"
       ]
      }
     ],
     "prompt_number": 1
    },
    {
     "cell_type": "heading",
     "level": 1,
     "metadata": {},
     "source": [
      "Stability"
     ]
    },
    {
     "cell_type": "markdown",
     "metadata": {},
     "source": [
      "In previous notebooks, we've solved models numerically, but you may have noticed that in certain situations the numerical solution is completely wrong.  Today we'll learn why."
     ]
    },
    {
     "cell_type": "heading",
     "level": 2,
     "metadata": {},
     "source": [
      "The harmonic oscillator"
     ]
    },
    {
     "cell_type": "markdown",
     "metadata": {},
     "source": [
      "Let's go back to the simplest model we've considered: the linearized pendulum.  To make things even simpler, we'll even neglect friction by setting $\\mu=0$:\n",
      "\n",
      "$$\\theta''(t) = - \\theta.$$\n",
      "\n",
      "It's easy to show that the solutions of this equation have the form\n",
      "\n",
      "$$\\theta(t) = B \\sin(\\theta) + C \\cos(\\theta),$$\n",
      "\n",
      "where $B$ and $C$ are constants depending on the initial data.  Notice that the solution oscillates forever.\n",
      "\n",
      "Now compute the solution to this equation with Euler's method.  Use a time step of $\\dt=0.1$ and compute the solution over at least several periods.  Then try computing up to $T=1000$.  What do you observe?  Discuss your findings with someone nearby."
     ]
    },
    {
     "cell_type": "code",
     "collapsed": false,
     "input": [
      "import numpy as np\n",
      "%matplotlib inline\n",
      "import matplotlib.pyplot as plt"
     ],
     "language": "python",
     "metadata": {},
     "outputs": [],
     "prompt_number": 14
    },
    {
     "cell_type": "code",
     "collapsed": false,
     "input": [
      "def f(U):\n",
      "    return np.array( [U[1],\n",
      "                      -U[0]] )\n",
      "\n",
      "def Euler_step(U,dt):\n",
      "    return U + dt*f(U)\n",
      "\n",
      "theta0 = np.pi/4\n",
      "omega0 = 0.\n",
      "U = np.array([theta0,omega0])\n",
      "\n",
      "T = 1000.0\n",
      "dt = 0.1\n",
      "N = int(T/dt)\n",
      "t = np.linspace(0,T,N+1)\n",
      "\n",
      "theta = np.zeros(N+1)\n",
      "theta[0] = U[0]\n",
      "\n",
      "for n in range(N):\n",
      "    U = Euler_step(U,dt)\n",
      "    theta[n+1] = U[0]\n",
      "    \n",
      "plt.plot(t,theta);"
     ],
     "language": "python",
     "metadata": {},
     "outputs": [
      {
       "metadata": {},
       "output_type": "display_data",
       "png": "[encoded data removed]",
       "text": [
        "<matplotlib.figure.Figure at 0x108844790>"
       ]
      }
     ],
     "prompt_number": 15
    },
    {
     "cell_type": "heading",
     "level": 2,
     "metadata": {},
     "source": [
      "Absolute stability"
     ]
    },
    {
     "cell_type": "markdown",
     "metadata": {},
     "source": [
      "*Should we explain this in the notebook, or just in a video?*\n",
      "\n",
      "The problem with the numerical solution in this case is that the local errors are getting amplified at each subsequent step.  Let's see why.  Writing the linearized, undamped pendulum as a first-order system gives\n",
      "\n",
      "\\begin{align}\n",
      "\\begin{pmatrix} \\theta'(t) \\\\ \\omega'(t) \\end{pmatrix} & = \\begin{pmatrix} 0 & 1 \\\\ -1 & 0 \\end{pmatrix} \\begin{pmatrix} \\theta(t) \\\\ \\omega(t) \\end{pmatrix}\n",
      "\\end{align}\n",
      "\n",
      "We'll write this as simply\n",
      "\n",
      "$$u'(t) = A u(t)$$\n",
      "\n",
      "for short.  Then Euler's method says\n",
      "\n",
      "$$U_{n+1} = U_n + \\dt A U_n = (I + \\dt A) U_n,$$\n",
      "\n",
      "so at each step we're simply multiplying the current solution by the matrix $I+\\dt A$.  If this matrix has any eigenvalues larger than unity, then $U_n$ will keep growing as $n$ grows.  In fact, the global error satisfies a similar equation and will also grow at each step if $I + \\dt A$ has any eigenvalues of modulus larger than one."
     ]
    },
    {
     "cell_type": "heading",
     "level": 5,
     "metadata": {},
     "source": [
      "Exercise"
     ]
    },
    {
     "cell_type": "markdown",
     "metadata": {},
     "source": [
      "Work out the eigenvalues of the matrix $I + \\dt A$.  For what values of $\\dt$ will the solution blow up?  Do your observations match this prediction?"
     ]
    },
    {
     "cell_type": "heading",
     "level": 2,
     "metadata": {},
     "source": [
      "Absolute stability"
     ]
    },
    {
     "cell_type": "markdown",
     "metadata": {},
     "source": [
      "There's a nice way of generalizing what we just did to other methods and other equations.  If we apply Euler's method to the simple test equation\n",
      "\n",
      "$$u'(t) = \\lambda u(t)$$\n",
      "\n",
      "where $\\lambda$ is a (possibly complex) constant, we obtain the iteration\n",
      "\n",
      "$$U_{n+1} = U_n + \\dt \\lambda U_n = (1+ \\dt \\lambda) U_n = (1+z)U_n$$\n",
      "\n",
      "where we have defined\n",
      "\n",
      "$$ z = \\dt \\lambda.$$"
     ]
    },
    {
     "cell_type": "markdown",
     "metadata": {},
     "source": [
      "The both the solution $U_n$ and the error will be amplified at each step if $|1+z|>1$.  On the other hand, if $|1+z|\\le 1$, then the solution remains bounded and we say the computation is **absolutely stable**.  The function $1+z$ is called the **stability function** for Euler's method, and we often denote it by $R(z)$.  The stability function for any one-step method can be obtained in the same way: apply the method to the scalar test equation and write the result in the form\n",
      "\n",
      "$$U_{n+1} = R(z) U_n.$$\n",
      "\n",
      "The **region of absolute stability** is defined as the set of values of $z$ for which the computation is absolutely stable:\n",
      "\n",
      "$$ S = \\{z \\in {\\mathbb C} : |R(z)| \\le 1 \\}.$$\n",
      "\n",
      "We can plot the region of absolute stability for Euler's method as follows."
     ]
    },
    {
     "cell_type": "code",
     "collapsed": false,
     "input": [
      "bnd = 3\n",
      "x = np.linspace(-bnd,bnd)\n",
      "y = np.linspace(-bnd,bnd)\n",
      "X, Y = np.meshgrid(x,y)\n",
      "Z = X + 1j*Y\n",
      "R = np.abs(1.+Z)\n",
      "plt.contour(X,Y,R,[1,1])\n",
      "plt.axis('image')\n",
      "plt.plot([0,0],[-bnd,bnd],'--k')\n",
      "plt.plot([-bnd,bnd],[0,0],'--k')"
     ],
     "language": "python",
     "metadata": {},
     "outputs": [
      {
       "metadata": {},
       "output_type": "pyout",
       "prompt_number": 31,
       "text": [
        "[<matplotlib.lines.Line2D at 0x1095e1d90>]"
       ]
      },
      {
       "metadata": {},
       "output_type": "display_data",
       "png": "[encoded data removed]",
       "text": [
        "<matplotlib.figure.Figure at 0x10af55ad0>"
       ]
      }
     ],
     "prompt_number": 31
    },
    {
     "cell_type": "heading",
     "level": 5,
     "metadata": {},
     "source": [
      "Exercise"
     ]
    },
    {
     "cell_type": "markdown",
     "metadata": {},
     "source": [
      "What is the stability function for the midpoint Runge-Kutta method?  What does its stability region look like?"
     ]
    },
    {
     "cell_type": "heading",
     "level": 2,
     "metadata": {},
     "source": [
      "Stability analysis"
     ]
    },
    {
     "cell_type": "markdown",
     "metadata": {},
     "source": [
      "Now, what does absolute stability have to do with the undamped pendulum solution blowing up?  For a system of equations\n",
      "\n",
      "$$u'(t) = Au(t),$$\n",
      "\n",
      "the numerical solution will be stable if $z=\\lambda \\dt$ lies inside the region of absolute stability for each eigenvalue $\\lambda$ of the matrix $A$."
     ]
    },
    {
     "cell_type": "heading",
     "level": 5,
     "metadata": {},
     "source": [
      "Exercise"
     ]
    },
    {
     "cell_type": "markdown",
     "metadata": {},
     "source": [
      "Work out the eigenvalues of $A$ for the undamped pendulum.  Show that they lie outside of the absolute stability region of Euler's method for any choice of $\\dt$."
     ]
    },
    {
     "cell_type": "heading",
     "level": 5,
     "metadata": {},
     "source": [
      "Exercise"
     ]
    },
    {
     "cell_type": "markdown",
     "metadata": {},
     "source": [
      "Work out the eigenvalues of $A$ for the *damped* pendulum.  Determine the range of step sizes that are absolutely stable for a given value of $\\mu$."
     ]
    },
    {
     "cell_type": "heading",
     "level": 2,
     "metadata": {},
     "source": [
      "Stability for nonlinear problems"
     ]
    },
    {
     "cell_type": "markdown",
     "metadata": {},
     "source": [
      "The study of numerical stability for nonlinear problems is in general more difficult.  However, there is a simple approach that usually gives accurate guidance.\n",
      "\n",
      "For the nonlinear system of first-order ODEs\n",
      "\n",
      "$$u'(t) = f(u),$$\n",
      "\n",
      "let $J(u) = f'(u)$ denote the Jacobian matrix.  Typically, if the eigenvalues of $J(u)$ lie inside the region of absolute stability for all values of $u$ occurring in the problem, then the computation will be stable (and conversely, it will often be unstable if they do not)."
     ]
    },
    {
     "cell_type": "heading",
     "level": 5,
     "metadata": {},
     "source": [
      "Exercise"
     ]
    },
    {
     "cell_type": "markdown",
     "metadata": {},
     "source": [
      "Determine the eigenvalues of the Jacobian for the phugoid model.  How should the time step be chosen so that the computation is absolutely stable?  Notice that this will depend on the drag coefficient."
     ]
    },
    {
     "cell_type": "code",
     "collapsed": false,
     "input": [],
     "language": "python",
     "metadata": {},
     "outputs": []
    }
   ],
   "metadata": {}
  }
 ]
}