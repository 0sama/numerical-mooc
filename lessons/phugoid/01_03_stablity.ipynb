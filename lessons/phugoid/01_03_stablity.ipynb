{
 "metadata": {
  "name": "",
  "signature": "sha256:dd096b680c687526e577a178ec60bca7d7be7cacb42c9fc720cc8b814fe80ef9"
 },
 "nbformat": 3,
 "nbformat_minor": 0,
 "worksheets": [
  {
   "cells": [
    {
     "cell_type": "markdown",
     "metadata": {},
     "source": [
      "$$\n",
      "\\newcommand{\\vr}{\\mathbf r}\n",
      "\\newcommand{\\dt}{\\Delta t}\n",
      "$$"
     ]
    },
    {
     "cell_type": "code",
     "collapsed": false,
     "input": [
      "from IPython.core.display import HTML\n",
      "css_file = './example.css'\n",
      "HTML(open(css_file, \"r\").read())"
     ],
     "language": "python",
     "metadata": {},
     "outputs": [
      {
       "html": [
        "<link href='http://fonts.googleapis.com/css?family=Alegreya+Sans:100,300,400,500,700,800,900,100italic,300italic,400italic,500italic,700italic,800italic,900italic' rel='stylesheet' type='text/css'>\n",
        "<link href='http://fonts.googleapis.com/css?family=Arvo:400,700,400italic' rel='stylesheet' type='text/css'>\n",
        "<link href='http://fonts.googleapis.com/css?family=PT+Mono' rel='stylesheet' type='text/css'>\n",
        "<link href='http://fonts.googleapis.com/css?family=Shadows+Into+Light' rel='stylesheet' type='text/css'>\n",
        "<link href='http://fonts.googleapis.com/css?family=Philosopher:400,700,400italic,700italic' rel='stylesheet' type='text/css'>\n",
        "\n",
        "<style>\n",
        "\n",
        "@font-face {\n",
        "    font-family: \"Computer Modern\";\n",
        "    src: url('http://mirrors.ctan.org/fonts/cm-unicode/fonts/otf/cmunss.otf');\n",
        "}\n",
        "\n",
        "#notebook_panel { /* main background */\n",
        "    background: #888;\n",
        "}\n",
        "\n",
        "div.cell { /* set cell width to about 80 chars */\n",
        "    width: 800px;\n",
        "}\n",
        "\n",
        "div #notebook { /* centre the content */\n",
        "    background: #fff; /* white background for content */\n",
        "    width: 1000px;\n",
        "    margin: auto;\n",
        "    padding-left: 1em;\n",
        "}\n",
        "\n",
        "#notebook li { /* More space between bullet points */\n",
        "margin-top:0.8em;\n",
        "}\n",
        "\n",
        "/* draw border around running cells */\n",
        "div.cell.border-box-sizing.code_cell.running { \n",
        "    border: 3px solid #111;\n",
        "}\n",
        "\n",
        "/* Put a solid color box around each cell and its output, visually linking them together */\n",
        "div.cell.code_cell {\n",
        "    background-color: rgba(240,240,230,1.0); \n",
        "    border-radius: 10px; /* rounded borders */\n",
        "    padding: 1em;\n",
        "    margin-top: 1em;\n",
        "}\n",
        "\n",
        "div.text_cell_render{\n",
        "    font-family: 'Alegreya Sans' sans-serif;\n",
        "    line-height: 140%;\n",
        "    font-size: 135%;\n",
        "    width:700px;\n",
        "    margin-left:auto;\n",
        "    margin-right:auto;\n",
        "}\n",
        "\n",
        "\n",
        "/* Formatting for header cells */\n",
        ".text_cell_render h1 {\n",
        "    font-family: 'Philosopher', sans-serif;\n",
        "    font-weight: 400;\n",
        "    font-size: 40pt;\n",
        "    line-height: 100%;\n",
        "    color: rgb(12,85,97);\n",
        "    margin-bottom: 0.1em;\n",
        "    margin-top: 0.1em;\n",
        "    display: block;\n",
        "}\t\n",
        ".text_cell_render h2 {\n",
        "    font-family: 'Philosopher', serif;\n",
        "    font-weight: 700;\n",
        "    font-size: 24pt;\n",
        "    line-height: 100%;\n",
        "    color: rgb(171,165,131);\n",
        "    margin-bottom: 0.1em;\n",
        "    margin-top: 0.1em;\n",
        "    display: block;\n",
        "}\t\n",
        "\n",
        ".text_cell_render h3 {\n",
        "    font-family: 'Philosopher', serif;\n",
        "    margin-top:12px;\n",
        "    margin-bottom: 3px;\n",
        "    font-style: italic;\n",
        "    color: rgb(95,92,72);\n",
        "}\n",
        "\n",
        ".text_cell_render h4 {\n",
        "    font-family: 'Philosopher', serif;\n",
        "}\n",
        "\n",
        ".text_cell_render h5 {\n",
        "    font-family: 'Alegreya Sans', sans-serif;\n",
        "    font-weight: 300;\n",
        "    font-size: 16pt;\n",
        "    color: grey;\n",
        "    font-style: italic;\n",
        "    margin-bottom: .1em;\n",
        "    margin-top: 0.1em;\n",
        "    display: block;\n",
        "}\n",
        "\n",
        ".text_cell_render h6 {\n",
        "    font-family: 'PT Mono', sans-serif;\n",
        "    font-weight: 300;\n",
        "    font-size: 10pt;\n",
        "    color: grey;\n",
        "    margin-bottom: 1px;\n",
        "    margin-top: 1px;\n",
        "}\n",
        "\n",
        ".CodeMirror{\n",
        "        font-family: \"PT Mono\";\n",
        "        font-size: 100%;\n",
        "}\n",
        "\n",
        "</style>\n"
       ],
       "metadata": {},
       "output_type": "pyout",
       "prompt_number": 1,
       "text": [
        "<IPython.core.display.HTML at 0x10239a590>"
       ]
      }
     ],
     "prompt_number": 1
    },
    {
     "cell_type": "code",
     "collapsed": false,
     "input": [
      "from math import *\n",
      "import numpy as np\n",
      "import matplotlib.pyplot as plt\n",
      "%matplotlib inline"
     ],
     "language": "python",
     "metadata": {},
     "outputs": [],
     "prompt_number": 2
    },
    {
     "cell_type": "heading",
     "level": 1,
     "metadata": {},
     "source": [
      "Stability"
     ]
    },
    {
     "cell_type": "markdown",
     "metadata": {},
     "source": [
      "In previous notebooks, we've solved models numerically, but you may have noticed that in certain situations the numerical solution is completely wrong.  Today we'll learn why."
     ]
    },
    {
     "cell_type": "heading",
     "level": 2,
     "metadata": {},
     "source": [
      "The harmonic oscillator"
     ]
    },
    {
     "cell_type": "markdown",
     "metadata": {},
     "source": [
      "Let's go back to the simplest model we've considered: the linearized pendulum.  To make things even simpler, we'll even neglect friction by setting $\\mu=0$:\n",
      "\n",
      "$$\\theta''(t) = - \\theta.$$\n",
      "\n",
      "It's easy to show that the solutions of this equation have the form\n",
      "\n",
      "$$\\theta(t) = B \\sin(\\theta) + C \\cos(\\theta),$$\n",
      "\n",
      "where $B$ and $C$ are constants depending on the initial data.  Notice that the solution oscillates forever.\n",
      "\n",
      "Now compute the solution to this equation with Euler's method.  Use a time step of $\\dt=0.1$ and compute the solution over at least several periods.  Then try computing up to $T=1000$.  What do you observe?  Discuss your findings with someone nearby."
     ]
    },
    {
     "cell_type": "code",
     "collapsed": false,
     "input": [
      "def f(u):\n",
      "    \"\"\"Returns the right hand-side of the system of equations.\n",
      "    \n",
      "    Arguments\n",
      "    ---------\n",
      "    u -- solution at time-step n.\n",
      "    \"\"\"\n",
      "    return np.array([u[1], -u[0]])"
     ],
     "language": "python",
     "metadata": {},
     "outputs": [],
     "prompt_number": 3
    },
    {
     "cell_type": "code",
     "collapsed": false,
     "input": [
      "def euler_step(u, f, dt):\n",
      "    \"\"\"Returns solution at time-step n+1 using Euler's method.\n",
      "    \n",
      "    Arguments\n",
      "    ---------\n",
      "    u -- solution at time-step n.\n",
      "    f -- function to compute right hand-side.\n",
      "    dt -- time-increment.\n",
      "    \"\"\"\n",
      "    return u + dt * f(u)"
     ],
     "language": "python",
     "metadata": {},
     "outputs": [],
     "prompt_number": 4
    },
    {
     "cell_type": "code",
     "collapsed": false,
     "input": [
      "T = 10.0                           # total time\n",
      "dt = 0.1                           # time-increment\n",
      "t = np.arange(0.0, T+dt/2, dt)     # time discretization\n",
      "N = len(t)                         # number of time-steps\n",
      "\n",
      "# initial conditions\n",
      "theta0 = 1.0\n",
      "omega0 = 1.0\n",
      "\n",
      "# array that contains solution at each time-step\n",
      "u = np.empty((N, 2))\n",
      "u[0] = np.array([theta0, omega0])    # fill 1st element with initial conditions\n",
      "\n",
      "# time loop - Euler's method\n",
      "for n in range(N-1):\n",
      "    u[n+1] = euler_step(u[n], f, dt)\n",
      "\n",
      "# get angle and angular velocity at each time-step\n",
      "theta = u[:,0]\n",
      "omega = u[:,1]\n",
      "\n",
      "# plot angle and angular velocity\n",
      "plt.figure(figsize=(10,6))\n",
      "plt.grid(True)\n",
      "plt.xlabel(r'$t$', fontsize=18)\n",
      "plt.ylabel(r'$\\theta, \\omega$', fontsize=18)\n",
      "plt.plot(t, theta, color='b', ls='-', lw=2)\n",
      "plt.plot(t, omega, color='r', ls='-', lw=2)\n",
      "plt.legend([r'angle $\\theta$', r'angular velocity $\\omega$'], \n",
      "           loc='best', prop={'size':18});"
     ],
     "language": "python",
     "metadata": {},
     "outputs": [
      {
       "metadata": {},
       "output_type": "display_data",
       "png": "[encoded data removed]",
       "text": [
        "<matplotlib.figure.Figure at 0x1062cbad0>"
       ]
      }
     ],
     "prompt_number": 5
    },
    {
     "cell_type": "heading",
     "level": 2,
     "metadata": {},
     "source": [
      "Absolute stability"
     ]
    },
    {
     "cell_type": "markdown",
     "metadata": {},
     "source": [
      "The problem with the numerical solution in this case is that the local errors are getting amplified at each subsequent step.  Let's see why.  Writing the linearized, undamped pendulum as a first-order system gives\n",
      "\n",
      "\\begin{align}\n",
      "\\begin{pmatrix} \\theta'(t) \\\\ \\omega'(t) \\end{pmatrix} & = \\begin{pmatrix} 0 & 1 \\\\ -1 & 0 \\end{pmatrix} \\begin{pmatrix} \\theta(t) \\\\ \\omega(t) \\end{pmatrix}\n",
      "\\end{align}\n",
      "\n",
      "We'll write this as simply\n",
      "\n",
      "$$u'(t) = A u(t)$$\n",
      "\n",
      "for short.  Then Euler's method says\n",
      "\n",
      "$$U_{n+1} = U_n + \\dt A U_n = (I + \\dt A) U_n,$$\n",
      "\n",
      "so at each step we're simply multiplying the current solution by the matrix $I+\\dt A$.  If this matrix has any eigenvalues larger than unity, then $U_n$ will keep growing as $n$ grows.  In fact, the global error satisfies a similar equation and will also grow at each step if $I + \\dt A$ has any eigenvalues of modulus larger than one."
     ]
    },
    {
     "cell_type": "heading",
     "level": 5,
     "metadata": {},
     "source": [
      "Exercise"
     ]
    },
    {
     "cell_type": "markdown",
     "metadata": {},
     "source": [
      "Work out the eigenvalues of the matrix $I + \\dt A$.  For what values of $\\dt$ will the solution blow up?  Do your observations match this prediction?"
     ]
    },
    {
     "cell_type": "heading",
     "level": 2,
     "metadata": {},
     "source": [
      "Absolute stability"
     ]
    },
    {
     "cell_type": "markdown",
     "metadata": {},
     "source": [
      "There's a nice way of generalizing what we just did to other methods and other equations.  If we apply Euler's method to the simple test equation\n",
      "\n",
      "$$u'(t) = \\lambda u(t)$$\n",
      "\n",
      "where $\\lambda$ is a (possibly complex) constant, we obtain the iteration\n",
      "\n",
      "$$U_{n+1} = U_n + \\dt \\lambda U_n = (1+ \\dt \\lambda) U_n = (1+z)U_n$$\n",
      "\n",
      "where we have defined\n",
      "\n",
      "$$ z = \\dt \\lambda.$$"
     ]
    },
    {
     "cell_type": "markdown",
     "metadata": {},
     "source": [
      "Both the solution $U_n$ and the error will be amplified at each step if $|1+z|>1$.  On the other hand, if $|1+z|\\le 1$, then the solution remains bounded and we say the computation is **absolutely stable**.  The function $1+z$ is called the **stability function** for Euler's method, and we often denote it by $R(z)$.  The stability function for any one-step method can be obtained in the same way: apply the method to the scalar test equation and write the result in the form\n",
      "\n",
      "$$U_{n+1} = R(z) U_n.$$\n",
      "\n",
      "The **region of absolute stability** is defined as the set of values of $z$ for which the computation is absolutely stable:\n",
      "\n",
      "$$ S = \\{z \\in {\\mathbb C} : |R(z)| \\le 1 \\}.$$\n",
      "\n",
      "We can plot the region of absolute stability for Euler's method as follows."
     ]
    },
    {
     "cell_type": "code",
     "collapsed": false,
     "input": [
      "# set up coordinates over [-3,3]x[-3,3] in the complex plane\n",
      "bnd = 3\n",
      "x = np.linspace(-bnd,bnd)\n",
      "y = np.linspace(-bnd,bnd)\n",
      "X, Y = np.meshgrid(x,y)   # create 2D coordinate arrays, just like MATLAB's meshgrid\n",
      "Z = X + 1j*Y              # create array of complex numbers x + iy\n",
      "R = np.abs(1.+Z)          # compute modulus of the stability function\n",
      "plt.contour(X,Y,R,[1,1])  # plot the contour where it is equal to 1\n",
      "\n",
      "# make the figure pretty\n",
      "plt.grid(True)\n",
      "plt.xlabel(r'real', fontsize=16)\n",
      "plt.ylabel(r'imaginary', fontsize=16)\n",
      "plt.axis('image')    # \u2018scaled\u2019 with the axis limits equal to the data limits\n",
      "plt.axvline(0.0, color='k', ls='--', lw=2)    # plot dotted line on real axis\n",
      "plt.axhline(0.0, color='k', ls='--', lw=2)    # plot dotted line on imaginary axis"
     ],
     "language": "python",
     "metadata": {},
     "outputs": [
      {
       "metadata": {},
       "output_type": "pyout",
       "prompt_number": 6,
       "text": [
        "<matplotlib.lines.Line2D at 0x1062b83d0>"
       ]
      },
      {
       "metadata": {},
       "output_type": "display_data",
       "png": "[encoded data removed]",
       "text": [
        "<matplotlib.figure.Figure at 0x1062cb650>"
       ]
      }
     ],
     "prompt_number": 6
    },
    {
     "cell_type": "heading",
     "level": 5,
     "metadata": {},
     "source": [
      "Exercise"
     ]
    },
    {
     "cell_type": "markdown",
     "metadata": {},
     "source": [
      "Determine the stability function for the midpoint Runge-Kutta method and plot its stability region."
     ]
    },
    {
     "cell_type": "code",
     "collapsed": false,
     "input": [
      "# set up coordinates over [-3,3]x[-3,3] in the complex plane\n",
      "bnd = 3\n",
      "x = np.linspace(-bnd,bnd)\n",
      "y = np.linspace(-bnd,bnd)\n",
      "X, Y = np.meshgrid(x,y)   # create 2D coordinate arrays, just like MATLAB's meshgrid\n",
      "Z = X + 1j*Y              # create array of complex numbers x + iy\n",
      "R = np.abs(1.+Z+0.5*Z**2) # compute modulus of the stability function\n",
      "plt.contour(X,Y,R,[1,1])  # plot the contour where it is equal to 1\n",
      "\n",
      "# make the figure pretty\n",
      "plt.grid(True)\n",
      "plt.xlabel(r'real', fontsize=16)\n",
      "plt.ylabel(r'imaginary', fontsize=16)\n",
      "plt.axis('image')    # \u2018scaled\u2019 with the axis limits equal to the data limits\n",
      "plt.axvline(0.0, color='k', ls='--', lw=2)    # plot dotted line on real axis\n",
      "plt.axhline(0.0, color='k', ls='--', lw=2)    # plot dotted line on imaginary axis"
     ],
     "language": "python",
     "metadata": {},
     "outputs": [
      {
       "metadata": {},
       "output_type": "pyout",
       "prompt_number": 7,
       "text": [
        "<matplotlib.lines.Line2D at 0x1061dafd0>"
       ]
      },
      {
       "metadata": {},
       "output_type": "display_data",
       "png": "[encoded data removed]",
       "text": [
        "<matplotlib.figure.Figure at 0x106645a50>"
       ]
      }
     ],
     "prompt_number": 7
    },
    {
     "cell_type": "heading",
     "level": 2,
     "metadata": {},
     "source": [
      "Stability analysis"
     ]
    },
    {
     "cell_type": "markdown",
     "metadata": {},
     "source": [
      "Now, what does absolute stability have to do with the undamped pendulum solution blowing up?  For a system of equations\n",
      "\n",
      "$$u'(t) = Au(t),$$\n",
      "\n",
      "the numerical solution will be stable if and only if $z=\\lambda \\dt$ lies inside the region of absolute stability for each eigenvalue $\\lambda$ of the matrix $A$."
     ]
    },
    {
     "cell_type": "heading",
     "level": 5,
     "metadata": {},
     "source": [
      "Exercise"
     ]
    },
    {
     "cell_type": "markdown",
     "metadata": {},
     "source": [
      "Work out the eigenvalues of $A$ for the undamped pendulum.  Show that they lie outside of the absolute stability region of Euler's method for any choice of $\\dt$."
     ]
    },
    {
     "cell_type": "heading",
     "level": 5,
     "metadata": {},
     "source": [
      "Exercise"
     ]
    },
    {
     "cell_type": "markdown",
     "metadata": {},
     "source": [
      "Work out the eigenvalues of $A$ for the *damped* pendulum.  Determine the range of step sizes that are absolutely stable for a given value of $\\mu$."
     ]
    },
    {
     "cell_type": "heading",
     "level": 2,
     "metadata": {},
     "source": [
      "Stability for nonlinear problems"
     ]
    },
    {
     "cell_type": "markdown",
     "metadata": {},
     "source": [
      "The study of numerical stability for nonlinear problems is in general more difficult.  However, there is a simple approach that usually gives accurate guidance.\n",
      "\n",
      "For the nonlinear system of first-order ODEs\n",
      "\n",
      "$$u'(t) = f(u),$$\n",
      "\n",
      "let $J(u) = f'(u)$ denote the Jacobian matrix.  Typically, if the eigenvalues of $J(u)$ lie inside the region of absolute stability for all values of $u$ occurring in the problem, then the computation will be stable (and conversely, it will usually be unstable if they do not)."
     ]
    },
    {
     "cell_type": "heading",
     "level": 5,
     "metadata": {},
     "source": [
      "Exercise"
     ]
    },
    {
     "cell_type": "markdown",
     "metadata": {},
     "source": [
      "Determine the eigenvalues of the Jacobian for the [phugoid model](./01_02_Glider.ipynb).  How should the time step be chosen so that the computation is absolutely stable?  Notice that this will depend on the drag coefficient."
     ]
    }
   ],
   "metadata": {}
  }
 ]
}