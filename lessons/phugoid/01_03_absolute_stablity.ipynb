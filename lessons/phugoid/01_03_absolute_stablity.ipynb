{
 "metadata": {
  "name": "",
  "signature": "sha256:f8b1dc5e9269c5ff3d4d67dfd53e1d901b7ff69d534e14ce97933bec3536342b"
 },
 "nbformat": 3,
 "nbformat_minor": 0,
 "worksheets": []
}