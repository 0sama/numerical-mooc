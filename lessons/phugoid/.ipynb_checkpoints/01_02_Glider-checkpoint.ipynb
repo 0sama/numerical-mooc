{
 "metadata": {
  "name": "",
  "signature": "sha256:9b765ac42dd9533a913822bda7c9f24cc4726934265709abcee7bb5c0be6e8d8"
 },
 "nbformat": 3,
 "nbformat_minor": 0,
 "worksheets": [
  {
   "cells": [
    {
     "cell_type": "markdown",
     "metadata": {},
     "source": [
      "$$\n",
      "\\newcommand{\\vr}{\\mathbf r}\n",
      "\\newcommand{\\dt}{k}\n",
      "$$\n",
      "\n",
      "In this lesson, we'll derive and solve a model for the flight of a glider."
     ]
    },
    {
     "cell_type": "heading",
     "level": 2,
     "metadata": {},
     "source": [
      "Newton's second law in polar coordinates"
     ]
    },
    {
     "cell_type": "markdown",
     "metadata": {},
     "source": [
      "Remember Newton's second law?\n",
      "\n",
      "$$ \\text{Force = mass x acceleration} $$\n",
      "\n",
      "We can use this to model the motion of our glider.  The glider experiences two forces:"
     ]
    },
    {
     "cell_type": "markdown",
     "metadata": {},
     "source": [
      "(figure here)"
     ]
    },
    {
     "cell_type": "markdown",
     "metadata": {},
     "source": [
      "1. Lift: an upward force due to the motion of air over the wings.\n",
      "2. Drag: a force directed opposite to the glider's motion, due to friction between the air and the glider.\n",
      "\n",
      "In fact, the lift force is always directed perpendicular to the orientation of the glider.  Since both forces are most easily expressed *relative to the glider's orientation*, we'll use a polar coordinate system centered on the glider:"
     ]
    },
    {
     "cell_type": "markdown",
     "metadata": {},
     "source": [
      "(figure here)"
     ]
    },
    {
     "cell_type": "markdown",
     "metadata": {},
     "source": [
      "Thus we'll write $v(t)$ to denote the glider's velocity, and $\\theta(t)$ to denote its angle of orientation, relative to the horizontal.  In our coordinates, Newton's law takes the form:\n",
      "\n",
      "\\begin{align}\n",
      "m v'(t) & = - mg \\sin(\\theta) - Rv^2 \\\\\n",
      "m v \\theta'(t) & = -mg \\cos(\\theta) + L v^2\n",
      "\\end{align}\n",
      "\n",
      "We haven't yet chosen what units to measure with.  By choosing appropriate units, we can make it so that $g=1$ and $L/m = 1$.  We'll renormalize $R$ by $m$ too, to obtain\n",
      "\n",
      "\\begin{align}\n",
      "v'(t) & = - \\sin(\\theta) - Rv^2 \\\\\n",
      "\\theta'(t) & = - \\frac{\\cos(\\theta)}{v} + v.\n",
      "\\end{align}\n",
      "This model is known as the Phugoid model."
     ]
    },
    {
     "cell_type": "heading",
     "level": 2,
     "metadata": {},
     "source": [
      "The initial value problem"
     ]
    },
    {
     "cell_type": "markdown",
     "metadata": {},
     "source": [
      "We can use the above to model the flight of the glider.  Of course we need to know where the glider starts, and how fast it is going -- this, we need *initial conditions*:\n",
      "\n",
      "$$\n",
      "v(0) = v_0 \\\\\n",
      "\\theta(0) = \\theta_0\n",
      "$$\n",
      "Notice that our model equations only tell us the velocity and angle of the glider.  We will also want to keep track of where the glider actually *is*; we can do so by also integrating the equations for the glider position:\n",
      "\n",
      "\\begin{align}\n",
      "x'(t) & = v \\cos(\\theta) \\\\\n",
      "y'(t) & = v \\sin(\\theta).\n",
      "\\end{align}"
     ]
    },
    {
     "cell_type": "heading",
     "level": 2,
     "metadata": {},
     "source": [
      "Euler's method"
     ]
    },
    {
     "cell_type": "markdown",
     "metadata": {},
     "source": [
      "In this course we'll explore methods for approximately solving models like the one above.  In order to find an approxiate solution, we'll introduce a *grid* in time, with *grid points* $t_0, t_1, \\dots$ where $t_n = \\dt n$ and $\\dt$ is the *step size*.  The solution values at time $t_n$ are denoted by $v_n, \\theta_n$.\n",
      "\n",
      "(figure here)\n",
      "\n",
      "The most basic method for solving an initial value ODE is known as **Euler's method**.  It consists of approximating the derivative by the slope of the line connecting two solution points:\n",
      "\n",
      "$$v'(t) \\approx \\frac{v_{n+1} - v_n}{\\dt}.$$\n",
      "\n",
      "Using this, our first equation above becomes\n",
      "\n",
      "$$\\frac{v_{n+1} - v_n}{\\dt} = -\\sin(\\theta_n) - R v_n^2.$$\n",
      "\n",
      "In practice, we'll use this as a way to get $v_{n+1}$ when we already know $v_n, \\theta_n$:\n",
      "\n",
      "$$ v_{n+1} = v_n + \\dt \\left(-\\sin(\\theta_n) - R v_n^2 \\right).$$\n",
      "\n",
      "Our system of equations for $v, \\theta, x, y$ becomes\n",
      "\n",
      "\\begin{align}\n",
      "v_{n+1} & = v_n + \\dt \\left(-\\sin(\\theta_n) - R v_n^2 \\right) \\\\\n",
      "\\theta_{n+1} & = \\theta_n + \\dt \\left(-\\frac{\\cos(\\theta_n)}{v_n} + v_n \\right) \\\\\n",
      "x_{n+1} & = x_n + v_n \\cos(\\theta_n) \\\\\n",
      "y_{n+1} & = y_n + v_n \\sin(\\theta_n).\n",
      "\\end{align}"
     ]
    },
    {
     "cell_type": "heading",
     "level": 5,
     "metadata": {},
     "source": [
      "Exercise"
     ]
    },
    {
     "cell_type": "markdown",
     "metadata": {},
     "source": [
      "In the cell below, implement Euler's method for the glider model.  Take drag coefficient $R = -0.2$.  Choose any initial data you like."
     ]
    },
    {
     "cell_type": "code",
     "collapsed": false,
     "input": [
      "%matplotlib inline\n",
      "import mpld3\n",
      "mpld3.enable_notebook()\n",
      "import matplotlib.pyplot as plt\n",
      "import numpy as np\n",
      "\n",
      "R = 0.2    # Drag coefficient\n",
      "\n",
      "def Euler_step(U,k,f):\n",
      "    \"The explicit Euler method\"\n",
      "    return U + k*f(U)\n",
      "\n",
      "def phugoid(U):\n",
      "    \"Evaluate the right-hand side of the Phugoid model\"\n",
      "    v     = U[0]\n",
      "    theta = U[1]\n",
      "    x     = U[2]\n",
      "    y     = U[3]\n",
      "    \n",
      "    dU = np.zeros(4)\n",
      "    dU[0] = - np.sin(theta) - R * v**2\n",
      "    dU[1] = v - np.cos(theta)/v\n",
      "    dU[2] = v*np.cos(theta)\n",
      "    dU[3] = v*np.sin(theta)\n",
      "    \n",
      "    return dU\n",
      "\n",
      "\n",
      "T=10    # Final time\n",
      "k=0.1   # Step size\n",
      "t=np.arange(0,T,k)  # Grid\n",
      "U=np.zeros( (len(t),4) )  # Storage for the solution\n",
      "\n",
      "v0 = 3.1       # Initial velocity\n",
      "theta0 = 0.1   # Initial angle\n",
      "x0 = 0.\n",
      "y0 = 0.1\n",
      "U[0] = np.array([v0, theta0, x0, y0])\n",
      "\n",
      "for n in range(len(t)-1):\n",
      "    U[n+1]=Euler_step(U[n],k,phugoid)\n",
      "    \n",
      "v = U[:,0]\n",
      "theta = U[:,1]\n",
      "x = U[:,2]\n",
      "y = U[:,3]"
     ],
     "language": "python",
     "metadata": {},
     "outputs": []
    },
    {
     "cell_type": "markdown",
     "metadata": {},
     "source": [
      "Now set the initial location to $(x_0,y_0) = (0,1)$.  Adjust the initial velocity and angle, and see how far you can make the glider fly before it reaches the ground ($y=0$)."
     ]
    },
    {
     "cell_type": "code",
     "collapsed": false,
     "input": [
      "plt.plot(x,y,lw=3)"
     ],
     "language": "python",
     "metadata": {},
     "outputs": []
    },
    {
     "cell_type": "code",
     "collapsed": false,
     "input": [],
     "language": "python",
     "metadata": {},
     "outputs": []
    }
   ],
   "metadata": {}
  }
 ]
}