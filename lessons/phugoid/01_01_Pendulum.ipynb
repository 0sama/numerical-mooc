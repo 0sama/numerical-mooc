{
 "metadata": {
  "name": "",
  "signature": "sha256:aa549b61526d31d4294439f59ece2d3366ee07529334e8a4172a8c34fa5bfce6"
 },
 "nbformat": 3,
 "nbformat_minor": 0,
 "worksheets": [
  {
   "cells": [
    {
     "cell_type": "markdown",
     "metadata": {},
     "source": [
      "$$\n",
      "\\newcommand{\\vr}{\\mathbf r}\n",
      "\\newcommand{\\dt}{\\Delta t}\n",
      "$$"
     ]
    },
    {
     "cell_type": "code",
     "collapsed": false,
     "input": [
      "from IPython.core.display import HTML\n",
      "css_file = './example.css'\n",
      "HTML(open(css_file, \"r\").read())"
     ],
     "language": "python",
     "metadata": {},
     "outputs": [
      {
       "html": [
        "<link href='http://fonts.googleapis.com/css?family=Alegreya+Sans:100,300,400,500,700,800,900,100italic,300italic,400italic,500italic,700italic,800italic,900italic' rel='stylesheet' type='text/css'>\n",
        "<link href='http://fonts.googleapis.com/css?family=Arvo:400,700,400italic' rel='stylesheet' type='text/css'>\n",
        "<link href='http://fonts.googleapis.com/css?family=PT+Mono' rel='stylesheet' type='text/css'>\n",
        "<link href='http://fonts.googleapis.com/css?family=Shadows+Into+Light' rel='stylesheet' type='text/css'>\n",
        "<link href='http://fonts.googleapis.com/css?family=Philosopher:400,700,400italic,700italic' rel='stylesheet' type='text/css'>\n",
        "\n",
        "<style>\n",
        "\n",
        "@font-face {\n",
        "    font-family: \"Computer Modern\";\n",
        "    src: url('http://mirrors.ctan.org/fonts/cm-unicode/fonts/otf/cmunss.otf');\n",
        "}\n",
        "\n",
        "#notebook_panel { /* main background */\n",
        "    background: #888;\n",
        "}\n",
        "\n",
        "div.cell { /* set cell width to about 80 chars */\n",
        "    width: 800px;\n",
        "}\n",
        "\n",
        "div #notebook { /* centre the content */\n",
        "    background: #fff; /* white background for content */\n",
        "    width: 1000px;\n",
        "    margin: auto;\n",
        "    padding-left: 1em;\n",
        "}\n",
        "\n",
        "#notebook li { /* More space between bullet points */\n",
        "margin-top:0.8em;\n",
        "}\n",
        "\n",
        "/* draw border around running cells */\n",
        "div.cell.border-box-sizing.code_cell.running { \n",
        "    border: 3px solid #111;\n",
        "}\n",
        "\n",
        "/* Put a solid color box around each cell and its output, visually linking them together */\n",
        "div.cell.code_cell {\n",
        "    background-color: rgba(240,240,230,1.0); \n",
        "    border-radius: 10px; /* rounded borders */\n",
        "    padding: 1em;\n",
        "    margin-top: 1em;\n",
        "}\n",
        "\n",
        "div.text_cell_render{\n",
        "    font-family: 'Alegreya Sans' sans-serif;\n",
        "    line-height: 140%;\n",
        "    font-size: 135%;\n",
        "    width:700px;\n",
        "    margin-left:auto;\n",
        "    margin-right:auto;\n",
        "}\n",
        "\n",
        "\n",
        "/* Formatting for header cells */\n",
        ".text_cell_render h1 {\n",
        "    font-family: 'Philosopher', sans-serif;\n",
        "    font-weight: 400;\n",
        "    font-size: 40pt;\n",
        "    line-height: 100%;\n",
        "    color: rgb(12,85,97);\n",
        "    margin-bottom: 0.1em;\n",
        "    margin-top: 0.1em;\n",
        "    display: block;\n",
        "}\t\n",
        ".text_cell_render h2 {\n",
        "    font-family: 'Philosopher', serif;\n",
        "    font-weight: 700;\n",
        "    font-size: 24pt;\n",
        "    line-height: 100%;\n",
        "    color: rgb(171,165,131);\n",
        "    margin-bottom: 0.1em;\n",
        "    margin-top: 0.1em;\n",
        "    display: block;\n",
        "}\t\n",
        "\n",
        ".text_cell_render h3 {\n",
        "    font-family: 'Philosopher', serif;\n",
        "    margin-top:12px;\n",
        "    margin-bottom: 3px;\n",
        "    font-style: italic;\n",
        "    color: rgb(95,92,72);\n",
        "}\n",
        "\n",
        ".text_cell_render h4 {\n",
        "    font-family: 'Philosopher', serif;\n",
        "}\n",
        "\n",
        ".text_cell_render h5 {\n",
        "    font-family: 'Alegreya Sans', sans-serif;\n",
        "    font-weight: 300;\n",
        "    font-size: 16pt;\n",
        "    color: grey;\n",
        "    font-style: italic;\n",
        "    margin-bottom: .1em;\n",
        "    margin-top: 0.1em;\n",
        "    display: block;\n",
        "}\n",
        "\n",
        ".text_cell_render h6 {\n",
        "    font-family: 'PT Mono', sans-serif;\n",
        "    font-weight: 300;\n",
        "    font-size: 10pt;\n",
        "    color: grey;\n",
        "    margin-bottom: 1px;\n",
        "    margin-top: 1px;\n",
        "}\n",
        "\n",
        ".CodeMirror{\n",
        "        font-family: \"PT Mono\";\n",
        "        font-size: 100%;\n",
        "}\n",
        "\n",
        "</style>\n"
       ],
       "metadata": {},
       "output_type": "pyout",
       "prompt_number": 1,
       "text": [
        "<IPython.core.display.HTML at 0x102398990>"
       ]
      }
     ],
     "prompt_number": 1
    },
    {
     "cell_type": "heading",
     "level": 1,
     "metadata": {},
     "source": [
      "The pendulum"
     ]
    },
    {
     "cell_type": "markdown",
     "metadata": {},
     "source": [
      "In this notebook we'll look at the motion of a rigid pendulum.\n",
      "The pendulum is assumed to be made of a mass $m$ attached to a rigid, massless rod of length $L$.  Its position is described by $\\theta(t)$, the angle between the rod and the vertical axis.  It moves under the force of gravity, with $g$ denoting the gravitational constant:\n",
      "![](figures/pendulum.png)\n"
     ]
    },
    {
     "cell_type": "markdown",
     "metadata": {},
     "source": [
      "As shown in the figure above, the gravitational force on the pendulum in the direction it can swing is $mg \\sin(\\theta(t))$.  Then the rotational version of Newton's second law (that force is equal to mass times acceleration) says:\n",
      "\n",
      "$$m L^2 \\theta''(t) = -mgL\\sin(\\theta(t))$$\n",
      "\n",
      "or\n",
      "\n",
      "$$\\theta''(t) = -(g/L) \\sin(\\theta(t))$$\n",
      "\n",
      "Let's rescale our units so that $g/L=1$.  Then our model is the second order differential equation\n",
      "\n",
      "$$\\theta''(t) = -\\sin(\\theta(t)).$$\n",
      "\n",
      "Finally, the pendulum will be subject to the force of friction, which we assume is proportional to its angular velocity $\\theta'(t)$ and acts in the opposite direction.  Thus we have\n",
      "\n",
      "$$\\theta''(t) = -\\sin(\\theta(t)) - \\mu \\theta'(t),$$\n",
      "\n",
      "where $\\mu$ is the coefficient of friction.\n",
      "\n",
      "In order to determine the motion of the pendulum, we'll also need to give an initial angle $\\theta(0) = \\theta_0$ and initial angular velocity $\\theta'(0) = \\omega_0$.\n",
      "\n",
      "Let's load the Python libraries and then discuss how to discretize the problem."
     ]
    },
    {
     "cell_type": "code",
     "collapsed": false,
     "input": [
      "import numpy as np\n",
      "%matplotlib inline\n",
      "import matplotlib.pyplot as plt\n",
      "import matplotlib"
     ],
     "language": "python",
     "metadata": {},
     "outputs": []
    },
    {
     "cell_type": "heading",
     "level": 2,
     "metadata": {},
     "source": [
      "Discretization: Euler's method"
     ]
    },
    {
     "cell_type": "markdown",
     "metadata": {},
     "source": [
      "In this module we'll explore methods for approximately solving models like the one above.  In order to find an approxiate solution, we'll introduce a *grid* in time, with *grid points* $t_0, t_1, \\dots$ where $t_n = n \\dt$ and $\\dt$ is a small time increment (the *time step*).  The solution value at time $t_n$ is denoted by $\\theta_n$.\n",
      "\n",
      "The code below sets the final time `T` and the time increment `dt`. With those chosen, we calculate the number `N` of time steps that will be needed to reach the final time, and we initialize an array `t` containing all the discrete time values."
     ]
    },
    {
     "cell_type": "code",
     "collapsed": false,
     "input": [
      "T = 20.0\n",
      "dt = 0.01\n",
      "N = int(T/dt)\n",
      "t = np.linspace(0,T,N+1)"
     ],
     "language": "python",
     "metadata": {},
     "outputs": []
    },
    {
     "cell_type": "markdown",
     "metadata": {},
     "source": [
      "In order to solve the model numerically, we rewrite the single second-order differential equation as a pair of first-order equations.  We can do this by setting $\\omega(t) = \\theta'(t)$.  Then we have\n",
      "\n",
      "\\begin{align}\n",
      "\\theta'(t) & = \\omega(t) \\\\\n",
      "\\omega'(t) & = -\\sin(\\theta(t)) - \\mu \\omega(t).\n",
      "\\end{align}\n",
      "\n",
      "We can write this formally as\n",
      "\n",
      "$$u'(t) = f(u)$$\n",
      "\n",
      "if we define the vectors\n",
      "\n",
      "\\begin{align}\n",
      "u & = \\begin{pmatrix} \\theta \\\\ \\omega \\end{pmatrix} & f(u) & = \\begin{pmatrix} \\omega \\\\ -\\sin(\\theta) - \\mu \\omega \\end{pmatrix}.\n",
      "\\end{align}\n",
      "\n",
      "Notice that these equations tell us the slope of the functions $(\\theta, \\omega)$ in terms of the function values.  The simplest way to approximate the solution is to assume that the slope is constant.  That is, we make the approximation\n",
      "\n",
      "$$u(t + \\dt) = u(t) + \\dt u'(t) + {\\mathcal O}(\\dt^2) \\approx u(t) + \\dt f(u(t)).$$"
     ]
    },
    {
     "cell_type": "markdown",
     "metadata": {},
     "source": [
      "If we write $U_n$ to denote the approximate solution at time $t_n$:\n",
      "\n",
      "$$U_n \\approx u(t_n),$$\n",
      "\n",
      "then we can compute a sequence of approximate solutions by the formula\n",
      "\n",
      "$$U_{n+1} = U_n + \\dt f(U_n).$$\n",
      "\n",
      "This is known as **Euler's method** (sometimes as the **explicit Euler method** or **forward Euler method** to distinguish it from its implicit cousin whom we'll meet later).\n",
      "\n",
      "Written out fully for our model, Euler's method is\n",
      "\n",
      "\\begin{align}\n",
      "\\theta_{n+1} & = \\theta_n + \\dt \\omega_n \\\\\n",
      "\\omega_{n+1} & = \\omega_n + \\dt \\left(-\\sin(\\theta_n) - \\mu \\omega_n\\right).\n",
      "\\end{align}"
     ]
    },
    {
     "cell_type": "markdown",
     "metadata": {},
     "source": [
      "Type the code from the cells below into your own notebook, to use Euler's method to model the pendulum."
     ]
    },
    {
     "cell_type": "markdown",
     "metadata": {},
     "source": [
      "Let's set up the problem. We need to choose values for the model parameters: the friction coefficient, $\\mu$; the initial angle, $\\theta_0$ and the initial angular velocity, $\\omega_0$. Then we initialize an array that we'll use later on to hold the angle values at different times. "
     ]
    },
    {
     "cell_type": "code",
     "collapsed": false,
     "input": [
      "mu = 0.2          # friction coefficient\n",
      "\n",
      "theta0 = np.pi/4  # initial angle\n",
      "omega0 = 0.       # initial angular velocity\n",
      "\n",
      "# Initial conditions\n",
      "U = np.array([theta0,omega0])\n",
      "\n",
      "# Initialize an array to hold the changing angle values\n",
      "theta = np.zeros(N+1)\n",
      "theta[0] = U[0]     # first element filled with initial condition"
     ],
     "language": "python",
     "metadata": {},
     "outputs": []
    },
    {
     "cell_type": "markdown",
     "metadata": {},
     "source": [
      "Now we'll march in time, using Euler's method:"
     ]
    },
    {
     "cell_type": "code",
     "collapsed": false,
     "input": [
      "for n in range(N):\n",
      "    U = U + dt*np.array( [U[1],\n",
      "                          -np.sin(U[0])-mu*U[1]])\n",
      "    theta[n+1] = U[0]"
     ],
     "language": "python",
     "metadata": {},
     "outputs": []
    },
    {
     "cell_type": "markdown",
     "metadata": {},
     "source": [
      "Finally, let's plot the solution that we obtained for the angle $\\theta$ as a function of time."
     ]
    },
    {
     "cell_type": "code",
     "collapsed": false,
     "input": [
      "matplotlib.rcParams.update({'font.size': 14})  # to make our labels more legible\n",
      "plt.plot(t,theta)\n",
      "plt.xlabel('$t$')\n",
      "plt.ylabel(r'$\\theta$');"
     ],
     "language": "python",
     "metadata": {},
     "outputs": []
    },
    {
     "cell_type": "heading",
     "level": 4,
     "metadata": {},
     "source": [
      "Challenge questions"
     ]
    },
    {
     "cell_type": "markdown",
     "metadata": {},
     "source": [
      "1. Based on your physical understanding, what should be the long-term behavior of the pendulum?\n",
      "2. Change the final time $T$ above to a much larger value.  Does the model behave as you predicted?\n",
      "3. Experiment with different values for $\\Delta t$ and $\\mu$.  Can you find any values for which the pendulum behaves in a non-physical way?"
     ]
    },
    {
     "cell_type": "heading",
     "level": 1,
     "metadata": {},
     "source": [
      "Linearization"
     ]
    },
    {
     "cell_type": "markdown",
     "metadata": {},
     "source": [
      "Do you recall the Taylor series for the sine function?  We can compute it using the Python package SymPy:"
     ]
    },
    {
     "cell_type": "code",
     "collapsed": false,
     "input": [
      "import sympy                     # Load the package\n",
      "sympy.init_printing()             # This makes the output look pretty\n",
      "thet = sympy.symbols(r\"\\theta\")   # Define a symbol, but don't override our variable theta\n",
      "\n",
      "sympy.series(sympy.sin(thet))"
     ],
     "language": "python",
     "metadata": {},
     "outputs": [
      {
       "latex": [
        "$$\\theta - \\frac{\\theta^{3}}{6} + \\frac{\\theta^{5}}{120} + \\mathcal{O}\\left(\\theta^{6}\\right)$$"
       ],
       "metadata": {},
       "output_type": "pyout",
       "png": "[encoded data removed]",
       "prompt_number": 27,
       "text": [
        "               3         5             \n",
        "         \\theta    \\theta     \u239b      6\u239e\n",
        "\\theta - \u2500\u2500\u2500\u2500\u2500\u2500\u2500 + \u2500\u2500\u2500\u2500\u2500\u2500\u2500 + O\u239d\\theta \u23a0\n",
        "            6        120               "
       ]
      }
     ],
     "prompt_number": 27
    },
    {
     "cell_type": "markdown",
     "metadata": {},
     "source": [
      "By taking just the first term, we have $$\\sin(\\theta) \\approx \\theta.$$  Under this approximation, our model becomes\n",
      "\n",
      "$$\\theta''(t) = - \\theta(t) - \\mu \\theta'(t).$$"
     ]
    },
    {
     "cell_type": "heading",
     "level": 5,
     "metadata": {},
     "source": [
      "Exercise"
     ]
    },
    {
     "cell_type": "markdown",
     "metadata": {},
     "source": [
      "With pencil and paper, write this as a first-order system and write down the discretization of it with Euler's method.  Then modify the code in your notebook to solve the linearized model."
     ]
    },
    {
     "cell_type": "heading",
     "level": 2,
     "metadata": {},
     "source": [
      "Exact solution"
     ]
    },
    {
     "cell_type": "markdown",
     "metadata": {},
     "source": [
      "It's possible to work out the exact solution for our linearized pendulum model.  It turns out to have the form\n",
      "\n",
      "$$\\theta(t) = \\exp\\left(-\\frac{\\mu}{2} t\\right) \\left( B \\cos(\\gamma t) + C \\sin(\\gamma t) \\right),$$\n",
      "\n",
      "where \n",
      "\n",
      "$$\\gamma = \\sqrt{1 - \\frac{\\mu^2}{4}}$$\n",
      "\n",
      "and $B,C$ are determined from the initial conditions.  So far we've been using an initially stationary pendulum, i.e. $\\theta'(0)=0$."
     ]
    },
    {
     "cell_type": "heading",
     "level": 5,
     "metadata": {},
     "source": [
      "Exercise"
     ]
    },
    {
     "cell_type": "markdown",
     "metadata": {},
     "source": [
      "1. Use the condition $\\theta'(0)=0$ to determine values for $B$ and $C$ in terms of $\\theta_0, \\mu$, and $\\gamma$.\n",
      "\n",
      "2.  In your notebook, program the exact solution and plot it together with your approximate solution.  How accurate is your solution?"
     ]
    },
    {
     "cell_type": "heading",
     "level": 2,
     "metadata": {},
     "source": [
      "Convergence"
     ]
    },
    {
     "cell_type": "markdown",
     "metadata": {},
     "source": [
      "We say that a numerical method is **convergent** if the approximate solution tends to the exact solution as the **mesh spacing** ($\\Delta t$) tends to zero.  To make this statement precise, we need to compare the solutions in some norm, such as the $L_1$ norm.  We can define the error as\n",
      "\n",
      "$$ E = \\dt \\sum_{n=0}^N \\left|\\theta(t_n) - \\theta_n\\right|.$$"
     ]
    },
    {
     "cell_type": "heading",
     "level": 4,
     "metadata": {},
     "source": [
      "Challenge question:"
     ]
    },
    {
     "cell_type": "markdown",
     "metadata": {},
     "source": [
      "Why does the factor $\\Delta t$ appear in the definition above?"
     ]
    },
    {
     "cell_type": "heading",
     "level": 5,
     "metadata": {},
     "source": [
      "Exercise"
     ]
    },
    {
     "cell_type": "markdown",
     "metadata": {},
     "source": [
      "Compute the error.  Then study how the error varies as you reduce $\\dt$.  Is the method convergent?  Make a log-log plot of error versus $\\dt$."
     ]
    },
    {
     "cell_type": "heading",
     "level": 2,
     "metadata": {},
     "source": [
      "Sources of error"
     ]
    },
    {
     "cell_type": "markdown",
     "metadata": {},
     "source": [
      "The error we have just studied is referred to as **discretization error**, since it arises when we take the continuous ODE model and reduce it to a discrete model that can be solved by a computer.  Relative to our original problem (the nonlinear pendulum) we also have the error introduced by linearizing the model.  This error is referred to as **modelling error**, since it is caused by a simplification in the model.\n",
      "\n",
      "**Extra credit**: Quantify the modelling error by computing a numerical solution of the nonlinear model, with a very small $\\Delta t$ and comparing that to your numerical solution of the linear model (with a more reasonable $\\Delta t$).  Can you determine how much of the overall error is due to modelling, and how much is due to discretization?"
     ]
    }
   ],
   "metadata": {}
  }
 ]
}