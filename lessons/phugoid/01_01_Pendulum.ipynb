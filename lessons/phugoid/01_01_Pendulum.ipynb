{
 "metadata": {
  "name": "",
  "signature": "sha256:d861482f2c74c23494bc624e8ca253a91fc51e21f21d6258e1cc20872241bc1f"
 },
 "nbformat": 3,
 "nbformat_minor": 0,
 "worksheets": [
  {
   "cells": [
    {
     "cell_type": "markdown",
     "metadata": {},
     "source": [
      "$$\n",
      "\\newcommand{\\vr}{\\mathbf r}\n",
      "\\newcommand{\\dt}{\\Delta t}\n",
      "$$"
     ]
    },
    {
     "cell_type": "heading",
     "level": 1,
     "metadata": {},
     "source": [
      "The pendulum"
     ]
    },
    {
     "cell_type": "markdown",
     "metadata": {},
     "source": [
      "In this notebook we'll look at the motion of a rigid pendulum.\n",
      "The pendulum is assumed to be made of a mass $m$ attached to a rigid, massless rod.  Its position is described by $\\theta(t)$, the angle between the rod and the vertical axis.  It moves under the force of gravity, with $g$ denoting the gravitational constant:\n",
      "![](figures/pendulum.png)\n"
     ]
    },
    {
     "cell_type": "markdown",
     "metadata": {},
     "source": [
      "As shown in the figure above, the gravitational force on the pendulum in the direction it can swing is $mg \\sin(\\theta(t))$.  Then the rotational version of Newton's second law (that force is equal to mass times acceleration) says:\n",
      "\n",
      "$$m L^2 \\theta''(t) = -mgL\\sin(\\theta(t))$$\n",
      "\n",
      "or\n",
      "\n",
      "$$\\theta''(t) = -(g/L) \\sin(\\theta(t))$$\n",
      "\n",
      "Let's rescale our units so that $g/L=1$.  Then our model is the second order differential equation\n",
      "\n",
      "$$\\theta''(t) = -\\sin(\\theta(t)).$$\n",
      "\n",
      "Finally, the pendulum will be subject to the force of friction, which is proportional to its angular velocity $\\theta'(t)$ and acts in the opposite direction.  Thus we have\n",
      "\n",
      "$$\\theta''(t) = -\\sin(\\theta(t)) - \\mu \\theta'(t),$$\n",
      "\n",
      "where $\\mu$ is the coefficient of friction.\n",
      "\n",
      "In order to determine the motion of the pendulum, we'll also need to give an initial angle $\\theta(0) = \\theta_0$ and initial angular velocity $\\theta'(0) = \\omega_0$."
     ]
    },
    {
     "cell_type": "heading",
     "level": 2,
     "metadata": {},
     "source": [
      "Discretization: Euler's method"
     ]
    },
    {
     "cell_type": "markdown",
     "metadata": {},
     "source": [
      "In this course we'll explore methods for approximately solving models like the one above.  In order to find an approxiate solution, we'll introduce a *grid* in time, with *grid points* $t_0, t_1, \\dots$ where $t_n = n \\dt$ and $\\dt$ is the *step size*.  The solution value at time $t_n$ is denoted by $\\theta_n$."
     ]
    },
    {
     "cell_type": "markdown",
     "metadata": {},
     "source": [
      "In order to solve the model numerically, we rewrite the single second-order differential equation as a pair of first-order equations.  We can do this by setting $\\omega(t) = \\theta'(t)$.  Then we have\n",
      "\n",
      "\\begin{align}\n",
      "\\theta'(t) & = \\omega(t) \\\\\n",
      "\\omega'(t) & = -\\sin(\\theta(t)) - \\mu \\omega(t).\n",
      "\\end{align}\n",
      "\n",
      "We can write this formally as\n",
      "\n",
      "$$u'(t) = f(u)$$\n",
      "\n",
      "by setting\n",
      "\n",
      "\\begin{align}\n",
      "u & = \\begin{pmatrix} \\theta \\\\ \\omega \\end{pmatrix} & f(u) & = \\begin{pmatrix} \\omega \\\\ -\\sin(\\theta) - \\mu \\omega \\end{pmatrix}\n",
      "\\end{align}.\n",
      "\n",
      "Notice that these equations tell us the slope of the functions $(\\theta, \\omega)$ in terms of the function values.  The simplest way to approximate the solution is to assume that the slope is constant.  That is, we make the approximation\n",
      "\n",
      "$$u(t + \\dt) = u(t) + \\dt u'(t) + {\\mathcal O}(\\dt^2) \\approx u(t) + \\dt f(u(t)).$$"
     ]
    },
    {
     "cell_type": "markdown",
     "metadata": {},
     "source": [
      "Here $\\Delta t$ is a small time increment (the *time step*).  If we write $U_n$ to denote the approximate solution at time $t_n$:\n",
      "\n",
      "$$U_n \\approx u(t_n),$$\n",
      "\n",
      "then we can compute a sequence of approximate solutions by the formula\n",
      "\n",
      "$$U_{n+1} = U_n + \\dt f(U_n).$$\n",
      "\n",
      "This is known as **Euler's method** (sometimes as the **explicit Euler method** or **forward Euler method** to distinguish it from its implicit cousin whom we'll meet later).\n",
      "\n",
      "Written out fully for our model, Euler's method is\n",
      "\n",
      "\\begin{align}\n",
      "\\theta_{n+1} & = \\theta_n + \\dt \\omega_n \\\\\n",
      "\\omega_{n+1} & = \\omega_n + \\dt \\left(-\\sin(\\theta_n) - \\mu \\omega_n\\right).\n",
      "\\end{align}"
     ]
    },
    {
     "cell_type": "markdown",
     "metadata": {},
     "source": [
      "Type the code from the cells below into your own notebook, to use Euler's method to model the pendulum."
     ]
    },
    {
     "cell_type": "code",
     "collapsed": false,
     "input": [
      "import numpy as np\n",
      "%matplotlib inline\n",
      "import matplotlib.pyplot as plt"
     ],
     "language": "python",
     "metadata": {},
     "outputs": []
    },
    {
     "cell_type": "code",
     "collapsed": false,
     "input": [
      "def f(U):\n",
      "    return np.array( [U[1],\n",
      "                      -np.sin(U[0])-mu*U[1]])\n",
      "\n",
      "def Euler_step(U,dt):\n",
      "    return U + dt*f(U)\n",
      "\n",
      "def RK2_step(U,dt):\n",
      "    ystar = U + dt*f(U)\n",
      "    return 0.5*y + 0.5*(Ustar+dt*f(Ustar))\n",
      "\n",
      "\n",
      "mu = 0.2\n",
      "\n",
      "theta0 = np.pi/4\n",
      "omega0 = 0.\n",
      "U = np.array([theta0,omega0])\n",
      "\n",
      "T = 20.0\n",
      "dt = 0.01\n",
      "N = int(T/dt)\n",
      "t = np.linspace(0,T,N+1)\n",
      "\n",
      "theta = np.zeros(N+1)\n",
      "theta[0] = U[0]\n",
      "\n",
      "for n in range(N):\n",
      "    U = Euler_step(U,dt)\n",
      "    theta[n+1] = U[0]\n",
      "    \n",
      "plt.plot(t,theta);"
     ],
     "language": "python",
     "metadata": {},
     "outputs": []
    },
    {
     "cell_type": "markdown",
     "metadata": {},
     "source": [
      "**Note**: Here we could make an animation of the pendulum, and even a widget."
     ]
    },
    {
     "cell_type": "heading",
     "level": 4,
     "metadata": {},
     "source": [
      "Challenge questions"
     ]
    },
    {
     "cell_type": "markdown",
     "metadata": {},
     "source": [
      "1. Based on your physical understanding, what should be the long-term behavior of the pendulum?\n",
      "2. Change the final time $T$ above to a much larger value.  Does the model behave as you predicted?\n",
      "3. Experiment with different values for $\\Delta t$ and $\\mu$.  Can you find any values for which the pendulum behaves in a non-physical way?"
     ]
    },
    {
     "cell_type": "heading",
     "level": 1,
     "metadata": {},
     "source": [
      "Linearization"
     ]
    },
    {
     "cell_type": "markdown",
     "metadata": {},
     "source": [
      "Recall the Taylor series for the sine function:\n",
      "\n",
      "$$\\sin(\\theta) = \\theta - \\frac{1}{6} \\theta^3 + {\\mathcal O(\\theta^5)}.$$\n",
      "\n",
      "By taking just the first term, we have $$\\sin(\\theta) \\approx \\theta.$$  Under this approximation, our model becomes\n",
      "\n",
      "$$\\theta''(t) = - \\theta(t) - \\mu \\theta'(t).$$"
     ]
    },
    {
     "cell_type": "heading",
     "level": 5,
     "metadata": {},
     "source": [
      "Exercise"
     ]
    },
    {
     "cell_type": "markdown",
     "metadata": {},
     "source": [
      "With pencil and paper, write this as a first-order system and write down the discretization of it with Euler's method.  Then program your discretization in the cell below."
     ]
    },
    {
     "cell_type": "code",
     "collapsed": false,
     "input": [
      "def f(U):\n",
      "    return np.array( [U[1],\n",
      "                      -U[0]-mu*U[1]] )\n",
      "\n",
      "theta0 = np.pi/4\n",
      "omega0 = 0.\n",
      "U = np.array([theta0,omega0])\n",
      "\n",
      "T = 20.0\n",
      "dt = 0.01\n",
      "N = int(T/dt)\n",
      "t = np.linspace(0,T,N+1)\n",
      "\n",
      "theta = np.zeros(N+1)\n",
      "theta[0] = U[0]\n",
      "\n",
      "for n in range(N):\n",
      "    U = Euler_step(U,dt)\n",
      "    theta[n+1] = U[0]\n",
      "    \n",
      "plt.plot(t,theta);"
     ],
     "language": "python",
     "metadata": {},
     "outputs": []
    },
    {
     "cell_type": "heading",
     "level": 2,
     "metadata": {},
     "source": [
      "Exact solution"
     ]
    },
    {
     "cell_type": "markdown",
     "metadata": {},
     "source": [
      "It's possible to work out the exact solution for our linearized pendulum model.  It turns out to have the form\n",
      "\n",
      "$$\\theta(t) = \\exp\\left(-\\frac{\\mu}{2} t\\right) \\left( B \\cos(\\gamma t) + C \\sin(\\gamma t) \\right),$$\n",
      "\n",
      "where \n",
      "\n",
      "$$\\gamma = \\sqrt{1 - \\frac{\\mu^2}{4}}$$\n",
      "\n",
      "and $B,C$ are determined from the initial conditions.  So far we've been using an initially stationary pendulum ($\\theta'(0)=0$), which implies that $C=\\theta_0 \\mu / (2\\gamma)$ and $B=\\theta(0)$ (check it!)"
     ]
    },
    {
     "cell_type": "heading",
     "level": 5,
     "metadata": {},
     "source": [
      "Exercise"
     ]
    },
    {
     "cell_type": "markdown",
     "metadata": {},
     "source": [
      "In the cell below, program the exact solution and plot it together with your approximate solution.  How accurate is your solution?"
     ]
    },
    {
     "cell_type": "code",
     "collapsed": false,
     "input": [
      "U = np.array([theta0,omega0])\n",
      "mu = 0.5\n",
      "T = 10.0\n",
      "dt = 0.01\n",
      "N = int(T/dt)\n",
      "t = np.linspace(0,T,N+1)\n",
      "\n",
      "theta = np.zeros(N+1)\n",
      "theta[0] = U[0]\n",
      "\n",
      "for n in range(N):\n",
      "    U = Euler_step(U,dt)\n",
      "    theta[n+1] = U[0]\n",
      "    \n",
      "plt.plot(t,theta,'-ok');\n",
      "plt.hold(True)\n",
      "\n",
      "gamma = np.sqrt(1.-(mu**2)/4.)\n",
      "B = theta0\n",
      "C = 0.5*theta0*mu/gamma\n",
      "theta_exact = np.exp(-0.5*mu*t)*(B*np.cos(gamma*t) + C*np.sin(gamma*t))\n",
      "plt.plot(t,theta_exact,'-r',lw=2);"
     ],
     "language": "python",
     "metadata": {},
     "outputs": []
    },
    {
     "cell_type": "heading",
     "level": 2,
     "metadata": {},
     "source": [
      "Convergence"
     ]
    },
    {
     "cell_type": "markdown",
     "metadata": {},
     "source": [
      "We say that a numerical method is **convergent** if the approximate solution tends to the exact solution as the **mesh spacing** (i.e., $\\Delta t$) tends to zero.  To make this statement precise, we need to compare the solutions in some norm, such as the $L_1$ norm.  We can define the error as\n",
      "\n",
      "$$ E = \\dt \\sum_{n=0}^N \\left|\\theta(t_n) - \\theta_n\\right|.$$\n",
      "\n",
      "Question: why does the factor $\\Delta t$ appear in the definition above?"
     ]
    },
    {
     "cell_type": "heading",
     "level": 5,
     "metadata": {},
     "source": [
      "Exercise"
     ]
    },
    {
     "cell_type": "markdown",
     "metadata": {},
     "source": [
      "Compute the error.  Then study how the error varies as you reduce $\\dt$.  Is the method convergent?"
     ]
    },
    {
     "cell_type": "code",
     "collapsed": false,
     "input": [
      "print 'Error: ', dt*np.linalg.norm(theta[:-1]-theta_exact[:-1],1)"
     ],
     "language": "python",
     "metadata": {},
     "outputs": []
    },
    {
     "cell_type": "heading",
     "level": 2,
     "metadata": {},
     "source": [
      "Sources of error"
     ]
    },
    {
     "cell_type": "markdown",
     "metadata": {},
     "source": [
      "The error we have just studies is referred to as **discretization error**, since it arises when we take the continuous ODE model and reduce it to a discrete model that can be solved by a computer.  Relative to our original problem (the nonlinear pendulum) we also have the error introduced by linearizing the model.  This error is referred to as **modelling error**, since it is caused by a simplification in the model.\n",
      "\n",
      "**Extra credit**: Quantify the modelling error by computing a numerical solution of the nonlinear model, with a very small $\\Delta t$ and comparing that to your numerical solution of the linear model (with a more reasonable $\\Delta t$).  Can you determine how much of the overall error is due to modelling, and how much is due to discretization?"
     ]
    },
    {
     "cell_type": "code",
     "collapsed": false,
     "input": [],
     "language": "python",
     "metadata": {},
     "outputs": []
    }
   ],
   "metadata": {}
  }
 ]
}