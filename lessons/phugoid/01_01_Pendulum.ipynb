{
 "metadata": {
  "name": "",
  "signature": "sha256:b33062f24ffafcd86354a6e9ec6ced1cced6857c3880a90725ae32c36817bb78"
 },
 "nbformat": 3,
 "nbformat_minor": 0,
 "worksheets": [
  {
   "cells": [
    {
     "cell_type": "heading",
     "level": 1,
     "metadata": {},
     "source": [
      "The pendulum"
     ]
    },
    {
     "cell_type": "markdown",
     "metadata": {},
     "source": [
      "In this notebook we'll look at the motion of a rigid pendulum.\n",
      "The pendulum is assumed to be made of a mass $m$ attached to a rigid, massless rod.  Its position is described by $\\theta(t)$, the angle between the rod and the vertical axis.  It moves under the force of gravity, with $g$ denoting the gravitational constant:\n",
      "![](figures/pendulum.png)\n"
     ]
    },
    {
     "cell_type": "markdown",
     "metadata": {},
     "source": [
      "As shown in the figure above, the gravitational force on the pendulum is $mg \\sin(\\theta(t))$.  Then Newton's second law (that force is equal to mass times acceleration) says:\n",
      "\n",
      "$$m L^2 \\theta''(t) = -mgL\\sin(\\theta(t))$$\n",
      "\n",
      "or\n",
      "\n",
      "$$\\theta''(t) = -(g/L) \\sin(\\theta(t))$$\n",
      "\n",
      "Let's rescale our units so that $g/L=1$.  Then our model is the second order differential equation\n",
      "\n",
      "$$\\theta''(t) = -\\sin(\\theta(t)).$$\n",
      "\n",
      "In order to determine the motion of the pendulum, we'll also need to give an initial angle $\\theta(0) = \\theta_0$ and angular velocity $\\theta'(0) = \\omega_0$."
     ]
    },
    {
     "cell_type": "heading",
     "level": 2,
     "metadata": {},
     "source": [
      "Discretization: Euler's method"
     ]
    },
    {
     "cell_type": "markdown",
     "metadata": {},
     "source": [
      "In order to solve the model numerically, we first rewrite the single second-order differential equation as a pair of first-order equations.  We can do this by setting $\\omega(t) = \\theta'(t)$.  Then we have\n",
      "\n",
      "\\begin{align}\n",
      "\\theta'(t) & = \\omega(t) \\\\\n",
      "\\omega'(t) & = -\\sin(\\theta(t)).\n",
      "\\end{align}\n",
      "\n",
      "We can write this formally as\n",
      "\n",
      "$$y'(t) = f(y)$$\n",
      "\n",
      "by setting\n",
      "\n",
      "\\begin{align}\n",
      "y & = \\begin{pmatrix} \\theta \\\\ \\omega \\end{pmatrix} & f(y) & = \\begin{pmatrix} \\omega \\\\ -\\sin(\\theta) \\end{pmatrix}\n",
      "\\end{align}.\n",
      "\n",
      "Notice that these equations tell us the slope of the functions $\\theta, \\omega$ in terms of the function values.  The simplest way to approximate the solution is to assume that the slope is constant.  That is, we make the approximation\n",
      "\n",
      "$$y(t + \\Delta t) \\approx y(t) + \\Delta t y'(t) = y(t) + \\Delta t f(y(t)).$$"
     ]
    },
    {
     "cell_type": "heading",
     "level": 1,
     "metadata": {},
     "source": [
      "Linearization"
     ]
    },
    {
     "cell_type": "markdown",
     "metadata": {},
     "source": [
      "Recall the Taylor series for the sine function:\n",
      "\n",
      "$$\\sin(\\theta) = \\theta - \\frac{1}{6} \\theta^3 + {\\mathcal O(\\theta^5)} \\approx \\theta.$$\n",
      "\n",
      "$$\\theta''(t) = - \\theta(t)$$\n",
      "\n",
      "Discretization with Euler\n",
      "\n",
      "Exact solution\n",
      "\n",
      "Convergence\n",
      "\n",
      "Extra credit: compare full pendulum model"
     ]
    },
    {
     "cell_type": "markdown",
     "metadata": {},
     "source": []
    },
    {
     "cell_type": "markdown",
     "metadata": {},
     "source": [
      "Here $m$ is the mass of the weight at the end of the pendulum, $g$ is the gravitational constant, and $\\theta(t)$ is the angle of the pendulum relative to the vertical.  In order to study the motion of the pendulum, we need to know the component of the gravitational force that is perpendicular to the pendulum at a given moment.  As depicted above, this force is just $mg \\sin\\theta$.  For simplicity, we'll choose units so that $mg=1$."
     ]
    },
    {
     "cell_type": "code",
     "collapsed": false,
     "input": [],
     "language": "python",
     "metadata": {},
     "outputs": []
    }
   ],
   "metadata": {}
  }
 ]
}