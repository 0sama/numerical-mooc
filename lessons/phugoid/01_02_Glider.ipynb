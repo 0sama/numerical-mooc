{
 "metadata": {
  "name": "",
  "signature": "sha256:9a396382791b20fdbb3f504c4c0cd24b6b06cdb8f227b982e45408c844189baf"
 },
 "nbformat": 3,
 "nbformat_minor": 0,
 "worksheets": [
  {
   "cells": [
    {
     "cell_type": "markdown",
     "metadata": {},
     "source": [
      "$$\n",
      "\\newcommand{\\vr}{\\mathbf r}\n",
      "\\newcommand{\\dt}{\\Delta t}\n",
      "$$\n",
      "\n",
      "In this lesson, we'll derive and solve a model for the flight of a glider."
     ]
    },
    {
     "cell_type": "code",
     "collapsed": false,
     "input": [
      "from IPython.core.display import HTML\n",
      "css_file = './example.css'\n",
      "HTML(open(css_file, \"r\").read())"
     ],
     "language": "python",
     "metadata": {},
     "outputs": [
      {
       "html": [
        "<link href='http://fonts.googleapis.com/css?family=Alegreya+Sans:100,300,400,500,700,800,900,100italic,300italic,400italic,500italic,700italic,800italic,900italic' rel='stylesheet' type='text/css'>\n",
        "<link href='http://fonts.googleapis.com/css?family=Arvo:400,700,400italic' rel='stylesheet' type='text/css'>\n",
        "<link href='http://fonts.googleapis.com/css?family=PT+Mono' rel='stylesheet' type='text/css'>\n",
        "<link href='http://fonts.googleapis.com/css?family=Shadows+Into+Light' rel='stylesheet' type='text/css'>\n",
        "<link href='http://fonts.googleapis.com/css?family=Philosopher:400,700,400italic,700italic' rel='stylesheet' type='text/css'>\n",
        "\n",
        "<style>\n",
        "\n",
        "@font-face {\n",
        "    font-family: \"Computer Modern\";\n",
        "    src: url('http://mirrors.ctan.org/fonts/cm-unicode/fonts/otf/cmunss.otf');\n",
        "}\n",
        "\n",
        "#notebook_panel { /* main background */\n",
        "    background: #888;\n",
        "}\n",
        "\n",
        "div.cell { /* set cell width to about 80 chars */\n",
        "    width: 800px;\n",
        "}\n",
        "\n",
        "div #notebook { /* centre the content */\n",
        "    background: #fff; /* white background for content */\n",
        "    width: 1000px;\n",
        "    margin: auto;\n",
        "    padding-left: 1em;\n",
        "}\n",
        "\n",
        "#notebook li { /* More space between bullet points */\n",
        "margin-top:0.8em;\n",
        "}\n",
        "\n",
        "/* draw border around running cells */\n",
        "div.cell.border-box-sizing.code_cell.running { \n",
        "    border: 3px solid #111;\n",
        "}\n",
        "\n",
        "/* Put a solid color box around each cell and its output, visually linking them together */\n",
        "div.cell.code_cell {\n",
        "    background-color: rgba(240,240,230,1.0); \n",
        "    border-radius: 10px; /* rounded borders */\n",
        "    padding: 1em;\n",
        "    margin-top: 1em;\n",
        "}\n",
        "\n",
        "div.text_cell_render{\n",
        "    font-family: 'Alegreya Sans' sans-serif;\n",
        "    line-height: 140%;\n",
        "    font-size: 135%;\n",
        "    width:700px;\n",
        "    margin-left:auto;\n",
        "    margin-right:auto;\n",
        "}\n",
        "\n",
        "\n",
        "/* Formatting for header cells */\n",
        ".text_cell_render h1 {\n",
        "    font-family: 'Philosopher', sans-serif;\n",
        "    font-weight: 400;\n",
        "    font-size: 40pt;\n",
        "    line-height: 100%;\n",
        "    color: rgb(12,85,97);\n",
        "    margin-bottom: 0.1em;\n",
        "    margin-top: 0.1em;\n",
        "    display: block;\n",
        "}\t\n",
        ".text_cell_render h2 {\n",
        "    font-family: 'Philosopher', serif;\n",
        "    font-weight: 700;\n",
        "    font-size: 24pt;\n",
        "    line-height: 100%;\n",
        "    color: rgb(171,165,131);\n",
        "    margin-bottom: 0.1em;\n",
        "    margin-top: 0.1em;\n",
        "    display: block;\n",
        "}\t\n",
        "\n",
        ".text_cell_render h3 {\n",
        "    font-family: 'Philosopher', serif;\n",
        "    margin-top:12px;\n",
        "    margin-bottom: 3px;\n",
        "    font-style: italic;\n",
        "    color: rgb(95,92,72);\n",
        "}\n",
        "\n",
        ".text_cell_render h4 {\n",
        "    font-family: 'Philosopher', serif;\n",
        "}\n",
        "\n",
        ".text_cell_render h5 {\n",
        "    font-family: 'Alegreya Sans', sans-serif;\n",
        "    font-weight: 300;\n",
        "    font-size: 16pt;\n",
        "    color: grey;\n",
        "    font-style: italic;\n",
        "    margin-bottom: .1em;\n",
        "    margin-top: 0.1em;\n",
        "    display: block;\n",
        "}\n",
        "\n",
        ".text_cell_render h6 {\n",
        "    font-family: 'PT Mono', sans-serif;\n",
        "    font-weight: 300;\n",
        "    font-size: 10pt;\n",
        "    color: grey;\n",
        "    margin-bottom: 1px;\n",
        "    margin-top: 1px;\n",
        "}\n",
        "\n",
        ".CodeMirror{\n",
        "        font-family: \"PT Mono\";\n",
        "        font-size: 100%;\n",
        "}\n",
        "\n",
        "</style>\n"
       ],
       "metadata": {},
       "output_type": "pyout",
       "prompt_number": 1,
       "text": [
        "<IPython.core.display.HTML at 0x10239a590>"
       ]
      }
     ],
     "prompt_number": 1
    },
    {
     "cell_type": "heading",
     "level": 2,
     "metadata": {},
     "source": [
      "Newton's second law in polar coordinates"
     ]
    },
    {
     "cell_type": "markdown",
     "metadata": {},
     "source": [
      "Remember Newton's second law?\n",
      "\n",
      "$$ \\text{Force = mass} \\times \\text{acceleration} $$\n",
      "\n",
      "We can use this to model the motion of our glider.  The glider experiences two forces:"
     ]
    },
    {
     "cell_type": "markdown",
     "metadata": {},
     "source": [
      "![Forces on the glider](./figures/glider1.png)"
     ]
    },
    {
     "cell_type": "markdown",
     "metadata": {},
     "source": [
      "1. Lift: an upward force due to the motion of air over the wings.\n",
      "2. Drag: a force directed opposite to the glider's motion, due to friction between the air and the glider.\n",
      "\n",
      "In fact, the lift force is always directed perpendicular to the orientation of the glider.  Since both forces are most easily expressed *relative to the glider's orientation*, we'll use a polar coordinate system centered on the glider:"
     ]
    },
    {
     "cell_type": "markdown",
     "metadata": {},
     "source": [
      "![Polar coordinates for the glider](./figures/glider_coordinates.png)"
     ]
    },
    {
     "cell_type": "markdown",
     "metadata": {},
     "source": [
      "Thus we'll write $v(t)$ to denote the glider's velocity, and $\\theta(t)$ to denote its angle of orientation, relative to the horizontal.  In our coordinates, Newton's law takes the form:\n",
      "\n",
      "\\begin{align}\n",
      "m v'(t) & = - mg \\sin(\\theta) - D v^2 \\\\\n",
      "m v \\theta'(t) & = -mg \\cos(\\theta) + L v^2\n",
      "\\end{align}\n",
      "\n",
      "where $L$ represents lift and $D$ represents drag.\n",
      "\n",
      "We haven't yet chosen what units to measure with.  By choosing appropriate units, we can make it so that $g=1$ and $L/m = 1$.  We'll renormalize $D$ by $m$ too, to obtain\n",
      "\n",
      "\\begin{align}\n",
      "v'(t) & = - \\sin(\\theta) - D v^2 \\\\\n",
      "\\theta'(t) & = - \\frac{\\cos(\\theta)}{v} + v.\n",
      "\\end{align}\n",
      "This model is known as the Phugoid model.  For a lengthy discussion of it, see [this free online book chapter by Simanca & Sutherland](https://www.math.sunysb.edu/~scott/Book331/Using_Maple.html)."
     ]
    },
    {
     "cell_type": "heading",
     "level": 2,
     "metadata": {},
     "source": [
      "The initial value problem"
     ]
    },
    {
     "cell_type": "markdown",
     "metadata": {},
     "source": [
      "To model the flight of the glider, we need to know where it is and how fast it is going at some initial time -- that is, we need *initial conditions*:\n",
      "\n",
      "$$\n",
      "v(0) = v_0 \\\\\n",
      "\\theta(0) = \\theta_0\n",
      "$$\n",
      "\n",
      "Notice that our model equations only tell us the velocity and angle of the glider.  We will also want to keep track of where the glider actually *is*; we can do so by also integrating the equations for the glider position:\n",
      "\n",
      "\\begin{align}\n",
      "x'(t) & = v \\cos(\\theta) \\\\\n",
      "y'(t) & = v \\sin(\\theta).\n",
      "\\end{align}"
     ]
    },
    {
     "cell_type": "heading",
     "level": 2,
     "metadata": {},
     "source": [
      "Euler's method"
     ]
    },
    {
     "cell_type": "markdown",
     "metadata": {},
     "source": [
      "We already saw Euler's method when we solved the pendulum model.  We'll apply it now to the Phugoid model.  Another way to think of Euler's method is that it consists of approximating the derivative by the slope of the line connecting two approximate solution points:\n",
      "\n",
      "$$v'(t) \\approx \\frac{v_{n+1} - v_n}{\\dt}.$$\n",
      "\n",
      "Using this, our first equation above becomes\n",
      "\n",
      "$$\\frac{v_{n+1} - v_n}{\\dt} = -\\sin(\\theta_n) - D v_n^2.$$\n",
      "\n",
      "In practice, we'll use this as a way to get $v_{n+1}$ when we already know $v_n, \\theta_n$:\n",
      "\n",
      "$$ v_{n+1} = v_n + \\dt \\left(-\\sin(\\theta_n) - D v_n^2 \\right).$$\n",
      "\n",
      "Applying Euler to the full system of equations for $v, \\theta, x, y$, we have\n",
      "\n",
      "\\begin{align}\n",
      "v_{n+1} & = v_n + \\dt \\left(-\\sin(\\theta_n) - D v_n^2 \\right) \\\\\n",
      "\\theta_{n+1} & = \\theta_n + \\dt \\left(-\\frac{\\cos(\\theta_n)}{v_n} + v_n \\right) \\\\\n",
      "x_{n+1} & = x_n + \\dt v_n \\cos(\\theta_n) \\\\\n",
      "y_{n+1} & = y_n + \\dt v_n \\sin(\\theta_n).\n",
      "\\end{align}"
     ]
    },
    {
     "cell_type": "heading",
     "level": 5,
     "metadata": {},
     "source": [
      "Exercise"
     ]
    },
    {
     "cell_type": "markdown",
     "metadata": {},
     "source": [
      "In your notebook, implement Euler's method for the glider model.  Take drag coefficient $D = 0.2$.  Choose any initial data you like."
     ]
    },
    {
     "cell_type": "markdown",
     "metadata": {},
     "source": [
      "Now set the initial location to $(x_0,y_0) = (0,1)$.  By adjusting the initial velocity and angle, how far you can make the glider fly before it reaches the ground ($y=0$)?"
     ]
    },
    {
     "cell_type": "code",
     "collapsed": false,
     "input": [
      "from math import *\n",
      "import numpy as np\n",
      "import matplotlib.pyplot as plt\n",
      "%matplotlib inline"
     ],
     "language": "python",
     "metadata": {},
     "outputs": [],
     "prompt_number": 2
    },
    {
     "cell_type": "code",
     "collapsed": false,
     "input": [
      "class Parameters:\n",
      "    def set_attribute(self, name, value):\n",
      "        setattr(self, name, value)\n",
      "\n",
      "params = Parameters()\n",
      "params.set_attribute('T', 20.0)\n",
      "params.set_attribute('dt', 0.01)\n",
      "params.set_attribute('D', 0.2)\n",
      "params.set_attribute('N', int(params.T/params.dt))        "
     ],
     "language": "python",
     "metadata": {},
     "outputs": [],
     "prompt_number": 3
    },
    {
     "cell_type": "code",
     "collapsed": false,
     "input": [
      "class InitialConditions:\n",
      "    def __init__(self, x_0=1.0, y_0=0.0, v_0=1.0, theta_0=0.0):\n",
      "        self.x, self.y = x_0, y_0\n",
      "        self.v = v_0\n",
      "        self.theta = theta_0"
     ],
     "language": "python",
     "metadata": {},
     "outputs": [],
     "prompt_number": 4
    },
    {
     "cell_type": "code",
     "collapsed": false,
     "input": [
      "def f(u, params):\n",
      "    v, theta = u[2], u[3]\n",
      "    return np.array([v*cos(theta),\n",
      "                     v*sin(theta),\n",
      "                     -sin(theta) - params.D*v**2,\n",
      "                     -cos(theta)/v + v])"
     ],
     "language": "python",
     "metadata": {},
     "outputs": [],
     "prompt_number": 5
    },
    {
     "cell_type": "code",
     "collapsed": false,
     "input": [
      "class Path:\n",
      "    def __init__(self, initial_conditions, params, method='euler'):\n",
      "        self.method = method\n",
      "        \n",
      "        self.x = np.empty(params.N+1, dtype=float)\n",
      "        self.x[0] = initial_conditions.x\n",
      "        self.y = np.empty(params.N+1, dtype=float)\n",
      "        self.y[0] = initial_conditions.y\n",
      "        \n",
      "        self.t = np.linspace(0.0, params.T, params.N+1)\n",
      "    \n",
      "        self.u = np.array([initial_conditions.x,\n",
      "                           initial_conditions.y,\n",
      "                           initial_conditions.v,\n",
      "                           initial_conditions.theta])\n",
      "        \n",
      "        self.unm1 = self.u\n",
      "        \n",
      "        self.calculate(params)\n",
      "    \n",
      "    def euler(self, f, params):\n",
      "        return self.u + params.dt*f(self.u, params)\n",
      "    \n",
      "    def rk2(self, f, params):\n",
      "        u_tmp = self.u + 0.5*params.dt*f(self.u, params)\n",
      "        return self.u + params.dt*f(u_tmp, params)\n",
      "    \n",
      "    def leapfrog(self, f, params):\n",
      "        u = self.unm1 + 2.*params.dt*f(self.u, params)\n",
      "        self.unm1 = self.u\n",
      "        return u\n",
      "    \n",
      "    def calculate(self, params):\n",
      "        for n in range(params.N):\n",
      "            if self.method=='euler':\n",
      "                self.u = self.euler(f, params)\n",
      "            elif self.method == 'rk2':\n",
      "                self.u = self.rk2(f, params)\n",
      "            elif self.method == 'leapfrog':\n",
      "                self.u = self.leapfrog(f, params)\n",
      "            self.x[n+1], self.y[n+1] = self.u[0], self.u[1]"
     ],
     "language": "python",
     "metadata": {},
     "outputs": [],
     "prompt_number": 6
    },
    {
     "cell_type": "code",
     "collapsed": false,
     "input": [
      "ic_1 = InitialConditions(x_0=0.0, y_0=1.0, v_0=1.0, theta_0=0.0)\n",
      "path_1 = Path(ic_1, params, method='leapfrog')\n",
      "\n",
      "ic_2 = InitialConditions(x_0=0.0, y_0=1.0, v_0=2.0, theta_0=0.0)\n",
      "path_2 = Path(ic_2, params, method='leapfrog')\n",
      "\n",
      "plt.figure()\n",
      "plt.grid(True)\n",
      "plt.xlabel(r'x', fontsize=16)\n",
      "plt.ylabel(r'y', fontsize=16)\n",
      "plt.plot(path_1.x, path_1.y, 'b-', lw=2);\n",
      "plt.plot(path_2.x, path_2.y, 'r-', lw=2);\n",
      "plt.axis('equal');"
     ],
     "language": "python",
     "metadata": {},
     "outputs": [
      {
       "metadata": {},
       "output_type": "display_data",
       "png": "[encoded data removed]",
       "text": [
        "<matplotlib.figure.Figure at 0x1062bbd10>"
       ]
      }
     ],
     "prompt_number": 7
    },
    {
     "cell_type": "code",
     "collapsed": false,
     "input": [
      "ic = InitialConditions(x_0=0.0, y_0=1.0, v_0=3.0, theta_0=0.0)\n",
      "path_1 = Path(ic, params, method='euler')\n",
      "path_2 = Path(ic, params, method='rk2')\n",
      "#path_3 = Path(ic, params, method='leapfrog')\n",
      "\n",
      "plt.figure()\n",
      "plt.grid(True)\n",
      "plt.xlabel(r'x', fontsize=16)\n",
      "plt.ylabel(r'y', fontsize=16)\n",
      "plt.plot(path_1.x, path_1.y, 'b-', lw=2)\n",
      "plt.plot(path_2.x, path_2.y, 'r-', lw=2)\n",
      "#plt.plot(path_3.x, path_3.y, 'g-', lw=2)\n",
      "plt.axis('equal')\n",
      "plt.legend(['euler', 'rk2', 'leapfrog'], loc='best');"
     ],
     "language": "python",
     "metadata": {},
     "outputs": [
      {
       "metadata": {},
       "output_type": "display_data",
       "png": "[encoded data removed]",
       "text": [
        "<matplotlib.figure.Figure at 0x1052c2310>"
       ]
      }
     ],
     "prompt_number": 8
    },
    {
     "cell_type": "code",
     "collapsed": false,
     "input": [
      "delta_t = [0.1, 0.05, 0.01, 0.005, 0.001, 0.0005, 0.0001]\n",
      "\n",
      "ic = InitialConditions(x_0=0.0, y_0=1.0, v_0=1.0, theta_0=0.0)\n",
      "\n",
      "# euler\n",
      "paths = []\n",
      "for dt in delta_t:\n",
      "    params.set_attribute('dt', dt)\n",
      "    params.set_attribute('N', int(params.T/dt))\n",
      "    paths.append(Path(ic, params, method='euler'))\n",
      "\n",
      "error_euler = []\n",
      "for i, dt in enumerate(delta_t):\n",
      "    error_euler.append(dt*sum(abs(paths[i].x-paths[-1].x[::dt/delta_t[-1]])))\n",
      "    \n",
      "# rk2\n",
      "paths = []\n",
      "for dt in delta_t:\n",
      "    params.set_attribute('dt', dt)\n",
      "    params.set_attribute('N', int(params.T/dt))\n",
      "    paths.append(Path(ic, params, method='rk2'))\n",
      "\n",
      "error_rk2 = []\n",
      "for i, dt in enumerate(delta_t):\n",
      "    error_rk2.append(dt*sum(abs(paths[i].x-paths[-1].x[::dt/delta_t[-1]])))\n",
      "    \n",
      "# leapfrog\n",
      "paths = []\n",
      "for dt in delta_t:\n",
      "    params.set_attribute('dt', dt)\n",
      "    params.set_attribute('N', int(params.T/dt))\n",
      "    paths.append(Path(ic, params, method='leapfrog'))\n",
      "\n",
      "error_leapfrog = []\n",
      "for i, dt in enumerate(delta_t):\n",
      "    error_leapfrog.append(dt*sum(abs(paths[i].x-paths[-1].x[::dt/delta_t[-1]])))"
     ],
     "language": "python",
     "metadata": {},
     "outputs": [],
     "prompt_number": 9
    },
    {
     "cell_type": "code",
     "collapsed": false,
     "input": [
      "plt.figure()\n",
      "plt.grid(True)\n",
      "plt.xlabel(r'$\\Delta t$', fontsize=16)\n",
      "plt.ylabel(r'Error $L_1$-norm')\n",
      "plt.plot(delta_t, error_euler, 'bo-')\n",
      "plt.plot(delta_t, error_rk2, 'ro-')\n",
      "#plt.plot(delta_t, error_leapfrog, 'go-')\n",
      "plt.axis('equal')\n",
      "plt.legend(['euler', 'rk2', 'leapfrog'], loc='best');"
     ],
     "language": "python",
     "metadata": {},
     "outputs": [
      {
       "metadata": {},
       "output_type": "display_data",
       "png": "[encoded data removed]",
       "text": [
        "<matplotlib.figure.Figure at 0x10674b4d0>"
       ]
      }
     ],
     "prompt_number": 10
    },
    {
     "cell_type": "heading",
     "level": 2,
     "metadata": {},
     "source": [
      "Self-convergence"
     ]
    },
    {
     "cell_type": "markdown",
     "metadata": {},
     "source": [
      "Let's study the convergence of Euler's method for the phugoid model.  When we studied the linearized pendulum, we examined convergence by comparing the numerical solution with the exact solution.  When no exact solution is available, it is common to study **self-convergence** of a sequence of numerical solutions.  In this approach, we use a numerical solution computed on a very fine grid in place of an exact solution.  Self-convergence by itself doesn't tell us that the numerical solution is converging to the right answer, only that it is converging to some answer."
     ]
    },
    {
     "cell_type": "heading",
     "level": 5,
     "metadata": {},
     "source": [
      "Exercise"
     ]
    },
    {
     "cell_type": "markdown",
     "metadata": {},
     "source": [
      "In your notebook, write a loop that solves the phugoid model on a sequence of grids with different numbers of grid points.  Also solve it on a fine grid that has many more points.  Compute the error for each solution, relative to the fine grid solution.  How quickly does the error tend to zero?  Make a convergence plot."
     ]
    },
    {
     "cell_type": "heading",
     "level": 2,
     "metadata": {},
     "source": [
      "Second-order methods"
     ]
    },
    {
     "cell_type": "markdown",
     "metadata": {},
     "source": [
      "As you've seen, the global error in the solution obtained by Euler's method decreases only linearly as the grid is refined; i.e.\n",
      "\n",
      "$$ E \\propto \\dt.$$\n",
      "\n",
      "In general, we say a method is *accurate to order $p$* if the global error is proportional to $(\\dt)^p$.  Let's look at some higher-order methods."
     ]
    },
    {
     "cell_type": "heading",
     "level": 3,
     "metadata": {},
     "source": [
      "Runge-Kutta methods"
     ]
    },
    {
     "cell_type": "markdown",
     "metadata": {},
     "source": [
      "The class of *Runge-Kutta methods* achieves higher order by using multiple evaluations of $f$ in each step.  A second order method is given by:\n",
      "\n",
      "\\begin{align}\n",
      "U_*     & = U_n + \\frac{1}{2}\\dt f(U_n) \\\\\n",
      "U_{n+1} & = U_n + \\dt f(U_*).\n",
      "\\end{align}\n",
      "\n",
      "This particular method is known as the **explicit midpoint method**, because we first approximate the value of $U$ at the midpoint, and then use that value to approximate the derivative over the whole step.  It's also known as the **modified Euler method**."
     ]
    },
    {
     "cell_type": "heading",
     "level": 5,
     "metadata": {},
     "source": [
      "Exercise"
     ]
    },
    {
     "cell_type": "markdown",
     "metadata": {},
     "source": [
      "In your notebook, implement the second-order Runge-Kutta method above for the glider.  Check the rate of self-convergence."
     ]
    },
    {
     "cell_type": "heading",
     "level": 3,
     "metadata": {},
     "source": [
      "Multistep methods"
     ]
    },
    {
     "cell_type": "markdown",
     "metadata": {},
     "source": [
      "Another way to achieve second order is to use a more accurate approximation of the derivative by involving multiple previous solution values.  For instance, we can approximate the derivative with a centered difference:\n",
      "\n",
      "$$ U'(t) \\approx \\frac{U_{n+1} - U_{n-1}}{2\\dt}.$$\n",
      "\n",
      "This leads to the method\n",
      "\n",
      "$$ U_{n+1} = U_{n-1} + 2\\dt f(U_n),$$\n",
      "\n",
      "which is sometimes called the **leapfrog method** because it \"leaps\" from $U_{n-1}$ to $U_{n+1}$.  The one-sided approximation used in Euler's method has a local truncation error of ${\\mathcal O}(\\dt^2)$, whereas the error in this approximation is ${\\mathcal O}(\\dt^3)$."
     ]
    },
    {
     "cell_type": "heading",
     "level": 5,
     "metadata": {},
     "source": [
      "Exercise"
     ]
    },
    {
     "cell_type": "markdown",
     "metadata": {},
     "source": [
      "In your notebook, implement the leapfrog method for the glider.  Check the rate of self-convergence."
     ]
    }
   ],
   "metadata": {}
  }
 ]
}