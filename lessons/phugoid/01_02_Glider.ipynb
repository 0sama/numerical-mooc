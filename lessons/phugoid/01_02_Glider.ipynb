{
 "metadata": {
  "name": "",
  "signature": "sha256:64b9e0551d03bcd36e95f3490daa7b81e1bea2cf9a5ce9d1001617fa98195721"
 },
 "nbformat": 3,
 "nbformat_minor": 0,
 "worksheets": [
  {
   "cells": [
    {
     "cell_type": "markdown",
     "metadata": {},
     "source": [
      "In this lesson, we'll derive and solve a model for the flight of a glider.\n",
      "$$\\def\\dt{\\Delta t}$$"
     ]
    },
    {
     "cell_type": "code",
     "collapsed": false,
     "input": [
      "from IPython.core.display import HTML\n",
      "css_file = '../../styles/numericalmoocstyle.css'\n",
      "HTML(open(css_file, \"r\").read())"
     ],
     "language": "python",
     "metadata": {},
     "outputs": [
      {
       "html": [
        "<link href='http://fonts.googleapis.com/css?family=Alegreya+Sans:100,300,400,500,700,800,900,100italic,300italic,400italic,500italic,700italic,800italic,900italic' rel='stylesheet' type='text/css'>\n",
        "<link href='http://fonts.googleapis.com/css?family=Arvo:400,700,400italic' rel='stylesheet' type='text/css'>\n",
        "<link href='http://fonts.googleapis.com/css?family=PT+Mono' rel='stylesheet' type='text/css'>\n",
        "<link href='http://fonts.googleapis.com/css?family=Shadows+Into+Light' rel='stylesheet' type='text/css'>\n",
        "<link href='http://fonts.googleapis.com/css?family=Nixie+One' rel='stylesheet' type='text/css'>\n",
        "<style>\n",
        "\n",
        "@font-face {\n",
        "    font-family: \"Computer Modern\";\n",
        "    src: url('http://mirrors.ctan.org/fonts/cm-unicode/fonts/otf/cmunss.otf');\n",
        "}\n",
        "\n",
        "#notebook_panel { /* main background */\n",
        "    background: rgb(245,245,245);\n",
        "}\n",
        "\n",
        "div.cell { /* set cell width to about 80 chars */\n",
        "    width: 800px;\n",
        "}\n",
        "\n",
        "div #notebook { /* centre the content */\n",
        "    background: #fff; /* white background for content */\n",
        "    width: 1000px;\n",
        "    margin: auto;\n",
        "    padding-left: 1em;\n",
        "}\n",
        "\n",
        "#notebook li { /* More space between bullet points */\n",
        "margin-top:0.8em;\n",
        "}\n",
        "\n",
        "/* draw border around running cells */\n",
        "div.cell.border-box-sizing.code_cell.running { \n",
        "    border: 1px solid #111;\n",
        "}\n",
        "\n",
        "/* Put a solid color box around each cell and its output, visually linking them*/\n",
        "div.cell.code_cell {\n",
        "    background-color: rgb(256,256,256); \n",
        "    border-radius: 0px; \n",
        "    padding: 0.5em;\n",
        "    margin-top: 1em;\n",
        "}\n",
        "\n",
        "div.text_cell_render{\n",
        "    font-family: 'Alegreya Sans' sans-serif;\n",
        "    line-height: 140%;\n",
        "    font-size: 125%;\n",
        "    font-weight: 400;\n",
        "    width:600px;\n",
        "    margin-left:auto;\n",
        "    margin-right:auto;\n",
        "}\n",
        "\n",
        "\n",
        "/* Formatting for header cells */\n",
        ".text_cell_render h1 {\n",
        "    font-family: 'Nixie One', serif;\n",
        "    font-style:regular;\n",
        "    font-weight: 400;    \n",
        "    font-size: 45pt;\n",
        "    line-height: 100%;\n",
        "    color: rgb(0,51,102);\n",
        "    margin-bottom: 0.5em;\n",
        "    margin-top: 0.5em;\n",
        "    display: block;\n",
        "}\t\n",
        ".text_cell_render h2 {\n",
        "    font-family: 'Nixie One', serif;\n",
        "    font-weight: 400;\n",
        "    font-size: 30pt;\n",
        "    line-height: 100%;\n",
        "    color: rgb(0,51,102);\n",
        "    margin-bottom: 0.1em;\n",
        "    margin-top: 0.3em;\n",
        "    display: block;\n",
        "}\t\n",
        "\n",
        ".text_cell_render h3 {\n",
        "    font-family: 'Nixie One', serif;\n",
        "    margin-top:16px;\n",
        "\tfont-size: 22pt;\n",
        "    font-weight: 600;\n",
        "    margin-bottom: 3px;\n",
        "    font-style: regular;\n",
        "    color: rgb(95,92,72);\n",
        "}\n",
        "\n",
        ".text_cell_render h4 {\n",
        "    font-family: 'Nixie One', serif;\n",
        "}\n",
        "\n",
        ".text_cell_render h5 {\n",
        "    font-family: 'Arvo', sans-serif;\n",
        "    font-weight: 400;\n",
        "    font-size: 16pt;\n",
        "    color: grey;\n",
        "    font-style: italic;\n",
        "    margin-bottom: .1em;\n",
        "    margin-top: 0.1em;\n",
        "    display: block;\n",
        "}\n",
        "\n",
        ".text_cell_render h6 {\n",
        "    font-family: 'PT Mono', sans-serif;\n",
        "    font-weight: 300;\n",
        "    font-size: 9pt;\n",
        "    line-height: 100%;\n",
        "    color: grey;\n",
        "    margin-bottom: 1px;\n",
        "    margin-top: 1px;\n",
        "}\n",
        "\n",
        ".CodeMirror{\n",
        "        font-family: \"PT Mono\";\n",
        "        font-size: 90%;\n",
        "}\n",
        "\n",
        "</style>\n"
       ],
       "metadata": {},
       "output_type": "pyout",
       "prompt_number": 1,
       "text": [
        "<IPython.core.display.HTML at 0x7f0ef8b0fb10>"
       ]
      }
     ],
     "prompt_number": 1
    },
    {
     "cell_type": "code",
     "collapsed": false,
     "input": [
      "#from math import *\n",
      "import numpy\n",
      "import matplotlib.pyplot as plt\n",
      "%matplotlib inline"
     ],
     "language": "python",
     "metadata": {},
     "outputs": [],
     "prompt_number": 2
    },
    {
     "cell_type": "heading",
     "level": 2,
     "metadata": {},
     "source": [
      "Newton's second law in polar coordinates"
     ]
    },
    {
     "cell_type": "markdown",
     "metadata": {},
     "source": [
      "Remember Newton's second law?\n",
      "\n",
      "$$ \\text{Force = mass} \\times \\text{acceleration} $$\n",
      "\n",
      "We can use this to model the motion of our glider.  The glider experiences two forces:"
     ]
    },
    {
     "cell_type": "markdown",
     "metadata": {},
     "source": [
      "![Forces on the glider](./figures/glider1.png)"
     ]
    },
    {
     "cell_type": "markdown",
     "metadata": {},
     "source": [
      "1. Lift: an upward force due to the motion of air over the wings.\n",
      "2. Drag: a force directed opposite to the glider's motion, due to friction between the air and the glider.\n",
      "\n",
      "In fact, the lift force is always directed perpendicular to the orientation of the glider.  Since both forces are most easily expressed *relative to the glider's orientation*, we'll use a polar coordinate system centered on the glider:"
     ]
    },
    {
     "cell_type": "markdown",
     "metadata": {},
     "source": [
      "![Polar coordinates for the glider](./figures/glider_coordinates.png)"
     ]
    },
    {
     "cell_type": "markdown",
     "metadata": {},
     "source": [
      "Thus we'll write $v(t)$ to denote the glider's velocity, and $\\theta(t)$ to denote its angle of orientation, relative to the horizontal.  In our coordinates, Newton's law takes the form:\n",
      "\n",
      "\\begin{align}\n",
      "m v'(t) & = - mg \\sin(\\theta) - D v^2 \\\\\n",
      "m v \\theta'(t) & = -mg \\cos(\\theta) + L v^2\n",
      "\\end{align}\n",
      "\n",
      "where $L$ represents lift and $D$ represents drag.\n",
      "\n",
      "We haven't yet chosen what units to measure with.  By choosing appropriate units, we can make it so that $g=1$ and $L/m = 1$.  We'll renormalize $D$ by $m$ too, to obtain\n",
      "\n",
      "\\begin{align}\n",
      "v'(t) & = - \\sin(\\theta) - D v^2 \\\\\n",
      "\\theta'(t) & = - \\frac{\\cos(\\theta)}{v} + v.\n",
      "\\end{align}\n",
      "This model is known as the Phugoid model.  For a lengthy discussion of it, see [this free online book chapter by Simanca & Sutherland](https://www.math.sunysb.edu/~scott/Book331/Using_Maple.html)."
     ]
    },
    {
     "cell_type": "heading",
     "level": 2,
     "metadata": {},
     "source": [
      "The initial value problem"
     ]
    },
    {
     "cell_type": "markdown",
     "metadata": {},
     "source": [
      "To model the flight of the glider, we need to know where it is and how fast it is going at some initial time -- that is, we need *initial conditions*:\n",
      "\n",
      "$$\n",
      "v(0) = v_0 \\\\\n",
      "\\theta(0) = \\theta_0\n",
      "$$\n",
      "\n",
      "Notice that our model equations only tell us the velocity and angle of the glider.  We will also want to keep track of where the glider actually *is*; we can do so by also integrating the equations for the glider position:\n",
      "\n",
      "\\begin{align}\n",
      "x'(t) & = v \\cos(\\theta) \\\\\n",
      "y'(t) & = v \\sin(\\theta).\n",
      "\\end{align}"
     ]
    },
    {
     "cell_type": "heading",
     "level": 2,
     "metadata": {},
     "source": [
      "Euler's method"
     ]
    },
    {
     "cell_type": "markdown",
     "metadata": {},
     "source": [
      "We already saw Euler's method when we solved the pendulum model.  We'll apply it now to the Phugoid model.  Another way to think of Euler's method is that it consists of approximating the derivative by the slope of the line connecting two approximate solution points:\n",
      "\n",
      "$$v'(t) \\approx \\frac{v_{n+1} - v_n}{\\dt}.$$\n",
      "\n",
      "Using this, our first equation above becomes\n",
      "\n",
      "$$\\frac{v_{n+1} - v_n}{\\dt} = -\\sin(\\theta_n) - D v_n^2.$$\n",
      "\n",
      "In practice, we'll use this as a way to get $v_{n+1}$ when we already know $v_n, \\theta_n$:\n",
      "\n",
      "$$ v_{n+1} = v_n + \\dt \\left(-\\sin(\\theta_n) - D v_n^2 \\right).$$\n",
      "\n",
      "Applying Euler to the full system of equations for $v, \\theta, x, y$, we have\n",
      "\n",
      "\\begin{align}\n",
      "v_{n+1} & = v_n + \\dt \\left(-\\sin(\\theta_n) - D v_n^2 \\right) \\\\\n",
      "\\theta_{n+1} & = \\theta_n + \\dt \\left(-\\frac{\\cos(\\theta_n)}{v_n} + v_n \\right) \\\\\n",
      "x_{n+1} & = x_n + \\dt v_n \\cos(\\theta_n) \\\\\n",
      "y_{n+1} & = y_n + \\dt v_n \\sin(\\theta_n).\n",
      "\\end{align}"
     ]
    },
    {
     "cell_type": "heading",
     "level": 5,
     "metadata": {},
     "source": [
      "Exercise"
     ]
    },
    {
     "cell_type": "markdown",
     "metadata": {},
     "source": [
      "In your notebook, solve the equation for the glider model:\n",
      "\n",
      "$$u^{'}(t) = f(u)$$\n",
      "\n",
      "where\n",
      "\n",
      "\\begin{align}\n",
      "u & = \\begin{pmatrix} v \\\\ \\theta \\\\ x \\\\ y \\end{pmatrix} & f(u) & = \\begin{pmatrix} -\\sin(\\theta)-Dv^2 \\\\ -\\cos(\\theta)/v+v \\\\ v\\cos(\\theta) \\\\ v\\sin(\\theta) \\end{pmatrix}.\n",
      "\\end{align}\n",
      "\n",
      "using Euler's method. "
     ]
    },
    {
     "cell_type": "markdown",
     "metadata": {},
     "source": [
      "Take $D=0.2$ as the drag coefficient. Set the initial location of the glider to $\\left(x_0, y_0\\right) = (0, 1)$.\n",
      "\n",
      "By adjusting the initial velocity $v_0$ and angle $\\theta_0$, how far you can make the glider fly before it reaches the ground ($y=0$)?"
     ]
    },
    {
     "cell_type": "code",
     "collapsed": false,
     "input": [
      "D = 0.2    # drag coefficient\n",
      "\n",
      "### set initial conditions ###\n",
      "v0 = 1.0\n",
      "theta0 = 0.0  \n",
      "x0 = 0.0\n",
      "y0 = 1.0"
     ],
     "language": "python",
     "metadata": {},
     "outputs": [],
     "prompt_number": 3
    },
    {
     "cell_type": "markdown",
     "metadata": {},
     "source": [
      "Implement the right hand-side of the equation in the function `f()` pre-defined below:"
     ]
    },
    {
     "cell_type": "code",
     "collapsed": false,
     "input": [
      "def f(u):\n",
      "    \"\"\"Returns the right hand-side of the phugoid system of equations.\n",
      "    \n",
      "    Arguments\n",
      "    ---------\n",
      "    u -- array containing the solution at time n.\n",
      "    \"\"\"\n",
      "    ### to be implemented ###\n",
      "    v = u[0]\n",
      "    theta = u[1]\n",
      "    x = u[2]\n",
      "    y = u[3]\n",
      "    return np.array([-sin(theta) - D*v**2,\n",
      "                      -cos(theta)/v + v,\n",
      "                      v*cos(theta),\n",
      "                      v*sin(theta)])"
     ],
     "language": "python",
     "metadata": {},
     "outputs": [],
     "prompt_number": 4
    },
    {
     "cell_type": "markdown",
     "metadata": {},
     "source": [
      "Implement the Euler's method in the function `euler_step()` pre-defined below:"
     ]
    },
    {
     "cell_type": "code",
     "collapsed": false,
     "input": [
      "def euler_step(u, f, dt):\n",
      "    \"\"\"Returns the solution at the next time-step \n",
      "    using Euler's method.\n",
      "    \n",
      "    Arguments\n",
      "    ---------\n",
      "    u -- solution at the previous time-step.\n",
      "    f -- function to compute the right hand-side of the system of equation.\n",
      "    dt -- time-increment.\n",
      "    \"\"\"\n",
      "    ### to be implemented ###\n",
      "    return u + dt * f(u)"
     ],
     "language": "python",
     "metadata": {},
     "outputs": [],
     "prompt_number": 5
    },
    {
     "cell_type": "markdown",
     "metadata": {},
     "source": [
      "We choose $T=10$ to be the total time of the simulation, but you choose the time-increment $\\Delta t$. Then, we discretize the time using the `Numpy` function [`linspace()`](http://docs.scipy.org/doc/numpy/reference/generated/numpy.linspace.html). Our `Numpy` array `u` will contain the solution at every time-step of the velocity, angle and location of the glider. The first element of the array is set to be contain the initial conditions. In the `for`-loop call the function `euler_step()` that you implemented above to find the solution at time-step $n+1$.  "
     ]
    },
    {
     "cell_type": "code",
     "collapsed": false,
     "input": [
      "T = 10.0                         # final time\n",
      "dt = 0.1                             ### set time-increment\n",
      "N = int(T/dt)                    # number of time-steps\n",
      "t = np.linspace(0.0, T, N)       # time discretization\n",
      "\n",
      "# initialize the array containing the solution for each time-step\n",
      "u = np.empty((N, 4))\n",
      "u[0] = np.array([v0, theta0, x0, y0])    # fill 1st element with initial conditions\n",
      "\n",
      "# time loop - Euler method\n",
      "for n in range(N-1):\n",
      "    ### to be implemented ###\n",
      "    u[n+1] = euler_step(u[n], f, dt)"
     ],
     "language": "python",
     "metadata": {},
     "outputs": [],
     "prompt_number": 6
    },
    {
     "cell_type": "markdown",
     "metadata": {},
     "source": [
      "The numerical solution `u` contains the velocity, the angle and the location at every time. In order to plot the path of the glider, we are interested in getting the location (`x`, `y`) through the time:"
     ]
    },
    {
     "cell_type": "code",
     "collapsed": false,
     "input": [
      "# get the location through the time\n",
      "x = u[:,2]\n",
      "y = u[:,3]"
     ],
     "language": "python",
     "metadata": {},
     "outputs": [],
     "prompt_number": 7
    },
    {
     "cell_type": "markdown",
     "metadata": {},
     "source": [
      "Moreover it makes physically sense to plot the path until the glider reaches the ground. It will also give us the distance travelled by the glider. To do that we use the `Numpy` function [`where()`](http://docs.scipy.org/doc/numpy/reference/generated/numpy.where.html) to find the index of element of array `y` where the altitude of the glider becomes negative."
     ]
    },
    {
     "cell_type": "code",
     "collapsed": false,
     "input": [
      "# get the index in array just before touching ground\n",
      "idx_ground = np.where(y<0.0)[0][0]"
     ],
     "language": "python",
     "metadata": {},
     "outputs": [],
     "prompt_number": 8
    },
    {
     "cell_type": "markdown",
     "metadata": {},
     "source": [
      "Time to plot the path of the glider and get the distance travelled!"
     ]
    },
    {
     "cell_type": "code",
     "collapsed": false,
     "input": [
      "# visualization of the path\n",
      "plt.figure(figsize=(6,6))\n",
      "plt.grid(True)\n",
      "plt.xlabel(r'x', fontsize=18)\n",
      "plt.ylabel(r'y', fontsize=18)\n",
      "plt.plot(x[:idx_ground], y[:idx_ground], color='b', ls='-', lw=2)\n",
      "plt.axhline(0.0, color='k', ls='--', lw=2)\n",
      "plt.title('distance traveled: %.3f' % x[idx_ground-1], fontsize=18)\n",
      "plt.axis('equal');"
     ],
     "language": "python",
     "metadata": {},
     "outputs": [
      {
       "metadata": {},
       "output_type": "display_data",
       "png": "[encoded data removed]",
       "text": [
        "<matplotlib.figure.Figure at 0x1062c0850>"
       ]
      }
     ],
     "prompt_number": 9
    },
    {
     "cell_type": "heading",
     "level": 2,
     "metadata": {},
     "source": [
      "Self-convergence"
     ]
    },
    {
     "cell_type": "markdown",
     "metadata": {},
     "source": [
      "Let's study the convergence of Euler's method for the phugoid model.  When we studied the linearized pendulum, we examined convergence by comparing the numerical solution with the exact solution.  When no exact solution is available, it is common to study **self-convergence** of a sequence of numerical solutions.  In this approach, we use a numerical solution computed on a very fine grid in place of an exact solution.  Self-convergence by itself doesn't tell us that the numerical solution is converging to the right answer, only that it is converging to some answer."
     ]
    },
    {
     "cell_type": "heading",
     "level": 5,
     "metadata": {},
     "source": [
      "Exercise"
     ]
    },
    {
     "cell_type": "markdown",
     "metadata": {},
     "source": [
      "Let's make a convergence plot to check how quickly the error tend to zero with Euler's method.\n",
      "\n",
      "We are going to write a loop that solves the phugoid model on a sequence of grids with different numbers of grid points, as well as one fine grid that has many more points. "
     ]
    },
    {
     "cell_type": "markdown",
     "metadata": {},
     "source": [
      "We create an `Numpy` array `dt_values` that contains the  time-increment of each grid to be solved. For each element `dt_values[i]` we compute the solution `u_values[i]` of the glider model using Euler's method. In the cell below, discretize the time using `Numpy` function `arange()` and call the function `euler_step()` to solve the solution at the next time-step."
     ]
    },
    {
     "cell_type": "code",
     "collapsed": false,
     "input": [
      "dt_values = np.array([0.1, 0.05, 0.01, 0.005, 0.001])\n",
      "\n",
      "u_values = np.empty_like(dt_values, dtype=np.ndarray)\n",
      "\n",
      "for i, dt in enumerate(dt_values):\n",
      "    \n",
      "    N = int(T/dt)    # number of time-steps\n",
      "    \n",
      "    ### discretize the time t ###\n",
      "    t = np.linspace(0.0, T, N)\n",
      "    \n",
      "    # initialize the array containing the solution for each time-step\n",
      "    u = np.empty((N, 4))\n",
      "    u[0] = np.array([v0, theta0, x0, y0])\n",
      "\n",
      "    # time loop\n",
      "    for n in range(N-1):\n",
      "        ### call euler_step() ###\n",
      "        u[n+1] = euler_step(u[n], f, dt)\n",
      "    \n",
      "    # store the value of u related to one grid\n",
      "    u_values[i] = u"
     ],
     "language": "python",
     "metadata": {},
     "outputs": [],
     "prompt_number": 10
    },
    {
     "cell_type": "markdown",
     "metadata": {},
     "source": [
      "For each solution, we are going to compute the error made, relative to the finest grid. To do that, implement the error between one solution `u_current` and the solution of the finest grid `u_finest`, using the $L_1$-norm, in the function `get_error()` pre-defined below. *Hint*: why not using the `Numpy` functions [`abs()`](http://docs.scipy.org/doc/numpy/reference/generated/numpy.absolute.html) and [`sum()`](http://docs.scipy.org/doc/numpy/reference/generated/numpy.sum.html)?"
     ]
    },
    {
     "cell_type": "code",
     "collapsed": false,
     "input": [
      "def get_error(u_current, u_fine, dt):\n",
      "    \"\"\"Returns the difference between one grid and the fine one using L-1 norm.\n",
      "    \n",
      "    Arguments\n",
      "    ---------\n",
      "    u_current -- solution on the current grid.\n",
      "    u_finest -- solution on the fine grid.\n",
      "    dt - time-increment on the current grid.\n",
      "    \"\"\"\n",
      "    ### to be implemented ###\n",
      "    N_current = len(u_current[:,0])\n",
      "    N_fine = len(u_fine[:,0])\n",
      "    return dt * np.sum(np.abs(u_current[:,2]-u_fine[::N_fine/N_current,2]))"
     ],
     "language": "python",
     "metadata": {},
     "outputs": [],
     "prompt_number": 11
    },
    {
     "cell_type": "markdown",
     "metadata": {},
     "source": [
      "Now that the function has been implemented, let compute the error for each solution, relative to the fine grid solution. Call the function `get_error()` in the next cell."
     ]
    },
    {
     "cell_type": "code",
     "collapsed": false,
     "input": [
      "# compute error between one grid and the finest one\n",
      "error = np.empty_like(dt_values)\n",
      "for i, dt in enumerate(dt_values):\n",
      "    print 'dt = %f' % dt\n",
      "    ### call the function get_error() ###\n",
      "    error[i] = get_error(u_values[i], u_values[-1], dt)"
     ],
     "language": "python",
     "metadata": {},
     "outputs": [
      {
       "output_type": "stream",
       "stream": "stdout",
       "text": [
        "dt = 0.100000\n",
        "dt = 0.050000\n",
        "dt = 0.010000\n",
        "dt = 0.005000\n",
        "dt = 0.001000\n"
       ]
      }
     ],
     "prompt_number": 12
    },
    {
     "cell_type": "markdown",
     "metadata": {},
     "source": [
      "Time to visualize the self-convergence of Euler's method on the glider equation in a *log-log* plot, using the `matplotlib` function [`loglog()`](http://matplotlib.org/api/pyplot_api.html?highlight=loglog#matplotlib.pyplot.loglog)! Since the error of the fine grid, relative to the fine grid is obviously zero, we skip that value in the *log-log* figure. How quickly does the error tend to zero?"
     ]
    },
    {
     "cell_type": "code",
     "collapsed": false,
     "input": [
      "# log-log plot of the error\n",
      "plt.figure(figsize=(6,6))\n",
      "plt.grid(True)\n",
      "plt.xlabel(r'$\\Delta t$', fontsize=18)\n",
      "plt.ylabel(r'Error $L_1$-norm', fontsize=18)\n",
      "plt.axis('equal')\n",
      "plt.loglog(dt_values[:-1], error[:-1], color='b', ls='-', lw=2, marker='o');"
     ],
     "language": "python",
     "metadata": {},
     "outputs": [
      {
       "metadata": {},
       "output_type": "display_data",
       "png": "[encoded data removed]",
       "text": [
        "<matplotlib.figure.Figure at 0x10657d890>"
       ]
      }
     ],
     "prompt_number": 13
    },
    {
     "cell_type": "heading",
     "level": 3,
     "metadata": {},
     "source": [
      "Order of convergence"
     ]
    },
    {
     "cell_type": "code",
     "collapsed": false,
     "input": [
      "r = 2\n",
      "h = 0.001\n",
      "\n",
      "dt_values = np.array([h, r*h, r**2*h])\n",
      "\n",
      "u_values = np.empty_like(dt_values, dtype=np.ndarray)\n",
      "\n",
      "for i, dt in enumerate(dt_values):\n",
      "    \n",
      "    N = int(T/dt)    # number of time-steps\n",
      "    \n",
      "    ### discretize the time t ###\n",
      "    t = np.linspace(0.0, T, N)\n",
      "    \n",
      "    # initialize the array containing the solution for each time-step\n",
      "    u = np.empty((N, 4))\n",
      "    u[0] = np.array([v0, theta0, x0, y0])\n",
      "\n",
      "    # time loop\n",
      "    for n in range(N-1):\n",
      "        ### call euler_step() ###\n",
      "        u[n+1] = euler_step(u[n], f, dt)\n",
      "    \n",
      "    # store the value of u related to one grid\n",
      "    u_values[i] = u\n",
      "    \n",
      "# calculate the order of convergence\n",
      "alpha = (log(get_error(u_values[2], u_values[1], dt_values[2])) \n",
      "         - log(get_error(u_values[1], u_values[0], dt_values[1]))) / log(r)\n",
      "\n",
      "print 'The order of convergence is alpha = %.3f' % alpha "
     ],
     "language": "python",
     "metadata": {},
     "outputs": [
      {
       "output_type": "stream",
       "stream": "stdout",
       "text": [
        "The order of convergence is alpha = 1.009\n"
       ]
      }
     ],
     "prompt_number": 14
    },
    {
     "cell_type": "heading",
     "level": 2,
     "metadata": {},
     "source": [
      "Second-order methods"
     ]
    },
    {
     "cell_type": "markdown",
     "metadata": {},
     "source": [
      "As you've seen, the global error in the solution obtained by Euler's method decreases only linearly as the grid is refined; i.e.\n",
      "\n",
      "$$ E \\propto \\dt.$$\n",
      "\n",
      "In general, we say a method is *accurate to order $p$* if the global error is proportional to $(\\dt)^p$.  Let's look at some higher-order methods."
     ]
    },
    {
     "cell_type": "heading",
     "level": 3,
     "metadata": {},
     "source": [
      "Runge-Kutta methods"
     ]
    },
    {
     "cell_type": "markdown",
     "metadata": {},
     "source": [
      "The class of *Runge-Kutta methods* achieves higher order by using multiple evaluations of $f$ in each step.  A second order method is given by:\n",
      "\n",
      "\\begin{align}\n",
      "U_*     & = U_n + \\frac{1}{2}\\dt f(U_n) \\\\\n",
      "U_{n+1} & = U_n + \\dt f(U_*).\n",
      "\\end{align}\n",
      "\n",
      "This particular method is known as the **explicit midpoint method**, because we first approximate the value of $U$ at the midpoint, and then use that value to approximate the derivative over the whole step.  It's also known as the **modified Euler method**."
     ]
    },
    {
     "cell_type": "heading",
     "level": 5,
     "metadata": {},
     "source": [
      "Exercise"
     ]
    },
    {
     "cell_type": "markdown",
     "metadata": {},
     "source": [
      "Like we have done in the previous section, we are going to plot the path of the glider, calculate the distance travelled before touching the ground using the $2^\\text{nd}$-order Runge-Kutta method. In the cell below, implement the method in the function `rk2_setp()` to compute the solution at the next time-step."
     ]
    },
    {
     "cell_type": "code",
     "collapsed": false,
     "input": [
      "def rk2_step(u, f, dt):\n",
      "    \"\"\"Returns the solution at the next time-step \n",
      "    using 2nd-order Runge-Kutta method.\n",
      "    \n",
      "    Arguments\n",
      "    ---------\n",
      "    u -- solution at the previous time-step.\n",
      "    f -- function to compute the right hand-side of the system of equation.\n",
      "    dt -- time-increment.\n",
      "    \"\"\"\n",
      "    ### to be implemented ###\n",
      "    u_star = u + 0.5*dt*f(u)\n",
      "    return u + dt*f(u_star)"
     ],
     "language": "python",
     "metadata": {},
     "outputs": [],
     "prompt_number": 15
    },
    {
     "cell_type": "markdown",
     "metadata": {},
     "source": [
      "To solve the system of equations with the new method, write a code in the cell below in a similar way that what has be done for Euler's method. Make sure to discretize the time, initialize the solution with the initial conditions and call the right method in the time-loop.\n",
      "\n",
      "Then, compute the index of the element where the altitude of the glider becomes negative and plot the path.\n",
      "\n",
      "How far can the glider fly before touching the ground? Using the same parameters (time-increment and initial conditions), do the Euler and Runge-Kutta methods give the exact same answer?"
     ]
    },
    {
     "cell_type": "code",
     "collapsed": false,
     "input": [
      "# set time-increment and discretize the time\n",
      "\n",
      "# set initial conditions\n",
      "\n",
      "# initialize the array containing the solution for each time-step\n",
      "\n",
      "# use a for loop to call the function rk2_step()\n",
      "    \n",
      "# get the glider position in time\n",
      "\n",
      "# get the index of element of y where altitude becomes negative\n",
      "\n",
      "# plot the glider path"
     ],
     "language": "python",
     "metadata": {},
     "outputs": [],
     "prompt_number": 16
    },
    {
     "cell_type": "markdown",
     "metadata": {},
     "source": [
      "To check the rate of convergence, implement a `for`-loop in the cell below, to compute the solution on grid with different numbers of points. Also compute the solution on a very fine grid."
     ]
    },
    {
     "cell_type": "code",
     "collapsed": false,
     "input": [
      "# use a for-loop to compute the solution on different grids"
     ],
     "language": "python",
     "metadata": {},
     "outputs": [],
     "prompt_number": 17
    },
    {
     "cell_type": "markdown",
     "metadata": {},
     "source": [
      "For each solution compute the error on one grid, relative to the fine one, using the function we have implemented above `get_error()`. Finally plot the error as a function of the time-increment in a *log-log* plot."
     ]
    },
    {
     "cell_type": "code",
     "collapsed": false,
     "input": [
      "# compute the error\n",
      "\n",
      "# plot using the matplotlib function loglog()"
     ],
     "language": "python",
     "metadata": {},
     "outputs": [],
     "prompt_number": 18
    },
    {
     "cell_type": "heading",
     "level": 3,
     "metadata": {},
     "source": [
      "Multistep methods"
     ]
    },
    {
     "cell_type": "markdown",
     "metadata": {},
     "source": [
      "Another way to achieve second order is to use a more accurate approximation of the derivative by involving multiple previous solution values.  For instance, we can approximate the derivative with a centered difference:\n",
      "\n",
      "$$ U'(t) \\approx \\frac{U_{n+1} - U_{n-1}}{2\\dt}.$$\n",
      "\n",
      "This leads to the method\n",
      "\n",
      "$$ U_{n+1} = U_{n-1} + 2\\dt f(U_n),$$\n",
      "\n",
      "which is sometimes called the **leapfrog method** because it \"leaps\" from $U_{n-1}$ to $U_{n+1}$.  The one-sided approximation used in Euler's method has a local truncation error of ${\\mathcal O}(\\dt^2)$, whereas the error in this approximation is ${\\mathcal O}(\\dt^3)$."
     ]
    },
    {
     "cell_type": "heading",
     "level": 5,
     "metadata": {},
     "source": [
      "Exercise"
     ]
    },
    {
     "cell_type": "markdown",
     "metadata": {},
     "source": [
      "In your notebook, implement the leapfrog method for the glider and check the rate of self-convergence in a similar way that what have been done for Euler's method and $2^\\text{nd}$-order Runge-Kutta method.\n",
      "\n",
      "Hint: for the first time-step, since the leapfrog method requires the solution a time-step $n-1$, use either Euler or Runge-Kutta methods."
     ]
    },
    {
     "cell_type": "code",
     "collapsed": false,
     "input": [
      "def leapfrog_step(unm1, u, f, dt):\n",
      "    \"\"\"Returns the solution time-step n+1) \n",
      "    using Euler's method.\n",
      "    \n",
      "    Arguments\n",
      "    ---------\n",
      "    unm1 -- solution at time-step n-1.\n",
      "    u -- solution at time-step n.\n",
      "    f -- function to compute the right hand-side of the system of equation.\n",
      "    dt -- time-increment.\n",
      "    \"\"\"\n",
      "    ### to be implemented ###\n",
      "    return unm1 + 2.0*dt*f(u)"
     ],
     "language": "python",
     "metadata": {},
     "outputs": [],
     "prompt_number": 19
    },
    {
     "cell_type": "code",
     "collapsed": false,
     "input": [
      "# compute the path of the glider"
     ],
     "language": "python",
     "metadata": {},
     "outputs": [],
     "prompt_number": 20
    },
    {
     "cell_type": "code",
     "collapsed": false,
     "input": [
      "# check the rate of convergence in a log-log plot"
     ],
     "language": "python",
     "metadata": {},
     "outputs": [],
     "prompt_number": 21
    }
   ],
   "metadata": {}
  }
 ]
}